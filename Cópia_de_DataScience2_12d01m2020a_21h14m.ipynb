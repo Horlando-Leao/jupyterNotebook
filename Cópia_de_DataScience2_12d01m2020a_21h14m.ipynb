{
  "nbformat": 4,
  "nbformat_minor": 0,
  "metadata": {
    "colab": {
      "name": "Cópia de DataScience2.ipynb",
      "provenance": [],
      "collapsed_sections": [],
      "toc_visible": true,
      "include_colab_link": true
    },
    "kernelspec": {
      "display_name": "Python 3",
      "name": "python3"
    }
  },
  "cells": [
    {
      "cell_type": "markdown",
      "metadata": {
        "id": "view-in-github",
        "colab_type": "text"
      },
      "source": [
        "<a href=\"https://colab.research.google.com/github/Horlando-Leao/jupyterNotebook/blob/main/C%C3%B3pia_de_DataScience2_12d01m2020a_21h14m.ipynb\" target=\"_parent\"><img src=\"https://colab.research.google.com/assets/colab-badge.svg\" alt=\"Open In Colab\"/></a>"
      ]
    },
    {
      "cell_type": "markdown",
      "metadata": {
        "id": "SD2yapzx3dy6"
      },
      "source": [
        "# MODELO DE PREDIÇÃO DE CRIME DE ROUBO OU FURTO CONSIDERANDO DETERMINADOS PADRÕES\r\n",
        "*O presente modelo tem como base o dataset publicado no Kaggle (https://www.kaggle.com/inquisitivecrow/crime-data-in-brazil) que contém uma coletânea de registros de boletins de ocorrência do estado de São Paulo no período de 2007 a 2016, oriundos do Sistema de Registro Digital de Ocorrências (R.D.O. em www.ssp.sp.gov.br). Os dados foram distribuídos em 21 tabelas, sendo alvo deste estudo apenas a tabela BO_2014_1 referente ao primeiro semestre do ano de 2014. A tabela original continha 954.113 registros de BO's, entretanto, apenas os 10.000 primeiros foram utilizados por motivos de desempenho computacional e por se tratar de um trabalho acadêmico. Os padrões observados para este modelo foram o horário da ocorrência, identificação da delegacia, cidade, idade da pessoa, meio de transporte (aqui chamado de 'conduta'), sexo e profissão, que já constam no dataset e foram considerados relevantes para a classificação.*\r\n",
        "\r\n",
        "**Equipe**: \r\n",
        "\r\n",
        "Débora Caldas, Renan Urbano, Matheus Guerra, Horlando Leão, Héber Teófilo, Pablo Danillo, Rodrigo Vilemen."
      ]
    },
    {
      "cell_type": "markdown",
      "metadata": {
        "id": "MHBIWHQh5v99"
      },
      "source": [
        "**Siglas e termos:**\r\n",
        "\r\n",
        "*DECAP = Departamento de Polícia Judiciária da Capital;\r\n",
        "\r\n",
        "Descrição das colunas\r\n",
        "* NUM_BO - Identificação numérica do BO,\r\n",
        "* ANO_BO - Ano de registro do BO,\r\n",
        "* ID_DELEGACIA - Identificação numérica da delegacia,\r\n",
        "* NOME_DEPARTAMENTO,\r\n",
        "* NOME_SECCIONAL,\r\n",
        "* DELEGACIA - Nome da delegacia,\r\n",
        "* NOME_DEPARTAMENTO_CIRC,\r\n",
        "* NOME_SECCIONAL_CIRC,\r\n",
        "* NOME_DELEGACIA_CIRC,\r\n",
        "* ANO - Ano da ocorrência,\r\n",
        "* MES - Mês da ocorrência,\r\n",
        "* DATA_OCORRENCIA_BO - Data da ocorrência,\r\n",
        "* HORA_OCORRENCIA_BO - Hora da ocorrência,\r\n",
        "* FLAG_STATUS - Status da ocorrência,\r\n",
        "* RUBRICA - Natureza jurídica da ocorrência especificada pelo tipo de crime,\r\n",
        "* DESDOBRAMENTO - Detalhamento,\r\n",
        "* CONDUTA - Transporte, condução,\r\n",
        "* LATITUDE - Coordenadas da ocorrência,\r\n",
        "* LONGITUDE - Coordenadas da ocorrência,\r\n",
        "* CIDADE - Localização da ocorrência,\r\n",
        "* LOGRADOURO - Localização da ocorrência,\r\n",
        "* NUMERO_LOGRADOURO - Localização da ocorrência,\r\n",
        "* FLAG_STATUS.1 - Status da ocorrência,\r\n",
        "* DESCR_TIPO_PESSOA - Qualificação da pessoa envolvida na ocorrência,\r\n",
        "* CONT_PESSOA - Contagem de pessoas envolvidas na ocorrência,\r\n",
        "* SEXO_PESSOA - Sexo da pessoa envolvida,\r\n",
        "* IDADE_PESSOA - Idade da pessoa envolvida,\r\n",
        "* COR - Cor da pele da pessoa envolvida,\r\n",
        "* DESCR_PROFISSAO - Descrição da profissão da pessoa envolvida,\r\n",
        "* DESCR_GRAU_INSTRUCAO - Descrição do grau de instrução da pessoa envolvida,\r\n"
      ]
    },
    {
      "cell_type": "markdown",
      "metadata": {
        "id": "i_AMA8MW2TgE"
      },
      "source": [
        "#**1. Imports e upload**"
      ]
    },
    {
      "cell_type": "markdown",
      "metadata": {
        "id": "ZbvbC89U_ALA"
      },
      "source": [
        "*Importando bibliotecas necessárias:*"
      ]
    },
    {
      "cell_type": "code",
      "metadata": {
        "id": "6ajaPsiOufgm"
      },
      "source": [
        "import numpy as np\n",
        "import pandas as pd\n",
        "import matplotlib.pyplot as plt\n",
        "%matplotlib inline\n",
        "import seaborn as sns\n",
        "from sklearn import preprocessing\n",
        "from sklearn.metrics import accuracy_score\n",
        "from sklearn.model_selection import train_test_split\n",
        "from sklearn.tree import DecisionTreeClassifier"
      ],
      "execution_count": 1,
      "outputs": []
    },
    {
      "cell_type": "markdown",
      "metadata": {
        "id": "gTTHgKOj_Ei2"
      },
      "source": [
        "*Carregando o arquivo csv do GitHub:*"
      ]
    },
    {
      "cell_type": "code",
      "metadata": {
        "id": "QmE7KtmleOdV"
      },
      "source": [
        "url = 'https://raw.githubusercontent.com/debora28/pi-2020.2/main/2014-1-10mil.csv'\r\n",
        "data = pd.read_csv(url)"
      ],
      "execution_count": 2,
      "outputs": []
    },
    {
      "cell_type": "markdown",
      "metadata": {
        "id": "Bdi65vns4GYs"
      },
      "source": [
        "#**2. Conhecendo os dados**"
      ]
    },
    {
      "cell_type": "markdown",
      "metadata": {
        "id": "2wIUOG4B1MhE"
      },
      "source": [
        "\r\n",
        "*Visão geral da tabela:*\r\n",
        "\r\n"
      ]
    },
    {
      "cell_type": "markdown",
      "metadata": {
        "id": "qGwbEVl5L7IR"
      },
      "source": [
        "*É formada por 31 colunas, das quais a maior parte é composta por dados qualitativos, organizados como objetos do tipo String:*"
      ]
    },
    {
      "cell_type": "code",
      "metadata": {
        "colab": {
          "base_uri": "https://localhost:8080/"
        },
        "id": "b437dX-ViihY",
        "outputId": "dda940fd-304d-4206-8adb-e8d8b29007e3"
      },
      "source": [
        "data.info()"
      ],
      "execution_count": 3,
      "outputs": [
        {
          "output_type": "stream",
          "text": [
            "<class 'pandas.core.frame.DataFrame'>\n",
            "RangeIndex: 10000 entries, 0 to 9999\n",
            "Data columns (total 31 columns):\n",
            " #   Column                  Non-Null Count  Dtype  \n",
            "---  ------                  --------------  -----  \n",
            " 0   Unnamed: 0              10000 non-null  int64  \n",
            " 1   NUM_BO                  10000 non-null  int64  \n",
            " 2   ANO_BO                  10000 non-null  int64  \n",
            " 3   ID_DELEGACIA            10000 non-null  int64  \n",
            " 4   NOME_DEPARTAMENTO       10000 non-null  object \n",
            " 5   NOME_SECCIONAL          10000 non-null  object \n",
            " 6   DELEGACIA               10000 non-null  object \n",
            " 7   NOME_DEPARTAMENTO_CIRC  10000 non-null  object \n",
            " 8   NOME_SECCIONAL_CIRC     10000 non-null  object \n",
            " 9   NOME_DELEGACIA_CIRC     10000 non-null  object \n",
            " 10  ANO                     10000 non-null  int64  \n",
            " 11  MES                     10000 non-null  int64  \n",
            " 12  DATA_OCORRENCIA_BO      9913 non-null   object \n",
            " 13  HORA_OCORRENCIA_BO      8960 non-null   object \n",
            " 14  FLAG_STATUS             10000 non-null  object \n",
            " 15  RUBRICA                 10000 non-null  object \n",
            " 16  DESDOBRAMENTO           649 non-null    object \n",
            " 17  CONDUTA                 5165 non-null   object \n",
            " 18  LATITUDE                8407 non-null   object \n",
            " 19  LONGITUDE               8407 non-null   object \n",
            " 20  CIDADE                  10000 non-null  object \n",
            " 21  LOGRADOURO              9571 non-null   object \n",
            " 22  NUMERO_LOGRADOURO       7533 non-null   float64\n",
            " 23  FLAG_STATUS.1           10000 non-null  object \n",
            " 24  DESCR_TIPO_PESSOA       10000 non-null  object \n",
            " 25  CONT_PESSOA             10000 non-null  int64  \n",
            " 26  SEXO_PESSOA             10000 non-null  object \n",
            " 27  IDADE_PESSOA            8098 non-null   float64\n",
            " 28  COR                     7628 non-null   object \n",
            " 29  DESCR_PROFISSAO         6998 non-null   object \n",
            " 30  DESCR_GRAU_INSTRUCAO    7168 non-null   object \n",
            "dtypes: float64(2), int64(7), object(22)\n",
            "memory usage: 2.4+ MB\n"
          ],
          "name": "stdout"
        }
      ]
    },
    {
      "cell_type": "markdown",
      "metadata": {
        "id": "hEQpAtjLkqeR"
      },
      "source": [
        "*Verificamos que as colunas Unnamed: 0 (um índice numérico sem lógica sequencial), Nome_Departamento, Nome_Seccional, Delegacia, Nome_Departamento_Circ, Nome_Seccional_Circ, Nome_Delegacia_Circ, Flag_Status, Desdobramento, Numero_Logradouro, Flag_Status.1 não seriam relevantes nesse contexto, portanto foram removidas:*"
      ]
    },
    {
      "cell_type": "code",
      "metadata": {
        "colab": {
          "base_uri": "https://localhost:8080/",
          "height": 317
        },
        "id": "DG4FNXvF-it_",
        "outputId": "4e46db9b-fc0b-4e1f-d11e-fe87ee9051c4"
      },
      "source": [
        "data.head()"
      ],
      "execution_count": 4,
      "outputs": [
        {
          "output_type": "execute_result",
          "data": {
            "text/html": [
              "<div>\n",
              "<style scoped>\n",
              "    .dataframe tbody tr th:only-of-type {\n",
              "        vertical-align: middle;\n",
              "    }\n",
              "\n",
              "    .dataframe tbody tr th {\n",
              "        vertical-align: top;\n",
              "    }\n",
              "\n",
              "    .dataframe thead th {\n",
              "        text-align: right;\n",
              "    }\n",
              "</style>\n",
              "<table border=\"1\" class=\"dataframe\">\n",
              "  <thead>\n",
              "    <tr style=\"text-align: right;\">\n",
              "      <th></th>\n",
              "      <th>Unnamed: 0</th>\n",
              "      <th>NUM_BO</th>\n",
              "      <th>ANO_BO</th>\n",
              "      <th>ID_DELEGACIA</th>\n",
              "      <th>NOME_DEPARTAMENTO</th>\n",
              "      <th>NOME_SECCIONAL</th>\n",
              "      <th>DELEGACIA</th>\n",
              "      <th>NOME_DEPARTAMENTO_CIRC</th>\n",
              "      <th>NOME_SECCIONAL_CIRC</th>\n",
              "      <th>NOME_DELEGACIA_CIRC</th>\n",
              "      <th>ANO</th>\n",
              "      <th>MES</th>\n",
              "      <th>DATA_OCORRENCIA_BO</th>\n",
              "      <th>HORA_OCORRENCIA_BO</th>\n",
              "      <th>FLAG_STATUS</th>\n",
              "      <th>RUBRICA</th>\n",
              "      <th>DESDOBRAMENTO</th>\n",
              "      <th>CONDUTA</th>\n",
              "      <th>LATITUDE</th>\n",
              "      <th>LONGITUDE</th>\n",
              "      <th>CIDADE</th>\n",
              "      <th>LOGRADOURO</th>\n",
              "      <th>NUMERO_LOGRADOURO</th>\n",
              "      <th>FLAG_STATUS.1</th>\n",
              "      <th>DESCR_TIPO_PESSOA</th>\n",
              "      <th>CONT_PESSOA</th>\n",
              "      <th>SEXO_PESSOA</th>\n",
              "      <th>IDADE_PESSOA</th>\n",
              "      <th>COR</th>\n",
              "      <th>DESCR_PROFISSAO</th>\n",
              "      <th>DESCR_GRAU_INSTRUCAO</th>\n",
              "    </tr>\n",
              "  </thead>\n",
              "  <tbody>\n",
              "    <tr>\n",
              "      <th>0</th>\n",
              "      <td>243</td>\n",
              "      <td>2</td>\n",
              "      <td>2014</td>\n",
              "      <td>280401</td>\n",
              "      <td>DEMACRO</td>\n",
              "      <td>DEL.SEC.CARAPICUIBA</td>\n",
              "      <td>DISE- DEL.SEC.CARAPICUIBA</td>\n",
              "      <td>DEMACRO</td>\n",
              "      <td>DEL.SEC.CARAPICUIBA</td>\n",
              "      <td>01 D.P. BARUERI</td>\n",
              "      <td>2014</td>\n",
              "      <td>2</td>\n",
              "      <td>26/02/2014</td>\n",
              "      <td>17:00</td>\n",
              "      <td>C</td>\n",
              "      <td>Drogas</td>\n",
              "      <td>NaN</td>\n",
              "      <td>NaN</td>\n",
              "      <td>NaN</td>\n",
              "      <td>NaN</td>\n",
              "      <td>BARUERI</td>\n",
              "      <td>R MARIA HELENA</td>\n",
              "      <td>NaN</td>\n",
              "      <td>C</td>\n",
              "      <td>Curador</td>\n",
              "      <td>7</td>\n",
              "      <td>F</td>\n",
              "      <td>51.0</td>\n",
              "      <td>Parda</td>\n",
              "      <td>AUXILIAR DE LIMPEZA</td>\n",
              "      <td>NaN</td>\n",
              "    </tr>\n",
              "    <tr>\n",
              "      <th>1</th>\n",
              "      <td>244</td>\n",
              "      <td>2</td>\n",
              "      <td>2014</td>\n",
              "      <td>280401</td>\n",
              "      <td>DEMACRO</td>\n",
              "      <td>DEL.SEC.CARAPICUIBA</td>\n",
              "      <td>DISE- DEL.SEC.CARAPICUIBA</td>\n",
              "      <td>DEMACRO</td>\n",
              "      <td>DEL.SEC.CARAPICUIBA</td>\n",
              "      <td>01 D.P. BARUERI</td>\n",
              "      <td>2014</td>\n",
              "      <td>2</td>\n",
              "      <td>26/02/2014</td>\n",
              "      <td>17:00</td>\n",
              "      <td>C</td>\n",
              "      <td>Drogas</td>\n",
              "      <td>NaN</td>\n",
              "      <td>NaN</td>\n",
              "      <td>NaN</td>\n",
              "      <td>NaN</td>\n",
              "      <td>BARUERI</td>\n",
              "      <td>R MARIA HELENA</td>\n",
              "      <td>NaN</td>\n",
              "      <td>C</td>\n",
              "      <td>Indiciado</td>\n",
              "      <td>4</td>\n",
              "      <td>M</td>\n",
              "      <td>19.0</td>\n",
              "      <td>Parda</td>\n",
              "      <td>DESEMPREGADO</td>\n",
              "      <td>1 Grau completo</td>\n",
              "    </tr>\n",
              "    <tr>\n",
              "      <th>2</th>\n",
              "      <td>245</td>\n",
              "      <td>2</td>\n",
              "      <td>2014</td>\n",
              "      <td>280401</td>\n",
              "      <td>DEMACRO</td>\n",
              "      <td>DEL.SEC.CARAPICUIBA</td>\n",
              "      <td>DISE- DEL.SEC.CARAPICUIBA</td>\n",
              "      <td>DEMACRO</td>\n",
              "      <td>DEL.SEC.CARAPICUIBA</td>\n",
              "      <td>01 D.P. BARUERI</td>\n",
              "      <td>2014</td>\n",
              "      <td>2</td>\n",
              "      <td>26/02/2014</td>\n",
              "      <td>17:00</td>\n",
              "      <td>C</td>\n",
              "      <td>Drogas</td>\n",
              "      <td>NaN</td>\n",
              "      <td>NaN</td>\n",
              "      <td>NaN</td>\n",
              "      <td>NaN</td>\n",
              "      <td>BARUERI</td>\n",
              "      <td>R MARIA HELENA</td>\n",
              "      <td>NaN</td>\n",
              "      <td>C</td>\n",
              "      <td>Testemunha</td>\n",
              "      <td>2</td>\n",
              "      <td>M</td>\n",
              "      <td>38.0</td>\n",
              "      <td>NaN</td>\n",
              "      <td>INVESTIGADOR(A)</td>\n",
              "      <td>Superior completo</td>\n",
              "    </tr>\n",
              "    <tr>\n",
              "      <th>3</th>\n",
              "      <td>246</td>\n",
              "      <td>2</td>\n",
              "      <td>2014</td>\n",
              "      <td>280401</td>\n",
              "      <td>DEMACRO</td>\n",
              "      <td>DEL.SEC.CARAPICUIBA</td>\n",
              "      <td>DISE- DEL.SEC.CARAPICUIBA</td>\n",
              "      <td>DEMACRO</td>\n",
              "      <td>DEL.SEC.CARAPICUIBA</td>\n",
              "      <td>01 D.P. BARUERI</td>\n",
              "      <td>2014</td>\n",
              "      <td>2</td>\n",
              "      <td>26/02/2014</td>\n",
              "      <td>17:00</td>\n",
              "      <td>C</td>\n",
              "      <td>Drogas</td>\n",
              "      <td>NaN</td>\n",
              "      <td>NaN</td>\n",
              "      <td>NaN</td>\n",
              "      <td>NaN</td>\n",
              "      <td>BARUERI</td>\n",
              "      <td>R MARIA HELENA</td>\n",
              "      <td>NaN</td>\n",
              "      <td>C</td>\n",
              "      <td>Testemunha</td>\n",
              "      <td>6</td>\n",
              "      <td>M</td>\n",
              "      <td>23.0</td>\n",
              "      <td>Parda</td>\n",
              "      <td>DESEMPREGADO</td>\n",
              "      <td>2 Grau completo</td>\n",
              "    </tr>\n",
              "    <tr>\n",
              "      <th>4</th>\n",
              "      <td>270</td>\n",
              "      <td>3</td>\n",
              "      <td>2014</td>\n",
              "      <td>30314</td>\n",
              "      <td>DEMACRO</td>\n",
              "      <td>DEL.SEC.MOGI DAS CRUZES</td>\n",
              "      <td>DISE- DEL.SEC.MOGI DAS CRUZES</td>\n",
              "      <td>DEMACRO</td>\n",
              "      <td>DEL.SEC.MOGI DAS CRUZES</td>\n",
              "      <td>DEL.POL.ITAQUAQUECETUBA</td>\n",
              "      <td>2014</td>\n",
              "      <td>1</td>\n",
              "      <td>14/01/2014</td>\n",
              "      <td>17:00</td>\n",
              "      <td>C</td>\n",
              "      <td>Drogas</td>\n",
              "      <td>NaN</td>\n",
              "      <td>NaN</td>\n",
              "      <td>-2.348.960.369</td>\n",
              "      <td>-4.637.155.072</td>\n",
              "      <td>ITAQUAQUECETUBA</td>\n",
              "      <td>R UBATUBA</td>\n",
              "      <td>162.0</td>\n",
              "      <td>C</td>\n",
              "      <td>Testemunha</td>\n",
              "      <td>1</td>\n",
              "      <td>M</td>\n",
              "      <td>40.0</td>\n",
              "      <td>NaN</td>\n",
              "      <td>POLICIAL CIVIL</td>\n",
              "      <td>2 Grau completo</td>\n",
              "    </tr>\n",
              "  </tbody>\n",
              "</table>\n",
              "</div>"
            ],
            "text/plain": [
              "   Unnamed: 0  NUM_BO  ANO_BO  ...    COR      DESCR_PROFISSAO DESCR_GRAU_INSTRUCAO\n",
              "0         243       2    2014  ...  Parda  AUXILIAR DE LIMPEZA                  NaN\n",
              "1         244       2    2014  ...  Parda         DESEMPREGADO      1 Grau completo\n",
              "2         245       2    2014  ...    NaN      INVESTIGADOR(A)    Superior completo\n",
              "3         246       2    2014  ...  Parda         DESEMPREGADO      2 Grau completo\n",
              "4         270       3    2014  ...    NaN       POLICIAL CIVIL      2 Grau completo\n",
              "\n",
              "[5 rows x 31 columns]"
            ]
          },
          "metadata": {
            "tags": []
          },
          "execution_count": 4
        }
      ]
    },
    {
      "cell_type": "code",
      "metadata": {
        "colab": {
          "base_uri": "https://localhost:8080/",
          "height": 67
        },
        "id": "ZHbA6vbaODrq",
        "outputId": "b08bfe12-4c4a-4904-8f23-6a9c39c54bb8"
      },
      "source": [
        "data = data.drop(columns=['Unnamed: 0', 'NOME_DEPARTAMENTO', 'NOME_SECCIONAL', 'DELEGACIA', 'NOME_DEPARTAMENTO_CIRC', 'NOME_SECCIONAL_CIRC', 'NOME_DELEGACIA_CIRC', 'FLAG_STATUS', 'DESDOBRAMENTO', 'NUMERO_LOGRADOURO', 'FLAG_STATUS.1'], axis=1)\n",
        "data.head(0)"
      ],
      "execution_count": 5,
      "outputs": [
        {
          "output_type": "execute_result",
          "data": {
            "text/html": [
              "<div>\n",
              "<style scoped>\n",
              "    .dataframe tbody tr th:only-of-type {\n",
              "        vertical-align: middle;\n",
              "    }\n",
              "\n",
              "    .dataframe tbody tr th {\n",
              "        vertical-align: top;\n",
              "    }\n",
              "\n",
              "    .dataframe thead th {\n",
              "        text-align: right;\n",
              "    }\n",
              "</style>\n",
              "<table border=\"1\" class=\"dataframe\">\n",
              "  <thead>\n",
              "    <tr style=\"text-align: right;\">\n",
              "      <th></th>\n",
              "      <th>NUM_BO</th>\n",
              "      <th>ANO_BO</th>\n",
              "      <th>ID_DELEGACIA</th>\n",
              "      <th>ANO</th>\n",
              "      <th>MES</th>\n",
              "      <th>DATA_OCORRENCIA_BO</th>\n",
              "      <th>HORA_OCORRENCIA_BO</th>\n",
              "      <th>RUBRICA</th>\n",
              "      <th>CONDUTA</th>\n",
              "      <th>LATITUDE</th>\n",
              "      <th>LONGITUDE</th>\n",
              "      <th>CIDADE</th>\n",
              "      <th>LOGRADOURO</th>\n",
              "      <th>DESCR_TIPO_PESSOA</th>\n",
              "      <th>CONT_PESSOA</th>\n",
              "      <th>SEXO_PESSOA</th>\n",
              "      <th>IDADE_PESSOA</th>\n",
              "      <th>COR</th>\n",
              "      <th>DESCR_PROFISSAO</th>\n",
              "      <th>DESCR_GRAU_INSTRUCAO</th>\n",
              "    </tr>\n",
              "  </thead>\n",
              "  <tbody>\n",
              "  </tbody>\n",
              "</table>\n",
              "</div>"
            ],
            "text/plain": [
              "Empty DataFrame\n",
              "Columns: [NUM_BO, ANO_BO, ID_DELEGACIA, ANO, MES, DATA_OCORRENCIA_BO, HORA_OCORRENCIA_BO, RUBRICA, CONDUTA, LATITUDE, LONGITUDE, CIDADE, LOGRADOURO, DESCR_TIPO_PESSOA, CONT_PESSOA, SEXO_PESSOA, IDADE_PESSOA, COR, DESCR_PROFISSAO, DESCR_GRAU_INSTRUCAO]\n",
              "Index: []"
            ]
          },
          "metadata": {
            "tags": []
          },
          "execution_count": 5
        }
      ]
    },
    {
      "cell_type": "markdown",
      "metadata": {
        "id": "8vyBtodR6dn1"
      },
      "source": [
        "*A tabela atual possui 10.000 linhas (1,05% do total original de 954.113 linhas) e 20 colunas (já que 11 foram removidas anteriormente):*"
      ]
    },
    {
      "cell_type": "code",
      "metadata": {
        "colab": {
          "base_uri": "https://localhost:8080/"
        },
        "id": "RJzpGPTmaCbd",
        "outputId": "07c03c36-7d04-4533-be2b-5120ecb4eecd"
      },
      "source": [
        "data.shape"
      ],
      "execution_count": 6,
      "outputs": [
        {
          "output_type": "execute_result",
          "data": {
            "text/plain": [
              "(10000, 20)"
            ]
          },
          "metadata": {
            "tags": []
          },
          "execution_count": 6
        }
      ]
    },
    {
      "cell_type": "markdown",
      "metadata": {
        "id": "1Jxhk3p00W9R"
      },
      "source": [
        "#**3. Limpando e tratando os dados**"
      ]
    },
    {
      "cell_type": "markdown",
      "metadata": {
        "id": "Ywvy72I42K8f"
      },
      "source": [
        "*É necessário remover campos nulos (NA - Not Available e NaN - Not a Number) na tabela ou preenchê-los para aumentar a qualidade dos dados, portanto, o próximo passo é procurar quais colunas possuem campos Na ou NaN (True):*"
      ]
    },
    {
      "cell_type": "code",
      "metadata": {
        "colab": {
          "base_uri": "https://localhost:8080/"
        },
        "id": "oobLaXSKlV6-",
        "outputId": "e5c746fa-a222-45ec-bbc6-721d8b93f5ca"
      },
      "source": [
        "data.isnull().any()"
      ],
      "execution_count": 7,
      "outputs": [
        {
          "output_type": "execute_result",
          "data": {
            "text/plain": [
              "NUM_BO                  False\n",
              "ANO_BO                  False\n",
              "ID_DELEGACIA            False\n",
              "ANO                     False\n",
              "MES                     False\n",
              "DATA_OCORRENCIA_BO       True\n",
              "HORA_OCORRENCIA_BO       True\n",
              "RUBRICA                 False\n",
              "CONDUTA                  True\n",
              "LATITUDE                 True\n",
              "LONGITUDE                True\n",
              "CIDADE                  False\n",
              "LOGRADOURO               True\n",
              "DESCR_TIPO_PESSOA       False\n",
              "CONT_PESSOA             False\n",
              "SEXO_PESSOA             False\n",
              "IDADE_PESSOA             True\n",
              "COR                      True\n",
              "DESCR_PROFISSAO          True\n",
              "DESCR_GRAU_INSTRUCAO     True\n",
              "dtype: bool"
            ]
          },
          "metadata": {
            "tags": []
          },
          "execution_count": 7
        }
      ]
    },
    {
      "cell_type": "markdown",
      "metadata": {
        "id": "2uWCD5lGR9ea"
      },
      "source": [
        "*Então, é preciso quantificar esses campos nulos para se ter uma ideia de quais colunas são mais críticas ou passíveis de serem removidas por insuficiência de dados:*"
      ]
    },
    {
      "cell_type": "code",
      "metadata": {
        "colab": {
          "base_uri": "https://localhost:8080/"
        },
        "id": "TAGDs3A1M8bt",
        "outputId": "13c1a647-f484-4cfb-d124-b34da86e5fe8"
      },
      "source": [
        "print(data.isnull().sum())"
      ],
      "execution_count": 8,
      "outputs": [
        {
          "output_type": "stream",
          "text": [
            "NUM_BO                     0\n",
            "ANO_BO                     0\n",
            "ID_DELEGACIA               0\n",
            "ANO                        0\n",
            "MES                        0\n",
            "DATA_OCORRENCIA_BO        87\n",
            "HORA_OCORRENCIA_BO      1040\n",
            "RUBRICA                    0\n",
            "CONDUTA                 4835\n",
            "LATITUDE                1593\n",
            "LONGITUDE               1593\n",
            "CIDADE                     0\n",
            "LOGRADOURO               429\n",
            "DESCR_TIPO_PESSOA          0\n",
            "CONT_PESSOA                0\n",
            "SEXO_PESSOA                0\n",
            "IDADE_PESSOA            1902\n",
            "COR                     2372\n",
            "DESCR_PROFISSAO         3002\n",
            "DESCR_GRAU_INSTRUCAO    2832\n",
            "dtype: int64\n"
          ],
          "name": "stdout"
        }
      ]
    },
    {
      "cell_type": "code",
      "metadata": {
        "colab": {
          "base_uri": "https://localhost:8080/"
        },
        "id": "QPsg0qTNk6rs",
        "outputId": "77ede22f-549d-40bc-bbc1-465a2bed0d3e"
      },
      "source": [
        "data.isnull().sum().sum()"
      ],
      "execution_count": 9,
      "outputs": [
        {
          "output_type": "execute_result",
          "data": {
            "text/plain": [
              "19685"
            ]
          },
          "metadata": {
            "tags": []
          },
          "execution_count": 9
        }
      ]
    },
    {
      "cell_type": "markdown",
      "metadata": {
        "id": "nd3gIdb_1bFT"
      },
      "source": [
        "*Podemos ver que há 19.685 campos vazios na tabela distribuídos em 10 colunas.*"
      ]
    },
    {
      "cell_type": "markdown",
      "metadata": {
        "id": "vY0mR-uFkw7y"
      },
      "source": [
        "*Assim, devendo ser preenchidos:*"
      ]
    },
    {
      "cell_type": "markdown",
      "metadata": {
        "id": "L65Fb-tFK15C"
      },
      "source": [
        "*Avaliamos que seria melhor completá-los com os valores mais frequentes de cada coluna. No caso da coluna CONDUTA, a palavra 'Veículo' ocorreu com mais frequência, ou seja, a maioria dos envolvidos estava com um veículo no momento da ocorrência, então essa será usada para preencher os campos vazios.*"
      ]
    },
    {
      "cell_type": "code",
      "metadata": {
        "colab": {
          "base_uri": "https://localhost:8080/"
        },
        "id": "huv6q5N3nnhd",
        "outputId": "5bd55bc3-2c6c-4712-9af4-4e564130e39e"
      },
      "source": [
        "data['CONDUTA'].value_counts()"
      ],
      "execution_count": 10,
      "outputs": [
        {
          "output_type": "execute_result",
          "data": {
            "text/plain": [
              "VEICULO                         1386\n",
              "TRANSEUNTE                      1369\n",
              "OUTROS                           681\n",
              "RESIDENCIA                       422\n",
              "INTERIOR DE VEICULO              354\n",
              "ESTABELECIMENTO COMERCIAL        326\n",
              "CARGA                            273\n",
              "INTERIOR ESTABELECIMENTO         112\n",
              "ESTABELECIMENTO BANCARIO          75\n",
              "ESTABELECIMENTO-OUTROS            62\n",
              "INTERIOR TRANSPORTE COLETIVO      46\n",
              "ESTABELECIMENTO ENSINO            37\n",
              "COLETIVO                          13\n",
              "CONDOMINIO RESIDENCIAL             7\n",
              "CONDOMINIO COMERCIAL               2\n",
              "Name: CONDUTA, dtype: int64"
            ]
          },
          "metadata": {
            "tags": []
          },
          "execution_count": 10
        }
      ]
    },
    {
      "cell_type": "code",
      "metadata": {
        "id": "I_h81za9LJ3i"
      },
      "source": [
        "data['CONDUTA'].fillna('VEICULO', inplace=True)"
      ],
      "execution_count": 11,
      "outputs": []
    },
    {
      "cell_type": "markdown",
      "metadata": {
        "id": "f8f9ixA5LEaA"
      },
      "source": [
        "*O mesmo foi feito com as demais colunas:\r\n",
        "Na coluna LATITUDE, o valor '-23.71286115' é o mais indicado para preencher os campos.*"
      ]
    },
    {
      "cell_type": "code",
      "metadata": {
        "id": "gQ9Jc7iiNKIi"
      },
      "source": [
        "x = data['LATITUDE'].mode()\r\n",
        "data['LATITUDE'].fillna('-23.71286115', inplace=True)"
      ],
      "execution_count": 12,
      "outputs": []
    },
    {
      "cell_type": "code",
      "metadata": {
        "colab": {
          "base_uri": "https://localhost:8080/"
        },
        "id": "jMpAQ-wXnZ-Q",
        "outputId": "2f4a4064-9f0d-40c0-fae8-039890934e45"
      },
      "source": [
        "data['LATITUDE'].isnull().sum()"
      ],
      "execution_count": 13,
      "outputs": [
        {
          "output_type": "execute_result",
          "data": {
            "text/plain": [
              "0"
            ]
          },
          "metadata": {
            "tags": []
          },
          "execution_count": 13
        }
      ]
    },
    {
      "cell_type": "markdown",
      "metadata": {
        "id": "WF4x06AhTixL"
      },
      "source": [
        "*E na coluna LONGITUDE, o valor '-46.78186771' é o mais indicado.*"
      ]
    },
    {
      "cell_type": "code",
      "metadata": {
        "colab": {
          "base_uri": "https://localhost:8080/"
        },
        "id": "iUM2H6I7Oh-8",
        "outputId": "2f295e21-057c-4c54-d4bc-b6084e0205b0"
      },
      "source": [
        "data['LONGITUDE'].value_counts()"
      ],
      "execution_count": 14,
      "outputs": [
        {
          "output_type": "execute_result",
          "data": {
            "text/plain": [
              "-4.678.186.771    48\n",
              "-4.681.568.811    23\n",
              "-4.639.605.905    23\n",
              "-4.661.519.738    22\n",
              "-4.672.128.418    22\n",
              "                  ..\n",
              "-4.652.287.784     1\n",
              "-4.679.439.219     1\n",
              "-4.675.555.407     1\n",
              "-4.672.780.489     1\n",
              "-468.452.356       1\n",
              "Name: LONGITUDE, Length: 3439, dtype: int64"
            ]
          },
          "metadata": {
            "tags": []
          },
          "execution_count": 14
        }
      ]
    },
    {
      "cell_type": "code",
      "metadata": {
        "id": "2XHdogdRNPPj"
      },
      "source": [
        "data['LONGITUDE'].fillna('-46.78186771', inplace=True)"
      ],
      "execution_count": 15,
      "outputs": []
    },
    {
      "cell_type": "code",
      "metadata": {
        "colab": {
          "base_uri": "https://localhost:8080/"
        },
        "id": "TV4VJuRLOYWg",
        "outputId": "64801d94-3dca-4675-bfb1-37732359dae9"
      },
      "source": [
        "data['LONGITUDE'].isnull().sum()"
      ],
      "execution_count": 16,
      "outputs": [
        {
          "output_type": "execute_result",
          "data": {
            "text/plain": [
              "0"
            ]
          },
          "metadata": {
            "tags": []
          },
          "execution_count": 16
        }
      ]
    },
    {
      "cell_type": "markdown",
      "metadata": {
        "id": "PrXebR2ZT5et"
      },
      "source": [
        "*De igual modo, '01/01/2014' é a data que mais aparece:*"
      ]
    },
    {
      "cell_type": "code",
      "metadata": {
        "colab": {
          "base_uri": "https://localhost:8080/"
        },
        "id": "umMistaBm8ne",
        "outputId": "f1bcabfd-b590-4644-8912-b68620f6c803"
      },
      "source": [
        "data['DATA_OCORRENCIA_BO'].value_counts()"
      ],
      "execution_count": 17,
      "outputs": [
        {
          "output_type": "execute_result",
          "data": {
            "text/plain": [
              "01/01/2014    2556\n",
              "02/01/2014    1443\n",
              "03/01/2014     911\n",
              "06/01/2014     550\n",
              "04/01/2014     415\n",
              "              ... \n",
              "25/06/2014       1\n",
              "23/05/2014       1\n",
              "29/05/2014       1\n",
              "15/02/2014       1\n",
              "03/05/2014       1\n",
              "Name: DATA_OCORRENCIA_BO, Length: 155, dtype: int64"
            ]
          },
          "metadata": {
            "tags": []
          },
          "execution_count": 17
        }
      ]
    },
    {
      "cell_type": "code",
      "metadata": {
        "id": "FQ5rJ4wrcugV"
      },
      "source": [
        "data['DATA_OCORRENCIA_BO'].fillna('01/01/2014', inplace=True)"
      ],
      "execution_count": 18,
      "outputs": []
    },
    {
      "cell_type": "code",
      "metadata": {
        "colab": {
          "base_uri": "https://localhost:8080/"
        },
        "id": "YXCMsFWfmXw7",
        "outputId": "1c069f7e-90a4-47a0-ddbc-de6d64e5c71f"
      },
      "source": [
        "data['DATA_OCORRENCIA_BO'].isnull().sum()"
      ],
      "execution_count": 19,
      "outputs": [
        {
          "output_type": "execute_result",
          "data": {
            "text/plain": [
              "0"
            ]
          },
          "metadata": {
            "tags": []
          },
          "execution_count": 19
        }
      ]
    },
    {
      "cell_type": "markdown",
      "metadata": {
        "id": "l4oUx5ZIUC1E"
      },
      "source": [
        "*Bem como o horário '12:00':*"
      ]
    },
    {
      "cell_type": "code",
      "metadata": {
        "colab": {
          "base_uri": "https://localhost:8080/"
        },
        "id": "R-NbKAiLnMZx",
        "outputId": "59be5b21-7d52-4a28-d23a-6c5de69ed0ec"
      },
      "source": [
        "data['HORA_OCORRENCIA_BO'].value_counts()"
      ],
      "execution_count": 20,
      "outputs": [
        {
          "output_type": "execute_result",
          "data": {
            "text/plain": [
              "12:00    239\n",
              "15:00    218\n",
              "16:00    207\n",
              "14:00    204\n",
              "01:00    201\n",
              "        ... \n",
              "04:25      1\n",
              "01:50      1\n",
              "04:07      1\n",
              "14:41      1\n",
              "00:07      1\n",
              "Name: HORA_OCORRENCIA_BO, Length: 484, dtype: int64"
            ]
          },
          "metadata": {
            "tags": []
          },
          "execution_count": 20
        }
      ]
    },
    {
      "cell_type": "code",
      "metadata": {
        "id": "8Jt305cedmay"
      },
      "source": [
        "data['HORA_OCORRENCIA_BO'].fillna('12:00', inplace=True)"
      ],
      "execution_count": 21,
      "outputs": []
    },
    {
      "cell_type": "code",
      "metadata": {
        "colab": {
          "base_uri": "https://localhost:8080/"
        },
        "id": "vidFREeenQaV",
        "outputId": "e7f8192a-a781-401e-f635-9d4244537930"
      },
      "source": [
        "data['HORA_OCORRENCIA_BO'].isnull().sum()"
      ],
      "execution_count": 22,
      "outputs": [
        {
          "output_type": "execute_result",
          "data": {
            "text/plain": [
              "0"
            ]
          },
          "metadata": {
            "tags": []
          },
          "execution_count": 22
        }
      ]
    },
    {
      "cell_type": "markdown",
      "metadata": {
        "id": "Zfj1xxdiUKfC"
      },
      "source": [
        "*A Avenida Sapopemba é o logradouro mais citado:*\r\n",
        "\r\n",
        "\r\n"
      ]
    },
    {
      "cell_type": "code",
      "metadata": {
        "colab": {
          "base_uri": "https://localhost:8080/"
        },
        "id": "33zZOrUsnfOM",
        "outputId": "7e71ba19-5ee6-4ee4-dd5f-ed4d1614ae59"
      },
      "source": [
        "data['LOGRADOURO'].value_counts()"
      ],
      "execution_count": 23,
      "outputs": [
        {
          "output_type": "execute_result",
          "data": {
            "text/plain": [
              "AV SAPOPEMBA                           65\n",
              "EST DO M BOI MIRIM                     54\n",
              "AV DO ESTADO                           39\n",
              "R APA                                  35\n",
              "AV CELSO GARCIA                        34\n",
              "                                       ..\n",
              "RUA DOUTOR NICOLAU DE SOUSA QUEIROS     1\n",
              "R SOLD ANTONIO BENTO DE ABREU           1\n",
              "R CARLOS MAGNO                          1\n",
              "PC WILHELM BERNAUER                     1\n",
              "ESTRADA ASSUMPTA SABINI ROSSI           1\n",
              "Name: LOGRADOURO, Length: 3186, dtype: int64"
            ]
          },
          "metadata": {
            "tags": []
          },
          "execution_count": 23
        }
      ]
    },
    {
      "cell_type": "code",
      "metadata": {
        "id": "-iqgzBOMeMfD"
      },
      "source": [
        "data['LOGRADOURO'].fillna('AV SAPOPEMBA', inplace=True)"
      ],
      "execution_count": 24,
      "outputs": []
    },
    {
      "cell_type": "markdown",
      "metadata": {
        "id": "Dz3vfN0lUQCy"
      },
      "source": [
        "*E a cor da pele da maioria das pessoas envolvidas é branca, seguida da cor parda:*"
      ]
    },
    {
      "cell_type": "code",
      "metadata": {
        "colab": {
          "base_uri": "https://localhost:8080/"
        },
        "id": "gpmNm6OJehSs",
        "outputId": "a9e1e135-aa48-439c-caab-cf16b70794d1"
      },
      "source": [
        "data['COR'].value_counts()"
      ],
      "execution_count": 25,
      "outputs": [
        {
          "output_type": "execute_result",
          "data": {
            "text/plain": [
              "Branca     4166\n",
              "Parda      2517\n",
              "Preta       575\n",
              "Outros      334\n",
              "Amarela      36\n",
              "Name: COR, dtype: int64"
            ]
          },
          "metadata": {
            "tags": []
          },
          "execution_count": 25
        }
      ]
    },
    {
      "cell_type": "code",
      "metadata": {
        "id": "IGoJIKSrjqD-"
      },
      "source": [
        "data['COR'].fillna('Branca', inplace=True)"
      ],
      "execution_count": 26,
      "outputs": []
    },
    {
      "cell_type": "markdown",
      "metadata": {
        "id": "_ZMGxVifUfez"
      },
      "source": [
        "*Foi verificado também que a idade média (51 anos) não refletia a realidade, já que foi elevada pela ocorrência atípica de pessoa com 100 anos, estando a maioria entre 26 e 38 anos. Portanto, a idade usada para preencher os espaços, em lugar de usar a média, foi de 30 anos que foi a mais frequente, apesar de haver outros registros com quantidades bem próximas:*"
      ]
    },
    {
      "cell_type": "code",
      "metadata": {
        "colab": {
          "base_uri": "https://localhost:8080/"
        },
        "id": "JKHv-C6ypCgb",
        "outputId": "c5abaed9-3df7-4bfe-8568-08d9e8eb8181"
      },
      "source": [
        "data['IDADE_PESSOA'].mean"
      ],
      "execution_count": 27,
      "outputs": [
        {
          "output_type": "execute_result",
          "data": {
            "text/plain": [
              "<bound method Series.mean of 0       51.0\n",
              "1       19.0\n",
              "2       38.0\n",
              "3       23.0\n",
              "4       40.0\n",
              "        ... \n",
              "9995    35.0\n",
              "9996    29.0\n",
              "9997    41.0\n",
              "9998    46.0\n",
              "9999    26.0\n",
              "Name: IDADE_PESSOA, Length: 10000, dtype: float64>"
            ]
          },
          "metadata": {
            "tags": []
          },
          "execution_count": 27
        }
      ]
    },
    {
      "cell_type": "code",
      "metadata": {
        "colab": {
          "base_uri": "https://localhost:8080/"
        },
        "id": "OQU9Cn8RehGG",
        "outputId": "6f913fe9-cfb9-4901-9bf4-6e78a4e920a9"
      },
      "source": [
        "data['IDADE_PESSOA'].value_counts()"
      ],
      "execution_count": 28,
      "outputs": [
        {
          "output_type": "execute_result",
          "data": {
            "text/plain": [
              "30.0     269\n",
              "26.0     260\n",
              "33.0     256\n",
              "28.0     245\n",
              "38.0     241\n",
              "        ... \n",
              "103.0      1\n",
              "87.0       1\n",
              "91.0       1\n",
              "89.0       1\n",
              "88.0       1\n",
              "Name: IDADE_PESSOA, Length: 92, dtype: int64"
            ]
          },
          "metadata": {
            "tags": []
          },
          "execution_count": 28
        }
      ]
    },
    {
      "cell_type": "code",
      "metadata": {
        "id": "VLr_9BNyebyY"
      },
      "source": [
        "data['IDADE_PESSOA'].fillna('30', inplace=True)"
      ],
      "execution_count": 29,
      "outputs": []
    },
    {
      "cell_type": "markdown",
      "metadata": {
        "id": "XjkQLBmCVRUY"
      },
      "source": [
        "*A profissão que mais apareceu nos BOs foi a de policial (militar e civil), talvez em decorrência da periculosidade típica do ofício:*"
      ]
    },
    {
      "cell_type": "code",
      "metadata": {
        "colab": {
          "base_uri": "https://localhost:8080/"
        },
        "id": "oHp6qe45ehsk",
        "outputId": "ee7da7ee-b325-4f58-b91b-8d70e4b71502"
      },
      "source": [
        "data['DESCR_PROFISSAO'].value_counts()"
      ],
      "execution_count": 30,
      "outputs": [
        {
          "output_type": "execute_result",
          "data": {
            "text/plain": [
              "POLICIAL MILITAR                827\n",
              "POLICIAL CIVIL                  721\n",
              "ESTUDANTE                       308\n",
              "MOTORISTA                       300\n",
              "DESEMPREGADO                    281\n",
              "                               ... \n",
              "AUXILIAR DE VENDAS                1\n",
              "TECNICO EM MECANICA PRODUCAO      1\n",
              "MILITAR NA INATIVIDADE            1\n",
              "MONTADOR DE AUTOMOVEIS            1\n",
              "ECONOMIARIO(A)                    1\n",
              "Name: DESCR_PROFISSAO, Length: 417, dtype: int64"
            ]
          },
          "metadata": {
            "tags": []
          },
          "execution_count": 30
        }
      ]
    },
    {
      "cell_type": "code",
      "metadata": {
        "id": "ZTvBNDr3efUL"
      },
      "source": [
        "data['DESCR_PROFISSAO'].fillna('POLICIAL MILITAR', inplace=True)"
      ],
      "execution_count": 31,
      "outputs": []
    },
    {
      "cell_type": "markdown",
      "metadata": {
        "id": "pbWChdPhWFkh"
      },
      "source": [
        "*E, por fim, verificamos que a maioria tem o segundo grau completo:*"
      ]
    },
    {
      "cell_type": "code",
      "metadata": {
        "colab": {
          "base_uri": "https://localhost:8080/"
        },
        "id": "OAc5D8Oms-B9",
        "outputId": "5e5a580f-71db-45b2-e071-215f0751659c"
      },
      "source": [
        "data['DESCR_GRAU_INSTRUCAO'].value_counts()"
      ],
      "execution_count": 32,
      "outputs": [
        {
          "output_type": "execute_result",
          "data": {
            "text/plain": [
              "2 Grau completo        2780\n",
              "1 Grau completo        1882\n",
              "Superior completo      1310\n",
              "1 Grau incompleto       574\n",
              "Superior incompleto     321\n",
              "2 Grau incompleto       227\n",
              "Analfabeto               74\n",
              "Name: DESCR_GRAU_INSTRUCAO, dtype: int64"
            ]
          },
          "metadata": {
            "tags": []
          },
          "execution_count": 32
        }
      ]
    },
    {
      "cell_type": "code",
      "metadata": {
        "id": "WwHr1y1Gs6DE"
      },
      "source": [
        "data['DESCR_GRAU_INSTRUCAO'].fillna('2 Grau completo', inplace=True)"
      ],
      "execution_count": 33,
      "outputs": []
    },
    {
      "cell_type": "markdown",
      "metadata": {
        "id": "7mS12_kCLL1b"
      },
      "source": [
        "*Agora conferimos que os campos estão totalmente preenchidos, então a pesquisa por nulos retorna False:*"
      ]
    },
    {
      "cell_type": "code",
      "metadata": {
        "colab": {
          "base_uri": "https://localhost:8080/"
        },
        "id": "YAZCNWRCSARl",
        "outputId": "340dcc27-0297-4d48-ba53-1df887d69b13"
      },
      "source": [
        "print(data.isnull().any())"
      ],
      "execution_count": 34,
      "outputs": [
        {
          "output_type": "stream",
          "text": [
            "NUM_BO                  False\n",
            "ANO_BO                  False\n",
            "ID_DELEGACIA            False\n",
            "ANO                     False\n",
            "MES                     False\n",
            "DATA_OCORRENCIA_BO      False\n",
            "HORA_OCORRENCIA_BO      False\n",
            "RUBRICA                 False\n",
            "CONDUTA                 False\n",
            "LATITUDE                False\n",
            "LONGITUDE               False\n",
            "CIDADE                  False\n",
            "LOGRADOURO              False\n",
            "DESCR_TIPO_PESSOA       False\n",
            "CONT_PESSOA             False\n",
            "SEXO_PESSOA             False\n",
            "IDADE_PESSOA            False\n",
            "COR                     False\n",
            "DESCR_PROFISSAO         False\n",
            "DESCR_GRAU_INSTRUCAO    False\n",
            "dtype: bool\n"
          ],
          "name": "stdout"
        }
      ]
    },
    {
      "cell_type": "markdown",
      "metadata": {
        "id": "50QZclGrjaw9"
      },
      "source": [
        "*Aparentemente, as colunas não guardam nenhuma correlação entre si, de acordo com a matriz de correlação abaixo, na qual nenhum coeficiente ultrapassa 0.5, o que pode significar que não há influência em comum entre elas: \r\n",
        "(Obs.: As colunas ANO_BO e ANO foram abstraídas)*"
      ]
    },
    {
      "cell_type": "code",
      "metadata": {
        "id": "wzApgk-OEaH5"
      },
      "source": [
        "df = data.drop(columns=['ANO_BO', 'ANO'], axis=1)"
      ],
      "execution_count": 35,
      "outputs": []
    },
    {
      "cell_type": "code",
      "metadata": {
        "colab": {
          "base_uri": "https://localhost:8080/",
          "height": 167
        },
        "id": "hrSYe0Ym3m_N",
        "outputId": "d18cedde-7f8b-476d-eb14-900b5eca5874"
      },
      "source": [
        "corr = df.corr()\r\n",
        "corr"
      ],
      "execution_count": 36,
      "outputs": [
        {
          "output_type": "execute_result",
          "data": {
            "text/html": [
              "<div>\n",
              "<style scoped>\n",
              "    .dataframe tbody tr th:only-of-type {\n",
              "        vertical-align: middle;\n",
              "    }\n",
              "\n",
              "    .dataframe tbody tr th {\n",
              "        vertical-align: top;\n",
              "    }\n",
              "\n",
              "    .dataframe thead th {\n",
              "        text-align: right;\n",
              "    }\n",
              "</style>\n",
              "<table border=\"1\" class=\"dataframe\">\n",
              "  <thead>\n",
              "    <tr style=\"text-align: right;\">\n",
              "      <th></th>\n",
              "      <th>NUM_BO</th>\n",
              "      <th>ID_DELEGACIA</th>\n",
              "      <th>MES</th>\n",
              "      <th>CONT_PESSOA</th>\n",
              "    </tr>\n",
              "  </thead>\n",
              "  <tbody>\n",
              "    <tr>\n",
              "      <th>NUM_BO</th>\n",
              "      <td>1.000000</td>\n",
              "      <td>-0.054977</td>\n",
              "      <td>0.183903</td>\n",
              "      <td>-0.077796</td>\n",
              "    </tr>\n",
              "    <tr>\n",
              "      <th>ID_DELEGACIA</th>\n",
              "      <td>-0.054977</td>\n",
              "      <td>1.000000</td>\n",
              "      <td>0.362619</td>\n",
              "      <td>0.115348</td>\n",
              "    </tr>\n",
              "    <tr>\n",
              "      <th>MES</th>\n",
              "      <td>0.183903</td>\n",
              "      <td>0.362619</td>\n",
              "      <td>1.000000</td>\n",
              "      <td>0.075964</td>\n",
              "    </tr>\n",
              "    <tr>\n",
              "      <th>CONT_PESSOA</th>\n",
              "      <td>-0.077796</td>\n",
              "      <td>0.115348</td>\n",
              "      <td>0.075964</td>\n",
              "      <td>1.000000</td>\n",
              "    </tr>\n",
              "  </tbody>\n",
              "</table>\n",
              "</div>"
            ],
            "text/plain": [
              "                NUM_BO  ID_DELEGACIA       MES  CONT_PESSOA\n",
              "NUM_BO        1.000000     -0.054977  0.183903    -0.077796\n",
              "ID_DELEGACIA -0.054977      1.000000  0.362619     0.115348\n",
              "MES           0.183903      0.362619  1.000000     0.075964\n",
              "CONT_PESSOA  -0.077796      0.115348  0.075964     1.000000"
            ]
          },
          "metadata": {
            "tags": []
          },
          "execution_count": 36
        }
      ]
    },
    {
      "cell_type": "code",
      "metadata": {
        "colab": {
          "base_uri": "https://localhost:8080/",
          "height": 286
        },
        "id": "Fd0Iznkb5kfJ",
        "outputId": "df564985-8a82-412b-91e2-c6bc76f06116"
      },
      "source": [
        "sns.heatmap(corr, annot=True)"
      ],
      "execution_count": 37,
      "outputs": [
        {
          "output_type": "execute_result",
          "data": {
            "text/plain": [
              "<matplotlib.axes._subplots.AxesSubplot at 0x7fdd69aea978>"
            ]
          },
          "metadata": {
            "tags": []
          },
          "execution_count": 37
        },
        {
          "output_type": "display_data",
          "data": {
            "image/png": "[encoded data removed]",
            "text/plain": [
              "<Figure size 432x288 with 2 Axes>"
            ]
          },
          "metadata": {
            "tags": [],
            "needs_background": "light"
          }
        }
      ]
    },
    {
      "cell_type": "markdown",
      "metadata": {
        "id": "s-NIYIm608F_"
      },
      "source": [
        "#**3.1 Convertendo dados categóricos em numéricos**\r\n",
        "*A fim de construir nosso modelo de predição, precisamos separar os dois tipos de crime de interesse, furto e roubo, da coluna alvo 'RUBRICA'. Como a coluna Rubrica é formada por valores não-numéricos (nomes dos tipos de crimes), é preciso executar a codificação one-hot, tranformando cada campo em uma nova coluna contendo apenas números:*\r\n",
        "\r\n"
      ]
    },
    {
      "cell_type": "code",
      "metadata": {
        "colab": {
          "base_uri": "https://localhost:8080/",
          "height": 227
        },
        "id": "QT6z8m1EEgA6",
        "outputId": "90307360-05ea-46b3-fd8b-37864e54b122"
      },
      "source": [
        "novas_colunas = pd.get_dummies(data['RUBRICA']) \n",
        "data = pd.concat([data,novas_colunas], axis=1) \n",
        "data.head(2)"
      ],
      "execution_count": 38,
      "outputs": [
        {
          "output_type": "execute_result",
          "data": {
            "text/html": [
              "<div>\n",
              "<style scoped>\n",
              "    .dataframe tbody tr th:only-of-type {\n",
              "        vertical-align: middle;\n",
              "    }\n",
              "\n",
              "    .dataframe tbody tr th {\n",
              "        vertical-align: top;\n",
              "    }\n",
              "\n",
              "    .dataframe thead th {\n",
              "        text-align: right;\n",
              "    }\n",
              "</style>\n",
              "<table border=\"1\" class=\"dataframe\">\n",
              "  <thead>\n",
              "    <tr style=\"text-align: right;\">\n",
              "      <th></th>\n",
              "      <th>NUM_BO</th>\n",
              "      <th>ANO_BO</th>\n",
              "      <th>ID_DELEGACIA</th>\n",
              "      <th>ANO</th>\n",
              "      <th>MES</th>\n",
              "      <th>DATA_OCORRENCIA_BO</th>\n",
              "      <th>HORA_OCORRENCIA_BO</th>\n",
              "      <th>RUBRICA</th>\n",
              "      <th>CONDUTA</th>\n",
              "      <th>LATITUDE</th>\n",
              "      <th>LONGITUDE</th>\n",
              "      <th>CIDADE</th>\n",
              "      <th>LOGRADOURO</th>\n",
              "      <th>DESCR_TIPO_PESSOA</th>\n",
              "      <th>CONT_PESSOA</th>\n",
              "      <th>SEXO_PESSOA</th>\n",
              "      <th>IDADE_PESSOA</th>\n",
              "      <th>COR</th>\n",
              "      <th>DESCR_PROFISSAO</th>\n",
              "      <th>DESCR_GRAU_INSTRUCAO</th>\n",
              "      <th>Drogas</th>\n",
              "      <th>Estupro</th>\n",
              "      <th>Estupro de vulneravel</th>\n",
              "      <th>Furto</th>\n",
              "      <th>Furto qualificado</th>\n",
              "      <th>Homicidio</th>\n",
              "      <th>Homicidio culposo</th>\n",
              "      <th>Homicidio culposo por veiculo</th>\n",
              "      <th>Homicidio qualificado</th>\n",
              "      <th>Lesao corporal</th>\n",
              "      <th>Lesao corporal de natureza GRAVE</th>\n",
              "      <th>Lesao corporal seguida de morte</th>\n",
              "      <th>Lesao culposa por veiculo</th>\n",
              "      <th>Roubo</th>\n",
              "    </tr>\n",
              "  </thead>\n",
              "  <tbody>\n",
              "    <tr>\n",
              "      <th>0</th>\n",
              "      <td>2</td>\n",
              "      <td>2014</td>\n",
              "      <td>280401</td>\n",
              "      <td>2014</td>\n",
              "      <td>2</td>\n",
              "      <td>26/02/2014</td>\n",
              "      <td>17:00</td>\n",
              "      <td>Drogas</td>\n",
              "      <td>VEICULO</td>\n",
              "      <td>-23.71286115</td>\n",
              "      <td>-46.78186771</td>\n",
              "      <td>BARUERI</td>\n",
              "      <td>R MARIA HELENA</td>\n",
              "      <td>Curador</td>\n",
              "      <td>7</td>\n",
              "      <td>F</td>\n",
              "      <td>51</td>\n",
              "      <td>Parda</td>\n",
              "      <td>AUXILIAR DE LIMPEZA</td>\n",
              "      <td>2 Grau completo</td>\n",
              "      <td>1</td>\n",
              "      <td>0</td>\n",
              "      <td>0</td>\n",
              "      <td>0</td>\n",
              "      <td>0</td>\n",
              "      <td>0</td>\n",
              "      <td>0</td>\n",
              "      <td>0</td>\n",
              "      <td>0</td>\n",
              "      <td>0</td>\n",
              "      <td>0</td>\n",
              "      <td>0</td>\n",
              "      <td>0</td>\n",
              "      <td>0</td>\n",
              "    </tr>\n",
              "    <tr>\n",
              "      <th>1</th>\n",
              "      <td>2</td>\n",
              "      <td>2014</td>\n",
              "      <td>280401</td>\n",
              "      <td>2014</td>\n",
              "      <td>2</td>\n",
              "      <td>26/02/2014</td>\n",
              "      <td>17:00</td>\n",
              "      <td>Drogas</td>\n",
              "      <td>VEICULO</td>\n",
              "      <td>-23.71286115</td>\n",
              "      <td>-46.78186771</td>\n",
              "      <td>BARUERI</td>\n",
              "      <td>R MARIA HELENA</td>\n",
              "      <td>Indiciado</td>\n",
              "      <td>4</td>\n",
              "      <td>M</td>\n",
              "      <td>19</td>\n",
              "      <td>Parda</td>\n",
              "      <td>DESEMPREGADO</td>\n",
              "      <td>1 Grau completo</td>\n",
              "      <td>1</td>\n",
              "      <td>0</td>\n",
              "      <td>0</td>\n",
              "      <td>0</td>\n",
              "      <td>0</td>\n",
              "      <td>0</td>\n",
              "      <td>0</td>\n",
              "      <td>0</td>\n",
              "      <td>0</td>\n",
              "      <td>0</td>\n",
              "      <td>0</td>\n",
              "      <td>0</td>\n",
              "      <td>0</td>\n",
              "      <td>0</td>\n",
              "    </tr>\n",
              "  </tbody>\n",
              "</table>\n",
              "</div>"
            ],
            "text/plain": [
              "   NUM_BO  ANO_BO  ...  Lesao culposa por veiculo  Roubo\n",
              "0       2    2014  ...                          0      0\n",
              "1       2    2014  ...                          0      0\n",
              "\n",
              "[2 rows x 34 columns]"
            ]
          },
          "metadata": {
            "tags": []
          },
          "execution_count": 38
        }
      ]
    },
    {
      "cell_type": "markdown",
      "metadata": {
        "id": "44g6uN_tXuiT"
      },
      "source": [
        "*A partir daí, podemos observar que o roubo é o crime mais comum e que o furto foi dividido em duas categorias (simples e qualificado).*"
      ]
    },
    {
      "cell_type": "code",
      "metadata": {
        "colab": {
          "base_uri": "https://localhost:8080/"
        },
        "id": "hb0sZAOCzMjm",
        "outputId": "bb2f8329-3388-40b3-8662-e90db6317300"
      },
      "source": [
        "data['RUBRICA'].value_counts()"
      ],
      "execution_count": 39,
      "outputs": [
        {
          "output_type": "execute_result",
          "data": {
            "text/plain": [
              "Roubo                               3630\n",
              "Lesao corporal                      1875\n",
              "Drogas                              1694\n",
              "Furto                               1012\n",
              "Furto qualificado                    633\n",
              "Lesao culposa por veiculo            595\n",
              "Homicidio                            279\n",
              "Estupro de vulneravel                103\n",
              "Homicidio qualificado                 96\n",
              "Estupro                               50\n",
              "Homicidio culposo por veiculo         22\n",
              "Lesao corporal de natureza GRAVE       4\n",
              "Lesao corporal seguida de morte        4\n",
              "Homicidio culposo                      3\n",
              "Name: RUBRICA, dtype: int64"
            ]
          },
          "metadata": {
            "tags": []
          },
          "execution_count": 39
        }
      ]
    },
    {
      "cell_type": "code",
      "metadata": {
        "colab": {
          "base_uri": "https://localhost:8080/",
          "height": 566
        },
        "id": "qs0CykUtgBzu",
        "outputId": "c2a9c478-8fa5-43dd-a536-2e970b3ea54a"
      },
      "source": [
        "plt.style.use('dark_background')\r\n",
        "plt.figure(figsize=(15,9))\r\n",
        "plt.xlabel('Número de Crimes')\r\n",
        "data['RUBRICA'].value_counts().plot(kind='barh', title='Frequência de crimes por tipo')\r\n",
        "plt.rcParams.update({'font.size': 20})\r\n",
        "plt.show()"
      ],
      "execution_count": 40,
      "outputs": [
        {
          "output_type": "display_data",
          "data": {
            "image/png": "[encoded data removed]",
            "text/plain": [
              "<Figure size 1080x648 with 1 Axes>"
            ]
          },
          "metadata": {
            "tags": []
          }
        }
      ]
    },
    {
      "cell_type": "markdown",
      "metadata": {
        "id": "1u-xeN8F5NlP"
      },
      "source": [
        "*Para o nosso estudo, precisamos somar essas três colunas (Roubo, Furto e Furto qualificado) que estão relacionadas aos Crimes Violentos contra o Patrimônio (CVP). Então, criamos uma nova coluna (CRIME) com o somatório dos casos de furto e roubo, excluindo outros tipos de crimes:*"
      ]
    },
    {
      "cell_type": "code",
      "metadata": {
        "colab": {
          "base_uri": "https://localhost:8080/",
          "height": 551
        },
        "id": "AHZhnLuAceZU",
        "outputId": "83d72a06-1288-428f-c55d-566d065f76df"
      },
      "source": [
        "data['CRIME'] = data['Roubo'] + data['Furto'] + data['Furto qualificado']\r\n",
        "data.head(10)"
      ],
      "execution_count": 41,
      "outputs": [
        {
          "output_type": "execute_result",
          "data": {
            "text/html": [
              "<div>\n",
              "<style scoped>\n",
              "    .dataframe tbody tr th:only-of-type {\n",
              "        vertical-align: middle;\n",
              "    }\n",
              "\n",
              "    .dataframe tbody tr th {\n",
              "        vertical-align: top;\n",
              "    }\n",
              "\n",
              "    .dataframe thead th {\n",
              "        text-align: right;\n",
              "    }\n",
              "</style>\n",
              "<table border=\"1\" class=\"dataframe\">\n",
              "  <thead>\n",
              "    <tr style=\"text-align: right;\">\n",
              "      <th></th>\n",
              "      <th>NUM_BO</th>\n",
              "      <th>ANO_BO</th>\n",
              "      <th>ID_DELEGACIA</th>\n",
              "      <th>ANO</th>\n",
              "      <th>MES</th>\n",
              "      <th>DATA_OCORRENCIA_BO</th>\n",
              "      <th>HORA_OCORRENCIA_BO</th>\n",
              "      <th>RUBRICA</th>\n",
              "      <th>CONDUTA</th>\n",
              "      <th>LATITUDE</th>\n",
              "      <th>LONGITUDE</th>\n",
              "      <th>CIDADE</th>\n",
              "      <th>LOGRADOURO</th>\n",
              "      <th>DESCR_TIPO_PESSOA</th>\n",
              "      <th>CONT_PESSOA</th>\n",
              "      <th>SEXO_PESSOA</th>\n",
              "      <th>IDADE_PESSOA</th>\n",
              "      <th>COR</th>\n",
              "      <th>DESCR_PROFISSAO</th>\n",
              "      <th>DESCR_GRAU_INSTRUCAO</th>\n",
              "      <th>Drogas</th>\n",
              "      <th>Estupro</th>\n",
              "      <th>Estupro de vulneravel</th>\n",
              "      <th>Furto</th>\n",
              "      <th>Furto qualificado</th>\n",
              "      <th>Homicidio</th>\n",
              "      <th>Homicidio culposo</th>\n",
              "      <th>Homicidio culposo por veiculo</th>\n",
              "      <th>Homicidio qualificado</th>\n",
              "      <th>Lesao corporal</th>\n",
              "      <th>Lesao corporal de natureza GRAVE</th>\n",
              "      <th>Lesao corporal seguida de morte</th>\n",
              "      <th>Lesao culposa por veiculo</th>\n",
              "      <th>Roubo</th>\n",
              "      <th>CRIME</th>\n",
              "    </tr>\n",
              "  </thead>\n",
              "  <tbody>\n",
              "    <tr>\n",
              "      <th>0</th>\n",
              "      <td>2</td>\n",
              "      <td>2014</td>\n",
              "      <td>280401</td>\n",
              "      <td>2014</td>\n",
              "      <td>2</td>\n",
              "      <td>26/02/2014</td>\n",
              "      <td>17:00</td>\n",
              "      <td>Drogas</td>\n",
              "      <td>VEICULO</td>\n",
              "      <td>-23.71286115</td>\n",
              "      <td>-46.78186771</td>\n",
              "      <td>BARUERI</td>\n",
              "      <td>R MARIA HELENA</td>\n",
              "      <td>Curador</td>\n",
              "      <td>7</td>\n",
              "      <td>F</td>\n",
              "      <td>51</td>\n",
              "      <td>Parda</td>\n",
              "      <td>AUXILIAR DE LIMPEZA</td>\n",
              "      <td>2 Grau completo</td>\n",
              "      <td>1</td>\n",
              "      <td>0</td>\n",
              "      <td>0</td>\n",
              "      <td>0</td>\n",
              "      <td>0</td>\n",
              "      <td>0</td>\n",
              "      <td>0</td>\n",
              "      <td>0</td>\n",
              "      <td>0</td>\n",
              "      <td>0</td>\n",
              "      <td>0</td>\n",
              "      <td>0</td>\n",
              "      <td>0</td>\n",
              "      <td>0</td>\n",
              "      <td>0</td>\n",
              "    </tr>\n",
              "    <tr>\n",
              "      <th>1</th>\n",
              "      <td>2</td>\n",
              "      <td>2014</td>\n",
              "      <td>280401</td>\n",
              "      <td>2014</td>\n",
              "      <td>2</td>\n",
              "      <td>26/02/2014</td>\n",
              "      <td>17:00</td>\n",
              "      <td>Drogas</td>\n",
              "      <td>VEICULO</td>\n",
              "      <td>-23.71286115</td>\n",
              "      <td>-46.78186771</td>\n",
              "      <td>BARUERI</td>\n",
              "      <td>R MARIA HELENA</td>\n",
              "      <td>Indiciado</td>\n",
              "      <td>4</td>\n",
              "      <td>M</td>\n",
              "      <td>19</td>\n",
              "      <td>Parda</td>\n",
              "      <td>DESEMPREGADO</td>\n",
              "      <td>1 Grau completo</td>\n",
              "      <td>1</td>\n",
              "      <td>0</td>\n",
              "      <td>0</td>\n",
              "      <td>0</td>\n",
              "      <td>0</td>\n",
              "      <td>0</td>\n",
              "      <td>0</td>\n",
              "      <td>0</td>\n",
              "      <td>0</td>\n",
              "      <td>0</td>\n",
              "      <td>0</td>\n",
              "      <td>0</td>\n",
              "      <td>0</td>\n",
              "      <td>0</td>\n",
              "      <td>0</td>\n",
              "    </tr>\n",
              "    <tr>\n",
              "      <th>2</th>\n",
              "      <td>2</td>\n",
              "      <td>2014</td>\n",
              "      <td>280401</td>\n",
              "      <td>2014</td>\n",
              "      <td>2</td>\n",
              "      <td>26/02/2014</td>\n",
              "      <td>17:00</td>\n",
              "      <td>Drogas</td>\n",
              "      <td>VEICULO</td>\n",
              "      <td>-23.71286115</td>\n",
              "      <td>-46.78186771</td>\n",
              "      <td>BARUERI</td>\n",
              "      <td>R MARIA HELENA</td>\n",
              "      <td>Testemunha</td>\n",
              "      <td>2</td>\n",
              "      <td>M</td>\n",
              "      <td>38</td>\n",
              "      <td>Branca</td>\n",
              "      <td>INVESTIGADOR(A)</td>\n",
              "      <td>Superior completo</td>\n",
              "      <td>1</td>\n",
              "      <td>0</td>\n",
              "      <td>0</td>\n",
              "      <td>0</td>\n",
              "      <td>0</td>\n",
              "      <td>0</td>\n",
              "      <td>0</td>\n",
              "      <td>0</td>\n",
              "      <td>0</td>\n",
              "      <td>0</td>\n",
              "      <td>0</td>\n",
              "      <td>0</td>\n",
              "      <td>0</td>\n",
              "      <td>0</td>\n",
              "      <td>0</td>\n",
              "    </tr>\n",
              "    <tr>\n",
              "      <th>3</th>\n",
              "      <td>2</td>\n",
              "      <td>2014</td>\n",
              "      <td>280401</td>\n",
              "      <td>2014</td>\n",
              "      <td>2</td>\n",
              "      <td>26/02/2014</td>\n",
              "      <td>17:00</td>\n",
              "      <td>Drogas</td>\n",
              "      <td>VEICULO</td>\n",
              "      <td>-23.71286115</td>\n",
              "      <td>-46.78186771</td>\n",
              "      <td>BARUERI</td>\n",
              "      <td>R MARIA HELENA</td>\n",
              "      <td>Testemunha</td>\n",
              "      <td>6</td>\n",
              "      <td>M</td>\n",
              "      <td>23</td>\n",
              "      <td>Parda</td>\n",
              "      <td>DESEMPREGADO</td>\n",
              "      <td>2 Grau completo</td>\n",
              "      <td>1</td>\n",
              "      <td>0</td>\n",
              "      <td>0</td>\n",
              "      <td>0</td>\n",
              "      <td>0</td>\n",
              "      <td>0</td>\n",
              "      <td>0</td>\n",
              "      <td>0</td>\n",
              "      <td>0</td>\n",
              "      <td>0</td>\n",
              "      <td>0</td>\n",
              "      <td>0</td>\n",
              "      <td>0</td>\n",
              "      <td>0</td>\n",
              "      <td>0</td>\n",
              "    </tr>\n",
              "    <tr>\n",
              "      <th>4</th>\n",
              "      <td>3</td>\n",
              "      <td>2014</td>\n",
              "      <td>30314</td>\n",
              "      <td>2014</td>\n",
              "      <td>1</td>\n",
              "      <td>14/01/2014</td>\n",
              "      <td>17:00</td>\n",
              "      <td>Drogas</td>\n",
              "      <td>VEICULO</td>\n",
              "      <td>-2.348.960.369</td>\n",
              "      <td>-4.637.155.072</td>\n",
              "      <td>ITAQUAQUECETUBA</td>\n",
              "      <td>R UBATUBA</td>\n",
              "      <td>Testemunha</td>\n",
              "      <td>1</td>\n",
              "      <td>M</td>\n",
              "      <td>40</td>\n",
              "      <td>Branca</td>\n",
              "      <td>POLICIAL CIVIL</td>\n",
              "      <td>2 Grau completo</td>\n",
              "      <td>1</td>\n",
              "      <td>0</td>\n",
              "      <td>0</td>\n",
              "      <td>0</td>\n",
              "      <td>0</td>\n",
              "      <td>0</td>\n",
              "      <td>0</td>\n",
              "      <td>0</td>\n",
              "      <td>0</td>\n",
              "      <td>0</td>\n",
              "      <td>0</td>\n",
              "      <td>0</td>\n",
              "      <td>0</td>\n",
              "      <td>0</td>\n",
              "      <td>0</td>\n",
              "    </tr>\n",
              "    <tr>\n",
              "      <th>5</th>\n",
              "      <td>1</td>\n",
              "      <td>2014</td>\n",
              "      <td>210106</td>\n",
              "      <td>2014</td>\n",
              "      <td>1</td>\n",
              "      <td>06/01/2014</td>\n",
              "      <td>11:00</td>\n",
              "      <td>Drogas</td>\n",
              "      <td>VEICULO</td>\n",
              "      <td>-23.71286115</td>\n",
              "      <td>-46.78186771</td>\n",
              "      <td>S.PAULO</td>\n",
              "      <td>R APA</td>\n",
              "      <td>Adolescente infrator</td>\n",
              "      <td>3</td>\n",
              "      <td>M</td>\n",
              "      <td>17</td>\n",
              "      <td>Parda</td>\n",
              "      <td>DESEMPREGADO</td>\n",
              "      <td>1 Grau incompleto</td>\n",
              "      <td>1</td>\n",
              "      <td>0</td>\n",
              "      <td>0</td>\n",
              "      <td>0</td>\n",
              "      <td>0</td>\n",
              "      <td>0</td>\n",
              "      <td>0</td>\n",
              "      <td>0</td>\n",
              "      <td>0</td>\n",
              "      <td>0</td>\n",
              "      <td>0</td>\n",
              "      <td>0</td>\n",
              "      <td>0</td>\n",
              "      <td>0</td>\n",
              "      <td>0</td>\n",
              "    </tr>\n",
              "    <tr>\n",
              "      <th>6</th>\n",
              "      <td>1</td>\n",
              "      <td>2014</td>\n",
              "      <td>210106</td>\n",
              "      <td>2014</td>\n",
              "      <td>1</td>\n",
              "      <td>06/01/2014</td>\n",
              "      <td>11:00</td>\n",
              "      <td>Drogas</td>\n",
              "      <td>VEICULO</td>\n",
              "      <td>-23.71286115</td>\n",
              "      <td>-46.78186771</td>\n",
              "      <td>S.PAULO</td>\n",
              "      <td>R APA</td>\n",
              "      <td>Testemunha</td>\n",
              "      <td>2</td>\n",
              "      <td>M</td>\n",
              "      <td>56</td>\n",
              "      <td>Branca</td>\n",
              "      <td>POLICIAL CIVIL</td>\n",
              "      <td>2 Grau completo</td>\n",
              "      <td>1</td>\n",
              "      <td>0</td>\n",
              "      <td>0</td>\n",
              "      <td>0</td>\n",
              "      <td>0</td>\n",
              "      <td>0</td>\n",
              "      <td>0</td>\n",
              "      <td>0</td>\n",
              "      <td>0</td>\n",
              "      <td>0</td>\n",
              "      <td>0</td>\n",
              "      <td>0</td>\n",
              "      <td>0</td>\n",
              "      <td>0</td>\n",
              "      <td>0</td>\n",
              "    </tr>\n",
              "    <tr>\n",
              "      <th>7</th>\n",
              "      <td>2</td>\n",
              "      <td>2014</td>\n",
              "      <td>30641</td>\n",
              "      <td>2014</td>\n",
              "      <td>1</td>\n",
              "      <td>02/01/2014</td>\n",
              "      <td>16:10</td>\n",
              "      <td>Drogas</td>\n",
              "      <td>VEICULO</td>\n",
              "      <td>-2.355.277.328</td>\n",
              "      <td>-4.620.240.893</td>\n",
              "      <td>MOGI DAS CRUZES</td>\n",
              "      <td>AVENIDA PERU</td>\n",
              "      <td>Adolescente infrator</td>\n",
              "      <td>2</td>\n",
              "      <td>M</td>\n",
              "      <td>16</td>\n",
              "      <td>Parda</td>\n",
              "      <td>DESEMPREGADO</td>\n",
              "      <td>1 Grau completo</td>\n",
              "      <td>1</td>\n",
              "      <td>0</td>\n",
              "      <td>0</td>\n",
              "      <td>0</td>\n",
              "      <td>0</td>\n",
              "      <td>0</td>\n",
              "      <td>0</td>\n",
              "      <td>0</td>\n",
              "      <td>0</td>\n",
              "      <td>0</td>\n",
              "      <td>0</td>\n",
              "      <td>0</td>\n",
              "      <td>0</td>\n",
              "      <td>0</td>\n",
              "      <td>0</td>\n",
              "    </tr>\n",
              "    <tr>\n",
              "      <th>8</th>\n",
              "      <td>2</td>\n",
              "      <td>2014</td>\n",
              "      <td>210102</td>\n",
              "      <td>2014</td>\n",
              "      <td>1</td>\n",
              "      <td>08/01/2014</td>\n",
              "      <td>15:00</td>\n",
              "      <td>Drogas</td>\n",
              "      <td>VEICULO</td>\n",
              "      <td>-2.361.894.605</td>\n",
              "      <td>-4.650.630.594</td>\n",
              "      <td>S.PAULO</td>\n",
              "      <td>R BATISTA FERGUSIO</td>\n",
              "      <td>Adolescente infrator</td>\n",
              "      <td>1</td>\n",
              "      <td>M</td>\n",
              "      <td>17</td>\n",
              "      <td>Parda</td>\n",
              "      <td>DESEMPREGADO(A)</td>\n",
              "      <td>1 Grau completo</td>\n",
              "      <td>1</td>\n",
              "      <td>0</td>\n",
              "      <td>0</td>\n",
              "      <td>0</td>\n",
              "      <td>0</td>\n",
              "      <td>0</td>\n",
              "      <td>0</td>\n",
              "      <td>0</td>\n",
              "      <td>0</td>\n",
              "      <td>0</td>\n",
              "      <td>0</td>\n",
              "      <td>0</td>\n",
              "      <td>0</td>\n",
              "      <td>0</td>\n",
              "      <td>0</td>\n",
              "    </tr>\n",
              "    <tr>\n",
              "      <th>9</th>\n",
              "      <td>2</td>\n",
              "      <td>2014</td>\n",
              "      <td>210102</td>\n",
              "      <td>2014</td>\n",
              "      <td>1</td>\n",
              "      <td>08/01/2014</td>\n",
              "      <td>15:00</td>\n",
              "      <td>Drogas</td>\n",
              "      <td>VEICULO</td>\n",
              "      <td>-2.361.894.605</td>\n",
              "      <td>-4.650.630.594</td>\n",
              "      <td>S.PAULO</td>\n",
              "      <td>R BATISTA FERGUSIO</td>\n",
              "      <td>Condutor</td>\n",
              "      <td>4</td>\n",
              "      <td>M</td>\n",
              "      <td>33</td>\n",
              "      <td>Branca</td>\n",
              "      <td>POLICIAL CIVIL</td>\n",
              "      <td>Superior completo</td>\n",
              "      <td>1</td>\n",
              "      <td>0</td>\n",
              "      <td>0</td>\n",
              "      <td>0</td>\n",
              "      <td>0</td>\n",
              "      <td>0</td>\n",
              "      <td>0</td>\n",
              "      <td>0</td>\n",
              "      <td>0</td>\n",
              "      <td>0</td>\n",
              "      <td>0</td>\n",
              "      <td>0</td>\n",
              "      <td>0</td>\n",
              "      <td>0</td>\n",
              "      <td>0</td>\n",
              "    </tr>\n",
              "  </tbody>\n",
              "</table>\n",
              "</div>"
            ],
            "text/plain": [
              "   NUM_BO  ANO_BO  ID_DELEGACIA  ...  Lesao culposa por veiculo  Roubo CRIME\n",
              "0       2    2014        280401  ...                          0      0     0\n",
              "1       2    2014        280401  ...                          0      0     0\n",
              "2       2    2014        280401  ...                          0      0     0\n",
              "3       2    2014        280401  ...                          0      0     0\n",
              "4       3    2014         30314  ...                          0      0     0\n",
              "5       1    2014        210106  ...                          0      0     0\n",
              "6       1    2014        210106  ...                          0      0     0\n",
              "7       2    2014         30641  ...                          0      0     0\n",
              "8       2    2014        210102  ...                          0      0     0\n",
              "9       2    2014        210102  ...                          0      0     0\n",
              "\n",
              "[10 rows x 35 columns]"
            ]
          },
          "metadata": {
            "tags": []
          },
          "execution_count": 41
        }
      ]
    },
    {
      "cell_type": "markdown",
      "metadata": {
        "id": "kPbGJpFaZ9yA"
      },
      "source": [
        "# **4. Conclusões**"
      ]
    },
    {
      "cell_type": "markdown",
      "metadata": {
        "id": "GJ78OyBPLTBs"
      },
      "source": [
        "*Podemos concluir que em média pelo menos 50% dos boletins tinham apenas 2 envolvidos (vítima ou não) e que pelo menos 75% das ocorrências se concentram no mês de janeiro, ainda que os registros sejam de apenas metade do ano. Talvez por esse ser geralmente período de férias o que inclui maior movimentação de pessoas nas ruas e em espaços públicos:*"
      ]
    },
    {
      "cell_type": "code",
      "metadata": {
        "colab": {
          "base_uri": "https://localhost:8080/",
          "height": 357
        },
        "id": "XiJ6s1sC-ZmS",
        "outputId": "fb5d818b-f13e-44a7-d044-d49db21fee5f"
      },
      "source": [
        "data.describe()"
      ],
      "execution_count": 42,
      "outputs": [
        {
          "output_type": "execute_result",
          "data": {
            "text/html": [
              "<div>\n",
              "<style scoped>\n",
              "    .dataframe tbody tr th:only-of-type {\n",
              "        vertical-align: middle;\n",
              "    }\n",
              "\n",
              "    .dataframe tbody tr th {\n",
              "        vertical-align: top;\n",
              "    }\n",
              "\n",
              "    .dataframe thead th {\n",
              "        text-align: right;\n",
              "    }\n",
              "</style>\n",
              "<table border=\"1\" class=\"dataframe\">\n",
              "  <thead>\n",
              "    <tr style=\"text-align: right;\">\n",
              "      <th></th>\n",
              "      <th>NUM_BO</th>\n",
              "      <th>ANO_BO</th>\n",
              "      <th>ID_DELEGACIA</th>\n",
              "      <th>ANO</th>\n",
              "      <th>MES</th>\n",
              "      <th>CONT_PESSOA</th>\n",
              "      <th>Drogas</th>\n",
              "      <th>Estupro</th>\n",
              "      <th>Estupro de vulneravel</th>\n",
              "      <th>Furto</th>\n",
              "      <th>Furto qualificado</th>\n",
              "      <th>Homicidio</th>\n",
              "      <th>Homicidio culposo</th>\n",
              "      <th>Homicidio culposo por veiculo</th>\n",
              "      <th>Homicidio qualificado</th>\n",
              "      <th>Lesao corporal</th>\n",
              "      <th>Lesao corporal de natureza GRAVE</th>\n",
              "      <th>Lesao corporal seguida de morte</th>\n",
              "      <th>Lesao culposa por veiculo</th>\n",
              "      <th>Roubo</th>\n",
              "      <th>CRIME</th>\n",
              "    </tr>\n",
              "  </thead>\n",
              "  <tbody>\n",
              "    <tr>\n",
              "      <th>count</th>\n",
              "      <td>10000.000000</td>\n",
              "      <td>10000.0</td>\n",
              "      <td>10000.000000</td>\n",
              "      <td>10000.0</td>\n",
              "      <td>10000.000000</td>\n",
              "      <td>10000.000000</td>\n",
              "      <td>10000.000000</td>\n",
              "      <td>10000.000000</td>\n",
              "      <td>10000.00000</td>\n",
              "      <td>10000.000000</td>\n",
              "      <td>10000.000000</td>\n",
              "      <td>10000.000000</td>\n",
              "      <td>10000.000000</td>\n",
              "      <td>10000.000000</td>\n",
              "      <td>10000.000000</td>\n",
              "      <td>10000.000000</td>\n",
              "      <td>10000.000000</td>\n",
              "      <td>10000.000000</td>\n",
              "      <td>10000.00000</td>\n",
              "      <td>10000.000000</td>\n",
              "      <td>10000.000000</td>\n",
              "    </tr>\n",
              "    <tr>\n",
              "      <th>mean</th>\n",
              "      <td>24.377100</td>\n",
              "      <td>2014.0</td>\n",
              "      <td>76819.235900</td>\n",
              "      <td>2014.0</td>\n",
              "      <td>1.362000</td>\n",
              "      <td>2.625500</td>\n",
              "      <td>0.169400</td>\n",
              "      <td>0.005000</td>\n",
              "      <td>0.01030</td>\n",
              "      <td>0.101200</td>\n",
              "      <td>0.063300</td>\n",
              "      <td>0.027900</td>\n",
              "      <td>0.000300</td>\n",
              "      <td>0.002200</td>\n",
              "      <td>0.009600</td>\n",
              "      <td>0.187500</td>\n",
              "      <td>0.000400</td>\n",
              "      <td>0.000400</td>\n",
              "      <td>0.05950</td>\n",
              "      <td>0.363000</td>\n",
              "      <td>0.527500</td>\n",
              "    </tr>\n",
              "    <tr>\n",
              "      <th>std</th>\n",
              "      <td>16.054192</td>\n",
              "      <td>0.0</td>\n",
              "      <td>110985.447337</td>\n",
              "      <td>0.0</td>\n",
              "      <td>0.898909</td>\n",
              "      <td>1.934276</td>\n",
              "      <td>0.375124</td>\n",
              "      <td>0.070537</td>\n",
              "      <td>0.10097</td>\n",
              "      <td>0.301608</td>\n",
              "      <td>0.243514</td>\n",
              "      <td>0.164695</td>\n",
              "      <td>0.017319</td>\n",
              "      <td>0.046855</td>\n",
              "      <td>0.097513</td>\n",
              "      <td>0.390332</td>\n",
              "      <td>0.019997</td>\n",
              "      <td>0.019997</td>\n",
              "      <td>0.23657</td>\n",
              "      <td>0.480889</td>\n",
              "      <td>0.499268</td>\n",
              "    </tr>\n",
              "    <tr>\n",
              "      <th>min</th>\n",
              "      <td>1.000000</td>\n",
              "      <td>2014.0</td>\n",
              "      <td>10004.000000</td>\n",
              "      <td>2014.0</td>\n",
              "      <td>1.000000</td>\n",
              "      <td>1.000000</td>\n",
              "      <td>0.000000</td>\n",
              "      <td>0.000000</td>\n",
              "      <td>0.00000</td>\n",
              "      <td>0.000000</td>\n",
              "      <td>0.000000</td>\n",
              "      <td>0.000000</td>\n",
              "      <td>0.000000</td>\n",
              "      <td>0.000000</td>\n",
              "      <td>0.000000</td>\n",
              "      <td>0.000000</td>\n",
              "      <td>0.000000</td>\n",
              "      <td>0.000000</td>\n",
              "      <td>0.00000</td>\n",
              "      <td>0.000000</td>\n",
              "      <td>0.000000</td>\n",
              "    </tr>\n",
              "    <tr>\n",
              "      <th>25%</th>\n",
              "      <td>11.000000</td>\n",
              "      <td>2014.0</td>\n",
              "      <td>10365.000000</td>\n",
              "      <td>2014.0</td>\n",
              "      <td>1.000000</td>\n",
              "      <td>1.000000</td>\n",
              "      <td>0.000000</td>\n",
              "      <td>0.000000</td>\n",
              "      <td>0.00000</td>\n",
              "      <td>0.000000</td>\n",
              "      <td>0.000000</td>\n",
              "      <td>0.000000</td>\n",
              "      <td>0.000000</td>\n",
              "      <td>0.000000</td>\n",
              "      <td>0.000000</td>\n",
              "      <td>0.000000</td>\n",
              "      <td>0.000000</td>\n",
              "      <td>0.000000</td>\n",
              "      <td>0.00000</td>\n",
              "      <td>0.000000</td>\n",
              "      <td>0.000000</td>\n",
              "    </tr>\n",
              "    <tr>\n",
              "      <th>50%</th>\n",
              "      <td>21.000000</td>\n",
              "      <td>2014.0</td>\n",
              "      <td>30211.000000</td>\n",
              "      <td>2014.0</td>\n",
              "      <td>1.000000</td>\n",
              "      <td>2.000000</td>\n",
              "      <td>0.000000</td>\n",
              "      <td>0.000000</td>\n",
              "      <td>0.00000</td>\n",
              "      <td>0.000000</td>\n",
              "      <td>0.000000</td>\n",
              "      <td>0.000000</td>\n",
              "      <td>0.000000</td>\n",
              "      <td>0.000000</td>\n",
              "      <td>0.000000</td>\n",
              "      <td>0.000000</td>\n",
              "      <td>0.000000</td>\n",
              "      <td>0.000000</td>\n",
              "      <td>0.00000</td>\n",
              "      <td>0.000000</td>\n",
              "      <td>1.000000</td>\n",
              "    </tr>\n",
              "    <tr>\n",
              "      <th>75%</th>\n",
              "      <td>37.000000</td>\n",
              "      <td>2014.0</td>\n",
              "      <td>140206.000000</td>\n",
              "      <td>2014.0</td>\n",
              "      <td>1.000000</td>\n",
              "      <td>3.000000</td>\n",
              "      <td>0.000000</td>\n",
              "      <td>0.000000</td>\n",
              "      <td>0.00000</td>\n",
              "      <td>0.000000</td>\n",
              "      <td>0.000000</td>\n",
              "      <td>0.000000</td>\n",
              "      <td>0.000000</td>\n",
              "      <td>0.000000</td>\n",
              "      <td>0.000000</td>\n",
              "      <td>0.000000</td>\n",
              "      <td>0.000000</td>\n",
              "      <td>0.000000</td>\n",
              "      <td>0.00000</td>\n",
              "      <td>1.000000</td>\n",
              "      <td>1.000000</td>\n",
              "    </tr>\n",
              "    <tr>\n",
              "      <th>max</th>\n",
              "      <td>63.000000</td>\n",
              "      <td>2014.0</td>\n",
              "      <td>990900.000000</td>\n",
              "      <td>2014.0</td>\n",
              "      <td>6.000000</td>\n",
              "      <td>17.000000</td>\n",
              "      <td>1.000000</td>\n",
              "      <td>1.000000</td>\n",
              "      <td>1.00000</td>\n",
              "      <td>1.000000</td>\n",
              "      <td>1.000000</td>\n",
              "      <td>1.000000</td>\n",
              "      <td>1.000000</td>\n",
              "      <td>1.000000</td>\n",
              "      <td>1.000000</td>\n",
              "      <td>1.000000</td>\n",
              "      <td>1.000000</td>\n",
              "      <td>1.000000</td>\n",
              "      <td>1.00000</td>\n",
              "      <td>1.000000</td>\n",
              "      <td>1.000000</td>\n",
              "    </tr>\n",
              "  </tbody>\n",
              "</table>\n",
              "</div>"
            ],
            "text/plain": [
              "             NUM_BO   ANO_BO  ...         Roubo         CRIME\n",
              "count  10000.000000  10000.0  ...  10000.000000  10000.000000\n",
              "mean      24.377100   2014.0  ...      0.363000      0.527500\n",
              "std       16.054192      0.0  ...      0.480889      0.499268\n",
              "min        1.000000   2014.0  ...      0.000000      0.000000\n",
              "25%       11.000000   2014.0  ...      0.000000      0.000000\n",
              "50%       21.000000   2014.0  ...      0.000000      1.000000\n",
              "75%       37.000000   2014.0  ...      1.000000      1.000000\n",
              "max       63.000000   2014.0  ...      1.000000      1.000000\n",
              "\n",
              "[8 rows x 21 columns]"
            ]
          },
          "metadata": {
            "tags": []
          },
          "execution_count": 42
        }
      ]
    },
    {
      "cell_type": "markdown",
      "metadata": {
        "id": "d4-42PCAbFqR"
      },
      "source": [
        "*Inclusive, os envolvidos são em sua maioria homens. Fato este que talvez contenha alguma relação com o que foi apontado anteriormente (de que a maior parte dos crimes foi sofrido por policiais), considerando as estatísticas de que a área é majoritariamente masculina, apesar da mudança de contexto dos últimos anos:*"
      ]
    },
    {
      "cell_type": "code",
      "metadata": {
        "colab": {
          "base_uri": "https://localhost:8080/"
        },
        "id": "E6JyF9FOQXc7",
        "outputId": "5bbdeb40-5658-4281-c86f-6bc0425e81a6"
      },
      "source": [
        "data.groupby(by='SEXO_PESSOA').size()"
      ],
      "execution_count": 43,
      "outputs": [
        {
          "output_type": "execute_result",
          "data": {
            "text/plain": [
              "SEXO_PESSOA\n",
              "F    2335\n",
              "I     166\n",
              "M    7499\n",
              "dtype: int64"
            ]
          },
          "metadata": {
            "tags": []
          },
          "execution_count": 43
        }
      ]
    },
    {
      "cell_type": "markdown",
      "metadata": {
        "id": "f9ZbxfifJQO5"
      },
      "source": [
        "*Corroborando as conclusões anteriores, os dados mostram que 8.126 crimes aconteceram no mês de janeiro em valores absolutos, os quais representam 81,26% do total do semestre (10.000 ocorrências).*"
      ]
    },
    {
      "cell_type": "code",
      "metadata": {
        "colab": {
          "base_uri": "https://localhost:8080/"
        },
        "id": "LJta60VdJMvf",
        "outputId": "4deec06b-534e-4d2c-9c56-4907ebbc6b8f"
      },
      "source": [
        "data['MES'].value_counts()"
      ],
      "execution_count": 44,
      "outputs": [
        {
          "output_type": "execute_result",
          "data": {
            "text/plain": [
              "1    8126\n",
              "2     904\n",
              "3     481\n",
              "4     278\n",
              "5     135\n",
              "6      76\n",
              "Name: MES, dtype: int64"
            ]
          },
          "metadata": {
            "tags": []
          },
          "execution_count": 44
        }
      ]
    },
    {
      "cell_type": "code",
      "metadata": {
        "colab": {
          "base_uri": "https://localhost:8080/"
        },
        "id": "pkp4p6mRJ-Zx",
        "outputId": "ca754915-27bb-4b59-8a86-6c7baab30fa4"
      },
      "source": [
        "data['MES'].value_counts().sum()"
      ],
      "execution_count": 45,
      "outputs": [
        {
          "output_type": "execute_result",
          "data": {
            "text/plain": [
              "10000"
            ]
          },
          "metadata": {
            "tags": []
          },
          "execution_count": 45
        }
      ]
    },
    {
      "cell_type": "code",
      "metadata": {
        "id": "3Zf_uKgsfqs2"
      },
      "source": [
        "mes = data[\"MES\"]"
      ],
      "execution_count": 46,
      "outputs": []
    },
    {
      "cell_type": "code",
      "metadata": {
        "colab": {
          "base_uri": "https://localhost:8080/",
          "height": 650
        },
        "id": "6WJ9EMESflxV",
        "outputId": "f784a32a-71fa-49a5-e7f9-fe3c1b77e94f"
      },
      "source": [
        "plt.style.use('seaborn-pastel')\r\n",
        "plt.figure(figsize=(20,10))\r\n",
        "plt.hist(mes, bins=40, color = \"skyblue\", ec=\"darkblue\")\r\n",
        "plt.title('Frequência de Crimes por Mês')\r\n",
        "plt.ylabel('Número de Crimes')\r\n",
        "plt.xlabel('Mês/2016')\r\n",
        "plt.rcParams.update({'font.size': 20})\r\n",
        "plt.show()"
      ],
      "execution_count": 47,
      "outputs": [
        {
          "output_type": "display_data",
          "data": {
            "image/png": "[encoded data removed]",
            "text/plain": [
              "<Figure size 1440x720 with 1 Axes>"
            ]
          },
          "metadata": {
            "tags": []
          }
        }
      ]
    },
    {
      "cell_type": "markdown",
      "metadata": {
        "id": "jKHJZ-D2whL3"
      },
      "source": [
        "*E, claramente, vemos o pico de criminalidade ocorrer aproximadamente ao meio-dia:*"
      ]
    },
    {
      "cell_type": "code",
      "metadata": {
        "id": "MD1utbjLNRA8"
      },
      "source": [
        "hora = data['HORA_OCORRENCIA_BO'].apply(lambda x: str(x)[:2])"
      ],
      "execution_count": 48,
      "outputs": []
    },
    {
      "cell_type": "code",
      "metadata": {
        "id": "M7Nr_ViqDWnR"
      },
      "source": [
        "hora = hora.astype(int)"
      ],
      "execution_count": 49,
      "outputs": []
    },
    {
      "cell_type": "code",
      "metadata": {
        "colab": {
          "base_uri": "https://localhost:8080/",
          "height": 650
        },
        "id": "qPd-xQT7M_8N",
        "outputId": "2d499310-8903-4a8c-e086-1868953f57aa"
      },
      "source": [
        "plt.style.use('dark_background')\r\n",
        "plt.figure(figsize=(20,10))\r\n",
        "plt.hist(hora, bins=20, color = \"skyblue\", ec=\"darkblue\")\r\n",
        "plt.title('Número de Crimes por Hora')\r\n",
        "plt.ylabel('Número de Crimes')\r\n",
        "plt.xlabel('Horário')\r\n",
        "plt.xticks(range(1, 24))\r\n",
        "plt.rcParams.update({'font.size': 20})\r\n",
        "plt.show()"
      ],
      "execution_count": 50,
      "outputs": [
        {
          "output_type": "display_data",
          "data": {
            "image/png": "[encoded data removed]",
            "text/plain": [
              "<Figure size 1440x720 with 1 Axes>"
            ]
          },
          "metadata": {
            "tags": []
          }
        }
      ]
    },
    {
      "cell_type": "markdown",
      "metadata": {
        "id": "cYeAUU-FSoFB"
      },
      "source": [
        "*Observamos também o quanto as ocorrências estão concentrados na capital, certamente devido à densidade populacional desta área:*"
      ]
    },
    {
      "cell_type": "code",
      "metadata": {
        "colab": {
          "base_uri": "https://localhost:8080/",
          "height": 1000
        },
        "id": "SjFZ-7N6RuH6",
        "outputId": "11fb1800-a745-4a9a-d98f-d2a8f041880f"
      },
      "source": [
        "plt.style.use('dark_background')\r\n",
        "plt.figure(figsize=(15, 20))\r\n",
        "plt.xlabel('Número de Crimes')\r\n",
        "data['CIDADE'].value_counts().plot(kind='barh', title='Frequência de Crimes por Cidade')\r\n",
        "plt.rcParams.update({'font.size': 20})\r\n",
        "plt.show()"
      ],
      "execution_count": 51,
      "outputs": [
        {
          "output_type": "display_data",
          "data": {
            "image/png": "[encoded data removed]",
            "text/plain": [
              "<Figure size 1080x1440 with 1 Axes>"
            ]
          },
          "metadata": {
            "tags": []
          }
        }
      ]
    },
    {
      "cell_type": "markdown",
      "metadata": {
        "id": "7stcmkd_gSAL"
      },
      "source": [
        "**Visualizando o mapa de calor para a ocorrência de crimes por região geográfica do estado de São Paulo.**"
      ]
    },
    {
      "cell_type": "markdown",
      "metadata": {
        "id": "ZgbP0b_Ckc0k"
      },
      "source": [
        "*Para construir o mapa, precisamos converter as coordenadas do tipo int para o tipo float:*"
      ]
    },
    {
      "cell_type": "code",
      "metadata": {
        "id": "J-Qrn1r6Pjtb"
      },
      "source": [
        ""
      ],
      "execution_count": 51,
      "outputs": []
    },
    {
      "cell_type": "code",
      "metadata": {
        "id": "8ixMEfA-pZZN"
      },
      "source": [
        "anti_lat = data['LATITUDE']\r\n",
        "anti_lon = data['LONGITUDE']"
      ],
      "execution_count": 52,
      "outputs": []
    },
    {
      "cell_type": "code",
      "metadata": {
        "colab": {
          "base_uri": "https://localhost:8080/"
        },
        "id": "sKOPq3LBGkcp",
        "outputId": "fce68705-d87b-42a0-e1d6-adbdb2c2741f"
      },
      "source": [
        "anti_lat.value_counts()"
      ],
      "execution_count": 53,
      "outputs": [
        {
          "output_type": "execute_result",
          "data": {
            "text/plain": [
              "-23.71286115      1593\n",
              "-2.371.286.115      48\n",
              "-2.364.027.263      23\n",
              "-2.352.519.435      23\n",
              "-2.347.103.556      22\n",
              "                  ... \n",
              "-2.359.544.137       1\n",
              "-2.353.738.456       1\n",
              "-2.359.727.563       1\n",
              "-2.369.494.436       1\n",
              "-2.365.331.721       1\n",
              "Name: LATITUDE, Length: 3440, dtype: int64"
            ]
          },
          "metadata": {
            "tags": []
          },
          "execution_count": 53
        }
      ]
    },
    {
      "cell_type": "code",
      "metadata": {
        "colab": {
          "base_uri": "https://localhost:8080/"
        },
        "id": "knLBWn7VGkLW",
        "outputId": "e2bb43bb-f316-4580-b918-1b8b81592369"
      },
      "source": [
        "anti_lon.head()"
      ],
      "execution_count": 54,
      "outputs": [
        {
          "output_type": "execute_result",
          "data": {
            "text/plain": [
              "0      -46.78186771\n",
              "1      -46.78186771\n",
              "2      -46.78186771\n",
              "3      -46.78186771\n",
              "4    -4.637.155.072\n",
              "Name: LONGITUDE, dtype: object"
            ]
          },
          "metadata": {
            "tags": []
          },
          "execution_count": 54
        }
      ]
    },
    {
      "cell_type": "code",
      "metadata": {
        "id": "Y6D2AsGa2SGm"
      },
      "source": [
        "def new_array(collunm_cvs):\r\n",
        "\r\n",
        "  def replace_location(string):\r\n",
        "    string = (string.replace('.',''))\r\n",
        "    string = '{0}{1}{2}'.format(string[0:3], '.', string[3:])\r\n",
        "    return string\r\n",
        "\r\n",
        "  newArray = []\r\n",
        "  for x in collunm_cvs:\r\n",
        "    newArray.append(replace_location(x))\r\n",
        "\r\n",
        "  DF = pd.DataFrame(newArray) \r\n",
        "  DF.to_csv(\"data1.csv\")\r\n",
        "  return (DF)"
      ],
      "execution_count": 55,
      "outputs": []
    },
    {
      "cell_type": "code",
      "metadata": {
        "id": "XNBrXrict14I"
      },
      "source": [
        "nova_lat = new_array(anti_lat)\r\n",
        "nova_lon = new_array(anti_lon)\r\n"
      ],
      "execution_count": 56,
      "outputs": []
    },
    {
      "cell_type": "code",
      "metadata": {
        "colab": {
          "base_uri": "https://localhost:8080/",
          "height": 197
        },
        "id": "i7nXEsraFC00",
        "outputId": "d4c0e6fe-f9a5-4977-88c3-c9f1f60ea630"
      },
      "source": [
        "nova_lat.head(5)\r\n"
      ],
      "execution_count": 57,
      "outputs": [
        {
          "output_type": "execute_result",
          "data": {
            "text/html": [
              "<div>\n",
              "<style scoped>\n",
              "    .dataframe tbody tr th:only-of-type {\n",
              "        vertical-align: middle;\n",
              "    }\n",
              "\n",
              "    .dataframe tbody tr th {\n",
              "        vertical-align: top;\n",
              "    }\n",
              "\n",
              "    .dataframe thead th {\n",
              "        text-align: right;\n",
              "    }\n",
              "</style>\n",
              "<table border=\"1\" class=\"dataframe\">\n",
              "  <thead>\n",
              "    <tr style=\"text-align: right;\">\n",
              "      <th></th>\n",
              "      <th>0</th>\n",
              "    </tr>\n",
              "  </thead>\n",
              "  <tbody>\n",
              "    <tr>\n",
              "      <th>0</th>\n",
              "      <td>-23.71286115</td>\n",
              "    </tr>\n",
              "    <tr>\n",
              "      <th>1</th>\n",
              "      <td>-23.71286115</td>\n",
              "    </tr>\n",
              "    <tr>\n",
              "      <th>2</th>\n",
              "      <td>-23.71286115</td>\n",
              "    </tr>\n",
              "    <tr>\n",
              "      <th>3</th>\n",
              "      <td>-23.71286115</td>\n",
              "    </tr>\n",
              "    <tr>\n",
              "      <th>4</th>\n",
              "      <td>-23.48960369</td>\n",
              "    </tr>\n",
              "  </tbody>\n",
              "</table>\n",
              "</div>"
            ],
            "text/plain": [
              "              0\n",
              "0  -23.71286115\n",
              "1  -23.71286115\n",
              "2  -23.71286115\n",
              "3  -23.71286115\n",
              "4  -23.48960369"
            ]
          },
          "metadata": {
            "tags": []
          },
          "execution_count": 57
        }
      ]
    },
    {
      "cell_type": "code",
      "metadata": {
        "colab": {
          "base_uri": "https://localhost:8080/",
          "height": 197
        },
        "id": "D4_STUUgFpxf",
        "outputId": "f5befd08-5887-427b-ed7e-1bd3911d37b0"
      },
      "source": [
        "nova_lon.head(5)"
      ],
      "execution_count": 58,
      "outputs": [
        {
          "output_type": "execute_result",
          "data": {
            "text/html": [
              "<div>\n",
              "<style scoped>\n",
              "    .dataframe tbody tr th:only-of-type {\n",
              "        vertical-align: middle;\n",
              "    }\n",
              "\n",
              "    .dataframe tbody tr th {\n",
              "        vertical-align: top;\n",
              "    }\n",
              "\n",
              "    .dataframe thead th {\n",
              "        text-align: right;\n",
              "    }\n",
              "</style>\n",
              "<table border=\"1\" class=\"dataframe\">\n",
              "  <thead>\n",
              "    <tr style=\"text-align: right;\">\n",
              "      <th></th>\n",
              "      <th>0</th>\n",
              "    </tr>\n",
              "  </thead>\n",
              "  <tbody>\n",
              "    <tr>\n",
              "      <th>0</th>\n",
              "      <td>-46.78186771</td>\n",
              "    </tr>\n",
              "    <tr>\n",
              "      <th>1</th>\n",
              "      <td>-46.78186771</td>\n",
              "    </tr>\n",
              "    <tr>\n",
              "      <th>2</th>\n",
              "      <td>-46.78186771</td>\n",
              "    </tr>\n",
              "    <tr>\n",
              "      <th>3</th>\n",
              "      <td>-46.78186771</td>\n",
              "    </tr>\n",
              "    <tr>\n",
              "      <th>4</th>\n",
              "      <td>-46.37155072</td>\n",
              "    </tr>\n",
              "  </tbody>\n",
              "</table>\n",
              "</div>"
            ],
            "text/plain": [
              "              0\n",
              "0  -46.78186771\n",
              "1  -46.78186771\n",
              "2  -46.78186771\n",
              "3  -46.78186771\n",
              "4  -46.37155072"
            ]
          },
          "metadata": {
            "tags": []
          },
          "execution_count": 58
        }
      ]
    },
    {
      "cell_type": "code",
      "metadata": {
        "id": "VDbdgh3iwuDc"
      },
      "source": [
        "data['nova_latitude'] = \"\"\r\n",
        "data['nova_longitude'] = \"\""
      ],
      "execution_count": 59,
      "outputs": []
    },
    {
      "cell_type": "code",
      "metadata": {
        "id": "enpzEpzoz58M"
      },
      "source": [
        "data['nova_latitude'] = data['nova_latitude'] + nova_lat\r\n",
        "data['nova_longitude'] = data['nova_longitude'] + nova_lon"
      ],
      "execution_count": 60,
      "outputs": []
    },
    {
      "cell_type": "code",
      "metadata": {
        "colab": {
          "base_uri": "https://localhost:8080/",
          "height": 984
        },
        "id": "NVCmizZIxGnG",
        "outputId": "b9df1d43-a0ef-418e-ab42-9aa26bd0b1be"
      },
      "source": [
        "data.head(20)"
      ],
      "execution_count": 61,
      "outputs": [
        {
          "output_type": "execute_result",
          "data": {
            "text/html": [
              "<div>\n",
              "<style scoped>\n",
              "    .dataframe tbody tr th:only-of-type {\n",
              "        vertical-align: middle;\n",
              "    }\n",
              "\n",
              "    .dataframe tbody tr th {\n",
              "        vertical-align: top;\n",
              "    }\n",
              "\n",
              "    .dataframe thead th {\n",
              "        text-align: right;\n",
              "    }\n",
              "</style>\n",
              "<table border=\"1\" class=\"dataframe\">\n",
              "  <thead>\n",
              "    <tr style=\"text-align: right;\">\n",
              "      <th></th>\n",
              "      <th>NUM_BO</th>\n",
              "      <th>ANO_BO</th>\n",
              "      <th>ID_DELEGACIA</th>\n",
              "      <th>ANO</th>\n",
              "      <th>MES</th>\n",
              "      <th>DATA_OCORRENCIA_BO</th>\n",
              "      <th>HORA_OCORRENCIA_BO</th>\n",
              "      <th>RUBRICA</th>\n",
              "      <th>CONDUTA</th>\n",
              "      <th>LATITUDE</th>\n",
              "      <th>LONGITUDE</th>\n",
              "      <th>CIDADE</th>\n",
              "      <th>LOGRADOURO</th>\n",
              "      <th>DESCR_TIPO_PESSOA</th>\n",
              "      <th>CONT_PESSOA</th>\n",
              "      <th>SEXO_PESSOA</th>\n",
              "      <th>IDADE_PESSOA</th>\n",
              "      <th>COR</th>\n",
              "      <th>DESCR_PROFISSAO</th>\n",
              "      <th>DESCR_GRAU_INSTRUCAO</th>\n",
              "      <th>Drogas</th>\n",
              "      <th>Estupro</th>\n",
              "      <th>Estupro de vulneravel</th>\n",
              "      <th>Furto</th>\n",
              "      <th>Furto qualificado</th>\n",
              "      <th>Homicidio</th>\n",
              "      <th>Homicidio culposo</th>\n",
              "      <th>Homicidio culposo por veiculo</th>\n",
              "      <th>Homicidio qualificado</th>\n",
              "      <th>Lesao corporal</th>\n",
              "      <th>Lesao corporal de natureza GRAVE</th>\n",
              "      <th>Lesao corporal seguida de morte</th>\n",
              "      <th>Lesao culposa por veiculo</th>\n",
              "      <th>Roubo</th>\n",
              "      <th>CRIME</th>\n",
              "      <th>nova_latitude</th>\n",
              "      <th>nova_longitude</th>\n",
              "    </tr>\n",
              "  </thead>\n",
              "  <tbody>\n",
              "    <tr>\n",
              "      <th>0</th>\n",
              "      <td>2</td>\n",
              "      <td>2014</td>\n",
              "      <td>280401</td>\n",
              "      <td>2014</td>\n",
              "      <td>2</td>\n",
              "      <td>26/02/2014</td>\n",
              "      <td>17:00</td>\n",
              "      <td>Drogas</td>\n",
              "      <td>VEICULO</td>\n",
              "      <td>-23.71286115</td>\n",
              "      <td>-46.78186771</td>\n",
              "      <td>BARUERI</td>\n",
              "      <td>R MARIA HELENA</td>\n",
              "      <td>Curador</td>\n",
              "      <td>7</td>\n",
              "      <td>F</td>\n",
              "      <td>51</td>\n",
              "      <td>Parda</td>\n",
              "      <td>AUXILIAR DE LIMPEZA</td>\n",
              "      <td>2 Grau completo</td>\n",
              "      <td>1</td>\n",
              "      <td>0</td>\n",
              "      <td>0</td>\n",
              "      <td>0</td>\n",
              "      <td>0</td>\n",
              "      <td>0</td>\n",
              "      <td>0</td>\n",
              "      <td>0</td>\n",
              "      <td>0</td>\n",
              "      <td>0</td>\n",
              "      <td>0</td>\n",
              "      <td>0</td>\n",
              "      <td>0</td>\n",
              "      <td>0</td>\n",
              "      <td>0</td>\n",
              "      <td>-23.71286115</td>\n",
              "      <td>-46.78186771</td>\n",
              "    </tr>\n",
              "    <tr>\n",
              "      <th>1</th>\n",
              "      <td>2</td>\n",
              "      <td>2014</td>\n",
              "      <td>280401</td>\n",
              "      <td>2014</td>\n",
              "      <td>2</td>\n",
              "      <td>26/02/2014</td>\n",
              "      <td>17:00</td>\n",
              "      <td>Drogas</td>\n",
              "      <td>VEICULO</td>\n",
              "      <td>-23.71286115</td>\n",
              "      <td>-46.78186771</td>\n",
              "      <td>BARUERI</td>\n",
              "      <td>R MARIA HELENA</td>\n",
              "      <td>Indiciado</td>\n",
              "      <td>4</td>\n",
              "      <td>M</td>\n",
              "      <td>19</td>\n",
              "      <td>Parda</td>\n",
              "      <td>DESEMPREGADO</td>\n",
              "      <td>1 Grau completo</td>\n",
              "      <td>1</td>\n",
              "      <td>0</td>\n",
              "      <td>0</td>\n",
              "      <td>0</td>\n",
              "      <td>0</td>\n",
              "      <td>0</td>\n",
              "      <td>0</td>\n",
              "      <td>0</td>\n",
              "      <td>0</td>\n",
              "      <td>0</td>\n",
              "      <td>0</td>\n",
              "      <td>0</td>\n",
              "      <td>0</td>\n",
              "      <td>0</td>\n",
              "      <td>0</td>\n",
              "      <td>-23.71286115</td>\n",
              "      <td>-46.78186771</td>\n",
              "    </tr>\n",
              "    <tr>\n",
              "      <th>2</th>\n",
              "      <td>2</td>\n",
              "      <td>2014</td>\n",
              "      <td>280401</td>\n",
              "      <td>2014</td>\n",
              "      <td>2</td>\n",
              "      <td>26/02/2014</td>\n",
              "      <td>17:00</td>\n",
              "      <td>Drogas</td>\n",
              "      <td>VEICULO</td>\n",
              "      <td>-23.71286115</td>\n",
              "      <td>-46.78186771</td>\n",
              "      <td>BARUERI</td>\n",
              "      <td>R MARIA HELENA</td>\n",
              "      <td>Testemunha</td>\n",
              "      <td>2</td>\n",
              "      <td>M</td>\n",
              "      <td>38</td>\n",
              "      <td>Branca</td>\n",
              "      <td>INVESTIGADOR(A)</td>\n",
              "      <td>Superior completo</td>\n",
              "      <td>1</td>\n",
              "      <td>0</td>\n",
              "      <td>0</td>\n",
              "      <td>0</td>\n",
              "      <td>0</td>\n",
              "      <td>0</td>\n",
              "      <td>0</td>\n",
              "      <td>0</td>\n",
              "      <td>0</td>\n",
              "      <td>0</td>\n",
              "      <td>0</td>\n",
              "      <td>0</td>\n",
              "      <td>0</td>\n",
              "      <td>0</td>\n",
              "      <td>0</td>\n",
              "      <td>-23.71286115</td>\n",
              "      <td>-46.78186771</td>\n",
              "    </tr>\n",
              "    <tr>\n",
              "      <th>3</th>\n",
              "      <td>2</td>\n",
              "      <td>2014</td>\n",
              "      <td>280401</td>\n",
              "      <td>2014</td>\n",
              "      <td>2</td>\n",
              "      <td>26/02/2014</td>\n",
              "      <td>17:00</td>\n",
              "      <td>Drogas</td>\n",
              "      <td>VEICULO</td>\n",
              "      <td>-23.71286115</td>\n",
              "      <td>-46.78186771</td>\n",
              "      <td>BARUERI</td>\n",
              "      <td>R MARIA HELENA</td>\n",
              "      <td>Testemunha</td>\n",
              "      <td>6</td>\n",
              "      <td>M</td>\n",
              "      <td>23</td>\n",
              "      <td>Parda</td>\n",
              "      <td>DESEMPREGADO</td>\n",
              "      <td>2 Grau completo</td>\n",
              "      <td>1</td>\n",
              "      <td>0</td>\n",
              "      <td>0</td>\n",
              "      <td>0</td>\n",
              "      <td>0</td>\n",
              "      <td>0</td>\n",
              "      <td>0</td>\n",
              "      <td>0</td>\n",
              "      <td>0</td>\n",
              "      <td>0</td>\n",
              "      <td>0</td>\n",
              "      <td>0</td>\n",
              "      <td>0</td>\n",
              "      <td>0</td>\n",
              "      <td>0</td>\n",
              "      <td>-23.71286115</td>\n",
              "      <td>-46.78186771</td>\n",
              "    </tr>\n",
              "    <tr>\n",
              "      <th>4</th>\n",
              "      <td>3</td>\n",
              "      <td>2014</td>\n",
              "      <td>30314</td>\n",
              "      <td>2014</td>\n",
              "      <td>1</td>\n",
              "      <td>14/01/2014</td>\n",
              "      <td>17:00</td>\n",
              "      <td>Drogas</td>\n",
              "      <td>VEICULO</td>\n",
              "      <td>-2.348.960.369</td>\n",
              "      <td>-4.637.155.072</td>\n",
              "      <td>ITAQUAQUECETUBA</td>\n",
              "      <td>R UBATUBA</td>\n",
              "      <td>Testemunha</td>\n",
              "      <td>1</td>\n",
              "      <td>M</td>\n",
              "      <td>40</td>\n",
              "      <td>Branca</td>\n",
              "      <td>POLICIAL CIVIL</td>\n",
              "      <td>2 Grau completo</td>\n",
              "      <td>1</td>\n",
              "      <td>0</td>\n",
              "      <td>0</td>\n",
              "      <td>0</td>\n",
              "      <td>0</td>\n",
              "      <td>0</td>\n",
              "      <td>0</td>\n",
              "      <td>0</td>\n",
              "      <td>0</td>\n",
              "      <td>0</td>\n",
              "      <td>0</td>\n",
              "      <td>0</td>\n",
              "      <td>0</td>\n",
              "      <td>0</td>\n",
              "      <td>0</td>\n",
              "      <td>-23.48960369</td>\n",
              "      <td>-46.37155072</td>\n",
              "    </tr>\n",
              "    <tr>\n",
              "      <th>5</th>\n",
              "      <td>1</td>\n",
              "      <td>2014</td>\n",
              "      <td>210106</td>\n",
              "      <td>2014</td>\n",
              "      <td>1</td>\n",
              "      <td>06/01/2014</td>\n",
              "      <td>11:00</td>\n",
              "      <td>Drogas</td>\n",
              "      <td>VEICULO</td>\n",
              "      <td>-23.71286115</td>\n",
              "      <td>-46.78186771</td>\n",
              "      <td>S.PAULO</td>\n",
              "      <td>R APA</td>\n",
              "      <td>Adolescente infrator</td>\n",
              "      <td>3</td>\n",
              "      <td>M</td>\n",
              "      <td>17</td>\n",
              "      <td>Parda</td>\n",
              "      <td>DESEMPREGADO</td>\n",
              "      <td>1 Grau incompleto</td>\n",
              "      <td>1</td>\n",
              "      <td>0</td>\n",
              "      <td>0</td>\n",
              "      <td>0</td>\n",
              "      <td>0</td>\n",
              "      <td>0</td>\n",
              "      <td>0</td>\n",
              "      <td>0</td>\n",
              "      <td>0</td>\n",
              "      <td>0</td>\n",
              "      <td>0</td>\n",
              "      <td>0</td>\n",
              "      <td>0</td>\n",
              "      <td>0</td>\n",
              "      <td>0</td>\n",
              "      <td>-23.71286115</td>\n",
              "      <td>-46.78186771</td>\n",
              "    </tr>\n",
              "    <tr>\n",
              "      <th>6</th>\n",
              "      <td>1</td>\n",
              "      <td>2014</td>\n",
              "      <td>210106</td>\n",
              "      <td>2014</td>\n",
              "      <td>1</td>\n",
              "      <td>06/01/2014</td>\n",
              "      <td>11:00</td>\n",
              "      <td>Drogas</td>\n",
              "      <td>VEICULO</td>\n",
              "      <td>-23.71286115</td>\n",
              "      <td>-46.78186771</td>\n",
              "      <td>S.PAULO</td>\n",
              "      <td>R APA</td>\n",
              "      <td>Testemunha</td>\n",
              "      <td>2</td>\n",
              "      <td>M</td>\n",
              "      <td>56</td>\n",
              "      <td>Branca</td>\n",
              "      <td>POLICIAL CIVIL</td>\n",
              "      <td>2 Grau completo</td>\n",
              "      <td>1</td>\n",
              "      <td>0</td>\n",
              "      <td>0</td>\n",
              "      <td>0</td>\n",
              "      <td>0</td>\n",
              "      <td>0</td>\n",
              "      <td>0</td>\n",
              "      <td>0</td>\n",
              "      <td>0</td>\n",
              "      <td>0</td>\n",
              "      <td>0</td>\n",
              "      <td>0</td>\n",
              "      <td>0</td>\n",
              "      <td>0</td>\n",
              "      <td>0</td>\n",
              "      <td>-23.71286115</td>\n",
              "      <td>-46.78186771</td>\n",
              "    </tr>\n",
              "    <tr>\n",
              "      <th>7</th>\n",
              "      <td>2</td>\n",
              "      <td>2014</td>\n",
              "      <td>30641</td>\n",
              "      <td>2014</td>\n",
              "      <td>1</td>\n",
              "      <td>02/01/2014</td>\n",
              "      <td>16:10</td>\n",
              "      <td>Drogas</td>\n",
              "      <td>VEICULO</td>\n",
              "      <td>-2.355.277.328</td>\n",
              "      <td>-4.620.240.893</td>\n",
              "      <td>MOGI DAS CRUZES</td>\n",
              "      <td>AVENIDA PERU</td>\n",
              "      <td>Adolescente infrator</td>\n",
              "      <td>2</td>\n",
              "      <td>M</td>\n",
              "      <td>16</td>\n",
              "      <td>Parda</td>\n",
              "      <td>DESEMPREGADO</td>\n",
              "      <td>1 Grau completo</td>\n",
              "      <td>1</td>\n",
              "      <td>0</td>\n",
              "      <td>0</td>\n",
              "      <td>0</td>\n",
              "      <td>0</td>\n",
              "      <td>0</td>\n",
              "      <td>0</td>\n",
              "      <td>0</td>\n",
              "      <td>0</td>\n",
              "      <td>0</td>\n",
              "      <td>0</td>\n",
              "      <td>0</td>\n",
              "      <td>0</td>\n",
              "      <td>0</td>\n",
              "      <td>0</td>\n",
              "      <td>-23.55277328</td>\n",
              "      <td>-46.20240893</td>\n",
              "    </tr>\n",
              "    <tr>\n",
              "      <th>8</th>\n",
              "      <td>2</td>\n",
              "      <td>2014</td>\n",
              "      <td>210102</td>\n",
              "      <td>2014</td>\n",
              "      <td>1</td>\n",
              "      <td>08/01/2014</td>\n",
              "      <td>15:00</td>\n",
              "      <td>Drogas</td>\n",
              "      <td>VEICULO</td>\n",
              "      <td>-2.361.894.605</td>\n",
              "      <td>-4.650.630.594</td>\n",
              "      <td>S.PAULO</td>\n",
              "      <td>R BATISTA FERGUSIO</td>\n",
              "      <td>Adolescente infrator</td>\n",
              "      <td>1</td>\n",
              "      <td>M</td>\n",
              "      <td>17</td>\n",
              "      <td>Parda</td>\n",
              "      <td>DESEMPREGADO(A)</td>\n",
              "      <td>1 Grau completo</td>\n",
              "      <td>1</td>\n",
              "      <td>0</td>\n",
              "      <td>0</td>\n",
              "      <td>0</td>\n",
              "      <td>0</td>\n",
              "      <td>0</td>\n",
              "      <td>0</td>\n",
              "      <td>0</td>\n",
              "      <td>0</td>\n",
              "      <td>0</td>\n",
              "      <td>0</td>\n",
              "      <td>0</td>\n",
              "      <td>0</td>\n",
              "      <td>0</td>\n",
              "      <td>0</td>\n",
              "      <td>-23.61894605</td>\n",
              "      <td>-46.50630594</td>\n",
              "    </tr>\n",
              "    <tr>\n",
              "      <th>9</th>\n",
              "      <td>2</td>\n",
              "      <td>2014</td>\n",
              "      <td>210102</td>\n",
              "      <td>2014</td>\n",
              "      <td>1</td>\n",
              "      <td>08/01/2014</td>\n",
              "      <td>15:00</td>\n",
              "      <td>Drogas</td>\n",
              "      <td>VEICULO</td>\n",
              "      <td>-2.361.894.605</td>\n",
              "      <td>-4.650.630.594</td>\n",
              "      <td>S.PAULO</td>\n",
              "      <td>R BATISTA FERGUSIO</td>\n",
              "      <td>Condutor</td>\n",
              "      <td>4</td>\n",
              "      <td>M</td>\n",
              "      <td>33</td>\n",
              "      <td>Branca</td>\n",
              "      <td>POLICIAL CIVIL</td>\n",
              "      <td>Superior completo</td>\n",
              "      <td>1</td>\n",
              "      <td>0</td>\n",
              "      <td>0</td>\n",
              "      <td>0</td>\n",
              "      <td>0</td>\n",
              "      <td>0</td>\n",
              "      <td>0</td>\n",
              "      <td>0</td>\n",
              "      <td>0</td>\n",
              "      <td>0</td>\n",
              "      <td>0</td>\n",
              "      <td>0</td>\n",
              "      <td>0</td>\n",
              "      <td>0</td>\n",
              "      <td>0</td>\n",
              "      <td>-23.61894605</td>\n",
              "      <td>-46.50630594</td>\n",
              "    </tr>\n",
              "    <tr>\n",
              "      <th>10</th>\n",
              "      <td>2</td>\n",
              "      <td>2014</td>\n",
              "      <td>210102</td>\n",
              "      <td>2014</td>\n",
              "      <td>1</td>\n",
              "      <td>08/01/2014</td>\n",
              "      <td>15:00</td>\n",
              "      <td>Drogas</td>\n",
              "      <td>VEICULO</td>\n",
              "      <td>-2.361.894.605</td>\n",
              "      <td>-4.650.630.594</td>\n",
              "      <td>S.PAULO</td>\n",
              "      <td>R BATISTA FERGUSIO</td>\n",
              "      <td>Curador</td>\n",
              "      <td>2</td>\n",
              "      <td>F</td>\n",
              "      <td>36</td>\n",
              "      <td>Branca</td>\n",
              "      <td>DO LAR</td>\n",
              "      <td>1 Grau completo</td>\n",
              "      <td>1</td>\n",
              "      <td>0</td>\n",
              "      <td>0</td>\n",
              "      <td>0</td>\n",
              "      <td>0</td>\n",
              "      <td>0</td>\n",
              "      <td>0</td>\n",
              "      <td>0</td>\n",
              "      <td>0</td>\n",
              "      <td>0</td>\n",
              "      <td>0</td>\n",
              "      <td>0</td>\n",
              "      <td>0</td>\n",
              "      <td>0</td>\n",
              "      <td>0</td>\n",
              "      <td>-23.61894605</td>\n",
              "      <td>-46.50630594</td>\n",
              "    </tr>\n",
              "    <tr>\n",
              "      <th>11</th>\n",
              "      <td>2</td>\n",
              "      <td>2014</td>\n",
              "      <td>30641</td>\n",
              "      <td>2014</td>\n",
              "      <td>1</td>\n",
              "      <td>02/01/2014</td>\n",
              "      <td>16:10</td>\n",
              "      <td>Drogas</td>\n",
              "      <td>VEICULO</td>\n",
              "      <td>-2.355.277.328</td>\n",
              "      <td>-4.620.240.893</td>\n",
              "      <td>MOGI DAS CRUZES</td>\n",
              "      <td>AVENIDA PERU</td>\n",
              "      <td>Curador</td>\n",
              "      <td>1</td>\n",
              "      <td>F</td>\n",
              "      <td>23</td>\n",
              "      <td>Parda</td>\n",
              "      <td>DO LAR</td>\n",
              "      <td>1 Grau completo</td>\n",
              "      <td>1</td>\n",
              "      <td>0</td>\n",
              "      <td>0</td>\n",
              "      <td>0</td>\n",
              "      <td>0</td>\n",
              "      <td>0</td>\n",
              "      <td>0</td>\n",
              "      <td>0</td>\n",
              "      <td>0</td>\n",
              "      <td>0</td>\n",
              "      <td>0</td>\n",
              "      <td>0</td>\n",
              "      <td>0</td>\n",
              "      <td>0</td>\n",
              "      <td>0</td>\n",
              "      <td>-23.55277328</td>\n",
              "      <td>-46.20240893</td>\n",
              "    </tr>\n",
              "    <tr>\n",
              "      <th>12</th>\n",
              "      <td>2</td>\n",
              "      <td>2014</td>\n",
              "      <td>30641</td>\n",
              "      <td>2014</td>\n",
              "      <td>1</td>\n",
              "      <td>02/01/2014</td>\n",
              "      <td>16:10</td>\n",
              "      <td>Drogas</td>\n",
              "      <td>VEICULO</td>\n",
              "      <td>-2.355.277.328</td>\n",
              "      <td>-4.620.240.893</td>\n",
              "      <td>MOGI DAS CRUZES</td>\n",
              "      <td>AVENIDA PERU</td>\n",
              "      <td>Condutor</td>\n",
              "      <td>3</td>\n",
              "      <td>M</td>\n",
              "      <td>47</td>\n",
              "      <td>Parda</td>\n",
              "      <td>POLICIAL CIVIL</td>\n",
              "      <td>2 Grau completo</td>\n",
              "      <td>1</td>\n",
              "      <td>0</td>\n",
              "      <td>0</td>\n",
              "      <td>0</td>\n",
              "      <td>0</td>\n",
              "      <td>0</td>\n",
              "      <td>0</td>\n",
              "      <td>0</td>\n",
              "      <td>0</td>\n",
              "      <td>0</td>\n",
              "      <td>0</td>\n",
              "      <td>0</td>\n",
              "      <td>0</td>\n",
              "      <td>0</td>\n",
              "      <td>0</td>\n",
              "      <td>-23.55277328</td>\n",
              "      <td>-46.20240893</td>\n",
              "    </tr>\n",
              "    <tr>\n",
              "      <th>13</th>\n",
              "      <td>2</td>\n",
              "      <td>2014</td>\n",
              "      <td>280401</td>\n",
              "      <td>2014</td>\n",
              "      <td>2</td>\n",
              "      <td>26/02/2014</td>\n",
              "      <td>17:00</td>\n",
              "      <td>Drogas</td>\n",
              "      <td>VEICULO</td>\n",
              "      <td>-23.71286115</td>\n",
              "      <td>-46.78186771</td>\n",
              "      <td>BARUERI</td>\n",
              "      <td>R MARIA HELENA</td>\n",
              "      <td>Indiciado</td>\n",
              "      <td>5</td>\n",
              "      <td>M</td>\n",
              "      <td>26</td>\n",
              "      <td>Parda</td>\n",
              "      <td>AJUDANTE</td>\n",
              "      <td>1 Grau completo</td>\n",
              "      <td>1</td>\n",
              "      <td>0</td>\n",
              "      <td>0</td>\n",
              "      <td>0</td>\n",
              "      <td>0</td>\n",
              "      <td>0</td>\n",
              "      <td>0</td>\n",
              "      <td>0</td>\n",
              "      <td>0</td>\n",
              "      <td>0</td>\n",
              "      <td>0</td>\n",
              "      <td>0</td>\n",
              "      <td>0</td>\n",
              "      <td>0</td>\n",
              "      <td>0</td>\n",
              "      <td>-23.71286115</td>\n",
              "      <td>-46.78186771</td>\n",
              "    </tr>\n",
              "    <tr>\n",
              "      <th>14</th>\n",
              "      <td>5</td>\n",
              "      <td>2014</td>\n",
              "      <td>210102</td>\n",
              "      <td>2014</td>\n",
              "      <td>1</td>\n",
              "      <td>10/01/2014</td>\n",
              "      <td>16:30</td>\n",
              "      <td>Drogas</td>\n",
              "      <td>VEICULO</td>\n",
              "      <td>-235.525.928</td>\n",
              "      <td>-4.642.773.354</td>\n",
              "      <td>S.PAULO</td>\n",
              "      <td>R LUZ DO SOL</td>\n",
              "      <td>Adolescente infrator</td>\n",
              "      <td>3</td>\n",
              "      <td>M</td>\n",
              "      <td>16</td>\n",
              "      <td>Parda</td>\n",
              "      <td>ESTUDANTE</td>\n",
              "      <td>1 Grau completo</td>\n",
              "      <td>1</td>\n",
              "      <td>0</td>\n",
              "      <td>0</td>\n",
              "      <td>0</td>\n",
              "      <td>0</td>\n",
              "      <td>0</td>\n",
              "      <td>0</td>\n",
              "      <td>0</td>\n",
              "      <td>0</td>\n",
              "      <td>0</td>\n",
              "      <td>0</td>\n",
              "      <td>0</td>\n",
              "      <td>0</td>\n",
              "      <td>0</td>\n",
              "      <td>0</td>\n",
              "      <td>-23.5525928</td>\n",
              "      <td>-46.42773354</td>\n",
              "    </tr>\n",
              "    <tr>\n",
              "      <th>15</th>\n",
              "      <td>3</td>\n",
              "      <td>2014</td>\n",
              "      <td>30314</td>\n",
              "      <td>2014</td>\n",
              "      <td>1</td>\n",
              "      <td>14/01/2014</td>\n",
              "      <td>17:00</td>\n",
              "      <td>Drogas</td>\n",
              "      <td>VEICULO</td>\n",
              "      <td>-2.348.960.369</td>\n",
              "      <td>-4.637.155.072</td>\n",
              "      <td>ITAQUAQUECETUBA</td>\n",
              "      <td>R UBATUBA</td>\n",
              "      <td>Adolescente infrator</td>\n",
              "      <td>5</td>\n",
              "      <td>M</td>\n",
              "      <td>16</td>\n",
              "      <td>Parda</td>\n",
              "      <td>AUTONOMO(A)</td>\n",
              "      <td>1 Grau incompleto</td>\n",
              "      <td>1</td>\n",
              "      <td>0</td>\n",
              "      <td>0</td>\n",
              "      <td>0</td>\n",
              "      <td>0</td>\n",
              "      <td>0</td>\n",
              "      <td>0</td>\n",
              "      <td>0</td>\n",
              "      <td>0</td>\n",
              "      <td>0</td>\n",
              "      <td>0</td>\n",
              "      <td>0</td>\n",
              "      <td>0</td>\n",
              "      <td>0</td>\n",
              "      <td>0</td>\n",
              "      <td>-23.48960369</td>\n",
              "      <td>-46.37155072</td>\n",
              "    </tr>\n",
              "    <tr>\n",
              "      <th>16</th>\n",
              "      <td>3</td>\n",
              "      <td>2014</td>\n",
              "      <td>30314</td>\n",
              "      <td>2014</td>\n",
              "      <td>1</td>\n",
              "      <td>14/01/2014</td>\n",
              "      <td>17:00</td>\n",
              "      <td>Drogas</td>\n",
              "      <td>VEICULO</td>\n",
              "      <td>-2.348.960.369</td>\n",
              "      <td>-4.637.155.072</td>\n",
              "      <td>ITAQUAQUECETUBA</td>\n",
              "      <td>R UBATUBA</td>\n",
              "      <td>Curador</td>\n",
              "      <td>4</td>\n",
              "      <td>F</td>\n",
              "      <td>33</td>\n",
              "      <td>Branca</td>\n",
              "      <td>POLICIAL MILITAR</td>\n",
              "      <td>2 Grau completo</td>\n",
              "      <td>1</td>\n",
              "      <td>0</td>\n",
              "      <td>0</td>\n",
              "      <td>0</td>\n",
              "      <td>0</td>\n",
              "      <td>0</td>\n",
              "      <td>0</td>\n",
              "      <td>0</td>\n",
              "      <td>0</td>\n",
              "      <td>0</td>\n",
              "      <td>0</td>\n",
              "      <td>0</td>\n",
              "      <td>0</td>\n",
              "      <td>0</td>\n",
              "      <td>0</td>\n",
              "      <td>-23.48960369</td>\n",
              "      <td>-46.37155072</td>\n",
              "    </tr>\n",
              "    <tr>\n",
              "      <th>17</th>\n",
              "      <td>6</td>\n",
              "      <td>2014</td>\n",
              "      <td>210101</td>\n",
              "      <td>2014</td>\n",
              "      <td>1</td>\n",
              "      <td>13/01/2014</td>\n",
              "      <td>15:00</td>\n",
              "      <td>Drogas</td>\n",
              "      <td>VEICULO</td>\n",
              "      <td>-2.355.784.394</td>\n",
              "      <td>-4.663.147.268</td>\n",
              "      <td>S.PAULO</td>\n",
              "      <td>R SINIMBU</td>\n",
              "      <td>Representante</td>\n",
              "      <td>5</td>\n",
              "      <td>F</td>\n",
              "      <td>33</td>\n",
              "      <td>Amarela</td>\n",
              "      <td>PRENDAS DOMESTICAS</td>\n",
              "      <td>1 Grau completo</td>\n",
              "      <td>1</td>\n",
              "      <td>0</td>\n",
              "      <td>0</td>\n",
              "      <td>0</td>\n",
              "      <td>0</td>\n",
              "      <td>0</td>\n",
              "      <td>0</td>\n",
              "      <td>0</td>\n",
              "      <td>0</td>\n",
              "      <td>0</td>\n",
              "      <td>0</td>\n",
              "      <td>0</td>\n",
              "      <td>0</td>\n",
              "      <td>0</td>\n",
              "      <td>0</td>\n",
              "      <td>-23.55784394</td>\n",
              "      <td>-46.63147268</td>\n",
              "    </tr>\n",
              "    <tr>\n",
              "      <th>18</th>\n",
              "      <td>5</td>\n",
              "      <td>2014</td>\n",
              "      <td>280501</td>\n",
              "      <td>2014</td>\n",
              "      <td>1</td>\n",
              "      <td>06/01/2014</td>\n",
              "      <td>20:30</td>\n",
              "      <td>Drogas</td>\n",
              "      <td>VEICULO</td>\n",
              "      <td>-2.330.924.825</td>\n",
              "      <td>-4.672.190.074</td>\n",
              "      <td>FRANCO DA ROCHA</td>\n",
              "      <td>EST DA PARADINHA</td>\n",
              "      <td>Adolescente infrator</td>\n",
              "      <td>2</td>\n",
              "      <td>M</td>\n",
              "      <td>14</td>\n",
              "      <td>Branca</td>\n",
              "      <td>ESTUDANTE</td>\n",
              "      <td>1 Grau incompleto</td>\n",
              "      <td>1</td>\n",
              "      <td>0</td>\n",
              "      <td>0</td>\n",
              "      <td>0</td>\n",
              "      <td>0</td>\n",
              "      <td>0</td>\n",
              "      <td>0</td>\n",
              "      <td>0</td>\n",
              "      <td>0</td>\n",
              "      <td>0</td>\n",
              "      <td>0</td>\n",
              "      <td>0</td>\n",
              "      <td>0</td>\n",
              "      <td>0</td>\n",
              "      <td>0</td>\n",
              "      <td>-23.30924825</td>\n",
              "      <td>-46.72190074</td>\n",
              "    </tr>\n",
              "    <tr>\n",
              "      <th>19</th>\n",
              "      <td>5</td>\n",
              "      <td>2014</td>\n",
              "      <td>280501</td>\n",
              "      <td>2014</td>\n",
              "      <td>1</td>\n",
              "      <td>06/01/2014</td>\n",
              "      <td>20:30</td>\n",
              "      <td>Drogas</td>\n",
              "      <td>VEICULO</td>\n",
              "      <td>-2.330.924.825</td>\n",
              "      <td>-4.672.190.074</td>\n",
              "      <td>FRANCO DA ROCHA</td>\n",
              "      <td>EST DA PARADINHA</td>\n",
              "      <td>Testemunha</td>\n",
              "      <td>6</td>\n",
              "      <td>M</td>\n",
              "      <td>39</td>\n",
              "      <td>Branca</td>\n",
              "      <td>POLICIAL CIVIL</td>\n",
              "      <td>Superior completo</td>\n",
              "      <td>1</td>\n",
              "      <td>0</td>\n",
              "      <td>0</td>\n",
              "      <td>0</td>\n",
              "      <td>0</td>\n",
              "      <td>0</td>\n",
              "      <td>0</td>\n",
              "      <td>0</td>\n",
              "      <td>0</td>\n",
              "      <td>0</td>\n",
              "      <td>0</td>\n",
              "      <td>0</td>\n",
              "      <td>0</td>\n",
              "      <td>0</td>\n",
              "      <td>0</td>\n",
              "      <td>-23.30924825</td>\n",
              "      <td>-46.72190074</td>\n",
              "    </tr>\n",
              "  </tbody>\n",
              "</table>\n",
              "</div>"
            ],
            "text/plain": [
              "    NUM_BO  ANO_BO  ID_DELEGACIA  ...  CRIME  nova_latitude nova_longitude\n",
              "0        2    2014        280401  ...      0   -23.71286115   -46.78186771\n",
              "1        2    2014        280401  ...      0   -23.71286115   -46.78186771\n",
              "2        2    2014        280401  ...      0   -23.71286115   -46.78186771\n",
              "3        2    2014        280401  ...      0   -23.71286115   -46.78186771\n",
              "4        3    2014         30314  ...      0   -23.48960369   -46.37155072\n",
              "5        1    2014        210106  ...      0   -23.71286115   -46.78186771\n",
              "6        1    2014        210106  ...      0   -23.71286115   -46.78186771\n",
              "7        2    2014         30641  ...      0   -23.55277328   -46.20240893\n",
              "8        2    2014        210102  ...      0   -23.61894605   -46.50630594\n",
              "9        2    2014        210102  ...      0   -23.61894605   -46.50630594\n",
              "10       2    2014        210102  ...      0   -23.61894605   -46.50630594\n",
              "11       2    2014         30641  ...      0   -23.55277328   -46.20240893\n",
              "12       2    2014         30641  ...      0   -23.55277328   -46.20240893\n",
              "13       2    2014        280401  ...      0   -23.71286115   -46.78186771\n",
              "14       5    2014        210102  ...      0    -23.5525928   -46.42773354\n",
              "15       3    2014         30314  ...      0   -23.48960369   -46.37155072\n",
              "16       3    2014         30314  ...      0   -23.48960369   -46.37155072\n",
              "17       6    2014        210101  ...      0   -23.55784394   -46.63147268\n",
              "18       5    2014        280501  ...      0   -23.30924825   -46.72190074\n",
              "19       5    2014        280501  ...      0   -23.30924825   -46.72190074\n",
              "\n",
              "[20 rows x 37 columns]"
            ]
          },
          "metadata": {
            "tags": []
          },
          "execution_count": 61
        }
      ]
    },
    {
      "cell_type": "code",
      "metadata": {
        "colab": {
          "base_uri": "https://localhost:8080/"
        },
        "id": "pe_oz7ELgRR5",
        "outputId": "ed110701-0c52-4ee1-d42a-0ae85ad797f9"
      },
      "source": [
        "!pip install git+https://github.com/python-visualization/folium"
      ],
      "execution_count": 62,
      "outputs": [
        {
          "output_type": "stream",
          "text": [
            "Collecting git+https://github.com/python-visualization/folium\n",
            "  Cloning https://github.com/python-visualization/folium to /tmp/pip-req-build-_sd13ncc\n",
            "  Running command git clone -q https://github.com/python-visualization/folium /tmp/pip-req-build-_sd13ncc\n",
            "Requirement already satisfied: branca>=0.3.0 in /usr/local/lib/python3.6/dist-packages (from folium==0.0.0) (0.4.2)\n",
            "Requirement already satisfied: jinja2>=2.9 in /usr/local/lib/python3.6/dist-packages (from folium==0.0.0) (2.11.2)\n",
            "Requirement already satisfied: numpy in /usr/local/lib/python3.6/dist-packages (from folium==0.0.0) (1.19.5)\n",
            "Requirement already satisfied: requests in /usr/local/lib/python3.6/dist-packages (from folium==0.0.0) (2.23.0)\n",
            "Requirement already satisfied: MarkupSafe>=0.23 in /usr/local/lib/python3.6/dist-packages (from jinja2>=2.9->folium==0.0.0) (1.1.1)\n",
            "Requirement already satisfied: urllib3!=1.25.0,!=1.25.1,<1.26,>=1.21.1 in /usr/local/lib/python3.6/dist-packages (from requests->folium==0.0.0) (1.24.3)\n",
            "Requirement already satisfied: idna<3,>=2.5 in /usr/local/lib/python3.6/dist-packages (from requests->folium==0.0.0) (2.10)\n",
            "Requirement already satisfied: certifi>=2017.4.17 in /usr/local/lib/python3.6/dist-packages (from requests->folium==0.0.0) (2020.12.5)\n",
            "Requirement already satisfied: chardet<4,>=3.0.2 in /usr/local/lib/python3.6/dist-packages (from requests->folium==0.0.0) (3.0.4)\n",
            "Building wheels for collected packages: folium\n",
            "  Building wheel for folium (setup.py) ... \u001b[?25l\u001b[?25hdone\n",
            "  Created wheel for folium: filename=folium-0.0.0-py2.py3-none-any.whl size=94730 sha256=88c396b3f342b2585df54e54fed0d474910fe4399ac1b22650e831490bcc4fac\n",
            "  Stored in directory: /tmp/pip-ephem-wheel-cache-8gayejms/wheels/1e/e1/75/ecbc91fd5dd5d90befb0b533bf7492d38acffa033310731862\n",
            "Successfully built folium\n",
            "\u001b[31mERROR: datascience 0.10.6 has requirement folium==0.2.1, but you'll have folium 0.0.0 which is incompatible.\u001b[0m\n",
            "Installing collected packages: folium\n",
            "  Found existing installation: folium 0.8.3\n",
            "    Uninstalling folium-0.8.3:\n",
            "      Successfully uninstalled folium-0.8.3\n",
            "Successfully installed folium-0.0.0\n"
          ],
          "name": "stdout"
        }
      ]
    },
    {
      "cell_type": "code",
      "metadata": {
        "colab": {
          "base_uri": "https://localhost:8080/"
        },
        "id": "rx-ECPGwgcW8",
        "outputId": "ba166cae-c3d5-44e1-f0b8-89ebe8923757"
      },
      "source": [
        "import os\r\n",
        "import folium\r\n",
        "import pandas as pd\r\n",
        "print(folium.__version__)"
      ],
      "execution_count": 105,
      "outputs": [
        {
          "output_type": "stream",
          "text": [
            "unknown\n"
          ],
          "name": "stdout"
        }
      ]
    },
    {
      "cell_type": "code",
      "metadata": {
        "colab": {
          "base_uri": "https://localhost:8080/",
          "height": 1000
        },
        "id": "1altuRMFghba",
        "outputId": "7be13312-8162-4f23-f926-91f4b2cfbab6"
      },
      "source": [
        "from folium import plugins\r\n",
        "coordenadas = []\r\n",
        "lat = data['nova_latitude'][:10000].values\r\n",
        "long = data['nova_longitude'][:10000].values\r\n",
        "\r\n",
        "mapa = folium.Map(location=[-23.542183, -46.640599],tiles='Stamen Toner',zoom_start=12)\r\n",
        "\r\n",
        "for la,lo in zip(lat,long):\r\n",
        "    coordenadas.append([la,lo])\r\n",
        "\r\n",
        "mapa.add_child(plugins.HeatMap(coordenadas))\r\n",
        "mapa"
      ],
      "execution_count": 106,
      "outputs": [
        {
          "output_type": "execute_result",
          "data": {
            "text/html": [
              "<div style=\"width:100%;\"><div style=\"position:relative;width:100%;height:0;padding-bottom:60%;\"><span style=\"color:#565656\">Make this Notebook Trusted to load map: File -> Trust Notebook</span><iframe src=\"about:blank\" style=\"position:absolute;width:100%;height:100%;left:0;top:0;border:none !important;\" data-html=%3C%21DOCTYPE%20html%3E%0A%3Chead%3E%20%20%20%20%0A%20%20%20%20%3Cmeta%20http-equiv%3D%22content-type%22%20content%3D%22text/html%3B%20charset%3DUTF-8%22%20/%3E%0A%20%20%20%20%0A%20%20%20%20%20%20%20%20%3Cscript%3E%0A%20%20%20%20%20%20%20%20%20%20%20%20L_NO_TOUCH%20%3D%20false%3B%0A%20%20%20%20%20%20%20%20%20%20%20%20L_DISABLE_3D%20%3D%20false%3B%0A%20%20%20%20%20%20%20%20%3C/script%3E%0A%20%20%20%20%0A%20%20%20%20%3Cstyle%3Ehtml%2C%20body%20%7Bwidth%3A%20100%25%3Bheight%3A%20100%25%3Bmargin%3A%200%3Bpadding%3A%200%3B%7D%3C/style%3E%0A%20%20%20%20%3Cstyle%3E%23map%20%7Bposition%3Aabsolute%3Btop%3A0%3Bbottom%3A0%3Bright%3A0%3Bleft%3A0%3B%7D%3C/style%3E%0A%20%20%20%20%3Cscript%20src%3D%22https%3A//cdn.jsdelivr.net/npm/leaflet%401.6.0/dist/leaflet.js%22%3E%3C/script%3E%0A%20%20%20%20%3Cscript%20src%3D%22https%3A//code.jquery.com/jquery-1.12.4.min.js%22%3E%3C/script%3E%0A%20%20%20%20%3Cscript%20src%3D%22https%3A//maxcdn.bootstrapcdn.com/bootstrap/3.2.0/js/bootstrap.min.js%22%3E%3C/script%3E%0A%20%20%20%20%3Cscript%20src%3D%22https%3A//cdnjs.cloudflare.com/ajax/libs/Leaflet.awesome-markers/2.0.2/leaflet.awesome-markers.js%22%3E%3C/script%3E%0A%20%20%20%20%3Clink%20rel%3D%22stylesheet%22%20href%3D%22https%3A//cdn.jsdelivr.net/npm/leaflet%401.6.0/dist/leaflet.css%22/%3E%0A%20%20%20%20%3Clink%20rel%3D%22stylesheet%22%20href%3D%22https%3A//maxcdn.bootstrapcdn.com/bootstrap/3.2.0/css/bootstrap.min.css%22/%3E%0A%20%20%20%20%3Clink%20rel%3D%22stylesheet%22%20href%3D%22https%3A//maxcdn.bootstrapcdn.com/bootstrap/3.2.0/css/bootstrap-theme.min.css%22/%3E%0A%20%20%20%20%3Clink%20rel%3D%22stylesheet%22%20href%3D%22https%3A//maxcdn.bootstrapcdn.com/font-awesome/4.6.3/css/font-awesome.min.css%22/%3E%0A%20%20%20%20%3Clink%20rel%3D%22stylesheet%22%20href%3D%22https%3A//cdnjs.cloudflare.com/ajax/libs/Leaflet.awesome-markers/2.0.2/leaflet.awesome-markers.css%22/%3E%0A%20%20%20%20%3Clink%20rel%3D%22stylesheet%22%20href%3D%22https%3A//cdn.jsdelivr.net/gh/python-visualization/folium/folium/templates/leaflet.awesome.rotate.min.css%22/%3E%0A%20%20%20%20%0A%20%20%20%20%20%20%20%20%20%20%20%20%3Cmeta%20name%3D%22viewport%22%20content%3D%22width%3Ddevice-width%2C%0A%20%20%20%20%20%20%20%20%20%20%20%20%20%20%20%20initial-scale%3D1.0%2C%20maximum-scale%3D1.0%2C%20user-scalable%3Dno%22%20/%3E%0A%20%20%20%20%20%20%20%20%20%20%20%20%3Cstyle%3E%0A%20%20%20%20%20%20%20%20%20%20%20%20%20%20%20%20%23map_51013638e5ad444e8cfa9cd956b3eb77%20%7B%0A%20%20%20%20%20%20%20%20%20%20%20%20%20%20%20%20%20%20%20%20position%3A%20relative%3B%0A%20%20%20%20%20%20%20%20%20%20%20%20%20%20%20%20%20%20%20%20width%3A%20100.0%25%3B%0A%20%20%20%20%20%20%20%20%20%20%20%20%20%20%20%20%20%20%20%20height%3A%20100.0%25%3B%0A%20%20%20%20%20%20%20%20%20%20%20%20%20%20%20%20%20%20%20%20left%3A%200.0%25%3B%0A%20%20%20%20%20%20%20%20%20%20%20%20%20%20%20%20%20%20%20%20top%3A%200.0%25%3B%0A%20%20%20%20%20%20%20%20%20%20%20%20%20%20%20%20%7D%0A%20%20%20%20%20%20%20%20%20%20%20%20%3C/style%3E%0A%20%20%20%20%20%20%20%20%0A%20%20%20%20%3Cscript%20src%3D%22https%3A//cdn.jsdelivr.net/gh/python-visualization/folium%40master/folium/templates/leaflet_heat.min.js%22%3E%3C/script%3E%0A%3C/head%3E%0A%3Cbody%3E%20%20%20%20%0A%20%20%20%20%0A%20%20%20%20%20%20%20%20%20%20%20%20%3Cdiv%20class%3D%22folium-map%22%20id%3D%22map_51013638e5ad444e8cfa9cd956b3eb77%22%20%3E%3C/div%3E%0A%20%20%20%20%20%20%20%20%0A%3C/body%3E%0A%3Cscript%3E%20%20%20%20%0A%20%20%20%20%0A%20%20%20%20%20%20%20%20%20%20%20%20var%20map_51013638e5ad444e8cfa9cd956b3eb77%20%3D%20L.map%28%0A%20%20%20%20%20%20%20%20%20%20%20%20%20%20%20%20%22map_51013638e5ad444e8cfa9cd956b3eb77%22%2C%0A%20%20%20%20%20%20%20%20%20%20%20%20%20%20%20%20%7B%0A%20%20%20%20%20%20%20%20%20%20%20%20%20%20%20%20%20%20%20%20center%3A%20%5B-23.542183%2C%20-46.640599%5D%2C%0A%20%20%20%20%20%20%20%20%20%20%20%20%20%20%20%20%20%20%20%20crs%3A%20L.CRS.EPSG3857%2C%0A%20%20%20%20%20%20%20%20%20%20%20%20%20%20%20%20%20%20%20%20zoom%3A%2012%2C%0A%20%20%20%20%20%20%20%20%20%20%20%20%20%20%20%20%20%20%20%20zoomControl%3A%20true%2C%0A%20%20%20%20%20%20%20%20%20%20%20%20%20%20%20%20%20%20%20%20preferCanvas%3A%20false%2C%0A%20%20%20%20%20%20%20%20%20%20%20%20%20%20%20%20%7D%0A%20%20%20%20%20%20%20%20%20%20%20%20%29%3B%0A%0A%20%20%20%20%20%20%20%20%20%20%20%20%0A%0A%20%20%20%20%20%20%20%20%0A%20%20%20%20%0A%20%20%20%20%20%20%20%20%20%20%20%20var%20tile_layer_401da9be8fbb49648a343d2c78093c61%20%3D%20L.tileLayer%28%0A%20%20%20%20%20%20%20%20%20%20%20%20%20%20%20%20%22https%3A//stamen-tiles-%7Bs%7D.a.ssl.fastly.net/toner/%7Bz%7D/%7Bx%7D/%7By%7D.png%22%2C%0A%20%20%20%20%20%20%20%20%20%20%20%20%20%20%20%20%7B%22attribution%22%3A%20%22Map%20tiles%20by%20%5Cu003ca%20href%3D%5C%22http%3A//stamen.com%5C%22%5Cu003eStamen%20Design%5Cu003c/a%5Cu003e%2C%20under%20%5Cu003ca%20href%3D%5C%22http%3A//creativecommons.org/licenses/by/3.0%5C%22%5Cu003eCC%20BY%203.0%5Cu003c/a%5Cu003e.%20Data%20by%20%5Cu0026copy%3B%20%5Cu003ca%20href%3D%5C%22http%3A//openstreetmap.org%5C%22%5Cu003eOpenStreetMap%5Cu003c/a%5Cu003e%2C%20under%20%5Cu003ca%20href%3D%5C%22http%3A//www.openstreetmap.org/copyright%5C%22%5Cu003eODbL%5Cu003c/a%5Cu003e.%22%2C%20%22detectRetina%22%3A%20false%2C%20%22maxNativeZoom%22%3A%2018%2C%20%22maxZoom%22%3A%2018%2C%20%22minZoom%22%3A%200%2C%20%22noWrap%22%3A%20false%2C%20%22opacity%22%3A%201%2C%20%22subdomains%22%3A%20%22abc%22%2C%20%22tms%22%3A%20false%7D%0A%20%20%20%20%20%20%20%20%20%20%20%20%29.addTo%28map_51013638e5ad444e8cfa9cd956b3eb77%29%3B%0A%20%20%20%20%20%20%20%20%0A%20%20%20%20%0A%20%20%20%20%20%20%20%20%20%20%20%20var%20heat_map_6f1e1cb6927849eaadd6613cff129842%20%3D%20L.heatLayer%28%0A%20%20%20%20%20%20%20%20%20%20%20%20%20%20%20%20%5B%5B-23.71286115%2C%20-46.78186771%5D%2C%20%5B-23.71286115%2C%20-46.78186771%5D%2C%20%5B-23.71286115%2C%20-46.78186771%5D%2C%20%5B-23.71286115%2C%20-46.78186771%5D%2C%20%5B-23.48960369%2C%20-46.37155072%5D%2C%20%5B-23.71286115%2C%20-46.78186771%5D%2C%20%5B-23.71286115%2C%20-46.78186771%5D%2C%20%5B-23.55277328%2C%20-46.20240893%5D%2C%20%5B-23.61894605%2C%20-46.50630594%5D%2C%20%5B-23.61894605%2C%20-46.50630594%5D%2C%20%5B-23.61894605%2C%20-46.50630594%5D%2C%20%5B-23.55277328%2C%20-46.20240893%5D%2C%20%5B-23.55277328%2C%20-46.20240893%5D%2C%20%5B-23.71286115%2C%20-46.78186771%5D%2C%20%5B-23.5525928%2C%20-46.42773354%5D%2C%20%5B-23.48960369%2C%20-46.37155072%5D%2C%20%5B-23.48960369%2C%20-46.37155072%5D%2C%20%5B-23.55784394%2C%20-46.63147268%5D%2C%20%5B-23.30924825%2C%20-46.72190074%5D%2C%20%5B-23.30924825%2C%20-46.72190074%5D%2C%20%5B-23.50560218%2C%20-46.29590625%5D%2C%20%5B-23.55784394%2C%20-46.63147268%5D%2C%20%5B-23.71286115%2C%20-46.78186771%5D%2C%20%5B-23.5525928%2C%20-46.42773354%5D%2C%20%5B-23.30924825%2C%20-46.72190074%5D%2C%20%5B-23.55277328%2C%20-46.20240893%5D%2C%20%5B-23.61894605%2C%20-46.50630594%5D%2C%20%5B-23.55784394%2C%20-46.63147268%5D%2C%20%5B-23.30174014%2C%20-46.71908161%5D%2C%20%5B-23.30174014%2C%20-46.71908161%5D%2C%20%5B-23.5354887%2C%20-46.76121224%5D%2C%20%5B-23.53417492%2C%20-46.65062102%5D%2C%20%5B-23.71286115%2C%20-46.78186771%5D%2C%20%5B-23.69268727%2C%20-46.55862614%5D%2C%20%5B-23.50560218%2C%20-46.29590625%5D%2C%20%5B-23.64688466%2C%20-46.43817276%5D%2C%20%5B-23.48960369%2C%20-46.37155072%5D%2C%20%5B-23.48430089%2C%20-46.88112572%5D%2C%20%5B-23.48430089%2C%20-46.88112572%5D%2C%20%5B-23.48940872%2C%20-46.36283876%5D%2C%20%5B-23.68323241%2C%20-46.43071503%5D%2C%20%5B-23.66488277%2C%20-46.59842403%5D%2C%20%5B-23.71286115%2C%20-46.78186771%5D%2C%20%5B-23.71286115%2C%20-46.78186771%5D%2C%20%5B-23.4582623%2C%20-46.66770766%5D%2C%20%5B-23.71286115%2C%20-46.78186771%5D%2C%20%5B-23.56197631%2C%20-46.74319345%5D%2C%20%5B-23.48430089%2C%20-46.88112572%5D%2C%20%5B-23.48430089%2C%20-46.88112572%5D%2C%20%5B-23.68323241%2C%20-46.43071503%5D%2C%20%5B-23.52846109%2C%20-46.82866081%5D%2C%20%5B-23.58821569%2C%20-46.32698486%5D%2C%20%5B-23.66488277%2C%20-46.59842403%5D%2C%20%5B-23.56141416%2C%20-46.78207531%5D%2C%20%5B-23.78544382%2C%20-46.68261827%5D%2C%20%5B-23.66488277%2C%20-46.59842403%5D%2C%20%5B-23.30924825%2C%20-46.72190074%5D%2C%20%5B-23.4582623%2C%20-46.66770766%5D%2C%20%5B-23.41148438%2C%20-46.39419428%5D%2C%20%5B-23.71286115%2C%20-46.78186771%5D%2C%20%5B-23.29517403%2C%20-46.71023743%5D%2C%20%5B-23.5525928%2C%20-46.42773354%5D%2C%20%5B-23.30924825%2C%20-46.72190074%5D%2C%20%5B-23.30924825%2C%20-46.72190074%5D%2C%20%5B-23.45812182%2C%20-46.66660674%5D%2C%20%5B-23.45812182%2C%20-46.66660674%5D%2C%20%5B-23.45812182%2C%20-46.66660674%5D%2C%20%5B-23.61315471%2C%20-46.58937815%5D%2C%20%5B-23.30174014%2C%20-46.71908161%5D%2C%20%5B-23.61005942%2C%20-46.52159257%5D%2C%20%5B-23.4108644%2C%20-47.0054967%5D%2C%20%5B-23.30174014%2C%20-46.71908161%5D%2C%20%5B-23.52846109%2C%20-46.82866081%5D%2C%20%5B-23.52846109%2C%20-46.82866081%5D%2C%20%5B-23.64688466%2C%20-46.43817276%5D%2C%20%5B-23.45812182%2C%20-46.66660674%5D%2C%20%5B-23.71286115%2C%20-46.78186771%5D%2C%20%5B-23.61005942%2C%20-46.52159257%5D%2C%20%5B-23.50560218%2C%20-46.29590625%5D%2C%20%5B-23.50560218%2C%20-46.29590625%5D%2C%20%5B-23.5354887%2C%20-46.76121224%5D%2C%20%5B-23.29517403%2C%20-46.71023743%5D%2C%20%5B-23.58821569%2C%20-46.32698486%5D%2C%20%5B-23.56141416%2C%20-46.78207531%5D%2C%20%5B-23.43047112%2C%20-46.53310422%5D%2C%20%5B-23.43047112%2C%20-46.53310422%5D%2C%20%5B-23.53417492%2C%20-46.65062102%5D%2C%20%5B-23.71286115%2C%20-46.78186771%5D%2C%20%5B-23.66076014%2C%20-46.3313343%5D%2C%20%5B-23.4582623%2C%20-46.66770766%5D%2C%20%5B-23.4582623%2C%20-46.66770766%5D%2C%20%5B-23.43047112%2C%20-46.53310422%5D%2C%20%5B-23.43047112%2C%20-46.53310422%5D%2C%20%5B-23.5354887%2C%20-46.76121224%5D%2C%20%5B-23.29517403%2C%20-46.71023743%5D%2C%20%5B-23.48075554%2C%20-46.28470724%5D%2C%20%5B-23.68323241%2C%20-46.43071503%5D%2C%20%5B-23.68323241%2C%20-46.43071503%5D%2C%20%5B-23.48940872%2C%20-46.36283876%5D%2C%20%5B-23.71286115%2C%20-46.78186771%5D%2C%20%5B-23.71286115%2C%20-46.78186771%5D%2C%20%5B-23.71286115%2C%20-46.78186771%5D%2C%20%5B-23.72193335%2C%20-46.58566327%5D%2C%20%5B-23.66076014%2C%20-46.3313343%5D%2C%20%5B-23.61315471%2C%20-46.58937815%5D%2C%20%5B-23.56197631%2C%20-46.74319345%5D%2C%20%5B-23.45415967%2C%20-46.4742395%5D%2C%20%5B-23.66488277%2C%20-46.59842403%5D%2C%20%5B-23.66488277%2C%20-46.59842403%5D%2C%20%5B-23.61769504%2C%20-46.79359478%5D%2C%20%5B-23.61005942%2C%20-46.52159257%5D%2C%20%5B-23.72193335%2C%20-46.58566327%5D%2C%20%5B-23.72193335%2C%20-46.58566327%5D%2C%20%5B-23.71286115%2C%20-46.78186771%5D%2C%20%5B-23.54893826%2C%20-46.62589589%5D%2C%20%5B-23.54893826%2C%20-46.62589589%5D%2C%20%5B-23.58821569%2C%20-46.32698486%5D%2C%20%5B-23.4582623%2C%20-46.66770766%5D%2C%20%5B-23.50418943%2C%20-46.14394201%5D%2C%20%5B-23.71286115%2C%20-46.78186771%5D%2C%20%5B-23.71286115%2C%20-46.78186771%5D%2C%20%5B-23.71286115%2C%20-46.78186771%5D%2C%20%5B-23.66076014%2C%20-46.3313343%5D%2C%20%5B-23.66076014%2C%20-46.3313343%5D%2C%20%5B-23.71286115%2C%20-46.78186771%5D%2C%20%5B-23.61005942%2C%20-46.52159257%5D%2C%20%5B-23.61005942%2C%20-46.52159257%5D%2C%20%5B-23.29517403%2C%20-46.71023743%5D%2C%20%5B-23.61315471%2C%20-46.58937815%5D%2C%20%5B-23.45415967%2C%20-46.4742395%5D%2C%20%5B-23.48075554%2C%20-46.28470724%5D%2C%20%5B-23.61005942%2C%20-46.52159257%5D%2C%20%5B-23.61769504%2C%20-46.79359478%5D%2C%20%5B-23.72193335%2C%20-46.58566327%5D%2C%20%5B-23.51844336%2C%20-46.29888637%5D%2C%20%5B-23.51844336%2C%20-46.29888637%5D%2C%20%5B-23.71286115%2C%20-46.78186771%5D%2C%20%5B-23.71286115%2C%20-46.78186771%5D%2C%20%5B-23.71286115%2C%20-46.78186771%5D%2C%20%5B-23.50418943%2C%20-46.14394201%5D%2C%20%5B-23.71286115%2C%20-46.78186771%5D%2C%20%5B-23.5525928%2C%20-46.42773354%5D%2C%20%5B-23.5525928%2C%20-46.42773354%5D%2C%20%5B-23.71286115%2C%20-46.78186771%5D%2C%20%5B-23.71286115%2C%20-46.78186771%5D%2C%20%5B-23.2792536%2C%20-46.74357173%5D%2C%20%5B-23.2792536%2C%20-46.74357173%5D%2C%20%5B-23.43047112%2C%20-46.53310422%5D%2C%20%5B-23.43047112%2C%20-46.53310422%5D%2C%20%5B-23.54014784%2C%20-46.29406221%5D%2C%20%5B-23.54014784%2C%20-46.29406221%5D%2C%20%5B-23.29264001%2C%20-46.72766933%5D%2C%20%5B-23.29264001%2C%20-46.72766933%5D%2C%20%5B-23.29264001%2C%20-46.72766933%5D%2C%20%5B-23.71286115%2C%20-46.78186771%5D%2C%20%5B-23.66076014%2C%20-46.3313343%5D%2C%20%5B-23.30174014%2C%20-46.71908161%5D%2C%20%5B-23.30174014%2C%20-46.71908161%5D%2C%20%5B-23.50584701%2C%20-46.7808991%5D%2C%20%5B-23.48075554%2C%20-46.28470724%5D%2C%20%5B-23.51844336%2C%20-46.29888637%5D%2C%20%5B-23.71286115%2C%20-46.78186771%5D%2C%20%5B-23.71286115%2C%20-46.78186771%5D%2C%20%5B-23.71286115%2C%20-46.78186771%5D%2C%20%5B-23.52846109%2C%20-46.82866081%5D%2C%20%5B-23.64688466%2C%20-46.43817276%5D%2C%20%5B-23.71286115%2C%20-46.78186771%5D%2C%20%5B-23.71286115%2C%20-46.78186771%5D%2C%20%5B-23.61769504%2C%20-46.79359478%5D%2C%20%5B-23.5371176%2C%20-46.82559701%5D%2C%20%5B-23.45812182%2C%20-46.66660674%5D%2C%20%5B-23.56141416%2C%20-46.78207531%5D%2C%20%5B-23.70241457%2C%20-46.56733789%5D%2C%20%5B-23.72145381%2C%20-46.58650649%5D%2C%20%5B-23.50418943%2C%20-46.14394201%5D%2C%20%5B-23.50418943%2C%20-46.14394201%5D%2C%20%5B-23.71286115%2C%20-46.78186771%5D%2C%20%5B-23.4542089%2C%20-46.40686632%5D%2C%20%5B-23.4542089%2C%20-46.40686632%5D%2C%20%5B-23.4542089%2C%20-46.40686632%5D%2C%20%5B-23.54014784%2C%20-46.29406221%5D%2C%20%5B-23.53417492%2C%20-46.65062102%5D%2C%20%5B-23.71286115%2C%20-46.78186771%5D%2C%20%5B-23.69268727%2C%20-46.55862614%5D%2C%20%5B-23.69268727%2C%20-46.55862614%5D%2C%20%5B-23.65361277%2C%20-46.54391598%5D%2C%20%5B-23.71286115%2C%20-46.78186771%5D%2C%20%5B-23.71286115%2C%20-46.78186771%5D%2C%20%5B-23.29517403%2C%20-46.71023743%5D%2C%20%5B-23.71286115%2C%20-46.78186771%5D%2C%20%5B-23.71286115%2C%20-46.78186771%5D%2C%20%5B-23.71286115%2C%20-46.78186771%5D%2C%20%5B-23.71286115%2C%20-46.78186771%5D%2C%20%5B-23.61315471%2C%20-46.58937815%5D%2C%20%5B-23.71286115%2C%20-46.78186771%5D%2C%20%5B-23.61005942%2C%20-46.52159257%5D%2C%20%5B-23.4108644%2C%20-47.0054967%5D%2C%20%5B-23.4108644%2C%20-47.0054967%5D%2C%20%5B-23.71286115%2C%20-46.78186771%5D%2C%20%5B-23.71286115%2C%20-46.78186771%5D%2C%20%5B-23.29264001%2C%20-46.72766933%5D%2C%20%5B-23.55784394%2C%20-46.63147268%5D%2C%20%5B-23.54014784%2C%20-46.29406221%5D%2C%20%5B-23.71286115%2C%20-46.78186771%5D%2C%20%5B-23.71286115%2C%20-46.78186771%5D%2C%20%5B-23.55731882%2C%20-46.64034447%5D%2C%20%5B-23.71286115%2C%20-46.78186771%5D%2C%20%5B-23.50560218%2C%20-46.29590625%5D%2C%20%5B-23.53472581%2C%20-46.97561148%5D%2C%20%5B-23.71286115%2C%20-46.78186771%5D%2C%20%5B-23.2792536%2C%20-46.74357173%5D%2C%20%5B-23.48940872%2C%20-46.36283876%5D%2C%20%5B-23.64688466%2C%20-46.43817276%5D%2C%20%5B-23.71286115%2C%20-46.78186771%5D%2C%20%5B-23.71286115%2C%20-46.78186771%5D%2C%20%5B-23.71286115%2C%20-46.78186771%5D%2C%20%5B-23.71286115%2C%20-46.78186771%5D%2C%20%5B-23.71286115%2C%20-46.78186771%5D%2C%20%5B-23.71286115%2C%20-46.78186771%5D%2C%20%5B-23.71286115%2C%20-46.78186771%5D%2C%20%5B-23.71286115%2C%20-46.78186771%5D%2C%20%5B-23.71286115%2C%20-46.78186771%5D%2C%20%5B-23.71286115%2C%20-46.78186771%5D%2C%20%5B-23.71286115%2C%20-46.78186771%5D%2C%20%5B-23.56197631%2C%20-46.74319345%5D%2C%20%5B-23.71286115%2C%20-46.78186771%5D%2C%20%5B-23.71286115%2C%20-46.78186771%5D%2C%20%5B-23.71286115%2C%20-46.78186771%5D%2C%20%5B-23.71286115%2C%20-46.78186771%5D%2C%20%5B-23.27196756%2C%20-46.71757941%5D%2C%20%5B-23.44162335%2C%20-46.53822744%5D%2C%20%5B-23.4582623%2C%20-46.66770766%5D%2C%20%5B-23.41148438%2C%20-46.39419428%5D%2C%20%5B-23.53417492%2C%20-46.65062102%5D%2C%20%5B-23.71286115%2C%20-46.78186771%5D%2C%20%5B-23.43047112%2C%20-46.53310422%5D%2C%20%5B-23.72145381%2C%20-46.58650649%5D%2C%20%5B-23.72145381%2C%20-46.58650649%5D%2C%20%5B-23.72145381%2C%20-46.58650649%5D%2C%20%5B-23.54893826%2C%20-46.62589589%5D%2C%20%5B-23.54893826%2C%20-46.62589589%5D%2C%20%5B-23.52846109%2C%20-46.82866081%5D%2C%20%5B-23.71286115%2C%20-46.78186771%5D%2C%20%5B-23.71286115%2C%20-46.78186771%5D%2C%20%5B-23.71286115%2C%20-46.78186771%5D%2C%20%5B-23.63871518%2C%20-46.524637%5D%2C%20%5B-23.56129796%2C%20-46.64612919%5D%2C%20%5B-23.71286115%2C%20-46.78186771%5D%2C%20%5B-23.71286115%2C%20-46.78186771%5D%2C%20%5B-23.71286115%2C%20-46.78186771%5D%2C%20%5B-23.71286115%2C%20-46.78186771%5D%2C%20%5B-23.71286115%2C%20-46.78186771%5D%2C%20%5B-23.5371176%2C%20-46.82559701%5D%2C%20%5B-23.71286115%2C%20-46.78186771%5D%2C%20%5B-23.71286115%2C%20-46.78186771%5D%2C%20%5B-23.71286115%2C%20-46.78186771%5D%2C%20%5B-23.71286115%2C%20-46.78186771%5D%2C%20%5B-23.76202006%2C%20-46.70196938%5D%2C%20%5B-23.71286115%2C%20-46.78186771%5D%2C%20%5B-23.71286115%2C%20-46.78186771%5D%2C%20%5B-23.66076014%2C%20-46.3313343%5D%2C%20%5B-23.53472581%2C%20-46.97561148%5D%2C%20%5B-23.53472581%2C%20-46.97561148%5D%2C%20%5B-23.71286115%2C%20-46.78186771%5D%2C%20%5B-23.65361277%2C%20-46.54391598%5D%2C%20%5B-23.65361277%2C%20-46.54391598%5D%2C%20%5B-23.71286115%2C%20-46.78186771%5D%2C%20%5B-23.56911052%2C%20-46.80429488%5D%2C%20%5B-23.56911052%2C%20-46.80429488%5D%2C%20%5B-23.71286115%2C%20-46.78186771%5D%2C%20%5B-23.48075554%2C%20-46.28470724%5D%2C%20%5B-23.71286115%2C%20-46.78186771%5D%2C%20%5B-23.71286115%2C%20-46.78186771%5D%2C%20%5B-23.71286115%2C%20-46.78186771%5D%2C%20%5B-23.4542089%2C%20-46.40686632%5D%2C%20%5B-23.55731882%2C%20-46.64034447%5D%2C%20%5B-23.71286115%2C%20-46.78186771%5D%2C%20%5B-23.71286115%2C%20-46.78186771%5D%2C%20%5B-23.71286115%2C%20-46.78186771%5D%2C%20%5B-23.71286115%2C%20-46.78186771%5D%2C%20%5B-23.71286115%2C%20-46.78186771%5D%2C%20%5B-23.71286115%2C%20-46.78186771%5D%2C%20%5B-23.71286115%2C%20-46.78186771%5D%2C%20%5B-23.71286115%2C%20-46.78186771%5D%2C%20%5B-23.71286115%2C%20-46.78186771%5D%2C%20%5B-23.71286115%2C%20-46.78186771%5D%2C%20%5B-23.71286115%2C%20-46.78186771%5D%2C%20%5B-23.71029963%2C%20-46.50652388%5D%2C%20%5B-23.71286115%2C%20-46.78186771%5D%2C%20%5B-23.71286115%2C%20-46.78186771%5D%2C%20%5B-23.71286115%2C%20-46.78186771%5D%2C%20%5B-23.71286115%2C%20-46.78186771%5D%2C%20%5B-23.71286115%2C%20-46.78186771%5D%2C%20%5B-23.27196756%2C%20-46.71757941%5D%2C%20%5B-23.71286115%2C%20-46.78186771%5D%2C%20%5B-23.44162335%2C%20-46.53822744%5D%2C%20%5B-23.71286115%2C%20-46.78186771%5D%2C%20%5B-23.5371176%2C%20-46.82559701%5D%2C%20%5B-23.7357797%2C%20-46.57267958%5D%2C%20%5B-23.4582623%2C%20-46.66770766%5D%2C%20%5B-23.71286115%2C%20-46.78186771%5D%2C%20%5B-23.71286115%2C%20-46.78186771%5D%2C%20%5B-23.71286115%2C%20-46.78186771%5D%2C%20%5B-23.71286115%2C%20-46.78186771%5D%2C%20%5B-23.70241457%2C%20-46.56733789%5D%2C%20%5B-23.56197631%2C%20-46.74319345%5D%2C%20%5B-23.43047112%2C%20-46.53310422%5D%2C%20%5B-23.71286115%2C%20-46.78186771%5D%2C%20%5B-23.41148438%2C%20-46.39419428%5D%2C%20%5B-23.71286115%2C%20-46.78186771%5D%2C%20%5B-23.71286115%2C%20-46.78186771%5D%2C%20%5B-23.71286115%2C%20-46.78186771%5D%2C%20%5B-23.66076014%2C%20-46.3313343%5D%2C%20%5B-23.71286115%2C%20-46.78186771%5D%2C%20%5B-23.71286115%2C%20-46.78186771%5D%2C%20%5B-23.71286115%2C%20-46.78186771%5D%2C%20%5B-23.71286115%2C%20-46.78186771%5D%2C%20%5B-23.4542089%2C%20-46.40686632%5D%2C%20%5B-23.71286115%2C%20-46.78186771%5D%2C%20%5B-23.4601041%2C%20-46.68499082%5D%2C%20%5B-23.71286115%2C%20-46.78186771%5D%2C%20%5B-23.71286115%2C%20-46.78186771%5D%2C%20%5B-23.44162335%2C%20-46.53822744%5D%2C%20%5B-23.67170518%2C%20-46.63706755%5D%2C%20%5B-23.52846109%2C%20-46.82866081%5D%2C%20%5B-23.71286115%2C%20-46.78186771%5D%2C%20%5B-23.71286115%2C%20-46.78186771%5D%2C%20%5B-23.61769504%2C%20-46.79359478%5D%2C%20%5B-23.58821569%2C%20-46.32698486%5D%2C%20%5B-23.56141416%2C%20-46.78207531%5D%2C%20%5B-23.56141416%2C%20-46.78207531%5D%2C%20%5B-23.45980603%2C%20-46.66497745%5D%2C%20%5B-23.7357797%2C%20-46.57267958%5D%2C%20%5B-23.71286115%2C%20-46.78186771%5D%2C%20%5B-23.48840283%2C%20-46.34805773%5D%2C%20%5B-23.71286115%2C%20-46.78186771%5D%2C%20%5B-23.71286115%2C%20-46.78186771%5D%2C%20%5B-23.56141416%2C%20-46.78207531%5D%2C%20%5B-23.71286115%2C%20-46.78186771%5D%2C%20%5B-23.61769504%2C%20-46.79359478%5D%2C%20%5B-23.5120174%2C%20-46.20857163%5D%2C%20%5B-23.5120174%2C%20-46.20857163%5D%2C%20%5B-23.5120174%2C%20-46.20857163%5D%2C%20%5B-23.52865491%2C%20-46.55942576%5D%2C%20%5B-23.55731882%2C%20-46.64034447%5D%2C%20%5B-23.55731882%2C%20-46.64034447%5D%2C%20%5B-23.71286115%2C%20-46.78186771%5D%2C%20%5B-23.71286115%2C%20-46.78186771%5D%2C%20%5B-23.71286115%2C%20-46.78186771%5D%2C%20%5B-23.66567677%2C%20-46.71232391%5D%2C%20%5B-23.66567677%2C%20-46.71232391%5D%2C%20%5B-23.71286115%2C%20-46.78186771%5D%2C%20%5B-23.50418943%2C%20-46.14394201%5D%2C%20%5B-23.50418943%2C%20-46.14394201%5D%2C%20%5B-23.71286115%2C%20-46.78186771%5D%2C%20%5B-23.58172545%2C%20-46.8008286%5D%2C%20%5B-23.71286115%2C%20-46.78186771%5D%2C%20%5B-23.27210582%2C%20-46.73345303%5D%2C%20%5B-23.78544382%2C%20-46.68261827%5D%2C%20%5B-23.78544382%2C%20-46.68261827%5D%2C%20%5B-23.71286115%2C%20-46.78186771%5D%2C%20%5B-23.27785295%2C%20-46.73779216%5D%2C%20%5B-23.71286115%2C%20-46.78186771%5D%2C%20%5B-23.71029963%2C%20-46.50652388%5D%2C%20%5B-23.67170518%2C%20-46.63706755%5D%2C%20%5B-23.71286115%2C%20-46.78186771%5D%2C%20%5B-23.56911052%2C%20-46.80429488%5D%2C%20%5B-23.29517403%2C%20-46.71023743%5D%2C%20%5B-23.50079088%2C%20-46.44512961%5D%2C%20%5B-23.71286115%2C%20-46.78186771%5D%2C%20%5B-23.71286115%2C%20-46.78186771%5D%2C%20%5B-23.73134624%2C%20-46.53982484%5D%2C%20%5B-23.71286115%2C%20-46.78186771%5D%2C%20%5B-23.45415967%2C%20-46.4742395%5D%2C%20%5B-23.67170518%2C%20-46.63706755%5D%2C%20%5B-23.45980603%2C%20-46.66497745%5D%2C%20%5B-23.45980603%2C%20-46.66497745%5D%2C%20%5B-23.71286115%2C%20-46.78186771%5D%2C%20%5B-23.71286115%2C%20-46.78186771%5D%2C%20%5B-23.71286115%2C%20-46.78186771%5D%2C%20%5B-23.71286115%2C%20-46.78186771%5D%2C%20%5B-23.71286115%2C%20-46.78186771%5D%2C%20%5B-23.27196756%2C%20-46.71757941%5D%2C%20%5B-23.27196756%2C%20-46.71757941%5D%2C%20%5B-23.71286115%2C%20-46.78186771%5D%2C%20%5B-23.71029963%2C%20-46.50652388%5D%2C%20%5B-23.71286115%2C%20-46.78186771%5D%2C%20%5B-23.29264001%2C%20-46.72766933%5D%2C%20%5B-23.71286115%2C%20-46.78186771%5D%2C%20%5B-23.61005942%2C%20-46.52159257%5D%2C%20%5B-23.61005942%2C%20-46.52159257%5D%2C%20%5B-23.4108644%2C%20-47.0054967%5D%2C%20%5B-23.50079088%2C%20-46.44512961%5D%2C%20%5B-23.71286115%2C%20-46.78186771%5D%2C%20%5B-23.4601041%2C%20-46.68499082%5D%2C%20%5B-23.71286115%2C%20-46.78186771%5D%2C%20%5B-23.71286115%2C%20-46.78186771%5D%2C%20%5B-23.71286115%2C%20-46.78186771%5D%2C%20%5B-23.2792536%2C%20-46.74357173%5D%2C%20%5B-23.71286115%2C%20-46.78186771%5D%2C%20%5B-23.71286115%2C%20-46.78186771%5D%2C%20%5B-23.54678258%2C%20-46.42969322%5D%2C%20%5B-23.54678258%2C%20-46.42969322%5D%2C%20%5B-23.52104005%2C%20-46.64193686%5D%2C%20%5B-23.71286115%2C%20-46.78186771%5D%2C%20%5B-23.71286115%2C%20-46.78186771%5D%2C%20%5B-23.71286115%2C%20-46.78186771%5D%2C%20%5B-23.71286115%2C%20-46.78186771%5D%2C%20%5B-23.48840283%2C%20-46.34805773%5D%2C%20%5B-23.43047112%2C%20-46.53310422%5D%2C%20%5B-23.71286115%2C%20-46.78186771%5D%2C%20%5B-23.71286115%2C%20-46.78186771%5D%2C%20%5B-23.71286115%2C%20-46.78186771%5D%2C%20%5B-23.51054225%2C%20-46.61987527%5D%2C%20%5B-23.48946955%2C%20-46.34033329%5D%2C%20%5B-23.2792536%2C%20-46.74357173%5D%2C%20%5B-23.52865491%2C%20-46.55942576%5D%2C%20%5B-23.52865491%2C%20-46.55942576%5D%2C%20%5B-23.34000269%2C%20-46.09121963%5D%2C%20%5B-23.48840283%2C%20-46.34805773%5D%2C%20%5B-23.48840283%2C%20-46.34805773%5D%2C%20%5B-23.71286115%2C%20-46.78186771%5D%2C%20%5B-23.71286115%2C%20-46.78186771%5D%2C%20%5B-23.57953492%2C%20-46.48737379%5D%2C%20%5B-23.34000269%2C%20-46.09121963%5D%2C%20%5B-23.52117316%2C%20-46.42261264%5D%2C%20%5B-23.66567677%2C%20-46.71232391%5D%2C%20%5B-23.76202006%2C%20-46.70196938%5D%2C%20%5B-23.71286115%2C%20-46.78186771%5D%2C%20%5B-23.71286115%2C%20-46.78186771%5D%2C%20%5B-23.48075554%2C%20-46.28470724%5D%2C%20%5B-23.34000269%2C%20-46.09121963%5D%2C%20%5B-23.67170518%2C%20-46.63706755%5D%2C%20%5B-23.67170518%2C%20-46.63706755%5D%2C%20%5B-23.429188%2C%20-46.43537659%5D%2C%20%5B-23.66567677%2C%20-46.71232391%5D%2C%20%5B-23.71286115%2C%20-46.78186771%5D%2C%20%5B-23.52117316%2C%20-46.42261264%5D%2C%20%5B-23.52117316%2C%20-46.42261264%5D%2C%20%5B-23.71286115%2C%20-46.78186771%5D%2C%20%5B-23.71286115%2C%20-46.78186771%5D%2C%20%5B-23.71286115%2C%20-46.78186771%5D%2C%20%5B-23.45832853%2C%20-46.68724384%5D%2C%20%5B-23.5120174%2C%20-46.20857163%5D%2C%20%5B-23.5120174%2C%20-46.20857163%5D%2C%20%5B-23.71286115%2C%20-46.78186771%5D%2C%20%5B-23.71286115%2C%20-46.78186771%5D%2C%20%5B-23.71029963%2C%20-46.50652388%5D%2C%20%5B-23.50585073%2C%20-46.46153744%5D%2C%20%5B-23.71286115%2C%20-46.78186771%5D%2C%20%5B-23.60976455%2C%20-46.59231047%5D%2C%20%5B-23.77127492%2C%20-46.6803161%5D%2C%20%5B-23.71286115%2C%20-46.78186771%5D%2C%20%5B-23.71286115%2C%20-46.78186771%5D%2C%20%5B-23.50584701%2C%20-46.7808991%5D%2C%20%5B-23.71286115%2C%20-46.78186771%5D%2C%20%5B-23.49046882%2C%20-46.47055002%5D%2C%20%5B-23.50584701%2C%20-46.7808991%5D%2C%20%5B-23.53771136%2C%20-46.91580055%5D%2C%20%5B-23.53771136%2C%20-46.91580055%5D%2C%20%5B-23.71286115%2C%20-46.78186771%5D%2C%20%5B-23.71286115%2C%20-46.78186771%5D%2C%20%5B-23.56604396%2C%20-46.8105087%5D%2C%20%5B-23.71286115%2C%20-46.78186771%5D%2C%20%5B-23.54014784%2C%20-46.29406221%5D%2C%20%5B-23.47398768%2C%20-46.57836431%5D%2C%20%5B-23.69091537%2C%20-46.64713441%5D%2C%20%5B-23.71286115%2C%20-46.78186771%5D%2C%20%5B-23.58970177%2C%20-46.74971289%5D%2C%20%5B-23.71286115%2C%20-46.78186771%5D%2C%20%5B-23.71286115%2C%20-46.78186771%5D%2C%20%5B-23.73134624%2C%20-46.53982484%5D%2C%20%5B-23.73134624%2C%20-46.53982484%5D%2C%20%5B-23.53771136%2C%20-46.91580055%5D%2C%20%5B-23.71286115%2C%20-46.78186771%5D%2C%20%5B-23.71286115%2C%20-46.78186771%5D%2C%20%5B-23.71286115%2C%20-46.78186771%5D%2C%20%5B-23.71286115%2C%20-46.78186771%5D%2C%20%5B-23.71286115%2C%20-46.78186771%5D%2C%20%5B-23.71286115%2C%20-46.78186771%5D%2C%20%5B-23.50404951%2C%20-46.51749544%5D%2C%20%5B-23.52104005%2C%20-46.64193686%5D%2C%20%5B-23.71286115%2C%20-46.78186771%5D%2C%20%5B-23.52685065%2C%20-46.56041177%5D%2C%20%5B-23.52685065%2C%20-46.56041177%5D%2C%20%5B-23.71286115%2C%20-46.78186771%5D%2C%20%5B-23.56146582%2C%20-46.7808223%5D%2C%20%5B-23.56146582%2C%20-46.7808223%5D%2C%20%5B-23.429188%2C%20-46.43537659%5D%2C%20%5B-23.429188%2C%20-46.43537659%5D%2C%20%5B-23.429188%2C%20-46.43537659%5D%2C%20%5B-23.45832853%2C%20-46.68724384%5D%2C%20%5B-23.71286115%2C%20-46.78186771%5D%2C%20%5B-23.429188%2C%20-46.43537659%5D%2C%20%5B-23.50584701%2C%20-46.7808991%5D%2C%20%5B-23.49607074%2C%20-46.29845648%5D%2C%20%5B-23.52117316%2C%20-46.42261264%5D%2C%20%5B-23.62491311%2C%20-46.66652632%5D%2C%20%5B-23.34000269%2C%20-46.09121963%5D%2C%20%5B-23.71286115%2C%20-46.78186771%5D%2C%20%5B-23.71286115%2C%20-46.78186771%5D%2C%20%5B-23.71286115%2C%20-46.78186771%5D%2C%20%5B-23.61781248%2C%20-46.75175425%5D%2C%20%5B-23.54678258%2C%20-46.42969322%5D%2C%20%5B-23.71286115%2C%20-46.78186771%5D%2C%20%5B-23.48946955%2C%20-46.34033329%5D%2C%20%5B-23.50585073%2C%20-46.46153744%5D%2C%20%5B-23.71286115%2C%20-46.78186771%5D%2C%20%5B-23.27210582%2C%20-46.73345303%5D%2C%20%5B-23.50795629%2C%20-46.76410431%5D%2C%20%5B-23.52104005%2C%20-46.64193686%5D%2C%20%5B-23.76481498%2C%20-46.6894768%5D%2C%20%5B-23.71286115%2C%20-46.78186771%5D%2C%20%5B-23.44652319%2C%20-46.536915%5D%2C%20%5B-23.76516905%2C%20-46.69452907%5D%2C%20%5B-23.76516905%2C%20-46.69452907%5D%2C%20%5B-23.71286115%2C%20-46.78186771%5D%2C%20%5B-23.71286115%2C%20-46.78186771%5D%2C%20%5B-23.71286115%2C%20-46.78186771%5D%2C%20%5B-23.54828164%2C%20-45.96350265%5D%2C%20%5B-23.709189%2C%20-46.60968099%5D%2C%20%5B-23.709189%2C%20-46.60968099%5D%2C%20%5B-23.709189%2C%20-46.60968099%5D%2C%20%5B-23.54828164%2C%20-45.96350265%5D%2C%20%5B-23.52579673%2C%20-46.36978573%5D%2C%20%5B-23.52579673%2C%20-46.36978573%5D%2C%20%5B-23.52579673%2C%20-46.36978573%5D%2C%20%5B-23.52579673%2C%20-46.36978573%5D%2C%20%5B-23.52579673%2C%20-46.36978573%5D%2C%20%5B-23.54216213%2C%20-46.64067057%5D%2C%20%5B-23.54216213%2C%20-46.64067057%5D%2C%20%5B-23.54216213%2C%20-46.64067057%5D%2C%20%5B-23.54216213%2C%20-46.64067057%5D%2C%20%5B-23.54216213%2C%20-46.64067057%5D%2C%20%5B-23.71286115%2C%20-46.78186771%5D%2C%20%5B-23.54216213%2C%20-46.64067057%5D%2C%20%5B-23.65105351%2C%20-46.54842057%5D%2C%20%5B-23.65105351%2C%20-46.54842057%5D%2C%20%5B-23.71286115%2C%20-46.78186771%5D%2C%20%5B-23.56664421%2C%20-46.65040369%5D%2C%20%5B-23.54216213%2C%20-46.64067057%5D%2C%20%5B-23.54216213%2C%20-46.64067057%5D%2C%20%5B-23.54216213%2C%20-46.64067057%5D%2C%20%5B-23.71286115%2C%20-46.78186771%5D%2C%20%5B-23.71286115%2C%20-46.78186771%5D%2C%20%5B-23.65105351%2C%20-46.54842057%5D%2C%20%5B-23.65105351%2C%20-46.54842057%5D%2C%20%5B-23.65105351%2C%20-46.54842057%5D%2C%20%5B-23.56664421%2C%20-46.65040369%5D%2C%20%5B-23.71286115%2C%20-46.78186771%5D%2C%20%5B-23.71286115%2C%20-46.78186771%5D%2C%20%5B-23.68624847%2C%20-46.67705677%5D%2C%20%5B-23.68624847%2C%20-46.67705677%5D%2C%20%5B-23.68624847%2C%20-46.67705677%5D%2C%20%5B-23.56664421%2C%20-46.65040369%5D%2C%20%5B-23.64027263%2C%20-46.81568811%5D%2C%20%5B-23.64027263%2C%20-46.81568811%5D%2C%20%5B-23.64027263%2C%20-46.81568811%5D%2C%20%5B-23.64027263%2C%20-46.81568811%5D%2C%20%5B-23.64027263%2C%20-46.81568811%5D%2C%20%5B-23.64027263%2C%20-46.81568811%5D%2C%20%5B-23.64027263%2C%20-46.81568811%5D%2C%20%5B-23.64027263%2C%20-46.81568811%5D%2C%20%5B-23.71286115%2C%20-46.78186771%5D%2C%20%5B-23.71286115%2C%20-46.78186771%5D%2C%20%5B-23.5047972%2C%20-46.28809083%5D%2C%20%5B-23.52143824%2C%20-46.75247625%5D%2C%20%5B-23.33416771%2C%20-46.72586298%5D%2C%20%5B-23.33416771%2C%20-46.72586298%5D%2C%20%5B-23.2728395%2C%20-46.75104206%5D%2C%20%5B-23.71286115%2C%20-46.78186771%5D%2C%20%5B-23.2728395%2C%20-46.75104206%5D%2C%20%5B-23.2728395%2C%20-46.75104206%5D%2C%20%5B-23.66330636%2C%20-46.79882165%5D%2C%20%5B-23.65685378%2C%20-46.53031684%5D%2C%20%5B-23.4084143%2C%20-46.89999773%5D%2C%20%5B-23.4084143%2C%20-46.89999773%5D%2C%20%5B-23.4084143%2C%20-46.89999773%5D%2C%20%5B-23.28464673%2C%20-46.73648339%5D%2C%20%5B-23.65685378%2C%20-46.53031684%5D%2C%20%5B-23.2728395%2C%20-46.75104206%5D%2C%20%5B-23.2728395%2C%20-46.75104206%5D%2C%20%5B-23.54614124%2C%20-46.62044539%5D%2C%20%5B-23.54614124%2C%20-46.62044539%5D%2C%20%5B-23.5047972%2C%20-46.28809083%5D%2C%20%5B-23.71286115%2C%20-46.78186771%5D%2C%20%5B-23.81686447%2C%20-46.83064923%5D%2C%20%5B-23.4084143%2C%20-46.89999773%5D%2C%20%5B-23.4084143%2C%20-46.89999773%5D%2C%20%5B-23.54614124%2C%20-46.62044539%5D%2C%20%5B-23.54614124%2C%20-46.62044539%5D%2C%20%5B-23.5047972%2C%20-46.28809083%5D%2C%20%5B-23.81686447%2C%20-46.83064923%5D%2C%20%5B-23.65229398%2C%20-46.33928871%5D%2C%20%5B-23.28464673%2C%20-46.73648339%5D%2C%20%5B-23.52143824%2C%20-46.75247625%5D%2C%20%5B-23.65229398%2C%20-46.33928871%5D%2C%20%5B-23.66330636%2C%20-46.79882165%5D%2C%20%5B-23.81686447%2C%20-46.83064923%5D%2C%20%5B-23.81686447%2C%20-46.83064923%5D%2C%20%5B-23.65229398%2C%20-46.33928871%5D%2C%20%5B-23.65685378%2C%20-46.53031684%5D%2C%20%5B-23.60165056%2C%20-46.50344621%5D%2C%20%5B-23.48627056%2C%20-46.37195977%5D%2C%20%5B-23.66136524%2C%20-46.85980785%5D%2C%20%5B-23.5335384%2C%20-46.91050514%5D%2C%20%5B-23.5335384%2C%20-46.91050514%5D%2C%20%5B-23.5335384%2C%20-46.91050514%5D%2C%20%5B-23.5335384%2C%20-46.91050514%5D%2C%20%5B-23.64027263%2C%20-46.81568811%5D%2C%20%5B-23.64027263%2C%20-46.81568811%5D%2C%20%5B-23.64027263%2C%20-46.81568811%5D%2C%20%5B-23.66919424%2C%20-46.64953935%5D%2C%20%5B-23.66919424%2C%20-46.64953935%5D%2C%20%5B-23.66919424%2C%20-46.64953935%5D%2C%20%5B-23.68231519%2C%20-46.52957569%5D%2C%20%5B-23.54203529%2C%20-46.18262532%5D%2C%20%5B-23.68231519%2C%20-46.52957569%5D%2C%20%5B-23.64027263%2C%20-46.81568811%5D%2C%20%5B-23.54203529%2C%20-46.18262532%5D%2C%20%5B-23.64027263%2C%20-46.81568811%5D%2C%20%5B-23.55096163%2C%20-46.78525221%5D%2C%20%5B-23.68231519%2C%20-46.52957569%5D%2C%20%5B-23.68231519%2C%20-46.52957569%5D%2C%20%5B-23.53647197%2C%20-46.42918845%5D%2C%20%5B-23.53647197%2C%20-46.42918845%5D%2C%20%5B-23.53647197%2C%20-46.42918845%5D%2C%20%5B-23.55096163%2C%20-46.78525221%5D%2C%20%5B-23.71286115%2C%20-46.78186771%5D%2C%20%5B-23.71286115%2C%20-46.78186771%5D%2C%20%5B-23.71286115%2C%20-46.78186771%5D%2C%20%5B-23.54728006%2C%20-46.63672599%5D%2C%20%5B-23.54728006%2C%20-46.63672599%5D%2C%20%5B-23.66919424%2C%20-46.64953935%5D%2C%20%5B-23.66919424%2C%20-46.64953935%5D%2C%20%5B-23.68231519%2C%20-46.52957569%5D%2C%20%5B-23.55096163%2C%20-46.78525221%5D%2C%20%5B-23.55096163%2C%20-46.78525221%5D%2C%20%5B-23.68231519%2C%20-46.52957569%5D%2C%20%5B-23.53647197%2C%20-46.42918845%5D%2C%20%5B-23.53647197%2C%20-46.42918845%5D%2C%20%5B-23.71286115%2C%20-46.78186771%5D%2C%20%5B-23.54728006%2C%20-46.63672599%5D%2C%20%5B-23.55275822%2C%20-46.6476569%5D%2C%20%5B-23.55275822%2C%20-46.6476569%5D%2C%20%5B-23.39677523%2C%20-46.65369675%5D%2C%20%5B-23.5317212%2C%20-46.66847463%5D%2C%20%5B-23.71286115%2C%20-46.78186771%5D%2C%20%5B-23.71286115%2C%20-46.78186771%5D%2C%20%5B-23.54728006%2C%20-46.63672599%5D%2C%20%5B-23.54728006%2C%20-46.63672599%5D%2C%20%5B-23.39677523%2C%20-46.65369675%5D%2C%20%5B-23.39677523%2C%20-46.65369675%5D%2C%20%5B-23.64027263%2C%20-46.81568811%5D%2C%20%5B-23.47103556%2C%20-46.72128418%5D%2C%20%5B-23.47103556%2C%20-46.72128418%5D%2C%20%5B-23.55275822%2C%20-46.6476569%5D%2C%20%5B-23.71540023%2C%20-46.55151321%5D%2C%20%5B-23.39677523%2C%20-46.65369675%5D%2C%20%5B-23.54203529%2C%20-46.18262532%5D%2C%20%5B-23.5317212%2C%20-46.66847463%5D%2C%20%5B-23.68231519%2C%20-46.52957569%5D%2C%20%5B-23.71286115%2C%20-46.78186771%5D%2C%20%5B-23.71286115%2C%20-46.78186771%5D%2C%20%5B-23.71286115%2C%20-46.78186771%5D%2C%20%5B-23.66919424%2C%20-46.64953935%5D%2C%20%5B-23.64027263%2C%20-46.81568811%5D%2C%20%5B-23.47103556%2C%20-46.72128418%5D%2C%20%5B-23.55275822%2C%20-46.6476569%5D%2C%20%5B-23.55275822%2C%20-46.6476569%5D%2C%20%5B-23.39677523%2C%20-46.65369675%5D%2C%20%5B-23.5317212%2C%20-46.66847463%5D%2C%20%5B-23.5074369%2C%20-46.41897203%5D%2C%20%5B-23.52471009%2C%20-46.42415199%5D%2C%20%5B-23.52471009%2C%20-46.42415199%5D%2C%20%5B-23.52471009%2C%20-46.42415199%5D%2C%20%5B-23.55096163%2C%20-46.78525221%5D%2C%20%5B-23.55096163%2C%20-46.78525221%5D%2C%20%5B-23.55096163%2C%20-46.78525221%5D%2C%20%5B-23.71286115%2C%20-46.78186771%5D%2C%20%5B-23.71286115%2C%20-46.78186771%5D%2C%20%5B-23.58852724%2C%20-46.79248082%5D%2C%20%5B-23.58852724%2C%20-46.79248082%5D%2C%20%5B-23.54203529%2C%20-46.18262532%5D%2C%20%5B-23.47823468%2C%20-46.42398545%5D%2C%20%5B-23.66919424%2C%20-46.64953935%5D%2C%20%5B-23.66919424%2C%20-46.64953935%5D%2C%20%5B-23.57018585%2C%20-46.53190547%5D%2C%20%5B-23.57018585%2C%20-46.53190547%5D%2C%20%5B-23.52471009%2C%20-46.42415199%5D%2C%20%5B-23.56925985%2C%20-46.80433517%5D%2C%20%5B-23.58852724%2C%20-46.79248082%5D%2C%20%5B-23.47823468%2C%20-46.42398545%5D%2C%20%5B-23.47823468%2C%20-46.42398545%5D%2C%20%5B-23.47823468%2C%20-46.42398545%5D%2C%20%5B-23.71286115%2C%20-46.78186771%5D%2C%20%5B-23.71286115%2C%20-46.78186771%5D%2C%20%5B-23.71286115%2C%20-46.78186771%5D%2C%20%5B-23.71286115%2C%20-46.78186771%5D%2C%20%5B-23.54728006%2C%20-46.63672599%5D%2C%20%5B-23.54728006%2C%20-46.63672599%5D%2C%20%5B-23.57018585%2C%20-46.53190547%5D%2C%20%5B-23.68231519%2C%20-46.52957569%5D%2C%20%5B-23.58410999%2C%20-46.40901317%5D%2C%20%5B-23.5074369%2C%20-46.41897203%5D%2C%20%5B-23.47823468%2C%20-46.42398545%5D%2C%20%5B-23.57018585%2C%20-46.53190547%5D%2C%20%5B-23.52560433%2C%20-46.34425034%5D%2C%20%5B-23.58852724%2C%20-46.79248082%5D%2C%20%5B-23.65962553%2C%20-46.75205882%5D%2C%20%5B-23.65962553%2C%20-46.75205882%5D%2C%20%5B-23.55096163%2C%20-46.78525221%5D%2C%20%5B-23.53647197%2C%20-46.42918845%5D%2C%20%5B-23.65962553%2C%20-46.75205882%5D%2C%20%5B-23.47103556%2C%20-46.72128418%5D%2C%20%5B-23.47103556%2C%20-46.72128418%5D%2C%20%5B-23.47103556%2C%20-46.72128418%5D%2C%20%5B-23.39677523%2C%20-46.65369675%5D%2C%20%5B-23.5317212%2C%20-46.66847463%5D%2C%20%5B-23.64841982%2C%20-46.80317901%5D%2C%20%5B-23.57018585%2C%20-46.53190547%5D%2C%20%5B-23.58410999%2C%20-46.40901317%5D%2C%20%5B-23.58410999%2C%20-46.40901317%5D%2C%20%5B-23.58410999%2C%20-46.40901317%5D%2C%20%5B-23.71780309%2C%20-46.84953791%5D%2C%20%5B-23.42250831%2C%20-46.82353287%5D%2C%20%5B-23.54728006%2C%20-46.63672599%5D%2C%20%5B-23.51530069%2C%20-46.58414721%5D%2C%20%5B-23.51530069%2C%20-46.58414721%5D%2C%20%5B-23.52560433%2C%20-46.34425034%5D%2C%20%5B-23.52560433%2C%20-46.34425034%5D%2C%20%5B-23.47103556%2C%20-46.72128418%5D%2C%20%5B-23.47103556%2C%20-46.72128418%5D%2C%20%5B-23.47103556%2C%20-46.72128418%5D%2C%20%5B-23.55275822%2C%20-46.6476569%5D%2C%20%5B-23.64841982%2C%20-46.80317901%5D%2C%20%5B-23.47103556%2C%20-46.72128418%5D%2C%20%5B-23.47103556%2C%20-46.72128418%5D%2C%20%5B-23.64841982%2C%20-46.80317901%5D%2C%20%5B-23.65962553%2C%20-46.75205882%5D%2C%20%5B-23.39677523%2C%20-46.65369675%5D%2C%20%5B-23.71780309%2C%20-46.84953791%5D%2C%20%5B-23.71780309%2C%20-46.84953791%5D%2C%20%5B-23.53784668%2C%20-46.63466812%5D%2C%20%5B-23.39677523%2C%20-46.65369675%5D%2C%20%5B-23.47889546%2C%20-46.35916015%5D%2C%20%5B-23.47889546%2C%20-46.35916015%5D%2C%20%5B-23.56479941%2C%20-46.78348052%5D%2C%20%5B-23.56479941%2C%20-46.78348052%5D%2C%20%5B-23.53839996%2C%20-46.64110376%5D%2C%20%5B-23.62917549%2C%20-46.78967089%5D%2C%20%5B-23.50051248%2C%20-46.56278784%5D%2C%20%5B-23.50380397%2C%20-46.81095251%5D%2C%20%5B-23.50380397%2C%20-46.81095251%5D%2C%20%5B-23.53167446%2C%20-46.64814927%5D%2C%20%5B-23.53167446%2C%20-46.64814927%5D%2C%20%5B-23.71286115%2C%20-46.78186771%5D%2C%20%5B-23.71286115%2C%20-46.78186771%5D%2C%20%5B-23.62917549%2C%20-46.78967089%5D%2C%20%5B-23.62917549%2C%20-46.78967089%5D%2C%20%5B-23.50380397%2C%20-46.81095251%5D%2C%20%5B-23.53457101%2C%20-46.65120635%5D%2C%20%5B-23.53839996%2C%20-46.64110376%5D%2C%20%5B-23.53167446%2C%20-46.64814927%5D%2C%20%5B-23.55697648%2C%20-46.63158015%5D%2C%20%5B-23.71286115%2C%20-46.78186771%5D%2C%20%5B-23.52758988%2C%20-46.55121397%5D%2C%20%5B-23.573976%2C%20-46.52119903%5D%2C%20%5B-23.71286115%2C%20-46.78186771%5D%2C%20%5B-23.71286115%2C%20-46.78186771%5D%2C%20%5B-23.50051248%2C%20-46.56278784%5D%2C%20%5B-23.50051248%2C%20-46.56278784%5D%2C%20%5B-23.47889546%2C%20-46.35916015%5D%2C%20%5B-23.53932072%2C%20-46.2308254%5D%2C%20%5B-23.71286115%2C%20-46.78186771%5D%2C%20%5B-23.62917549%2C%20-46.78967089%5D%2C%20%5B-23.50380397%2C%20-46.81095251%5D%2C%20%5B-23.53932072%2C%20-46.2308254%5D%2C%20%5B-23.5717263%2C%20-46.80116622%5D%2C%20%5B-23.55697648%2C%20-46.63158015%5D%2C%20%5B-23.53457101%2C%20-46.65120635%5D%2C%20%5B-23.5717263%2C%20-46.80116622%5D%2C%20%5B-23.5717263%2C%20-46.80116622%5D%2C%20%5B-23.55697648%2C%20-46.63158015%5D%2C%20%5B-23.71286115%2C%20-46.78186771%5D%2C%20%5B-23.53352528%2C%20-46.64195856%5D%2C%20%5B-23.54323413%2C%20-46.62937204%5D%2C%20%5B-23.71286115%2C%20-46.78186771%5D%2C%20%5B-23.71286115%2C%20-46.78186771%5D%2C%20%5B-23.71286115%2C%20-46.78186771%5D%2C%20%5B-23.63273115%2C%20-46.79025008%5D%2C%20%5B-23.71286115%2C%20-46.78186771%5D%2C%20%5B-23.71286115%2C%20-46.78186771%5D%2C%20%5B-23.54323413%2C%20-46.62937204%5D%2C%20%5B-23.71286115%2C%20-46.78186771%5D%2C%20%5B-23.63273115%2C%20-46.79025008%5D%2C%20%5B-23.63273115%2C%20-46.79025008%5D%2C%20%5B-23.71286115%2C%20-46.78186771%5D%2C%20%5B-23.41451818%2C%20-46.39044839%5D%2C%20%5B-23.71286115%2C%20-46.78186771%5D%2C%20%5B-23.71286115%2C%20-46.78186771%5D%2C%20%5B-23.71286115%2C%20-46.78186771%5D%2C%20%5B-23.52964942%2C%20-46.7994693%5D%2C%20%5B-23.55850851%2C%20-46.61519738%5D%2C%20%5B-23.55850851%2C%20-46.61519738%5D%2C%20%5B-23.5525928%2C%20-46.42773354%5D%2C%20%5B-23.5525928%2C%20-46.42773354%5D%2C%20%5B-23.60995072%2C%20-46.52100655%5D%2C%20%5B-23.60995072%2C%20-46.52100655%5D%2C%20%5B-23.53424989%2C%20-46.64154663%5D%2C%20%5B-23.53424989%2C%20-46.64154663%5D%2C%20%5B-23.77144573%2C%20-46.62187225%5D%2C%20%5B-23.573976%2C%20-46.52119903%5D%2C%20%5B-23.573976%2C%20-46.52119903%5D%2C%20%5B-23.71286115%2C%20-46.78186771%5D%2C%20%5B-23.71286115%2C%20-46.78186771%5D%2C%20%5B-23.56105216%2C%20-46.77739802%5D%2C%20%5B-23.56105216%2C%20-46.77739802%5D%2C%20%5B-23.56105216%2C%20-46.77739802%5D%2C%20%5B-23.57010233%2C%20-46.80559542%5D%2C%20%5B-23.71286115%2C%20-46.78186771%5D%2C%20%5B-23.55707841%2C%20-46.63304222%5D%2C%20%5B-23.55707841%2C%20-46.63304222%5D%2C%20%5B-23.71286115%2C%20-46.78186771%5D%2C%20%5B-23.63273115%2C%20-46.79025008%5D%2C%20%5B-23.60995072%2C%20-46.52100655%5D%2C%20%5B-23.4907952%2C%20-46.89017952%5D%2C%20%5B-23.30174014%2C%20-46.71908161%5D%2C%20%5B-23.30174014%2C%20-46.71908161%5D%2C%20%5B-23.30174014%2C%20-46.71908161%5D%2C%20%5B-23.53352528%2C%20-46.64195856%5D%2C%20%5B-23.71286115%2C%20-46.78186771%5D%2C%20%5B-23.48399948%2C%20-46.4118947%5D%2C%20%5B-23.45608311%2C%20-46.58559143%5D%2C%20%5B-23.56465909%2C%20-46.41593803%5D%2C%20%5B-23.53932072%2C%20-46.2308254%5D%2C%20%5B-23.53457101%2C%20-46.65120635%5D%2C%20%5B-23.52964942%2C%20-46.7994693%5D%2C%20%5B-23.5525928%2C%20-46.42773354%5D%2C%20%5B-23.53424989%2C%20-46.64154663%5D%2C%20%5B-23.49458987%2C%20-46.32076036%5D%2C%20%5B-23.71286115%2C%20-46.78186771%5D%2C%20%5B-23.71286115%2C%20-46.78186771%5D%2C%20%5B-23.5354887%2C%20-46.76121224%5D%2C%20%5B-23.71286115%2C%20-46.78186771%5D%2C%20%5B-23.50026345%2C%20-46.66980129%5D%2C%20%5B-23.53355596%2C%20-46.64333469%5D%2C%20%5B-23.57539624%2C%20-46.80351716%5D%2C%20%5B-23.56465909%2C%20-46.41593803%5D%2C%20%5B-23.57150954%2C%20-46.69501425%5D%2C%20%5B-23.57150954%2C%20-46.69501425%5D%2C%20%5B-23.53417492%2C%20-46.65062102%5D%2C%20%5B-23.53417492%2C%20-46.65062102%5D%2C%20%5B-23.71286115%2C%20-46.78186771%5D%2C%20%5B-23.4907952%2C%20-46.89017952%5D%2C%20%5B-23.71286115%2C%20-46.78186771%5D%2C%20%5B-23.50026345%2C%20-46.66980129%5D%2C%20%5B-23.48399948%2C%20-46.4118947%5D%2C%20%5B-23.54323413%2C%20-46.62937204%5D%2C%20%5B-23.71286115%2C%20-46.78186771%5D%2C%20%5B-23.29170281%2C%20-46.70993199%5D%2C%20%5B-23.49458987%2C%20-46.32076036%5D%2C%20%5B-23.57539624%2C%20-46.80351716%5D%2C%20%5B-23.71286115%2C%20-46.78186771%5D%2C%20%5B-23.71286115%2C%20-46.78186771%5D%2C%20%5B-23.71286115%2C%20-46.78186771%5D%2C%20%5B-23.71286115%2C%20-46.78186771%5D%2C%20%5B-23.49969517%2C%20-46.86098861%5D%2C%20%5B-23.29170281%2C%20-46.70993199%5D%2C%20%5B-23.64688466%2C%20-46.43817276%5D%2C%20%5B-23.5417621%2C%20-46.64655583%5D%2C%20%5B-23.5417621%2C%20-46.64655583%5D%2C%20%5B-23.5417621%2C%20-46.64655583%5D%2C%20%5B-23.57900885%2C%20-46.77746742%5D%2C%20%5B-23.43442333%2C%20-46.72869699%5D%2C%20%5B-23.74737898%2C%20-46.6153583%5D%2C%20%5B-23.74737898%2C%20-46.6153583%5D%2C%20%5B-23.52758988%2C%20-46.55121397%5D%2C%20%5B-23.573976%2C%20-46.52119903%5D%2C%20%5B-23.71286115%2C%20-46.78186771%5D%2C%20%5B-23.65588364%2C%20-46.5488779%5D%2C%20%5B-23.5354887%2C%20-46.76121224%5D%2C%20%5B-23.43427869%2C%20-46.72854562%5D%2C%20%5B-23.41451818%2C%20-46.39044839%5D%2C%20%5B-23.50026345%2C%20-46.66980129%5D%2C%20%5B-23.55648045%2C%20-46.63201117%5D%2C%20%5B-23.55648045%2C%20-46.63201117%5D%2C%20%5B-23.58789278%2C%20-46.33893283%5D%2C%20%5B-23.57010233%2C%20-46.80559542%5D%2C%20%5B-23.55535567%2C%20-46.63149401%5D%2C%20%5B-23.54323413%2C%20-46.62937204%5D%2C%20%5B-23.53457101%2C%20-46.65120635%5D%2C%20%5B-23.71286115%2C%20-46.78186771%5D%2C%20%5B-23.43427869%2C%20-46.72854562%5D%2C%20%5B-23.71286115%2C%20-46.78186771%5D%2C%20%5B-23.49035996%2C%20-46.87917255%5D%2C%20%5B-23.31188729%2C%20-46.72952413%5D%2C%20%5B-23.71286115%2C%20-46.78186771%5D%2C%20%5B-23.49969517%2C%20-46.86098861%5D%2C%20%5B-23.49969517%2C%20-46.86098861%5D%2C%20%5B-23.29170281%2C%20-46.70993199%5D%2C%20%5B-23.49245147%2C%20-46.88658398%5D%2C%20%5B-23.48018663%2C%20-46.28468367%5D%2C%20%5B-23.54828164%2C%20-45.96350265%5D%2C%20%5B-23.71286115%2C%20-46.78186771%5D%2C%20%5B-23.71286115%2C%20-46.78186771%5D%2C%20%5B-23.71286115%2C%20-46.78186771%5D%2C%20%5B-23.71286115%2C%20-46.78186771%5D%2C%20%5B-23.53257946%2C%20-46.82287019%5D%2C%20%5B-23.47598681%2C%20-46.64159046%5D%2C%20%5B-23.53417492%2C%20-46.65062102%5D%2C%20%5B-23.71286115%2C%20-46.78186771%5D%2C%20%5B-23.71286115%2C%20-46.78186771%5D%2C%20%5B-23.72373681%2C%20-46.61841507%5D%2C%20%5B-23.54828164%2C%20-45.96350265%5D%2C%20%5B-23.71286115%2C%20-46.78186771%5D%2C%20%5B-23.71286115%2C%20-46.78186771%5D%2C%20%5B-23.70381253%2C%20-46.55504695%5D%2C%20%5B-23.70381253%2C%20-46.55504695%5D%2C%20%5B-23.45812182%2C%20-46.66660674%5D%2C%20%5B-23.58821569%2C%20-46.32698486%5D%2C%20%5B-23.56197631%2C%20-46.74319345%5D%2C%20%5B-23.573976%2C%20-46.52119903%5D%2C%20%5B-23.63273115%2C%20-46.79025008%5D%2C%20%5B-23.65588364%2C%20-46.5488779%5D%2C%20%5B-23.71286115%2C%20-46.78186771%5D%2C%20%5B-23.71286115%2C%20-46.78186771%5D%2C%20%5B-23.71286115%2C%20-46.78186771%5D%2C%20%5B-23.71286115%2C%20-46.78186771%5D%2C%20%5B-23.53457101%2C%20-46.65120635%5D%2C%20%5B-23.53457101%2C%20-46.65120635%5D%2C%20%5B-23.71286115%2C%20-46.78186771%5D%2C%20%5B-23.49035996%2C%20-46.87917255%5D%2C%20%5B-23.56141416%2C%20-46.78207531%5D%2C%20%5B-23.56141416%2C%20-46.78207531%5D%2C%20%5B-23.56141416%2C%20-46.78207531%5D%2C%20%5B-23.71286115%2C%20-46.78186771%5D%2C%20%5B-23.71286115%2C%20-46.78186771%5D%2C%20%5B-23.72354577%2C%20-46.62526742%5D%2C%20%5B-23.57010233%2C%20-46.80559542%5D%2C%20%5B-23.55535567%2C%20-46.63149401%5D%2C%20%5B-23.72354577%2C%20-46.62526742%5D%2C%20%5B-23.60517644%2C%20-46.59935246%5D%2C%20%5B-23.71286115%2C%20-46.78186771%5D%2C%20%5B-23.52964942%2C%20-46.7994693%5D%2C%20%5B-23.53424989%2C%20-46.64154663%5D%2C%20%5B-23.71286115%2C%20-46.78186771%5D%2C%20%5B-23.60517644%2C%20-46.59935246%5D%2C%20%5B-23.41148438%2C%20-46.39419428%5D%2C%20%5B-23.41148438%2C%20-46.39419428%5D%2C%20%5B-23.71286115%2C%20-46.78186771%5D%2C%20%5B-23.70890391%2C%20-46.85855729%5D%2C%20%5B-23.70890391%2C%20-46.85855729%5D%2C%20%5B-23.64669735%2C%20-46.56039801%5D%2C%20%5B-23.5525928%2C%20-46.42773354%5D%2C%20%5B-23.71286115%2C%20-46.78186771%5D%2C%20%5B-23.4907952%2C%20-46.89017952%5D%2C%20%5B-23.71286115%2C%20-46.78186771%5D%2C%20%5B-23.72373681%2C%20-46.61841507%5D%2C%20%5B-23.53150949%2C%20-46.82189706%5D%2C%20%5B-23.53150949%2C%20-46.82189706%5D%2C%20%5B-23.53150949%2C%20-46.82189706%5D%2C%20%5B-23.45812182%2C%20-46.66660674%5D%2C%20%5B-23.48399948%2C%20-46.4118947%5D%2C%20%5B-23.66627778%2C%20-46.30777921%5D%2C%20%5B-23.53150949%2C%20-46.82189706%5D%2C%20%5B-23.53417492%2C%20-46.65062102%5D%2C%20%5B-23.71286115%2C%20-46.78186771%5D%2C%20%5B-23.71286115%2C%20-46.78186771%5D%2C%20%5B-23.61823885%2C%20-46.79339541%5D%2C%20%5B-23.71286115%2C%20-46.78186771%5D%2C%20%5B-23.41148438%2C%20-46.39419428%5D%2C%20%5B-23.48018663%2C%20-46.28468367%5D%2C%20%5B-23.54914789%2C%20-46.80567837%5D%2C%20%5B-23.54914789%2C%20-46.80567837%5D%2C%20%5B-23.4907952%2C%20-46.89017952%5D%2C%20%5B-23.48399948%2C%20-46.4118947%5D%2C%20%5B-23.49458987%2C%20-46.32076036%5D%2C%20%5B-23.71286115%2C%20-46.78186771%5D%2C%20%5B-23.54683782%2C%20-46.39650811%5D%2C%20%5B-23.64688466%2C%20-46.43817276%5D%2C%20%5B-23.71286115%2C%20-46.78186771%5D%2C%20%5B-23.71286115%2C%20-46.78186771%5D%2C%20%5B-23.71286115%2C%20-46.78186771%5D%2C%20%5B-23.71286115%2C%20-46.78186771%5D%2C%20%5B-23.71286115%2C%20-46.78186771%5D%2C%20%5B-23.70890391%2C%20-46.85855729%5D%2C%20%5B-23.68080402%2C%20-46.60482226%5D%2C%20%5B-23.56465909%2C%20-46.41593803%5D%2C%20%5B-23.54683782%2C%20-46.39650811%5D%2C%20%5B-23.54683782%2C%20-46.39650811%5D%2C%20%5B-23.57088172%2C%20-46.40500999%5D%2C%20%5B-23.71286115%2C%20-46.78186771%5D%2C%20%5B-23.71286115%2C%20-46.78186771%5D%2C%20%5B-23.71286115%2C%20-46.78186771%5D%2C%20%5B-23.71286115%2C%20-46.78186771%5D%2C%20%5B-23.71286115%2C%20-46.78186771%5D%2C%20%5B-23.5354887%2C%20-46.76121224%5D%2C%20%5B-23.29517403%2C%20-46.71023743%5D%2C%20%5B-23.29517403%2C%20-46.71023743%5D%2C%20%5B-23.58821569%2C%20-46.32698486%5D%2C%20%5B-23.71286115%2C%20-46.78186771%5D%2C%20%5B-23.56141416%2C%20-46.78207531%5D%2C%20%5B-23.60943984%2C%20-46.51960283%5D%2C%20%5B-23.64688466%2C%20-46.43817276%5D%2C%20%5B-23.64688466%2C%20-46.43817276%5D%2C%20%5B-23.49241539%2C%20-46.88666681%5D%2C%20%5B-23.71286115%2C%20-46.78186771%5D%2C%20%5B-23.53690933%2C%20-46.17557608%5D%2C%20%5B-23.53690933%2C%20-46.17557608%5D%2C%20%5B-23.53690933%2C%20-46.17557608%5D%2C%20%5B-23.71286115%2C%20-46.78186771%5D%2C%20%5B-23.56522529%2C%20-46.57543059%5D%2C%20%5B-23.71286115%2C%20-46.78186771%5D%2C%20%5B-23.4542089%2C%20-46.40686632%5D%2C%20%5B-23.57088172%2C%20-46.40500999%5D%2C%20%5B-23.57088172%2C%20-46.40500999%5D%2C%20%5B-23.29170281%2C%20-46.70993199%5D%2C%20%5B-23.57900885%2C%20-46.77746742%5D%2C%20%5B-23.49265389%2C%20-46.30628763%5D%2C%20%5B-23.71286115%2C%20-46.78186771%5D%2C%20%5B-23.71286115%2C%20-46.78186771%5D%2C%20%5B-23.62540741%2C%20-46.80620794%5D%2C%20%5B-23.71286115%2C%20-46.78186771%5D%2C%20%5B-23.55707841%2C%20-46.63304222%5D%2C%20%5B-23.71286115%2C%20-46.78186771%5D%2C%20%5B-23.71286115%2C%20-46.78186771%5D%2C%20%5B-23.71286115%2C%20-46.78186771%5D%2C%20%5B-23.64669735%2C%20-46.56039801%5D%2C%20%5B-23.48900442%2C%20-46.68771475%5D%2C%20%5B-23.43442333%2C%20-46.72869699%5D%2C%20%5B-23.74737898%2C%20-46.6153583%5D%2C%20%5B-23.43047112%2C%20-46.53310422%5D%2C%20%5B-23.55648045%2C%20-46.63201117%5D%2C%20%5B-23.53355596%2C%20-46.64333469%5D%2C%20%5B-23.58789278%2C%20-46.33893283%5D%2C%20%5B-23.58789278%2C%20-46.33893283%5D%2C%20%5B-23.64669735%2C%20-46.56039801%5D%2C%20%5B-23.64669735%2C%20-46.56039801%5D%2C%20%5B-23.29517403%2C%20-46.71023743%5D%2C%20%5B-23.29517403%2C%20-46.71023743%5D%2C%20%5B-23.68629937%2C%20-46.46617442%5D%2C%20%5B-23.49897702%2C%20-46.31931977%5D%2C%20%5B-23.71286115%2C%20-46.78186771%5D%2C%20%5B-23.53690933%2C%20-46.17557608%5D%2C%20%5B-23.71286115%2C%20-46.78186771%5D%2C%20%5B-23.70381253%2C%20-46.55504695%5D%2C%20%5B-23.52162682%2C%20-46.63761546%5D%2C%20%5B-23.52162682%2C%20-46.63761546%5D%2C%20%5B-23.71286115%2C%20-46.78186771%5D%2C%20%5B-23.53184634%2C%20-46.85447859%5D%2C%20%5B-23.53184634%2C%20-46.85447859%5D%2C%20%5B-23.6765103%2C%20-46.41984049%5D%2C%20%5B-23.56197631%2C%20-46.74319345%5D%2C%20%5B-23.52443301%2C%20-46.78050098%5D%2C%20%5B-23.71286115%2C%20-46.78186771%5D%2C%20%5B-23.71286115%2C%20-46.78186771%5D%2C%20%5B-23.71286115%2C%20-46.78186771%5D%2C%20%5B-23.71286115%2C%20-46.78186771%5D%2C%20%5B-23.71286115%2C%20-46.78186771%5D%2C%20%5B-23.71286115%2C%20-46.78186771%5D%2C%20%5B-23.71286115%2C%20-46.78186771%5D%2C%20%5B-23.53469476%2C%20-46.64248857%5D%2C%20%5B-23.6338466%2C%20-46.79498406%5D%2C%20%5B-23.60517644%2C%20-46.59935246%5D%2C%20%5B-23.56522529%2C%20-46.57543059%5D%2C%20%5B-23.56522529%2C%20-46.57543059%5D%2C%20%5B-23.71286115%2C%20-46.78186771%5D%2C%20%5B-23.52162682%2C%20-46.63761546%5D%2C%20%5B-23.71286115%2C%20-46.78186771%5D%2C%20%5B-23.4582623%2C%20-46.66770766%5D%2C%20%5B-23.4582623%2C%20-46.66770766%5D%2C%20%5B-23.71286115%2C%20-46.78186771%5D%2C%20%5B-23.71286115%2C%20-46.78186771%5D%2C%20%5B-23.71286115%2C%20-46.78186771%5D%2C%20%5B-23.71286115%2C%20-46.78186771%5D%2C%20%5B-23.71286115%2C%20-46.78186771%5D%2C%20%5B-23.71286115%2C%20-46.78186771%5D%2C%20%5B-23.71286115%2C%20-46.78186771%5D%2C%20%5B-23.71286115%2C%20-46.78186771%5D%2C%20%5B-23.61769504%2C%20-46.79359478%5D%2C%20%5B-23.71286115%2C%20-46.78186771%5D%2C%20%5B-23.71286115%2C%20-46.78186771%5D%2C%20%5B-23.71286115%2C%20-46.78186771%5D%2C%20%5B-23.71286115%2C%20-46.78186771%5D%2C%20%5B-23.71286115%2C%20-46.78186771%5D%2C%20%5B-23.71286115%2C%20-46.78186771%5D%2C%20%5B-23.71286115%2C%20-46.78186771%5D%2C%20%5B-23.96268469%2C%20-46.30571469%5D%2C%20%5B-23.45812182%2C%20-46.66660674%5D%2C%20%5B-23.71286115%2C%20-46.78186771%5D%2C%20%5B-23.71286115%2C%20-46.78186771%5D%2C%20%5B-23.43442333%2C%20-46.72869699%5D%2C%20%5B-23.71286115%2C%20-46.78186771%5D%2C%20%5B-23.71286115%2C%20-46.78186771%5D%2C%20%5B-23.71286115%2C%20-46.78186771%5D%2C%20%5B-23.71286115%2C%20-46.78186771%5D%2C%20%5B-23.71286115%2C%20-46.78186771%5D%2C%20%5B-23.71286115%2C%20-46.78186771%5D%2C%20%5B-23.71286115%2C%20-46.78186771%5D%2C%20%5B-23.71286115%2C%20-46.78186771%5D%2C%20%5B-23.71286115%2C%20-46.78186771%5D%2C%20%5B-23.53690933%2C%20-46.17557608%5D%2C%20%5B-23.71286115%2C%20-46.78186771%5D%2C%20%5B-23.75023093%2C%20-46.59781187%5D%2C%20%5B-23.49265389%2C%20-46.30628763%5D%2C%20%5B-23.41451818%2C%20-46.39044839%5D%2C%20%5B-23.41451818%2C%20-46.39044839%5D%2C%20%5B-23.52078886%2C%20-46.30385335%5D%2C%20%5B-23.52758988%2C%20-46.55121397%5D%2C%20%5B-23.55707841%2C%20-46.63304222%5D%2C%20%5B-23.55850851%2C%20-46.61519738%5D%2C%20%5B-23.71286115%2C%20-46.78186771%5D%2C%20%5B-23.71286115%2C%20-46.78186771%5D%2C%20%5B-23.63273115%2C%20-46.79025008%5D%2C%20%5B-23.54828164%2C%20-45.96350265%5D%2C%20%5B-23.71286115%2C%20-46.78186771%5D%2C%20%5B-23.62676571%2C%20-46.8066631%5D%2C%20%5B-23.62676571%2C%20-46.8066631%5D%2C%20%5B-23.62540741%2C%20-46.80620794%5D%2C%20%5B-23.71286115%2C%20-46.78186771%5D%2C%20%5B-23.71286115%2C%20-46.78186771%5D%2C%20%5B-23.71286115%2C%20-46.78186771%5D%2C%20%5B-23.71286115%2C%20-46.78186771%5D%2C%20%5B-23.71286115%2C%20-46.78186771%5D%2C%20%5B-23.64669735%2C%20-46.56039801%5D%2C%20%5B-23.56707495%2C%20-46.56735235%5D%2C%20%5B-23.71286115%2C%20-46.78186771%5D%2C%20%5B-23.53257946%2C%20-46.82287019%5D%2C%20%5B-23.56197631%2C%20-46.74319345%5D%2C%20%5B-23.46276848%2C%20-46.65423301%5D%2C%20%5B-23.46276848%2C%20-46.65423301%5D%2C%20%5B-23.29517403%2C%20-46.71023743%5D%2C%20%5B-23.71286115%2C%20-46.78186771%5D%2C%20%5B-23.71286115%2C%20-46.78186771%5D%2C%20%5B-23.71286115%2C%20-46.78186771%5D%2C%20%5B-23.61823885%2C%20-46.79339541%5D%2C%20%5B-23.57010233%2C%20-46.80559542%5D%2C%20%5B-23.52443301%2C%20-46.78050098%5D%2C%20%5B-23.52443301%2C%20-46.78050098%5D%2C%20%5B-23.71286115%2C%20-46.78186771%5D%2C%20%5B-23.71286115%2C%20-46.78186771%5D%2C%20%5B-23.71286115%2C%20-46.78186771%5D%2C%20%5B-23.71286115%2C%20-46.78186771%5D%2C%20%5B-23.71286115%2C%20-46.78186771%5D%2C%20%5B-23.55535567%2C%20-46.63149401%5D%2C%20%5B-23.71286115%2C%20-46.78186771%5D%2C%20%5B-23.61823885%2C%20-46.79339541%5D%2C%20%5B-23.45304097%2C%20-46.71182076%5D%2C%20%5B-23.54297121%2C%20-46.63534231%5D%2C%20%5B-23.71286115%2C%20-46.78186771%5D%2C%20%5B-23.46449304%2C%20-46.41133292%5D%2C%20%5B-23.71286115%2C%20-46.78186771%5D%2C%20%5B-23.71286115%2C%20-46.78186771%5D%2C%20%5B-23.71286115%2C%20-46.78186771%5D%2C%20%5B-23.71286115%2C%20-46.78186771%5D%2C%20%5B-23.77144573%2C%20-46.62187225%5D%2C%20%5B-23.71286115%2C%20-46.78186771%5D%2C%20%5B-23.71286115%2C%20-46.78186771%5D%2C%20%5B-23.71286115%2C%20-46.78186771%5D%2C%20%5B-23.53457101%2C%20-46.65120635%5D%2C%20%5B-23.54810821%2C%20-46.63938551%5D%2C%20%5B-23.71286115%2C%20-46.78186771%5D%2C%20%5B-23.71286115%2C%20-46.78186771%5D%2C%20%5B-23.56707495%2C%20-46.56735235%5D%2C%20%5B-23.56707495%2C%20-46.56735235%5D%2C%20%5B-23.71286115%2C%20-46.78186771%5D%2C%20%5B-23.71286115%2C%20-46.78186771%5D%2C%20%5B-23.71286115%2C%20-46.78186771%5D%2C%20%5B-23.71286115%2C%20-46.78186771%5D%2C%20%5B-23.71286115%2C%20-46.78186771%5D%2C%20%5B-23.71286115%2C%20-46.78186771%5D%2C%20%5B-23.43047112%2C%20-46.53310422%5D%2C%20%5B-23.71286115%2C%20-46.78186771%5D%2C%20%5B-23.45608311%2C%20-46.58559143%5D%2C%20%5B-23.66627778%2C%20-46.30777921%5D%2C%20%5B-23.66627778%2C%20-46.30777921%5D%2C%20%5B-23.56149164%2C%20-46.31832143%5D%2C%20%5B-23.71286115%2C%20-46.78186771%5D%2C%20%5B-23.67663679%2C%20-46.62831132%5D%2C%20%5B-23.71286115%2C%20-46.78186771%5D%2C%20%5B-23.71286115%2C%20-46.78186771%5D%2C%20%5B-23.71286115%2C%20-46.78186771%5D%2C%20%5B-23.66076014%2C%20-46.3313343%5D%2C%20%5B-23.66076014%2C%20-46.3313343%5D%2C%20%5B-23.53849472%2C%20-46.87737914%5D%2C%20%5B-23.66076014%2C%20-46.3313343%5D%2C%20%5B-23.48900442%2C%20-46.68771475%5D%2C%20%5B-23.71286115%2C%20-46.78186771%5D%2C%20%5B-23.71286115%2C%20-46.78186771%5D%2C%20%5B-23.71286115%2C%20-46.78186771%5D%2C%20%5B-23.71286115%2C%20-46.78186771%5D%2C%20%5B-23.4907952%2C%20-46.89017952%5D%2C%20%5B-23.4907952%2C%20-46.89017952%5D%2C%20%5B-23.30174014%2C%20-46.71908161%5D%2C%20%5B-23.54014784%2C%20-46.29406221%5D%2C%20%5B-23.50754256%2C%20-46.62536034%5D%2C%20%5B-23.71286115%2C%20-46.78186771%5D%2C%20%5B-23.71286115%2C%20-46.78186771%5D%2C%20%5B-23.71286115%2C%20-46.78186771%5D%2C%20%5B-23.71286115%2C%20-46.78186771%5D%2C%20%5B-23.71286115%2C%20-46.78186771%5D%2C%20%5B-23.71286115%2C%20-46.78186771%5D%2C%20%5B-23.71286115%2C%20-46.78186771%5D%2C%20%5B-23.57146176%2C%20-46.64436893%5D%2C%20%5B-23.57146176%2C%20-46.64436893%5D%2C%20%5B-23.56465909%2C%20-46.41593803%5D%2C%20%5B-23.71286115%2C%20-46.78186771%5D%2C%20%5B-23.71286115%2C%20-46.78186771%5D%2C%20%5B-23.71286115%2C%20-46.78186771%5D%2C%20%5B-23.54963472%2C%20-46.84333019%5D%2C%20%5B-23.54963472%2C%20-46.84333019%5D%2C%20%5B-23.71286115%2C%20-46.78186771%5D%2C%20%5B-23.67550033%2C%20-46.48623921%5D%2C%20%5B-23.5354887%2C%20-46.76121224%5D%2C%20%5B-23.5354887%2C%20-46.76121224%5D%2C%20%5B-23.71286115%2C%20-46.78186771%5D%2C%20%5B-23.71286115%2C%20-46.78186771%5D%2C%20%5B-23.71286115%2C%20-46.78186771%5D%2C%20%5B-23.71286115%2C%20-46.78186771%5D%2C%20%5B-23.61769504%2C%20-46.79359478%5D%2C%20%5B-23.71286115%2C%20-46.78186771%5D%2C%20%5B-23.71286115%2C%20-46.78186771%5D%2C%20%5B-23.71286115%2C%20-46.78186771%5D%2C%20%5B-23.71286115%2C%20-46.78186771%5D%2C%20%5B-23.5371176%2C%20-46.82559701%5D%2C%20%5B-23.69384393%2C%20-46.28415015%5D%2C%20%5B-23.69384393%2C%20-46.28415015%5D%2C%20%5B-23.71286115%2C%20-46.78186771%5D%2C%20%5B-23.71286115%2C%20-46.78186771%5D%2C%20%5B-23.45608311%2C%20-46.58559143%5D%2C%20%5B-23.49702504%2C%20-46.29231205%5D%2C%20%5B-23.49702504%2C%20-46.29231205%5D%2C%20%5B-23.56149164%2C%20-46.31832143%5D%2C%20%5B-23.45812182%2C%20-46.66660674%5D%2C%20%5B-23.45812182%2C%20-46.66660674%5D%2C%20%5B-23.66943313%2C%20-46.4239897%5D%2C%20%5B-23.71286115%2C%20-46.78186771%5D%2C%20%5B-23.71286115%2C%20-46.78186771%5D%2C%20%5B-23.52162682%2C%20-46.63761546%5D%2C%20%5B-23.71286115%2C%20-46.78186771%5D%2C%20%5B-23.53355596%2C%20-46.64333469%5D%2C%20%5B-23.60943984%2C%20-46.51960283%5D%2C%20%5B-23.72354577%2C%20-46.62526742%5D%2C%20%5B-23.71286115%2C%20-46.78186771%5D%2C%20%5B-23.53469476%2C%20-46.64248857%5D%2C%20%5B-23.6338466%2C%20-46.79498406%5D%2C%20%5B-23.46449304%2C%20-46.41133292%5D%2C%20%5B-23.71286115%2C%20-46.78186771%5D%2C%20%5B-23.56248932%2C%20-46.2851868%5D%2C%20%5B-22.89028348%2C%20-46.97982371%5D%2C%20%5B-23.71286115%2C%20-46.78186771%5D%2C%20%5B-23.49265389%2C%20-46.30628763%5D%2C%20%5B-23.29170281%2C%20-46.70993199%5D%2C%20%5B-23.5525928%2C%20-46.42773354%5D%2C%20%5B-23.77144573%2C%20-46.62187225%5D%2C%20%5B-23.4907952%2C%20-46.89017952%5D%2C%20%5B-23.71286115%2C%20-46.78186771%5D%2C%20%5B-23.71286115%2C%20-46.78186771%5D%2C%20%5B-23.71286115%2C%20-46.78186771%5D%2C%20%5B-23.71286115%2C%20-46.78186771%5D%2C%20%5B-23.57560735%2C%20-46.61191919%5D%2C%20%5B-23.71286115%2C%20-46.78186771%5D%2C%20%5B-23.67550033%2C%20-46.48623921%5D%2C%20%5B-23.71286115%2C%20-46.78186771%5D%2C%20%5B-23.71286115%2C%20-46.78186771%5D%2C%20%5B-23.68080402%2C%20-46.60482226%5D%2C%20%5B-23.29517403%2C%20-46.71023743%5D%2C%20%5B-23.56707495%2C%20-46.56735235%5D%2C%20%5B-23.71286115%2C%20-46.78186771%5D%2C%20%5B-23.71286115%2C%20-46.78186771%5D%2C%20%5B-23.71286115%2C%20-46.78186771%5D%2C%20%5B-23.71286115%2C%20-46.78186771%5D%2C%20%5B-23.71286115%2C%20-46.78186771%5D%2C%20%5B-23.65642652%2C%20-46.54944355%5D%2C%20%5B-23.71286115%2C%20-46.78186771%5D%2C%20%5B-23.6765103%2C%20-46.41984049%5D%2C%20%5B-23.6765103%2C%20-46.41984049%5D%2C%20%5B-23.57560735%2C%20-46.61191919%5D%2C%20%5B-23.57560735%2C%20-46.61191919%5D%2C%20%5B-23.71286115%2C%20-46.78186771%5D%2C%20%5B-23.45304097%2C%20-46.71182076%5D%2C%20%5B-23.56068519%2C%20-46.33097508%5D%2C%20%5B-23.71286115%2C%20-46.78186771%5D%2C%20%5B-23.71286115%2C%20-46.78186771%5D%2C%20%5B-23.5417621%2C%20-46.64655583%5D%2C%20%5B-23.71286115%2C%20-46.78186771%5D%2C%20%5B-23.71286115%2C%20-46.78186771%5D%2C%20%5B-23.71286115%2C%20-46.78186771%5D%2C%20%5B-23.71286115%2C%20-46.78186771%5D%2C%20%5B-23.40754302%2C%20-46.41293189%5D%2C%20%5B-23.71286115%2C%20-46.78186771%5D%2C%20%5B-23.4542089%2C%20-46.40686632%5D%2C%20%5B-23.4542089%2C%20-46.40686632%5D%2C%20%5B-23.4542089%2C%20-46.40686632%5D%2C%20%5B-23.71286115%2C%20-46.78186771%5D%2C%20%5B-23.71286115%2C%20-46.78186771%5D%2C%20%5B-23.53457101%2C%20-46.65120635%5D%2C%20%5B-23.71286115%2C%20-46.78186771%5D%2C%20%5B-23.54810821%2C%20-46.63938551%5D%2C%20%5B-23.67663679%2C%20-46.62831132%5D%2C%20%5B-23.71286115%2C%20-46.78186771%5D%2C%20%5B-23.71286115%2C%20-46.78186771%5D%2C%20%5B-23.71286115%2C%20-46.78186771%5D%2C%20%5B-23.71286115%2C%20-46.78186771%5D%2C%20%5B-23.71286115%2C%20-46.78186771%5D%2C%20%5B-23.71286115%2C%20-46.78186771%5D%2C%20%5B-23.71286115%2C%20-46.78186771%5D%2C%20%5B-23.71286115%2C%20-46.78186771%5D%2C%20%5B-23.71286115%2C%20-46.78186771%5D%2C%20%5B-23.57539624%2C%20-46.80351716%5D%2C%20%5B-23.71286115%2C%20-46.78186771%5D%2C%20%5B-23.53832712%2C%20-46.35888847%5D%2C%20%5B-23.53832712%2C%20-46.35888847%5D%2C%20%5B-23.71286115%2C%20-46.78186771%5D%2C%20%5B-23.71286115%2C%20-46.78186771%5D%2C%20%5B-23.70381253%2C%20-46.55504695%5D%2C%20%5B-23.71286115%2C%20-46.78186771%5D%2C%20%5B-23.57146176%2C%20-46.64436893%5D%2C%20%5B-23.49241539%2C%20-46.88666681%5D%2C%20%5B-23.49241539%2C%20-46.88666681%5D%2C%20%5B-23.49241539%2C%20-46.88666681%5D%2C%20%5B-23.71286115%2C%20-46.78186771%5D%2C%20%5B-23.71286115%2C%20-46.78186771%5D%2C%20%5B-23.71286115%2C%20-46.78186771%5D%2C%20%5B-23.71286115%2C%20-46.78186771%5D%2C%20%5B-23.44429234%2C%20-46.53736143%5D%2C%20%5B-23.71286115%2C%20-46.78186771%5D%2C%20%5B-23.54828164%2C%20-45.96350265%5D%2C%20%5B-23.71286115%2C%20-46.78186771%5D%2C%20%5B-23.71286115%2C%20-46.78186771%5D%2C%20%5B-23.71286115%2C%20-46.78186771%5D%2C%20%5B-23.53257946%2C%20-46.82287019%5D%2C%20%5B-23.53257946%2C%20-46.82287019%5D%2C%20%5B-23.65963916%2C%20-46.4605787%5D%2C%20%5B-23.49702504%2C%20-46.29231205%5D%2C%20%5B-23.49702504%2C%20-46.29231205%5D%2C%20%5B-23.71286115%2C%20-46.78186771%5D%2C%20%5B-23.71286115%2C%20-46.78186771%5D%2C%20%5B-23.71286115%2C%20-46.78186771%5D%2C%20%5B-23.71286115%2C%20-46.78186771%5D%2C%20%5B-23.71286115%2C%20-46.78186771%5D%2C%20%5B-23.71286115%2C%20-46.78186771%5D%2C%20%5B-23.71286115%2C%20-46.78186771%5D%2C%20%5B-23.71286115%2C%20-46.78186771%5D%2C%20%5B-23.73078396%2C%20-46.59526696%5D%2C%20%5B-23.71286115%2C%20-46.78186771%5D%2C%20%5B-23.71286115%2C%20-46.78186771%5D%2C%20%5B-22.89028348%2C%20-46.97982371%5D%2C%20%5B-23.71286115%2C%20-46.78186771%5D%2C%20%5B-23.71286115%2C%20-46.78186771%5D%2C%20%5B-23.71286115%2C%20-46.78186771%5D%2C%20%5B-23.71286115%2C%20-46.78186771%5D%2C%20%5B-23.56197631%2C%20-46.74319345%5D%2C%20%5B-23.46276848%2C%20-46.65423301%5D%2C%20%5B-23.71286115%2C%20-46.78186771%5D%2C%20%5B-23.71286115%2C%20-46.78186771%5D%2C%20%5B-23.71286115%2C%20-46.78186771%5D%2C%20%5B-23.71286115%2C%20-46.78186771%5D%2C%20%5B-23.54010876%2C%20-46.64105711%5D%2C%20%5B-23.57150954%2C%20-46.69501425%5D%2C%20%5B-23.76259821%2C%20-46.70867737%5D%2C%20%5B-23.61823885%2C%20-46.79339541%5D%2C%20%5B-23.61823885%2C%20-46.79339541%5D%2C%20%5B-23.71286115%2C%20-46.78186771%5D%2C%20%5B-23.27196756%2C%20-46.71757941%5D%2C%20%5B-23.49035996%2C%20-46.87917255%5D%2C%20%5B-23.31188729%2C%20-46.72952413%5D%2C%20%5B-23.71286115%2C%20-46.78186771%5D%2C%20%5B-23.71286115%2C%20-46.78186771%5D%2C%20%5B-23.71286115%2C%20-46.78186771%5D%2C%20%5B-23.51090511%2C%20-46.78069906%5D%2C%20%5B-23.51090511%2C%20-46.78069906%5D%2C%20%5B-23.41148438%2C%20-46.39419428%5D%2C%20%5B-23.61341261%2C%20-46.52797713%5D%2C%20%5B-23.48018663%2C%20-46.28468367%5D%2C%20%5B-23.71286115%2C%20-46.78186771%5D%2C%20%5B-23.49969517%2C%20-46.86098861%5D%2C%20%5B-23.71286115%2C%20-46.78186771%5D%2C%20%5B-23.71286115%2C%20-46.78186771%5D%2C%20%5B-23.71286115%2C%20-46.78186771%5D%2C%20%5B-23.71286115%2C%20-46.78186771%5D%2C%20%5B-23.71286115%2C%20-46.78186771%5D%2C%20%5B-23.71286115%2C%20-46.78186771%5D%2C%20%5B-23.71286115%2C%20-46.78186771%5D%2C%20%5B-23.65642652%2C%20-46.54944355%5D%2C%20%5B-23.71286115%2C%20-46.78186771%5D%2C%20%5B-23.71286115%2C%20-46.78186771%5D%2C%20%5B-23.71286115%2C%20-46.78186771%5D%2C%20%5B-23.72373681%2C%20-46.61841507%5D%2C%20%5B-23.54963472%2C%20-46.84333019%5D%2C%20%5B-23.71286115%2C%20-46.78186771%5D%2C%20%5B-23.71286115%2C%20-46.78186771%5D%2C%20%5B-23.71286115%2C%20-46.78186771%5D%2C%20%5B-23.493719%2C%20-46.78526452%5D%2C%20%5B-23.48825318%2C%20-46.64241768%5D%2C%20%5B-23.48825318%2C%20-46.64241768%5D%2C%20%5B-23.71286115%2C%20-46.78186771%5D%2C%20%5B-23.66154312%2C%20-46.33257837%5D%2C%20%5B-23.5371176%2C%20-46.82559701%5D%2C%20%5B-23.69384393%2C%20-46.28415015%5D%2C%20%5B-23.5363873%2C%20-46.92450988%5D%2C%20%5B-23.58172545%2C%20-46.8008286%5D%2C%20%5B-23.58821569%2C%20-46.32698486%5D%2C%20%5B-23.71286115%2C%20-46.78186771%5D%2C%20%5B-23.71286115%2C%20-46.78186771%5D%2C%20%5B-23.71286115%2C%20-46.78186771%5D%2C%20%5B-23.71286115%2C%20-46.78186771%5D%2C%20%5B-23.71286115%2C%20-46.78186771%5D%2C%20%5B-23.66943313%2C%20-46.4239897%5D%2C%20%5B-23.71286115%2C%20-46.78186771%5D%2C%20%5B-23.71286115%2C%20-46.78186771%5D%2C%20%5B-23.29170281%2C%20-46.70993199%5D%2C%20%5B-23.71286115%2C%20-46.78186771%5D%2C%20%5B-23.71286115%2C%20-46.78186771%5D%2C%20%5B-23.56196661%2C%20-46.6395454%5D%2C%20%5B-23.71286115%2C%20-46.78186771%5D%2C%20%5B-23.71286115%2C%20-46.78186771%5D%2C%20%5B-23.28334979%2C%20-46.7377154%5D%2C%20%5B-23.71286115%2C%20-46.78186771%5D%2C%20%5B-23.71286115%2C%20-46.78186771%5D%2C%20%5B-23.71286115%2C%20-46.78186771%5D%2C%20%5B-23.70241457%2C%20-46.56733789%5D%2C%20%5B-23.71286115%2C%20-46.78186771%5D%2C%20%5B-23.49265389%2C%20-46.30628763%5D%2C%20%5B-23.71286115%2C%20-46.78186771%5D%2C%20%5B-23.65588364%2C%20-46.5488779%5D%2C%20%5B-23.65588364%2C%20-46.5488779%5D%2C%20%5B-23.53184634%2C%20-46.85447859%5D%2C%20%5B-23.70381253%2C%20-46.55504695%5D%2C%20%5B-23.71286115%2C%20-46.78186771%5D%2C%20%5B-23.71286115%2C%20-46.78186771%5D%2C%20%5B-23.71286115%2C%20-46.78186771%5D%2C%20%5B-23.71286115%2C%20-46.78186771%5D%2C%20%5B-23.55707841%2C%20-46.63304222%5D%2C%20%5B-23.68080402%2C%20-46.60482226%5D%2C%20%5B-23.68629937%2C%20-46.46617442%5D%2C%20%5B-23.68629937%2C%20-46.46617442%5D%2C%20%5B-23.48075554%2C%20-46.28470724%5D%2C%20%5B-23.66943313%2C%20-46.4239897%5D%2C%20%5B-23.71286115%2C%20-46.78186771%5D%2C%20%5B-23.53544997%2C%20-46.17862775%5D%2C%20%5B-23.71286115%2C%20-46.78186771%5D%2C%20%5B-23.71286115%2C%20-46.78186771%5D%2C%20%5B-23.71286115%2C%20-46.78186771%5D%2C%20%5B-23.53450842%2C%20-46.36868651%5D%2C%20%5B-23.71286115%2C%20-46.78186771%5D%2C%20%5B-23.71286115%2C%20-46.78186771%5D%2C%20%5B-23.71286115%2C%20-46.78186771%5D%2C%20%5B-23.71286115%2C%20-46.78186771%5D%2C%20%5B-23.71286115%2C%20-46.78186771%5D%2C%20%5B-23.55731882%2C%20-46.64034447%5D%2C%20%5B-23.71286115%2C%20-46.78186771%5D%2C%20%5B-23.71286115%2C%20-46.78186771%5D%2C%20%5B-23.48075554%2C%20-46.28470724%5D%2C%20%5B-23.49897702%2C%20-46.31931977%5D%2C%20%5B-23.49897702%2C%20-46.31931977%5D%2C%20%5B-23.71286115%2C%20-46.78186771%5D%2C%20%5B-23.71286115%2C%20-46.78186771%5D%2C%20%5B-23.71286115%2C%20-46.78186771%5D%2C%20%5B-23.5417621%2C%20-46.64655583%5D%2C%20%5B-23.71286115%2C%20-46.78186771%5D%2C%20%5B-23.71286115%2C%20-46.78186771%5D%2C%20%5B-23.45980603%2C%20-46.66497745%5D%2C%20%5B-23.45980603%2C%20-46.66497745%5D%2C%20%5B-23.56068519%2C%20-46.33097508%5D%2C%20%5B-23.56068519%2C%20-46.33097508%5D%2C%20%5B-23.61341261%2C%20-46.52797713%5D%2C%20%5B-23.61341261%2C%20-46.52797713%5D%2C%20%5B-23.65963916%2C%20-46.4605787%5D%2C%20%5B-23.49149749%2C%20-46.3950146%5D%2C%20%5B-23.71286115%2C%20-46.78186771%5D%2C%20%5B-23.71286115%2C%20-46.78186771%5D%2C%20%5B-23.71286115%2C%20-46.78186771%5D%2C%20%5B-23.71286115%2C%20-46.78186771%5D%2C%20%5B-23.71286115%2C%20-46.78186771%5D%2C%20%5B-23.71286115%2C%20-46.78186771%5D%2C%20%5B-23.43427869%2C%20-46.72854562%5D%2C%20%5B-23.71286115%2C%20-46.78186771%5D%2C%20%5B-23.71286115%2C%20-46.78186771%5D%2C%20%5B-23.54828164%2C%20-45.96350265%5D%2C%20%5B-23.71286115%2C%20-46.78186771%5D%2C%20%5B-23.71286115%2C%20-46.78186771%5D%2C%20%5B-23.71286115%2C%20-46.78186771%5D%2C%20%5B-23.44897472%2C%20-46.40564518%5D%2C%20%5B-23.44897472%2C%20-46.40564518%5D%2C%20%5B-23.71286115%2C%20-46.78186771%5D%2C%20%5B-23.71286115%2C%20-46.78186771%5D%2C%20%5B-23.53457101%2C%20-46.65120635%5D%2C%20%5B-23.71286115%2C%20-46.78186771%5D%2C%20%5B-23.54810821%2C%20-46.63938551%5D%2C%20%5B-23.71286115%2C%20-46.78186771%5D%2C%20%5B-23.71286115%2C%20-46.78186771%5D%2C%20%5B-23.71286115%2C%20-46.78186771%5D%2C%20%5B-23.71286115%2C%20-46.78186771%5D%2C%20%5B-23.71286115%2C%20-46.78186771%5D%2C%20%5B-23.71286115%2C%20-46.78186771%5D%2C%20%5B-23.5371176%2C%20-46.82559701%5D%2C%20%5B-23.38844471%2C%20-46.76903123%5D%2C%20%5B-23.62676571%2C%20-46.8066631%5D%2C%20%5B-23.53257946%2C%20-46.82287019%5D%2C%20%5B-23.51090511%2C%20-46.78069906%5D%2C%20%5B-23.71286115%2C%20-46.78186771%5D%2C%20%5B-23.71286115%2C%20-46.78186771%5D%2C%20%5B-23.71286115%2C%20-46.78186771%5D%2C%20%5B-23.71286115%2C%20-46.78186771%5D%2C%20%5B-23.71286115%2C%20-46.78186771%5D%2C%20%5B-23.71286115%2C%20-46.78186771%5D%2C%20%5B-23.71286115%2C%20-46.78186771%5D%2C%20%5B-23.71286115%2C%20-46.78186771%5D%2C%20%5B-23.32360347%2C%20-46.75069213%5D%2C%20%5B-23.71286115%2C%20-46.78186771%5D%2C%20%5B-23.70337289%2C%20-46.5158126%5D%2C%20%5B-23.71286115%2C%20-46.78186771%5D%2C%20%5B-23.71286115%2C%20-46.78186771%5D%2C%20%5B-23.71286115%2C%20-46.78186771%5D%2C%20%5B-23.71286115%2C%20-46.78186771%5D%2C%20%5B-23.53355596%2C%20-46.64333469%5D%2C%20%5B-23.46276848%2C%20-46.65423301%5D%2C%20%5B-23.71286115%2C%20-46.78186771%5D%2C%20%5B-23.43047112%2C%20-46.53310422%5D%2C%20%5B-23.43047112%2C%20-46.53310422%5D%2C%20%5B-23.43047112%2C%20-46.53310422%5D%2C%20%5B-23.43047112%2C%20-46.53310422%5D%2C%20%5B-23.71286115%2C%20-46.78186771%5D%2C%20%5B-23.71286115%2C%20-46.78186771%5D%2C%20%5B-23.48593265%2C%20-46.57123448%5D%2C%20%5B-23.53457101%2C%20-46.65120635%5D%2C%20%5B-23.71286115%2C%20-46.78186771%5D%2C%20%5B-23.4582623%2C%20-46.66770766%5D%2C%20%5B-23.4582623%2C%20-46.66770766%5D%2C%20%5B-23.41148438%2C%20-46.39419428%5D%2C%20%5B-23.71286115%2C%20-46.78186771%5D%2C%20%5B-23.71286115%2C%20-46.78186771%5D%2C%20%5B-23.47398768%2C%20-46.57836431%5D%2C%20%5B-23.5279279%2C%20-46.18360503%5D%2C%20%5B-23.76202006%2C%20-46.70196938%5D%2C%20%5B-23.76202006%2C%20-46.70196938%5D%2C%20%5B-23.62540741%2C%20-46.80620794%5D%2C%20%5B-23.66076014%2C%20-46.3313343%5D%2C%20%5B-23.65588364%2C%20-46.5488779%5D%2C%20%5B-23.65588364%2C%20-46.5488779%5D%2C%20%5B-23.76259821%2C%20-46.70867737%5D%2C%20%5B-23.71286115%2C%20-46.78186771%5D%2C%20%5B-23.27196756%2C%20-46.71757941%5D%2C%20%5B-23.71286115%2C%20-46.78186771%5D%2C%20%5B-23.71286115%2C%20-46.78186771%5D%2C%20%5B-23.71286115%2C%20-46.78186771%5D%2C%20%5B-23.71286115%2C%20-46.78186771%5D%2C%20%5B-23.71286115%2C%20-46.78186771%5D%2C%20%5B-23.48075554%2C%20-46.28470724%5D%2C%20%5B-23.71286115%2C%20-46.78186771%5D%2C%20%5B-23.71286115%2C%20-46.78186771%5D%2C%20%5B-23.53805105%2C%20-46.73110126%5D%2C%20%5B-23.71286115%2C%20-46.78186771%5D%2C%20%5B-23.71286115%2C%20-46.78186771%5D%2C%20%5B-23.51206729%2C%20-45.83100929%5D%2C%20%5B-23.53417492%2C%20-46.65062102%5D%2C%20%5B-23.53417492%2C%20-46.65062102%5D%2C%20%5B-23.96268469%2C%20-46.30571469%5D%2C%20%5B-23.61721357%2C%20-46.5852107%5D%2C%20%5B-23.71286115%2C%20-46.78186771%5D%2C%20%5B-23.71286115%2C%20-46.78186771%5D%2C%20%5B-23.52162682%2C%20-46.63761546%5D%2C%20%5B-23.71286115%2C%20-46.78186771%5D%2C%20%5B-23.71286115%2C%20-46.78186771%5D%2C%20%5B-23.61769504%2C%20-46.79359478%5D%2C%20%5B-23.71286115%2C%20-46.78186771%5D%2C%20%5B-23.71286115%2C%20-46.78186771%5D%2C%20%5B-23.36030959%2C%20-46.92356472%5D%2C%20%5B-23.57560735%2C%20-46.61191919%5D%2C%20%5B-23.45812182%2C%20-46.66660674%5D%2C%20%5B-23.58821569%2C%20-46.32698486%5D%2C%20%5B-23.58821569%2C%20-46.32698486%5D%2C%20%5B-23.57381791%2C%20-46.40139319%5D%2C%20%5B-23.45980603%2C%20-46.66497745%5D%2C%20%5B-23.45608311%2C%20-46.58559143%5D%2C%20%5B-23.56141416%2C%20-46.78207531%5D%2C%20%5B-23.71286115%2C%20-46.78186771%5D%2C%20%5B-23.60943984%2C%20-46.51960283%5D%2C%20%5B-23.71286115%2C%20-46.78186771%5D%2C%20%5B-23.71286115%2C%20-46.78186771%5D%2C%20%5B-23.71286115%2C%20-46.78186771%5D%2C%20%5B-23.71286115%2C%20-46.78186771%5D%2C%20%5B-23.55473618%2C%20-46.25691933%5D%2C%20%5B-23.55473618%2C%20-46.25691933%5D%2C%20%5B-23.5120174%2C%20-46.20857163%5D%2C%20%5B-23.71286115%2C%20-46.78186771%5D%2C%20%5B-23.53158011%2C%20-46.52611411%5D%2C%20%5B-23.71286115%2C%20-46.78186771%5D%2C%20%5B-23.45608311%2C%20-46.58559143%5D%2C%20%5B-23.48840283%2C%20-46.34805773%5D%2C%20%5B-23.49518908%2C%20-46.78213286%5D%2C%20%5B-23.71286115%2C%20-46.78186771%5D%2C%20%5B-23.71286115%2C%20-46.78186771%5D%2C%20%5B-23.71286115%2C%20-46.78186771%5D%2C%20%5B-23.71286115%2C%20-46.78186771%5D%2C%20%5B-23.4886447%2C%20-46.33867621%5D%2C%20%5B-23.71286115%2C%20-46.78186771%5D%2C%20%5B-23.58172545%2C%20-46.8008286%5D%2C%20%5B-23.52078886%2C%20-46.30385335%5D%2C%20%5B-23.52078886%2C%20-46.30385335%5D%2C%20%5B-23.71286115%2C%20-46.78186771%5D%2C%20%5B-23.48903146%2C%20-46.36198244%5D%2C%20%5B-23.71286115%2C%20-46.78186771%5D%2C%20%5B-23.44429234%2C%20-46.53736143%5D%2C%20%5B-23.76202006%2C%20-46.70196938%5D%2C%20%5B-23.71286115%2C%20-46.78186771%5D%2C%20%5B-23.56196661%2C%20-46.6395454%5D%2C%20%5B-23.71286115%2C%20-46.78186771%5D%2C%20%5B-23.71286115%2C%20-46.78186771%5D%2C%20%5B-23.71286115%2C%20-46.78186771%5D%2C%20%5B-23.71286115%2C%20-46.78186771%5D%2C%20%5B-23.49377923%2C%20-46.49740002%5D%2C%20%5B-23.27785295%2C%20-46.73779216%5D%2C%20%5B-23.71286115%2C%20-46.78186771%5D%2C%20%5B-23.71286115%2C%20-46.78186771%5D%2C%20%5B-23.71286115%2C%20-46.78186771%5D%2C%20%5B-23.53805105%2C%20-46.73110126%5D%2C%20%5B-23.71286115%2C%20-46.78186771%5D%2C%20%5B-23.56707495%2C%20-46.56735235%5D%2C%20%5B-23.71286115%2C%20-46.78186771%5D%2C%20%5B-23.51191252%2C%20-46.20954816%5D%2C%20%5B-23.71286115%2C%20-46.78186771%5D%2C%20%5B-23.71286115%2C%20-46.78186771%5D%2C%20%5B-23.55707841%2C%20-46.63304222%5D%2C%20%5B-23.71286115%2C%20-46.78186771%5D%2C%20%5B-23.76202006%2C%20-46.70196938%5D%2C%20%5B-23.71286115%2C%20-46.78186771%5D%2C%20%5B-23.71286115%2C%20-46.78186771%5D%2C%20%5B-23.71286115%2C%20-46.78186771%5D%2C%20%5B-23.71286115%2C%20-46.78186771%5D%2C%20%5B-23.71286115%2C%20-46.78186771%5D%2C%20%5B-23.48593265%2C%20-46.57123448%5D%2C%20%5B-23.51206729%2C%20-45.83100929%5D%2C%20%5B-23.57381791%2C%20-46.40139319%5D%2C%20%5B-23.55473618%2C%20-46.25691933%5D%2C%20%5B-23.71286115%2C%20-46.78186771%5D%2C%20%5B-23.71286115%2C%20-46.78186771%5D%2C%20%5B-23.71286115%2C%20-46.78186771%5D%2C%20%5B-23.71286115%2C%20-46.78186771%5D%2C%20%5B-23.71286115%2C%20-46.78186771%5D%2C%20%5B-23.27196756%2C%20-46.71757941%5D%2C%20%5B-23.71286115%2C%20-46.78186771%5D%2C%20%5B-23.71286115%2C%20-46.78186771%5D%2C%20%5B-23.7372521%2C%20-46.57054481%5D%2C%20%5B-23.71286115%2C%20-46.78186771%5D%2C%20%5B-23.71286115%2C%20-46.78186771%5D%2C%20%5B-23.71286115%2C%20-46.78186771%5D%2C%20%5B-23.71286115%2C%20-46.78186771%5D%2C%20%5B-23.71286115%2C%20-46.78186771%5D%2C%20%5B-23.71286115%2C%20-46.78186771%5D%2C%20%5B-23.67663679%2C%20-46.62831132%5D%2C%20%5B-23.59954231%2C%20-46.68582175%5D%2C%20%5B-23.71286115%2C%20-46.78186771%5D%2C%20%5B-23.61823885%2C%20-46.79339541%5D%2C%20%5B-23.4964865%2C%20-46.30975764%5D%2C%20%5B-23.53771136%2C%20-46.91580055%5D%2C%20%5B-23.53771136%2C%20-46.91580055%5D%2C%20%5B-23.53655938%2C%20-46.4396255%5D%2C%20%5B-23.71286115%2C%20-46.78186771%5D%2C%20%5B-23.71286115%2C%20-46.78186771%5D%2C%20%5B-23.28958788%2C%20-46.72657592%5D%2C%20%5B-23.5458601%2C%20-46.48720765%5D%2C%20%5B-23.5458601%2C%20-46.48720765%5D%2C%20%5B-23.55460133%2C%20-46.60980605%5D%2C%20%5B-23.71286115%2C%20-46.78186771%5D%2C%20%5B-23.5743824%2C%20-46.79795612%5D%2C%20%5B-23.76202006%2C%20-46.70196938%5D%2C%20%5B-23.54784107%2C%20-46.43580701%5D%2C%20%5B-23.59727563%2C%20-46.56641579%5D%2C%20%5B-23.61721357%2C%20-46.5852107%5D%2C%20%5B-23.71286115%2C%20-46.78186771%5D%2C%20%5B-23.71286115%2C%20-46.78186771%5D%2C%20%5B-23.71286115%2C%20-46.78186771%5D%2C%20%5B-23.4601041%2C%20-46.68499082%5D%2C%20%5B-23.5095232%2C%20-46.21726821%5D%2C%20%5B-23.5095232%2C%20-46.21726821%5D%2C%20%5B-23.47398768%2C%20-46.57836431%5D%2C%20%5B-23.57088172%2C%20-46.40500999%5D%2C%20%5B-23.71286115%2C%20-46.78186771%5D%2C%20%5B-23.71286115%2C%20-46.78186771%5D%2C%20%5B-23.71286115%2C%20-46.78186771%5D%2C%20%5B-23.71286115%2C%20-46.78186771%5D%2C%20%5B-23.71286115%2C%20-46.78186771%5D%2C%20%5B-23.61183317%2C%20-46.32264981%5D%2C%20%5B-23.493719%2C%20-46.78526452%5D%2C%20%5B-23.54298316%2C%20-46.42066587%5D%2C%20%5B-23.54298316%2C%20-46.42066587%5D%2C%20%5B-23.43047112%2C%20-46.53310422%5D%2C%20%5B-23.48825318%2C%20-46.64241768%5D%2C%20%5B-23.71286115%2C%20-46.78186771%5D%2C%20%5B-23.71286115%2C%20-46.78186771%5D%2C%20%5B-23.40754302%2C%20-46.41293189%5D%2C%20%5B-23.71286115%2C%20-46.78186771%5D%2C%20%5B-23.66076014%2C%20-46.3313343%5D%2C%20%5B-23.66076014%2C%20-46.3313343%5D%2C%20%5B-23.48825318%2C%20-46.64241768%5D%2C%20%5B-23.54864766%2C%20-46.79063066%5D%2C%20%5B-23.71286115%2C%20-46.78186771%5D%2C%20%5B-23.45832853%2C%20-46.68724384%5D%2C%20%5B-23.5279279%2C%20-46.18360503%5D%2C%20%5B-23.51777052%2C%20-46.55889861%5D%2C%20%5B-23.71286115%2C%20-46.78186771%5D%2C%20%5B-23.71286115%2C%20-46.78186771%5D%2C%20%5B-23.71286115%2C%20-46.78186771%5D%2C%20%5B-23.49518908%2C%20-46.78213286%5D%2C%20%5B-23.71286115%2C%20-46.78186771%5D%2C%20%5B-23.76202006%2C%20-46.70196938%5D%2C%20%5B-23.71286115%2C%20-46.78186771%5D%2C%20%5B-23.71286115%2C%20-46.78186771%5D%2C%20%5B-23.71286115%2C%20-46.78186771%5D%2C%20%5B-23.71286115%2C%20-46.78186771%5D%2C%20%5B-23.56149164%2C%20-46.31832143%5D%2C%20%5B-23.71286115%2C%20-46.78186771%5D%2C%20%5B-23.71286115%2C%20-46.78186771%5D%2C%20%5B-23.68629937%2C%20-46.46617442%5D%2C%20%5B-23.53544997%2C%20-46.17862775%5D%2C%20%5B-23.53805105%2C%20-46.73110126%5D%2C%20%5B-23.429188%2C%20-46.43537659%5D%2C%20%5B-23.48075554%2C%20-46.28470724%5D%2C%20%5B-23.71286115%2C%20-46.78186771%5D%2C%20%5B-23.71286115%2C%20-46.78186771%5D%2C%20%5B-23.71286115%2C%20-46.78186771%5D%2C%20%5B-23.67414233%2C%20-46.63793811%5D%2C%20%5B-23.46449304%2C%20-46.41133292%5D%2C%20%5B-23.46449304%2C%20-46.41133292%5D%2C%20%5B-23.55460133%2C%20-46.60980605%5D%2C%20%5B-23.71286115%2C%20-46.78186771%5D%2C%20%5B-23.71286115%2C%20-46.78186771%5D%2C%20%5B-23.61769504%2C%20-46.79359478%5D%2C%20%5B-23.71286115%2C%20-46.78186771%5D%2C%20%5B-23.71286115%2C%20-46.78186771%5D%2C%20%5B-23.71286115%2C%20-46.78186771%5D%2C%20%5B-23.56248932%2C%20-46.2851868%5D%2C%20%5B-23.45980603%2C%20-46.66497745%5D%2C%20%5B-23.55707624%2C%20-46.28618288%5D%2C%20%5B-23.49377923%2C%20-46.49740002%5D%2C%20%5B-23.71286115%2C%20-46.78186771%5D%2C%20%5B-23.71286115%2C%20-46.78186771%5D%2C%20%5B-23.71286115%2C%20-46.78186771%5D%2C%20%5B-23.71286115%2C%20-46.78186771%5D%2C%20%5B-23.71286115%2C%20-46.78186771%5D%2C%20%5B-23.49377923%2C%20-46.49740002%5D%2C%20%5B-23.51674488%2C%20-46.54569185%5D%2C%20%5B-23.54628661%2C%20-46.88426001%5D%2C%20%5B-23.54605417%2C%20-46.64560557%5D%2C%20%5B-23.71286115%2C%20-46.78186771%5D%2C%20%5B-23.71286115%2C%20-46.78186771%5D%2C%20%5B-23.49377923%2C%20-46.49740002%5D%2C%20%5B-23.65533396%2C%20-46.4684892%5D%2C%20%5B-23.27785295%2C%20-46.73779216%5D%2C%20%5B-23.71286115%2C%20-46.78186771%5D%2C%20%5B-23.71286115%2C%20-46.78186771%5D%2C%20%5B-23.59954231%2C%20-46.68582175%5D%2C%20%5B-23.77127492%2C%20-46.6803161%5D%2C%20%5B-23.40693783%2C%20-46.75015113%5D%2C%20%5B-23.71286115%2C%20-46.78186771%5D%2C%20%5B-23.71286115%2C%20-46.78186771%5D%2C%20%5B-23.77127492%2C%20-46.6803161%5D%2C%20%5B-23.77127492%2C%20-46.6803161%5D%2C%20%5B-23.54486756%2C%20-46.17881208%5D%2C%20%5B-23.5743824%2C%20-46.79795612%5D%2C%20%5B-23.71286115%2C%20-46.78186771%5D%2C%20%5B-23.71286115%2C%20-46.78186771%5D%2C%20%5B-23.4886447%2C%20-46.33867621%5D%2C%20%5B-23.54014784%2C%20-46.29406221%5D%2C%20%5B-23.71286115%2C%20-46.78186771%5D%2C%20%5B-23.70337289%2C%20-46.5158126%5D%2C%20%5B-23.71286115%2C%20-46.78186771%5D%2C%20%5B-23.71286115%2C%20-46.78186771%5D%2C%20%5B-23.6338466%2C%20-46.79498406%5D%2C%20%5B-23.75023093%2C%20-46.59781187%5D%2C%20%5B-23.53805105%2C%20-46.73110126%5D%2C%20%5B-23.71286115%2C%20-46.78186771%5D%2C%20%5B-23.71286115%2C%20-46.78186771%5D%2C%20%5B-23.71286115%2C%20-46.78186771%5D%2C%20%5B-23.71286115%2C%20-46.78186771%5D%2C%20%5B-23.71286115%2C%20-46.78186771%5D%2C%20%5B-23.71286115%2C%20-46.78186771%5D%2C%20%5B-23.53771136%2C%20-46.91580055%5D%2C%20%5B-23.53771136%2C%20-46.91580055%5D%2C%20%5B-23.53771136%2C%20-46.91580055%5D%2C%20%5B-23.53161087%2C%20-46.77348752%5D%2C%20%5B-23.40693783%2C%20-46.75015113%5D%2C%20%5B-23.71286115%2C%20-46.78186771%5D%2C%20%5B-23.54280592%2C%20-46.64465889%5D%2C%20%5B-23.54280592%2C%20-46.64465889%5D%2C%20%5B-23.54280592%2C%20-46.64465889%5D%2C%20%5B-23.71286115%2C%20-46.78186771%5D%2C%20%5B-23.28958788%2C%20-46.72657592%5D%2C%20%5B-23.53805105%2C%20-46.73110126%5D%2C%20%5B-23.48903146%2C%20-46.36198244%5D%2C%20%5B-23.4601041%2C%20-46.68499082%5D%2C%20%5B-23.73189707%2C%20-46.54038838%5D%2C%20%5B-23.59501355%2C%20-46.43179604%5D%2C%20%5B-23.59501355%2C%20-46.43179604%5D%2C%20%5B-23.71286115%2C%20-46.78186771%5D%2C%20%5B-23.71286115%2C%20-46.78186771%5D%2C%20%5B-23.54048891%2C%20-46.29152763%5D%2C%20%5B-23.48901373%2C%20-46.35968016%5D%2C%20%5B-23.49155937%2C%20-46.78775821%5D%2C%20%5B-23.47398768%2C%20-46.57836431%5D%2C%20%5B-23.47398768%2C%20-46.57836431%5D%2C%20%5B-23.69091537%2C%20-46.64713441%5D%2C%20%5B-23.63274255%2C%20-46.78991206%5D%2C%20%5B-23.71286115%2C%20-46.78186771%5D%2C%20%5B-23.71286115%2C%20-46.78186771%5D%2C%20%5B-23.53805105%2C%20-46.73110126%5D%2C%20%5B-23.71286115%2C%20-46.78186771%5D%2C%20%5B-23.73688016%2C%20-46.61123133%5D%2C%20%5B-23.71286115%2C%20-46.78186771%5D%2C%20%5B-23.71286115%2C%20-46.78186771%5D%2C%20%5B-23.45304097%2C%20-46.71182076%5D%2C%20%5B-23.71286115%2C%20-46.78186771%5D%2C%20%5B-23.46645426%2C%20-46.34049161%5D%2C%20%5B-23.71286115%2C%20-46.78186771%5D%2C%20%5B-23.71286115%2C%20-46.78186771%5D%2C%20%5B-23.54297121%2C%20-46.63534231%5D%2C%20%5B-23.54297121%2C%20-46.63534231%5D%2C%20%5B-23.54297121%2C%20-46.63534231%5D%2C%20%5B-23.71286115%2C%20-46.78186771%5D%2C%20%5B-23.71286115%2C%20-46.78186771%5D%2C%20%5B-23.71286115%2C%20-46.78186771%5D%2C%20%5B-23.71286115%2C%20-46.78186771%5D%2C%20%5B-23.53849472%2C%20-46.87737914%5D%2C%20%5B-23.71286115%2C%20-46.78186771%5D%2C%20%5B-23.71286115%2C%20-46.78186771%5D%2C%20%5B-23.52685065%2C%20-46.56041177%5D%2C%20%5B-23.48824927%2C%20-46.39616692%5D%2C%20%5B-23.55849424%2C%20-46.74771269%5D%2C%20%5B-23.71286115%2C%20-46.78186771%5D%2C%20%5B-23.7008026%2C%20-46.50506903%5D%2C%20%5B-23.65608938%2C%20-46.64484208%5D%2C%20%5B-23.53746501%2C%20-46.34700192%5D%2C%20%5B-23.52104005%2C%20-46.64193686%5D%2C%20%5B-23.69948397%2C%20-46.50981896%5D%2C%20%5B-23.71286115%2C%20-46.78186771%5D%2C%20%5B-23.54864766%2C%20-46.79063066%5D%2C%20%5B-23.51777052%2C%20-46.55889861%5D%2C%20%5B-23.51777052%2C%20-46.55889861%5D%2C%20%5B-23.51777052%2C%20-46.55889861%5D%2C%20%5B-23.71286115%2C%20-46.78186771%5D%2C%20%5B-23.71286115%2C%20-46.78186771%5D%2C%20%5B-23.71286115%2C%20-46.78186771%5D%2C%20%5B-23.57933536%2C%20-46.6378347%5D%2C%20%5B-23.55878255%2C%20-46.59522516%5D%2C%20%5B-23.56813163%2C%20-46.40476097%5D%2C%20%5B-23.56813163%2C%20-46.40476097%5D%2C%20%5B-23.53847397%2C%20-46.64152296%5D%2C%20%5B-23.53847397%2C%20-46.64152296%5D%2C%20%5B-23.62025985%2C%20-46.45599307%5D%2C%20%5B-23.71222075%2C%20-46.60774784%5D%2C%20%5B-23.53486895%2C%20-46.97560238%5D%2C%20%5B-23.68027481%2C%20-46.66697723%5D%2C%20%5B-23.68606625%2C%20-46.52101433%5D%2C%20%5B-23.67020833%2C%20-46.34774904%5D%2C%20%5B-23.67020833%2C%20-46.34774904%5D%2C%20%5B-23.71286115%2C%20-46.78186771%5D%2C%20%5B-23.54864766%2C%20-46.79063066%5D%2C%20%5B-23.76909555%2C%20-46.72513828%5D%2C%20%5B-23.71286115%2C%20-46.78186771%5D%2C%20%5B-23.27785467%2C%20-46.72779492%5D%2C%20%5B-23.429188%2C%20-46.43537659%5D%2C%20%5B-23.429188%2C%20-46.43537659%5D%2C%20%5B-23.71286115%2C%20-46.78186771%5D%2C%20%5B-23.49518908%2C%20-46.78213286%5D%2C%20%5B-23.71286115%2C%20-46.78186771%5D%2C%20%5B-23.53424989%2C%20-46.64154663%5D%2C%20%5B-23.71286115%2C%20-46.78186771%5D%2C%20%5B-23.71286115%2C%20-46.78186771%5D%2C%20%5B-23.71286115%2C%20-46.78186771%5D%2C%20%5B-23.71286115%2C%20-46.78186771%5D%2C%20%5B-23.71286115%2C%20-46.78186771%5D%2C%20%5B-23.71286115%2C%20-46.78186771%5D%2C%20%5B-23.48840283%2C%20-46.34805773%5D%2C%20%5B-23.71286115%2C%20-46.78186771%5D%2C%20%5B-23.55707624%2C%20-46.28618288%5D%2C%20%5B-23.48002089%2C%20-46.35971484%5D%2C%20%5B-23.71286115%2C%20-46.78186771%5D%2C%20%5B-23.71286115%2C%20-46.78186771%5D%2C%20%5B-23.52678045%2C%20-46.56050607%5D%2C%20%5B-23.52678045%2C%20-46.56050607%5D%2C%20%5B-23.55849424%2C%20-46.74771269%5D%2C%20%5B-23.55849424%2C%20-46.74771269%5D%2C%20%5B-23.53746501%2C%20-46.34700192%5D%2C%20%5B-23.71286115%2C%20-46.78186771%5D%2C%20%5B-23.71286115%2C%20-46.78186771%5D%2C%20%5B-23.71286115%2C%20-46.78186771%5D%2C%20%5B-23.71286115%2C%20-46.78186771%5D%2C%20%5B-23.71286115%2C%20-46.78186771%5D%2C%20%5B-23.45496917%2C%20-46.71622998%5D%2C%20%5B-23.71286115%2C%20-46.78186771%5D%2C%20%5B-23.71286115%2C%20-46.78186771%5D%2C%20%5B-23.71286115%2C%20-46.78186771%5D%2C%20%5B-23.71286115%2C%20-46.78186771%5D%2C%20%5B-23.52162682%2C%20-46.63761546%5D%2C%20%5B-23.52162682%2C%20-46.63761546%5D%2C%20%5B-23.50795629%2C%20-46.76410431%5D%2C%20%5B-23.71286115%2C%20-46.78186771%5D%2C%20%5B-23.71286115%2C%20-46.78186771%5D%2C%20%5B-23.61341261%2C%20-46.52797713%5D%2C%20%5B-23.67414233%2C%20-46.63793811%5D%2C%20%5B-23.47398768%2C%20-46.57836431%5D%2C%20%5B-23.71286115%2C%20-46.78186771%5D%2C%20%5B-23.49377923%2C%20-46.49740002%5D%2C%20%5B-23.51674488%2C%20-46.54569185%5D%2C%20%5B-23.27785295%2C%20-46.73779216%5D%2C%20%5B-23.53805105%2C%20-46.73110126%5D%2C%20%5B-23.54029031%2C%20-46.555543%5D%2C%20%5B-23.71286115%2C%20-46.78186771%5D%2C%20%5B-23.71286115%2C%20-46.78186771%5D%2C%20%5B-23.429188%2C%20-46.43537659%5D%2C%20%5B-23.429188%2C%20-46.43537659%5D%2C%20%5B-23.71286115%2C%20-46.78186771%5D%2C%20%5B-23.71286115%2C%20-46.78186771%5D%2C%20%5B-23.41850704%2C%20-46.49945902%5D%2C%20%5B-23.71286115%2C%20-46.78186771%5D%2C%20%5B-23.71286115%2C%20-46.78186771%5D%2C%20%5B-23.6138048%2C%20-46.53028157%5D%2C%20%5B-23.54773166%2C%20-46.42639147%5D%2C%20%5B-23.45577733%2C%20-46.46632469%5D%2C%20%5B-23.57473632%2C%20-46.79500193%5D%2C%20%5B-23.57473632%2C%20-46.79500193%5D%2C%20%5B-23.57473632%2C%20-46.79500193%5D%2C%20%5B-23.57473632%2C%20-46.79500193%5D%2C%20%5B-23.54773166%2C%20-46.42639147%5D%2C%20%5B-23.54773166%2C%20-46.42639147%5D%2C%20%5B-23.45577733%2C%20-46.46632469%5D%2C%20%5B-23.67044579%2C%20-46.8074159%5D%2C%20%5B-23.67044579%2C%20-46.8074159%5D%2C%20%5B-23.62867921%2C%20-46.80771587%5D%2C%20%5B-23.54773166%2C%20-46.42639147%5D%2C%20%5B-23.45577733%2C%20-46.46632469%5D%2C%20%5B-23.43130697%2C%20-46.86347783%5D%2C%20%5B-23.4087919%2C%20-46.89121796%5D%2C%20%5B-23.70059877%2C%20-46.73993003%5D%2C%20%5B-23.70059877%2C%20-46.73993003%5D%2C%20%5B-23.62867921%2C%20-46.80771587%5D%2C%20%5B-23.57473632%2C%20-46.79500193%5D%2C%20%5B-23.43130697%2C%20-46.86347783%5D%2C%20%5B-23.70059877%2C%20-46.73993003%5D%2C%20%5B-23.35486891%2C%20-46.41046218%5D%2C%20%5B-23.43130697%2C%20-46.86347783%5D%2C%20%5B-23.54236339%2C%20-46.92428789%5D%2C%20%5B-23.65842603%2C%20-46.8001724%5D%2C%20%5B-23.54236339%2C%20-46.92428789%5D%2C%20%5B-23.65818%2C%20-46.81785224%5D%2C%20%5B-23.65818%2C%20-46.81785224%5D%2C%20%5B-23.65818%2C%20-46.81785224%5D%2C%20%5B-23.4087919%2C%20-46.89121796%5D%2C%20%5B-23.65818%2C%20-46.81785224%5D%2C%20%5B-23.56996933%2C%20-46.76220839%5D%2C%20%5B-23.65842603%2C%20-46.8001724%5D%2C%20%5B-23.65842603%2C%20-46.8001724%5D%2C%20%5B-23.43130697%2C%20-46.86347783%5D%2C%20%5B-23.26905799%2C%20-46.5856568%5D%2C%20%5B-23.35486891%2C%20-46.41046218%5D%2C%20%5B-23.65818%2C%20-46.81785224%5D%2C%20%5B-23.56996933%2C%20-46.76220839%5D%2C%20%5B-23.68642656%2C%20-46.79389825%5D%2C%20%5B-23.65842603%2C%20-46.8001724%5D%2C%20%5B-23.56502481%2C%20-46.76523294%5D%2C%20%5B-23.56502481%2C%20-46.76523294%5D%2C%20%5B-23.26905799%2C%20-46.5856568%5D%2C%20%5B-23.49962809%2C%20-46.35946957%5D%2C%20%5B-23.43975848%2C%20-46.41011019%5D%2C%20%5B-23.49962809%2C%20-46.35946957%5D%2C%20%5B-23.26905799%2C%20-46.5856568%5D%2C%20%5B-23.52911113%2C%20-46.90386489%5D%2C%20%5B-23.31611703%2C%20-46.73266984%5D%2C%20%5B-23.69394613%2C%20-46.63253262%5D%2C%20%5B-23.69394613%2C%20-46.63253262%5D%2C%20%5B-23.69394613%2C%20-46.63253262%5D%2C%20%5B-23.51145918%2C%20-46.33528707%5D%2C%20%5B-23.63458787%2C%20-46.79767987%5D%2C%20%5B-23.7426811%2C%20-46.69213105%5D%2C%20%5B-23.63458787%2C%20-46.79767987%5D%2C%20%5B-23.6574773%2C%20-46.54724999%5D%2C%20%5B-23.70622691%2C%20-46.61277043%5D%2C%20%5B-23.70622691%2C%20-46.61277043%5D%2C%20%5B-23.50861837%2C%20-46.43158967%5D%2C%20%5B-23.66183188%2C%20-46.80695935%5D%2C%20%5B-23.6574773%2C%20-46.54724999%5D%2C%20%5B-23.48779335%2C%20-46.47698669%5D%2C%20%5B-23.69394613%2C%20-46.63253262%5D%2C%20%5B-23.51145918%2C%20-46.33528707%5D%2C%20%5B-23.51145918%2C%20-46.33528707%5D%2C%20%5B-23.63458787%2C%20-46.79767987%5D%2C%20%5B-23.48779335%2C%20-46.47698669%5D%2C%20%5B-23.50861837%2C%20-46.43158967%5D%2C%20%5B-23.6574773%2C%20-46.54724999%5D%2C%20%5B-23.6574773%2C%20-46.54724999%5D%2C%20%5B-23.6574773%2C%20-46.54724999%5D%2C%20%5B-23.6574773%2C%20-46.54724999%5D%2C%20%5B-23.51145918%2C%20-46.33528707%5D%2C%20%5B-23.50255996%2C%20-46.36500047%5D%2C%20%5B-23.71286115%2C%20-46.78186771%5D%2C%20%5B-23.71286115%2C%20-46.78186771%5D%2C%20%5B-23.66183188%2C%20-46.80695935%5D%2C%20%5B-23.66183188%2C%20-46.80695935%5D%2C%20%5B-23.66183188%2C%20-46.80695935%5D%2C%20%5B-23.71286115%2C%20-46.78186771%5D%2C%20%5B-23.50255996%2C%20-46.36500047%5D%2C%20%5B-23.49246687%2C%20-46.69642326%5D%2C%20%5B-23.31611703%2C%20-46.73266984%5D%2C%20%5B-23.71286115%2C%20-46.78186771%5D%2C%20%5B-23.7426811%2C%20-46.69213105%5D%2C%20%5B-23.64354551%2C%20-46.31629636%5D%2C%20%5B-23.64354551%2C%20-46.31629636%5D%2C%20%5B-23.64354551%2C%20-46.31629636%5D%2C%20%5B-23.64354551%2C%20-46.31629636%5D%2C%20%5B-23.49770885%2C%20-46.28674522%5D%2C%20%5B-23.52806578%2C%20-46.88501433%5D%2C%20%5B-23.29057153%2C%20-46.74096833%5D%2C%20%5B-23.48779335%2C%20-46.47698669%5D%2C%20%5B-23.72553357%2C%20-46.57482217%5D%2C%20%5B-23.6574773%2C%20-46.54724999%5D%2C%20%5B-23.31611703%2C%20-46.73266984%5D%2C%20%5B-23.70622691%2C%20-46.61277043%5D%2C%20%5B-23.52806578%2C%20-46.88501433%5D%2C%20%5B-23.52806578%2C%20-46.88501433%5D%2C%20%5B-23.49246687%2C%20-46.69642326%5D%2C%20%5B-23.53067729%2C%20-46.90349191%5D%2C%20%5B-23.71286115%2C%20-46.78186771%5D%2C%20%5B-23.68320317%2C%20-46.36644609%5D%2C%20%5B-23.65818%2C%20-46.81785224%5D%2C%20%5B-23.65818%2C%20-46.81785224%5D%2C%20%5B-23.71286115%2C%20-46.78186771%5D%2C%20%5B-23.71286115%2C%20-46.78186771%5D%2C%20%5B-23.5469162%2C%20-46.20370402%5D%2C%20%5B-23.5469162%2C%20-46.20370402%5D%2C%20%5B-23.45740008%2C%20-46.74344983%5D%2C%20%5B-23.53067729%2C%20-46.90349191%5D%2C%20%5B-23.53839482%2C%20-46.63477587%5D%2C%20%5B-23.71286115%2C%20-46.78186771%5D%2C%20%5B-23.65818%2C%20-46.81785224%5D%2C%20%5B-23.65818%2C%20-46.81785224%5D%2C%20%5B-23.68320317%2C%20-46.36644609%5D%2C%20%5B-23.64841988%2C%20-46.43705118%5D%2C%20%5B-23.65818%2C%20-46.81785224%5D%2C%20%5B-23.65842603%2C%20-46.8001724%5D%2C%20%5B-23.64354551%2C%20-46.31629636%5D%2C%20%5B-23.49770885%2C%20-46.28674522%5D%2C%20%5B-23.69675294%2C%20-46.28817519%5D%2C%20%5B-23.58458453%2C%20-46.53734728%5D%2C%20%5B-23.58458453%2C%20-46.53734728%5D%2C%20%5B-23.45740008%2C%20-46.74344983%5D%2C%20%5B-23.45740008%2C%20-46.74344983%5D%2C%20%5B-23.71286115%2C%20-46.78186771%5D%2C%20%5B-23.71286115%2C%20-46.78186771%5D%2C%20%5B-23.53839482%2C%20-46.63477587%5D%2C%20%5B-23.72022616%2C%20-46.59496986%5D%2C%20%5B-23.65818%2C%20-46.81785224%5D%2C%20%5B-23.64841988%2C%20-46.43705118%5D%2C%20%5B-23.50255996%2C%20-46.36500047%5D%2C%20%5B-23.50255996%2C%20-46.36500047%5D%2C%20%5B-23.64354551%2C%20-46.31629636%5D%2C%20%5B-23.65842603%2C%20-46.8001724%5D%2C%20%5B-23.39769395%2C%20-46.75408658%5D%2C%20%5B-23.74620702%2C%20-46.69955092%5D%2C%20%5B-23.74620702%2C%20-46.69955092%5D%2C%20%5B-23.74620702%2C%20-46.69955092%5D%2C%20%5B-23.71286115%2C%20-46.78186771%5D%2C%20%5B-23.55113634%2C%20-46.37934954%5D%2C%20%5B-23.45740008%2C%20-46.74344983%5D%2C%20%5B-23.6185823%2C%20-46.7607773%5D%2C%20%5B-23.6185823%2C%20-46.7607773%5D%2C%20%5B-23.52095371%2C%20-46.6253548%5D%2C%20%5B-23.69004592%2C%20-46.51597554%5D%2C%20%5B-23.69004592%2C%20-46.51597554%5D%2C%20%5B-23.69004592%2C%20-46.51597554%5D%2C%20%5B-23.69004592%2C%20-46.51597554%5D%2C%20%5B-23.65293119%2C%20-46.68857313%5D%2C%20%5B-23.57138972%2C%20-46.64431182%5D%2C%20%5B-23.69004592%2C%20-46.51597554%5D%2C%20%5B-23.69004592%2C%20-46.51597554%5D%2C%20%5B-23.69004592%2C%20-46.51597554%5D%2C%20%5B-23.69004592%2C%20-46.51597554%5D%2C%20%5B-23.55953217%2C%20-46.57661436%5D%2C%20%5B-23.57732023%2C%20-46.58694866%5D%2C%20%5B-23.71286115%2C%20-46.78186771%5D%2C%20%5B-23.69004592%2C%20-46.51597554%5D%2C%20%5B-23.69004592%2C%20-46.51597554%5D%2C%20%5B-23.71286115%2C%20-46.78186771%5D%2C%20%5B-23.66887161%2C%20-46.33215228%5D%2C%20%5B-23.71286115%2C%20-46.78186771%5D%2C%20%5B-23.45162994%2C%20-46.35171677%5D%2C%20%5B-23.459262%2C%20-46.46988521%5D%2C%20%5B-23.71286115%2C%20-46.78186771%5D%2C%20%5B-23.69004592%2C%20-46.51597554%5D%2C%20%5B-23.45162994%2C%20-46.35171677%5D%2C%20%5B-23.56806036%2C%20-46.29470539%5D%2C%20%5B-23.45162994%2C%20-46.35171677%5D%2C%20%5B-23.71286115%2C%20-46.78186771%5D%2C%20%5B-23.66887161%2C%20-46.33215228%5D%2C%20%5B-23.55519668%2C%20-46.6544679%5D%2C%20%5B-23.55358709%2C%20-46.6327668%5D%2C%20%5B-23.45665004%2C%20-46.73717849%5D%2C%20%5B-23.55985684%2C%20-46.6301659%5D%2C%20%5B-23.54273072%2C%20-46.64783574%5D%2C%20%5B-23.69004592%2C%20-46.51597554%5D%2C%20%5B-23.69004592%2C%20-46.51597554%5D%2C%20%5B-23.55985684%2C%20-46.6301659%5D%2C%20%5B-23.57138972%2C%20-46.64431182%5D%2C%20%5B-23.71286115%2C%20-46.78186771%5D%2C%20%5B-23.69004592%2C%20-46.51597554%5D%2C%20%5B-23.538054%2C%20-46.34612013%5D%2C%20%5B-23.50855514%2C%20-46.29767581%5D%2C%20%5B-23.68921287%2C%20-46.44407348%5D%2C%20%5B-23.68921287%2C%20-46.44407348%5D%2C%20%5B-23.52555609%2C%20-46.66375505%5D%2C%20%5B-23.53492457%2C%20-46.64660758%5D%2C%20%5B-23.71286115%2C%20-46.78186771%5D%2C%20%5B-23.66802641%2C%20-46.68957232%5D%2C%20%5B-23.538054%2C%20-46.34612013%5D%2C%20%5B-23.54938522%2C%20-46.63325723%5D%2C%20%5B-23.71286115%2C%20-46.78186771%5D%2C%20%5B-23.56806036%2C%20-46.29470539%5D%2C%20%5B-23.538054%2C%20-46.34612013%5D%2C%20%5B-23.54636204%2C%20-46.52246505%5D%2C%20%5B-23.54636204%2C%20-46.52246505%5D%2C%20%5B-23.71286115%2C%20-46.78186771%5D%2C%20%5B-23.6452492%2C%20-46.64277848%5D%2C%20%5B-23.538054%2C%20-46.34612013%5D%2C%20%5B-23.51347291%2C%20-46.33946313%5D%2C%20%5B-23.68921287%2C%20-46.44407348%5D%2C%20%5B-23.55110327%2C%20-46.6381745%5D%2C%20%5B-23.54922621%2C%20-46.63377527%5D%2C%20%5B-23.54922621%2C%20-46.63377527%5D%2C%20%5B-23.5663858%2C%20-46.65273016%5D%2C%20%5B-23.5663858%2C%20-46.65273016%5D%2C%20%5B-23.5550148%2C%20-46.62944961%5D%2C%20%5B-23.62800252%2C%20-46.47078526%5D%2C%20%5B-23.57611926%2C%20-46.53836522%5D%2C%20%5B-23.57186201%2C%20-46.49069252%5D%2C%20%5B-23.5550148%2C%20-46.62944961%5D%2C%20%5B-23.53867872%2C%20-46.64089362%5D%2C%20%5B-23.6100057%2C%20-46.6084333%5D%2C%20%5B-23.51678489%2C%20-46.49482766%5D%2C%20%5B-23.63133836%2C%20-46.63567057%5D%2C%20%5B-23.54636204%2C%20-46.52246505%5D%2C%20%5B-23.71286115%2C%20-46.78186771%5D%2C%20%5B-23.54658511%2C%20-46.85951697%5D%2C%20%5B-23.55802751%2C%20-46.61307078%5D%2C%20%5B-23.71286115%2C%20-46.78186771%5D%2C%20%5B-23.68687829%2C%20-46.61124559%5D%2C%20%5B-23.52435243%2C%20-46.74123364%5D%2C%20%5B-23.42023832%2C%20-46.8541947%5D%2C%20%5B-23.66943313%2C%20-46.4239897%5D%2C%20%5B-23.71286115%2C%20-46.78186771%5D%2C%20%5B-23.51347291%2C%20-46.33946313%5D%2C%20%5B-23.54048805%2C%20-46.21509052%5D%2C%20%5B-23.51678489%2C%20-46.49482766%5D%2C%20%5B-23.50273413%2C%20-46.87187601%5D%2C%20%5B-23.55193663%2C%20-46.29016785%5D%2C%20%5B-23.52722622%2C%20-46.57157908%5D%2C%20%5B-23.57611926%2C%20-46.53836522%5D%2C%20%5B-23.66734696%2C%20-46.61090322%5D%2C%20%5B-23.56830167%2C%20-46.64000745%5D%2C%20%5B-23.52152773%2C%20-46.66686324%5D%2C%20%5B-23.55421538%2C%20-46.63541332%5D%2C%20%5B-23.78481348%2C%20-46.82324982%5D%2C%20%5B-23.71286115%2C%20-46.78186771%5D%2C%20%5B-23.66802641%2C%20-46.68957232%5D%2C%20%5B-23.54658511%2C%20-46.85951697%5D%2C%20%5B-23.54140055%2C%20-46.6299492%5D%2C%20%5B-23.598144%2C%20-46.44868816%5D%2C%20%5B-23.71286115%2C%20-46.78186771%5D%2C%20%5B-23.69560721%2C%20-46.59058729%5D%2C%20%5B-23.71286115%2C%20-46.78186771%5D%2C%20%5B-23.7221482%2C%20-46.41838862%5D%2C%20%5B-23.71286115%2C%20-46.78186771%5D%2C%20%5B-23.64900729%2C%20-46.32963651%5D%2C%20%5B-23.51037237%2C%20-46.67659315%5D%2C%20%5B-23.71286115%2C%20-46.78186771%5D%2C%20%5B-23.64859875%2C%20-46.60080931%5D%2C%20%5B-23.55707841%2C%20-46.63304222%5D%2C%20%5B-23.55802751%2C%20-46.61307078%5D%2C%20%5B-23.55802751%2C%20-46.61307078%5D%2C%20%5B-23.63836832%2C%20-46.50089927%5D%2C%20%5B-23.538054%2C%20-46.34612013%5D%2C%20%5B-23.61904119%2C%20-46.84679969%5D%2C%20%5B-23.68921287%2C%20-46.44407348%5D%2C%20%5B-23.68921287%2C%20-46.44407348%5D%2C%20%5B-23.7221482%2C%20-46.41838862%5D%2C%20%5B-23.53867872%2C%20-46.64089362%5D%2C%20%5B-23.5500876%2C%20-46.49155905%5D%2C%20%5B-23.53742178%2C%20-46.64306387%5D%2C%20%5B-23.64599009%2C%20-46.64506207%5D%2C%20%5B-23.55446684%2C%20-46.57830542%5D%2C%20%5B-23.59768691%2C%20-46.54183657%5D%2C%20%5B-23.71286115%2C%20-46.78186771%5D%2C%20%5B-23.45275208%2C%20-46.52033322%5D%2C%20%5B-23.55110327%2C%20-46.6381745%5D%2C%20%5B-23.54922621%2C%20-46.63377527%5D%2C%20%5B-23.54922621%2C%20-46.63377527%5D%2C%20%5B-23.54570508%2C%20-46.4478935%5D%2C%20%5B-23.53742178%2C%20-46.64306387%5D%2C%20%5B-23.54216099%2C%20-46.57621803%5D%2C%20%5B-23.54216099%2C%20-46.57621803%5D%2C%20%5B-23.54570508%2C%20-46.4478935%5D%2C%20%5B-23.54570508%2C%20-46.4478935%5D%2C%20%5B-23.56046908%2C%20-46.74721384%5D%2C%20%5B-23.53774439%2C%20-46.4867533%5D%2C%20%5B-23.71286115%2C%20-46.78186771%5D%2C%20%5B-23.71286115%2C%20-46.78186771%5D%2C%20%5B-23.54153842%2C%20-46.78459113%5D%2C%20%5B-23.71286115%2C%20-46.78186771%5D%2C%20%5B-23.53713637%2C%20-46.64342061%5D%2C%20%5B-23.54300291%2C%20-46.29148113%5D%2C%20%5B-23.5579242%2C%20-46.55231479%5D%2C%20%5B-23.46006884%2C%20-46.72107705%5D%2C%20%5B-23.43483088%2C%20-46.53732146%5D%2C%20%5B-23.54153842%2C%20-46.78459113%5D%2C%20%5B-23.71286115%2C%20-46.78186771%5D%2C%20%5B-23.54938522%2C%20-46.63325723%5D%2C%20%5B-23.56878242%2C%20-46.52123703%5D%2C%20%5B-23.52530984%2C%20-46.73472636%5D%2C%20%5B-23.66520155%2C%20-46.60520166%5D%2C%20%5B-23.55458926%2C%20-46.66413874%5D%2C%20%5B-23.53742178%2C%20-46.64306387%5D%2C%20%5B-23.51093456%2C%20-46.57397538%5D%2C%20%5B-23.54570508%2C%20-46.4478935%5D%2C%20%5B-23.59976339%2C%20-46.84617711%5D%2C%20%5B-23.59976339%2C%20-46.84617711%5D%2C%20%5B-23.66373906%2C%20-46.51358385%5D%2C%20%5B-23.65023769%2C%20-46.57350864%5D%2C%20%5B-23.54248221%2C%20-46.61707142%5D%2C%20%5B-23.54153842%2C%20-46.78459113%5D%2C%20%5B-23.71286115%2C%20-46.78186771%5D%2C%20%5B-23.58563484%2C%20-46.67409433%5D%2C%20%5B-23.71286115%2C%20-46.78186771%5D%2C%20%5B-23.52530984%2C%20-46.73472636%5D%2C%20%5B-23.31338571%2C%20-46.70851307%5D%2C%20%5B-23.44508556%2C%20-46.5090817%5D%2C%20%5B-23.47996863%2C%20-46.62967013%5D%2C%20%5B-23.71286115%2C%20-46.78186771%5D%2C%20%5B-23.53047208%2C%20-46.79179953%5D%2C%20%5B-23.71286115%2C%20-46.78186771%5D%2C%20%5B-23.52152773%2C%20-46.66686324%5D%2C%20%5B-23.63133836%2C%20-46.63567057%5D%2C%20%5B-23.68557146%2C%20-46.77094642%5D%2C%20%5B-23.54636204%2C%20-46.52246505%5D%2C%20%5B-23.51347291%2C%20-46.33946313%5D%2C%20%5B-23.54922621%2C%20-46.63377527%5D%2C%20%5B-23.67165318%2C%20-46.74627405%5D%2C%20%5B-23.48492178%2C%20-46.4295388%5D%2C%20%5B-23.69027287%2C%20-46.28326411%5D%2C%20%5B-23.54985358%2C%20-46.90102283%5D%2C%20%5B-23.51723932%2C%20-46.37202084%5D%2C%20%5B-23.51093456%2C%20-46.57397538%5D%2C%20%5B-23.61565632%2C%20-46.3185585%5D%2C%20%5B-23.51678489%2C%20-46.49482766%5D%2C%20%5B-23.49017725%2C%20-47.00105841%5D%2C%20%5B-23.53806098%2C%20-46.82766199%5D%2C%20%5B-23.55983886%2C%20-46.08601855%5D%2C%20%5B-23.71286115%2C%20-46.78186771%5D%2C%20%5B-23.44608158%2C%20-46.70490143%5D%2C%20%5B-23.69033749%2C%20-46.44852999%5D%2C%20%5B-23.68033889%2C%20-46.75473763%5D%2C%20%5B-23.59394036%2C%20-46.78494684%5D%2C%20%5B-23.55802751%2C%20-46.61307078%5D%2C%20%5B-23.67285795%2C%20-46.5399443%5D%2C%20%5B-23.55520738%2C%20-46.45358397%5D%2C%20%5B-23.55520738%2C%20-46.45358397%5D%2C%20%5B-23.50273413%2C%20-46.87187601%5D%2C%20%5B-23.55991087%2C%20-46.63075045%5D%2C%20%5B-23.59210837%2C%20-46.67279388%5D%2C%20%5B-23.60281632%2C%20-46.53007564%5D%2C%20%5B-23.55549317%2C%20-46.60036151%5D%2C%20%5B-23.71286115%2C%20-46.78186771%5D%2C%20%5B-23.50495215%2C%20-46.30230453%5D%2C%20%5B-23.71286115%2C%20-46.78186771%5D%2C%20%5B-23.71286115%2C%20-46.78186771%5D%2C%20%5B-23.54953422%2C%20-46.63008811%5D%2C%20%5B-23.7221482%2C%20-46.41838862%5D%2C%20%5B-23.55168187%2C%20-46.49784062%5D%2C%20%5B-23.6627297%2C%20-46.52950465%5D%2C%20%5B-23.71286115%2C%20-46.78186771%5D%2C%20%5B-23.71286115%2C%20-46.78186771%5D%2C%20%5B-23.71286115%2C%20-46.78186771%5D%2C%20%5B-23.71286115%2C%20-46.78186771%5D%2C%20%5B-23.57138972%2C%20-46.64431182%5D%2C%20%5B-23.54065696%2C%20-46.56938774%5D%2C%20%5B-23.54534418%2C%20-46.76410263%5D%2C%20%5B-23.57611926%2C%20-46.53836522%5D%2C%20%5B-23.67165318%2C%20-46.74627405%5D%2C%20%5B-23.45275208%2C%20-46.52033322%5D%2C%20%5B-23.71286115%2C%20-46.78186771%5D%2C%20%5B-23.71286115%2C%20-46.78186771%5D%2C%20%5B-23.5080535%2C%20-46.5356079%5D%2C%20%5B-23.54216099%2C%20-46.57621803%5D%2C%20%5B-23.71286115%2C%20-46.78186771%5D%2C%20%5B-23.44645278%2C%20-46.51223084%5D%2C%20%5B-23.62207101%2C%20-46.72780489%5D%2C%20%5B-23.7221482%2C%20-46.41838862%5D%2C%20%5B-23.64900729%2C%20-46.32963651%5D%2C%20%5B-23.64900729%2C%20-46.32963651%5D%2C%20%5B-23.54570508%2C%20-46.4478935%5D%2C%20%5B-23.71286115%2C%20-46.78186771%5D%2C%20%5B-23.71286115%2C%20-46.78186771%5D%2C%20%5B-23.56333743%2C%20-46.62134384%5D%2C%20%5B-23.65023769%2C%20-46.57350864%5D%2C%20%5B-23.5539206%2C%20-46.36894795%5D%2C%20%5B-23.64800126%2C%20-46.64017886%5D%2C%20%5B-23.70065847%2C%20-46.61527855%5D%2C%20%5B-23.63478797%2C%20-46.64575904%5D%2C%20%5B-23.71286115%2C%20-46.78186771%5D%2C%20%5B-23.54938522%2C%20-46.63325723%5D%2C%20%5B-23.51037237%2C%20-46.67659315%5D%2C%20%5B-23.51037237%2C%20-46.67659315%5D%2C%20%5B-23.51948152%2C%20-46.70385448%5D%2C%20%5B-23.54925271%2C%20-46.52287784%5D%2C%20%5B-23.67020833%2C%20-46.34774904%5D%2C%20%5B-23.50930864%2C%20-46.78474891%5D%2C%20%5B-23.64039485%2C%20-46.28385798%5D%2C%20%5B-23.69692824%2C%20-46.60720141%5D%2C%20%5B-23.62461817%2C%20-46.46268945%5D%2C%20%5B-23.54300291%2C%20-46.29148113%5D%2C%20%5B-23.64054361%2C%20-46.28476943%5D%2C%20%5B-23.71286115%2C%20-46.78186771%5D%2C%20%5B-23.71286115%2C%20-46.78186771%5D%2C%20%5B-23.45275208%2C%20-46.52033322%5D%2C%20%5B-23.45275208%2C%20-46.52033322%5D%2C%20%5B-23.53742178%2C%20-46.64306387%5D%2C%20%5B-23.70360001%2C%20-46.54272767%5D%2C%20%5B-23.71286115%2C%20-46.78186771%5D%2C%20%5B-23.71286115%2C%20-46.78186771%5D%2C%20%5B-23.66677974%2C%20-46.57639285%5D%2C%20%5B-23.58174104%2C%20-46.58122901%5D%2C%20%5B-23.56785649%2C%20-46.62183178%5D%2C%20%5B-23.71286115%2C%20-46.78186771%5D%2C%20%5B-23.54216099%2C%20-46.57621803%5D%2C%20%5B-23.71286115%2C%20-46.78186771%5D%2C%20%5B-23.57519565%2C%20-46.5463049%5D%2C%20%5B-23.57138972%2C%20-46.64431182%5D%2C%20%5B-23.51235749%2C%20-46.65343103%5D%2C%20%5B-23.63079417%2C%20-46.64696727%5D%2C%20%5B-23.63079417%2C%20-46.64696727%5D%2C%20%5B-23.63079417%2C%20-46.64696727%5D%2C%20%5B-23.66270233%2C%20-46.67287685%5D%2C%20%5B-23.69890005%2C%20-46.70091681%5D%2C%20%5B-23.82587263%2C%20-46.73357803%5D%2C%20%5B-23.55850851%2C%20-46.61519738%5D%2C%20%5B-23.55850851%2C%20-46.61519738%5D%2C%20%5B-23.53581711%2C%20-46.36574874%5D%2C%20%5B-23.53622277%2C%20-46.28631586%5D%2C%20%5B-23.54153842%2C%20-46.78459113%5D%2C%20%5B-23.5156128%2C%20-46.62522444%5D%2C%20%5B-23.54500015%2C%20-46.64356972%5D%2C%20%5B-23.50912317%2C%20-46.32006567%5D%2C%20%5B-23.47865609%2C%20-46.63275734%5D%2C%20%5B-23.53713637%2C%20-46.64342061%5D%2C%20%5B-23.54304313%2C%20-46.6412186%5D%2C%20%5B-23.71286115%2C%20-46.78186771%5D%2C%20%5B-23.45966014%2C%20-46.59614629%5D%2C%20%5B-23.71286115%2C%20-46.78186771%5D%2C%20%5B-23.70820719%2C%20-46.40099529%5D%2C%20%5B-23.56509024%2C%20-46.78911167%5D%2C%20%5B-23.5657636%2C%20-46.64786653%5D%2C%20%5B-23.71286115%2C%20-46.78186771%5D%2C%20%5B-23.70147619%2C%20-46.54205407%5D%2C%20%5B-23.51615087%2C%20-46.37494531%5D%2C%20%5B-23.66859342%2C%20-46.73352126%5D%2C%20%5B-23.66859342%2C%20-46.73352126%5D%2C%20%5B-23.69547232%2C%20-46.55303889%5D%2C%20%5B-23.46085384%2C%20-46.43156016%5D%2C%20%5B-23.72178135%2C%20-46.86039626%5D%2C%20%5B-23.42023832%2C%20-46.8541947%5D%2C%20%5B-23.47996863%2C%20-46.62967013%5D%2C%20%5B-23.51542467%2C%20-46.64329027%5D%2C%20%5B-23.58221723%2C%20-46.6408979%5D%2C%20%5B-23.52688779%2C%20-46.66593872%5D%2C%20%5B-23.50156285%2C%20-46.40757048%5D%2C%20%5B-23.52152773%2C%20-46.66686324%5D%2C%20%5B-23.71286115%2C%20-46.78186771%5D%2C%20%5B-23.82587263%2C%20-46.73357803%5D%2C%20%5B-23.71286115%2C%20-46.78186771%5D%2C%20%5B-23.75766189%2C%20-46.45477045%5D%2C%20%5B-23.67640687%2C%20-46.5924037%5D%2C%20%5B-23.54970066%2C%20-46.4834092%5D%2C%20%5B-23.71286115%2C%20-46.78186771%5D%2C%20%5B-23.42423569%2C%20-46.49344911%5D%2C%20%5B-23.68276501%2C%20-46.40782343%5D%2C%20%5B-23.71286115%2C%20-46.78186771%5D%2C%20%5B-23.64575477%2C%20-46.64500515%5D%2C%20%5B-23.51347291%2C%20-46.33946313%5D%2C%20%5B-23.51347291%2C%20-46.33946313%5D%2C%20%5B-23.51093456%2C%20-46.57397538%5D%2C%20%5B-23.51093456%2C%20-46.57397538%5D%2C%20%5B-23.33450395%2C%20-46.72561127%5D%2C%20%5B-23.54533306%2C%20-46.23415536%5D%2C%20%5B-23.71286115%2C%20-46.78186771%5D%2C%20%5B-23.71286115%2C%20-46.78186771%5D%2C%20%5B-23.52722622%2C%20-46.57157908%5D%2C%20%5B-23.69890005%2C%20-46.70091681%5D%2C%20%5B-23.58788096%2C%20-46.65259026%5D%2C%20%5B-23.62509368%2C%20-46.75717635%5D%2C%20%5B-23.71286115%2C%20-46.78186771%5D%2C%20%5B-23.71286115%2C%20-46.78186771%5D%2C%20%5B-23.63872857%2C%20-46.5615473%5D%2C%20%5B-23.71286115%2C%20-46.78186771%5D%2C%20%5B-23.67165318%2C%20-46.74627405%5D%2C%20%5B-23.71286115%2C%20-46.78186771%5D%2C%20%5B-23.71286115%2C%20-46.78186771%5D%2C%20%5B-23.67020833%2C%20-46.34774904%5D%2C%20%5B-23.5539206%2C%20-46.36894795%5D%2C%20%5B-23.51284928%2C%20-46.70916707%5D%2C%20%5B-23.61565632%2C%20-46.3185585%5D%2C%20%5B-23.51678489%2C%20-46.49482766%5D%2C%20%5B-23.03531092%2C%20-47.11880168%5D%2C%20%5B-23.65293119%2C%20-46.68857313%5D%2C%20%5B-23.49017725%2C%20-47.00105841%5D%2C%20%5B-23.71286115%2C%20-46.78186771%5D%2C%20%5B-23.4627153%2C%20-46.47064124%5D%2C%20%5B-23.56333743%2C%20-46.62134384%5D%2C%20%5B-23.51292385%2C%20-46.9295801%5D%2C%20%5B-23.55111776%2C%20-46.78393302%5D%2C%20%5B-23.66455049%2C%20-46.4507605%5D%2C%20%5B-23.67025786%2C%20-46.71241129%5D%2C%20%5B-23.67025786%2C%20-46.71241129%5D%2C%20%5B-23.55850851%2C%20-46.61519738%5D%2C%20%5B-23.55850851%2C%20-46.61519738%5D%2C%20%5B-23.56598506%2C%20-46.66986448%5D%2C%20%5B-23.59342923%2C%20-46.43505189%5D%2C%20%5B-23.57267895%2C%20-46.56287441%5D%2C%20%5B-23.71286115%2C%20-46.78186771%5D%2C%20%5B-23.46903622%2C%20-46.68902319%5D%2C%20%5B-23.60815363%2C%20-46.56659522%5D%2C%20%5B-23.33450395%2C%20-46.72561127%5D%2C%20%5B-23.65712834%2C%20-46.70813141%5D%2C%20%5B-23.50408287%2C%20-46.44139709%5D%2C%20%5B-23.50695084%2C%20-46.47805384%5D%2C%20%5B-23.53703256%2C%20-46.53625277%5D%2C%20%5B-23.71286115%2C%20-46.78186771%5D%2C%20%5B-23.5539206%2C%20-46.36894795%5D%2C%20%5B-23.51284928%2C%20-46.70916707%5D%2C%20%5B-23.51678489%2C%20-46.49482766%5D%2C%20%5B-23.58221723%2C%20-46.6408979%5D%2C%20%5B-23.68074714%2C%20-46.45309065%5D%2C%20%5B-23.69888753%2C%20-46.53984443%5D%2C%20%5B-23.57530369%2C%20-46.50225298%5D%2C%20%5B-23.67331337%2C%20-46.6998079%5D%2C%20%5B-23.56130096%2C%20-46.65670576%5D%2C%20%5B-23.71286115%2C%20-46.78186771%5D%2C%20%5B-23.52355157%2C%20-46.65420856%5D%2C%20%5B-23.557489%2C%20-46.79910505%5D%2C%20%5B-23.71286115%2C%20-46.78186771%5D%2C%20%5B-23.57519565%2C%20-46.5463049%5D%2C%20%5B-23.57519565%2C%20-46.5463049%5D%2C%20%5B-23.67125697%2C%20-46.4668958%5D%2C%20%5B-23.63376374%2C%20-46.68833008%5D%2C%20%5B-23.57732595%2C%20-46.64975299%5D%2C%20%5B-23.55098392%2C%20-46.52768497%5D%2C%20%5B-23.53040627%2C%20-46.44444827%5D%2C%20%5B-23.48406342%2C%20-46.89547641%5D%2C%20%5B-23.56613029%2C%20-46.28448835%5D%2C%20%5B-23.54581848%2C%20-46.76182019%5D%2C%20%5B-23.72275322%2C%20-46.68792896%5D%2C%20%5B-23.68800908%2C%20-46.6252223%5D%2C%20%5B-23.4842854%2C%20-46.36141075%5D%2C%20%5B-23.54500015%2C%20-46.64356972%5D%2C%20%5B-23.57573958%2C%20-46.74102928%5D%2C%20%5B-23.5552872%2C%20-46.59204801%5D%2C%20%5B-23.7221482%2C%20-46.41838862%5D%2C%20%5B-23.71286115%2C%20-46.78186771%5D%2C%20%5B-23.57188265%2C%20-46.62530341%5D%2C%20%5B-23.54500015%2C%20-46.64356972%5D%2C%20%5B-23.71286115%2C%20-46.78186771%5D%2C%20%5B-23.52230056%2C%20-46.70404848%5D%2C%20%5B-23.71286115%2C%20-46.78186771%5D%2C%20%5B-23.71286115%2C%20-46.78186771%5D%2C%20%5B-23.66671376%2C%20-46.58304025%5D%2C%20%5B-23.71286115%2C%20-46.78186771%5D%2C%20%5B-23.52484885%2C%20-46.17349246%5D%2C%20%5B-23.55643087%2C%20-46.45344692%5D%2C%20%5B-23.55154184%2C%20-46.43660361%5D%2C%20%5B-23.5022072%2C%20-46.16272439%5D%2C%20%5B-23.71286115%2C%20-46.78186771%5D%2C%20%5B-23.25956759%2C%20-46.59024238%5D%2C%20%5B-23.49674621%2C%20-46.84215543%5D%2C%20%5B-23.3276564%2C%20-46.72423745%5D%2C%20%5B-23.5513611%2C%20-46.29024203%5D%2C%20%5B-23.65293119%2C%20-46.68857313%5D%2C%20%5B-23.49734633%2C%20-46.40557306%5D%2C%20%5B-23.45275208%2C%20-46.52033322%5D%2C%20%5B-23.71286115%2C%20-46.78186771%5D%2C%20%5B-23.63142221%2C%20-46.50520812%5D%2C%20%5B-23.46974693%2C%20-46.52759804%5D%2C%20%5B-23.49483863%2C%20-46.43800193%5D%2C%20%5B-23.65302159%2C%20-46.52794855%5D%2C%20%5B-23.71286115%2C%20-46.78186771%5D%2C%20%5B-23.58759324%2C%20-46.3037511%5D%2C%20%5B-23.49817714%2C%20-46.22492479%5D%2C%20%5B-23.53742178%2C%20-46.64306387%5D%2C%20%5B-23.53742178%2C%20-46.64306387%5D%2C%20%5B-23.54216099%2C%20-46.57621803%5D%2C%20%5B-23.54216099%2C%20-46.57621803%5D%2C%20%5B-23.40620075%2C%20-46.48623392%5D%2C%20%5B-23.40620075%2C%20-46.48623392%5D%2C%20%5B-23.40620075%2C%20-46.48623392%5D%2C%20%5B-23.57138972%2C%20-46.64431182%5D%2C%20%5B-23.50094592%2C%20-46.86811288%5D%2C%20%5B-23.50094592%2C%20-46.86811288%5D%2C%20%5B-23.54570508%2C%20-46.4478935%5D%2C%20%5B-23.50416211%2C%20-46.61328639%5D%2C%20%5B-23.71286115%2C%20-46.78186771%5D%2C%20%5B-23.4621613%2C%20-46.46746717%5D%2C%20%5B-23.59201465%2C%20-46.78558107%5D%2C%20%5B-23.71286115%2C%20-46.78186771%5D%2C%20%5B-23.54106564%2C%20-46.41197273%5D%2C%20%5B-23.51235749%2C%20-46.65343103%5D%2C%20%5B-23.6307113%2C%20-46.57368444%5D%2C%20%5B-23.83049666%2C%20-46.72661931%5D%2C%20%5B-23.66897934%2C%20-46.52471222%5D%2C%20%5B-23.53667159%2C%20-46.63040598%5D%2C%20%5B-23.51212675%2C%20-46.56669959%5D%2C%20%5B-23.71286115%2C%20-46.78186771%5D%2C%20%5B-23.53820466%2C%20-46.79147463%5D%2C%20%5B-23.50842368%2C%20-46.2978334%5D%2C%20%5B-23.50609533%2C%20-46.78904091%5D%2C%20%5B-23.69890005%2C%20-46.70091681%5D%2C%20%5B-23.51355151%2C%20-46.37290585%5D%2C%20%5B-23.4274447%2C%20-46.82665341%5D%2C%20%5B-23.59342923%2C%20-46.43505189%5D%2C%20%5B-23.64800126%2C%20-46.64017886%5D%2C%20%5B-23.56288062%2C%20-46.56026483%5D%2C%20%5B-23.54658511%2C%20-46.85951697%5D%2C%20%5B-23.55707841%2C%20-46.63304222%5D%2C%20%5B-23.71286115%2C%20-46.78186771%5D%2C%20%5B-23.67020833%2C%20-46.34774904%5D%2C%20%5B-23.72257491%2C%20-46.61313575%5D%2C%20%5B-23.67020833%2C%20-46.34774904%5D%2C%20%5B-23.71286115%2C%20-46.78186771%5D%2C%20%5B-23.71286115%2C%20-46.78186771%5D%2C%20%5B-23.71286115%2C%20-46.78186771%5D%2C%20%5B-23.61919918%2C%20-47.00308091%5D%2C%20%5B-23.6537568%2C%20-46.66228643%5D%2C%20%5B-23.52843165%2C%20-46.32629336%5D%2C%20%5B-23.52688779%2C%20-46.66593872%5D%2C%20%5B-23.67919254%2C%20-46.51207428%5D%2C%20%5B-23.53538388%2C%20-46.45086676%5D%2C%20%5B-23.47009294%2C%20-46.52967713%5D%2C%20%5B-23.54300291%2C%20-46.29148113%5D%2C%20%5B-23.6537568%2C%20-46.66228643%5D%2C%20%5B-23.71286115%2C%20-46.78186771%5D%2C%20%5B-23.71286115%2C%20-46.78186771%5D%2C%20%5B-23.71286115%2C%20-46.78186771%5D%2C%20%5B-23.5080535%2C%20-46.5356079%5D%2C%20%5B-23.65738453%2C%20-46.66766676%5D%2C%20%5B-23.64900729%2C%20-46.32963651%5D%2C%20%5B-23.50720125%2C%20-46.89567139%5D%2C%20%5B-23.46535684%2C%20-46.53034814%5D%2C%20%5B-23.5230012%2C%20-46.85433824%5D%2C%20%5B-23.71286115%2C%20-46.78186771%5D%2C%20%5B-23.55750645%2C%20-46.66781153%5D%2C%20%5B-23.4874078%2C%20-46.48203703%5D%2C%20%5B-23.71286115%2C%20-46.78186771%5D%2C%20%5B-23.55098392%2C%20-46.52768497%5D%2C%20%5B-23.51037237%2C%20-46.67659315%5D%2C%20%5B-23.5613275%2C%20-46.70528827%5D%2C%20%5B-23.67886993%2C%20-46.73643258%5D%2C%20%5B-23.71286115%2C%20-46.78186771%5D%2C%20%5B-23.66476682%2C%20-46.51540198%5D%2C%20%5B-23.71286115%2C%20-46.78186771%5D%2C%20%5B-23.71286115%2C%20-46.78186771%5D%2C%20%5B-23.63142221%2C%20-46.50520812%5D%2C%20%5B-23.56970133%2C%20-46.53843688%5D%2C%20%5B-23.54747451%2C%20-46.6414813%5D%2C%20%5B-23.55813896%2C%20-46.83197856%5D%2C%20%5B-23.50370044%2C%20-46.61513695%5D%2C%20%5B-23.50370044%2C%20-46.61513695%5D%2C%20%5B-23.52294559%2C%20-46.66132439%5D%2C%20%5B-23.54743255%2C%20-46.64559549%5D%2C%20%5B-23.65861688%2C%20-46.44299261%5D%2C%20%5B-23.56424493%2C%20-46.67779007%5D%2C%20%5B-23.69156951%2C%20-46.53809379%5D%2C%20%5B-23.53787398%2C%20-46.63597034%5D%2C%20%5B-23.43672518%2C%20-46.7403312%5D%2C%20%5B-23.53157877%2C%20-46.76695666%5D%2C%20%5B-23.71286115%2C%20-46.78186771%5D%2C%20%5B-23.45275208%2C%20-46.52033322%5D%2C%20%5B-23.45275208%2C%20-46.52033322%5D%2C%20%5B-23.71286115%2C%20-46.78186771%5D%2C%20%5B-23.45170982%2C%20-46.51240865%5D%2C%20%5B-23.71286115%2C%20-46.78186771%5D%2C%20%5B-23.61903076%2C%20-46.56577218%5D%2C%20%5B-23.54642047%2C%20-46.93490856%5D%2C%20%5B-23.55260331%2C%20-46.63784448%5D%2C%20%5B-23.71286115%2C%20-46.78186771%5D%2C%20%5B-23.2867413%2C%20-46.75329164%5D%2C%20%5B-23.2867413%2C%20-46.75329164%5D%2C%20%5B-23.71286115%2C%20-46.78186771%5D%2C%20%5B-23.71286115%2C%20-46.78186771%5D%2C%20%5B-23.45000662%2C%20-46.47391724%5D%2C%20%5B-23.71286115%2C%20-46.78186771%5D%2C%20%5B-23.71286115%2C%20-46.78186771%5D%2C%20%5B-23.59512114%2C%20-46.68231673%5D%2C%20%5B-23.71286115%2C%20-46.78186771%5D%2C%20%5B-23.52874206%2C%20-46.52469705%5D%2C%20%5B-23.71286115%2C%20-46.78186771%5D%2C%20%5B-23.71286115%2C%20-46.78186771%5D%2C%20%5B-23.58143802%2C%20-46.58522002%5D%2C%20%5B-23.71286115%2C%20-46.78186771%5D%2C%20%5B-23.55520738%2C%20-46.45358397%5D%2C%20%5B-23.71286115%2C%20-46.78186771%5D%2C%20%5B-23.71286115%2C%20-46.78186771%5D%2C%20%5B-23.54570508%2C%20-46.4478935%5D%2C%20%5B-23.50695084%2C%20-46.47805384%5D%2C%20%5B-23.71286115%2C%20-46.78186771%5D%2C%20%5B-23.56023488%2C%20-46.48902751%5D%2C%20%5B-23.49734633%2C%20-46.40557306%5D%2C%20%5B-23.56231831%2C%20-46.59960306%5D%2C%20%5B-23.64407579%2C%20-46.34960609%5D%2C%20%5B-23.71286115%2C%20-46.78186771%5D%2C%20%5B-23.50094592%2C%20-46.86811288%5D%2C%20%5B-23.58221723%2C%20-46.6408979%5D%2C%20%5B-23.52843165%2C%20-46.32629336%5D%2C%20%5B-23.53405765%2C%20-46.78330929%5D%2C%20%5B-23.49371192%2C%20-46.84724234%5D%2C%20%5B-23.54379412%2C%20-46.63578529%5D%2C%20%5B-23.50094592%2C%20-46.86811288%5D%2C%20%5B-23.53806098%2C%20-46.82766199%5D%2C%20%5B-23.71286115%2C%20-46.78186771%5D%2C%20%5B-23.56141782%2C%20-46.60256541%5D%2C%20%5B-23.68074714%2C%20-46.45309065%5D%2C%20%5B-23.53652522%2C%20-46.55549651%5D%2C%20%5B-23.53852422%2C%20-46.44990135%5D%2C%20%5B-23.69760748%2C%20-46.54020217%5D%2C%20%5B-23.71286115%2C%20-46.78186771%5D%2C%20%5B-23.6021739%2C%20-46.5756774%5D%2C%20%5B-23.52602348%2C%20-46.62437303%5D%2C%20%5B-23.5513611%2C%20-46.29024203%5D%2C%20%5B-23.71286115%2C%20-46.78186771%5D%2C%20%5B-23.49256382%2C%20-46.57416181%5D%2C%20%5B-23.59342923%2C%20-46.43505189%5D%2C%20%5B-23.56046908%2C%20-46.74721384%5D%2C%20%5B-23.65023769%2C%20-46.57350864%5D%2C%20%5B-23.65030738%2C%20-46.71889617%5D%2C%20%5B-23.71286115%2C%20-46.78186771%5D%2C%20%5B-23.71286115%2C%20-46.78186771%5D%2C%20%5B-23.71286115%2C%20-46.78186771%5D%2C%20%5B-23.71286115%2C%20-46.78186771%5D%2C%20%5B-23.50416211%2C%20-46.61328639%5D%2C%20%5B-23.83049666%2C%20-46.72661931%5D%2C%20%5B-23.54153842%2C%20-46.78459113%5D%2C%20%5B-23.57530738%2C%20-46.89294235%5D%2C%20%5B-23.60767552%2C%20-46.56915571%5D%2C%20%5B-23.68111745%2C%20-46.7149589%5D%2C%20%5B-23.64849995%2C%20-46.58815292%5D%2C%20%5B-23.71286115%2C%20-46.78186771%5D%2C%20%5B-23.71286115%2C%20-46.78186771%5D%2C%20%5B-23.71286115%2C%20-46.78186771%5D%2C%20%5B-23.53667159%2C%20-46.63040598%5D%2C%20%5B-23.54138315%2C%20-46.62994166%5D%2C%20%5B-23.56761419%2C%20-46.75216129%5D%2C%20%5B-23.49956533%2C%20-46.84510034%5D%2C%20%5B-23.71286115%2C%20-46.78186771%5D%2C%20%5B-23.71286115%2C%20-46.78186771%5D%2C%20%5B-23.54938522%2C%20-46.63325723%5D%2C%20%5B-23.66270233%2C%20-46.67287685%5D%2C%20%5B-23.69890005%2C%20-46.70091681%5D%2C%20%5B-23.69890005%2C%20-46.70091681%5D%2C%20%5B-23.63478797%2C%20-46.64575904%5D%2C%20%5B-23.49342408%2C%20-46.67390204%5D%2C%20%5B-23.48525666%2C%20-46.76435926%5D%2C%20%5B-23.48525666%2C%20-46.76435926%5D%2C%20%5B-23.56390721%2C%20-46.7996692%5D%2C%20%5B-23.5719715%2C%20-46.70346969%5D%2C%20%5B-23.54709711%2C%20-46.23259228%5D%2C%20%5B-23.71286115%2C%20-46.78186771%5D%2C%20%5B-23.71286115%2C%20-46.78186771%5D%2C%20%5B-23.5111319%2C%20-46.87601158%5D%2C%20%5B-23.52121927%2C%20-46.79016356%5D%2C%20%5B-23.52768726%2C%20-46.83882142%5D%2C%20%5B-23.71286115%2C%20-46.78186771%5D%2C%20%5B-23.71286115%2C%20-46.78186771%5D%2C%20%5B-23.74407476%2C%20-46.79153823%5D%2C%20%5B-23.51798064%2C%20-45.83589789%5D%2C%20%5B-23.50167016%2C%20-46.37303468%5D%2C%20%5B-23.66671376%2C%20-46.58304025%5D%2C%20%5B-23.52502865%2C%20-46.68755075%5D%2C%20%5B-23.71286115%2C%20-46.78186771%5D%2C%20%5B-23.71286115%2C%20-46.78186771%5D%2C%20%5B-23.48937986%2C%20-46.60910007%5D%2C%20%5B-23.51542467%2C%20-46.64329027%5D%2C%20%5B-23.61636237%2C%20-46.56871207%5D%2C%20%5B-23.71286115%2C%20-46.78186771%5D%2C%20%5B-23.5484801%2C%20-46.84463943%5D%2C%20%5B-23.71286115%2C%20-46.78186771%5D%2C%20%5B-23.71286115%2C%20-46.78186771%5D%2C%20%5B-23.28331032%2C%20-46.74304735%5D%2C%20%5B-23.54187024%2C%20-46.57933063%5D%2C%20%5B-23.54747451%2C%20-46.6414813%5D%2C%20%5B-23.56688305%2C%20-46.6714047%5D%2C%20%5B-23.57138972%2C%20-46.64431182%5D%2C%20%5B-23.77879958%2C%20-46.59960179%5D%2C%20%5B-23.31156734%2C%20-46.63615192%5D%2C%20%5B-23.71286115%2C%20-46.78186771%5D%2C%20%5B-23.71286115%2C%20-46.78186771%5D%2C%20%5B-23.48901734%2C%20-46.67572052%5D%2C%20%5B-23.62769161%2C%20-46.78223825%5D%2C%20%5B-23.71286115%2C%20-46.78186771%5D%2C%20%5B-23.48615186%2C%20-46.66201641%5D%2C%20%5B-23.56223613%2C%20-46.58207376%5D%2C%20%5B-23.50720125%2C%20-46.89567139%5D%2C%20%5B-23.46234672%2C%20-46.33413625%5D%2C%20%5B-23.49529423%2C%20-46.85000726%5D%2C%20%5B-23.72236539%2C%20-46.61417721%5D%2C%20%5B-23.72236539%2C%20-46.61417721%5D%2C%20%5B-23.60953594%2C%20-46.57030203%5D%2C%20%5B-23.45000662%2C%20-46.47391724%5D%2C%20%5B-23.71286115%2C%20-46.78186771%5D%2C%20%5B-23.51804953%2C%20-46.29832331%5D%2C%20%5B-23.56292609%2C%20-46.51810731%5D%2C%20%5B-23.44625243%2C%20-46.53694844%5D%2C%20%5B-23.56441521%2C%20-46.33631027%5D%2C%20%5B-23.71286115%2C%20-46.78186771%5D%2C%20%5B-23.71286115%2C%20-46.78186771%5D%2C%20%5B-23.53973947%2C%20-46.4860493%5D%2C%20%5B-23.71286115%2C%20-46.78186771%5D%2C%20%5B-23.71286115%2C%20-46.78186771%5D%2C%20%5B-23.51093456%2C%20-46.57397538%5D%2C%20%5B-23.54064075%2C%20-46.64338232%5D%2C%20%5B-23.55345747%2C%20-46.66016649%5D%2C%20%5B-23.59640876%2C%20-46.45588609%5D%2C%20%5B-23.59640876%2C%20-46.45588609%5D%2C%20%5B-23.57519565%2C%20-46.5463049%5D%2C%20%5B-23.71286115%2C%20-46.78186771%5D%2C%20%5B-23.61978556%2C%20-46.70244372%5D%2C%20%5B-23.74647151%2C%20-46.79448055%5D%2C%20%5B-23.54285386%2C%20-46.77488587%5D%2C%20%5B-23.53622089%2C%20-46.58710552%5D%2C%20%5B-23.49623586%2C%20-46.8452356%5D%2C%20%5B-23.66564006%2C%20-46.67050291%5D%2C%20%5B-23.6071256%2C%20-46.56659525%5D%2C%20%5B-23.57757869%2C%20-46.68178963%5D%2C%20%5B-23.51048835%2C%20-46.69000881%5D%2C%20%5B-23.5015776%2C%20-46.69511235%5D%2C%20%5B-23.71286115%2C%20-46.78186771%5D%2C%20%5B-23.48354377%2C%20-46.7225994%5D%2C%20%5B-23.40658067%2C%20-47.00734865%5D%2C%20%5B-23.61636237%2C%20-46.56871207%5D%2C%20%5B-23.71286115%2C%20-46.78186771%5D%2C%20%5B-23.71286115%2C%20-46.78186771%5D%2C%20%5B-23.3935061%2C%20-46.43803109%5D%2C%20%5B-23.71286115%2C%20-46.78186771%5D%2C%20%5B-23.56520132%2C%20-46.79967991%5D%2C%20%5B-23.54828164%2C%20-45.96350265%5D%2C%20%5B-23.71286115%2C%20-46.78186771%5D%2C%20%5B-23.55785182%2C%20-46.5741099%5D%2C%20%5B-23.71286115%2C%20-46.78186771%5D%2C%20%5B-23.57519736%2C%20-46.89205567%5D%2C%20%5B-23.41199326%2C%20-46.75092639%5D%2C%20%5B-23.50609533%2C%20-46.78904091%5D%2C%20%5B-23.58175286%2C%20-46.63332034%5D%2C%20%5B-23.57138972%2C%20-46.64431182%5D%2C%20%5B-23.64978564%2C%20-46.56775324%5D%2C%20%5B-23.71286115%2C%20-46.78186771%5D%2C%20%5B-23.50002557%2C%20-46.85314136%5D%2C%20%5B-23.5535957%2C%20-46.62191598%5D%2C%20%5B-23.49635389%2C%20-46.61572151%5D%2C%20%5B-23.54500015%2C%20-46.64356972%5D%2C%20%5B-23.54999016%2C%20-46.64620083%5D%2C%20%5B-23.6902539%2C%20-46.69774167%5D%2C%20%5B-23.60675701%2C%20-46.56915886%5D%2C%20%5B-23.25956759%2C%20-46.59024238%5D%2C%20%5B-23.61992311%2C%20-46.45711614%5D%2C%20%5B-23.59522839%2C%20-46.78900938%5D%2C%20%5B-23.5227408%2C%20-46.53181167%5D%2C%20%5B-23.68224436%2C%20-46.4666598%5D%2C%20%5B-23.66726675%2C%20-46.57711493%5D%2C%20%5B-23.63995829%2C%20-46.82047631%5D%2C%20%5B-23.53143753%2C%20-46.82205595%5D%2C%20%5B-23.53037695%2C%20-46.64702931%5D%2C%20%5B-23.71286115%2C%20-46.78186771%5D%2C%20%5B-23.59474353%2C%20-46.76730079%5D%2C%20%5B-23.46794237%2C%20-46.72437041%5D%2C%20%5B-23.71286115%2C%20-46.78186771%5D%2C%20%5B-23.58703182%2C%20-46.55303173%5D%2C%20%5B-23.55208419%2C%20-46.67951836%5D%2C%20%5B-23.62185973%2C%20-46.69394106%5D%2C%20%5B-23.65240115%2C%20-46.70581291%5D%2C%20%5B-23.56338585%2C%20-46.64102307%5D%2C%20%5B-23.56338585%2C%20-46.64102307%5D%2C%20%5B-23.57138972%2C%20-46.64431182%5D%2C%20%5B-23.56991489%2C%20-46.55955382%5D%2C%20%5B-23.5716905%2C%20-46.64892231%5D%2C%20%5B-23.45744361%2C%20-46.58533373%5D%2C%20%5B-23.43153227%2C%20-46.50319975%5D%2C%20%5B-23.55034025%2C%20-46.65466824%5D%2C%20%5B-23.71286115%2C%20-46.78186771%5D%2C%20%5B-23.31156734%2C%20-46.63615192%5D%2C%20%5B-23.71286115%2C%20-46.78186771%5D%2C%20%5B-23.71286115%2C%20-46.78186771%5D%2C%20%5B-23.71286115%2C%20-46.78186771%5D%2C%20%5B-23.51542467%2C%20-46.64329027%5D%2C%20%5B-23.5741874%2C%20-46.03845815%5D%2C%20%5B-23.71286115%2C%20-46.78186771%5D%2C%20%5B-23.53860314%2C%20-46.64694823%5D%2C%20%5B-23.63346974%2C%20-46.71500126%5D%2C%20%5B-23.56850125%2C%20-46.79062771%5D%2C%20%5B-23.71286115%2C%20-46.78186771%5D%2C%20%5B-23.74224823%2C%20-46.59860682%5D%2C%20%5B-23.55850851%2C%20-46.61519738%5D%2C%20%5B-23.55260331%2C%20-46.63784448%5D%2C%20%5B-23.71286115%2C%20-46.78186771%5D%2C%20%5B-23.53928059%2C%20-46.17644514%5D%2C%20%5B-23.71286115%2C%20-46.78186771%5D%2C%20%5B-23.51877644%2C%20-46.70325076%5D%2C%20%5B-23.46445845%2C%20-46.53105626%5D%2C%20%5B-23.53185005%2C%20-46.3750193%5D%2C%20%5B-23.53185005%2C%20-46.3750193%5D%2C%20%5B-23.74635132%2C%20-46.39920928%5D%2C%20%5B-23.5657636%2C%20-46.64786653%5D%2C%20%5B-23.43996421%2C%20-46.59202899%5D%2C%20%5B-23.51973886%2C%20-46.54656106%5D%2C%20%5B-23.71286115%2C%20-46.78186771%5D%2C%20%5B-23.71286115%2C%20-46.78186771%5D%2C%20%5B-23.54573665%2C%20-46.233789%5D%2C%20%5B-23.71286115%2C%20-46.78186771%5D%2C%20%5B-23.71286115%2C%20-46.78186771%5D%2C%20%5B-23.63937725%2C%20-46.60556514%5D%2C%20%5B-23.57043744%2C%20-46.65179891%5D%2C%20%5B-23.71286115%2C%20-46.78186771%5D%2C%20%5B-23.63221592%2C%20-46.7501265%5D%2C%20%5B-23.57858787%2C%20-46.64557387%5D%2C%20%5B-23.71286115%2C%20-46.78186771%5D%2C%20%5B-23.71286115%2C%20-46.78186771%5D%2C%20%5B-23.71286115%2C%20-46.78186771%5D%2C%20%5B-23.50711552%2C%20-46.28485806%5D%2C%20%5B-23.74722023%2C%20-46.79437262%5D%2C%20%5B-23.5144378%2C%20-46.41491708%5D%2C%20%5B-23.69569651%2C%20-46.493233%5D%2C%20%5B-23.5133712%2C%20-46.77929877%5D%2C%20%5B-23.43911595%2C%20-46.46695116%5D%2C%20%5B-23.54953422%2C%20-46.63008811%5D%2C%20%5B-23.59209477%2C%20-46.31604436%5D%2C%20%5B-23.73082331%2C%20-46.6986338%5D%2C%20%5B-23.53092333%2C%20-46.5045337%5D%2C%20%5B-23.72414086%2C%20-46.58852055%5D%2C%20%5B-23.52079216%2C%20-46.78332775%5D%2C%20%5B-23.71286115%2C%20-46.78186771%5D%2C%20%5B-23.71286115%2C%20-46.78186771%5D%2C%20%5B-23.45538683%2C%20-46.00905871%5D%2C%20%5B-23.67746608%2C%20-46.5797111%5D%2C%20%5B-23.67746608%2C%20-46.5797111%5D%2C%20%5B-23.67746608%2C%20-46.5797111%5D%2C%20%5B-23.67746608%2C%20-46.5797111%5D%2C%20%5B-23.47373266%2C%20-46.35106883%5D%2C%20%5B-23.55670274%2C%20-46.46182831%5D%2C%20%5B-23.57898783%2C%20-46.54083878%5D%2C%20%5B-23.58472774%2C%20-46.72733798%5D%2C%20%5B-23.71286115%2C%20-46.78186771%5D%2C%20%5B-23.71286115%2C%20-46.78186771%5D%2C%20%5B-23.45706561%2C%20-46.47110891%5D%2C%20%5B-23.42949439%2C%20-46.502633%5D%2C%20%5B-23.54021317%2C%20-46.30601445%5D%2C%20%5B-23.49434164%2C%20-46.46450614%5D%2C%20%5B-23.45850683%2C%20-46.34715702%5D%2C%20%5B-23.5629847%2C%20-46.78354335%5D%2C%20%5B-23.71286115%2C%20-46.78186771%5D%2C%20%5B-23.4298867%2C%20-46.71641983%5D%2C%20%5B-23.63956685%2C%20-46.28296396%5D%2C%20%5B-23.4928354%2C%20-46.32543753%5D%2C%20%5B-23.63674314%2C%20-46.57995042%5D%2C%20%5B-23.71286115%2C%20-46.78186771%5D%2C%20%5B-23.57519736%2C%20-46.89205567%5D%2C%20%5B-23.59093471%2C%20-46.81477197%5D%2C%20%5B-23.71286115%2C%20-46.78186771%5D%2C%20%5B-23.5197326%2C%20-46.53391846%5D%2C%20%5B-23.6377193%2C%20-46.75488974%5D%2C%20%5B-23.53738456%2C%20-46.65128156%5D%2C%20%5B-23.46535684%2C%20-46.53034814%5D%2C%20%5B-23.5230012%2C%20-46.85433824%5D%2C%20%5B-23.71286115%2C%20-46.78186771%5D%2C%20%5B-23.58221723%2C%20-46.6408979%5D%2C%20%5B-23.55855352%2C%20-46.51381005%5D%2C%20%5B-23.55855352%2C%20-46.51381005%5D%2C%20%5B-23.55855352%2C%20-46.51381005%5D%2C%20%5B-23.71286115%2C%20-46.78186771%5D%2C%20%5B-23.49635389%2C%20-46.61572151%5D%2C%20%5B-23.48913411%2C%20-46.45520922%5D%2C%20%5B-23.59732221%2C%20-46.55847847%5D%2C%20%5B-23.63956685%2C%20-46.28296396%5D%2C%20%5B-23.47990636%2C%20-46.56669411%5D%2C%20%5B-23.51858156%2C%20-46.7033183%5D%2C%20%5B-23.51841534%2C%20-46.58839989%5D%2C%20%5B-23.57345301%2C%20-46.58814885%5D%2C%20%5B-23.58551804%2C%20-46.54060177%5D%2C%20%5B-23.33534787%2C%20-46.7236177%5D%2C%20%5B-23.54361376%2C%20-46.67660906%5D%2C%20%5B-23.59800963%2C%20-46.737515%5D%2C%20%5B-23.52975331%2C%20-46.6582259%5D%2C%20%5B-23.71286115%2C%20-46.78186771%5D%2C%20%5B-23.71286115%2C%20-46.78186771%5D%2C%20%5B-23.5360491%2C%20-46.65069207%5D%2C%20%5B-23.51409302%2C%20-46.60825896%5D%2C%20%5B-23.53277355%2C%20-46.61843165%5D%2C%20%5B-23.60246094%2C%20-46.68467729%5D%2C%20%5B-23.70383161%2C%20-46.70098975%5D%2C%20%5B-23.68133992%2C%20-46.70360022%5D%2C%20%5B-23.51542467%2C%20-46.64329027%5D%2C%20%5B-23.66790196%2C%20-46.53099027%5D%2C%20%5B-23.55635938%2C%20-46.66388471%5D%2C%20%5B-23.70342792%2C%20-46.55157992%5D%2C%20%5B-23.71560006%2C%20-46.53080305%5D%2C%20%5B-23.56478194%2C%20-46.47166935%5D%2C%20%5B-23.71286115%2C%20-46.78186771%5D%2C%20%5B-23.56910943%2C%20-46.29302629%5D%2C%20%5B-23.82775601%2C%20-46.73024965%5D%2C%20%5B-23.54500015%2C%20-46.64356972%5D%2C%20%5B-23.53685924%2C%20-46.45394801%5D%2C%20%5B-23.55718253%2C%20-46.6100901%5D%2C%20%5B-23.52766239%2C%20-46.8052168%5D%2C%20%5B-23.71286115%2C%20-46.78186771%5D%2C%20%5B-23.53500909%2C%20-46.6089057%5D%2C%20%5B-23.58703182%2C%20-46.55303173%5D%2C%20%5B-23.46535675%2C%20-46.53034814%5D%2C%20%5B-23.52380187%2C%20-46.7796717%5D%2C%20%5B-23.52380187%2C%20-46.7796717%5D%2C%20%5B-23.63804878%2C%20-46.64182351%5D%2C%20%5B-23.56431614%2C%20-46.41344989%5D%2C%20%5B-23.71286115%2C%20-46.78186771%5D%2C%20%5B-23.71286115%2C%20-46.78186771%5D%2C%20%5B-23.51877644%2C%20-46.70325076%5D%2C%20%5B-23.57281255%2C%20-46.70487162%5D%2C%20%5B-23.58233946%2C%20-46.8012423%5D%2C%20%5B-23.49271579%2C%20-46.60137417%5D%2C%20%5B-23.4621613%2C%20-46.46746717%5D%2C%20%5B-23.55549421%2C%20-46.44506072%5D%2C%20%5B-23.77879958%2C%20-46.59960179%5D%2C%20%5B-23.55950953%2C%20-46.59300442%5D%2C%20%5B-23.40667709%2C%20-46.76449003%5D%2C%20%5B-23.71286115%2C%20-46.78186771%5D%2C%20%5B-23.47813697%2C%20-46.35340105%5D%2C%20%5B-23.66589976%2C%20-46.56895351%5D%2C%20%5B-23.46795221%2C%20-46.50952234%5D%2C%20%5B-23.53193287%2C%20-46.66384664%5D%2C%20%5B-23.58532683%2C%20-46.6708191%5D%2C%20%5B-23.71286115%2C%20-46.78186771%5D%2C%20%5B-23.4941423%2C%20-46.30672016%5D%2C%20%5B-23.71286115%2C%20-46.78186771%5D%2C%20%5B-23.51615087%2C%20-46.37494531%5D%2C%20%5B-23.71286115%2C%20-46.78186771%5D%2C%20%5B-23.61992311%2C%20-46.45711614%5D%2C%20%5B-23.56338585%2C%20-46.64102307%5D%2C%20%5B-23.71286115%2C%20-46.78186771%5D%2C%20%5B-23.53409558%2C%20-46.64130719%5D%2C%20%5B-23.59282471%2C%20-46.80662548%5D%2C%20%5B-23.72195352%2C%20-46.69115548%5D%2C%20%5B-23.71286115%2C%20-46.78186771%5D%2C%20%5B-23.71286115%2C%20-46.78186771%5D%2C%20%5B-23.71286115%2C%20-46.78186771%5D%2C%20%5B-23.54398268%2C%20-46.4219843%5D%2C%20%5B-23.71286115%2C%20-46.78186771%5D%2C%20%5B-23.55863175%2C%20-46.52167403%5D%2C%20%5B-23.57182014%2C%20-46.85269467%5D%2C%20%5B-23.5153183%2C%20-46.46379353%5D%2C%20%5B-23.682441%2C%20-46.52198674%5D%2C%20%5B-23.40251583%2C%20-46.51389977%5D%2C%20%5B-23.71286115%2C%20-46.78186771%5D%2C%20%5B-23.51789482%2C%20-46.58518475%5D%2C%20%5B-23.77783885%2C%20-46.5303621%5D%2C%20%5B-23.50003285%2C%20-46.15860703%5D%2C%20%5B-23.51314539%2C%20-46.75839152%5D%2C%20%5B-23.71286115%2C%20-46.78186771%5D%2C%20%5B-23.53749238%2C%20-46.90427698%5D%2C%20%5B-23.51697426%2C%20-46.78366124%5D%2C%20%5B-23.57048947%2C%20-46.5499968%5D%2C%20%5B-23.51927317%2C%20-46.70286576%5D%2C%20%5B-23.55447545%2C%20-46.6109072%5D%2C%20%5B-23.71286115%2C%20-46.78186771%5D%2C%20%5B-23.53516401%2C%20-46.62145268%5D%2C%20%5B-23.71286115%2C%20-46.78186771%5D%2C%20%5B-23.51542467%2C%20-46.64329027%5D%2C%20%5B-23.65712834%2C%20-46.70813141%5D%2C%20%5B-23.757423%2C%20-46.80820913%5D%2C%20%5B-23.44687799%2C%20-46.32538447%5D%2C%20%5B-23.53538388%2C%20-46.45086676%5D%2C%20%5B-23.59166183%2C%20-46.34207415%5D%2C%20%5B-23.71286115%2C%20-46.78186771%5D%2C%20%5B-23.55140826%2C%20-46.64779491%5D%2C%20%5B-23.67124853%2C%20-46.71230034%5D%2C%20%5B-23.71286115%2C%20-46.78186771%5D%2C%20%5B-23.53200988%2C%20-46.64196621%5D%2C%20%5B-23.71286115%2C%20-46.78186771%5D%2C%20%5B-23.71286115%2C%20-46.78186771%5D%2C%20%5B-23.5382761%2C%20-46.63101413%5D%2C%20%5B-23.66641435%2C%20-46.31373055%5D%2C%20%5B-23.71286115%2C%20-46.78186771%5D%2C%20%5B-23.71286115%2C%20-46.78186771%5D%2C%20%5B-23.52688779%2C%20-46.66593872%5D%2C%20%5B-23.66863439%2C%20-46.33004726%5D%2C%20%5B-23.54953422%2C%20-46.63008811%5D%2C%20%5B-23.55362523%2C%20-46.6351214%5D%2C%20%5B-23.50228263%2C%20-46.16242107%5D%2C%20%5B-23.74092067%2C%20-46.79853075%5D%2C%20%5B-23.56938214%2C%20-46.757941%5D%2C%20%5B-23.57320855%2C%20-46.70550272%5D%2C%20%5B-23.51206729%2C%20-45.83100929%5D%2C%20%5B-23.57453667%2C%20-46.53916838%5D%2C%20%5B-23.2792536%2C%20-46.74357173%5D%2C%20%5B-23.53772492%2C%20-46.34597097%5D%2C%20%5B-23.47069024%2C%20-46.63699623%5D%2C%20%5B-23.57519736%2C%20-46.89205567%5D%2C%20%5B-23.49284026%2C%20-46.57401934%5D%2C%20%5B-23.71286115%2C%20-46.78186771%5D%2C%20%5B-23.55098392%2C%20-46.52768497%5D%2C%20%5B-23.51717814%2C%20-46.43867941%5D%2C%20%5B-23.28093623%2C%20-46.74312166%5D%2C%20%5B-23.43432856%2C%20-46.50869489%5D%2C%20%5B-23.49303072%2C%20-46.8802354%5D%2C%20%5B-23.56708156%2C%20-46.80318729%5D%2C%20%5B-23.74722023%2C%20-46.79437262%5D%2C%20%5B-23.71286115%2C%20-46.78186771%5D%2C%20%5B-23.62429019%2C%20-46.51153215%5D%2C%20%5B-23.56478194%2C%20-46.47166935%5D%2C%20%5B-23.71286115%2C%20-46.78186771%5D%2C%20%5B-23.71286115%2C%20-46.78186771%5D%2C%20%5B-23.48549968%2C%20-46.55454351%5D%2C%20%5B-23.5240058%2C%20-46.19460355%5D%2C%20%5B-23.58100615%2C%20-46.51843494%5D%2C%20%5B-23.5365001%2C%20-46.36527484%5D%2C%20%5B-23.56027478%2C%20-46.64129386%5D%2C%20%5B-23.67181198%2C%20-46.5366652%5D%2C%20%5B-23.63729501%2C%20-46.56487728%5D%2C%20%5B-23.63729501%2C%20-46.56487728%5D%2C%20%5B-23.71286115%2C%20-46.78186771%5D%2C%20%5B-23.59078687%2C%20-46.51308004%5D%2C%20%5B-23.59326144%2C%20-46.79593249%5D%2C%20%5B-23.55998766%2C%20-46.48915189%5D%2C%20%5B-23.71286115%2C%20-46.78186771%5D%2C%20%5B-23.50594973%2C%20-46.45693179%5D%2C%20%5B-23.51294757%2C%20-46.60417975%5D%2C%20%5B-23.57281255%2C%20-46.70487162%5D%2C%20%5B-23.45779169%2C%20-46.47107072%5D%2C%20%5B-23.71286115%2C%20-46.78186771%5D%2C%20%5B-23.5230012%2C%20-46.85433824%5D%2C%20%5B-23.71286115%2C%20-46.78186771%5D%2C%20%5B-23.71286115%2C%20-46.78186771%5D%2C%20%5B-23.5358727%2C%20-46.5726194%5D%2C%20%5B-23.54979374%2C%20-46.42584845%5D%2C%20%5B-23.517135%2C%20-46.86726314%5D%2C%20%5B-23.517135%2C%20-46.86726314%5D%2C%20%5B-23.49713413%2C%20-46.77099411%5D%2C%20%5B-23.71286115%2C%20-46.78186771%5D%2C%20%5B-23.71286115%2C%20-46.78186771%5D%2C%20%5B-23.47777662%2C%20-46.59970826%5D%2C%20%5B-23.55718253%2C%20-46.6100901%5D%2C%20%5B-23.66755242%2C%20-46.58902631%5D%2C%20%5B-23.45270967%2C%20-46.46754456%5D%2C%20%5B-23.57660462%2C%20-46.72734682%5D%2C%20%5B-23.71286115%2C%20-46.78186771%5D%2C%20%5B-23.67303187%2C%20-46.67753688%5D%2C%20%5B-23.71286115%2C%20-46.78186771%5D%2C%20%5B-23.71286115%2C%20-46.78186771%5D%2C%20%5B-23.5305835%2C%20-46.51738325%5D%2C%20%5B-23.71957859%2C%20-46.5494153%5D%2C%20%5B-23.55194031%2C%20-46.62355578%5D%2C%20%5B-23.60619089%2C%20-46.5638398%5D%2C%20%5B-23.46375593%2C%20-46.52711442%5D%2C%20%5B-23.49101512%2C%20-46.77036778%5D%2C%20%5B-23.5230012%2C%20-46.85433824%5D%2C%20%5B-23.5078246%2C%20-46.49154895%5D%2C%20%5B-23.71286115%2C%20-46.78186771%5D%2C%20%5B-23.71286115%2C%20-46.78186771%5D%2C%20%5B-23.70084023%2C%20-46.55121877%5D%2C%20%5B-23.4621613%2C%20-46.46746717%5D%2C%20%5B-23.59282471%2C%20-46.80662548%5D%2C%20%5B-23.71286115%2C%20-46.78186771%5D%2C%20%5B-23.71286115%2C%20-46.78186771%5D%2C%20%5B-23.71286115%2C%20-46.78186771%5D%2C%20%5B-23.71286115%2C%20-46.78186771%5D%2C%20%5B-23.71286115%2C%20-46.78186771%5D%2C%20%5B-23.71286115%2C%20-46.78186771%5D%2C%20%5B-23.71286115%2C%20-46.78186771%5D%2C%20%5B-23.71286115%2C%20-46.78186771%5D%2C%20%5B-23.71286115%2C%20-46.78186771%5D%2C%20%5B-23.71286115%2C%20-46.78186771%5D%2C%20%5B-23.71286115%2C%20-46.78186771%5D%2C%20%5B-23.71286115%2C%20-46.78186771%5D%2C%20%5B-23.71286115%2C%20-46.78186771%5D%2C%20%5B-23.71286115%2C%20-46.78186771%5D%2C%20%5B-23.64237447%2C%20-46.81096523%5D%2C%20%5B-23.54978655%2C%20-46.61169582%5D%2C%20%5B-23.54978655%2C%20-46.61169582%5D%2C%20%5B-23.52648671%2C%20-46.85169418%5D%2C%20%5B-23.64237447%2C%20-46.81096523%5D%2C%20%5B-23.71286115%2C%20-46.78186771%5D%2C%20%5B-23.71286115%2C%20-46.78186771%5D%2C%20%5B-23.54978655%2C%20-46.61169582%5D%2C%20%5B-23.5349428%2C%20-46.66250591%5D%2C%20%5B-23.71286115%2C%20-46.78186771%5D%2C%20%5B-23.71286115%2C%20-46.78186771%5D%2C%20%5B-23.71286115%2C%20-46.78186771%5D%2C%20%5B-23.71286115%2C%20-46.78186771%5D%2C%20%5B-23.64237447%2C%20-46.81096523%5D%2C%20%5B-23.63564476%2C%20-46.82310559%5D%2C%20%5B-23.71286115%2C%20-46.78186771%5D%2C%20%5B-23.71286115%2C%20-46.78186771%5D%2C%20%5B-23.71286115%2C%20-46.78186771%5D%2C%20%5B-23.53511909%2C%20-46.64350696%5D%2C%20%5B-23.40064069%2C%20-47.00682905%5D%2C%20%5B-23.51754233%2C%20-46.61716615%5D%2C%20%5B-23.65293119%2C%20-46.68857313%5D%2C%20%5B-23.53165094%2C%20-46.61062614%5D%2C%20%5B-23.71286115%2C%20-46.78186771%5D%2C%20%5B-23.71286115%2C%20-46.78186771%5D%2C%20%5B-23.71286115%2C%20-46.78186771%5D%2C%20%5B-23.71286115%2C%20-46.78186771%5D%2C%20%5B-23.45758039%2C%20-46.47460364%5D%2C%20%5B-23.71286115%2C%20-46.78186771%5D%2C%20%5B-23.54721432%2C%20-46.87091273%5D%2C%20%5B-23.56422491%2C%20-46.62218211%5D%2C%20%5B-23.51372335%2C%20-46.69928684%5D%2C%20%5B-23.51372335%2C%20-46.69928684%5D%2C%20%5B-23.71286115%2C%20-46.78186771%5D%2C%20%5B-23.55201458%2C%20-46.64505411%5D%2C%20%5B-23.71286115%2C%20-46.78186771%5D%2C%20%5B-23.52453737%2C%20-46.77251674%5D%2C%20%5B-23.54169253%2C%20-46.62635169%5D%2C%20%5B-23.71286115%2C%20-46.78186771%5D%2C%20%5B-23.71286115%2C%20-46.78186771%5D%2C%20%5B-23.51372335%2C%20-46.69928684%5D%2C%20%5B-23.60469%2C%20-46.5959162%5D%2C%20%5B-23.71286115%2C%20-46.78186771%5D%2C%20%5B-23.54216213%2C%20-46.64067057%5D%2C%20%5B-23.63564476%2C%20-46.82310559%5D%2C%20%5B-23.71286115%2C%20-46.78186771%5D%2C%20%5B-23.53939636%2C%20-46.64274278%5D%2C%20%5B-23.71286115%2C%20-46.78186771%5D%2C%20%5B-23.5458931%2C%20-46.64668982%5D%2C%20%5B-23.71286115%2C%20-46.78186771%5D%2C%20%5B-23.5802625%2C%20-46.66006929%5D%2C%20%5B-23.54216213%2C%20-46.64067057%5D%2C%20%5B-23.52005437%2C%20-46.78100414%5D%2C%20%5B-23.71286115%2C%20-46.78186771%5D%2C%20%5B-23.51645479%2C%20-46.7227687%5D%2C%20%5B-23.6084246%2C%20-46.57956989%5D%2C%20%5B-23.71286115%2C%20-46.78186771%5D%2C%20%5B-23.52443579%2C%20-46.61145012%5D%2C%20%5B-23.51645479%2C%20-46.7227687%5D%2C%20%5B-23.51645479%2C%20-46.7227687%5D%2C%20%5B-23.71286115%2C%20-46.78186771%5D%2C%20%5B-23.71286115%2C%20-46.78186771%5D%2C%20%5B-23.61601712%2C%20-46.67603614%5D%2C%20%5B-23.71286115%2C%20-46.78186771%5D%2C%20%5B-23.54709711%2C%20-46.23259228%5D%2C%20%5B-23.71286115%2C%20-46.78186771%5D%2C%20%5B-23.52051326%2C%20-46.44532955%5D%2C%20%5B-23.71286115%2C%20-46.78186771%5D%2C%20%5B-23.71286115%2C%20-46.78186771%5D%2C%20%5B-23.71286115%2C%20-46.78186771%5D%2C%20%5B-23.60533129%2C%20-46.67541736%5D%2C%20%5B-23.68126777%2C%20-46.57341567%5D%2C%20%5B-23.54970025%2C%20-46.64043459%5D%2C%20%5B-23.70102094%2C%20-46.80257719%5D%2C%20%5B-23.43712161%2C%20-46.32059425%5D%2C%20%5B-23.70102094%2C%20-46.80257719%5D%2C%20%5B-23.51645479%2C%20-46.7227687%5D%2C%20%5B-23.53593627%2C%20-46.63771344%5D%2C%20%5B-23.55253902%2C%20-46.6313419%5D%2C%20%5B-23.68126777%2C%20-46.57341567%5D%2C%20%5B-23.39345735%2C%20-46.31981546%5D%2C%20%5B-23.71286115%2C%20-46.78186771%5D%2C%20%5B-23.55124726%2C%20-46.64173744%5D%2C%20%5B-23.71286115%2C%20-46.78186771%5D%2C%20%5B-23.49864082%2C%20-46.55578283%5D%2C%20%5B-23.53561672%2C%20-46.40223023%5D%2C%20%5B-23.53593627%2C%20-46.63771344%5D%2C%20%5B-23.55253902%2C%20-46.6313419%5D%2C%20%5B-23.51372335%2C%20-46.69928684%5D%2C%20%5B-23.60126394%2C%20-46.79749912%5D%2C%20%5B-23.55762344%2C%20-46.54456799%5D%2C%20%5B-23.55762344%2C%20-46.54456799%5D%2C%20%5B-23.71286115%2C%20-46.78186771%5D%2C%20%5B-23.71286115%2C%20-46.78186771%5D%2C%20%5B-23.49870038%2C%20-46.77105776%5D%2C%20%5B-23.62830139%2C%20-46.55218406%5D%2C%20%5B-23.55703743%2C%20-46.65120703%5D%2C%20%5B-23.55703743%2C%20-46.65120703%5D%2C%20%5B-23.62036037%2C%20-46.45997015%5D%2C%20%5B-23.52966205%2C%20-46.69944535%5D%2C%20%5B-23.51635869%2C%20-46.62580696%5D%2C%20%5B-23.54186063%2C%20-46.82367605%5D%2C%20%5B-23.54216213%2C%20-46.64067057%5D%2C%20%5B-23.54216213%2C%20-46.64067057%5D%2C%20%5B-23.54216213%2C%20-46.64067057%5D%2C%20%5B-23.54216213%2C%20-46.64067057%5D%2C%20%5B-23.71286115%2C%20-46.78186771%5D%2C%20%5B-23.61916958%2C%20-46.6581656%5D%2C%20%5B-23.54186063%2C%20-46.82367605%5D%2C%20%5B-23.71286115%2C%20-46.78186771%5D%2C%20%5B-23.54781226%2C%20-46.64148264%5D%2C%20%5B-23.61916958%2C%20-46.6581656%5D%2C%20%5B-23.53156371%2C%20-46.71613025%5D%2C%20%5B-23.5354679%2C%20-46.61049957%5D%2C%20%5B-23.5354679%2C%20-46.61049957%5D%2C%20%5B-23.45781798%2C%20-46.46380441%5D%2C%20%5B-23.5886572%2C%20-46.72809926%5D%2C%20%5B-23.71286115%2C%20-46.78186771%5D%2C%20%5B-23.71286115%2C%20-46.78186771%5D%2C%20%5B-23.71286115%2C%20-46.78186771%5D%2C%20%5B-23.71286115%2C%20-46.78186771%5D%2C%20%5B-23.71286115%2C%20-46.78186771%5D%2C%20%5B-23.57992105%2C%20-46.55178051%5D%2C%20%5B-23.56548661%2C%20-46.2845144%5D%2C%20%5B-23.71286115%2C%20-46.78186771%5D%2C%20%5B-23.58987419%2C%20-46.57662371%5D%2C%20%5B-23.71286115%2C%20-46.78186771%5D%2C%20%5B-23.71286115%2C%20-46.78186771%5D%2C%20%5B-23.65009133%2C%20-46.63617262%5D%2C%20%5B-23.61601712%2C%20-46.67603614%5D%2C%20%5B-23.54703087%2C%20-46.6467123%5D%2C%20%5B-23.51645479%2C%20-46.7227687%5D%2C%20%5B-23.51645479%2C%20-46.7227687%5D%2C%20%5B-23.51645479%2C%20-46.7227687%5D%2C%20%5B-23.51645479%2C%20-46.7227687%5D%2C%20%5B-23.63710467%2C%20-46.32787403%5D%2C%20%5B-23.55126094%2C%20-46.6278536%5D%2C%20%5B-23.47941611%2C%20-46.58448606%5D%2C%20%5B-23.47941611%2C%20-46.58448606%5D%2C%20%5B-23.68126777%2C%20-46.57341567%5D%2C%20%5B-23.68126777%2C%20-46.57341567%5D%2C%20%5B-23.49731974%2C%20-46.84925423%5D%2C%20%5B-23.49731974%2C%20-46.84925423%5D%2C%20%5B-23.49731974%2C%20-46.84925423%5D%2C%20%5B-23.58288214%2C%20-46.30278545%5D%2C%20%5B-23.52005437%2C%20-46.78100414%5D%2C%20%5B-23.71286115%2C%20-46.78186771%5D%2C%20%5B-23.70102094%2C%20-46.80257719%5D%2C%20%5B-23.57025033%2C%20-46.79329782%5D%2C%20%5B-23.54483223%2C%20-46.62633888%5D%2C%20%5B-23.71286115%2C%20-46.78186771%5D%2C%20%5B-23.53563118%2C%20-46.6846259%5D%2C%20%5B-23.54304313%2C%20-46.6412186%5D%2C%20%5B-23.51645479%2C%20-46.7227687%5D%2C%20%5B-23.51645479%2C%20-46.7227687%5D%2C%20%5B-23.71286115%2C%20-46.78186771%5D%2C%20%5B-23.71286115%2C%20-46.78186771%5D%2C%20%5B-23.71286115%2C%20-46.78186771%5D%2C%20%5B-23.49272826%2C%20-46.48470304%5D%2C%20%5B-23.65265065%2C%20-46.53376759%5D%2C%20%5B-23.42366088%2C%20-46.43656002%5D%2C%20%5B-23.66519732%2C%20-46.33488743%5D%2C%20%5B-23.54389781%2C%20-46.76801855%5D%2C%20%5B-23.64760965%2C%20-46.84849164%5D%2C%20%5B-23.52908744%2C%20-46.77012061%5D%2C%20%5B-23.52908744%2C%20-46.77012061%5D%2C%20%5B-23.53852702%2C%20-46.64708572%5D%2C%20%5B-23.71286115%2C%20-46.78186771%5D%2C%20%5B-23.53583467%2C%20-46.63933101%5D%2C%20%5B-23.71286115%2C%20-46.78186771%5D%2C%20%5B-23.54151826%2C%20-46.59463641%5D%2C%20%5B-23.71286115%2C%20-46.78186771%5D%2C%20%5B-23.71286115%2C%20-46.78186771%5D%2C%20%5B-23.69205109%2C%20-46.47393616%5D%2C%20%5B-23.71286115%2C%20-46.78186771%5D%2C%20%5B-23.5962614%2C%20-46.55863845%5D%2C%20%5B-23.56363853%2C%20-46.7981494%5D%2C%20%5B-23.71286115%2C%20-46.78186771%5D%2C%20%5B-23.68126777%2C%20-46.57341567%5D%2C%20%5B-23.52160519%2C%20-46.70330745%5D%2C%20%5B-23.71286115%2C%20-46.78186771%5D%2C%20%5B-23.6473303%2C%20-46.62472201%5D%2C%20%5B-23.47838711%2C%20-46.70672941%5D%2C%20%5B-23.47838711%2C%20-46.70672941%5D%2C%20%5B-23.71286115%2C%20-46.78186771%5D%2C%20%5B-23.53561672%2C%20-46.40223023%5D%2C%20%5B-23.5886572%2C%20-46.72809926%5D%2C%20%5B-23.40620075%2C%20-46.48623392%5D%2C%20%5B-23.71286115%2C%20-46.78186771%5D%2C%20%5B-23.53887075%2C%20-46.62890575%5D%2C%20%5B-23.5939367%2C%20-46.78813066%5D%2C%20%5B-23.48083149%2C%20-46.66200668%5D%2C%20%5B-23.56667384%2C%20-46.7882638%5D%2C%20%5B-23.68281122%2C%20-46.66211293%5D%2C%20%5B-23.71286115%2C%20-46.78186771%5D%2C%20%5B-23.63393923%2C%20-46.51199978%5D%2C%20%5B-23.63393923%2C%20-46.51199978%5D%2C%20%5B-23.69205109%2C%20-46.47393616%5D%2C%20%5B-23.46541305%2C%20-46.53104669%5D%2C%20%5B-23.52962998%2C%20-46.57016926%5D%2C%20%5B-23.6071256%2C%20-46.56659525%5D%2C%20%5B-23.5836025%2C%20-46.56886%5D%2C%20%5B-23.71286115%2C%20-46.78186771%5D%2C%20%5B-23.50268475%2C%20-46.16075754%5D%2C%20%5B-23.62594328%2C%20-46.66435553%5D%2C%20%5B-23.43712161%2C%20-46.32059425%5D%2C%20%5B-23.43712161%2C%20-46.32059425%5D%2C%20%5B-23.53636303%2C%20-46.75555407%5D%2C%20%5B-23.49558993%2C%20-46.85106435%5D%2C%20%5B-23.54703927%2C%20-46.77515978%5D%2C%20%5B-23.71286115%2C%20-46.78186771%5D%2C%20%5B-23.52160519%2C%20-46.70330745%5D%2C%20%5B-23.60405528%2C%20-46.63678756%5D%2C%20%5B-23.71286115%2C%20-46.78186771%5D%2C%20%5B-23.55562512%2C%20-46.59893677%5D%2C%20%5B-23.71286115%2C%20-46.78186771%5D%2C%20%5B-23.52559895%2C%20-46.20281441%5D%2C%20%5B-23.49272826%2C%20-46.48470304%5D%2C%20%5B-23.49272826%2C%20-46.48470304%5D%2C%20%5B-23.71286115%2C%20-46.78186771%5D%2C%20%5B-23.71286115%2C%20-46.78186771%5D%2C%20%5B-23.66519732%2C%20-46.33488743%5D%2C%20%5B-23.71286115%2C%20-46.78186771%5D%2C%20%5B-23.71286115%2C%20-46.78186771%5D%2C%20%5B-23.71286115%2C%20-46.78186771%5D%2C%20%5B-23.52453737%2C%20-46.77251674%5D%2C%20%5B-23.71286115%2C%20-46.78186771%5D%2C%20%5B-23.71286115%2C%20-46.78186771%5D%2C%20%5B-23.72162639%2C%20-46.7628028%5D%2C%20%5B-23.52431422%2C%20-46.63731176%5D%2C%20%5B-23.86835856%2C%20-46.92706576%5D%2C%20%5B-23.63393923%2C%20-46.51199978%5D%2C%20%5B-23.71286115%2C%20-46.78186771%5D%2C%20%5B-23.71286115%2C%20-46.78186771%5D%2C%20%5B-23.61037862%2C%20-46.5706929%5D%2C%20%5B-23.71286115%2C%20-46.78186771%5D%2C%20%5B-23.55647403%2C%20-46.78937877%5D%2C%20%5B-23.5519781%2C%20-46.75748409%5D%2C%20%5B-23.71286115%2C%20-46.78186771%5D%2C%20%5B-23.66868263%2C%20-46.45697115%5D%2C%20%5B-23.66868263%2C%20-46.45697115%5D%2C%20%5B-23.66314067%2C%20-46.59459837%5D%2C%20%5B-23.71286115%2C%20-46.78186771%5D%2C%20%5B-23.71286115%2C%20-46.78186771%5D%2C%20%5B-23.54216213%2C%20-46.64067057%5D%2C%20%5B-23.62594328%2C%20-46.66435553%5D%2C%20%5B-23.67719579%2C%20-46.62701828%5D%2C%20%5B-23.49558993%2C%20-46.85106435%5D%2C%20%5B-23.71286115%2C%20-46.78186771%5D%2C%20%5B-23.71286115%2C%20-46.78186771%5D%2C%20%5B-23.71286115%2C%20-46.78186771%5D%2C%20%5B-23.6452026%2C%20-46.60664214%5D%2C%20%5B-23.53593627%2C%20-46.63771344%5D%2C%20%5B-23.51084918%2C%20-46.29066238%5D%2C%20%5B-23.71286115%2C%20-46.78186771%5D%2C%20%5B-23.54216213%2C%20-46.64067057%5D%2C%20%5B-23.71286115%2C%20-46.78186771%5D%2C%20%5B-23.71286115%2C%20-46.78186771%5D%2C%20%5B-23.51635869%2C%20-46.62580696%5D%2C%20%5B-23.47780887%2C%20-46.42664063%5D%2C%20%5B-23.63549021%2C%20-46.71182577%5D%2C%20%5B-23.63549021%2C%20-46.71182577%5D%2C%20%5B-23.53787387%2C%20-46.42718818%5D%2C%20%5B-23.5458931%2C%20-46.64668982%5D%2C%20%5B-23.53532555%2C%20-46.61071833%5D%2C%20%5B-23.71286115%2C%20-46.78186771%5D%2C%20%5B-23.71286115%2C%20-46.78186771%5D%2C%20%5B-23.58110765%2C%20-46.6515725%5D%2C%20%5B-23.6254772%2C%20-46.44717768%5D%2C%20%5B-23.71286115%2C%20-46.78186771%5D%2C%20%5B-23.71286115%2C%20-46.78186771%5D%2C%20%5B-23.62610288%2C%20-46.70587934%5D%2C%20%5B-23.62610288%2C%20-46.70587934%5D%2C%20%5B-23.42366088%2C%20-46.43656002%5D%2C%20%5B-23.66519732%2C%20-46.33488743%5D%2C%20%5B-23.71286115%2C%20-46.78186771%5D%2C%20%5B-23.54938522%2C%20-46.63325723%5D%2C%20%5B-23.66711167%2C%20-46.45986719%5D%2C%20%5B-23.71286115%2C%20-46.78186771%5D%2C%20%5B-23.54703087%2C%20-46.6467123%5D%2C%20%5B-23.51645479%2C%20-46.7227687%5D%2C%20%5B-23.51645479%2C%20-46.7227687%5D%2C%20%5B-23.42837674%2C%20-46.5123912%5D%2C%20%5B-23.47307878%2C%20-46.70731546%5D%2C%20%5B-23.4956312%2C%20-46.84532568%5D%2C%20%5B-23.72162639%2C%20-46.7628028%5D%2C%20%5B-23.61273467%2C%20-46.57167357%5D%2C%20%5B-23.71286115%2C%20-46.78186771%5D%2C%20%5B-23.71286115%2C%20-46.78186771%5D%2C%20%5B-23.53787387%2C%20-46.42718818%5D%2C%20%5B-23.66705594%2C%20-46.53920965%5D%2C%20%5B-23.54842744%2C%20-46.74943124%5D%2C%20%5B-23.71286115%2C%20-46.78186771%5D%2C%20%5B-23.71286115%2C%20-46.78186771%5D%2C%20%5B-23.47941611%2C%20-46.58448606%5D%2C%20%5B-23.68126777%2C%20-46.57341567%5D%2C%20%5B-23.71286115%2C%20-46.78186771%5D%2C%20%5B-23.46452333%2C%20-46.54240932%5D%2C%20%5B-23.71286115%2C%20-46.78186771%5D%2C%20%5B-23.71286115%2C%20-46.78186771%5D%2C%20%5B-23.71286115%2C%20-46.78186771%5D%2C%20%5B-23.71286115%2C%20-46.78186771%5D%2C%20%5B-23.54186063%2C%20-46.82367605%5D%2C%20%5B-23.57077001%2C%20-46.74036479%5D%2C%20%5B-23.52901081%2C%20-46.18705909%5D%2C%20%5B-23.71286115%2C%20-46.78186771%5D%2C%20%5B-23.71286115%2C%20-46.78186771%5D%2C%20%5B-23.51930721%2C%20-46.56212128%5D%2C%20%5B-23.60967833%2C%20-46.57433424%5D%2C%20%5B-23.55092001%2C%20-46.80642408%5D%2C%20%5B-23.60459789%2C%20-46.67078109%5D%2C%20%5B-23.71286115%2C%20-46.78186771%5D%2C%20%5B-23.61916958%2C%20-46.6581656%5D%2C%20%5B-23.71286115%2C%20-46.78186771%5D%2C%20%5B-23.71286115%2C%20-46.78186771%5D%2C%20%5B-23.5458931%2C%20-46.64668982%5D%2C%20%5B-23.6261153%2C%20-46.67437569%5D%2C%20%5B-23.71286115%2C%20-46.78186771%5D%2C%20%5B-23.5458931%2C%20-46.64668982%5D%2C%20%5B-23.61601712%2C%20-46.67603614%5D%2C%20%5B-23.5802625%2C%20-46.66006929%5D%2C%20%5B-23.71286115%2C%20-46.78186771%5D%2C%20%5B-23.53611537%2C%20-46.5585911%5D%2C%20%5B-23.62299591%2C%20-46.5619815%5D%2C%20%5B-23.63710467%2C%20-46.32787403%5D%2C%20%5B-23.54240416%2C%20-46.64487243%5D%2C%20%5B-23.59783783%2C%20-46.59845364%5D%2C%20%5B-23.71286115%2C%20-46.78186771%5D%2C%20%5B-23.69939247%2C%20-46.55198277%5D%2C%20%5B-23.71286115%2C%20-46.78186771%5D%2C%20%5B-23.65284626%2C%20-46.66895818%5D%2C%20%5B-23.71286115%2C%20-46.78186771%5D%2C%20%5B-23.72162639%2C%20-46.7628028%5D%2C%20%5B-23.52137476%2C%20-46.61086308%5D%2C%20%5B-23.71286115%2C%20-46.78186771%5D%2C%20%5B-23.49355084%2C%20-46.44291616%5D%2C%20%5B-23.66908703%2C%20-46.46172347%5D%2C%20%5B-23.53593627%2C%20-46.63771344%5D%2C%20%5B-23.53787387%2C%20-46.42718818%5D%2C%20%5B-23.50675815%2C%20-46.50433158%5D%2C%20%5B-23.5859038%2C%20-46.5591555%5D%2C%20%5B-23.71286115%2C%20-46.78186771%5D%2C%20%5B-23.49355084%2C%20-46.44291616%5D%2C%20%5B-23.49355084%2C%20-46.44291616%5D%2C%20%5B-23.51645479%2C%20-46.7227687%5D%2C%20%5B-23.51645479%2C%20-46.7227687%5D%2C%20%5B-23.51645479%2C%20-46.7227687%5D%2C%20%5B-23.59951876%2C%20-46.55907748%5D%2C%20%5B-23.49878041%2C%20-46.81383544%5D%2C%20%5B-23.47780887%2C%20-46.42664063%5D%2C%20%5B-23.71286115%2C%20-46.78186771%5D%2C%20%5B-23.56634272%2C%20-46.60192281%5D%2C%20%5B-23.54013102%2C%20-46.63580933%5D%2C%20%5B-23.71286115%2C%20-46.78186771%5D%2C%20%5B-23.71286115%2C%20-46.78186771%5D%2C%20%5B-23.52372661%2C%20-46.68539063%5D%2C%20%5B-23.55574811%2C%20-46.65768739%5D%2C%20%5B-23.71286115%2C%20-46.78186771%5D%2C%20%5B-23.55126094%2C%20-46.6278536%5D%2C%20%5B-23.54237515%2C%20-46.61040995%5D%2C%20%5B-23.71286115%2C%20-46.78186771%5D%2C%20%5B-23.52925018%2C%20-46.62064848%5D%2C%20%5B-23.62299591%2C%20-46.5619815%5D%2C%20%5B-23.62299591%2C%20-46.5619815%5D%2C%20%5B-23.55558295%2C%20-46.66767233%5D%2C%20%5B-23.52255052%2C%20-46.53140633%5D%2C%20%5B-23.71286115%2C%20-46.78186771%5D%2C%20%5B-23.56727472%2C%20-46.57629861%5D%2C%20%5B-23.56727472%2C%20-46.57629861%5D%2C%20%5B-23.61888358%2C%20-46.78802186%5D%2C%20%5B-23.43260571%2C%20-46.31781208%5D%2C%20%5B-23.64339324%2C%20-46.6023311%5D%2C%20%5B-23.54198748%2C%20-46.5310788%5D%2C%20%5B-23.71286115%2C%20-46.78186771%5D%2C%20%5B-23.7346635%2C%20-46.53921197%5D%2C%20%5B-23.62610288%2C%20-46.70587934%5D%2C%20%5B-23.47941611%2C%20-46.58448606%5D%2C%20%5B-23.47941611%2C%20-46.58448606%5D%2C%20%5B-23.47941611%2C%20-46.58448606%5D%2C%20%5B-23.54665479%2C%20-46.3141139%5D%2C%20%5B-23.5802625%2C%20-46.66006929%5D%2C%20%5B-23.71286115%2C%20-46.78186771%5D%2C%20%5B-23.71286115%2C%20-46.78186771%5D%2C%20%5B-23.71286115%2C%20-46.78186771%5D%2C%20%5B-23.71286115%2C%20-46.78186771%5D%2C%20%5B-23.71286115%2C%20-46.78186771%5D%2C%20%5B-23.52688779%2C%20-46.66593872%5D%2C%20%5B-23.71286115%2C%20-46.78186771%5D%2C%20%5B-23.71286115%2C%20-46.78186771%5D%2C%20%5B-23.50675815%2C%20-46.50433158%5D%2C%20%5B-23.52608443%2C%20-46.30461329%5D%2C%20%5B-23.60459789%2C%20-46.67078109%5D%2C%20%5B-23.60459789%2C%20-46.67078109%5D%2C%20%5B-23.71286115%2C%20-46.78186771%5D%2C%20%5B-23.62610288%2C%20-46.70587934%5D%2C%20%5B-23.62610288%2C%20-46.70587934%5D%2C%20%5B-23.54938522%2C%20-46.63325723%5D%2C%20%5B-23.71286115%2C%20-46.78186771%5D%2C%20%5B-23.54267698%2C%20-46.61286291%5D%2C%20%5B-23.54509936%2C%20-46.63100248%5D%2C%20%5B-23.55451136%2C%20-46.62842141%5D%2C%20%5B-23.59541736%2C%20-46.68165262%5D%2C%20%5B-23.51831399%2C%20-46.49856686%5D%2C%20%5B-23.49312666%2C%20-46.30641918%5D%2C%20%5B-23.71286115%2C%20-46.78186771%5D%2C%20%5B-23.71286115%2C%20-46.78186771%5D%2C%20%5B-23.71286115%2C%20-46.78186771%5D%2C%20%5B-23.71286115%2C%20-46.78186771%5D%2C%20%5B-23.43712161%2C%20-46.32059425%5D%2C%20%5B-23.57757503%2C%20-46.64245927%5D%2C%20%5B-23.71286115%2C%20-46.78186771%5D%2C%20%5B-23.71920578%2C%20-46.84482083%5D%2C%20%5B-23.64529335%2C%20-46.67213551%5D%2C%20%5B-23.5412481%2C%20-46.6138983%5D%2C%20%5B-23.6237845%2C%20-46.44677533%5D%2C%20%5B-23.55632941%2C%20-46.59521148%5D%2C%20%5B-23.51273872%2C%20-46.57136125%5D%2C%20%5B-23.49713195%2C%20-46.43857635%5D%2C%20%5B-23.6364928%2C%20-46.69689141%5D%2C%20%5B-23.71286115%2C%20-46.78186771%5D%2C%20%5B-23.71286115%2C%20-46.78186771%5D%2C%20%5B-23.71286115%2C%20-46.78186771%5D%2C%20%5B-23.54665479%2C%20-46.3141139%5D%2C%20%5B-23.61884376%2C%20-46.62701968%5D%2C%20%5B-23.62014292%2C%20-46.66416381%5D%2C%20%5B-23.62522331%2C%20-46.50535449%5D%2C%20%5B-23.47838711%2C%20-46.70672941%5D%2C%20%5B-23.47838711%2C%20-46.70672941%5D%2C%20%5B-23.71286115%2C%20-46.78186771%5D%2C%20%5B-23.71286115%2C%20-46.78186771%5D%2C%20%5B-23.71286115%2C%20-46.78186771%5D%2C%20%5B-23.71286115%2C%20-46.78186771%5D%2C%20%5B-23.71286115%2C%20-46.78186771%5D%2C%20%5B-23.47838711%2C%20-46.70672941%5D%2C%20%5B-23.61273467%2C%20-46.57167357%5D%2C%20%5B-23.54389781%2C%20-46.76801855%5D%2C%20%5B-23.60625726%2C%20-46.67168264%5D%2C%20%5B-23.71286115%2C%20-46.78186771%5D%2C%20%5B-23.4640673%2C%20-46.4675868%5D%2C%20%5B-23.56780593%2C%20-46.74275298%5D%2C%20%5B-23.71286115%2C%20-46.78186771%5D%2C%20%5B-23.71286115%2C%20-46.78186771%5D%2C%20%5B-23.71286115%2C%20-46.78186771%5D%2C%20%5B-23.61282645%2C%20-46.66482692%5D%2C%20%5B-23.71286115%2C%20-46.78186771%5D%2C%20%5B-23.54151826%2C%20-46.59463641%5D%2C%20%5B-23.61273467%2C%20-46.57167357%5D%2C%20%5B-23.59147363%2C%20-46.61332219%5D%2C%20%5B-23.71286115%2C%20-46.78186771%5D%2C%20%5B-23.72129151%2C%20-46.70608597%5D%2C%20%5B-23.54665479%2C%20-46.3141139%5D%2C%20%5B-23.71286115%2C%20-46.78186771%5D%2C%20%5B-23.71286115%2C%20-46.78186771%5D%2C%20%5B-23.71286115%2C%20-46.78186771%5D%2C%20%5B-23.71286115%2C%20-46.78186771%5D%2C%20%5B-23.66607602%2C%20-46.71548773%5D%2C%20%5B-23.6386466%2C%20-46.79242003%5D%2C%20%5B-23.71286115%2C%20-46.78186771%5D%2C%20%5B-23.48215562%2C%20-46.78091522%5D%2C%20%5B-23.71286115%2C%20-46.78186771%5D%2C%20%5B-23.71286115%2C%20-46.78186771%5D%2C%20%5B-23.54783515%2C%20-46.63098795%5D%2C%20%5B-23.69000828%2C%20-46.71388316%5D%2C%20%5B-23.54500015%2C%20-46.64356972%5D%2C%20%5B-23.5735857%2C%20-46.64099064%5D%2C%20%5B-23.71286115%2C%20-46.78186771%5D%2C%20%5B-23.50826887%2C%20-46.58444014%5D%2C%20%5B-23.71286115%2C%20-46.78186771%5D%2C%20%5B-23.55627259%2C%20-46.79288779%5D%2C%20%5B-23.6237845%2C%20-46.44677533%5D%2C%20%5B-23.56194298%2C%20-46.68485439%5D%2C%20%5B-23.55632941%2C%20-46.59521148%5D%2C%20%5B-23.5348496%2C%20-46.45330678%5D%2C%20%5B-23.71286115%2C%20-46.78186771%5D%2C%20%5B-23.71286115%2C%20-46.78186771%5D%2C%20%5B-23.71286115%2C%20-46.78186771%5D%2C%20%5B-23.52262661%2C%20-46.18640073%5D%2C%20%5B-23.53532555%2C%20-46.61071833%5D%2C%20%5B-23.54200495%2C%20-46.68616773%5D%2C%20%5B-23.71286115%2C%20-46.78186771%5D%2C%20%5B-23.71286115%2C%20-46.78186771%5D%2C%20%5B-23.71286115%2C%20-46.78186771%5D%2C%20%5B-23.6237845%2C%20-46.44677533%5D%2C%20%5B-23.6237845%2C%20-46.44677533%5D%2C%20%5B-23.56194298%2C%20-46.68485439%5D%2C%20%5B-23.71286115%2C%20-46.78186771%5D%2C%20%5B-23.49713195%2C%20-46.43857635%5D%2C%20%5B-23.52124588%2C%20-46.65835828%5D%2C%20%5B-23.62014292%2C%20-46.66416381%5D%2C%20%5B-23.62632866%2C%20-46.687389%5D%2C%20%5B-23.56727472%2C%20-46.57629861%5D%2C%20%5B-23.50317376%2C%20-46.73875124%5D%2C%20%5B-23.54240416%2C%20-46.64487243%5D%2C%20%5B-23.53583467%2C%20-46.63933101%5D%2C%20%5B-23.71286115%2C%20-46.78186771%5D%2C%20%5B-23.52798507%2C%20-46.55655543%5D%2C%20%5B-23.71286115%2C%20-46.78186771%5D%2C%20%5B-23.54304313%2C%20-46.6412186%5D%2C%20%5B-23.71286115%2C%20-46.78186771%5D%2C%20%5B-23.50285481%2C%20-46.35240631%5D%2C%20%5B-23.71286115%2C%20-46.78186771%5D%2C%20%5B-23.49483863%2C%20-46.43800193%5D%2C%20%5B-23.72162639%2C%20-46.7628028%5D%2C%20%5B-23.72162639%2C%20-46.7628028%5D%2C%20%5B-23.71286115%2C%20-46.78186771%5D%2C%20%5B-23.57757503%2C%20-46.64245927%5D%2C%20%5B-23.61876306%2C%20-46.55423577%5D%2C%20%5B-23.71286115%2C%20-46.78186771%5D%2C%20%5B-23.71286115%2C%20-46.78186771%5D%2C%20%5B-23.59088434%2C%20-46.47884053%5D%2C%20%5B-23.61074463%2C%20-46.49482859%5D%2C%20%5B-23.46925157%2C%20-46.52595837%5D%2C%20%5B-23.44421917%2C%20-46.32407654%5D%2C%20%5B-23.60566627%2C%20-46.5590676%5D%2C%20%5B-23.65518758%2C%20-46.54800144%5D%2C%20%5B-23.71286115%2C%20-46.78186771%5D%2C%20%5B-23.5404193%2C%20-46.82163015%5D%2C%20%5B-23.51410408%2C%20-46.70615204%5D%2C%20%5B-23.71286115%2C%20-46.78186771%5D%2C%20%5B-23.71286115%2C%20-46.78186771%5D%2C%20%5B-23.69000828%2C%20-46.71388316%5D%2C%20%5B-23.55405136%2C%20-46.64872122%5D%2C%20%5B-23.71286115%2C%20-46.78186771%5D%2C%20%5B-23.71286115%2C%20-46.78186771%5D%2C%20%5B-23.71286115%2C%20-46.78186771%5D%2C%20%5B-23.50882521%2C%20-46.77216391%5D%2C%20%5B-23.71286115%2C%20-46.78186771%5D%2C%20%5B-23.71286115%2C%20-46.78186771%5D%2C%20%5B-23.66678203%2C%20-46.46202146%5D%2C%20%5B-23.71286115%2C%20-46.78186771%5D%2C%20%5B-23.50515567%2C%20-46.83251066%5D%2C%20%5B-23.49229432%2C%20-46.55344228%5D%2C%20%5B-23.61435401%2C%20-46.57110143%5D%2C%20%5B-23.71286115%2C%20-46.78186771%5D%2C%20%5B-23.71286115%2C%20-46.78186771%5D%2C%20%5B-23.5348496%2C%20-46.45330678%5D%2C%20%5B-23.6237845%2C%20-46.44677533%5D%2C%20%5B-23.55574811%2C%20-46.65768739%5D%2C%20%5B-23.71286115%2C%20-46.78186771%5D%2C%20%5B-23.71286115%2C%20-46.78186771%5D%2C%20%5B-23.71286115%2C%20-46.78186771%5D%2C%20%5B-23.71286115%2C%20-46.78186771%5D%2C%20%5B-23.64697992%2C%20-46.3358885%5D%2C%20%5B-23.71286115%2C%20-46.78186771%5D%2C%20%5B-23.71286115%2C%20-46.78186771%5D%2C%20%5B-23.48350366%2C%20-46.42199223%5D%2C%20%5B-23.55679021%2C%20-46.65880015%5D%2C%20%5B-23.71286115%2C%20-46.78186771%5D%2C%20%5B-23.55111045%2C%20-46.50707784%5D%2C%20%5B-23.68281122%2C%20-46.66211293%5D%2C%20%5B-23.65633573%2C%20-46.82726568%5D%2C%20%5B-23.72590556%2C%20-46.54497485%5D%2C%20%5B-23.71286115%2C%20-46.78186771%5D%2C%20%5B-23.49713195%2C%20-46.43857635%5D%2C%20%5B-23.71286115%2C%20-46.78186771%5D%2C%20%5B-23.62299591%2C%20-46.5619815%5D%2C%20%5B-23.62014292%2C%20-46.66416381%5D%2C%20%5B-23.71286115%2C%20-46.78186771%5D%2C%20%5B-23.61888358%2C%20-46.78802186%5D%2C%20%5B-23.61888358%2C%20-46.78802186%5D%2C%20%5B-23.64805045%2C%20-46.66961761%5D%2C%20%5B-23.75162108%2C%20-46.71088942%5D%2C%20%5B-23.52798507%2C%20-46.55655543%5D%2C%20%5B-23.78440456%2C%20-46.6830987%5D%2C%20%5B-23.55341277%2C%20-46.51595189%5D%2C%20%5B-23.6760476%2C%20-46.7573232%5D%2C%20%5B-23.62594328%2C%20-46.66435553%5D%2C%20%5B-23.5348496%2C%20-46.45330678%5D%2C%20%5B-23.58319395%2C%20-46.6008348%5D%2C%20%5B-23.67834122%2C%20-46.43721238%5D%2C%20%5B-23.67460853%2C%20-46.62150052%5D%2C%20%5B-23.71286115%2C%20-46.78186771%5D%2C%20%5B-23.71286115%2C%20-46.78186771%5D%2C%20%5B-23.71286115%2C%20-46.78186771%5D%2C%20%5B-23.71286115%2C%20-46.78186771%5D%2C%20%5B-23.60047362%2C%20-46.78490995%5D%2C%20%5B-23.69939247%2C%20-46.55198277%5D%2C%20%5B-23.49981664%2C%20-46.30021511%5D%2C%20%5B-23.71286115%2C%20-46.78186771%5D%2C%20%5B-23.71286115%2C%20-46.78186771%5D%2C%20%5B-23.71286115%2C%20-46.78186771%5D%2C%20%5B-23.71286115%2C%20-46.78186771%5D%2C%20%5B-23.49355084%2C%20-46.44291616%5D%2C%20%5B-23.71286115%2C%20-46.78186771%5D%2C%20%5B-23.62260862%2C%20-46.68093188%5D%2C%20%5B-23.71286115%2C%20-46.78186771%5D%2C%20%5B-23.71286115%2C%20-46.78186771%5D%2C%20%5B-23.55020529%2C%20-46.60699205%5D%2C%20%5B-23.55020529%2C%20-46.60699205%5D%2C%20%5B-23.71286115%2C%20-46.78186771%5D%2C%20%5B-23.72162639%2C%20-46.7628028%5D%2C%20%5B-23.72162639%2C%20-46.7628028%5D%2C%20%5B-23.72162639%2C%20-46.7628028%5D%2C%20%5B-23.71286115%2C%20-46.78186771%5D%2C%20%5B-23.71286115%2C%20-46.78186771%5D%2C%20%5B-23.53787387%2C%20-46.42718818%5D%2C%20%5B-23.53787387%2C%20-46.42718818%5D%2C%20%5B-23.54746797%2C%20-46.60353858%5D%2C%20%5B-23.54746797%2C%20-46.60353858%5D%2C%20%5B-23.54746797%2C%20-46.60353858%5D%2C%20%5B-23.63194561%2C%20-46.33223426%5D%2C%20%5B-23.63194561%2C%20-46.33223426%5D%2C%20%5B-23.63194561%2C%20-46.33223426%5D%2C%20%5B-23.63194561%2C%20-46.33223426%5D%2C%20%5B-23.44315691%2C%20-46.29940327%5D%2C%20%5B-23.44315691%2C%20-46.29940327%5D%2C%20%5B-23.69573833%2C%20-46.28826427%5D%2C%20%5B-23.46194751%2C%20-46.4911996%5D%2C%20%5B-23.29211965%2C%20-46.84499646%5D%2C%20%5B-23.69573833%2C%20-46.28826427%5D%2C%20%5B-23.69573833%2C%20-46.28826427%5D%2C%20%5B-23.42326076%2C%20-46.06778574%5D%2C%20%5B-23.69573833%2C%20-46.28826427%5D%2C%20%5B-23.69573833%2C%20-46.28826427%5D%2C%20%5B-23.69573833%2C%20-46.28826427%5D%2C%20%5B-23.29211965%2C%20-46.84499646%5D%2C%20%5B-23.52373032%2C%20-46.79278371%5D%2C%20%5B-23.56907902%2C%20-46.29516658%5D%2C%20%5B-23.56907902%2C%20-46.29516658%5D%2C%20%5B-23.52373032%2C%20-46.79278371%5D%2C%20%5B-23.56907902%2C%20-46.29516658%5D%2C%20%5B-23.56907902%2C%20-46.29516658%5D%2C%20%5B-23.52519435%2C%20-46.39605905%5D%2C%20%5B-23.52519435%2C%20-46.39605905%5D%2C%20%5B-23.52519435%2C%20-46.39605905%5D%2C%20%5B-23.51215707%2C%20-46.2913295%5D%2C%20%5B-23.51215707%2C%20-46.2913295%5D%2C%20%5B-23.51215707%2C%20-46.2913295%5D%2C%20%5B-23.48669014%2C%20-46.72604055%5D%2C%20%5B-23.51215707%2C%20-46.2913295%5D%2C%20%5B-23.51215707%2C%20-46.2913295%5D%2C%20%5B-23.82788661%2C%20-46.73069264%5D%2C%20%5B-23.82788661%2C%20-46.73069264%5D%2C%20%5B-23.48669014%2C%20-46.72604055%5D%2C%20%5B-23.48669014%2C%20-46.72604055%5D%2C%20%5B-23.48669014%2C%20-46.72604055%5D%2C%20%5B-23.71286115%2C%20-46.78186771%5D%2C%20%5B-23.82788661%2C%20-46.73069264%5D%2C%20%5B-23.82788661%2C%20-46.73069264%5D%2C%20%5B-23.82788661%2C%20-46.73069264%5D%2C%20%5B-23.64704641%2C%20-46.50553584%5D%2C%20%5B-23.64704641%2C%20-46.50553584%5D%2C%20%5B-23.51215707%2C%20-46.2913295%5D%2C%20%5B-23.51215707%2C%20-46.2913295%5D%2C%20%5B-23.51215707%2C%20-46.2913295%5D%2C%20%5B-23.64704641%2C%20-46.50553584%5D%2C%20%5B-23.71286115%2C%20-46.78186771%5D%2C%20%5B-23.71286115%2C%20-46.78186771%5D%2C%20%5B-23.71286115%2C%20-46.78186771%5D%2C%20%5B-23.82788661%2C%20-46.73069264%5D%2C%20%5B-23.64704641%2C%20-46.50553584%5D%2C%20%5B-23.52519435%2C%20-46.39605905%5D%2C%20%5B-23.52519435%2C%20-46.39605905%5D%2C%20%5B-23.52519435%2C%20-46.39605905%5D%2C%20%5B-23.52519435%2C%20-46.39605905%5D%2C%20%5B-23.52519435%2C%20-46.39605905%5D%2C%20%5B-23.52519435%2C%20-46.39605905%5D%2C%20%5B-23.51215707%2C%20-46.2913295%5D%2C%20%5B-23.51215707%2C%20-46.2913295%5D%2C%20%5B-23.51215707%2C%20-46.2913295%5D%2C%20%5B-23.51215707%2C%20-46.2913295%5D%2C%20%5B-23.51215707%2C%20-46.2913295%5D%2C%20%5B-23.51215707%2C%20-46.2913295%5D%2C%20%5B-23.48669014%2C%20-46.72604055%5D%2C%20%5B-23.71286115%2C%20-46.78186771%5D%2C%20%5B-23.71286115%2C%20-46.78186771%5D%2C%20%5B-23.71286115%2C%20-46.78186771%5D%2C%20%5B-23.82788661%2C%20-46.73069264%5D%2C%20%5B-23.82788661%2C%20-46.73069264%5D%2C%20%5B-23.82788661%2C%20-46.73069264%5D%2C%20%5B-23.82788661%2C%20-46.73069264%5D%2C%20%5B-23.64704641%2C%20-46.50553584%5D%2C%20%5B-23.64704641%2C%20-46.50553584%5D%2C%20%5B-23.64704641%2C%20-46.50553584%5D%2C%20%5B-23.64704641%2C%20-46.50553584%5D%2C%20%5B-23.71286115%2C%20-46.78186771%5D%2C%20%5B-23.52519435%2C%20-46.39605905%5D%2C%20%5B-23.52519435%2C%20-46.39605905%5D%2C%20%5B-23.52519435%2C%20-46.39605905%5D%2C%20%5B-23.52519435%2C%20-46.39605905%5D%2C%20%5B-23.52519435%2C%20-46.39605905%5D%2C%20%5B-23.52519435%2C%20-46.39605905%5D%2C%20%5B-23.52519435%2C%20-46.39605905%5D%2C%20%5B-23.52519435%2C%20-46.39605905%5D%2C%20%5B-23.52519435%2C%20-46.39605905%5D%2C%20%5B-23.52519435%2C%20-46.39605905%5D%2C%20%5B-23.52519435%2C%20-46.39605905%5D%2C%20%5B-23.52519435%2C%20-46.39605905%5D%2C%20%5B-23.54662356%2C%20-46.64209938%5D%2C%20%5B-23.29458316%2C%20-46.70965121%5D%2C%20%5B-23.29458316%2C%20-46.70965121%5D%2C%20%5B-23.51215707%2C%20-46.2913295%5D%2C%20%5B-23.51215707%2C%20-46.2913295%5D%2C%20%5B-23.51215707%2C%20-46.2913295%5D%2C%20%5B-23.52519435%2C%20-46.39605905%5D%2C%20%5B-23.52519435%2C%20-46.39605905%5D%2C%20%5B-23.64704641%2C%20-46.50553584%5D%2C%20%5B-23.54662356%2C%20-46.64209938%5D%2C%20%5B-23.29458316%2C%20-46.70965121%5D%2C%20%5B-23.51215707%2C%20-46.2913295%5D%2C%20%5B-23.71286115%2C%20-46.78186771%5D%2C%20%5B-23.82788661%2C%20-46.73069264%5D%2C%20%5B-23.82788661%2C%20-46.73069264%5D%2C%20%5B-23.64704641%2C%20-46.50553584%5D%2C%20%5B-23.64704641%2C%20-46.50553584%5D%2C%20%5B-23.64704641%2C%20-46.50553584%5D%2C%20%5B-23.64704641%2C%20-46.50553584%5D%2C%20%5B-23.71286115%2C%20-46.78186771%5D%2C%20%5B-23.51256411%2C%20-46.52563305%5D%2C%20%5B-23.51256411%2C%20-46.52563305%5D%2C%20%5B-23.71286115%2C%20-46.78186771%5D%2C%20%5B-23.68556202%2C%20-46.41353645%5D%2C%20%5B-23.71286115%2C%20-46.78186771%5D%2C%20%5B-23.71286115%2C%20-46.78186771%5D%2C%20%5B-23.44677188%2C%20-46.74456157%5D%2C%20%5B-23.44677188%2C%20-46.74456157%5D%2C%20%5B-23.54662356%2C%20-46.64209938%5D%2C%20%5B-23.29458316%2C%20-46.70965121%5D%2C%20%5B-23.45162994%2C%20-46.35171677%5D%2C%20%5B-23.45162994%2C%20-46.35171677%5D%2C%20%5B-23.69864884%2C%20-46.84344071%5D%2C%20%5B-23.69864884%2C%20-46.84344071%5D%2C%20%5B-23.69864884%2C%20-46.84344071%5D%2C%20%5B-23.69864884%2C%20-46.84344071%5D%2C%20%5B-23.69864884%2C%20-46.84344071%5D%2C%20%5B-23.60156726%2C%20-46.56302585%5D%2C%20%5B-23.60156726%2C%20-46.56302585%5D%2C%20%5B-23.69864884%2C%20-46.84344071%5D%2C%20%5B-23.53555846%2C%20-46.8165135%5D%2C%20%5B-23.60156726%2C%20-46.56302585%5D%2C%20%5B-23.6128579%2C%20-46.49393286%5D%2C%20%5B-23.6128579%2C%20-46.49393286%5D%2C%20%5B-23.6128579%2C%20-46.49393286%5D%2C%20%5B-23.6128579%2C%20-46.49393286%5D%2C%20%5B-23.53555846%2C%20-46.8165135%5D%2C%20%5B-23.6128579%2C%20-46.49393286%5D%2C%20%5B-23.69864884%2C%20-46.84344071%5D%2C%20%5B-23.53784029%2C%20-46.59913379%5D%2C%20%5B-23.6128579%2C%20-46.49393286%5D%2C%20%5B-23.6128579%2C%20-46.49393286%5D%2C%20%5B-23.53784029%2C%20-46.59913379%5D%2C%20%5B-23.6128579%2C%20-46.49393286%5D%2C%20%5B-23.53555846%2C%20-46.8165135%5D%2C%20%5B-23.54465164%2C%20-46.4279808%5D%2C%20%5B-23.44431113%2C%20-46.78585655%5D%2C%20%5B-23.4678236%2C%20-46.68180703%5D%2C%20%5B-23.44431113%2C%20-46.78585655%5D%2C%20%5B-23.71286115%2C%20-46.78186771%5D%2C%20%5B-23.66716615%2C%20-46.65586997%5D%2C%20%5B-23.44431113%2C%20-46.78585655%5D%2C%20%5B-23.4678236%2C%20-46.68180703%5D%2C%20%5B-23.60156726%2C%20-46.56302585%5D%2C%20%5B-23.60156726%2C%20-46.56302585%5D%2C%20%5B-23.60156726%2C%20-46.56302585%5D%2C%20%5B-23.6128579%2C%20-46.49393286%5D%2C%20%5B-23.64027263%2C%20-46.81568811%5D%2C%20%5B-23.64027263%2C%20-46.81568811%5D%2C%20%5B-23.66716615%2C%20-46.65586997%5D%2C%20%5B-23.71286115%2C%20-46.78186771%5D%2C%20%5B-23.62263416%2C%20-46.44674267%5D%2C%20%5B-23.62263416%2C%20-46.44674267%5D%2C%20%5B-23.55894097%2C%20-46.82647936%5D%2C%20%5B-23.53784029%2C%20-46.59913379%5D%2C%20%5B-23.51019849%2C%20-46.38314221%5D%2C%20%5B-23.51019849%2C%20-46.38314221%5D%2C%20%5B-23.51019849%2C%20-46.38314221%5D%2C%20%5B-23.55463561%2C%20-46.94883312%5D%2C%20%5B-23.71286115%2C%20-46.78186771%5D%2C%20%5B-23.54777739%2C%20-46.53410751%5D%2C%20%5B-23.53555846%2C%20-46.8165135%5D%2C%20%5B-23.65024923%2C%20-46.79465782%5D%2C%20%5B-23.44431113%2C%20-46.78585655%5D%2C%20%5B-23.69379582%2C%20-46.78542704%5D%2C%20%5B-23.69379582%2C%20-46.78542704%5D%2C%20%5B-23.69379582%2C%20-46.78542704%5D%2C%20%5B-23.57611926%2C%20-46.53836522%5D%2C%20%5B-23.57611926%2C%20-46.53836522%5D%2C%20%5B-23.56681244%2C%20-46.40663943%5D%2C%20%5B-23.71286115%2C%20-46.78186771%5D%2C%20%5B-23.71286115%2C%20-46.78186771%5D%2C%20%5B-23.71286115%2C%20-46.78186771%5D%2C%20%5B-23.71286115%2C%20-46.78186771%5D%2C%20%5B-23.66716615%2C%20-46.65586997%5D%2C%20%5B-23.66716615%2C%20-46.65586997%5D%2C%20%5B-23.65024923%2C%20-46.79465782%5D%2C%20%5B-23.69351239%2C%20-46.44127655%5D%2C%20%5B-23.56681244%2C%20-46.40663943%5D%2C%20%5B-23.56681244%2C%20-46.40663943%5D%2C%20%5B-23.56681244%2C%20-46.40663943%5D%2C%20%5B-23.66716615%2C%20-46.65586997%5D%2C%20%5B-23.54465164%2C%20-46.4279808%5D%2C%20%5B-23.54465164%2C%20-46.4279808%5D%2C%20%5B-23.71286115%2C%20-46.78186771%5D%2C%20%5B-23.64027263%2C%20-46.81568811%5D%2C%20%5B-23.52138771%2C%20-46.19598149%5D%2C%20%5B-23.51019849%2C%20-46.38314221%5D%2C%20%5B-23.49743671%2C%20-46.61113071%5D%2C%20%5B-23.49743671%2C%20-46.61113071%5D%2C%20%5B-23.57611926%2C%20-46.53836522%5D%2C%20%5B-23.64027263%2C%20-46.81568811%5D%2C%20%5B-23.64027263%2C%20-46.81568811%5D%2C%20%5B-23.64027263%2C%20-46.81568811%5D%2C%20%5B-23.52138771%2C%20-46.19598149%5D%2C%20%5B-23.54148056%2C%20-46.64264075%5D%2C%20%5B-23.54148056%2C%20-46.64264075%5D%2C%20%5B-23.51019849%2C%20-46.38314221%5D%2C%20%5B-23.51019849%2C%20-46.38314221%5D%2C%20%5B-23.51019849%2C%20-46.38314221%5D%2C%20%5B-23.54777739%2C%20-46.53410751%5D%2C%20%5B-23.54777739%2C%20-46.53410751%5D%2C%20%5B-23.7783872%2C%20-46.52880932%5D%2C%20%5B-23.65024923%2C%20-46.79465782%5D%2C%20%5B-23.65024923%2C%20-46.79465782%5D%2C%20%5B-23.69351239%2C%20-46.44127655%5D%2C%20%5B-23.45829224%2C%20-46.70040409%5D%2C%20%5B-23.56707495%2C%20-46.56735235%5D%2C%20%5B-23.52138771%2C%20-46.19598149%5D%2C%20%5B-23.49176752%2C%20-46.45376766%5D%2C%20%5B-23.49176752%2C%20-46.45376766%5D%2C%20%5B-23.71286115%2C%20-46.78186771%5D%2C%20%5B-23.71286115%2C%20-46.78186771%5D%2C%20%5B-23.53168056%2C%20-46.77345174%5D%2C%20%5B-23.66716615%2C%20-46.65586997%5D%2C%20%5B-23.49743671%2C%20-46.61113071%5D%2C%20%5B-23.49226474%2C%20-46.42889471%5D%2C%20%5B-23.49226474%2C%20-46.42889471%5D%2C%20%5B-23.54777739%2C%20-46.53410751%5D%2C%20%5B-23.53784029%2C%20-46.59913379%5D%2C%20%5B-23.6119625%2C%20-46.44410421%5D%2C%20%5B-23.71286115%2C%20-46.78186771%5D%2C%20%5B-23.63864381%2C%20-46.74148555%5D%2C%20%5B-23.72067084%2C%20-46.76397505%5D%2C%20%5B-23.72067084%2C%20-46.76397505%5D%2C%20%5B-23.71286115%2C%20-46.78186771%5D%2C%20%5B-23.65024923%2C%20-46.79465782%5D%2C%20%5B-23.65024923%2C%20-46.79465782%5D%2C%20%5B-23.69351239%2C%20-46.44127655%5D%2C%20%5B-23.69351239%2C%20-46.44127655%5D%2C%20%5B-23.69351239%2C%20-46.44127655%5D%2C%20%5B-23.69351239%2C%20-46.44127655%5D%2C%20%5B-23.77197975%2C%20-46.67731359%5D%2C%20%5B-23.49226474%2C%20-46.42889471%5D%2C%20%5B-23.57197548%2C%20-46.29603834%5D%2C%20%5B-23.57197548%2C%20-46.29603834%5D%2C%20%5B-23.54465164%2C%20-46.4279808%5D%2C%20%5B-23.54148056%2C%20-46.64264075%5D%2C%20%5B-23.66716615%2C%20-46.65586997%5D%2C%20%5B-23.66716615%2C%20-46.65586997%5D%2C%20%5B-23.48124839%2C%20-46.41149355%5D%2C%20%5B-23.55052725%2C%20-46.64211164%5D%2C%20%5B-23.49743671%2C%20-46.61113071%5D%2C%20%5B-23.49743671%2C%20-46.61113071%5D%2C%20%5B-23.77197975%2C%20-46.67731359%5D%2C%20%5B-23.55052725%2C%20-46.64211164%5D%2C%20%5B-23.63864381%2C%20-46.74148555%5D%2C%20%5B-23.72067084%2C%20-46.76397505%5D%2C%20%5B-23.69379582%2C%20-46.78542704%5D%2C%20%5B-23.66289415%2C%20-46.65174687%5D%2C%20%5B-23.48124839%2C%20-46.41149355%5D%2C%20%5B-23.48124839%2C%20-46.41149355%5D%2C%20%5B-23.48124839%2C%20-46.41149355%5D%2C%20%5B-23.71286115%2C%20-46.78186771%5D%2C%20%5B-23.71286115%2C%20-46.78186771%5D%2C%20%5B-23.71286115%2C%20-46.78186771%5D%2C%20%5B-23.64027263%2C%20-46.81568811%5D%2C%20%5B-23.64027263%2C%20-46.81568811%5D%2C%20%5B-23.6119625%2C%20-46.44410421%5D%2C%20%5B-23.71286115%2C%20-46.78186771%5D%2C%20%5B-23.71286115%2C%20-46.78186771%5D%2C%20%5B-23.55052725%2C%20-46.64211164%5D%2C%20%5B-23.54465164%2C%20-46.4279808%5D%2C%20%5B-23.56707495%2C%20-46.56735235%5D%2C%20%5B-23.55052725%2C%20-46.64211164%5D%2C%20%5B-23.6690074%2C%20-46.61813733%5D%2C%20%5B-23.49226474%2C%20-46.42889471%5D%2C%20%5B-23.54148056%2C%20-46.64264075%5D%2C%20%5B-23.49743671%2C%20-46.61113071%5D%2C%20%5B-23.48124839%2C%20-46.41149355%5D%2C%20%5B-23.66514574%2C%20-46.80312947%5D%2C%20%5B-23.54777739%2C%20-46.53410751%5D%2C%20%5B-23.71286115%2C%20-46.78186771%5D%2C%20%5B-23.71286115%2C%20-46.78186771%5D%2C%20%5B-23.71286115%2C%20-46.78186771%5D%2C%20%5B-23.31478239%2C%20-46.73292026%5D%2C%20%5B-23.51019849%2C%20-46.38314221%5D%2C%20%5B-23.31478239%2C%20-46.73292026%5D%2C%20%5B-23.63864381%2C%20-46.74148555%5D%2C%20%5B-23.65024923%2C%20-46.79465782%5D%2C%20%5B-23.65024923%2C%20-46.79465782%5D%2C%20%5B-23.69351239%2C%20-46.44127655%5D%2C%20%5B-23.69351239%2C%20-46.44127655%5D%2C%20%5B-23.69351239%2C%20-46.44127655%5D%2C%20%5B-23.55463561%2C%20-46.94883312%5D%2C%20%5B-23.71286115%2C%20-46.78186771%5D%2C%20%5B-23.71286115%2C%20-46.78186771%5D%2C%20%5B-23.48354421%2C%20-46.4678666%5D%2C%20%5B-23.48354421%2C%20-46.4678666%5D%2C%20%5B-23.48354421%2C%20-46.4678666%5D%2C%20%5B-23.58852724%2C%20-46.79248082%5D%2C%20%5B-23.58852724%2C%20-46.79248082%5D%2C%20%5B-23.46956563%2C%20-46.75066618%5D%2C%20%5B-23.52183319%2C%20-46.39972319%5D%2C%20%5B-23.75564849%2C%20-46.69994883%5D%2C%20%5B-23.75564849%2C%20-46.69994883%5D%2C%20%5B-23.75564849%2C%20-46.69994883%5D%2C%20%5B-23.66514574%2C%20-46.80312947%5D%2C%20%5B-23.57557562%2C%20-46.70657296%5D%2C%20%5B-23.57557562%2C%20-46.70657296%5D%2C%20%5B-23.49743671%2C%20-46.61113071%5D%2C%20%5B-23.66514574%2C%20-46.80312947%5D%2C%20%5B-23.69351239%2C%20-46.44127655%5D%2C%20%5B-23.71286115%2C%20-46.78186771%5D%2C%20%5B-23.6435388%2C%20-46.77095197%5D%2C%20%5B-23.6435388%2C%20-46.77095197%5D%2C%20%5B-23.55067043%2C%20-46.46849151%5D%2C%20%5B-23.47823468%2C%20-46.42398545%5D%2C%20%5B-23.45829224%2C%20-46.70040409%5D%2C%20%5B-23.45829224%2C%20-46.70040409%5D%2C%20%5B-23.53168056%2C%20-46.77345174%5D%2C%20%5B-23.49176752%2C%20-46.45376766%5D%2C%20%5B-23.57557562%2C%20-46.70657296%5D%2C%20%5B-23.54187834%2C%20-46.37035653%5D%2C%20%5B-23.66514574%2C%20-46.80312947%5D%2C%20%5B-23.67256576%2C%20-46.63099249%5D%2C%20%5B-23.52803054%2C%20-46.32739981%5D%2C%20%5B-23.52803054%2C%20-46.32739981%5D%2C%20%5B-23.61628335%2C%20-46.50863359%5D%2C%20%5B-23.61628335%2C%20-46.50863359%5D%2C%20%5B-23.47823468%2C%20-46.42398545%5D%2C%20%5B-23.54336661%2C%20-46.44501929%5D%2C%20%5B-23.56707495%2C%20-46.56735235%5D%2C%20%5B-23.56707495%2C%20-46.56735235%5D%2C%20%5B-23.6435388%2C%20-46.77095197%5D%2C%20%5B-23.49226474%2C%20-46.42889471%5D%2C%20%5B-23.49226474%2C%20-46.42889471%5D%2C%20%5B-23.71286115%2C%20-46.78186771%5D%2C%20%5B-23.71286115%2C%20-46.78186771%5D%2C%20%5B-23.54336661%2C%20-46.44501929%5D%2C%20%5B-23.54336661%2C%20-46.44501929%5D%2C%20%5B-23.54336661%2C%20-46.44501929%5D%2C%20%5B-23.6435388%2C%20-46.77095197%5D%2C%20%5B-23.52138771%2C%20-46.19598149%5D%2C%20%5B-23.54148056%2C%20-46.64264075%5D%2C%20%5B-23.66716615%2C%20-46.65586997%5D%2C%20%5B-23.66716615%2C%20-46.65586997%5D%2C%20%5B-23.48124839%2C%20-46.41149355%5D%2C%20%5B-23.49743671%2C%20-46.61113071%5D%2C%20%5B-23.58852724%2C%20-46.79248082%5D%2C%20%5B-23.46956563%2C%20-46.75066618%5D%2C%20%5B-23.60181856%2C%20-46.53768639%5D%2C%20%5B-23.6119625%2C%20-46.44410421%5D%2C%20%5B-23.6119625%2C%20-46.44410421%5D%2C%20%5B-23.71286115%2C%20-46.78186771%5D%2C%20%5B-23.52183319%2C%20-46.39972319%5D%2C%20%5B-23.52183319%2C%20-46.39972319%5D%2C%20%5B-23.63864381%2C%20-46.74148555%5D%2C%20%5B-23.55714335%2C%20-46.36457294%5D%2C%20%5B-23.45829224%2C%20-46.70040409%5D%2C%20%5B-23.45829224%2C%20-46.70040409%5D%2C%20%5B-23.71286115%2C%20-46.78186771%5D%2C%20%5B-23.71286115%2C%20-46.78186771%5D%2C%20%5B-23.71286115%2C%20-46.78186771%5D%2C%20%5B-23.61628335%2C%20-46.50863359%5D%2C%20%5B-23.49226474%2C%20-46.42889471%5D%2C%20%5B-23.49226474%2C%20-46.42889471%5D%2C%20%5B-23.49226474%2C%20-46.42889471%5D%2C%20%5B-23.73558357%2C%20-46.78118076%5D%2C%20%5B-23.54583108%2C%20-46.64138338%5D%2C%20%5B-23.54336661%2C%20-46.44501929%5D%2C%20%5B-23.54336661%2C%20-46.44501929%5D%2C%20%5B-23.6435388%2C%20-46.77095197%5D%2C%20%5B-23.71286115%2C%20-46.78186771%5D%2C%20%5B-23.71286115%2C%20-46.78186771%5D%2C%20%5B-23.71286115%2C%20-46.78186771%5D%2C%20%5B-23.60227562%2C%20-46.93442651%5D%2C%20%5B-23.60227562%2C%20-46.93442651%5D%2C%20%5B-23.56707495%2C%20-46.56735235%5D%2C%20%5B-23.6690074%2C%20-46.61813733%5D%2C%20%5B-23.45738234%2C%20-46.68197223%5D%2C%20%5B-23.48124839%2C%20-46.41149355%5D%2C%20%5B-23.50401573%2C%20-46.36184621%5D%2C%20%5B-23.50401573%2C%20-46.36184621%5D%2C%20%5B-23.71286115%2C%20-46.78186771%5D%2C%20%5B-23.31478239%2C%20-46.73292026%5D%2C%20%5B-23.67256576%2C%20-46.63099249%5D%2C%20%5B-23.67256576%2C%20-46.63099249%5D%2C%20%5B-23.73558357%2C%20-46.78118076%5D%2C%20%5B-23.73558357%2C%20-46.78118076%5D%2C%20%5B-23.71286115%2C%20-46.78186771%5D%2C%20%5B-23.75766189%2C%20-46.45477045%5D%2C%20%5B-23.49093439%2C%20-46.55326207%5D%2C%20%5B-23.33122744%2C%20-46.59235965%5D%2C%20%5B-23.66708497%2C%20-46.48195744%5D%2C%20%5B-23.65256557%2C%20-46.56724493%5D%2C%20%5B-23.66708497%2C%20-46.48195744%5D%2C%20%5B-23.33122744%2C%20-46.59235965%5D%2C%20%5B-23.55443369%2C%20-46.65450265%5D%2C%20%5B-23.66708497%2C%20-46.48195744%5D%2C%20%5B-23.66708497%2C%20-46.48195744%5D%2C%20%5B-23.55443369%2C%20-46.65450265%5D%2C%20%5B-23.66708497%2C%20-46.48195744%5D%2C%20%5B-23.50307628%2C%20-46.76874683%5D%2C%20%5B-23.51012549%2C%20-46.18143179%5D%2C%20%5B-23.76196765%2C%20-46.81411543%5D%2C%20%5B-23.76196765%2C%20-46.81411543%5D%2C%20%5B-23.50307628%2C%20-46.76874683%5D%2C%20%5B-23.62058639%2C%20-46.81797194%5D%2C%20%5B-23.44410614%2C%20-46.91813727%5D%2C%20%5B-23.44410614%2C%20-46.91813727%5D%2C%20%5B-23.76196765%2C%20-46.81411543%5D%2C%20%5B-23.58482541%2C%20-46.29781805%5D%2C%20%5B-23.65256557%2C%20-46.56724493%5D%2C%20%5B-23.69102761%2C%20-46.63357952%5D%2C%20%5B-23.62058639%2C%20-46.81797194%5D%2C%20%5B-23.62058639%2C%20-46.81797194%5D%2C%20%5B-23.65256557%2C%20-46.56724493%5D%2C%20%5B-23.66030513%2C%20-46.33254634%5D%2C%20%5B-23.51012549%2C%20-46.18143179%5D%2C%20%5B-23.50307628%2C%20-46.76874683%5D%2C%20%5B-23.60250221%2C%20-46.53016928%5D%2C%20%5B-23.66030513%2C%20-46.33254634%5D%2C%20%5B-23.66030513%2C%20-46.33254634%5D%2C%20%5B-23.49093439%2C%20-46.55326207%5D%2C%20%5B-23.63318722%2C%20-46.79904018%5D%2C%20%5B-23.67467492%2C%20-46.68154598%5D%2C%20%5B-23.64200911%2C%20-46.6479792%5D%2C%20%5B-23.60250221%2C%20-46.53016928%5D%2C%20%5B-23.57174779%2C%20-46.75304867%5D%2C%20%5B-23.68938346%2C%20-46.49660058%5D%2C%20%5B-23.54087009%2C%20-46.64396451%5D%2C%20%5B-23.57174779%2C%20-46.75304867%5D%2C%20%5B-23.50063684%2C%20-46.76142051%5D%2C%20%5B-23.58482541%2C%20-46.29781805%5D%2C%20%5B-23.60250221%2C%20-46.53016928%5D%2C%20%5B-23.63318722%2C%20-46.79904018%5D%2C%20%5B-23.67467492%2C%20-46.68154598%5D%2C%20%5B-23.47533387%2C%20-46.72196917%5D%2C%20%5B-23.48008883%2C%20-46.64814474%5D%2C%20%5B-23.6128579%2C%20-46.49393286%5D%2C%20%5B-23.6128579%2C%20-46.49393286%5D%2C%20%5B-23.6128579%2C%20-46.49393286%5D%2C%20%5B-23.69389821%2C%20-46.60615736%5D%2C%20%5B-23.5680316%2C%20-46.35458078%5D%2C%20%5B-23.53050108%2C%20-46.86503945%5D%2C%20%5B-23.63151095%2C%20-46.50040963%5D%2C%20%5B-23.63151095%2C%20-46.50040963%5D%2C%20%5B-23.67504483%2C%20-46.6281303%5D%2C%20%5B-23.57553093%2C%20-46.73201927%5D%2C%20%5B-23.47141582%2C%20-46.57223915%5D%2C%20%5B-23.62245101%2C%20-46.27190156%5D%2C%20%5B-23.47615177%2C%20-46.89683328%5D%2C%20%5B-23.5548908%2C%20-46.33053229%5D%2C%20%5B-23.5548908%2C%20-46.33053229%5D%2C%20%5B-23.54087009%2C%20-46.64396451%5D%2C%20%5B-23.64200911%2C%20-46.6479792%5D%2C%20%5B-23.50072%2C%20-46.68923424%5D%2C%20%5B-23.44349918%2C%20-46.79149047%5D%2C%20%5B-23.76026666%2C%20-46.6689042%5D%2C%20%5B-23.64079753%2C%20-46.50764363%5D%2C%20%5B-23.69528001%2C%20-46.28843238%5D%2C%20%5B-23.63151095%2C%20-46.50040963%5D%2C%20%5B-23.55443555%2C%20-46.78989076%5D%2C%20%5B-23.58534457%2C%20-46.33541777%5D%2C%20%5B-23.49093439%2C%20-46.55326207%5D%2C%20%5B-23.49093439%2C%20-46.55326207%5D%2C%20%5B-23.33122744%2C%20-46.59235965%5D%2C%20%5B-23.46945189%2C%20-46.5203627%5D%2C%20%5B-23.76196765%2C%20-46.81411543%5D%2C%20%5B-23.46615797%2C%20-46.68770059%5D%2C%20%5B-23.46615797%2C%20-46.68770059%5D%2C%20%5B-23.6128579%2C%20-46.49393286%5D%2C%20%5B-23.6128579%2C%20-46.49393286%5D%2C%20%5B-23.67195385%2C%20-46.59809194%5D%2C%20%5B-23.69389821%2C%20-46.60615736%5D%2C%20%5B-23.56596302%2C%20-46.29472685%5D%2C%20%5B-23.56596302%2C%20-46.29472685%5D%2C%20%5B-23.50063684%2C%20-46.76142051%5D%2C%20%5B-23.58482541%2C%20-46.29781805%5D%2C%20%5B-23.59166431%2C%20-46.63525779%5D%2C%20%5B-23.68938346%2C%20-46.49660058%5D%2C%20%5B-23.54087009%2C%20-46.64396451%5D%2C%20%5B-23.55443369%2C%20-46.65450265%5D%2C%20%5B-23.47533387%2C%20-46.72196917%5D%2C%20%5B-23.48008883%2C%20-46.64814474%5D%2C%20%5B-23.69389821%2C%20-46.60615736%5D%2C%20%5B-23.54049099%2C%20-46.89076446%5D%2C%20%5B-23.43186864%2C%20-46.82527541%5D%2C%20%5B-23.43186864%2C%20-46.82527541%5D%2C%20%5B-23.6128579%2C%20-46.49393286%5D%2C%20%5B-23.67195385%2C%20-46.59809194%5D%2C%20%5B-23.67195385%2C%20-46.59809194%5D%2C%20%5B-23.5680316%2C%20-46.35458078%5D%2C%20%5B-23.5680316%2C%20-46.35458078%5D%2C%20%5B-23.56102427%2C%20-46.84463486%5D%2C%20%5B-23.54049099%2C%20-46.89076446%5D%2C%20%5B-23.53050108%2C%20-46.86503945%5D%2C%20%5B-23.69528001%2C%20-46.28843238%5D%2C%20%5B-23.67504483%2C%20-46.6281303%5D%2C%20%5B-23.69528001%2C%20-46.28843238%5D%2C%20%5B-23.55443369%2C%20-46.65450265%5D%2C%20%5B-23.76026666%2C%20-46.6689042%5D%2C%20%5B-23.47533387%2C%20-46.72196917%5D%2C%20%5B-23.6128579%2C%20-46.49393286%5D%2C%20%5B-23.6128579%2C%20-46.49393286%5D%2C%20%5B-23.64079753%2C%20-46.50764363%5D%2C%20%5B-23.56596302%2C%20-46.29472685%5D%2C%20%5B-23.63151095%2C%20-46.50040963%5D%2C%20%5B-23.6016901%2C%20-46.6506133%5D%2C%20%5B-23.57553093%2C%20-46.73201927%5D%2C%20%5B-23.57553093%2C%20-46.73201927%5D%2C%20%5B-23.59517766%2C%20-46.53968844%5D%2C%20%5B-23.4160798%2C%20-46.85457581%5D%2C%20%5B-23.47472793%2C%20-46.12480099%5D%2C%20%5B-23.5526368%2C%20-46.42084925%5D%2C%20%5B-23.48211874%2C%20-46.41746592%5D%2C%20%5B-23.47141582%2C%20-46.57223915%5D%2C%20%5B-23.59517766%2C%20-46.53968844%5D%2C%20%5B-23.74381759%2C%20-46.6930829%5D%2C%20%5B-23.56622634%2C%20-46.74259444%5D%2C%20%5B-23.62245101%2C%20-46.27190156%5D%2C%20%5B-23.40188137%2C%20-46.51214505%5D%2C%20%5B-23.25471014%2C%20-46.73139704%5D%2C%20%5B-23.52095731%2C%20-46.36822467%5D%2C%20%5B-23.52095731%2C%20-46.36822467%5D%2C%20%5B-23.47540198%2C%20-46.12495054%5D%2C%20%5B-23.48522547%2C%20-46.89218739%5D%2C%20%5B-23.48522547%2C%20-46.89218739%5D%2C%20%5B-23.56876088%2C%20-46.95503148%5D%2C%20%5B-23.47615177%2C%20-46.89683328%5D%2C%20%5B-23.47540198%2C%20-46.12495054%5D%2C%20%5B-23.55443555%2C%20-46.78989076%5D%2C%20%5B-23.55443555%2C%20-46.78989076%5D%2C%20%5B-23.55443555%2C%20-46.78989076%5D%2C%20%5B-23.55443555%2C%20-46.78989076%5D%2C%20%5B-23.55443555%2C%20-46.78989076%5D%2C%20%5B-23.55443555%2C%20-46.78989076%5D%2C%20%5B-23.55443555%2C%20-46.78989076%5D%2C%20%5B-23.53214697%2C%20-46.76616663%5D%2C%20%5B-23.63731464%2C%20-46.7898079%5D%2C%20%5B-23.63731464%2C%20-46.7898079%5D%2C%20%5B-23.52895667%2C%20-46.44280467%5D%2C%20%5B-23.67049181%2C%20-46.51972188%5D%2C%20%5B-23.43061077%2C%20-46.40577847%5D%2C%20%5B-23.63731464%2C%20-46.7898079%5D%2C%20%5B-23.70288715%2C%20-46.50812327%5D%2C%20%5B-23.57913121%2C%20-46.48152315%5D%2C%20%5B-23.42183943%2C%20-46.52621812%5D%2C%20%5B-23.40188137%2C%20-46.51214505%5D%2C%20%5B-23.25471014%2C%20-46.73139704%5D%2C%20%5B-23.47615177%2C%20-46.89683328%5D%2C%20%5B-23.52095731%2C%20-46.36822467%5D%2C%20%5B-23.52095731%2C%20-46.36822467%5D%2C%20%5B-23.48784154%2C%20-46.60335719%5D%2C%20%5B-23.62276859%2C%20-46.31017384%5D%2C%20%5B-23.33501206%2C%20-46.72485152%5D%2C%20%5B-23.54215273%2C%20-46.7848124%5D%2C%20%5B-23.55443555%2C%20-46.78989076%5D%2C%20%5B-23.54322936%2C%20-46.25837725%5D%2C%20%5B-23.56102427%2C%20-46.84463486%5D%2C%20%5B-23.48522547%2C%20-46.89218739%5D%2C%20%5B-23.61919742%2C%20-46.50048409%5D%2C%20%5B-23.61919742%2C%20-46.50048409%5D%2C%20%5B-23.66535748%2C%20-46.67814267%5D%2C%20%5B-23.70524942%2C%20-46.56239948%5D%2C%20%5B-23.27570248%2C%20-46.75888731%5D%2C%20%5B-23.43061077%2C%20-46.40577847%5D%2C%20%5B-23.32056513%2C%20-46.76360114%5D%2C%20%5B-23.53974835%2C%20-46.28079106%5D%2C%20%5B-23.48784154%2C%20-46.60335719%5D%2C%20%5B-23.50257827%2C%20-46.53220603%5D%2C%20%5B-23.66935272%2C%20-46.6148617%5D%2C%20%5B-23.66935272%2C%20-46.6148617%5D%2C%20%5B-23.51023615%2C%20-46.35835921%5D%2C%20%5B-23.54362374%2C%20-46.80052078%5D%2C%20%5B-23.54660372%2C%20-46.82804937%5D%2C%20%5B-23.44349918%2C%20-46.79149047%5D%2C%20%5B-23.47533387%2C%20-46.72196917%5D%2C%20%5B-23.55604415%2C%20-46.3071168%5D%2C%20%5B-23.64079753%2C%20-46.50764363%5D%2C%20%5B-23.67195385%2C%20-46.59809194%5D%2C%20%5B-23.54049099%2C%20-46.89076446%5D%2C%20%5B-23.43186864%2C%20-46.82527541%5D%2C%20%5B-23.5526368%2C%20-46.42084925%5D%2C%20%5B-23.5526368%2C%20-46.42084925%5D%2C%20%5B-23.45914689%2C%20-46.52308508%5D%2C%20%5B-23.56295622%2C%20-46.78365197%5D%2C%20%5B-23.56979631%2C%20-46.56155431%5D%2C%20%5B-23.67049181%2C%20-46.51972188%5D%2C%20%5B-23.55260331%2C%20-46.63784448%5D%2C%20%5B-23.61919742%2C%20-46.50048409%5D%2C%20%5B-23.66535748%2C%20-46.67814267%5D%2C%20%5B-23.44561075%2C%20-46.52164554%5D%2C%20%5B-23.55764368%2C%20-46.94846045%5D%2C%20%5B-23.55764368%2C%20-46.94846045%5D%2C%20%5B-23.58518502%2C%20-46.59956376%5D%2C%20%5B-23.7361613%2C%20-46.49653231%5D%2C%20%5B-23.6864774%2C%20-46.31211617%5D%2C%20%5B-23.52792636%2C%20-46.84003891%5D%2C%20%5B-23.50086239%2C%20-46.80842692%5D%2C%20%5B-23.62655698%2C%20-46.79546351%5D%2C%20%5B-23.6247368%2C%20-46.82508306%5D%2C%20%5B-23.69607736%2C%20-46.52494957%5D%2C%20%5B-23.70872374%2C%20-46.61010687%5D%2C%20%5B-23.58110866%2C%20-46.64035726%5D%2C%20%5B-23.45260362%2C%20-46.68071036%5D%2C%20%5B-23.54049099%2C%20-46.89076446%5D%2C%20%5B-23.43186864%2C%20-46.82527541%5D%2C%20%5B-23.69528001%2C%20-46.28843238%5D%2C%20%5B-23.56979631%2C%20-46.56155431%5D%2C%20%5B-23.39816858%2C%20-46.39800961%5D%2C%20%5B-23.26901667%2C%20-46.61281384%5D%2C%20%5B-23.26901667%2C%20-46.61281384%5D%2C%20%5B-23.49077679%2C%20-46.34995284%5D%2C%20%5B-23.55942679%2C%20-46.9392773%5D%2C%20%5B-23.53161693%2C%20-46.62487809%5D%2C%20%5B-23.7009415%2C%20-46.59898326%5D%2C%20%5B-23.64518915%2C%20-46.64498003%5D%2C%20%5B-23.41479746%2C%20-46.89355581%5D%2C%20%5B-23.56893146%2C%20-46.79893482%5D%2C%20%5B-23.54828164%2C%20-45.96350265%5D%2C%20%5B-23.647851%2C%20-46.59345145%5D%2C%20%5B-23.66365484%2C%20-46.62310645%5D%2C%20%5B-23.66365484%2C%20-46.62310645%5D%2C%20%5B-23.55808855%2C%20-46.46152551%5D%2C%20%5B-23.63289772%2C%20-46.30554095%5D%2C%20%5B-23.49553515%2C%20-46.32032691%5D%2C%20%5B-23.54362374%2C%20-46.80052078%5D%2C%20%5B-23.54362374%2C%20-46.80052078%5D%2C%20%5B-23.54660372%2C%20-46.82804937%5D%2C%20%5B-23.50086239%2C%20-46.80842692%5D%2C%20%5B-23.65861047%2C%20-46.57657524%5D%2C%20%5B-23.51066893%2C%20-46.87496453%5D%2C%20%5B-23.54897394%2C%20-46.15323431%5D%2C%20%5B-23.45814605%2C%20-46.70606105%5D%2C%20%5B-23.74381759%2C%20-46.6930829%5D%2C%20%5B-23.47540198%2C%20-46.12495054%5D%2C%20%5B-23.62400153%2C%20-46.80715336%5D%2C%20%5B-23.44561075%2C%20-46.52164554%5D%2C%20%5B-23.2796767%2C%20-46.75508273%5D%2C%20%5B-23.2796767%2C%20-46.75508273%5D%2C%20%5B-23.47669171%2C%20-46.64716488%5D%2C%20%5B-23.47669171%2C%20-46.64716488%5D%2C%20%5B-23.64070136%2C%20-46.79674959%5D%2C%20%5B-23.64070136%2C%20-46.79674959%5D%2C%20%5B-23.56808542%2C%20-46.32458935%5D%2C%20%5B-23.55443555%2C%20-46.78989076%5D%2C%20%5B-23.55443555%2C%20-46.78989076%5D%2C%20%5B-23.49077679%2C%20-46.34995284%5D%2C%20%5B-23.49077679%2C%20-46.34995284%5D%2C%20%5B-23.55764368%2C%20-46.94846045%5D%2C%20%5B-23.55764368%2C%20-46.94846045%5D%2C%20%5B-23.62400153%2C%20-46.80715336%5D%2C%20%5B-23.38915169%2C%20-46.41540145%5D%2C%20%5B-23.7361613%2C%20-46.49653231%5D%2C%20%5B-23.2596719%2C%20-46.59016352%5D%2C%20%5B-23.6417365%2C%20-46.78929989%5D%2C%20%5B-23.6417365%2C%20-46.78929989%5D%2C%20%5B-23.56102427%2C%20-46.84463486%5D%2C%20%5B-23.57568042%2C%20-46.59807655%5D%2C%20%5B-23.57568042%2C%20-46.59807655%5D%2C%20%5B-23.57568042%2C%20-46.59807655%5D%2C%20%5B-23.63151095%2C%20-46.50040963%5D%2C%20%5B-23.5526368%2C%20-46.42084925%5D%2C%20%5B-23.5526368%2C%20-46.42084925%5D%2C%20%5B-23.5526368%2C%20-46.42084925%5D%2C%20%5B-23.56092789%2C%20-46.90380304%5D%2C%20%5B-23.56092789%2C%20-46.90380304%5D%2C%20%5B-23.6191255%2C%20-46.49371877%5D%2C%20%5B-23.54138896%2C%20-46.60975417%5D%2C%20%5B-23.54937901%2C%20-46.63327747%5D%2C%20%5B-23.54937901%2C%20-46.63327747%5D%2C%20%5B-23.6520852%2C%20-46.61158632%5D%2C%20%5B-23.49153655%2C%20-46.68963016%5D%2C%20%5B-23.5957776%2C%20-46.78937615%5D%2C%20%5B-23.60809379%2C%20-46.49102376%5D%2C%20%5B-23.56240825%2C%20-46.31093415%5D%2C%20%5B-23.4478222%2C%20-46.92505713%5D%2C%20%5B-23.56278809%2C%20-46.79809214%5D%2C%20%5B-23.67235933%2C%20-46.4499283%5D%2C%20%5B-23.72118046%2C%20-46.62199589%5D%2C%20%5B-23.33450395%2C%20-46.72561127%5D%2C%20%5B-23.54369741%2C%20-46.93564217%5D%2C%20%5B-23.41479746%2C%20-46.89355581%5D%2C%20%5B-23.56893146%2C%20-46.79893482%5D%2C%20%5B-23.66662886%2C%20-46.46126631%5D%2C%20%5B-23.71286115%2C%20-46.78186771%5D%2C%20%5B-23.57599768%2C%20-46.65788643%5D%2C%20%5B-23.60414926%2C%20-46.636809%5D%2C%20%5B-23.54108743%2C%20-46.59960977%5D%2C%20%5B-23.54108743%2C%20-46.59960977%5D%2C%20%5B-23.67074867%2C%20-46.50128461%5D%2C%20%5B-23.43793487%2C%20-46.54884341%5D%2C%20%5B-23.69756523%2C%20-46.80046837%5D%2C%20%5B-23.5005782%2C%20-46.6513459%5D%2C%20%5B-23.2596719%2C%20-46.59016352%5D%2C%20%5B-23.78926562%2C%20-46.81190236%5D%2C%20%5B-23.71286115%2C%20-46.78186771%5D%2C%20%5B-23.54153842%2C%20-46.78459113%5D%2C%20%5B-23.57914148%2C%20-46.92656552%5D%2C%20%5B-23.57914148%2C%20-46.92656552%5D%2C%20%5B-23.59517766%2C%20-46.53968844%5D%2C%20%5B-23.48211874%2C%20-46.41746592%5D%2C%20%5B-23.59245644%2C%20-46.50847045%5D%2C%20%5B-23.54199034%2C%20-46.4101369%5D%2C%20%5B-23.60809379%2C%20-46.49102376%5D%2C%20%5B-23.45824918%2C%20-46.65399409%5D%2C%20%5B-23.72412426%2C%20-46.69591258%5D%2C%20%5B-23.77478823%2C%20-46.74105715%5D%2C%20%5B-23.68592599%2C%20-46.76944679%5D%2C%20%5B-23.56622634%2C%20-46.74259444%5D%2C%20%5B-23.42183943%2C%20-46.52621812%5D%2C%20%5B-23.5548908%2C%20-46.33053229%5D%2C%20%5B-23.64700353%2C%20-46.3359182%5D%2C%20%5B-23.64700353%2C%20-46.3359182%5D%2C%20%5B-23.59245644%2C%20-46.50847045%5D%2C%20%5B-23.48497513%2C%20-46.3035553%5D%2C%20%5B-23.59632859%2C%20-46.78580504%5D%2C%20%5B-23.5957776%2C%20-46.78937615%5D%2C%20%5B-23.69024339%2C%20-46.59040054%5D%2C%20%5B-23.62564666%2C%20-46.55754216%5D%2C%20%5B-23.56808542%2C%20-46.32458935%5D%2C%20%5B-23.55443555%2C%20-46.78989076%5D%2C%20%5B-23.53214697%2C%20-46.76616663%5D%2C%20%5B-23.58534457%2C%20-46.33541777%5D%2C%20%5B-23.59166431%2C%20-46.63525779%5D%2C%20%5B-23.53571138%2C%20-46.83972413%5D%2C%20%5B-23.62744751%2C%20-46.79217598%5D%2C%20%5B-23.62744751%2C%20-46.79217598%5D%2C%20%5B-23.64194903%2C%20-46.79746202%5D%2C%20%5B-23.69379582%2C%20-46.78542704%5D%2C%20%5B-23.69379582%2C%20-46.78542704%5D%2C%20%5B-23.48210123%2C%20-46.49360401%5D%2C%20%5B-23.4542897%2C%20-46.70115694%5D%2C%20%5B-23.60162405%2C%20-46.7531011%5D%2C%20%5B-23.49955975%2C%20-46.87648553%5D%2C%20%5B-23.49955975%2C%20-46.87648553%5D%2C%20%5B-23.647851%2C%20-46.59345145%5D%2C%20%5B-23.53963772%2C%20-46.64521707%5D%2C%20%5B-23.54587689%2C%20-46.40646525%5D%2C%20%5B-23.57323271%2C%20-46.58201665%5D%2C%20%5B-23.57323271%2C%20-46.58201665%5D%2C%20%5B-23.57323271%2C%20-46.58201665%5D%2C%20%5B-23.54108743%2C%20-46.59960977%5D%2C%20%5B-23.53161693%2C%20-46.62487809%5D%2C%20%5B-23.6016901%2C%20-46.6506133%5D%2C%20%5B-23.48211874%2C%20-46.41746592%5D%2C%20%5B-23.57913121%2C%20-46.48152315%5D%2C%20%5B-23.4160798%2C%20-46.85457581%5D%2C%20%5B-23.66935272%2C%20-46.6148617%5D%2C%20%5B-23.62276859%2C%20-46.31017384%5D%2C%20%5B-23.33501206%2C%20-46.72485152%5D%2C%20%5B-23.48522547%2C%20-46.89218739%5D%2C%20%5B-23.48522547%2C%20-46.89218739%5D%2C%20%5B-23.65927018%2C%20-46.43686148%5D%2C%20%5B-23.43793487%2C%20-46.54884341%5D%2C%20%5B-23.43793487%2C%20-46.54884341%5D%2C%20%5B-23.52625417%2C%20-46.76702487%5D%2C%20%5B-23.52625417%2C%20-46.76702487%5D%2C%20%5B-23.41365186%2C%20-46.46176133%5D%2C%20%5B-23.4478222%2C%20-46.92505713%5D%2C%20%5B-23.51599581%2C%20-46.90189497%5D%2C%20%5B-23.2728395%2C%20-46.75104206%5D%2C%20%5B-23.55286533%2C%20-46.80979695%5D%2C%20%5B-23.55286533%2C%20-46.80979695%5D%2C%20%5B-23.55642633%2C%20-46.84589314%5D%2C%20%5B-23.62947332%2C%20-46.78747565%5D%2C%20%5B-23.64680333%2C%20-46.66733508%5D%2C%20%5B-23.78926562%2C%20-46.81190236%5D%2C%20%5B-23.71286115%2C%20-46.78186771%5D%2C%20%5B-23.71286115%2C%20-46.78186771%5D%2C%20%5B-23.59890881%2C%20-46.70165643%5D%2C%20%5B-23.46036542%2C%20-46.68446891%5D%2C%20%5B-23.69379582%2C%20-46.78542704%5D%2C%20%5B-23.57323271%2C%20-46.58201665%5D%2C%20%5B-23.48784154%2C%20-46.60335719%5D%2C%20%5B-23.6768742%2C%20-46.6635967%5D%2C%20%5B-23.60414926%2C%20-46.636809%5D%2C%20%5B-23.49681628%2C%20-46.63775785%5D%2C%20%5B-23.43793487%2C%20-46.54884341%5D%2C%20%5B-23.32290188%2C%20-46.59476347%5D%2C%20%5B-23.32290188%2C%20-46.59476347%5D%2C%20%5B-23.64617884%2C%20-46.66942035%5D%2C%20%5B-23.65367344%2C%20-46.69720366%5D%2C%20%5B-23.68502316%2C%20-46.77975021%5D%2C%20%5B-23.70872374%2C%20-46.61010687%5D%2C%20%5B-23.54108322%2C%20-46.79848743%5D%2C%20%5B-23.42828566%2C%20-46.50615639%5D%2C%20%5B-23.55604415%2C%20-46.3071168%5D%2C%20%5B-23.52349282%2C%20-46.1946855%5D%2C%20%5B-23.51922244%2C%20-46.92221121%5D%2C%20%5B-23.63428524%2C%20-46.30655574%5D%2C%20%5B-23.62276859%2C%20-46.31017384%5D%2C%20%5B-23.45914689%2C%20-46.52308508%5D%2C%20%5B-23.56295622%2C%20-46.78365197%5D%2C%20%5B-23.88022047%2C%20-46.65899354%5D%2C%20%5B-23.46036542%2C%20-46.68446891%5D%2C%20%5B-23.63548626%2C%20-46.61828026%5D%2C%20%5B-23.60307768%2C%20-46.78206199%5D%2C%20%5B-23.63284126%2C%20-46.77269197%5D%2C%20%5B-23.54630142%2C%20-46.5334089%5D%2C%20%5B-23.70642236%2C%20-46.54377388%5D%2C%20%5B-23.70642236%2C%20-46.54377388%5D%2C%20%5B-23.54732835%2C%20-46.308956%5D%2C%20%5B-23.43061077%2C%20-46.40577847%5D%2C%20%5B-23.53974835%2C%20-46.28079106%5D%2C%20%5B-23.67255372%2C%20-46.63605346%5D%2C%20%5B-23.4586164%2C%20-46.67109467%5D%2C%20%5B-23.42277705%2C%20-46.49738752%5D%2C%20%5B-23.55737815%2C%20-46.51990777%5D%2C%20%5B-23.55737815%2C%20-46.51990777%5D%2C%20%5B-23.70387244%2C%20-46.54093074%5D%2C%20%5B-23.66681347%2C%20-46.2531086%5D%2C%20%5B-23.42793805%2C%20-46.5461023%5D%2C%20%5B-23.58612435%2C%20-46.2317237%5D%2C%20%5B-23.61912958%2C%20-46.36807847%5D%2C%20%5B-23.73067931%2C%20-46.48113368%5D%2C%20%5B-23.61912958%2C%20-46.36807847%5D%2C%20%5B-23.51924426%2C%20-46.85594728%5D%2C%20%5B-23.42277705%2C%20-46.49738752%5D%2C%20%5B-23.49885205%2C%20-46.35286891%5D%2C%20%5B-23.49885205%2C%20-46.35286891%5D%2C%20%5B-23.64194903%2C%20-46.79746202%5D%2C%20%5B-23.65690575%2C%20-46.45312602%5D%2C%20%5B-23.52625417%2C%20-46.76702487%5D%2C%20%5B-23.55260331%2C%20-46.63784448%5D%2C%20%5B-23.50280873%2C%20-46.46658736%5D%2C%20%5B-23.66535748%2C%20-46.67814267%5D%2C%20%5B-23.69397578%2C%20-46.6534855%5D%2C%20%5B-23.70524942%2C%20-46.56239948%5D%2C%20%5B-23.27570248%2C%20-46.75888731%5D%2C%20%5B-23.66535748%2C%20-46.67814267%5D%2C%20%5B-23.65307564%2C%20-46.33864594%5D%2C%20%5B-23.71286115%2C%20-46.78186771%5D%2C%20%5B-23.71286115%2C%20-46.78186771%5D%2C%20%5B-23.57581552%2C%20-46.74978058%5D%2C%20%5B-23.54587689%2C%20-46.40646525%5D%2C%20%5B-23.50492882%2C%20-46.58735122%5D%2C%20%5B-23.2728395%2C%20-46.75104206%5D%2C%20%5B-23.55286533%2C%20-46.80979695%5D%2C%20%5B-23.50086239%2C%20-46.80842692%5D%2C%20%5B-23.50086239%2C%20-46.80842692%5D%2C%20%5B-23.68592599%2C%20-46.76944679%5D%2C%20%5B-23.69607736%2C%20-46.52494957%5D%2C%20%5B-23.69607736%2C%20-46.52494957%5D%2C%20%5B-23.56979631%2C%20-46.56155431%5D%2C%20%5B-23.6468461%2C%20-46.64109788%5D%2C%20%5B-23.55286533%2C%20-46.80979695%5D%2C%20%5B-23.62947332%2C%20-46.78747565%5D%2C%20%5B-23.6864774%2C%20-46.31211617%5D%2C%20%5B-23.51023615%2C%20-46.35835921%5D%2C%20%5B-23.66896941%2C%20-47.03763624%5D%2C%20%5B-23.53652328%2C%20-46.88940191%5D%2C%20%5B-23.55426389%2C%20-46.50047357%5D%2C%20%5B-23.72228227%2C%20-46.55561944%5D%2C%20%5B-23.42277705%2C%20-46.49738752%5D%2C%20%5B-23.42277705%2C%20-46.49738752%5D%2C%20%5B-23.49885205%2C%20-46.35286891%5D%2C%20%5B-23.65117584%2C%20-46.80758868%5D%2C%20%5B-23.65163895%2C%20-46.80458461%5D%2C%20%5B-23.59049778%2C%20-46.76077637%5D%2C%20%5B-23.56211147%2C%20-46.63879558%5D%2C%20%5B-23.70387244%2C%20-46.54093074%5D%2C%20%5B-23.66681347%2C%20-46.2531086%5D%2C%20%5B-23.42793805%2C%20-46.5461023%5D%2C%20%5B-23.61912958%2C%20-46.36807847%5D%2C%20%5B-23.51870175%2C%20-46.77613574%5D%2C%20%5B-23.65117584%2C%20-46.80758868%5D%2C%20%5B-23.70940453%2C%20-46.59304979%5D%2C%20%5B-23.65690575%2C%20-46.45312602%5D%2C%20%5B-23.53060968%2C%20-46.71104089%5D%2C%20%5B-23.45260362%2C%20-46.68071036%5D%2C%20%5B-23.44000814%2C%20-46.41101798%5D%2C%20%5B-23.53593054%2C%20-46.58597749%5D%2C%20%5B-23.70547991%2C%20-46.58342884%5D%2C%20%5B-23.56979631%2C%20-46.56155431%5D%2C%20%5B-23.7009415%2C%20-46.59898326%5D%2C%20%5B-23.67235933%2C%20-46.4499283%5D%2C%20%5B-23.61629317%2C%20-46.78716926%5D%2C%20%5B-23.64855229%2C%20-46.82130865%5D%2C%20%5B-23.55259322%2C%20-46.64069603%5D%2C%20%5B-23.52291074%2C%20-46.68906188%5D%2C%20%5B-23.45814605%2C%20-46.70606105%5D%2C%20%5B-23.6468461%2C%20-46.64109788%5D%2C%20%5B-23.46673578%2C%20-46.66701204%5D%2C%20%5B-23.64833722%2C%20-46.5067936%5D%2C%20%5B-23.59656169%2C%20-46.52360996%5D%2C%20%5B-23.59656169%2C%20-46.52360996%5D%2C%20%5B-23.52157446%2C%20-46.56290573%5D%2C%20%5B-23.44561075%2C%20-46.52164554%5D%2C%20%5B-23.49077679%2C%20-46.34995284%5D%2C%20%5B-23.47669171%2C%20-46.64716488%5D%2C%20%5B-23.5005782%2C%20-46.6513459%5D%2C%20%5B-23.48506973%2C%20-46.89413966%5D%2C%20%5B-23.48506973%2C%20-46.89413966%5D%2C%20%5B-23.30995325%2C%20-46.28369814%5D%2C%20%5B-23.2728395%2C%20-46.75104206%5D%2C%20%5B-23.2728395%2C%20-46.75104206%5D%2C%20%5B-23.52322277%2C%20-46.18289389%5D%2C%20%5B-23.55286533%2C%20-46.80979695%5D%2C%20%5B-23.55642633%2C%20-46.84589314%5D%2C%20%5B-23.48442952%2C%20-46.72866977%5D%2C%20%5B-23.28595294%2C%20-46.75441319%5D%2C%20%5B-23.28595294%2C%20-46.75441319%5D%2C%20%5B-23.64680333%2C%20-46.66733508%5D%2C%20%5B-23.60241011%2C%20-46.58599716%5D%2C%20%5B-23.54809281%2C%20-46.74870063%5D%2C%20%5B-23.68288344%2C%20-46.65519254%5D%2C%20%5B-23.54153842%2C%20-46.78459113%5D%2C%20%5B-23.66437498%2C%20-46.44390371%5D%2C%20%5B-23.40477951%2C%20-46.46565243%5D%2C%20%5B-23.55764368%2C%20-46.94846045%5D%2C%20%5B-23.55942679%2C%20-46.9392773%5D%2C%20%5B-23.65163895%2C%20-46.80458461%5D%2C%20%5B-23.57568042%2C%20-46.59807655%5D%2C%20%5B-23.50557237%2C%20-46.67004318%5D%2C%20%5B-23.60470087%2C%20-46.59974496%5D%2C%20%5B-23.44760379%2C%20-46.46720625%5D%2C%20%5B-23.41777372%2C%20-46.43298413%5D%2C%20%5B-23.70333929%2C%20-46.64104879%5D%2C%20%5B-23.70333929%2C%20-46.64104879%5D%2C%20%5B-23.43796864%2C%20-46.40302912%5D%2C%20%5B-23.54138896%2C%20-46.60975417%5D%2C%20%5B-23.54199034%2C%20-46.4101369%5D%2C%20%5B-23.54199034%2C%20-46.4101369%5D%2C%20%5B-23.71286115%2C%20-46.78186771%5D%2C%20%5B-23.71674757%2C%20-46.54846086%5D%2C%20%5B-23.54809281%2C%20-46.74870063%5D%2C%20%5B-23.50786479%2C%20-46.4055%5D%2C%20%5B-23.72118046%2C%20-46.62199589%5D%2C%20%5B-23.55665981%2C%20-46.79443375%5D%2C%20%5B-23.69024339%2C%20-46.59040054%5D%2C%20%5B-23.42009017%2C%20-46.02273563%5D%2C%20%5B-23.56240825%2C%20-46.31093415%5D%2C%20%5B-23.66304476%2C%20-46.73980252%5D%2C%20%5B-23.66304476%2C%20-46.73980252%5D%2C%20%5B-23.71286115%2C%20-46.78186771%5D%2C%20%5B-23.67968682%2C%20-46.7613444%5D%2C%20%5B-23.65805733%2C%20-46.69059136%5D%2C%20%5B-23.45188413%2C%20-46.70007959%5D%2C%20%5B-23.49550916%2C%20-46.6774312%5D%2C%20%5B-23.491917%2C%20-46.46953206%5D%2C%20%5B-23.62245101%2C%20-46.27190156%5D%2C%20%5B-23.62245101%2C%20-46.27190156%5D%2C%20%5B-23.40188137%2C%20-46.51214505%5D%2C%20%5B-23.40188137%2C%20-46.51214505%5D%2C%20%5B-23.73129215%2C%20-46.53496218%5D%2C%20%5B-23.73129215%2C%20-46.53496218%5D%2C%20%5B-23.73129215%2C%20-46.53496218%5D%2C%20%5B-23.50786479%2C%20-46.4055%5D%2C%20%5B-23.58309213%2C%20-46.67143663%5D%2C%20%5B-23.63222021%2C%20-46.9402579%5D%2C%20%5B-23.58612435%2C%20-46.2317237%5D%2C%20%5B-23.58612435%2C%20-46.2317237%5D%2C%20%5B-23.71811391%2C%20-46.85315024%5D%2C%20%5B-23.62038755%2C%20-46.92701799%5D%2C%20%5B-23.43243918%2C%20-46.59410206%5D%2C%20%5B-23.43243918%2C%20-46.59410206%5D%2C%20%5B-23.71286115%2C%20-46.78186771%5D%2C%20%5B-23.71286115%2C%20-46.78186771%5D%2C%20%5B-23.48515805%2C%20-46.894118%5D%2C%20%5B-23.55397073%2C%20-46.6402803%5D%2C%20%5B-23.69379582%2C%20-46.78542704%5D%2C%20%5B-23.48210123%2C%20-46.49360401%5D%2C%20%5B-23.60162405%2C%20-46.7531011%5D%2C%20%5B-23.58235117%2C%20-46.78880203%5D%2C%20%5B-23.58235117%2C%20-46.78880203%5D%2C%20%5B-23.57323271%2C%20-46.58201665%5D%2C%20%5B-23.72515906%2C%20-46.52309454%5D%2C%20%5B-23.67316469%2C%20-46.63107948%5D%2C%20%5B-23.5034086%2C%20-46.78641059%5D%2C%20%5B-23.6768742%2C%20-46.6635967%5D%2C%20%5B-23.49681628%2C%20-46.63775785%5D%2C%20%5B-23.54108743%2C%20-46.59960977%5D%2C%20%5B-23.66136588%2C%20-46.43446797%5D%2C%20%5B-23.44361746%2C%20-46.46661814%5D%2C%20%5B-23.44361746%2C%20-46.46661814%5D%2C%20%5B-23.50627175%2C%20-46.5390255%5D%2C%20%5B-23.66935272%2C%20-46.6148617%5D%2C%20%5B-23.33501206%2C%20-46.72485152%5D%2C%20%5B-23.47472793%2C%20-46.12480099%5D%2C%20%5B-23.43793487%2C%20-46.54884341%5D%2C%20%5B-23.43793487%2C%20-46.54884341%5D%2C%20%5B-23.69756523%2C%20-46.80046837%5D%2C%20%5B-23.52625417%2C%20-46.76702487%5D%2C%20%5B-23.61629317%2C%20-46.78716926%5D%2C%20%5B-23.64855229%2C%20-46.82130865%5D%2C%20%5B-23.54047657%2C%20-46.74571194%5D%2C%20%5B-23.65106904%2C%20-46.65154117%5D%2C%20%5B-23.7773529%2C%20-46.60157401%5D%2C%20%5B-23.66667145%2C%20-46.54811161%5D%2C%20%5B-23.6903587%2C%20-46.74352332%5D%2C%20%5B-23.57975707%2C%20-46.79206629%5D%2C%20%5B-23.71286115%2C%20-46.78186771%5D%2C%20%5B-23.72086493%2C%20-46.53798524%5D%2C%20%5B-23.69831881%2C%20-46.5044326%5D%2C%20%5B-23.64833722%2C%20-46.5067936%5D%2C%20%5B-23.42119759%2C%20-46.50330288%5D%2C%20%5B-23.42119759%2C%20-46.50330288%5D%2C%20%5B-23.42119759%2C%20-46.50330288%5D%2C%20%5B-23.54153842%2C%20-46.78459113%5D%2C%20%5B-23.73129215%2C%20-46.53496218%5D%2C%20%5B-23.73129215%2C%20-46.53496218%5D%2C%20%5B-23.55111567%2C%20-46.46356124%5D%2C%20%5B-23.5930692%2C%20-46.40676211%5D%2C%20%5B-23.55803467%2C%20-46.83201253%5D%2C%20%5B-23.62867921%2C%20-46.80771587%5D%2C%20%5B-23.54170528%2C%20-46.64152434%5D%2C%20%5B-23.54170528%2C%20-46.64152434%5D%2C%20%5B-23.67057333%2C%20-46.7153662%5D%2C%20%5B-23.72412426%2C%20-46.69591258%5D%2C%20%5B-23.62400153%2C%20-46.80715336%5D%2C%20%5B-23.70028093%2C%20-46.62429338%5D%2C%20%5B-23.78641989%2C%20-46.53545362%5D%2C%20%5B-23.78641989%2C%20-46.53545362%5D%2C%20%5B-23.78641989%2C%20-46.53545362%5D%2C%20%5B-23.58840578%2C%20-46.74173843%5D%2C%20%5B-23.56211147%2C%20-46.63879558%5D%2C%20%5B-23.62226164%2C%20-46.72679855%5D%2C%20%5B-23.67020833%2C%20-46.34774904%5D%2C%20%5B-23.5533845%2C%20-46.84518143%5D%2C%20%5B-23.54592867%2C%20-46.40916268%5D%2C%20%5B-23.52157446%2C%20-46.56290573%5D%2C%20%5B-23.34409945%2C%20-46.91260582%5D%2C%20%5B-23.6520852%2C%20-46.61158632%5D%2C%20%5B-23.6520852%2C%20-46.61158632%5D%2C%20%5B-23.6520852%2C%20-46.61158632%5D%2C%20%5B-23.49153655%2C%20-46.68963016%5D%2C%20%5B-23.48515805%2C%20-46.894118%5D%2C%20%5B-23.48506973%2C%20-46.89413966%5D%2C%20%5B-23.30995325%2C%20-46.28369814%5D%2C%20%5B-23.56365832%2C%20-46.51175392%5D%2C%20%5B-23.66750723%2C%20-46.78406662%5D%2C%20%5B-23.50290604%2C%20-46.15983219%5D%2C%20%5B-23.51292385%2C%20-46.9295801%5D%2C%20%5B-23.51292385%2C%20-46.9295801%5D%2C%20%5B-23.56644201%2C%20-46.81660856%5D%2C%20%5B-23.43278962%2C%20-46.2912279%5D%2C%20%5B-23.44361746%2C%20-46.46661814%5D%2C%20%5B-23.55443555%2C%20-46.78989076%5D%2C%20%5B-23.55443555%2C%20-46.78989076%5D%2C%20%5B-23.51437946%2C%20-46.35339293%5D%2C%20%5B-23.62728394%2C%20-46.77046112%5D%2C%20%5B-23.71286115%2C%20-46.78186771%5D%2C%20%5B-23.60241011%2C%20-46.58599716%5D%2C%20%5B-23.60241011%2C%20-46.58599716%5D%2C%20%5B-23.52470401%2C%20-46.46917618%5D%2C%20%5B-23.51075821%2C%20-46.71865645%5D%2C%20%5B-23.51075821%2C%20-46.71865645%5D%2C%20%5B-23.55286533%2C%20-46.80979695%5D%2C%20%5B-23.55286533%2C%20-46.80979695%5D%2C%20%5B-23.62947332%2C%20-46.78747565%5D%2C%20%5B-23.66667145%2C%20-46.54811161%5D%2C%20%5B-23.59632859%2C%20-46.78580504%5D%2C%20%5B-23.5957776%2C%20-46.78937615%5D%2C%20%5B-23.71286115%2C%20-46.78186771%5D%2C%20%5B-23.58309213%2C%20-46.67143663%5D%2C%20%5B-23.45808723%2C%20-46.62345364%5D%2C%20%5B-23.50548796%2C%20-46.38218228%5D%2C%20%5B-23.46217276%2C%20-46.53341333%5D%2C%20%5B-23.69024339%2C%20-46.59040054%5D%2C%20%5B-23.62564666%2C%20-46.55754216%5D%2C%20%5B-23.62564666%2C%20-46.55754216%5D%2C%20%5B-23.70150835%2C%20-46.61723848%5D%2C%20%5B-23.56240825%2C%20-46.31093415%5D%2C%20%5B-23.66678203%2C%20-46.46202146%5D%2C%20%5B-23.26391836%2C%20-46.58629509%5D%2C%20%5B-23.5034086%2C%20-46.78641059%5D%2C%20%5B-23.71811391%2C%20-46.85315024%5D%2C%20%5B-23.51870175%2C%20-46.77613574%5D%2C%20%5B-23.71286115%2C%20-46.78186771%5D%2C%20%5B-23.55230226%2C%20-46.41918148%5D%2C%20%5B-23.54322936%2C%20-46.25837725%5D%2C%20%5B-23.56278809%2C%20-46.79809214%5D%2C%20%5B-23.66662886%2C%20-46.46126631%5D%2C%20%5B-23.71286115%2C%20-46.78186771%5D%2C%20%5B-23.53391845%2C%20-46.41958849%5D%2C%20%5B-23.53391845%2C%20-46.41958849%5D%2C%20%5B-23.39290298%2C%20-46.73082143%5D%2C%20%5B-23.43648588%2C%20-46.57165169%5D%2C%20%5B-23.59794994%2C%20-46.39525566%5D%2C%20%5B-23.59794994%2C%20-46.39525566%5D%2C%20%5B-23.6661336%2C%20-46.31451001%5D%2C%20%5B-23.6661336%2C%20-46.31451001%5D%2C%20%5B-23.62222017%2C%20-46.27193897%5D%2C%20%5B-23.54963065%2C%20-46.78582973%5D%2C%20%5B-23.55803467%2C%20-46.83201253%5D%2C%20%5B-23.27841354%2C%20-46.72492334%5D%2C%20%5B-23.73129215%2C%20-46.53496218%5D%2C%20%5B-23.50627175%2C%20-46.5390255%5D%2C%20%5B-23.50257827%2C%20-46.53220603%5D%2C%20%5B-23.61188164%2C%20-46.58087495%5D%2C%20%5B-23.61188164%2C%20-46.58087495%5D%2C%20%5B-23.66935272%2C%20-46.6148617%5D%2C%20%5B-23.53585996%2C%20-46.64158761%5D%2C%20%5B-23.71286115%2C%20-46.78186771%5D%2C%20%5B-23.54671705%2C%20-46.23292164%5D%2C%20%5B-23.55286327%2C%20-46.84808989%5D%2C%20%5B-23.62276859%2C%20-46.31017384%5D%2C%20%5B-23.45914689%2C%20-46.52308508%5D%2C%20%5B-23.54853201%2C%20-46.30115452%5D%2C%20%5B-23.51138275%2C%20-46.46776948%5D%2C%20%5B-23.5394593%2C%20-46.66154401%5D%2C%20%5B-23.5394593%2C%20-46.66154401%5D%2C%20%5B-23.51599581%2C%20-46.90189497%5D%2C%20%5B-23.51599581%2C%20-46.90189497%5D%2C%20%5B-23.64999764%2C%20-46.33048826%5D%2C%20%5B-23.58518502%2C%20-46.59956376%5D%2C%20%5B-23.58518502%2C%20-46.59956376%5D%2C%20%5B-23.41253847%2C%20-46.75350062%5D%2C%20%5B-23.58840578%2C%20-46.74173843%5D%2C%20%5B-23.54290219%2C%20-46.59200132%5D%2C%20%5B-23.67131733%2C%20-46.62238359%5D%2C%20%5B-23.55127222%2C%20-45.82705315%5D%2C%20%5B-23.54264214%2C%20-46.61612146%5D%2C%20%5B-23.55052725%2C%20-46.64211164%5D%2C%20%5B-23.48442952%2C%20-46.72866977%5D%2C%20%5B-23.56211147%2C%20-46.63879558%5D%2C%20%5B-23.66667145%2C%20-46.54811161%5D%2C%20%5B-23.54170619%2C%20-46.61462196%5D%2C%20%5B-23.59794994%2C%20-46.39525566%5D%2C%20%5B-23.59794994%2C%20-46.39525566%5D%2C%20%5B-23.77175115%2C%20-46.67678906%5D%2C%20%5B-23.50762701%2C%20-46.50487647%5D%2C%20%5B-23.67597137%2C%20-46.6506192%5D%2C%20%5B-23.6661336%2C%20-46.31451001%5D%2C%20%5B-23.70547991%2C%20-46.58342884%5D%2C%20%5B-23.62096956%2C%20-46.49963479%5D%2C%20%5B-23.53974835%2C%20-46.28079106%5D%2C%20%5B-23.52349282%2C%20-46.1946855%5D%2C%20%5B-23.45974119%2C%20-46.65997893%5D%2C%20%5B-23.45974119%2C%20-46.65997893%5D%2C%20%5B-23.34409945%2C%20-46.91260582%5D%2C%20%5B-23.67749491%2C%20-46.52085781%5D%2C%20%5B-23.57249366%2C%20-46.64406323%5D%2C%20%5B-23.51048645%2C%20-46.68127742%5D%2C%20%5B-23.71286115%2C%20-46.78186771%5D%2C%20%5B-23.49305614%2C%20-46.40496552%5D%2C%20%5B-23.73958511%2C%20-46.59620502%5D%2C%20%5B-23.53769834%2C%20-46.90449436%5D%2C%20%5B-23.71286115%2C%20-46.78186771%5D%2C%20%5B-23.56595116%2C%20-46.74281702%5D%2C%20%5B-23.60777685%2C%20-46.75486255%5D%2C%20%5B-23.60777685%2C%20-46.75486255%5D%2C%20%5B-23.6708488%2C%20-46.56100618%5D%2C%20%5B-23.71674757%2C%20-46.54846086%5D%2C%20%5B-23.58181196%2C%20-46.53789295%5D%2C%20%5B-23.58181196%2C%20-46.53789295%5D%2C%20%5B-23.60241011%2C%20-46.58599716%5D%2C%20%5B-23.49988866%2C%20-46.46915438%5D%2C%20%5B-23.65440674%2C%20-46.60854883%5D%2C%20%5B-23.69379582%2C%20-46.78542704%5D%2C%20%5B-23.48210123%2C%20-46.49360401%5D%2C%20%5B-23.57323271%2C%20-46.58201665%5D%2C%20%5B-23.63879641%2C%20-46.55176719%5D%2C%20%5B-23.77256952%2C%20-46.69346068%5D%2C%20%5B-23.77256952%2C%20-46.69346068%5D%2C%20%5B-23.55260331%2C%20-46.63784448%5D%2C%20%5B-23.55127222%2C%20-45.82705315%5D%2C%20%5B-23.66678203%2C%20-46.46202146%5D%2C%20%5B-23.41777372%2C%20-46.43298413%5D%2C%20%5B-23.66268421%2C%20-46.62306961%5D%2C%20%5B-23.66268421%2C%20-46.62306961%5D%2C%20%5B-23.54671705%2C%20-46.23292164%5D%2C%20%5B-23.62285296%2C%20-46.95019839%5D%2C%20%5B-23.54108743%2C%20-46.59960977%5D%2C%20%5B-23.65927018%2C%20-46.43686148%5D%2C%20%5B-23.43793487%2C%20-46.54884341%5D%2C%20%5B-23.32290188%2C%20-46.59476347%5D%2C%20%5B-23.68437055%2C%20-46.78093355%5D%2C%20%5B-23.4887096%2C%20-46.68256314%5D%2C%20%5B-23.4887096%2C%20-46.68256314%5D%2C%20%5B-23.69397578%2C%20-46.6534855%5D%2C%20%5B-23.27570248%2C%20-46.75888731%5D%2C%20%5B-23.67027277%2C%20-46.50145905%5D%2C%20%5B-23.71286115%2C%20-46.78186771%5D%2C%20%5B-23.68805937%2C%20-46.6005432%5D%2C%20%5B-23.25613529%2C%20-46.72908697%5D%2C%20%5B-23.6864774%2C%20-46.31211617%5D%2C%20%5B-23.52792636%2C%20-46.84003891%5D%2C%20%5B-23.50086239%2C%20-46.80842692%5D%2C%20%5B-23.6247368%2C%20-46.82508306%5D%2C%20%5B-23.71286115%2C%20-46.78186771%5D%2C%20%5B-23.5394593%2C%20-46.66154401%5D%2C%20%5B-23.63028307%2C%20-46.76911557%5D%2C%20%5B-23.54897394%2C%20-46.15323431%5D%2C%20%5B-23.65551857%2C%20-46.53975317%5D%2C%20%5B-23.69607736%2C%20-46.52494957%5D%2C%20%5B-23.56979631%2C%20-46.56155431%5D%2C%20%5B-23.44561075%2C%20-46.52164554%5D%2C%20%5B-23.66618597%2C%20-46.75455377%5D%2C%20%5B-23.75592464%2C%20-46.66618238%5D%2C%20%5B-23.48645136%2C%20-46.75432655%5D%2C%20%5B-23.55230226%2C%20-46.41918148%5D%2C%20%5B-23.61871959%2C%20-46.93197475%5D%2C%20%5B-23.73840422%2C%20-46.57492003%5D%2C%20%5B-23.86326052%2C%20-46.49796219%5D%2C%20%5B-23.59089126%2C%20-46.75370115%5D%2C%20%5B-23.533034%2C%20-46.61830452%5D%2C%20%5B-23.533034%2C%20-46.61830452%5D%2C%20%5B-23.83019292%2C%20-46.71423959%5D%2C%20%5B-23.63548626%2C%20-46.61828026%5D%2C%20%5B-23.67057333%2C%20-46.7153662%5D%2C%20%5B-23.67057333%2C%20-46.7153662%5D%2C%20%5B-23.67057333%2C%20-46.7153662%5D%2C%20%5B-23.77478823%2C%20-46.74105715%5D%2C%20%5B-23.71919732%2C%20-46.61311835%5D%2C%20%5B-23.27473252%2C%20-46.75649127%5D%2C%20%5B-23.69535679%2C%20-46.28734737%5D%2C%20%5B-23.54264214%2C%20-46.61612146%5D%2C%20%5B-23.52689444%2C%20-46.49211274%5D%2C%20%5B-23.6743815%2C%20-46.62418378%5D%2C%20%5B-23.54276909%2C%20-46.648913%5D%2C%20%5B-23.67825282%2C%20-46.77946115%5D%2C%20%5B-23.57949759%2C%20-46.757794%5D%2C%20%5B-23.52374891%2C%20-46.42069335%5D%2C%20%5B-23.64131652%2C%20-46.77610894%5D%2C%20%5B-23.43830945%2C%20-46.73777993%5D%2C%20%5B-23.66291342%2C%20-46.81376148%5D%2C%20%5B-23.4831522%2C%20-46.7891206%5D%2C%20%5B-23.63284126%2C%20-46.77269197%5D%2C%20%5B-23.56884322%2C%20-46.79117457%5D%2C%20%5B-23.57087303%2C%20-46.40436452%5D%2C%20%5B-23.6995332%2C%20-46.59207104%5D%2C%20%5B-23.57568042%2C%20-46.59807655%5D%2C%20%5B-23.57568042%2C%20-46.59807655%5D%2C%20%5B-23.64194903%2C%20-46.79746202%5D%2C%20%5B-23.71286115%2C%20-46.78186771%5D%2C%20%5B-23.53060968%2C%20-46.71104089%5D%2C%20%5B-23.48613226%2C%20-46.35216323%5D%2C%20%5B-23.66276565%2C%20-46.64176767%5D%2C%20%5B-23.60576444%2C%20-46.62638705%5D%2C%20%5B-23.6580005%2C%20-46.59531367%5D%2C%20%5B-23.50762701%2C%20-46.50487647%5D%2C%20%5B-23.43648588%2C%20-46.57165169%5D%2C%20%5B-23.43648588%2C%20-46.57165169%5D%2C%20%5B-23.54131821%2C%20-46.53716676%5D%2C%20%5B-23.54131821%2C%20-46.53716676%5D%2C%20%5B-23.73112415%2C%20-46.70360317%5D%2C%20%5B-23.63151123%2C%20-46.53005702%5D%2C%20%5B-23.55397073%2C%20-46.6402803%5D%2C%20%5B-23.65595309%2C%20-46.7837386%5D%2C%20%5B-23.65595309%2C%20-46.7837386%5D%2C%20%5B-23.54974819%2C%20-46.21148136%5D%2C%20%5B-23.53428458%2C%20-46.97580354%5D%2C%20%5B-23.55286327%2C%20-46.84808989%5D%2C%20%5B-23.62285296%2C%20-46.95019839%5D%2C%20%5B-23.52157446%2C%20-46.56290573%5D%2C%20%5B-23.4161932%2C%20-46.49331021%5D%2C%20%5B-23.55539101%2C%20-46.78192727%5D%2C%20%5B-23.75529947%2C%20-46.57654821%5D%2C%20%5B-23.56590489%2C%20-46.66996215%5D%2C%20%5B-23.54290219%2C%20-46.59200132%5D%2C%20%5B-23.50492882%2C%20-46.58735122%5D%2C%20%5B-23.48506973%2C%20-46.89413966%5D%2C%20%5B-23.52322277%2C%20-46.18289389%5D%2C%20%5B-23.55286533%2C%20-46.80979695%5D%2C%20%5B-23.55642633%2C%20-46.84589314%5D%2C%20%5B-23.44361746%2C%20-46.46661814%5D%2C%20%5B-23.49839485%2C%20-46.80827933%5D%2C%20%5B-23.72515906%2C%20-46.52309454%5D%2C%20%5B-23.70668769%2C%20-46.50316152%5D%2C%20%5B-23.66365484%2C%20-46.62310645%5D%2C%20%5B-23.58518502%2C%20-46.59956376%5D%2C%20%5B-23.58518502%2C%20-46.59956376%5D%2C%20%5B-23.88022047%2C%20-46.65899354%5D%2C%20%5B-23.65847579%2C%20-46.80546492%5D%2C%20%5B-23.55635137%2C%20-46.93765091%5D%2C%20%5B-23.55635137%2C%20-46.93765091%5D%2C%20%5B-23.50912422%2C%20-46.313025%5D%2C%20%5B-23.62947332%2C%20-46.78747565%5D%2C%20%5B-23.64617884%2C%20-46.66942035%5D%2C%20%5B-23.64782521%2C%20-46.79630406%5D%2C%20%5B-23.64782521%2C%20-46.79630406%5D%2C%20%5B-23.54630142%2C%20-46.5334089%5D%2C%20%5B-23.62096956%2C%20-46.49963479%5D%2C%20%5B-23.70642236%2C%20-46.54377388%5D%2C%20%5B-23.70642236%2C%20-46.54377388%5D%2C%20%5B-23.70872374%2C%20-46.61010687%5D%2C%20%5B-23.70872374%2C%20-46.61010687%5D%2C%20%5B-23.54933767%2C%20-46.5892793%5D%2C%20%5B-23.4852005%2C%20-46.88962307%5D%2C%20%5B-23.54938522%2C%20-46.63325723%5D%2C%20%5B-23.54938522%2C%20-46.63325723%5D%2C%20%5B-23.76461098%2C%20-46.70937208%5D%2C%20%5B-23.75904424%2C%20-46.71369463%5D%2C%20%5B-23.46217276%2C%20-46.53341333%5D%2C%20%5B-23.55020216%2C%20-46.69851036%5D%2C%20%5B-23.66667145%2C%20-46.54811161%5D%2C%20%5B-23.68628994%2C%20-46.62530322%5D%2C%20%5B-23.58235581%2C%20-46.58400802%5D%2C%20%5B-23.59794994%2C%20-46.39525566%5D%2C%20%5B-23.51924426%2C%20-46.85594728%5D%2C%20%5B-23.73958511%2C%20-46.59620502%5D%2C%20%5B-23.65075405%2C%20-46.85269466%5D%2C%20%5B-23.63879641%2C%20-46.55176719%5D%2C%20%5B-23.44537651%2C%20-46.7481638%5D%2C%20%5B-23.44537651%2C%20-46.7481638%5D%2C%20%5B-23.46935838%2C%20-46.34265128%5D%2C%20%5B-23.65566116%2C%20-46.4368483%5D%2C%20%5B-23.55259322%2C%20-46.64069603%5D%2C%20%5B-23.64726881%2C%20-46.60860724%5D%2C%20%5B-23.64726881%2C%20-46.60860724%5D%2C%20%5B-23.48554558%2C%20-46.34827663%5D%2C%20%5B-23.53652328%2C%20-46.88940191%5D%2C%20%5B-23.54108322%2C%20-46.79848743%5D%2C%20%5B-23.43061077%2C%20-46.40577847%5D%2C%20%5B-23.43061077%2C%20-46.40577847%5D%2C%20%5B-23.45157528%2C%20-46.45965086%5D%2C%20%5B-23.45157528%2C%20-46.45965086%5D%2C%20%5B-23.32056513%2C%20-46.76360114%5D%2C%20%5B-23.63428524%2C%20-46.30655574%5D%2C%20%5B-23.64070136%2C%20-46.79674959%5D%2C%20%5B-23.54937901%2C%20-46.63327747%5D%2C%20%5B-23.69819678%2C%20-46.64314302%5D%2C%20%5B-23.69819678%2C%20-46.64314302%5D%2C%20%5B-23.72086493%2C%20-46.53798524%5D%2C%20%5B-23.56365832%2C%20-46.51175392%5D%2C%20%5B-23.71286115%2C%20-46.78186771%5D%2C%20%5B-23.48333407%2C%20-46.68326837%5D%2C%20%5B-23.73067931%2C%20-46.48113368%5D%2C%20%5B-23.55260331%2C%20-46.63784448%5D%2C%20%5B-23.68437055%2C%20-46.78093355%5D%2C%20%5B-23.4887096%2C%20-46.68256314%5D%2C%20%5B-23.69903115%2C%20-46.39913896%5D%2C%20%5B-23.6915425%2C%20-46.74696671%5D%2C%20%5B-23.53593054%2C%20-46.58597749%5D%2C%20%5B-23.64518915%2C%20-46.64498003%5D%2C%20%5B-23.50280873%2C%20-46.46658736%5D%2C%20%5B-23.50280873%2C%20-46.46658736%5D%2C%20%5B-23.70524942%2C%20-46.56239948%5D%2C%20%5B-23.55127222%2C%20-45.82705315%5D%2C%20%5B-23.51385825%2C%20-46.79439219%5D%2C%20%5B-23.54167489%2C%20-46.83763072%5D%2C%20%5B-23.60341919%2C%20-46.67049911%5D%2C%20%5B-23.46839987%2C%20-46.54911801%5D%2C%20%5B-23.63289772%2C%20-46.30554095%5D%2C%20%5B-23.66896941%2C%20-47.03763624%5D%2C%20%5B-23.54660372%2C%20-46.82804937%5D%2C%20%5B-23.50137311%2C%20-46.87263364%5D%2C%20%5B-23.67027277%2C%20-46.50145905%5D%2C%20%5B-23.52470401%2C%20-46.46917618%5D%2C%20%5B-23.52470401%2C%20-46.46917618%5D%2C%20%5B-23.67597137%2C%20-46.6506192%5D%2C%20%5B-23.67749491%2C%20-46.52085781%5D%2C%20%5B-23.57249366%2C%20-46.64406323%5D%2C%20%5B-23.76461098%2C%20-46.70937208%5D%2C%20%5B-23.43796864%2C%20-46.40302912%5D%2C%20%5B-23.43796864%2C%20-46.40302912%5D%2C%20%5B-23.38915169%2C%20-46.41540145%5D%2C%20%5B-23.50290604%2C%20-46.15983219%5D%2C%20%5B-23.54369741%2C%20-46.93564217%5D%2C%20%5B-23.51437946%2C%20-46.35339293%5D%2C%20%5B-23.65861047%2C%20-46.57657524%5D%2C%20%5B-23.59861326%2C%20-46.51126117%5D%2C%20%5B-23.74994518%2C%20-46.68241812%5D%2C%20%5B-23.56588757%2C%20-46.55311149%5D%2C%20%5B-23.50408055%2C%20-46.78778906%5D%2C%20%5B-23.55244021%2C%20-46.29010294%5D%2C%20%5B-23.63879641%2C%20-46.55176719%5D%2C%20%5B-23.52907958%2C%20-46.31535827%5D%2C%20%5B-23.52907958%2C%20-46.31535827%5D%2C%20%5B-23.62728394%2C%20-46.77046112%5D%2C%20%5B-23.46673578%2C%20-46.66701204%5D%2C%20%5B-23.81686447%2C%20-46.83064923%5D%2C%20%5B-23.81686447%2C%20-46.83064923%5D%2C%20%5B-23.53499528%2C%20-46.90402396%5D%2C%20%5B-23.58008982%2C%20-46.79821962%5D%2C%20%5B-23.69605167%2C%20-46.28818514%5D%2C%20%5B-23.53850282%2C%20-46.8240015%5D%2C%20%5B-23.4831522%2C%20-46.7891206%5D%2C%20%5B-23.6708488%2C%20-46.56100618%5D%2C%20%5B-23.70412349%2C%20-46.57378637%5D%2C%20%5B-23.61272361%2C%20-46.45352665%5D%2C%20%5B-23.63879641%2C%20-46.55176719%5D%2C%20%5B-23.70100071%2C%20-46.64773323%5D%2C%20%5B-23.69903115%2C%20-46.39913896%5D%2C%20%5B-23.69903115%2C%20-46.39913896%5D%2C%20%5B-23.39816858%2C%20-46.39800961%5D%2C%20%5B-23.43648588%2C%20-46.57165169%5D%2C%20%5B-23.50137311%2C%20-46.87263364%5D%2C%20%5B-23.74173561%2C%20-46.69127682%5D%2C%20%5B-23.66795302%2C%20-46.46289754%5D%2C%20%5B-23.25613529%2C%20-46.72908697%5D%2C%20%5B-23.55462927%2C%20-46.25011917%5D%2C%20%5B-23.50312416%2C%20-46.79756845%5D%2C%20%5B-23.53428458%2C%20-46.97580354%5D%2C%20%5B-23.55286327%2C%20-46.84808989%5D%2C%20%5B-23.70412349%2C%20-46.57378637%5D%2C%20%5B-23.43856912%2C%20-46.72137565%5D%2C%20%5B-23.5957776%2C%20-46.78937615%5D%2C%20%5B-23.68802537%2C%20-46.89765413%5D%2C%20%5B-23.50312416%2C%20-46.79756845%5D%2C%20%5B-23.66818535%2C%20-46.7440901%5D%2C%20%5B-23.59049778%2C%20-46.76077637%5D%2C%20%5B-23.53649712%2C%20-46.61074343%5D%2C%20%5B-23.70150835%2C%20-46.61723848%5D%2C%20%5B-23.4478222%2C%20-46.92505713%5D%2C%20%5B-23.66662886%2C%20-46.46126631%5D%2C%20%5B-23.75592464%2C%20-46.66618238%5D%2C%20%5B-23.40567673%2C%20-46.40667141%5D%2C%20%5B-23.54678743%2C%20-46.23286065%5D%2C%20%5B-23.61600188%2C%20-46.58953143%5D%2C%20%5B-23.49988866%2C%20-46.46915438%5D%2C%20%5B-23.65440674%2C%20-46.60854883%5D%2C%20%5B-23.69379582%2C%20-46.78542704%5D%2C%20%5B-23.48210123%2C%20-46.49360401%5D%2C%20%5B-23.48210123%2C%20-46.49360401%5D%2C%20%5B-23.57323271%2C%20-46.58201665%5D%2C%20%5B-23.58090532%2C%20-46.59009629%5D%2C%20%5B-23.71919732%2C%20-46.61311835%5D%2C%20%5B-23.47205516%2C%20-46.69594958%5D%2C%20%5B-23.72683556%2C%20-46.53879183%5D%2C%20%5B-23.65229398%2C%20-46.33928871%5D%2C%20%5B-23.6768742%2C%20-46.6635967%5D%2C%20%5B-23.67074867%2C%20-46.50128461%5D%2C%20%5B-23.32290188%2C%20-46.59476347%5D%2C%20%5B-23.56313608%2C%20-46.28398558%5D%2C%20%5B-23.73112415%2C%20-46.70360317%5D%2C%20%5B-23.67235933%2C%20-46.4499283%5D%2C%20%5B-23.33450395%2C%20-46.72561127%5D%2C%20%5B-23.41479746%2C%20-46.89355581%5D%2C%20%5B-23.75592464%2C%20-46.66618238%5D%2C%20%5B-23.48645136%2C%20-46.75432655%5D%2C%20%5B-23.78926562%2C%20-46.81190236%5D%2C%20%5B-23.78926562%2C%20-46.81190236%5D%2C%20%5B-23.71286115%2C%20-46.78186771%5D%2C%20%5B-23.64276789%2C%20-46.32545355%5D%2C%20%5B-23.64276789%2C%20-46.32545355%5D%2C%20%5B-23.67241228%2C%20-46.8057217%5D%2C%20%5B-23.73466849%2C%20-46.53915341%5D%2C%20%5B-23.54828164%2C%20-45.96350265%5D%2C%20%5B-23.70668769%2C%20-46.50316152%5D%2C%20%5B-23.66365484%2C%20-46.62310645%5D%2C%20%5B-23.51066893%2C%20-46.87496453%5D%2C%20%5B-23.62734115%2C%20-46.78900311%5D%2C%20%5B-23.66437498%2C%20-46.44390371%5D%2C%20%5B-23.54264214%2C%20-46.61612146%5D%2C%20%5B-23.55052725%2C%20-46.64211164%5D%2C%20%5B-23.67808673%2C%20-46.28473906%5D%2C%20%5B-23.64276789%2C%20-46.32545355%5D%2C%20%5B-23.71286115%2C%20-46.78186771%5D%2C%20%5B-23.62867921%2C%20-46.80771587%5D%2C%20%5B-23.73466849%2C%20-46.53915341%5D%2C%20%5B-23.52125284%2C%20-46.57571647%5D%2C%20%5B-23.52125284%2C%20-46.57571647%5D%2C%20%5B-23.6743815%2C%20-46.62418378%5D%2C%20%5B-23.55846305%2C%20-46.61351781%5D%2C%20%5B-23.55846305%2C%20-46.61351781%5D%2C%20%5B-23.55846305%2C%20-46.61351781%5D%2C%20%5B-23.69069002%2C%20-46.59604474%5D%2C%20%5B-23.50297264%2C%20-46.30720796%5D%2C%20%5B-23.78914382%2C%20-46.68930918%5D%2C%20%5B-23.63516164%2C%20-46.75829838%5D%2C%20%5B-23.64990733%2C%20-46.60975154%5D%2C%20%5B-23.53606911%2C%20-46.9012157%5D%2C%20%5B-23.67057333%2C%20-46.7153662%5D%2C%20%5B-23.60307768%2C%20-46.78206199%5D%2C%20%5B-23.53660533%2C%20-46.35747813%5D%2C%20%5B-23.53606911%2C%20-46.9012157%5D%2C%20%5B-23.53606911%2C%20-46.9012157%5D%2C%20%5B-23.55051654%2C%20-46.49744385%5D%2C%20%5B-23.27842462%2C%20-46.7611595%5D%2C%20%5B-23.53571138%2C%20-46.83972413%5D%2C%20%5B-23.62744751%2C%20-46.79217598%5D%2C%20%5B-23.62744751%2C%20-46.79217598%5D%2C%20%5B-23.45747562%2C%20-46.68451636%5D%2C%20%5B-23.76461098%2C%20-46.70937208%5D%2C%20%5B-23.54592867%2C%20-46.40916268%5D%2C%20%5B-23.53963772%2C%20-46.64521707%5D%2C%20%5B-23.53963772%2C%20-46.64521707%5D%2C%20%5B-23.66748052%2C%20-46.65319051%5D%2C%20%5B-23.52374891%2C%20-46.42069335%5D%2C%20%5B-23.67788294%2C%20-46.44352819%5D%2C%20%5B-23.64697992%2C%20-46.3358885%5D%2C%20%5B-23.51302662%2C%20-46.76872739%5D%2C%20%5B-23.4222693%2C%20-46.85348802%5D%2C%20%5B-23.67316469%2C%20-46.63107948%5D%2C%20%5B-23.54047657%2C%20-46.74571194%5D%2C%20%5B-23.47669171%2C%20-46.64716488%5D%2C%20%5B-23.75727183%2C%20-46.53462991%5D%2C%20%5B-23.56513308%2C%20-46.48475847%5D%2C%20%5B-23.48613226%2C%20-46.35216323%5D%2C%20%5B-23.66276565%2C%20-46.64176767%5D%2C%20%5B-23.65015702%2C%20-46.7692939%5D%2C%20%5B-23.55244021%2C%20-46.29010294%5D%2C%20%5B-23.65776705%2C%20-46.81978826%5D%2C%20%5B-23.69903115%2C%20-46.39913896%5D%2C%20%5B-23.66598798%2C%20-46.8065857%5D%2C%20%5B-23.64131652%2C%20-46.77610894%5D%2C%20%5B-23.67161248%2C%20-46.7480938%5D%2C%20%5B-23.51780529%2C%20-46.54821378%5D%2C%20%5B-23.51780529%2C%20-46.54821378%5D%2C%20%5B-23.54587689%2C%20-46.40646525%5D%2C%20%5B-23.50492882%2C%20-46.58735122%5D%2C%20%5B-23.2728395%2C%20-46.75104206%5D%2C%20%5B-23.71286115%2C%20-46.78186771%5D%2C%20%5B-23.47357529%2C%20-46.67091641%5D%2C%20%5B-23.43264078%2C%20-46.7776939%5D%2C%20%5B-23.43264078%2C%20-46.7776939%5D%2C%20%5B-23.67195402%2C%20-46.65594004%5D%2C%20%5B-23.48804959%2C%20-46.79339861%5D%2C%20%5B-23.67344492%2C%20-46.79785215%5D%2C%20%5B-23.3182708%2C%20-46.71962068%5D%2C%20%5B-23.71286115%2C%20-46.78186771%5D%2C%20%5B-23.71286115%2C%20-46.78186771%5D%2C%20%5B-23.55020216%2C%20-46.69851036%5D%2C%20%5B-23.55642633%2C%20-46.84589314%5D%2C%20%5B-23.55426389%2C%20-46.50047357%5D%2C%20%5B-23.60470087%2C%20-46.59974496%5D%2C%20%5B-23.75904424%2C%20-46.71369463%5D%2C%20%5B-23.45808723%2C%20-46.62345364%5D%2C%20%5B-23.26391836%2C%20-46.58629509%5D%2C%20%5B-23.56884322%2C%20-46.79117457%5D%2C%20%5B-23.68498206%2C%20-46.58302428%5D%2C%20%5B-23.45662064%2C%20-46.46015053%5D%2C%20%5B-23.57450128%2C%20-46.60828006%5D%2C%20%5B-23.65847579%2C%20-46.80546492%5D%2C%20%5B-23.55635137%2C%20-46.93765091%5D%2C%20%5B-23.43856912%2C%20-46.72137565%5D%2C%20%5B-23.66795302%2C%20-46.46289754%5D%2C%20%5B-23.44505412%2C%20-46.5572703%5D%2C%20%5B-23.61348896%2C%20-46.69873109%5D%2C%20%5B-23.44223187%2C%20-46.91929309%5D%2C%20%5B-23.69110581%2C%20-46.32402401%5D%2C%20%5B-23.71286115%2C%20-46.78186771%5D%2C%20%5B-23.67461254%2C%20-46.60860641%5D%2C%20%5B-23.60288091%2C%20-46.59766846%5D%2C%20%5B-23.60288091%2C%20-46.59766846%5D%2C%20%5B-23.55020216%2C%20-46.69851036%5D%2C%20%5B-23.44505412%2C%20-46.5572703%5D%2C%20%5B-23.68802537%2C%20-46.89765413%5D%2C%20%5B-23.68802537%2C%20-46.89765413%5D%2C%20%5B-23.68802537%2C%20-46.89765413%5D%2C%20%5B-23.55012247%2C%20-46.88936476%5D%2C%20%5B-23.42119759%2C%20-46.50330288%5D%2C%20%5B-23.54153842%2C%20-46.78459113%5D%2C%20%5B-23.74994518%2C%20-46.68241812%5D%2C%20%5B-23.6833252%2C%20-46.52360737%5D%2C%20%5B-23.45284135%2C%20-46.52032692%5D%2C%20%5B-23.584842%2C%20-46.3356725%5D%2C%20%5B-23.55852962%2C%20-46.36812461%5D%2C%20%5B-23.42793805%2C%20-46.5461023%5D%2C%20%5B-23.30026536%2C%20-46.72168326%5D%2C%20%5B-23.43243918%2C%20-46.59410206%5D%2C%20%5B-23.64855229%2C%20-46.82130865%5D%2C%20%5B-23.71286115%2C%20-46.78186771%5D%2C%20%5B-23.49047498%2C%20-46.4680365%5D%2C%20%5B-23.46855008%2C%20-46.65337214%5D%2C%20%5B-23.81686447%2C%20-46.83064923%5D%2C%20%5B-23.81686447%2C%20-46.83064923%5D%2C%20%5B-23.69605167%2C%20-46.28818514%5D%2C%20%5B-23.69605167%2C%20-46.28818514%5D%2C%20%5B-23.69605167%2C%20-46.28818514%5D%2C%20%5B-23.6421262%2C%20-46.79808321%5D%2C%20%5B-23.6421262%2C%20-46.79808321%5D%2C%20%5B-23.55568879%2C%20-46.64388215%5D%2C%20%5B-23.55568879%2C%20-46.64388215%5D%2C%20%5B-23.55568879%2C%20-46.64388215%5D%2C%20%5B-23.70028093%2C%20-46.62429338%5D%2C%20%5B-23.70028093%2C%20-46.62429338%5D%2C%20%5B-23.54937901%2C%20-46.63327747%5D%2C%20%5B-23.50515662%2C%20-46.30120376%5D%2C%20%5B-23.67808673%2C%20-46.28473906%5D%2C%20%5B-23.40567673%2C%20-46.40667141%5D%2C%20%5B-23.60258159%2C%20-46.51404781%5D%2C%20%5B-23.69819678%2C%20-46.64314302%5D%2C%20%5B-23.69819678%2C%20-46.64314302%5D%2C%20%5B-23.61131579%2C%20-46.61774419%5D%2C%20%5B-23.50805147%2C%20-46.45032535%5D%2C%20%5B-23.55837707%2C%20-46.51864407%5D%2C%20%5B-23.48554558%2C%20-46.34827663%5D%2C%20%5B-23.54984237%2C%20-46.48294663%5D%2C%20%5B-23.66787083%2C%20-46.6212677%5D%2C%20%5B-23.41088436%2C%20-46.37794944%5D%2C%20%5B-23.66816486%2C%20-46.56822656%5D%2C%20%5B-23.66816486%2C%20-46.56822656%5D%2C%20%5B-23.50076474%2C%20-46.72331136%5D%2C%20%5B-23.73840422%2C%20-46.57492003%5D%2C%20%5B-23.43796864%2C%20-46.40302912%5D%2C%20%5B-23.54369741%2C%20-46.93564217%5D%2C%20%5B-23.51437946%2C%20-46.35339293%5D%2C%20%5B-23.6191255%2C%20-46.49371877%5D%2C%20%5B-23.71286115%2C%20-46.78186771%5D%2C%20%5B-23.71286115%2C%20-46.78186771%5D%2C%20%5B-23.56225331%2C%20-46.84897942%5D%2C%20%5B-23.56225331%2C%20-46.84897942%5D%2C%20%5B-23.64868879%2C%20-46.81626715%5D%2C%20%5B-23.59089126%2C%20-46.75370115%5D%2C%20%5B-23.45362887%2C%20-46.71222404%5D%2C%20%5B-23.52689444%2C%20-46.49211274%5D%2C%20%5B-23.54853201%2C%20-46.30115452%5D%2C%20%5B-23.64833722%2C%20-46.5067936%5D%2C%20%5B-23.64674183%2C%20-46.65447551%5D%2C%20%5B-23.78054801%2C%20-46.49925648%5D%2C%20%5B-23.48776283%2C%20-46.3449226%5D%2C%20%5B-23.50834689%2C%20-46.66311023%5D%2C%20%5B-23.56588757%2C%20-46.55311149%5D%2C%20%5B-23.71286115%2C%20-46.78186771%5D%2C%20%5B-23.70052172%2C%20-46.62479188%5D%2C%20%5B-23.61600188%2C%20-46.58953143%5D%2C%20%5B-23.66383499%2C%20-46.60721426%5D%2C%20%5B-23.66383499%2C%20-46.60721426%5D%2C%20%5B-23.27368573%2C%20-46.55054918%5D%2C%20%5B-23.39892207%2C%20-46.44078466%5D%2C%20%5B-23.54199034%2C%20-46.4101369%5D%2C%20%5B-23.52216701%2C%20-46.83567839%5D%2C%20%5B-23.49820072%2C%20-46.84865794%5D%2C%20%5B-23.65229398%2C%20-46.33928871%5D%2C%20%5B-23.67256987%2C%20-46.48485958%5D%2C%20%5B-23.67256987%2C%20-46.48485958%5D%2C%20%5B-23.66748052%2C%20-46.65319051%5D%2C%20%5B-23.56211147%2C%20-46.63879558%5D%2C%20%5B-23.6915425%2C%20-46.74696671%5D%2C%20%5B-23.57949759%2C%20-46.757794%5D%2C%20%5B-23.52374891%2C%20-46.42069335%5D%2C%20%5B-23.64131652%2C%20-46.77610894%5D%2C%20%5B-23.64131652%2C%20-46.77610894%5D%2C%20%5B-23.42361186%2C%20-46.41437144%5D%2C%20%5B-23.28464673%2C%20-46.73648339%5D%2C%20%5B-23.28464673%2C%20-46.73648339%5D%2C%20%5B-23.23678119%2C%20-46.59145739%5D%2C%20%5B-23.71280959%2C%20-46.68630551%5D%2C%20%5B-23.6833252%2C%20-46.52360737%5D%2C%20%5B-23.68870693%2C%20-46.28254206%5D%2C%20%5B-23.40956443%2C%20-46.89725648%5D%2C%20%5B-23.53346059%2C%20-46.83817363%5D%2C%20%5B-23.57880154%2C%20-46.77097624%5D%2C%20%5B-23.47973394%2C%20-46.42632283%5D%2C%20%5B-23.66590846%2C%20-46.75847878%5D%2C%20%5B-23.66816486%2C%20-46.56822656%5D%2C%20%5B-23.49846159%2C%20-46.74854774%5D%2C%20%5B-23.7027495%2C%20-46.51528644%5D%2C%20%5B-23.7027495%2C%20-46.51528644%5D%2C%20%5B-23.67677216%2C%20-46.6321439%5D%2C%20%5B-23.45824918%2C%20-46.65399409%5D%2C%20%5B-23.48734351%2C%20-46.41183762%5D%2C%20%5B-23.62564666%2C%20-46.55754216%5D%2C%20%5B-23.62564666%2C%20-46.55754216%5D%2C%20%5B-23.54205587%2C%20-46.50680092%5D%2C%20%5B-23.69069002%2C%20-46.59604474%5D%2C%20%5B-23.64099418%2C%20-46.2843274%5D%2C%20%5B-23.64825178%2C%20-46.15227724%5D%2C%20%5B-23.64825178%2C%20-46.15227724%5D%2C%20%5B-23.53593054%2C%20-46.58597749%5D%2C%20%5B-23.66437498%2C%20-46.44390371%5D%2C%20%5B-23.40477951%2C%20-46.46565243%5D%2C%20%5B-23.54398444%2C%20-46.93543922%5D%2C%20%5B-23.66276565%2C%20-46.64176767%5D%2C%20%5B-23.56023488%2C%20-46.48902751%5D%2C%20%5B-23.69342641%2C%20-46.6190537%5D%2C%20%5B-23.4161932%2C%20-46.49331021%5D%2C%20%5B-23.5513611%2C%20-46.29024203%5D%2C%20%5B-23.59550722%2C%20-46.49258651%5D%2C%20%5B-23.67571968%2C%20-46.62107395%5D%2C%20%5B-23.67020833%2C%20-46.34774904%5D%2C%20%5B-23.4478222%2C%20-46.92505713%5D%2C%20%5B-23.32290188%2C%20-46.59476347%5D%2C%20%5B-23.78926562%2C%20-46.81190236%5D%2C%20%5B-23.78926562%2C%20-46.81190236%5D%2C%20%5B-23.71286115%2C%20-46.78186771%5D%2C%20%5B-23.71286115%2C%20-46.78186771%5D%2C%20%5B-23.71286115%2C%20-46.78186771%5D%2C%20%5B-23.71286115%2C%20-46.78186771%5D%2C%20%5B-23.71674757%2C%20-46.54846086%5D%2C%20%5B-23.71674757%2C%20-46.54846086%5D%2C%20%5B-23.4714843%2C%20-46.89559345%5D%2C%20%5B-23.6673637%2C%20-46.57916804%5D%2C%20%5B-23.54354485%2C%20-46.64058297%5D%2C%20%5B-23.65847579%2C%20-46.80546492%5D%2C%20%5B-23.69806168%2C%20-46.63168964%5D%2C%20%5B-23.48982721%2C%20-46.62320104%5D%2C%20%5B-23.48982721%2C%20-46.62320104%5D%2C%20%5B-23.60241011%2C%20-46.58599716%5D%2C%20%5B-23.58309213%2C%20-46.67143663%5D%2C%20%5B-23.66678203%2C%20-46.46202146%5D%2C%20%5B-23.44760379%2C%20-46.46720625%5D%2C%20%5B-23.44956934%2C%20-46.6267159%5D%2C%20%5B-23.61187693%2C%20-46.4659536%5D%2C%20%5B-23.61187693%2C%20-46.4659536%5D%2C%20%5B-23.5369314%2C%20-46.87958185%5D%2C%20%5B-23.5369314%2C%20-46.87958185%5D%2C%20%5B-23.35622177%2C%20-46.6137473%5D%2C%20%5B-23.42654476%2C%20-46.50064428%5D%2C%20%5B-23.54139887%2C%20-46.31197906%5D%2C%20%5B-23.54139887%2C%20-46.31197906%5D%2C%20%5B-23.47205516%2C%20-46.69594958%5D%2C%20%5B-23.66936616%2C%20-46.61880824%5D%2C%20%5B-23.49153655%2C%20-46.68963016%5D%2C%20%5B-23.56460041%2C%20-46.71297105%5D%2C%20%5B-23.54926148%2C%20-46.83503367%5D%2C%20%5B-23.71967416%2C%20-46.6058437%5D%2C%20%5B-23.48693218%2C%20-46.29840286%5D%2C%20%5B-23.33508664%2C%20-46.72471708%5D%2C%20%5B-23.91859475%2C%20-46.86418217%5D%2C%20%5B-23.68592599%2C%20-46.76944679%5D%2C%20%5B-23.71286115%2C%20-46.78186771%5D%2C%20%5B-23.55020216%2C%20-46.69851036%5D%2C%20%5B-23.51096658%2C%20-46.56780302%5D%2C%20%5B-23.67255372%2C%20-46.63605346%5D%2C%20%5B-23.72228227%2C%20-46.55561944%5D%2C%20%5B-23.47416167%2C%20-46.67021077%5D%2C%20%5B-23.60645712%2C%20-46.61360446%5D%2C%20%5B-23.50298513%2C%20-46.46656399%5D%2C%20%5B-23.50298513%2C%20-46.46656399%5D%2C%20%5B-23.66304476%2C%20-46.73980252%5D%2C%20%5B-23.71286115%2C%20-46.78186771%5D%2C%20%5B-23.43830945%2C%20-46.73777993%5D%2C%20%5B-23.67968682%2C%20-46.7613444%5D%2C%20%5B-23.56487602%2C%20-46.79960878%5D%2C%20%5B-23.57215318%2C%20-46.81564702%5D%2C%20%5B-23.60227562%2C%20-46.93442651%5D%2C%20%5B-23.51071023%2C%20-46.51718312%5D%2C%20%5B-23.51071023%2C%20-46.51718312%5D%2C%20%5B-23.67020833%2C%20-46.34774904%5D%2C%20%5B-23.44223187%2C%20-46.91929309%5D%2C%20%5B-23.70940453%2C%20-46.59304979%5D%2C%20%5B-23.70940453%2C%20-46.59304979%5D%2C%20%5B-23.71286115%2C%20-46.78186771%5D%2C%20%5B-23.44846517%2C%20-46.51597283%5D%2C%20%5B-23.61910579%2C%20-46.46848713%5D%2C%20%5B-23.50678759%2C%20-46.50994579%5D%2C%20%5B-23.71286115%2C%20-46.78186771%5D%2C%20%5B-23.71286115%2C%20-46.78186771%5D%2C%20%5B-23.63355503%2C%20-46.62574848%5D%2C%20%5B-23.63355503%2C%20-46.62574848%5D%2C%20%5B-23.61131579%2C%20-46.61774419%5D%2C%20%5B-23.52905894%2C%20-46.72953811%5D%2C%20%5B-23.67020833%2C%20-46.34774904%5D%2C%20%5B-23.50297264%2C%20-46.30720796%5D%2C%20%5B-23.55537721%2C%20-46.95450674%5D%2C%20%5B-23.53123228%2C%20-46.90304389%5D%2C%20%5B-23.52447284%2C%20-46.56135573%5D%2C%20%5B-23.59660048%2C%20-46.48315027%5D%2C%20%5B-23.59660048%2C%20-46.48315027%5D%2C%20%5B-23.59993357%2C%20-46.79284101%5D%2C%20%5B-23.57528534%2C%20-46.65645843%5D%2C%20%5B-23.75564426%2C%20-46.69403568%5D%2C%20%5B-23.74019091%2C%20-46.59611748%5D%2C%20%5B-23.61792737%2C%20-46.29672535%5D%2C%20%5B-23.59033367%2C%20-46.80333736%5D%2C%20%5B-23.53730355%2C%20-46.47539821%5D%2C%20%5B-23.58224897%2C%20-46.35343092%5D%2C%20%5B-23.55837707%2C%20-46.51864407%5D%2C%20%5B-23.71286115%2C%20-46.78186771%5D%2C%20%5B-23.48373704%2C%20-46.57738176%5D%2C%20%5B-23.78914382%2C%20-46.68930918%5D%2C%20%5B-23.68555359%2C%20-46.78673689%5D%2C%20%5B-23.65595309%2C%20-46.7837386%5D%2C%20%5B-23.65595309%2C%20-46.7837386%5D%2C%20%5B-23.45188413%2C%20-46.70007959%5D%2C%20%5B-23.491917%2C%20-46.46953206%5D%2C%20%5B-23.7279812%2C%20-46.57646331%5D%2C%20%5B-23.6995332%2C%20-46.59207104%5D%2C%20%5B-23.49006084%2C%20-46.65165061%5D%2C%20%5B-23.49006084%2C%20-46.65165061%5D%2C%20%5B-23.56588757%2C%20-46.55311149%5D%2C%20%5B-23.52723113%2C%20-46.79166612%5D%2C%20%5B-23.66136588%2C%20-46.43446797%5D%2C%20%5B-23.63151123%2C%20-46.53005702%5D%2C%20%5B-23.49839485%2C%20-46.80827933%5D%2C%20%5B-23.36214551%2C%20-46.10952575%5D%2C%20%5B-23.59282471%2C%20-46.80662548%5D%2C%20%5B-23.67943198%2C%20-46.65586659%5D%2C%20%5B-23.4595332%2C%20-46.69556453%5D%2C%20%5B-23.6833252%2C%20-46.52360737%5D%2C%20%5B-23.68870693%2C%20-46.28254206%5D%2C%20%5B-23.81686447%2C%20-46.83064923%5D%2C%20%5B-23.81686447%2C%20-46.83064923%5D%2C%20%5B-23.57581552%2C%20-46.74978058%5D%2C%20%5B-23.54587689%2C%20-46.40646525%5D%2C%20%5B-23.7773529%2C%20-46.60157401%5D%2C%20%5B-23.54933767%2C%20-46.5892793%5D%2C%20%5B-23.66667145%2C%20-46.54811161%5D%2C%20%5B-23.54170619%2C%20-46.61462196%5D%2C%20%5B-23.58235581%2C%20-46.58400802%5D%2C%20%5B-23.55111567%2C%20-46.46356124%5D%2C%20%5B-23.70038947%2C%20-46.53170386%5D%2C%20%5B-23.57762416%2C%20-46.57590088%5D%2C%20%5B-23.55585569%2C%20-46.47200771%5D%2C%20%5B-23.55585569%2C%20-46.47200771%5D%2C%20%5B-23.47357529%2C%20-46.67091641%5D%2C%20%5B-23.47357529%2C%20-46.67091641%5D%2C%20%5B-23.63151123%2C%20-46.53005702%5D%2C%20%5B-23.55397073%2C%20-46.6402803%5D%2C%20%5B-23.51138275%2C%20-46.46776948%5D%2C%20%5B-23.48506973%2C%20-46.89413966%5D%2C%20%5B-23.55286533%2C%20-46.80979695%5D%2C%20%5B-23.54568045%2C%20-46.8056452%5D%2C%20%5B-23.74173561%2C%20-46.69127682%5D%2C%20%5B-23.50076474%2C%20-46.72331136%5D%2C%20%5B-23.65986516%2C%20-46.75672938%5D%2C%20%5B-23.65986516%2C%20-46.75672938%5D%2C%20%5B-23.55123556%2C%20-46.55095936%5D%2C%20%5B-23.55123556%2C%20-46.55095936%5D%2C%20%5B-23.43264078%2C%20-46.7776939%5D%2C%20%5B-23.43264078%2C%20-46.7776939%5D%2C%20%5B-23.51058822%2C%20-46.41648192%5D%2C%20%5B-23.50807386%2C%20-46.59139153%5D%2C%20%5B-23.55173349%2C%20-46.36028198%5D%2C%20%5B-23.55173349%2C%20-46.36028198%5D%2C%20%5B-23.55286533%2C%20-46.80979695%5D%2C%20%5B-23.55286533%2C%20-46.80979695%5D%2C%20%5B-23.50557237%2C%20-46.67004318%5D%2C%20%5B-23.51081574%2C%20-46.85754747%5D%2C%20%5B-23.50486226%2C%20-46.59646917%5D%2C%20%5B-23.68628994%2C%20-46.62530322%5D%2C%20%5B-23.71286115%2C%20-46.78186771%5D%2C%20%5B-23.50557237%2C%20-46.67004318%5D%2C%20%5B-23.30026536%2C%20-46.72168326%5D%2C%20%5B-23.68541976%2C%20-46.6258123%5D%2C%20%5B-23.61348896%2C%20-46.69873109%5D%2C%20%5B-23.61348896%2C%20-46.69873109%5D%2C%20%5B-23.61348896%2C%20-46.69873109%5D%2C%20%5B-23.57975707%2C%20-46.79206629%5D%2C%20%5B-23.5930692%2C%20-46.40676211%5D%2C%20%5B-23.67550945%2C%20-46.68869081%5D%2C%20%5B-23.59794994%2C%20-46.39525566%5D%2C%20%5B-23.59794994%2C%20-46.39525566%5D%2C%20%5B-23.47971167%2C%20-46.40839125%5D%2C%20%5B-23.67278822%2C%20-46.60281861%5D%2C%20%5B-23.26992918%2C%20-46.72284039%5D%2C%20%5B-23.48517736%2C%20-46.43568181%5D%2C%20%5B-23.71286115%2C%20-46.78186771%5D%2C%20%5B-23.59794994%2C%20-46.39525566%5D%2C%20%5B-23.59794994%2C%20-46.39525566%5D%2C%20%5B-23.59794994%2C%20-46.39525566%5D%2C%20%5B-23.64901541%2C%20-46.56853349%5D%2C%20%5B-23.62222017%2C%20-46.27193897%5D%2C%20%5B-23.46935838%2C%20-46.34265128%5D%2C%20%5B-23.51682843%2C%20-46.22319141%5D%2C%20%5B-23.58369037%2C%20-46.40910032%5D%2C%20%5B-23.67571968%2C%20-46.62107395%5D%2C%20%5B-22.94905476%2C%20-45.49757453%5D%2C%20%5B-23.4860144%2C%20-46.89276526%5D%2C%20%5B-23.4860144%2C%20-46.89276526%5D%2C%20%5B-23.57703804%2C%20-46.80294982%5D%2C%20%5B-23.64240812%2C%20-46.81821743%5D%2C%20%5B-23.71286115%2C%20-46.78186771%5D%2C%20%5B-23.27819141%2C%20-46.75951927%5D%2C%20%5B-23.27819141%2C%20-46.75951927%5D%2C%20%5B-23.71286115%2C%20-46.78186771%5D%2C%20%5B-23.56883325%2C%20-46.79113291%5D%2C%20%5B-23.71286115%2C%20-46.78186771%5D%2C%20%5B-23.71286115%2C%20-46.78186771%5D%2C%20%5B-23.71286115%2C%20-46.78186771%5D%2C%20%5B-23.67447417%2C%20-46.66596704%5D%2C%20%5B-23.61600188%2C%20-46.58953143%5D%2C%20%5B-23.72683556%2C%20-46.53879183%5D%2C%20%5B-23.48693218%2C%20-46.29840286%5D%2C%20%5B-23.53585996%2C%20-46.64158761%5D%2C%20%5B-23.67918861%2C%20-46.75671041%5D%2C%20%5B-23.51924426%2C%20-46.85594728%5D%2C%20%5B-23.31563067%2C%20-46.77737216%5D%2C%20%5B-23.55913979%2C%20-46.33418196%5D%2C%20%5B-23.51390256%2C%20-46.29298399%5D%2C%20%5B-23.66750723%2C%20-46.78406662%5D%2C%20%5B-23.52925197%2C%20-46.56041576%5D%2C%20%5B-23.62500617%2C%20-46.74947314%5D%2C%20%5B-23.63482404%2C%20-46.80350557%5D%2C%20%5B-23.63482404%2C%20-46.80350557%5D%2C%20%5B-23.65106904%2C%20-46.65154117%5D%2C%20%5B-23.64726881%2C%20-46.60860724%5D%2C%20%5B-23.59536142%2C%20-46.91971962%5D%2C%20%5B-23.59536142%2C%20-46.91971962%5D%2C%20%5B-23.52291074%2C%20-46.68906188%5D%2C%20%5B-23.60258159%2C%20-46.51404781%5D%2C%20%5B-23.68584868%2C%20-46.65210305%5D%2C%20%5B-23.68584868%2C%20-46.65210305%5D%2C%20%5B-23.55350165%2C%20-46.84685159%5D%2C%20%5B-23.55350165%2C%20-46.84685159%5D%2C%20%5B-23.40956443%2C%20-46.89725648%5D%2C%20%5B-23.69441821%2C%20-46.79480035%5D%2C%20%5B-23.62734115%2C%20-46.78900311%5D%2C%20%5B-23.75912652%2C%20-46.66772449%5D%2C%20%5B-23.53299837%2C%20-46.88356998%5D%2C%20%5B-23.56644201%2C%20-46.81660856%5D%2C%20%5B-23.63016252%2C%20-46.51737996%5D%2C%20%5B-23.69441821%2C%20-46.79480035%5D%2C%20%5B-23.67571968%2C%20-46.62107395%5D%2C%20%5B-22.94905476%2C%20-45.49757453%5D%2C%20%5B-23.64240812%2C%20-46.81821743%5D%2C%20%5B-23.53075448%2C%20-46.85455607%5D%2C%20%5B-23.41408284%2C%20-46.86475562%5D%2C%20%5B-23.74552785%2C%20-46.59804343%5D%2C%20%5B-23.74552785%2C%20-46.59804343%5D%2C%20%5B-23.48554558%2C%20-46.34827663%5D%2C%20%5B-23.72086493%2C%20-46.53798524%5D%2C%20%5B-23.72086493%2C%20-46.53798524%5D%2C%20%5B-23.72086493%2C%20-46.53798524%5D%2C%20%5B-23.69831881%2C%20-46.5044326%5D%2C%20%5B-23.64674183%2C%20-46.65447551%5D%2C%20%5B-23.53208397%2C%20-46.7942774%5D%2C%20%5B-23.5369314%2C%20-46.87958185%5D%2C%20%5B-23.57156143%2C%20-46.60976762%5D%2C%20%5B-23.58852541%2C%20-46.7499461%5D%2C%20%5B-23.54354485%2C%20-46.64058297%5D%2C%20%5B-23.4544788%2C%20-46.69824247%5D%2C%20%5B-23.48717604%2C%20-46.71532794%5D%2C%20%5B-23.67020833%2C%20-46.34774904%5D%2C%20%5B-23.5171232%2C%20-45.92160225%5D%2C%20%5B-23.5618312%2C%20-46.72422691%5D%2C%20%5B-23.62226164%2C%20-46.72679855%5D%2C%20%5B-23.62226164%2C%20-46.72679855%5D%2C%20%5B-23.59544137%2C%20-46.50945492%5D%2C%20%5B-23.53593054%2C%20-46.58597749%5D%2C%20%5B-23.48621589%2C%20-46.41857227%5D%2C%20%5B-23.68402914%2C%20-46.27155753%5D%2C%20%5B-23.60096632%2C%20-46.60008858%5D%2C%20%5B-23.55111567%2C%20-46.46356124%5D%2C%20%5B-23.52111986%2C%20-46.57999068%5D%2C%20%5B-23.64901541%2C%20-46.56853349%5D%2C%20%5B-23.68656513%2C%20-46.36879126%5D%2C%20%5B-23.27842462%2C%20-46.7611595%5D%2C%20%5B-23.9779174%2C%20-47.10950112%5D%2C%20%5B-23.56487602%2C%20-46.79960878%5D%2C%20%5B-23.52528963%2C%20-46.89232716%5D%2C%20%5B-23.61423576%2C%20-46.72083858%5D%2C%20%5B-23.56193397%2C%20-46.3155381%5D%2C%20%5B-23.5864163%2C%20-46.11383553%5D%2C%20%5B-23.65048578%2C%20-46.7972798%5D%2C%20%5B-23.56513308%2C%20-46.48475847%5D%2C%20%5B-23.69806168%2C%20-46.63168964%5D%2C%20%5B-23.47357529%2C%20-46.67091641%5D%2C%20%5B-23.67195402%2C%20-46.65594004%5D%2C%20%5B-23.50623701%2C%20-46.38213857%5D%2C%20%5B-23.66291342%2C%20-46.81376148%5D%2C%20%5B-23.4831522%2C%20-46.7891206%5D%2C%20%5B-23.68288344%2C%20-46.65519254%5D%2C%20%5B-23.45808723%2C%20-46.62345364%5D%2C%20%5B-23.45808723%2C%20-46.62345364%5D%2C%20%5B-23.60415967%2C%20-46.7351811%5D%2C%20%5B-23.75564426%2C%20-46.69403568%5D%2C%20%5B-23.74019091%2C%20-46.59611748%5D%2C%20%5B-23.67020833%2C%20-46.34774904%5D%2C%20%5B-23.57087303%2C%20-46.40436452%5D%2C%20%5B-23.6803479%2C%20-46.59624383%5D%2C%20%5B-23.6803479%2C%20-46.59624383%5D%2C%20%5B-23.68498206%2C%20-46.58302428%5D%2C%20%5B-23.35622177%2C%20-46.6137473%5D%2C%20%5B-23.6197684%2C%20-46.29599491%5D%2C%20%5B-23.58592469%2C%20-46.32733286%5D%2C%20%5B-23.54926148%2C%20-46.83503367%5D%2C%20%5B-23.63222021%2C%20-46.9402579%5D%2C%20%5B-23.63222021%2C%20-46.9402579%5D%2C%20%5B-23.42098615%2C%20-46.84261574%5D%2C%20%5B-23.53221787%2C%20-46.56802553%5D%2C%20%5B-23.49132418%2C%20-46.39494985%5D%2C%20%5B-23.54131821%2C%20-46.53716676%5D%2C%20%5B-23.27841354%2C%20-46.72492334%5D%2C%20%5B-23.6052766%2C%20-46.70525137%5D%2C%20%5B-23.42098615%2C%20-46.84261574%5D%2C%20%5B-23.66304476%2C%20-46.73980252%5D%2C%20%5B-23.66304476%2C%20-46.73980252%5D%2C%20%5B-23.68541976%2C%20-46.6258123%5D%2C%20%5B-23.62743009%2C%20-46.75518372%5D%2C%20%5B-23.75529947%2C%20-46.57654821%5D%2C%20%5B-23.70059818%2C%20-46.51811251%5D%2C%20%5B-23.5394593%2C%20-46.66154401%5D%2C%20%5B-23.58347314%2C%20-46.54303203%5D%2C%20%5B-23.44630244%2C%20-46.7461855%5D%2C%20%5B-23.36039821%2C%20-46.92357961%5D%2C%20%5B-23.63863157%2C%20-46.79164516%5D%2C%20%5B-23.65238639%2C%20-46.79485934%5D%2C%20%5B-23.65855064%2C%20-46.5679887%5D%2C%20%5B-23.57762416%2C%20-46.57590088%5D%2C%20%5B-23.6228251%2C%20-46.46766314%5D%2C%20%5B-23.51950206%2C%20-46.18305924%5D%2C%20%5B-23.54239466%2C%20-46.91699788%5D%2C%20%5B-23.64941078%2C%20-46.33644319%5D%2C%20%5B-23.52905894%2C%20-46.72953811%5D%2C%20%5B-23.48517736%2C%20-46.43568181%5D%2C%20%5B-23.48517736%2C%20-46.43568181%5D%2C%20%5B-23.65238639%2C%20-46.79485934%5D%2C%20%5B-23.65855064%2C%20-46.5679887%5D%2C%20%5B-23.70038947%2C%20-46.53170386%5D%2C%20%5B-23.53336199%2C%20-46.57929008%5D%2C%20%5B-23.67447417%2C%20-46.66596704%5D%2C%20%5B-23.67447417%2C%20-46.66596704%5D%2C%20%5B-23.63262083%2C%20-46.73581629%5D%2C%20%5B-23.6228251%2C%20-46.46766314%5D%2C%20%5B-23.46054292%2C%20-46.55191258%5D%2C%20%5B-23.71919732%2C%20-46.61311835%5D%2C%20%5B-23.69535679%2C%20-46.28734737%5D%2C%20%5B-23.54264214%2C%20-46.61612146%5D%2C%20%5B-23.52705828%2C%20-46.40998765%5D%2C%20%5B-23.55585569%2C%20-46.47200771%5D%2C%20%5B-23.54264214%2C%20-46.61612146%5D%2C%20%5B-23.71286115%2C%20-46.78186771%5D%2C%20%5B-23.71286115%2C%20-46.78186771%5D%2C%20%5B-23.66304476%2C%20-46.73980252%5D%2C%20%5B-23.59033367%2C%20-46.80333736%5D%2C%20%5B-23.71286115%2C%20-46.78186771%5D%2C%20%5B-23.53730355%2C%20-46.47539821%5D%2C%20%5B-23.67968682%2C%20-46.7613444%5D%2C%20%5B-23.49550916%2C%20-46.6774312%5D%2C%20%5B-23.54963065%2C%20-46.78582973%5D%2C%20%5B-23.66750723%2C%20-46.78406662%5D%2C%20%5B-23.4110614%2C%20-46.75938693%5D%2C%20%5B-23.46054292%2C%20-46.55191258%5D%2C%20%5B-23.54523712%2C%20-46.24618218%5D%2C%20%5B-23.67225715%2C%20-47.03067085%5D%2C%20%5B-23.61965268%2C%20-46.77065254%5D%2C%20%5B-23.53894928%2C%20-46.18283408%5D%2C%20%5B-23.48333407%2C%20-46.68326837%5D%2C%20%5B-23.4841174%2C%20-46.89537416%5D%2C%20%5B-23.64999764%2C%20-46.33048826%5D%2C%20%5B-23.68638001%2C%20-46.62449909%5D%2C%20%5B-23.67278822%2C%20-46.60281861%5D%2C%20%5B-23.53346059%2C%20-46.83817363%5D%2C%20%5B-23.57880154%2C%20-46.77097624%5D%2C%20%5B-23.5533845%2C%20-46.84518143%5D%2C%20%5B-23.71286115%2C%20-46.78186771%5D%2C%20%5B-23.63151123%2C%20-46.53005702%5D%2C%20%5B-23.58369037%2C%20-46.40910032%5D%2C%20%5B-23.67020833%2C%20-46.34774904%5D%2C%20%5B-23.67020833%2C%20-46.34774904%5D%2C%20%5B-22.94905476%2C%20-45.49757453%5D%2C%20%5B-23.53075448%2C%20-46.85455607%5D%2C%20%5B-23.44427318%2C%20-46.46824185%5D%2C%20%5B-23.56181155%2C%20-46.28342002%5D%2C%20%5B-23.71286115%2C%20-46.78186771%5D%2C%20%5B-23.72750946%2C%20-46.57502792%5D%2C%20%5B-23.41408284%2C%20-46.86475562%5D%2C%20%5B-23.73982147%2C%20-46.55499381%5D%2C%20%5B-23.57488672%2C%20-46.49563271%5D%2C%20%5B-23.45489403%2C%20-46.74930446%5D%2C%20%5B-23.68638001%2C%20-46.62449909%5D%2C%20%5B-23.56181155%2C%20-46.28342002%5D%2C%20%5B-23.55532909%2C%20-46.79039154%5D%2C%20%5B-23.58343641%2C%20-46.39283923%5D%2C%20%5B-23.48339376%2C%20-46.38290968%5D%2C%20%5B-23.61187693%2C%20-46.4659536%5D%2C%20%5B-23.62402826%2C%20-46.3170944%5D%2C%20%5B-23.63016252%2C%20-46.51737996%5D%2C%20%5B-23.77175115%2C%20-46.67678906%5D%2C%20%5B-23.52625832%2C%20-46.8342927%5D%2C%20%5B-23.61595008%2C%20-46.94381196%5D%2C%20%5B-23.2848026%2C%20-46.7088635%5D%2C%20%5B-23.60227562%2C%20-46.93442651%5D%2C%20%5B-23.60227562%2C%20-46.93442651%5D%2C%20%5B-23.66667145%2C%20-46.54811161%5D%2C%20%5B-23.51390256%2C%20-46.29298399%5D%2C%20%5B-23.53162458%2C%20-46.78659948%5D%2C%20%5B-23.53162458%2C%20-46.78659948%5D%2C%20%5B-23.68402914%2C%20-46.27155753%5D%2C%20%5B-23.66936616%2C%20-46.61880824%5D%2C%20%5B-23.54500015%2C%20-46.64356972%5D%2C%20%5B-23.66509387%2C%20-46.62160067%5D%2C%20%5B-23.58852541%2C%20-46.7499461%5D%2C%20%5B-23.54938522%2C%20-46.63325723%5D%2C%20%5B-23.54938522%2C%20-46.63325723%5D%2C%20%5B-23.57249366%2C%20-46.64406323%5D%2C%20%5B-23.55111567%2C%20-46.46356124%5D%2C%20%5B-23.52111986%2C%20-46.57999068%5D%2C%20%5B-23.52418598%2C%20-46.34388242%5D%2C%20%5B-23.51682843%2C%20-46.22319141%5D%2C%20%5B-23.51048645%2C%20-46.68127742%5D%2C%20%5B-23.49305614%2C%20-46.40496552%5D%2C%20%5B-23.42435365%2C%20-46.49833182%5D%2C%20%5B-23.48428039%2C%20-46.68159231%5D%2C%20%5B-23.56381619%2C%20-46.78565947%5D%2C%20%5B-23.53769834%2C%20-46.90449436%5D%2C%20%5B-23.50408055%2C%20-46.78778906%5D%2C%20%5B-23.72236481%2C%20-46.56040348%5D%2C%20%5B-23.53648238%2C%20-46.88579409%5D%2C%20%5B-23.57793497%2C%20-46.64565529%5D%2C%20%5B-23.50493316%2C%20-46.74467429%5D%2C%20%5B-23.66383499%2C%20-46.60721426%5D%2C%20%5B-23.71286115%2C%20-46.78186771%5D%2C%20%5B-23.57315179%2C%20-46.42507122%5D%2C%20%5B-23.9779174%2C%20-47.10950112%5D%2C%20%5B-23.63482404%2C%20-46.80350557%5D%2C%20%5B-23.73982147%2C%20-46.55499381%5D%2C%20%5B-23.85634582%2C%20-46.71111072%5D%2C%20%5B-23.5926155%2C%20-46.58481934%5D%2C%20%5B-23.65566116%2C%20-46.4368483%5D%2C%20%5B-23.56595116%2C%20-46.74281702%5D%2C%20%5B-23.59973206%2C%20-46.62733402%5D%2C%20%5B-23.67809864%2C%20-46.66447522%5D%2C%20%5B-23.62600459%2C%20-46.61773706%5D%2C%20%5B-23.56502481%2C%20-46.76523294%5D%2C%20%5B-23.4841174%2C%20-46.89537416%5D%2C%20%5B-23.4841174%2C%20-46.89537416%5D%2C%20%5B-23.4841174%2C%20-46.89537416%5D%2C%20%5B-23.25595526%2C%20-46.72945198%5D%2C%20%5B-23.53985239%2C%20-46.39602634%5D%2C%20%5B-23.54030834%2C%20-46.64399792%5D%2C%20%5B-23.60415967%2C%20-46.7351811%5D%2C%20%5B-23.67369827%2C%20-46.63183839%5D%2C%20%5B-23.65475686%2C%20-46.60967954%5D%2C%20%5B-23.65475686%2C%20-46.60967954%5D%2C%20%5B-23.45662744%2C%20-46.59127994%5D%2C%20%5B-23.55974825%2C%20-46.5089124%5D%2C%20%5B-23.55532909%2C%20-46.79039154%5D%2C%20%5B-23.66558443%2C%20-46.75601634%5D%2C%20%5B-23.63016252%2C%20-46.51737996%5D%2C%20%5B-23.57215318%2C%20-46.81564702%5D%2C%20%5B-23.44537651%2C%20-46.7481638%5D%2C%20%5B-23.6197684%2C%20-46.29599491%5D%2C%20%5B-23.6197684%2C%20-46.29599491%5D%2C%20%5B-23.61423576%2C%20-46.72083858%5D%2C%20%5B-23.50699801%2C%20-46.98898115%5D%2C%20%5B-23.52528963%2C%20-46.89232716%5D%2C%20%5B-23.52528963%2C%20-46.89232716%5D%2C%20%5B-23.55909223%2C%20-46.81157141%5D%2C%20%5B-23.60123298%2C%20-46.86480002%5D%2C%20%5B-23.53299837%2C%20-46.88356998%5D%2C%20%5B-23.55476547%2C%20-46.59031122%5D%2C%20%5B-22.86130752%2C%20-47.03862095%5D%2C%20%5B-23.53399297%2C%20-46.60060954%5D%2C%20%5B-23.52122783%2C%20-46.39109073%5D%2C%20%5B-23.51822533%2C%20-46.4385753%5D%2C%20%5B-23.56005125%2C%20-46.54753969%5D%2C%20%5B-23.71286115%2C%20-46.78186771%5D%2C%20%5B-23.71286115%2C%20-46.78186771%5D%2C%20%5B-23.50277405%2C%20-46.30349259%5D%2C%20%5B-23.61272361%2C%20-46.45352665%5D%2C%20%5B-23.66087542%2C%20-46.65379756%5D%2C%20%5B-23.67770901%2C%20-46.80071608%5D%2C%20%5B-23.67770901%2C%20-46.80071608%5D%2C%20%5B-23.71286115%2C%20-46.78186771%5D%2C%20%5B-23.60096632%2C%20-46.60008858%5D%2C%20%5B-23.51822533%2C%20-46.4385753%5D%2C%20%5B-23.47220495%2C%20-46.39227919%5D%2C%20%5B-23.5864163%2C%20-46.11383553%5D%2C%20%5B-23.64941078%2C%20-46.33644319%5D%2C%20%5B-23.69309884%2C%20-46.66538021%5D%2C%20%5B-23.66038309%2C%20-46.81889744%5D%2C%20%5B-23.67082956%2C%20-46.64712323%5D%2C%20%5B-23.66795302%2C%20-46.46289754%5D%2C%20%5B-23.66795302%2C%20-46.46289754%5D%2C%20%5B-23.66795302%2C%20-46.46289754%5D%2C%20%5B-23.66795302%2C%20-46.46289754%5D%2C%20%5B-23.50493316%2C%20-46.74467429%5D%2C%20%5B-23.63262083%2C%20-46.73581629%5D%2C%20%5B-23.63262083%2C%20-46.73581629%5D%2C%20%5B-23.61079957%2C%20-46.56983543%5D%2C%20%5B-23.9779174%2C%20-47.10950112%5D%2C%20%5B-23.53771136%2C%20-46.91580055%5D%2C%20%5B-23.44505412%2C%20-46.5572703%5D%2C%20%5B-23.44505412%2C%20-46.5572703%5D%2C%20%5B-23.44505412%2C%20-46.5572703%5D%2C%20%5B-23.60777685%2C%20-46.75486255%5D%2C%20%5B-23.70730627%2C%20-46.52909208%5D%2C%20%5B-23.75592464%2C%20-46.66618238%5D%2C%20%5B-23.67943198%2C%20-46.65586659%5D%2C%20%5B-23.6783293%2C%20-46.61156009%5D%2C%20%5B-23.50096553%2C%20-46.55122823%5D%2C%20%5B-23.71286115%2C%20-46.78186771%5D%2C%20%5B-23.54030834%2C%20-46.64399792%5D%2C%20%5B-23.64131652%2C%20-46.77610894%5D%2C%20%5B-23.6228251%2C%20-46.46766314%5D%2C%20%5B-23.67808673%2C%20-46.28473906%5D%2C%20%5B-23.71286115%2C%20-46.78186771%5D%2C%20%5B-23.55010256%2C%20-46.60640329%5D%2C%20%5B-23.49395003%2C%20-46.6728146%5D%2C%20%5B-23.55585569%2C%20-46.47200771%5D%2C%20%5B-23.699541%2C%20-46.50447466%5D%2C%20%5B-23.699541%2C%20-46.50447466%5D%2C%20%5B-23.28205824%2C%20-46.74073937%5D%2C%20%5B-23.46054292%2C%20-46.55191258%5D%2C%20%5B-23.26860266%2C%20-46.61217909%5D%2C%20%5B-23.54355819%2C%20-46.86607425%5D%2C%20%5B-23.64820654%2C%20-46.33559542%5D%2C%20%5B-23.4831522%2C%20-46.7891206%5D%2C%20%5B-23.39290298%2C%20-46.73082143%5D%2C%20%5B-23.58592469%2C%20-46.32733286%5D%2C%20%5B-23.4714843%2C%20-46.89559345%5D%2C%20%5B-23.54276543%2C%20-46.77624826%5D%2C%20%5B-23.54276543%2C%20-46.77624826%5D%2C%20%5B-23.54276543%2C%20-46.77624826%5D%2C%20%5B-23.61687527%2C%20-46.73844315%5D%2C%20%5B-23.44630244%2C%20-46.7461855%5D%2C%20%5B-23.73840422%2C%20-46.57492003%5D%2C%20%5B-23.71286115%2C%20-46.78186771%5D%2C%20%5B-23.27473252%2C%20-46.75649127%5D%2C%20%5B-23.7704097%2C%20-46.72372479%5D%2C%20%5B-23.62603265%2C%20-46.56149982%5D%2C%20%5B-23.75216978%2C%20-46.59892203%5D%2C%20%5B-23.75216978%2C%20-46.59892203%5D%2C%20%5B-23.56847669%2C%20-46.64365482%5D%2C%20%5B-23.71240836%2C%20-46.60782415%5D%2C%20%5B-23.75216978%2C%20-46.59892203%5D%2C%20%5B-23.75216978%2C%20-46.59892203%5D%2C%20%5B-23.56847669%2C%20-46.64365482%5D%2C%20%5B-23.56847669%2C%20-46.64365482%5D%2C%20%5B-23.62603265%2C%20-46.56149982%5D%2C%20%5B-23.62603265%2C%20-46.56149982%5D%2C%20%5B-23.71240836%2C%20-46.60782415%5D%2C%20%5B-23.78186911%2C%20-46.53181007%5D%2C%20%5B-23.78186911%2C%20-46.53181007%5D%2C%20%5B-23.58769754%2C%20-46.61980342%5D%2C%20%5B-23.56847669%2C%20-46.64365482%5D%2C%20%5B-23.58769754%2C%20-46.61980342%5D%2C%20%5B-23.68366222%2C%20-46.61184413%5D%2C%20%5B-23.78186911%2C%20-46.53181007%5D%2C%20%5B-23.78186911%2C%20-46.53181007%5D%2C%20%5B-23.68366222%2C%20-46.61184413%5D%2C%20%5B-23.68366222%2C%20-46.61184413%5D%2C%20%5B-23.7004593%2C%20-46.62837438%5D%2C%20%5B-23.61283575%2C%20-46.95682368%5D%2C%20%5B-23.54140055%2C%20-46.6299492%5D%2C%20%5B-23.54140055%2C%20-46.6299492%5D%2C%20%5B-23.56850125%2C%20-46.79062771%5D%2C%20%5B-23.46950903%2C%20-46.48189472%5D%2C%20%5B-23.46950903%2C%20-46.48189472%5D%2C%20%5B-23.56850125%2C%20-46.79062771%5D%2C%20%5B-23.7004593%2C%20-46.62837438%5D%2C%20%5B-23.61283575%2C%20-46.95682368%5D%2C%20%5B-23.67125523%2C%20-46.56754574%5D%2C%20%5B-23.67125523%2C%20-46.56754574%5D%2C%20%5B-23.71286115%2C%20-46.78186771%5D%2C%20%5B-23.56850125%2C%20-46.79062771%5D%2C%20%5B-23.61283575%2C%20-46.95682368%5D%2C%20%5B-23.69638723%2C%20-46.28688868%5D%2C%20%5B-23.6017287%2C%20-46.51135795%5D%2C%20%5B-23.6017287%2C%20-46.51135795%5D%2C%20%5B-23.52218183%2C%20-46.194323%5D%2C%20%5B-23.61919742%2C%20-46.50048409%5D%2C%20%5B-23.61919742%2C%20-46.50048409%5D%2C%20%5B-23.61919742%2C%20-46.50048409%5D%2C%20%5B-23.58238998%2C%20-46.59921875%5D%2C%20%5B-23.62677035%2C%20-46.80850023%5D%2C%20%5B-23.62677035%2C%20-46.80850023%5D%2C%20%5B-23.62677035%2C%20-46.80850023%5D%2C%20%5B-23.62677035%2C%20-46.80850023%5D%2C%20%5B-23.43067152%2C%20-46.50265044%5D%2C%20%5B-23.43067152%2C%20-46.50265044%5D%2C%20%5B-23.62578707%2C%20-46.50102724%5D%2C%20%5B-23.75766189%2C%20-46.45477045%5D%2C%20%5B-23.43067152%2C%20-46.50265044%5D%2C%20%5B-23.62578707%2C%20-46.50102724%5D%2C%20%5B-23.62578707%2C%20-46.50102724%5D%2C%20%5B-23.62578707%2C%20-46.50102724%5D%2C%20%5B-23.75766189%2C%20-46.45477045%5D%2C%20%5B-23.59326684%2C%20-46.91702217%5D%2C%20%5B-23.59326684%2C%20-46.91702217%5D%2C%20%5B-23.51474386%2C%20-46.92289283%5D%2C%20%5B-23.59326684%2C%20-46.91702217%5D%2C%20%5B-23.75766189%2C%20-46.45477045%5D%2C%20%5B-23.43067152%2C%20-46.50265044%5D%2C%20%5B-23.59326684%2C%20-46.91702217%5D%2C%20%5B-23.59326684%2C%20-46.91702217%5D%2C%20%5B-23.62578707%2C%20-46.50102724%5D%2C%20%5B-23.51474386%2C%20-46.92289283%5D%2C%20%5B-23.66439092%2C%20-46.75314258%5D%2C%20%5B-23.66439092%2C%20-46.75314258%5D%2C%20%5B-23.51216586%2C%20-46.78840382%5D%2C%20%5B-23.64824978%2C%20-46.83361899%5D%2C%20%5B-23.64824978%2C%20-46.83361899%5D%2C%20%5B-23.54179449%2C%20-46.77268839%5D%2C%20%5B-23.54179449%2C%20-46.77268839%5D%2C%20%5B-23.51216586%2C%20-46.78840382%5D%2C%20%5B-23.33416771%2C%20-46.72586298%5D%2C%20%5B-23.60462439%2C%20-46.59980181%5D%2C%20%5B-23.5023046%2C%20-46.61543928%5D%2C%20%5B-23.68122813%2C%20-46.18799575%5D%2C%20%5B-23.68122813%2C%20-46.18799575%5D%2C%20%5B-23.51735931%2C%20-46.77726799%5D%2C%20%5B-23.63408586%2C%20-46.66718223%5D%2C%20%5B-23.63408586%2C%20-46.66718223%5D%2C%20%5B-23.63408586%2C%20-46.66718223%5D%2C%20%5B-23.63408586%2C%20-46.66718223%5D%2C%20%5B-23.50876463%2C%20-46.29749303%5D%2C%20%5B-23.54179449%2C%20-46.77268839%5D%2C%20%5B-23.5023046%2C%20-46.61543928%5D%2C%20%5B-23.64824978%2C%20-46.83361899%5D%2C%20%5B-23.58738171%2C%20-46.31647238%5D%2C%20%5B-23.57344214%2C%20-46.56375547%5D%2C%20%5B-23.62487552%2C%20-46.70055468%5D%2C%20%5B-23.50876463%2C%20-46.29749303%5D%2C%20%5B-23.50876463%2C%20-46.29749303%5D%2C%20%5B-23.64824978%2C%20-46.83361899%5D%2C%20%5B-23.43469951%2C%20-46.41846379%5D%2C%20%5B-23.45488784%2C%20-46.88594986%5D%2C%20%5B-23.50245545%2C%20-46.5909441%5D%2C%20%5B-23.50245545%2C%20-46.5909441%5D%2C%20%5B-23.50245545%2C%20-46.5909441%5D%2C%20%5B-23.67659378%2C%20-46.6284184%5D%2C%20%5B-23.52307274%2C%20-46.650668%5D%2C%20%5B-23.60782244%2C%20-46.65275026%5D%2C%20%5B-23.51216586%2C%20-46.78840382%5D%2C%20%5B-23.51216586%2C%20-46.78840382%5D%2C%20%5B-23.62487552%2C%20-46.70055468%5D%2C%20%5B-23.72358556%2C%20-46.5243432%5D%2C%20%5B-23.50069035%2C%20-46.18013879%5D%2C%20%5B-23.60462439%2C%20-46.59980181%5D%2C%20%5B-23.60462439%2C%20-46.59980181%5D%2C%20%5B-23.60462439%2C%20-46.59980181%5D%2C%20%5B-23.52307274%2C%20-46.650668%5D%2C%20%5B-23.55343905%2C%20-46.39113406%5D%2C%20%5B-23.61035864%2C%20-46.57121541%5D%2C%20%5B-23.55343905%2C%20-46.39113406%5D%2C%20%5B-23.54570508%2C%20-46.4478935%5D%2C%20%5B-23.54570508%2C%20-46.4478935%5D%2C%20%5B-23.69019692%2C%20-46.70160409%5D%2C%20%5B-23.69019692%2C%20-46.70160409%5D%2C%20%5B-23.83598875%2C%20-46.57882437%5D%2C%20%5B-23.66318993%2C%20-46.33110945%5D%2C%20%5B-23.54817468%2C%20-46.67003076%5D%2C%20%5B-23.6952747%2C%20-46.50767875%5D%2C%20%5B-23.57344214%2C%20-46.56375547%5D%2C%20%5B-23.5143113%2C%20-46.35353263%5D%2C%20%5B-23.54709659%2C%20-46.93155728%5D%2C%20%5B-23.62487552%2C%20-46.70055468%5D%2C%20%5B-23.62487552%2C%20-46.70055468%5D%2C%20%5B-23.50069035%2C%20-46.18013879%5D%2C%20%5B-23.45488784%2C%20-46.88594986%5D%2C%20%5B-23.6013835%2C%20-46.52653032%5D%2C%20%5B-23.66439092%2C%20-46.75314258%5D%2C%20%5B-23.63408586%2C%20-46.66718223%5D%2C%20%5B-23.70686438%2C%20-46.53010959%5D%2C%20%5B-23.63302987%2C%20-46.26604944%5D%2C%20%5B-23.50876463%2C%20-46.29749303%5D%2C%20%5B-23.50876463%2C%20-46.29749303%5D%2C%20%5B-23.64824978%2C%20-46.83361899%5D%2C%20%5B-23.52307274%2C%20-46.650668%5D%2C%20%5B-23.60462439%2C%20-46.59980181%5D%2C%20%5B-23.60462439%2C%20-46.59980181%5D%2C%20%5B-23.60462439%2C%20-46.59980181%5D%2C%20%5B-23.75981197%2C%20-46.81261725%5D%2C%20%5B-23.45652252%2C%20-46.59044893%5D%2C%20%5B-23.34237086%2C%20-46.75000919%5D%2C%20%5B-23.71013132%2C%20-46.50847885%5D%2C%20%5B-23.75981197%2C%20-46.81261725%5D%2C%20%5B-23.55343905%2C%20-46.39113406%5D%2C%20%5B-23.64807686%2C%20-46.82703367%5D%2C%20%5B-23.54709659%2C%20-46.93155728%5D%2C%20%5B-23.51067112%2C%20-46.80876837%5D%2C%20%5B-23.50296409%2C%20-46.31177796%5D%2C%20%5B-23.60462439%2C%20-46.59980181%5D%2C%20%5B-23.60462439%2C%20-46.59980181%5D%2C%20%5B-23.60462439%2C%20-46.59980181%5D%2C%20%5B-23.60462439%2C%20-46.59980181%5D%2C%20%5B-23.68122813%2C%20-46.18799575%5D%2C%20%5B-23.70796768%2C%20-46.52253548%5D%2C%20%5B-23.59903657%2C%20-46.91872086%5D%2C%20%5B-23.54828164%2C%20-45.96350265%5D%2C%20%5B-23.4731685%2C%20-46.71403515%5D%2C%20%5B-23.74132419%2C%20-46.59961717%5D%2C%20%5B-23.54179449%2C%20-46.77268839%5D%2C%20%5B-23.60462439%2C%20-46.59980181%5D%2C%20%5B-23.34237086%2C%20-46.75000919%5D%2C%20%5B-23.34237086%2C%20-46.75000919%5D%2C%20%5B-23.34237086%2C%20-46.75000919%5D%2C%20%5B-23.50245545%2C%20-46.5909441%5D%2C%20%5B-23.5686967%2C%20-46.4754106%5D%2C%20%5B-23.52716083%2C%20-46.85068855%5D%2C%20%5B-23.52716083%2C%20-46.85068855%5D%2C%20%5B-23.6414412%2C%20-46.8391421%5D%2C%20%5B-23.6414412%2C%20-46.8391421%5D%2C%20%5B-23.66448028%2C%20-46.75351722%5D%2C%20%5B-23.83598875%2C%20-46.57882437%5D%2C%20%5B-23.61310014%2C%20-46.72618916%5D%2C%20%5B-23.61310014%2C%20-46.72618916%5D%2C%20%5B-23.61035864%2C%20-46.57121541%5D%2C%20%5B-23.61035864%2C%20-46.57121541%5D%2C%20%5B-23.61035864%2C%20-46.57121541%5D%2C%20%5B-23.61035864%2C%20-46.57121541%5D%2C%20%5B-23.56204786%2C%20-46.63845005%5D%2C%20%5B-23.63007689%2C%20-46.6182078%5D%2C%20%5B-23.66318993%2C%20-46.33110945%5D%2C%20%5B-23.4731685%2C%20-46.71403515%5D%2C%20%5B-23.5686967%2C%20-46.4754106%5D%2C%20%5B-23.5686967%2C%20-46.4754106%5D%2C%20%5B-23.67659378%2C%20-46.6284184%5D%2C%20%5B-23.67659378%2C%20-46.6284184%5D%2C%20%5B-23.67659378%2C%20-46.6284184%5D%2C%20%5B-23.45488784%2C%20-46.88594986%5D%2C%20%5B-23.45488784%2C%20-46.88594986%5D%2C%20%5B-23.4825422%2C%20-46.75581806%5D%2C%20%5B-23.4825422%2C%20-46.75581806%5D%2C%20%5B-23.56204786%2C%20-46.63845005%5D%2C%20%5B-23.52307274%2C%20-46.650668%5D%2C%20%5B-23.47685707%2C%20-46.65556211%5D%2C%20%5B-23.47685707%2C%20-46.65556211%5D%2C%20%5B-23.46648443%2C%20-46.69541294%5D%2C%20%5B-23.47453502%2C%20-46.89463348%5D%2C%20%5B-23.55343905%2C%20-46.39113406%5D%2C%20%5B-23.64807686%2C%20-46.82703367%5D%2C%20%5B-23.52716083%2C%20-46.85068855%5D%2C%20%5B-23.62487552%2C%20-46.70055468%5D%2C%20%5B-23.64807686%2C%20-46.82703367%5D%2C%20%5B-23.5143113%2C%20-46.35353263%5D%2C%20%5B-23.68115297%2C%20-46.61076154%5D%2C%20%5B-23.68115297%2C%20-46.61076154%5D%2C%20%5B-23.72358556%2C%20-46.5243432%5D%2C%20%5B-23.43469951%2C%20-46.41846379%5D%2C%20%5B-23.50069035%2C%20-46.18013879%5D%2C%20%5B-23.50069035%2C%20-46.18013879%5D%2C%20%5B-23.54570508%2C%20-46.4478935%5D%2C%20%5B-23.54817468%2C%20-46.67003076%5D%2C%20%5B-23.4825422%2C%20-46.75581806%5D%2C%20%5B-23.46648443%2C%20-46.69541294%5D%2C%20%5B-23.5143113%2C%20-46.35353263%5D%2C%20%5B-23.55260331%2C%20-46.63784448%5D%2C%20%5B-23.51474386%2C%20-46.92289283%5D%2C%20%5B-23.47685707%2C%20-46.65556211%5D%2C%20%5B-23.75981197%2C%20-46.81261725%5D%2C%20%5B-23.45652252%2C%20-46.59044893%5D%2C%20%5B-23.69835152%2C%20-46.50595162%5D%2C%20%5B-23.59903657%2C%20-46.91872086%5D%2C%20%5B-23.55076106%2C%20-46.93974489%5D%2C%20%5B-23.54570508%2C%20-46.4478935%5D%2C%20%5B-23.69019692%2C%20-46.70160409%5D%2C%20%5B-23.62590913%2C%20-46.49745005%5D%2C%20%5B-23.5023046%2C%20-46.61543928%5D%2C%20%5B-23.58738171%2C%20-46.31647238%5D%2C%20%5B-23.58738171%2C%20-46.31647238%5D%2C%20%5B-23.6414412%2C%20-46.8391421%5D%2C%20%5B-23.50296409%2C%20-46.31177796%5D%2C%20%5B-23.47949891%2C%20-46.54788697%5D%2C%20%5B-23.47949891%2C%20-46.54788697%5D%2C%20%5B-23.47949891%2C%20-46.54788697%5D%2C%20%5B-23.47949891%2C%20-46.54788697%5D%2C%20%5B-23.53646315%2C%20-46.58826104%5D%2C%20%5B-23.5143113%2C%20-46.35353263%5D%2C%20%5B-23.71286115%2C%20-46.78186771%5D%2C%20%5B-23.71286115%2C%20-46.78186771%5D%2C%20%5B-23.63302987%2C%20-46.26604944%5D%2C%20%5B-23.63302987%2C%20-46.26604944%5D%2C%20%5B-23.5143113%2C%20-46.35353263%5D%2C%20%5B-23.54709659%2C%20-46.93155728%5D%2C%20%5B-23.73129215%2C%20-46.53496218%5D%2C%20%5B-23.29541037%2C%20-46.56109118%5D%2C%20%5B-23.29541037%2C%20-46.56109118%5D%2C%20%5B-23.4731685%2C%20-46.71403515%5D%2C%20%5B-23.51474386%2C%20-46.92289283%5D%2C%20%5B-23.57806782%2C%20-46.6405597%5D%2C%20%5B-23.57806782%2C%20-46.6405597%5D%2C%20%5B-23.47453502%2C%20-46.89463348%5D%2C%20%5B-23.52135122%2C%20-46.56826561%5D%2C%20%5B-23.68115297%2C%20-46.61076154%5D%2C%20%5B-23.68115297%2C%20-46.61076154%5D%2C%20%5B-23.33416771%2C%20-46.72586298%5D%2C%20%5B-23.71013132%2C%20-46.50847885%5D%2C%20%5B-23.6911482%2C%20-46.58051212%5D%2C%20%5B-23.46489688%2C%20-46.51310334%5D%2C%20%5B-23.51735931%2C%20-46.77726799%5D%2C%20%5B-23.54711395%2C%20-46.65846033%5D%2C%20%5B-23.66439092%2C%20-46.75314258%5D%2C%20%5B-23.63408586%2C%20-46.66718223%5D%2C%20%5B-23.70686438%2C%20-46.53010959%5D%2C%20%5B-23.53646315%2C%20-46.58826104%5D%2C%20%5B-23.55850851%2C%20-46.61519738%5D%2C%20%5B-23.74132419%2C%20-46.59961717%5D%2C%20%5B-23.69835152%2C%20-46.50595162%5D%2C%20%5B-23.70796768%2C%20-46.52253548%5D%2C%20%5B-23.59903657%2C%20-46.91872086%5D%2C%20%5B-23.57620378%2C%20-46.80172263%5D%2C%20%5B-23.44526248%2C%20-46.52133396%5D%2C%20%5B-23.50876463%2C%20-46.29749303%5D%2C%20%5B-23.57620378%2C%20-46.80172263%5D%2C%20%5B-23.54828164%2C%20-45.96350265%5D%2C%20%5B-23.55850851%2C%20-46.61519738%5D%2C%20%5B-23.61310014%2C%20-46.72618916%5D%2C%20%5B-23.58611284%2C%20-46.69218906%5D%2C%20%5B-23.58611284%2C%20-46.69218906%5D%2C%20%5B-23.73534117%2C%20-46.56066184%5D%2C%20%5B-23.69538671%2C%20-46.55300863%5D%2C%20%5B-23.5143113%2C%20-46.35353263%5D%2C%20%5B-23.52135122%2C%20-46.56826561%5D%2C%20%5B-23.48407925%2C%20-46.87587393%5D%2C%20%5B-23.54711395%2C%20-46.65846033%5D%2C%20%5B-23.49409165%2C%20-46.42058105%5D%2C%20%5B-23.66665914%2C%20-46.58316378%5D%2C%20%5B-23.26886987%2C%20-46.61256774%5D%2C%20%5B-23.83469143%2C%20-46.81864168%5D%2C%20%5B-23.6911482%2C%20-46.58051212%5D%2C%20%5B-23.50365581%2C%20-46.88081178%5D%2C%20%5B-23.73534117%2C%20-46.56066184%5D%2C%20%5B-23.66448028%2C%20-46.75351722%5D%2C%20%5B-23.44526248%2C%20-46.52133396%5D%2C%20%5B-23.61035864%2C%20-46.57121541%5D%2C%20%5B-23.61035864%2C%20-46.57121541%5D%2C%20%5B-23.61035864%2C%20-46.57121541%5D%2C%20%5B-23.54711395%2C%20-46.65846033%5D%2C%20%5B-23.6414412%2C%20-46.8391421%5D%2C%20%5B-23.6414412%2C%20-46.8391421%5D%2C%20%5B-23.51067112%2C%20-46.80876837%5D%2C%20%5B-23.50296409%2C%20-46.31177796%5D%2C%20%5B-23.69573833%2C%20-46.28826427%5D%2C%20%5B-23.69573833%2C%20-46.28826427%5D%2C%20%5B-23.69573833%2C%20-46.28826427%5D%2C%20%5B-23.66318993%2C%20-46.33110945%5D%2C%20%5B-23.56443589%2C%20-46.61137565%5D%2C%20%5B-23.57344214%2C%20-46.56375547%5D%2C%20%5B-23.72358556%2C%20-46.5243432%5D%2C%20%5B-23.50069035%2C%20-46.18013879%5D%2C%20%5B-23.65985978%2C%20-46.76973494%5D%2C%20%5B-23.65289823%2C%20-46.63814167%5D%2C%20%5B-23.65289823%2C%20-46.63814167%5D%2C%20%5B-23.4731685%2C%20-46.71403515%5D%2C%20%5B-23.5143113%2C%20-46.35353263%5D%2C%20%5B-23.65435451%2C%20-46.75447409%5D%2C%20%5B-23.82405961%2C%20-46.73495408%5D%2C%20%5B-23.82405961%2C%20-46.73495408%5D%2C%20%5B-23.58528218%2C%20-46.53373169%5D%2C%20%5B-23.73129215%2C%20-46.53496218%5D%2C%20%5B-23.55897796%2C%20-46.28520214%5D%2C%20%5B-23.60782244%2C%20-46.65275026%5D%2C%20%5B-23.60782244%2C%20-46.65275026%5D%2C%20%5B-23.57806782%2C%20-46.6405597%5D%2C%20%5B-23.57806782%2C%20-46.6405597%5D%2C%20%5B-23.41058876%2C%20-46.75796153%5D%2C%20%5B-23.58611284%2C%20-46.69218906%5D%2C%20%5B-23.63007689%2C%20-46.6182078%5D%2C%20%5B-23.55343905%2C%20-46.39113406%5D%2C%20%5B-23.26886987%2C%20-46.61256774%5D%2C%20%5B-23.54570508%2C%20-46.4478935%5D%2C%20%5B-23.65426908%2C%20-46.54352768%5D%2C%20%5B-23.59202024%2C%20-46.57982779%5D%2C%20%5B-23.59202024%2C%20-46.57982779%5D%2C%20%5B-23.54570508%2C%20-46.4478935%5D%2C%20%5B-23.6952747%2C%20-46.50767875%5D%2C%20%5B-23.68115297%2C%20-46.61076154%5D%2C%20%5B-23.68115297%2C%20-46.61076154%5D%2C%20%5B-23.52716083%2C%20-46.85068855%5D%2C%20%5B-23.51915314%2C%20-46.85585165%5D%2C%20%5B-23.63302987%2C%20-46.26604944%5D%2C%20%5B-23.5143113%2C%20-46.35353263%5D%2C%20%5B-23.51474386%2C%20-46.92289283%5D%2C%20%5B-23.71286115%2C%20-46.78186771%5D%2C%20%5B-23.66589498%2C%20-46.43022372%5D%2C%20%5B-23.61310014%2C%20-46.72618916%5D%2C%20%5B-23.47949891%2C%20-46.54788697%5D%2C%20%5B-23.6013835%2C%20-46.52653032%5D%2C%20%5B-23.48863008%2C%20-46.89131279%5D%2C%20%5B-23.66448028%2C%20-46.75351722%5D%2C%20%5B-23.61035864%2C%20-46.57121541%5D%2C%20%5B-23.83598875%2C%20-46.57882437%5D%2C%20%5B-23.54711395%2C%20-46.65846033%5D%2C%20%5B-23.54711395%2C%20-46.65846033%5D%2C%20%5B-23.54711395%2C%20-46.65846033%5D%2C%20%5B-23.75981197%2C%20-46.81261725%5D%2C%20%5B-23.75981197%2C%20-46.81261725%5D%2C%20%5B-23.49256616%2C%20-46.27983601%5D%2C%20%5B-23.63964437%2C%20-46.80434876%5D%2C%20%5B-23.29211965%2C%20-46.84499646%5D%2C%20%5B-23.58319395%2C%20-46.6008348%5D%2C%20%5B-23.61752349%2C%20-46.70544082%5D%2C%20%5B-23.43469951%2C%20-46.41846379%5D%2C%20%5B-23.56443589%2C%20-46.61137565%5D%2C%20%5B-23.45652252%2C%20-46.59044893%5D%2C%20%5B-23.47685707%2C%20-46.65556211%5D%2C%20%5B-23.66928086%2C%20-46.53907307%5D%2C%20%5B-23.57620378%2C%20-46.80172263%5D%2C%20%5B-23.54828164%2C%20-45.96350265%5D%2C%20%5B-23.54828164%2C%20-45.96350265%5D%2C%20%5B-23.65289823%2C%20-46.63814167%5D%2C%20%5B-23.74592435%2C%20-46.56286544%5D%2C%20%5B-23.60198503%2C%20-46.75208202%5D%2C%20%5B-23.62590913%2C%20-46.49745005%5D%2C%20%5B-23.55343905%2C%20-46.39113406%5D%2C%20%5B-23.64807686%2C%20-46.82703367%5D%2C%20%5B-23.65985978%2C%20-46.76973494%5D%2C%20%5B-23.51067112%2C%20-46.80876837%5D%2C%20%5B-23.61744616%2C%20-46.79069627%5D%2C%20%5B-23.57281255%2C%20-46.70487162%5D%2C%20%5B-23.47453502%2C%20-46.89463348%5D%2C%20%5B-23.61744616%2C%20-46.79069627%5D%2C%20%5B-23.84411321%2C%20-46.60528978%5D%2C%20%5B-23.59202024%2C%20-46.57982779%5D%2C%20%5B-23.59976211%2C%20-46.68512483%5D%2C%20%5B-23.4731685%2C%20-46.71403515%5D%2C%20%5B-23.5686967%2C%20-46.4754106%5D%2C%20%5B-23.26886987%2C%20-46.61256774%5D%2C%20%5B-23.63631025%2C%20-46.79079518%5D%2C%20%5B-23.57806782%2C%20-46.6405597%5D%2C%20%5B-23.82405961%2C%20-46.73495408%5D%2C%20%5B-23.5926543%2C%20-46.58600617%5D%2C%20%5B-23.5926543%2C%20-46.58600617%5D%2C%20%5B-23.54570508%2C%20-46.4478935%5D%2C%20%5B-23.54570508%2C%20-46.4478935%5D%2C%20%5B-23.69019692%2C%20-46.70160409%5D%2C%20%5B-23.69019692%2C%20-46.70160409%5D%2C%20%5B-23.63631025%2C%20-46.79079518%5D%2C%20%5B-23.83469143%2C%20-46.81864168%5D%2C%20%5B-23.51915314%2C%20-46.85585165%5D%2C%20%5B-23.61752349%2C%20-46.70544082%5D%2C%20%5B-23.50215461%2C%20-46.6530713%5D%2C%20%5B-23.50643933%2C%20-46.68019385%5D%2C%20%5B-23.54050053%2C%20-46.44852245%5D%2C%20%5B-23.44526248%2C%20-46.52133396%5D%2C%20%5B-23.55897796%2C%20-46.28520214%5D%2C%20%5B-23.54203797%2C%20-46.76636576%5D%2C%20%5B-23.42866807%2C%20-46.49941938%5D%2C%20%5B-23.41058876%2C%20-46.75796153%5D%2C%20%5B-23.58319395%2C%20-46.6008348%5D%2C%20%5B-23.57205857%2C%20-46.69983044%5D%2C%20%5B-23.63302987%2C%20-46.26604944%5D%2C%20%5B-23.58532683%2C%20-46.6708191%5D%2C%20%5B-23.54050053%2C%20-46.44852245%5D%2C%20%5B-23.63302987%2C%20-46.26604944%5D%2C%20%5B-23.5143113%2C%20-46.35353263%5D%2C%20%5B-23.4938427%2C%20-46.3856854%5D%2C%20%5B-23.66872803%2C%20-46.33100149%5D%2C%20%5B-23.64951178%2C%20-46.81473206%5D%2C%20%5B-23.69835152%2C%20-46.50595162%5D%2C%20%5B-23.68115297%2C%20-46.61076154%5D%2C%20%5B-23.52716083%2C%20-46.85068855%5D%2C%20%5B-23.65985978%2C%20-46.76973494%5D%2C%20%5B-23.6013835%2C%20-46.52653032%5D%2C%20%5B-23.47392105%2C%20-46.66748016%5D%2C%20%5B-23.54228485%2C%20-46.31061599%5D%2C%20%5B-23.5143113%2C%20-46.35353263%5D%2C%20%5B-23.42866807%2C%20-46.49941938%5D%2C%20%5B-23.66928086%2C%20-46.53907307%5D%2C%20%5B-23.54638548%2C%20-46.93484042%5D%2C%20%5B-23.44481254%2C%20-46.91829841%5D%2C%20%5B-23.44481254%2C%20-46.91829841%5D%2C%20%5B-23.53142954%2C%20-46.8220736%5D%2C%20%5B-23.4994993%2C%20-46.76969268%5D%2C%20%5B-23.71286115%2C%20-46.78186771%5D%2C%20%5B-23.53717904%2C%20-46.21914101%5D%2C%20%5B-23.63964437%2C%20-46.80434876%5D%2C%20%5B-23.45652252%2C%20-46.59044893%5D%2C%20%5B-23.51066893%2C%20-46.87496453%5D%2C%20%5B-23.58394728%2C%20-46.92017389%5D%2C%20%5B-23.65435451%2C%20-46.75447409%5D%2C%20%5B-23.65435451%2C%20-46.75447409%5D%2C%20%5B-23.4825422%2C%20-46.75581806%5D%2C%20%5B-23.46648443%2C%20-46.69541294%5D%2C%20%5B-23.51206158%2C%20-46.19717759%5D%2C%20%5B-23.49256616%2C%20-46.27983601%5D%2C%20%5B-23.26707177%2C%20-46.61114949%5D%2C%20%5B-23.26707177%2C%20-46.61114949%5D%2C%20%5B-23.29211965%2C%20-46.84499646%5D%2C%20%5B-23.51206158%2C%20-46.19717759%5D%2C%20%5B-23.29211965%2C%20-46.84499646%5D%2C%20%5B-23.29211965%2C%20-46.84499646%5D%2C%20%5B-23.70796768%2C%20-46.52253548%5D%2C%20%5B-23.51292211%2C%20-46.77837151%5D%2C%20%5B-23.4998783%2C%20-46.62573673%5D%2C%20%5B-23.28343877%2C%20-46.73771096%5D%2C%20%5B-23.67689603%2C%20-46.53711399%5D%2C%20%5B-23.59903657%2C%20-46.91872086%5D%2C%20%5B-23.6414412%2C%20-46.8391421%5D%2C%20%5B-23.68115297%2C%20-46.61076154%5D%2C%20%5B-23.53353769%2C%20-46.312363%5D%2C%20%5B-23.53353769%2C%20-46.312363%5D%2C%20%5B-23.8220288%2C%20-46.73604711%5D%2C%20%5B-23.68848244%2C%20-46.78121328%5D%2C%20%5B-23.58162306%2C%20-46.58567613%5D%2C%20%5B-23.58162306%2C%20-46.58567613%5D%2C%20%5B-23.55260331%2C%20-46.63784448%5D%2C%20%5B-23.51913495%2C%20-46.44302416%5D%2C%20%5B-23.67525631%2C%20-46.642562%5D%2C%20%5B-23.53717904%2C%20-46.21914101%5D%2C%20%5B-23.58532683%2C%20-46.6708191%5D%2C%20%5B-23.5686967%2C%20-46.4754106%5D%2C%20%5B-23.62087409%2C%20-46.47835881%5D%2C%20%5B-23.57281255%2C%20-46.70487162%5D%2C%20%5B-23.57281255%2C%20-46.70487162%5D%2C%20%5B-23.57281255%2C%20-46.70487162%5D%2C%20%5B-23.47230725%2C%20-46.61809496%5D%2C%20%5B-23.47230725%2C%20-46.61809496%5D%2C%20%5B-23.64951178%2C%20-46.81473206%5D%2C%20%5B-23.54228485%2C%20-46.31061599%5D%2C%20%5B-23.59976211%2C%20-46.68512483%5D%2C%20%5B-23.73129215%2C%20-46.53496218%5D%2C%20%5B-23.73129215%2C%20-46.53496218%5D%2C%20%5B-23.29541037%2C%20-46.56109118%5D%2C%20%5B-23.58528218%2C%20-46.53373169%5D%2C%20%5B-23.58528218%2C%20-46.53373169%5D%2C%20%5B-23.73129215%2C%20-46.53496218%5D%2C%20%5B-23.6695843%2C%20-46.63756429%5D%2C%20%5B-23.70530524%2C%20-46.6267063%5D%2C%20%5B-23.6032866%2C%20-46.91843788%5D%2C%20%5B-23.52135122%2C%20-46.56826561%5D%2C%20%5B-23.50206261%2C%20-46.39761459%5D%2C%20%5B-23.49256616%2C%20-46.27983601%5D%2C%20%5B-23.58162306%2C%20-46.58567613%5D%2C%20%5B-23.53646315%2C%20-46.58826104%5D%2C%20%5B-23.4355466%2C%20-46.78536714%5D%2C%20%5B-23.33416771%2C%20-46.72586298%5D%2C%20%5B-23.67216423%2C%20-46.85627413%5D%2C%20%5B-23.71241309%2C%20-46.41795755%5D%2C%20%5B-23.48407925%2C%20-46.87587393%5D%2C%20%5B-23.50215461%2C%20-46.6530713%5D%2C%20%5B-23.51292211%2C%20-46.77837151%5D%2C%20%5B-23.51292211%2C%20-46.77837151%5D%2C%20%5B-23.4994993%2C%20-46.76969268%5D%2C%20%5B-23.55850851%2C%20-46.61519738%5D%2C%20%5B-23.55850851%2C%20-46.61519738%5D%2C%20%5B-23.55850851%2C%20-46.61519738%5D%2C%20%5B-23.68115297%2C%20-46.61076154%5D%2C%20%5B-23.4938427%2C%20-46.3856854%5D%2C%20%5B-23.54282326%2C%20-46.63199634%5D%2C%20%5B-23.66665914%2C%20-46.58316378%5D%2C%20%5B-23.67777943%2C%20-46.45356715%5D%2C%20%5B-23.47392105%2C%20-46.66748016%5D%2C%20%5B-23.47392105%2C%20-46.66748016%5D%2C%20%5B-23.54638548%2C%20-46.93484042%5D%2C%20%5B-23.44481254%2C%20-46.91829841%5D%2C%20%5B-23.69380132%2C%20-46.2833435%5D%2C%20%5B-23.68848244%2C%20-46.78121328%5D%2C%20%5B-23.58162306%2C%20-46.58567613%5D%2C%20%5B-23.52385924%2C%20-46.68505176%5D%2C%20%5B-23.52385924%2C%20-46.68505176%5D%2C%20%5B-23.52385924%2C%20-46.68505176%5D%2C%20%5B-23.67211393%2C%20-46.51864917%5D%2C%20%5B-23.47949891%2C%20-46.54788697%5D%2C%20%5B-23.50379072%2C%20-46.87998968%5D%2C%20%5B-23.50379072%2C%20-46.87998968%5D%2C%20%5B-23.67525631%2C%20-46.642562%5D%2C%20%5B-23.61992311%2C%20-46.45711614%5D%2C%20%5B-23.61992311%2C%20-46.45711614%5D%2C%20%5B-23.61992311%2C%20-46.45711614%5D%2C%20%5B-23.50657411%2C%20-46.77723497%5D%2C%20%5B-23.58307007%2C%20-46.5739665%5D%2C%20%5B-23.52443579%2C%20-46.61145012%5D%2C%20%5B-23.54047018%2C%20-46.58083975%5D%2C%20%5B-23.54047018%2C%20-46.58083975%5D%2C%20%5B-23.66665914%2C%20-46.58316378%5D%2C%20%5B-23.68115297%2C%20-46.61076154%5D%2C%20%5B-23.68115297%2C%20-46.61076154%5D%2C%20%5B-23.72350538%2C%20-46.85260856%5D%2C%20%5B-23.57277413%2C%20-46.67552884%5D%2C%20%5B-23.49409165%2C%20-46.42058105%5D%2C%20%5B-23.72350538%2C%20-46.85260856%5D%2C%20%5B-23.6032866%2C%20-46.91843788%5D%2C%20%5B-23.45222754%2C%20-46.94212952%5D%2C%20%5B-23.51716677%2C%20-46.80169707%5D%2C%20%5B-23.54846326%2C%20-46.63905552%5D%2C%20%5B-23.50365581%2C%20-46.88081178%5D%2C%20%5B-23.60672572%2C%20-46.50753639%5D%2C%20%5B-23.73534117%2C%20-46.56066184%5D%2C%20%5B-23.502539%2C%20-46.77736076%5D%2C%20%5B-23.59699114%2C%20-46.63562586%5D%2C%20%5B-23.65249994%2C%20-46.70872055%5D%2C%20%5B-23.65249994%2C%20-46.70872055%5D%2C%20%5B-23.66678203%2C%20-46.46202146%5D%2C%20%5B-23.62087409%2C%20-46.47835881%5D%2C%20%5B-23.71943702%2C%20-46.85142363%5D%2C%20%5B-23.6032866%2C%20-46.91843788%5D%2C%20%5B-23.76644437%2C%20-46.71695886%5D%2C%20%5B-23.76644437%2C%20-46.71695886%5D%2C%20%5B-23.56140655%2C%20-46.59273835%5D%2C%20%5B-23.54228485%2C%20-46.31061599%5D%2C%20%5B-23.54300652%2C%20-46.58535237%5D%2C%20%5B-23.53956421%2C%20-46.57156733%5D%2C%20%5B-23.5040731%2C%20-46.28381763%5D%2C%20%5B-23.53956421%2C%20-46.57156733%5D%2C%20%5B-23.65426908%2C%20-46.54352768%5D%2C%20%5B-23.56335585%2C%20-46.51946529%5D%2C%20%5B-23.58917874%2C%20-46.33116516%5D%2C%20%5B-23.5040731%2C%20-46.28381763%5D%2C%20%5B-23.51066893%2C%20-46.87496453%5D%2C%20%5B-23.58394728%2C%20-46.92017389%5D%2C%20%5B-23.29541037%2C%20-46.56109118%5D%2C%20%5B-23.29541037%2C%20-46.56109118%5D%2C%20%5B-23.6911482%2C%20-46.58051212%5D%2C%20%5B-23.46489688%2C%20-46.51310334%5D%2C%20%5B-23.64849995%2C%20-46.58815292%5D%2C%20%5B-23.64849995%2C%20-46.58815292%5D%2C%20%5B-23.64849995%2C%20-46.58815292%5D%2C%20%5B-23.60540942%2C%20-46.7464669%5D%2C%20%5B-23.4998783%2C%20-46.62573673%5D%2C%20%5B-23.52885178%2C%20-46.63160306%5D%2C%20%5B-23.86839444%2C%20-46.76788105%5D%2C%20%5B-23.86839444%2C%20-46.76788105%5D%2C%20%5B-23.54711395%2C%20-46.65846033%5D%2C%20%5B-23.67777943%2C%20-46.45356715%5D%2C%20%5B-23.52135122%2C%20-46.56826561%5D%2C%20%5B-23.49554936%2C%20-46.87845013%5D%2C%20%5B-23.49632064%2C%20-46.44211806%5D%2C%20%5B-23.8220288%2C%20-46.73604711%5D%2C%20%5B-23.8220288%2C%20-46.73604711%5D%2C%20%5B-23.5922261%2C%20-46.40708006%5D%2C%20%5B-23.5922261%2C%20-46.40708006%5D%2C%20%5B-23.66409114%2C%20-46.79932141%5D%2C%20%5B-23.64264775%2C%20-46.35433636%5D%2C%20%5B-23.64264775%2C%20-46.35433636%5D%2C%20%5B-23.51127254%2C%20-46.14844224%5D%2C%20%5B-23.51127254%2C%20-46.14844224%5D%2C%20%5B-23.52443579%2C%20-46.61145012%5D%2C%20%5B-23.53331688%2C%20-46.41668879%5D%2C%20%5B-23.66589498%2C%20-46.43022372%5D%2C%20%5B-23.42224419%2C%20-46.85929531%5D%2C%20%5B-23.83469143%2C%20-46.81864168%5D%2C%20%5B-23.51915314%2C%20-46.85585165%5D%2C%20%5B-23.72350538%2C%20-46.85260856%5D%2C%20%5B-23.6911482%2C%20-46.58051212%5D%2C%20%5B-23.55184891%2C%20-46.77626952%5D%2C%20%5B-23.61992311%2C%20-46.45711614%5D%2C%20%5B-23.50657411%2C%20-46.77723497%5D%2C%20%5B-23.50657411%2C%20-46.77723497%5D%2C%20%5B-23.46945189%2C%20-46.5203627%5D%2C%20%5B-23.64321725%2C%20-46.58418916%5D%2C%20%5B-23.50657411%2C%20-46.77723497%5D%2C%20%5B-23.52373032%2C%20-46.79278371%5D%2C%20%5B-23.51716677%2C%20-46.80169707%5D%2C%20%5B-23.51716677%2C%20-46.80169707%5D%2C%20%5B-23.61752349%2C%20-46.70544082%5D%2C%20%5B-23.71286115%2C%20-46.78186771%5D%2C%20%5B-23.69573833%2C%20-46.28826427%5D%2C%20%5B-23.69573833%2C%20-46.28826427%5D%2C%20%5B-23.69573833%2C%20-46.28826427%5D%2C%20%5B-23.50379072%2C%20-46.87998968%5D%2C%20%5B-23.64697992%2C%20-46.3358885%5D%2C%20%5B-23.64697992%2C%20-46.3358885%5D%2C%20%5B-23.57277413%2C%20-46.67552884%5D%2C%20%5B-23.57277413%2C%20-46.67552884%5D%2C%20%5B-23.58319395%2C%20-46.6008348%5D%2C%20%5B-23.49409165%2C%20-46.42058105%5D%2C%20%5B-23.58319395%2C%20-46.6008348%5D%2C%20%5B-23.52318076%2C%20-46.65551022%5D%2C%20%5B-23.50365581%2C%20-46.88081178%5D%2C%20%5B-23.62440118%2C%20-46.86876508%5D%2C%20%5B-23.50273157%2C%20-46.77026091%5D%2C%20%5B-23.50273157%2C%20-46.77026091%5D%2C%20%5B-23.65985978%2C%20-46.76973494%5D%2C%20%5B-23.66678203%2C%20-46.46202146%5D%2C%20%5B-23.54846326%2C%20-46.63905552%5D%2C%20%5B-23.61029015%2C%20-46.5800079%5D%2C%20%5B-23.61029015%2C%20-46.5800079%5D%2C%20%5B-23.60672572%2C%20-46.50753639%5D%2C%20%5B-23.41721123%2C%20-46.80110973%5D%2C%20%5B-23.47479597%2C%20-46.53303137%5D%2C%20%5B-23.62019817%2C%20-46.78537116%5D%2C%20%5B-23.65760046%2C%20-46.61717673%5D%2C%20%5B-23.68989209%2C%20-46.77386022%5D%2C%20%5B-23.5804261%2C%20-46.63987763%5D%2C%20%5B-23.6168073%2C%20-46.75730325%5D%2C%20%5B-23.66132217%2C%20-46.66858079%5D%2C%20%5B-23.47747001%2C%20-46.70393933%5D%2C%20%5B-23.68661023%2C%20-46.6832949%5D%2C%20%5B-23.54489564%2C%20-46.41111478%5D%2C%20%5B-23.60893362%2C%20-46.57638268%5D%2C%20%5B-23.54489564%2C%20-46.41111478%5D%2C%20%5B-23.59182117%2C%20-46.59797867%5D%2C%20%5B-23.59182117%2C%20-46.59797867%5D%2C%20%5B-23.6168073%2C%20-46.75730325%5D%2C%20%5B-23.66132217%2C%20-46.66858079%5D%2C%20%5B-23.55344422%2C%20-46.47752342%5D%2C%20%5B-23.68661023%2C%20-46.6832949%5D%2C%20%5B-23.66911942%2C%20-46.72126248%5D%2C%20%5B-23.54233754%2C%20-46.45112064%5D%2C%20%5B-23.57494429%2C%20-46.50553988%5D%2C%20%5B-23.5804261%2C%20-46.63987763%5D%2C%20%5B-23.63256331%2C%20-46.47103697%5D%2C%20%5B-23.54489564%2C%20-46.41111478%5D%2C%20%5B-23.55344422%2C%20-46.47752342%5D%2C%20%5B-23.47616076%2C%20-46.66330242%5D%2C%20%5B-23.54233754%2C%20-46.45112064%5D%2C%20%5B-23.55850851%2C%20-46.61519738%5D%2C%20%5B-23.59090388%2C%20-46.73072993%5D%2C%20%5B-23.58794302%2C%20-46.49813145%5D%2C%20%5B-23.60893362%2C%20-46.57638268%5D%2C%20%5B-23.2770072%2C%20-46.73938869%5D%2C%20%5B-23.55850851%2C%20-46.61519738%5D%2C%20%5B-23.59090388%2C%20-46.73072993%5D%2C%20%5B-23.59090388%2C%20-46.73072993%5D%2C%20%5B-23.2770072%2C%20-46.73938869%5D%2C%20%5B-23.54062233%2C%20-46.64180122%5D%2C%20%5B-23.55850851%2C%20-46.61519738%5D%2C%20%5B-23.50957644%2C%20-46.61765893%5D%2C%20%5B-23.54062233%2C%20-46.64180122%5D%2C%20%5B-23.58794302%2C%20-46.49813145%5D%2C%20%5B-23.692956%2C%20-46.68031086%5D%2C%20%5B-23.60168135%2C%20-46.59846798%5D%2C%20%5B-23.5584475%2C%20-46.74534686%5D%2C%20%5B-23.58794302%2C%20-46.49813145%5D%2C%20%5B-23.54062233%2C%20-46.64180122%5D%2C%20%5B-23.5584475%2C%20-46.74534686%5D%2C%20%5B-23.50957644%2C%20-46.61765893%5D%2C%20%5B-23.50957644%2C%20-46.61765893%5D%2C%20%5B-23.50957644%2C%20-46.61765893%5D%2C%20%5B-23.6168073%2C%20-46.75730325%5D%2C%20%5B-23.65760046%2C%20-46.61717673%5D%2C%20%5B-23.61791177%2C%20-46.79351533%5D%2C%20%5B-23.66911942%2C%20-46.72126248%5D%2C%20%5B-23.57494429%2C%20-46.50553988%5D%2C%20%5B-23.5804261%2C%20-46.63987763%5D%2C%20%5B-23.59182117%2C%20-46.59797867%5D%2C%20%5B-23.47747001%2C%20-46.70393933%5D%2C%20%5B-23.55344422%2C%20-46.47752342%5D%2C%20%5B-23.65760046%2C%20-46.61717673%5D%2C%20%5B-23.61791177%2C%20-46.79351533%5D%2C%20%5B-23.47616076%2C%20-46.66330242%5D%2C%20%5B-23.54062233%2C%20-46.64180122%5D%2C%20%5B-23.64648109%2C%20-46.65007034%5D%2C%20%5B-23.60168135%2C%20-46.59846798%5D%2C%20%5B-23.6468461%2C%20-46.64109788%5D%2C%20%5B-23.66378776%2C%20-46.54486697%5D%2C%20%5B-23.54101558%2C%20-46.2315049%5D%2C%20%5B-23.54423753%2C%20-46.89803769%5D%2C%20%5B-23.54423753%2C%20-46.89803769%5D%2C%20%5B-23.54613312%2C%20-46.64115956%5D%2C%20%5B-23.63292588%2C%20-46.6600907%5D%2C%20%5B-23.45153245%2C%20-46.57037499%5D%2C%20%5B-23.45153245%2C%20-46.57037499%5D%2C%20%5B-23.57138972%2C%20-46.64431182%5D%2C%20%5B-23.59362602%2C%20-46.4187798%5D%2C%20%5B-23.54298952%2C%20-46.48226515%5D%2C%20%5B-23.49785652%2C%20-46.6848309%5D%2C%20%5B-23.71286115%2C%20-46.78186771%5D%2C%20%5B-23.60449839%2C%20-46.56981437%5D%2C%20%5B-23.60449839%2C%20-46.56981437%5D%2C%20%5B-23.66215847%2C%20-46.44733749%5D%2C%20%5B-23.66215847%2C%20-46.44733749%5D%2C%20%5B-23.45179794%2C%20-46.47846814%5D%2C%20%5B-23.45179794%2C%20-46.47846814%5D%2C%20%5B-23.52925197%2C%20-46.56041576%5D%2C%20%5B-23.75410495%2C%20-46.78919713%5D%2C%20%5B-23.54778434%2C%20-46.89960761%5D%2C%20%5B-23.60168135%2C%20-46.59846798%5D%2C%20%5B-23.4889082%2C%20-46.56177469%5D%2C%20%5B-23.4889082%2C%20-46.56177469%5D%2C%20%5B-23.56818109%2C%20-46.74648506%5D%2C%20%5B-23.50779938%2C%20-46.67572714%5D%2C%20%5B-23.51319036%2C%20-46.41966852%5D%2C%20%5B-23.66378776%2C%20-46.54486697%5D%2C%20%5B-23.60229939%2C%20-46.60273197%5D%2C%20%5B-23.60229939%2C%20-46.60273197%5D%2C%20%5B-23.60229939%2C%20-46.60273197%5D%2C%20%5B-23.6902632%2C%20-46.59047564%5D%2C%20%5B-23.55850851%2C%20-46.61519738%5D%2C%20%5B-23.55850851%2C%20-46.61519738%5D%2C%20%5B-23.2770072%2C%20-46.73938869%5D%2C%20%5B-23.55850851%2C%20-46.61519738%5D%2C%20%5B-23.56818109%2C%20-46.74648506%5D%2C%20%5B-23.58794302%2C%20-46.49813145%5D%2C%20%5B-23.50957644%2C%20-46.61765893%5D%2C%20%5B-23.50957644%2C%20-46.61765893%5D%2C%20%5B-23.50957644%2C%20-46.61765893%5D%2C%20%5B-23.50957644%2C%20-46.61765893%5D%2C%20%5B-23.692956%2C%20-46.68031086%5D%2C%20%5B-23.6986242%2C%20-46.67294957%5D%2C%20%5B-23.6586244%2C%20-46.63592568%5D%2C%20%5B-23.6586244%2C%20-46.63592568%5D%2C%20%5B-23.62961453%2C%20-46.77499419%5D%2C%20%5B-23.51433309%2C%20-46.47671103%5D%2C%20%5B-23.4831249%2C%20-46.63178508%5D%2C%20%5B-23.5584475%2C%20-46.74534686%5D%2C%20%5B-23.50779938%2C%20-46.67572714%5D%2C%20%5B-23.66378776%2C%20-46.54486697%5D%2C%20%5B-23.66378776%2C%20-46.54486697%5D%2C%20%5B-23.66378776%2C%20-46.54486697%5D%2C%20%5B-23.46055946%2C%20-46.51416571%5D%2C%20%5B-23.71023668%2C%20-46.5246805%5D%2C%20%5B-23.71023668%2C%20-46.5246805%5D%2C%20%5B-23.56361318%2C%20-46.78005829%5D%2C%20%5B-23.61153922%2C%20-46.45355348%5D%2C%20%5B-23.68260134%2C%20-46.68187555%5D%2C%20%5B-23.47323112%2C%20-46.43439064%5D%2C%20%5B-23.60229939%2C%20-46.60273197%5D%2C%20%5B-23.60229939%2C%20-46.60273197%5D%2C%20%5B-23.68260134%2C%20-46.68187555%5D%2C%20%5B-23.68260134%2C%20-46.68187555%5D%2C%20%5B-23.58476494%2C%20-46.63393165%5D%2C%20%5B-23.5489884%2C%20-46.58161783%5D%2C%20%5B-23.60229939%2C%20-46.60273197%5D%2C%20%5B-23.60229939%2C%20-46.60273197%5D%2C%20%5B-23.54613312%2C%20-46.64115956%5D%2C%20%5B-23.59937506%2C%20-46.70867591%5D%2C%20%5B-23.47323112%2C%20-46.43439064%5D%2C%20%5B-23.46055946%2C%20-46.51416571%5D%2C%20%5B-23.52776695%2C%20-46.53038503%5D%2C%20%5B-23.63393087%2C%20-46.77866621%5D%2C%20%5B-23.66550234%2C%20-46.67148011%5D%2C%20%5B-23.52776695%2C%20-46.53038503%5D%2C%20%5B-23.65887123%2C%20-46.69832154%5D%2C%20%5B-23.63292588%2C%20-46.6600907%5D%2C%20%5B-23.5436621%2C%20-46.63807744%5D%2C%20%5B-23.57138972%2C%20-46.64431182%5D%2C%20%5B-23.49751039%2C%20-46.57680791%5D%2C%20%5B-23.43415569%2C%20-46.71975694%5D%2C%20%5B-23.54766905%2C%20-46.64537367%5D%2C%20%5B-23.54766905%2C%20-46.64537367%5D%2C%20%5B-23.54766905%2C%20-46.64537367%5D%2C%20%5B-23.47472793%2C%20-46.12480099%5D%2C%20%5B-23.63292588%2C%20-46.6600907%5D%2C%20%5B-23.54298952%2C%20-46.48226515%5D%2C%20%5B-23.4889709%2C%20-46.70509249%5D%2C%20%5B-23.53788309%2C%20-46.64761272%5D%2C%20%5B-23.53788309%2C%20-46.64761272%5D%2C%20%5B-23.57138972%2C%20-46.64431182%5D%2C%20%5B-23.73636781%2C%20-46.69433162%5D%2C%20%5B-23.49751039%2C%20-46.57680791%5D%2C%20%5B-23.49785652%2C%20-46.6848309%5D%2C%20%5B-23.71286115%2C%20-46.78186771%5D%2C%20%5B-23.60449839%2C%20-46.56981437%5D%2C%20%5B-23.63323469%2C%20-46.57061773%5D%2C%20%5B-23.63323469%2C%20-46.57061773%5D%2C%20%5B-23.52925197%2C%20-46.56041576%5D%2C%20%5B-23.57219544%2C%20-46.33841647%5D%2C%20%5B-23.57219544%2C%20-46.33841647%5D%2C%20%5B-23.71286115%2C%20-46.78186771%5D%2C%20%5B-23.71286115%2C%20-46.78186771%5D%2C%20%5B-23.61138286%2C%20-46.47535697%5D%2C%20%5B-23.66215847%2C%20-46.44733749%5D%2C%20%5B-23.66215847%2C%20-46.44733749%5D%2C%20%5B-23.66215847%2C%20-46.44733749%5D%2C%20%5B-23.5194392%2C%20-46.36873752%5D%2C%20%5B-23.57698834%2C%20-46.82755751%5D%2C%20%5B-23.54778434%2C%20-46.89960761%5D%2C%20%5B-23.54778434%2C%20-46.89960761%5D%2C%20%5B-23.71286115%2C%20-46.78186771%5D%2C%20%5B-23.54999016%2C%20-46.64620083%5D%2C%20%5B-23.62961453%2C%20-46.77499419%5D%2C%20%5B-23.53910452%2C%20-46.63513968%5D%2C%20%5B-23.73329173%2C%20-46.69824186%5D%2C%20%5B-23.52157644%2C%20-46.53508928%5D%2C%20%5B-23.51351622%2C%20-46.7726847%5D%2C%20%5B-23.71286115%2C%20-46.78186771%5D%2C%20%5B-23.71286115%2C%20-46.78186771%5D%2C%20%5B-23.54999016%2C%20-46.64620083%5D%2C%20%5B-23.6586244%2C%20-46.63592568%5D%2C%20%5B-23.49577566%2C%20-46.32155991%5D%2C%20%5B-23.63140097%2C%20-46.80144061%5D%2C%20%5B-23.61153922%2C%20-46.45355348%5D%2C%20%5B-23.61153922%2C%20-46.45355348%5D%2C%20%5B-23.54146708%2C%20-46.64668081%5D%2C%20%5B-23.63679618%2C%20-46.64485892%5D%2C%20%5B-23.77602689%2C%20-46.69720361%5D%2C%20%5B-23.77602689%2C%20-46.69720361%5D%2C%20%5B-23.55602832%2C%20-46.38977557%5D%2C%20%5B-23.5194392%2C%20-46.36873752%5D%2C%20%5B-23.49078503%2C%20-46.43826053%5D%2C%20%5B-23.4736285%2C%20-46.72053201%5D%2C%20%5B-23.57138972%2C%20-46.64431182%5D%2C%20%5B-23.49255302%2C%20-46.69638906%5D%2C%20%5B-23.61648741%2C%20-46.59785188%5D%2C%20%5B-23.53726855%2C%20-46.36647362%5D%2C%20%5B-23.75410495%2C%20-46.78919713%5D%2C%20%5B-23.75410495%2C%20-46.78919713%5D%2C%20%5B-23.4831249%2C%20-46.63178508%5D%2C%20%5B-23.57175664%2C%20-46.5243498%5D%2C%20%5B-23.66943313%2C%20-46.4239897%5D%2C%20%5B-23.5184773%2C%20-46.78395627%5D%2C%20%5B-23.57219544%2C%20-46.33841647%5D%2C%20%5B-23.50212596%2C%20-46.62105833%5D%2C%20%5B-23.54706233%2C%20-46.65368682%5D%2C%20%5B-23.62007335%2C%20-46.78123039%5D%2C%20%5B-23.62007335%2C%20-46.78123039%5D%2C%20%5B-23.62007335%2C%20-46.78123039%5D%2C%20%5B-23.71286115%2C%20-46.78186771%5D%2C%20%5B-23.71286115%2C%20-46.78186771%5D%2C%20%5B-23.71286115%2C%20-46.78186771%5D%2C%20%5B-23.62209716%2C%20-46.64005163%5D%2C%20%5B-23.71286115%2C%20-46.78186771%5D%2C%20%5B-23.71286115%2C%20-46.78186771%5D%2C%20%5B-23.68260134%2C%20-46.68187555%5D%2C%20%5B-23.63679618%2C%20-46.64485892%5D%2C%20%5B-23.63679618%2C%20-46.64485892%5D%2C%20%5B-23.5489884%2C%20-46.58161783%5D%2C%20%5B-23.57295009%2C%20-46.49838099%5D%2C%20%5B-23.57295009%2C%20-46.49838099%5D%2C%20%5B-23.55741026%2C%20-46.6575815%5D%2C%20%5B-23.42760033%2C%20-46.40812133%5D%2C%20%5B-23.42760033%2C%20-46.40812133%5D%2C%20%5B-23.64083036%2C%20-46.66425211%5D%2C%20%5B-23.56589203%2C%20-46.75200116%5D%2C%20%5B-23.52157644%2C%20-46.53508928%5D%2C%20%5B-23.54999016%2C%20-46.64620083%5D%2C%20%5B-23.55850851%2C%20-46.61519738%5D%2C%20%5B-23.6586244%2C%20-46.63592568%5D%2C%20%5B-23.51433309%2C%20-46.47671103%5D%2C%20%5B-23.54334368%2C%20-46.72580796%5D%2C%20%5B-23.49078503%2C%20-46.43826053%5D%2C%20%5B-23.49078503%2C%20-46.43826053%5D%2C%20%5B-23.4736285%2C%20-46.72053201%5D%2C%20%5B-23.4736285%2C%20-46.72053201%5D%2C%20%5B-23.43415569%2C%20-46.71975694%5D%2C%20%5B-23.54766905%2C%20-46.64537367%5D%2C%20%5B-23.67368502%2C%20-46.49422339%5D%2C%20%5B-23.61648741%2C%20-46.59785188%5D%2C%20%5B-23.54150621%2C%20-46.92238089%5D%2C%20%5B-23.58346153%2C%20-46.78977071%5D%2C%20%5B-23.58346153%2C%20-46.78977071%5D%2C%20%5B-23.50517099%2C%20-46.36733456%5D%2C%20%5B-23.50517099%2C%20-46.36733456%5D%2C%20%5B-23.55429234%2C%20-46.63877952%5D%2C%20%5B-23.64648109%2C%20-46.65007034%5D%2C%20%5B-23.64648109%2C%20-46.65007034%5D%2C%20%5B-23.56818109%2C%20-46.74648506%5D%2C%20%5B-23.66378776%2C%20-46.54486697%5D%2C%20%5B-23.51351622%2C%20-46.7726847%5D%2C%20%5B-23.62007335%2C%20-46.78123039%5D%2C%20%5B-23.71286115%2C%20-46.78186771%5D%2C%20%5B-23.71286115%2C%20-46.78186771%5D%2C%20%5B-23.71286115%2C%20-46.78186771%5D%2C%20%5B-23.71286115%2C%20-46.78186771%5D%2C%20%5B-23.55507612%2C%20-46.30705084%5D%2C%20%5B-23.57219544%2C%20-46.33841647%5D%2C%20%5B-23.56771331%2C%20-46.32399171%5D%2C%20%5B-23.61138286%2C%20-46.47535697%5D%2C%20%5B-23.55429234%2C%20-46.63877952%5D%2C%20%5B-23.55429234%2C%20-46.63877952%5D%2C%20%5B-23.67595547%2C%20-46.75261824%5D%2C%20%5B-23.67595547%2C%20-46.75261824%5D%2C%20%5B-23.53790978%2C%20-46.73272795%5D%2C%20%5B-23.66627531%2C%20-46.65629022%5D%2C%20%5B-23.67651063%2C%20-46.68556409%5D%2C%20%5B-23.67651063%2C%20-46.68556409%5D%2C%20%5B-23.56925477%2C%20-46.51669049%5D%2C%20%5B-23.60197146%2C%20-46.53576678%5D%2C%20%5B-23.66943313%2C%20-46.4239897%5D%2C%20%5B-23.71023668%2C%20-46.5246805%5D%2C%20%5B-23.49577566%2C%20-46.32155991%5D%2C%20%5B-23.61153922%2C%20-46.45355348%5D%2C%20%5B-23.68260134%2C%20-46.68187555%5D%2C%20%5B-23.62209716%2C%20-46.64005163%5D%2C%20%5B-23.62209716%2C%20-46.64005163%5D%2C%20%5B-23.50322765%2C%20-46.47485606%5D%2C%20%5B-23.66196223%2C%20-46.75252419%5D%2C%20%5B-23.54332616%2C%20-46.41145657%5D%2C%20%5B-23.70408463%2C%20-46.51830928%5D%2C%20%5B-23.55094464%2C%20-46.36027219%5D%2C%20%5B-23.61346575%2C%20-46.93463658%5D%2C%20%5B-23.65233516%2C%20-46.70411386%5D%2C%20%5B-23.59237419%2C%20-46.5975817%5D%2C%20%5B-23.5126749%2C%20-46.41974494%5D%2C%20%5B-23.5126749%2C%20-46.41974494%5D%2C%20%5B-23.6032866%2C%20-46.91843788%5D%2C%20%5B-23.65665936%2C%20-46.80150576%5D%2C%20%5B-23.49492291%2C%20-46.61595566%5D%2C%20%5B-23.51441935%2C%20-46.40766252%5D%2C%20%5B-23.71286115%2C%20-46.78186771%5D%2C%20%5B-23.54781226%2C%20-46.64148264%5D%2C%20%5B-23.54781226%2C%20-46.64148264%5D%2C%20%5B-23.46596082%2C%20-46.52496189%5D%2C%20%5B-23.54150621%2C%20-46.92238089%5D%2C%20%5B-23.73316415%2C%20-46.5402064%5D%2C%20%5B-23.73316415%2C%20-46.5402064%5D%2C%20%5B-23.54248221%2C%20-46.61707142%5D%2C%20%5B-23.63335526%2C%20-46.6465901%5D%2C%20%5B-23.71286115%2C%20-46.78186771%5D%2C%20%5B-23.56589203%2C%20-46.75200116%5D%2C%20%5B-23.73329173%2C%20-46.69824186%5D%2C%20%5B-23.69213109%2C%20-46.66217298%5D%2C%20%5B-23.61425861%2C%20-46.60450308%5D%2C%20%5B-23.52157644%2C%20-46.53508928%5D%2C%20%5B-23.6788841%2C%20-46.53427693%5D%2C%20%5B-23.49830189%2C%20-46.31989533%5D%2C%20%5B-23.69824574%2C%20-46.64798653%5D%2C%20%5B-23.46055946%2C%20-46.51416571%5D%2C%20%5B-23.44250647%2C%20-46.70653998%5D%2C%20%5B-23.48707059%2C%20-46.38266025%5D%2C%20%5B-23.66627531%2C%20-46.65629022%5D%2C%20%5B-23.50000765%2C%20-46.62069958%5D%2C%20%5B-23.68081687%2C%20-46.49835926%5D%2C%20%5B-23.66589899%2C%20-46.46134345%5D%2C%20%5B-23.71286115%2C%20-46.78186771%5D%2C%20%5B-23.47661492%2C%20-46.46819088%5D%2C%20%5B-23.55094464%2C%20-46.36027219%5D%2C%20%5B-23.51719131%2C%20-46.17881166%5D%2C%20%5B-23.66550234%2C%20-46.67148011%5D%2C%20%5B-23.63292588%2C%20-46.6600907%5D%2C%20%5B-23.45153245%2C%20-46.57037499%5D%2C%20%5B-23.5436621%2C%20-46.63807744%5D%2C%20%5B-23.53788309%2C%20-46.64761272%5D%2C%20%5B-23.67794777%2C%20-46.65780074%5D%2C%20%5B-23.51719131%2C%20-46.17881166%5D%2C%20%5B-23.49492291%2C%20-46.61595566%5D%2C%20%5B-23.54781226%2C%20-46.64148264%5D%2C%20%5B-23.53540097%2C%20-46.57486428%5D%2C%20%5B-23.45428067%2C%20-46.7410175%5D%2C%20%5B-23.56775279%2C%20-46.74680352%5D%2C%20%5B-23.56775279%2C%20-46.74680352%5D%2C%20%5B-23.66721402%2C%20-46.59240013%5D%2C%20%5B-23.66721402%2C%20-46.59240013%5D%2C%20%5B-23.4716542%2C%20-46.44073391%5D%2C%20%5B-23.58260559%2C%20-46.79500498%5D%2C%20%5B-23.62209716%2C%20-46.64005163%5D%2C%20%5B-23.50322765%2C%20-46.47485606%5D%2C%20%5B-23.50344051%2C%20-46.42409957%5D%2C%20%5B-23.68420213%2C%20-46.51474754%5D%2C%20%5B-23.64370675%2C%20-46.52144179%5D%2C%20%5B-23.62805054%2C%20-46.49911435%5D%2C%20%5B-23.66411001%2C%20-46.43213006%5D%2C%20%5B-23.4716542%2C%20-46.44073391%5D%2C%20%5B-23.68260134%2C%20-46.68187555%5D%2C%20%5B-23.54146708%2C%20-46.64668081%5D%2C%20%5B-23.54146708%2C%20-46.64668081%5D%2C%20%5B-23.63679618%2C%20-46.64485892%5D%2C%20%5B-23.71543202%2C%20-46.69915569%5D%2C%20%5B-23.32405398%2C%20-46.72530726%5D%2C%20%5B-23.32405398%2C%20-46.72530726%5D%2C%20%5B-23.32405398%2C%20-46.72530726%5D%2C%20%5B-23.54150621%2C%20-46.92238089%5D%2C%20%5B-23.54150621%2C%20-46.92238089%5D%2C%20%5B-23.54150621%2C%20-46.92238089%5D%2C%20%5B-23.59185473%2C%20-46.81206681%5D%2C%20%5B-23.73316415%2C%20-46.5402064%5D%2C%20%5B-23.4794135%2C%20-46.42773342%5D%2C%20%5B-23.4794135%2C%20-46.42773342%5D%2C%20%5B-23.53867801%2C%20-46.64961195%5D%2C%20%5B-23.55429234%2C%20-46.63877952%5D%2C%20%5B-23.48678046%2C%20-46.4240922%5D%2C%20%5B-23.48707059%2C%20-46.38266025%5D%2C%20%5B-23.53790978%2C%20-46.73272795%5D%2C%20%5B-23.67794777%2C%20-46.65780074%5D%2C%20%5B-23.59362602%2C%20-46.4187798%5D%2C%20%5B-23.4889709%2C%20-46.70509249%5D%2C%20%5B-23.4889709%2C%20-46.70509249%5D%2C%20%5B-23.49751039%2C%20-46.57680791%5D%2C%20%5B-23.60449839%2C%20-46.56981437%5D%2C%20%5B-23.52925197%2C%20-46.56041576%5D%2C%20%5B-23.53405765%2C%20-46.78330929%5D%2C%20%5B-23.71286115%2C%20-46.78186771%5D%2C%20%5B-23.68165451%2C%20-46.76754693%5D%2C%20%5B-23.49508836%2C%20-46.69768381%5D%2C%20%5B-23.56925477%2C%20-46.51669049%5D%2C%20%5B-23.68081687%2C%20-46.49835926%5D%2C%20%5B-23.66589899%2C%20-46.46134345%5D%2C%20%5B-23.47661492%2C%20-46.46819088%5D%2C%20%5B-23.76439023%2C%20-46.70730425%5D%2C%20%5B-23.71286115%2C%20-46.78186771%5D%2C%20%5B-23.71286115%2C%20-46.78186771%5D%2C%20%5B-23.69174742%2C%20-46.5028805%5D%2C%20%5B-23.71286115%2C%20-46.78186771%5D%2C%20%5B-23.71286115%2C%20-46.78186771%5D%2C%20%5B-23.55697761%2C%20-46.62747386%5D%2C%20%5B-23.57698834%2C%20-46.82755751%5D%2C%20%5B-23.75410495%2C%20-46.78919713%5D%2C%20%5B-23.54778434%2C%20-46.89960761%5D%2C%20%5B-23.55850851%2C%20-46.61519738%5D%2C%20%5B-23.6586244%2C%20-46.63592568%5D%2C%20%5B-23.6032866%2C%20-46.91843788%5D%2C%20%5B-23.6032866%2C%20-46.91843788%5D%2C%20%5B-23.51719131%2C%20-46.17881166%5D%2C%20%5B-23.48761174%2C%20-46.72108823%5D%2C%20%5B-23.45226083%2C%20-46.60480785%5D%2C%20%5B-23.55223249%2C%20-46.44207124%5D%2C%20%5B-23.55212958%2C%20-46.65278976%5D%2C%20%5B-23.55212958%2C%20-46.65278976%5D%2C%20%5B-23.49492291%2C%20-46.61595566%5D%2C%20%5B-23.49492291%2C%20-46.61595566%5D%2C%20%5B-23.51441935%2C%20-46.40766252%5D%2C%20%5B-23.71286115%2C%20-46.78186771%5D%2C%20%5B-23.49094373%2C%20-46.37223878%5D%2C%20%5B-23.52133723%2C%20-46.8358467%5D%2C%20%5B-23.80034981%2C%20-46.53672942%5D%2C%20%5B-23.63140097%2C%20-46.80144061%5D%2C%20%5B-23.61153922%2C%20-46.45355348%5D%2C%20%5B-23.68260134%2C%20-46.68187555%5D%2C%20%5B-23.62016617%2C%20-46.66204566%5D%2C%20%5B-23.69824574%2C%20-46.64798653%5D%2C%20%5B-23.45428067%2C%20-46.7410175%5D%2C%20%5B-23.45428067%2C%20-46.7410175%5D%2C%20%5B-23.60229939%2C%20-46.60273197%5D%2C%20%5B-23.54014297%2C%20-46.6300355%5D%2C%20%5B-23.52776695%2C%20-46.53038503%5D%2C%20%5B-23.47351436%2C%20-46.35128274%5D%2C%20%5B-23.5202103%2C%20-46.77581889%5D%2C%20%5B-23.52522916%2C%20-46.83568113%5D%2C%20%5B-23.53259772%2C%20-46.77767724%5D%2C%20%5B-23.54061842%2C%20-46.88220284%5D%2C%20%5B-23.68526557%2C%20-46.62636138%5D%2C%20%5B-23.44457261%2C%20-46.58610429%5D%2C%20%5B-23.55724638%2C%20-46.63656747%5D%2C%20%5B-23.55724638%2C%20-46.63656747%5D%2C%20%5B-23.56931388%2C%20-46.54283405%5D%2C%20%5B-23.64944445%2C%20-46.65926129%5D%2C%20%5B-23.64944445%2C%20-46.65926129%5D%2C%20%5B-23.47106754%2C%20-46.72230425%5D%2C%20%5B-23.59816769%2C%20-46.44638705%5D%2C%20%5B-23.59816769%2C%20-46.44638705%5D%2C%20%5B-23.55697761%2C%20-46.62747386%5D%2C%20%5B-23.55223249%2C%20-46.44207124%5D%2C%20%5B-23.49463781%2C%20-46.83014564%5D%2C%20%5B-23.49463781%2C%20-46.83014564%5D%2C%20%5B-23.57575255%2C%20-46.71254411%5D%2C%20%5B-23.5304422%2C%20-46.50592021%5D%2C%20%5B-23.57160487%2C%20-46.53190553%5D%2C%20%5B-23.62805054%2C%20-46.49911435%5D%2C%20%5B-23.70848362%2C%20-46.58875281%5D%2C%20%5B-23.47351436%2C%20-46.35128274%5D%2C%20%5B-23.55852049%2C%20-46.76681195%5D%2C%20%5B-23.54287299%2C%20-46.25831553%5D%2C%20%5B-23.52111018%2C%20-46.85481461%5D%2C%20%5B-23.4716542%2C%20-46.44073391%5D%2C%20%5B-23.58260559%2C%20-46.79500498%5D%2C%20%5B-23.52133723%2C%20-46.8358467%5D%2C%20%5B-23.69351239%2C%20-46.44127655%5D%2C%20%5B-23.69351239%2C%20-46.44127655%5D%2C%20%5B-23.5663624%2C%20-46.76366186%5D%2C%20%5B-23.59049079%2C%20-46.75375804%5D%2C%20%5B-23.32405398%2C%20-46.72530726%5D%2C%20%5B-23.66368533%2C%20-46.69271034%5D%2C%20%5B-23.61327924%2C%20-46.49179163%5D%2C%20%5B-23.5884851%2C%20-46.58911023%5D%2C%20%5B-23.5884851%2C%20-46.58911023%5D%2C%20%5B-23.68526557%2C%20-46.62636138%5D%2C%20%5B-23.65821909%2C%20-46.69190248%5D%2C%20%5B-23.53162926%2C%20-46.47036145%5D%2C%20%5B-23.70849014%2C%20-46.55157297%5D%2C%20%5B-23.53622277%2C%20-46.28631586%5D%2C%20%5B-23.71286115%2C%20-46.78186771%5D%2C%20%5B-23.71286115%2C%20-46.78186771%5D%2C%20%5B-23.71286115%2C%20-46.78186771%5D%2C%20%5B-23.52133723%2C%20-46.8358467%5D%2C%20%5B-23.50775283%2C%20-46.76453596%5D%2C%20%5B-23.50775283%2C%20-46.76453596%5D%2C%20%5B-23.53405765%2C%20-46.78330929%5D%2C%20%5B-23.54158349%2C%20-46.88179696%5D%2C%20%5B-23.69090179%2C%20-46.55842947%5D%2C%20%5B-23.56512942%2C%20-46.57030013%5D%2C%20%5B-23.63393087%2C%20-46.77866621%5D%2C%20%5B-23.45153245%2C%20-46.57037499%5D%2C%20%5B-23.5436621%2C%20-46.63807744%5D%2C%20%5B-23.67794777%2C%20-46.65780074%5D%2C%20%5B-23.73843403%2C%20-46.68823745%5D%2C%20%5B-23.56931388%2C%20-46.54283405%5D%2C%20%5B-23.64944445%2C%20-46.65926129%5D%2C%20%5B-23.4721941%2C%20-46.72491361%5D%2C%20%5B-23.47106754%2C%20-46.72230425%5D%2C%20%5B-23.47106754%2C%20-46.72230425%5D%2C%20%5B-23.53355596%2C%20-46.64333469%5D%2C%20%5B-23.69575522%2C%20-46.62427817%5D%2C%20%5B-23.60702288%2C%20-46.76258787%5D%2C%20%5B-23.60702288%2C%20-46.76258787%5D%2C%20%5B-23.60702288%2C%20-46.76258787%5D%2C%20%5B-23.60702288%2C%20-46.76258787%5D%2C%20%5B-23.56310527%2C%20-46.65461972%5D%2C%20%5B-23.4889709%2C%20-46.70509249%5D%2C%20%5B-23.71286115%2C%20-46.78186771%5D%2C%20%5B-23.71286115%2C%20-46.78186771%5D%2C%20%5B-23.63323469%2C%20-46.57061773%5D%2C%20%5B-23.66215847%2C%20-46.44733749%5D%2C%20%5B-23.66215847%2C%20-46.44733749%5D%2C%20%5B-23.52925197%2C%20-46.56041576%5D%2C%20%5B-23.75410495%2C%20-46.78919713%5D%2C%20%5B-23.52095371%2C%20-46.6253548%5D%2C%20%5B-23.51126117%2C%20-46.54792384%5D%2C%20%5B-23.62411912%2C%20-46.46185832%5D%2C%20%5B-23.61928962%2C%20-46.63944369%5D%2C%20%5B-23.47351436%2C%20-46.35128274%5D%2C%20%5B-23.57429127%2C%20-46.50614774%5D%2C%20%5B-23.54398268%2C%20-46.4219843%5D%2C%20%5B-23.53726254%2C%20-46.40976365%5D%2C%20%5B-23.68040642%2C%20-46.46470253%5D%2C%20%5B-23.53143646%2C%20-46.66471937%5D%2C%20%5B-23.73843403%2C%20-46.68823745%5D%2C%20%5B-23.56931388%2C%20-46.54283405%5D%2C%20%5B-23.4721941%2C%20-46.72491361%5D%2C%20%5B-23.47106754%2C%20-46.72230425%5D%2C%20%5B-23.51498256%2C%20-46.41466945%5D%2C%20%5B-23.62411912%2C%20-46.46185832%5D%2C%20%5B-23.6902632%2C%20-46.59047564%5D%2C%20%5B-23.69351239%2C%20-46.44127655%5D%2C%20%5B-23.69351239%2C%20-46.44127655%5D%2C%20%5B-23.55850851%2C%20-46.61519738%5D%2C%20%5B-23.6986242%2C%20-46.67294957%5D%2C%20%5B-23.6586244%2C%20-46.63592568%5D%2C%20%5B-23.6586244%2C%20-46.63592568%5D%2C%20%5B-23.62961453%2C%20-46.77499419%5D%2C%20%5B-23.51433309%2C%20-46.47671103%5D%2C%20%5B-23.71286115%2C%20-46.78186771%5D%2C%20%5B-23.5387812%2C%20-46.36874141%5D%2C%20%5B-23.5387812%2C%20-46.36874141%5D%2C%20%5B-23.51839181%2C%20-46.58332152%5D%2C%20%5B-23.5663624%2C%20-46.76366186%5D%2C%20%5B-23.4831249%2C%20-46.63178508%5D%2C%20%5B-23.47253663%2C%20-46.69140577%5D%2C%20%5B-23.5902802%2C%20-46.58811804%5D%2C%20%5B-23.5902802%2C%20-46.58811804%5D%2C%20%5B-23.66943313%2C%20-46.4239897%5D%2C%20%5B-23.71286115%2C%20-46.78186771%5D%2C%20%5B-23.61153922%2C%20-46.45355348%5D%2C%20%5B-23.68260134%2C%20-46.68187555%5D%2C%20%5B-23.71286115%2C%20-46.78186771%5D%2C%20%5B-23.54146708%2C%20-46.64668081%5D%2C%20%5B-23.58476494%2C%20-46.63393165%5D%2C%20%5B-23.63679618%2C%20-46.64485892%5D%2C%20%5B-23.63679618%2C%20-46.64485892%5D%2C%20%5B-23.63382765%2C%20-46.77276505%5D%2C%20%5B-23.63382765%2C%20-46.77276505%5D%2C%20%5B-23.5489884%2C%20-46.58161783%5D%2C%20%5B-23.54334368%2C%20-46.72580796%5D%2C%20%5B-23.49255302%2C%20-46.69638906%5D%2C%20%5B-23.49239439%2C%20-46.41551057%5D%2C%20%5B-23.48876939%2C%20-46.47816672%5D%2C%20%5B-23.48876939%2C%20-46.47816672%5D%2C%20%5B-23.45054393%2C%20-46.78939432%5D%2C%20%5B-23.45054393%2C%20-46.78939432%5D%2C%20%5B-23.72531155%2C%20-46.71687071%5D%2C%20%5B-23.5663624%2C%20-46.76366186%5D%2C%20%5B-23.5663624%2C%20-46.76366186%5D%2C%20%5B-23.5884851%2C%20-46.58911023%5D%2C%20%5B-23.5884851%2C%20-46.58911023%5D%2C%20%5B-23.54613312%2C%20-46.64115956%5D%2C%20%5B-23.63393087%2C%20-46.77866621%5D%2C%20%5B-23.65887123%2C%20-46.69832154%5D%2C%20%5B-23.6149935%2C%20-46.69358935%5D%2C%20%5B-23.4889709%2C%20-46.70509249%5D%2C%20%5B-23.49751039%2C%20-46.57680791%5D%2C%20%5B-23.49785652%2C%20-46.6848309%5D%2C%20%5B-23.54470018%2C%20-46.41660618%5D%2C%20%5B-23.54470018%2C%20-46.41660618%5D%2C%20%5B-23.67368502%2C%20-46.49422339%5D%2C%20%5B-23.47472793%2C%20-46.12480099%5D%2C%20%5B-23.65078044%2C%20-46.5401321%5D%2C%20%5B-23.67071772%2C%20-46.59118456%5D%2C%20%5B-23.64867329%2C%20-46.60602016%5D%2C%20%5B-23.42810822%2C%20-46.52767869%5D%2C%20%5B-23.53456268%2C%20-46.31268809%5D%2C%20%5B-23.53622277%2C%20-46.28631586%5D%2C%20%5B-23.53622277%2C%20-46.28631586%5D%2C%20%5B-23.49463781%2C%20-46.83014564%5D%2C%20%5B-23.68231519%2C%20-46.52957569%5D%2C%20%5B-23.60426404%2C%20-46.57079204%5D%2C%20%5B-23.55813896%2C%20-46.83197856%5D%2C%20%5B-23.44388295%2C%20-46.32454043%5D%2C%20%5B-23.50104983%2C%20-46.8190299%5D%2C%20%5B-23.64702014%2C%20-46.66294994%5D%2C%20%5B-23.71286115%2C%20-46.78186771%5D%2C%20%5B-23.71286115%2C%20-46.78186771%5D%2C%20%5B-23.53910452%2C%20-46.63513968%5D%2C%20%5B-23.56785649%2C%20-46.62183178%5D%2C%20%5B-23.59237419%2C%20-46.5975817%5D%2C%20%5B-23.64083036%2C%20-46.66425211%5D%2C%20%5B-23.5126749%2C%20-46.41974494%5D%2C%20%5B-23.5126749%2C%20-46.41974494%5D%2C%20%5B-23.69351239%2C%20-46.44127655%5D%2C%20%5B-23.69351239%2C%20-46.44127655%5D%2C%20%5B-23.69351239%2C%20-46.44127655%5D%2C%20%5B-23.53513505%2C%20-46.63349116%5D%2C%20%5B-23.51839181%2C%20-46.58332152%5D%2C%20%5B-23.5663624%2C%20-46.76366186%5D%2C%20%5B-23.63679618%2C%20-46.64485892%5D%2C%20%5B-23.71543202%2C%20-46.69915569%5D%2C%20%5B-23.5489884%2C%20-46.58161783%5D%2C%20%5B-23.5489884%2C%20-46.58161783%5D%2C%20%5B-23.75725424%2C%20-46.70539916%5D%2C%20%5B-23.67368502%2C%20-46.49422339%5D%2C%20%5B-23.67368502%2C%20-46.49422339%5D%2C%20%5B-23.5884851%2C%20-46.58911023%5D%2C%20%5B-23.64867329%2C%20-46.60602016%5D%2C%20%5B-23.56443589%2C%20-46.61137565%5D%2C%20%5B-23.71286115%2C%20-46.78186771%5D%2C%20%5B-23.71286115%2C%20-46.78186771%5D%2C%20%5B-23.63375661%2C%20-46.7417866%5D%2C%20%5B-23.6788841%2C%20-46.53427693%5D%2C%20%5B-23.65283442%2C%20-46.70613563%5D%2C%20%5B-23.65283442%2C%20-46.70613563%5D%2C%20%5B-23.47472793%2C%20-46.12480099%5D%2C%20%5B-23.50212596%2C%20-46.62105833%5D%2C%20%5B-23.65233516%2C%20-46.70411386%5D%2C%20%5B-23.59237419%2C%20-46.5975817%5D%2C%20%5B-23.59237419%2C%20-46.5975817%5D%2C%20%5B-23.71286115%2C%20-46.78186771%5D%2C%20%5B-23.71286115%2C%20-46.78186771%5D%2C%20%5B-23.66610183%2C%20-46.55943713%5D%2C%20%5B-23.60702288%2C%20-46.76258787%5D%2C%20%5B-23.60702288%2C%20-46.76258787%5D%2C%20%5B-23.58222516%2C%20-46.73835298%5D%2C%20%5B-23.71286115%2C%20-46.78186771%5D%2C%20%5B-23.73329173%2C%20-46.69824186%5D%2C%20%5B-23.52157644%2C%20-46.53508928%5D%2C%20%5B-23.49830189%2C%20-46.31989533%5D%2C%20%5B-23.63194561%2C%20-46.33223426%5D%2C%20%5B-23.62007335%2C%20-46.78123039%5D%2C%20%5B-23.60672572%2C%20-46.50753639%5D%2C%20%5B-23.57429127%2C%20-46.50614774%5D%2C%20%5B-23.53726254%2C%20-46.40976365%5D%2C%20%5B-23.61047201%2C%20-46.70837245%5D%2C%20%5B-23.61047201%2C%20-46.70837245%5D%2C%20%5B-23.66781094%2C%20-46.49432201%5D%2C%20%5B-23.63239338%2C%20-46.49075243%5D%2C%20%5B-23.71286115%2C%20-46.78186771%5D%2C%20%5B-23.71286115%2C%20-46.78186771%5D%2C%20%5B-23.71286115%2C%20-46.78186771%5D%2C%20%5B-23.71286115%2C%20-46.78186771%5D%2C%20%5B-23.71286115%2C%20-46.78186771%5D%2C%20%5B-23.62209716%2C%20-46.64005163%5D%2C%20%5B-23.57295009%2C%20-46.49838099%5D%2C%20%5B-23.57295009%2C%20-46.49838099%5D%2C%20%5B-23.65283442%2C%20-46.70613563%5D%2C%20%5B-23.63194561%2C%20-46.33223426%5D%2C%20%5B-23.63194561%2C%20-46.33223426%5D%2C%20%5B-23.71286115%2C%20-46.78186771%5D%2C%20%5B-23.66673232%2C%20-46.30815417%5D%2C%20%5B-23.55950159%2C%20-46.63499%5D%2C%20%5B-23.54246615%2C%20-46.63805551%5D%2C%20%5B-23.71286115%2C%20-46.78186771%5D%2C%20%5B-23.53456268%2C%20-46.31268809%5D%2C%20%5B-23.64722769%2C%20-46.33605638%5D%2C%20%5B-23.64722769%2C%20-46.33605638%5D%2C%20%5B-23.50104983%2C%20-46.8190299%5D%2C%20%5B-23.50104983%2C%20-46.8190299%5D%2C%20%5B-23.71286115%2C%20-46.78186771%5D%2C%20%5B-23.71286115%2C%20-46.78186771%5D%2C%20%5B-23.57295009%2C%20-46.49838099%5D%2C%20%5B-23.42760033%2C%20-46.40812133%5D%2C%20%5B-23.4477794%2C%20-46.51944957%5D%2C%20%5B-23.54246615%2C%20-46.63805551%5D%2C%20%5B-23.55030593%2C%20-46.65460824%5D%2C%20%5B-23.53843461%2C%20-46.60267274%5D%2C%20%5B-23.65349125%2C%20-46.67008033%5D%2C%20%5B-23.53610737%2C%20-46.45366175%5D%2C%20%5B-23.73239547%2C%20-46.79000615%5D%2C%20%5B-23.73239547%2C%20-46.79000615%5D%2C%20%5B-23.67261%2C%20-46.67592643%5D%2C%20%5B-23.55449224%2C%20-46.53281454%5D%2C%20%5B-23.55449224%2C%20-46.53281454%5D%2C%20%5B-23.60167297%2C%20-46.47402165%5D%2C%20%5B-23.55741026%2C%20-46.6575815%5D%2C%20%5B-23.50344051%2C%20-46.42409957%5D%2C%20%5B-23.54332616%2C%20-46.41145657%5D%2C%20%5B-23.70408463%2C%20-46.51830928%5D%2C%20%5B-23.70408463%2C%20-46.51830928%5D%2C%20%5B-23.71286115%2C%20-46.78186771%5D%2C%20%5B-23.66610183%2C%20-46.55943713%5D%2C%20%5B-23.66610183%2C%20-46.55943713%5D%2C%20%5B-23.60702288%2C%20-46.76258787%5D%2C%20%5B-23.72531155%2C%20-46.71687071%5D%2C%20%5B-23.68231519%2C%20-46.52957569%5D%2C%20%5B-23.68231519%2C%20-46.52957569%5D%2C%20%5B-23.4477794%2C%20-46.51944957%5D%2C%20%5B-23.4477794%2C%20-46.51944957%5D%2C%20%5B-23.50517099%2C%20-46.36733456%5D%2C%20%5B-23.73316415%2C%20-46.5402064%5D%2C%20%5B-23.55001423%2C%20-46.62957507%5D%2C%20%5B-23.56990786%2C%20-46.56638962%5D%2C%20%5B-23.55777831%2C%20-46.549918%5D%2C%20%5B-23.49926499%2C%20-46.42592866%5D%2C%20%5B-23.60672572%2C%20-46.50753639%5D%2C%20%5B-23.70518907%2C%20-46.68974824%5D%2C%20%5B-23.65760046%2C%20-46.61717673%5D%2C%20%5B-23.65760046%2C%20-46.61717673%5D%2C%20%5B-23.68165451%2C%20-46.76754693%5D%2C%20%5B-23.38065092%2C%20-46.97225233%5D%2C%20%5B-23.58346153%2C%20-46.78977071%5D%2C%20%5B-23.58346153%2C%20-46.78977071%5D%2C%20%5B-23.67609908%2C%20-46.50115736%5D%2C%20%5B-23.67609908%2C%20-46.50115736%5D%2C%20%5B-23.46406665%2C%20-46.48821682%5D%2C%20%5B-23.71286115%2C%20-46.78186771%5D%2C%20%5B-23.54561116%2C%20-46.63735036%5D%2C%20%5B-23.52138771%2C%20-46.19598149%5D%2C%20%5B-23.52138771%2C%20-46.19598149%5D%2C%20%5B-23.52138771%2C%20-46.19598149%5D%2C%20%5B-23.52138771%2C%20-46.19598149%5D%2C%20%5B-23.52138771%2C%20-46.19598149%5D%2C%20%5B-23.52138771%2C%20-46.19598149%5D%2C%20%5B-23.49700832%2C%20-46.59173413%5D%2C%20%5B-23.68081687%2C%20-46.49835926%5D%2C%20%5B-23.55094464%2C%20-46.36027219%5D%2C%20%5B-23.6032866%2C%20-46.91843788%5D%2C%20%5B-23.6032866%2C%20-46.91843788%5D%2C%20%5B-23.65665936%2C%20-46.80150576%5D%2C%20%5B-23.51719131%2C%20-46.17881166%5D%2C%20%5B-23.56032922%2C%20-46.5842665%5D%2C%20%5B-23.69707806%2C%20-46.6698284%5D%2C%20%5B-23.65199819%2C%20-46.49057282%5D%2C%20%5B-23.63239338%2C%20-46.49075243%5D%2C%20%5B-23.57429127%2C%20-46.50614774%5D%2C%20%5B-23.57429127%2C%20-46.50614774%5D%2C%20%5B-23.4921198%2C%20-46.32372647%5D%2C%20%5B-23.5169184%2C%20-46.7258575%5D%2C%20%5B-23.51719131%2C%20-46.17881166%5D%2C%20%5B-23.51719131%2C%20-46.17881166%5D%2C%20%5B-23.49492291%2C%20-46.61595566%5D%2C%20%5B-23.62016617%2C%20-46.66204566%5D%2C%20%5B-23.62016617%2C%20-46.66204566%5D%2C%20%5B-23.6457794%2C%20-46.53748947%5D%2C%20%5B-23.49241929%2C%20-46.49965775%5D%2C%20%5B-23.48375926%2C%20-46.49521552%5D%2C%20%5B-23.61209395%2C%20-46.72199981%5D%2C%20%5B-23.63239338%2C%20-46.49075243%5D%2C%20%5B-23.69177851%2C%20-46.44859699%5D%2C%20%5B-23.72590581%2C%20-46.57476379%5D%2C%20%5B-23.64352587%2C%20-46.33966668%5D%2C%20%5B-23.53490756%2C%20-46.8164808%5D%2C%20%5B-23.45407318%2C%20-46.71198669%5D%2C%20%5B-23.52704882%2C%20-46.64811887%5D%2C%20%5B-23.57575255%2C%20-46.71254411%5D%2C%20%5B-23.57575255%2C%20-46.71254411%5D%2C%20%5B-23.56775279%2C%20-46.74680352%5D%2C%20%5B-23.67227666%2C%20-46.64514918%5D%2C%20%5B-23.5304422%2C%20-46.50592021%5D%2C%20%5B-23.57160487%2C%20-46.53190553%5D%2C%20%5B-23.53055723%2C%20-46.50714127%5D%2C%20%5B-23.63413099%2C%20-46.47140618%5D%2C%20%5B-23.5489884%2C%20-46.58161783%5D%2C%20%5B-23.69682006%2C%20-46.67468058%5D%2C%20%5B-23.43415569%2C%20-46.71975694%5D%2C%20%5B-23.54766905%2C%20-46.64537367%5D%2C%20%5B-23.54766905%2C%20-46.64537367%5D%2C%20%5B-23.60672572%2C%20-46.50753639%5D%2C%20%5B-23.57138972%2C%20-46.64431182%5D%2C%20%5B-23.75725424%2C%20-46.70539916%5D%2C%20%5B-23.63335526%2C%20-46.6465901%5D%2C%20%5B-23.70518907%2C%20-46.68974824%5D%2C%20%5B-23.71286115%2C%20-46.78186771%5D%2C%20%5B-23.58479675%2C%20-46.29779454%5D%2C%20%5B-23.53610737%2C%20-46.45366175%5D%2C%20%5B-23.34618109%2C%20-46.26544043%5D%2C%20%5B-23.34618109%2C%20-46.26544043%5D%2C%20%5B-23.45663011%2C%20-46.34969758%5D%2C%20%5B-23.55096163%2C%20-46.78525221%5D%2C%20%5B-23.55096163%2C%20-46.78525221%5D%2C%20%5B-23.59138383%2C%20-46.29259024%5D%2C%20%5B-23.71286115%2C%20-46.78186771%5D%2C%20%5B-23.71286115%2C%20-46.78186771%5D%2C%20%5B-23.48678046%2C%20-46.4240922%5D%2C%20%5B-23.48707059%2C%20-46.38266025%5D%2C%20%5B-23.53790978%2C%20-46.73272795%5D%2C%20%5B-23.53790978%2C%20-46.73272795%5D%2C%20%5B-23.53790978%2C%20-46.73272795%5D%2C%20%5B-23.49508836%2C%20-46.69768381%5D%2C%20%5B-23.52377195%2C%20-46.55785299%5D%2C%20%5B-23.52065484%2C%20-46.70566478%5D%2C%20%5B-23.46406665%2C%20-46.48821682%5D%2C%20%5B-23.71286115%2C%20-46.78186771%5D%2C%20%5B-23.68231519%2C%20-46.52957569%5D%2C%20%5B-23.70231382%2C%20-46.54355775%5D%2C%20%5B-23.60426404%2C%20-46.57079204%5D%2C%20%5B-23.68935982%2C%20-46.59551299%5D%2C%20%5B-23.63946184%2C%20-46.57008187%5D%2C%20%5B-23.49273776%2C%20-46.3885659%5D%2C%20%5B-23.55094464%2C%20-46.36027219%5D%2C%20%5B-23.53867801%2C%20-46.64961195%5D%2C%20%5B-23.68126972%2C%20-46.67223617%5D%2C%20%5B-23.76439023%2C%20-46.70730425%5D%2C%20%5B-23.63946184%2C%20-46.57008187%5D%2C%20%5B-23.71286115%2C%20-46.78186771%5D%2C%20%5B-23.71286115%2C%20-46.78186771%5D%2C%20%5B-23.55260331%2C%20-46.63784448%5D%2C%20%5B-23.49241929%2C%20-46.49965775%5D%2C%20%5B-23.57022088%2C%20-46.54063395%5D%2C%20%5B-23.57022088%2C%20-46.54063395%5D%2C%20%5B-23.70584855%2C%20-46.6873546%5D%2C%20%5B-23.53162926%2C%20-46.47036145%5D%2C%20%5B-23.53162926%2C%20-46.47036145%5D%2C%20%5B-23.53162926%2C%20-46.47036145%5D%2C%20%5B-23.72076749%2C%20-46.62030034%5D%2C%20%5B-23.71286115%2C%20-46.78186771%5D%2C%20%5B-23.64468709%2C%20-46.70043209%5D%2C%20%5B-23.71286115%2C%20-46.78186771%5D%2C%20%5B-23.5079591%2C%20-46.70690021%5D%2C%20%5B-23.54938522%2C%20-46.63325723%5D%2C%20%5B-23.54756975%2C%20-46.42501183%5D%2C%20%5B-23.63400173%2C%20-46.69433131%5D%2C%20%5B-23.50775283%2C%20-46.76453596%5D%2C%20%5B-23.53405765%2C%20-46.78330929%5D%2C%20%5B-23.69090179%2C%20-46.55842947%5D%2C%20%5B-23.71286115%2C%20-46.78186771%5D%2C%20%5B-23.53355596%2C%20-46.64333469%5D%2C%20%5B-23.70021873%2C%20-46.55236611%5D%2C%20%5B-23.44636883%2C%20-46.43861696%5D%2C%20%5B-23.48455257%2C%20-46.37686992%5D%2C%20%5B-23.52802354%2C%20-46.77665093%5D%2C%20%5B-23.52802354%2C%20-46.77665093%5D%2C%20%5B-23.6032866%2C%20-46.91843788%5D%2C%20%5B-23.49492291%2C%20-46.61595566%5D%2C%20%5B-23.49492291%2C%20-46.61595566%5D%2C%20%5B-23.64836819%2C%20-46.64346799%5D%2C%20%5B-23.64836819%2C%20-46.64346799%5D%2C%20%5B-23.56775279%2C%20-46.74680352%5D%2C%20%5B-23.5304422%2C%20-46.50592021%5D%2C%20%5B-23.71286115%2C%20-46.78186771%5D%2C%20%5B-23.58354011%2C%20-46.54798029%5D%2C%20%5B-23.69582521%2C%20-46.64907124%5D%2C%20%5B-23.69582521%2C%20-46.64907124%5D%2C%20%5B-23.53048684%2C%20-46.90337773%5D%2C%20%5B-23.50489295%2C%20-46.83244946%5D%2C%20%5B-23.66115685%2C%20-46.80585606%5D%2C%20%5B-23.53355596%2C%20-46.64333469%5D%2C%20%5B-23.61229235%2C%20-46.69546335%5D%2C%20%5B-23.66218831%2C%20-46.31160633%5D%2C%20%5B-23.54061842%2C%20-46.88220284%5D%2C%20%5B-23.76290045%2C%20-46.65455677%5D%2C%20%5B-23.60806711%2C%20-46.76020039%5D%2C%20%5B-23.71286115%2C%20-46.78186771%5D%2C%20%5B-23.53647197%2C%20-46.42918845%5D%2C%20%5B-23.53647197%2C%20-46.42918845%5D%2C%20%5B-23.53647197%2C%20-46.42918845%5D%2C%20%5B-23.53647197%2C%20-46.42918845%5D%2C%20%5B-23.53143646%2C%20-46.66471937%5D%2C%20%5B-23.64944445%2C%20-46.65926129%5D%2C%20%5B-23.4721941%2C%20-46.72491361%5D%2C%20%5B-23.71286115%2C%20-46.78186771%5D%2C%20%5B-23.71286115%2C%20-46.78186771%5D%2C%20%5B-23.71286115%2C%20-46.78186771%5D%2C%20%5B-23.71286115%2C%20-46.78186771%5D%2C%20%5B-23.71286115%2C%20-46.78186771%5D%2C%20%5B-23.71286115%2C%20-46.78186771%5D%2C%20%5B-23.5454652%2C%20-46.63483231%5D%2C%20%5B-23.53857215%2C%20-46.60366247%5D%2C%20%5B-23.53857215%2C%20-46.60366247%5D%2C%20%5B-23.66891165%2C%20-46.65018741%5D%2C%20%5B-23.5304422%2C%20-46.50592021%5D%2C%20%5B-23.57160487%2C%20-46.53190553%5D%2C%20%5B-23.68810301%2C%20-46.61187657%5D%2C%20%5B-23.4716542%2C%20-46.44073391%5D%2C%20%5B-23.67654098%2C%20-46.6313391%5D%2C%20%5B-23.67654098%2C%20-46.6313391%5D%2C%20%5B-23.69177851%2C%20-46.44859699%5D%2C%20%5B-23.72590581%2C%20-46.57476379%5D%2C%20%5B-23.71286115%2C%20-46.78186771%5D%2C%20%5B-23.48736623%2C%20-46.57885546%5D%2C%20%5B-23.51126117%2C%20-46.54792384%5D%2C%20%5B-23.51126117%2C%20-46.54792384%5D%2C%20%5B-23.53622277%2C%20-46.28631586%5D%2C%20%5B-23.49463781%2C%20-46.83014564%5D%2C%20%5B-23.71632912%2C%20-46.69328336%5D%2C%20%5B-23.54804222%2C%20-46.63378325%5D%2C%20%5B-23.54804222%2C%20-46.63378325%5D%2C%20%5B-23.71286115%2C%20-46.78186771%5D%2C%20%5B-23.63323469%2C%20-46.57061773%5D%2C%20%5B-23.60449839%2C%20-46.56981437%5D%2C%20%5B-23.66215847%2C%20-46.44733749%5D%2C%20%5B-23.45179794%2C%20-46.47846814%5D%2C%20%5B-23.53726855%2C%20-46.36647362%5D%2C%20%5B-23.5079591%2C%20-46.70690021%5D%2C%20%5B-23.63400173%2C%20-46.69433131%5D%2C%20%5B-23.49899737%2C%20-46.43235429%5D%2C%20%5B-23.4856887%2C%20-46.72490738%5D%2C%20%5B-23.52838555%2C%20-46.77547389%5D%2C%20%5B-23.64352587%2C%20-46.33966668%5D%2C%20%5B-23.33290676%2C%20-46.70981627%5D%2C%20%5B-23.645769%2C%20-46.69800553%5D%2C%20%5B-23.43433129%2C%20-46.72860066%5D%2C%20%5B-23.43433129%2C%20-46.72860066%5D%2C%20%5B-23.68795196%2C%20-46.76787178%5D%2C%20%5B-23.49867612%2C%20-46.70703558%5D%2C%20%5B-23.5387812%2C%20-46.36874141%5D%2C%20%5B-23.5663624%2C%20-46.76366186%5D%2C%20%5B-23.59049079%2C%20-46.75375804%5D%2C%20%5B-23.59049079%2C%20-46.75375804%5D%2C%20%5B-23.61327924%2C%20-46.49179163%5D%2C%20%5B-23.52377195%2C%20-46.55785299%5D%2C%20%5B-23.71286115%2C%20-46.78186771%5D%2C%20%5B-23.71286115%2C%20-46.78186771%5D%2C%20%5B-23.45829224%2C%20-46.70040409%5D%2C%20%5B-23.45829224%2C%20-46.70040409%5D%2C%20%5B-23.52523186%2C%20-46.59371029%5D%2C%20%5B-23.5884851%2C%20-46.58911023%5D%2C%20%5B-23.70472738%2C%20-46.62390765%5D%2C%20%5B-23.70472738%2C%20-46.62390765%5D%2C%20%5B-23.56956722%2C%20-46.53369726%5D%2C%20%5B-23.49769963%2C%20-46.40077123%5D%2C%20%5B-23.68450221%2C%20-46.6080117%5D%2C%20%5B-23.49748607%2C%20-46.7229676%5D%2C%20%5B-23.49748607%2C%20-46.7229676%5D%2C%20%5B-23.49255302%2C%20-46.69638906%5D%2C%20%5B-23.55507612%2C%20-46.30705084%5D%2C%20%5B-23.55507612%2C%20-46.30705084%5D%2C%20%5B-23.68542608%2C%20-46.60044904%5D%2C%20%5B-23.50104983%2C%20-46.8190299%5D%2C%20%5B-23.50104983%2C%20-46.8190299%5D%2C%20%5B-23.64702014%2C%20-46.66294994%5D%2C%20%5B-23.71286115%2C%20-46.78186771%5D%2C%20%5B-23.71286115%2C%20-46.78186771%5D%2C%20%5B-23.3441328%2C%20-46.82911501%5D%2C%20%5B-23.54246615%2C%20-46.63805551%5D%2C%20%5B-23.55030593%2C%20-46.65460824%5D%2C%20%5B-23.71286115%2C%20-46.78186771%5D%2C%20%5B-23.71286115%2C%20-46.78186771%5D%2C%20%5B-23.68126972%2C%20-46.67223617%5D%2C%20%5B-23.68126972%2C%20-46.67223617%5D%2C%20%5B-23.57888558%2C%20-46.52211217%5D%2C%20%5B-23.57888558%2C%20-46.52211217%5D%2C%20%5B-23.50421976%2C%20-46.37951327%5D%2C%20%5B-23.53843461%2C%20-46.60267274%5D%2C%20%5B-23.53610737%2C%20-46.45366175%5D%2C%20%5B-23.49168562%2C%20-46.57453145%5D%2C%20%5B-23.49168562%2C%20-46.57453145%5D%2C%20%5B-23.49168562%2C%20-46.57453145%5D%2C%20%5B-23.49168562%2C%20-46.57453145%5D%2C%20%5B-23.62072453%2C%20-46.67995258%5D%2C%20%5B-23.50410627%2C%20-46.67271599%5D%2C%20%5B-23.54340093%2C%20-46.44364475%5D%2C%20%5B-23.67609908%2C%20-46.50115736%5D%2C%20%5B-23.5454652%2C%20-46.63483231%5D%2C%20%5B-23.5454652%2C%20-46.63483231%5D%2C%20%5B-23.53857215%2C%20-46.60366247%5D%2C%20%5B-23.71632912%2C%20-46.69328336%5D%2C%20%5B-23.71632912%2C%20-46.69328336%5D%2C%20%5B-23.55540623%2C%20-46.75107831%5D%2C%20%5B-23.60944655%2C%20-46.59640765%5D%2C%20%5B-23.71286115%2C%20-46.78186771%5D%2C%20%5B-23.71286115%2C%20-46.78186771%5D%2C%20%5B-23.71286115%2C%20-46.78186771%5D%2C%20%5B-23.71286115%2C%20-46.78186771%5D%2C%20%5B-23.71286115%2C%20-46.78186771%5D%2C%20%5B-23.53079023%2C%20-46.90237099%5D%2C%20%5B-23.70270167%2C%20-46.51423105%5D%2C%20%5B-23.52133723%2C%20-46.8358467%5D%2C%20%5B-23.54158349%2C%20-46.88179696%5D%2C%20%5B-23.54158349%2C%20-46.88179696%5D%2C%20%5B-23.55592269%2C%20-46.39173588%5D%2C%20%5B-23.62388971%2C%20-46.4754344%5D%2C%20%5B-23.6219631%2C%20-46.64002243%5D%2C%20%5B-23.57629334%2C%20-46.58727549%5D%2C%20%5B-23.57629334%2C%20-46.58727549%5D%2C%20%5B-23.43811035%2C%20-46.51862858%5D%2C%20%5B-23.71286115%2C%20-46.78186771%5D%2C%20%5B-23.50711552%2C%20-46.28485806%5D%2C%20%5B-23.71286115%2C%20-46.78186771%5D%2C%20%5B-23.54934861%2C%20-46.78156133%5D%2C%20%5B-23.52157608%2C%20-46.89252138%5D%2C%20%5B-23.66610183%2C%20-46.55943713%5D%2C%20%5B-23.47963298%2C%20-46.58481595%5D%2C%20%5B-23.4921198%2C%20-46.32372647%5D%2C%20%5B-23.4921198%2C%20-46.32372647%5D%2C%20%5B-23.52930055%2C%20-46.7732408%5D%2C%20%5B-23.5090129%2C%20-46.19683354%5D%2C%20%5B-23.48375926%2C%20-46.49521552%5D%2C%20%5B-23.55351806%2C%20-46.62789884%5D%2C%20%5B-23.70584855%2C%20-46.6873546%5D%2C%20%5B-23.71286115%2C%20-46.78186771%5D%2C%20%5B-23.71286115%2C%20-46.78186771%5D%2C%20%5B-23.71286115%2C%20-46.78186771%5D%2C%20%5B-23.71286115%2C%20-46.78186771%5D%2C%20%5B-23.65690575%2C%20-46.45312602%5D%2C%20%5B-23.54754397%2C%20-46.73657108%5D%2C%20%5B-23.45407318%2C%20-46.71198669%5D%2C%20%5B-23.54911858%2C%20-46.50351019%5D%2C%20%5B-23.49226474%2C%20-46.42889471%5D%2C%20%5B-23.55697761%2C%20-46.62747386%5D%2C%20%5B-23.66872542%2C%20-46.73339923%5D%2C%20%5B-23.48761174%2C%20-46.72108823%5D%2C%20%5B-23.70021873%2C%20-46.55236611%5D%2C%20%5B-23.44636883%2C%20-46.43861696%5D%2C%20%5B-23.45663011%2C%20-46.34969758%5D%2C%20%5B-23.45663011%2C%20-46.34969758%5D%2C%20%5B-23.71286115%2C%20-46.78186771%5D%2C%20%5B-23.71286115%2C%20-46.78186771%5D%2C%20%5B-23.60078432%2C%20-46.57701582%5D%2C%20%5B-23.33290676%2C%20-46.70981627%5D%2C%20%5B-23.56815658%2C%20-46.56767339%5D%2C%20%5B-23.54138412%2C%20-46.5365355%5D%2C%20%5B-23.43433129%2C%20-46.72860066%5D%2C%20%5B-23.43433129%2C%20-46.72860066%5D%2C%20%5B-23.59282471%2C%20-46.80662548%5D%2C%20%5B-23.60672572%2C%20-46.50753639%5D%2C%20%5B-23.68795196%2C%20-46.76787178%5D%2C%20%5B-23.68935982%2C%20-46.59551299%5D%2C%20%5B-23.68935982%2C%20-46.59551299%5D%2C%20%5B-23.63346916%2C%20-46.76735151%5D%2C%20%5B-23.63346916%2C%20-46.76735151%5D%2C%20%5B-23.66705356%2C%20-46.65707865%5D%2C%20%5B-23.53570552%2C%20-46.57347535%5D%2C%20%5B-23.53570552%2C%20-46.57347535%5D%2C%20%5B-23.59282471%2C%20-46.80662548%5D%2C%20%5B-23.66500767%2C%20-46.6962731%5D%2C%20%5B-23.45226083%2C%20-46.60480785%5D%2C%20%5B-23.47351436%2C%20-46.35128274%5D%2C%20%5B-23.48699086%2C%20-46.69286584%5D%2C%20%5B-23.71286115%2C%20-46.78186771%5D%2C%20%5B-23.48124839%2C%20-46.41149355%5D%2C%20%5B-23.54778434%2C%20-46.89960761%5D%2C%20%5B-23.66986672%2C%20-47.01969983%5D%2C%20%5B-23.55852049%2C%20-46.76681195%5D%2C%20%5B-23.54061842%2C%20-46.88220284%5D%2C%20%5B-23.53647197%2C%20-46.42918845%5D%2C%20%5B-23.48124839%2C%20-46.41149355%5D%2C%20%5B-23.53891101%2C%20-46.64071851%5D%2C%20%5B-23.53891101%2C%20-46.64071851%5D%2C%20%5B-23.65429538%2C%20-46.77422567%5D%2C%20%5B-23.71286115%2C%20-46.78186771%5D%2C%20%5B-23.6902632%2C%20-46.59047564%5D%2C%20%5B-23.71286115%2C%20-46.78186771%5D%2C%20%5B-23.60197146%2C%20-46.53576678%5D%2C%20%5B-23.60197146%2C%20-46.53576678%5D%2C%20%5B-23.5902802%2C%20-46.58811804%5D%2C%20%5B-23.5902802%2C%20-46.58811804%5D%2C%20%5B-23.71286115%2C%20-46.78186771%5D%2C%20%5B-23.71286115%2C%20-46.78186771%5D%2C%20%5B-23.71286115%2C%20-46.78186771%5D%2C%20%5B-23.60944655%2C%20-46.59640765%5D%2C%20%5B-23.51498256%2C%20-46.41466945%5D%2C%20%5B-23.51498256%2C%20-46.41466945%5D%2C%20%5B-23.56945905%2C%20-46.54161606%5D%2C%20%5B-23.56945905%2C%20-46.54161606%5D%2C%20%5B-23.5079591%2C%20-46.70690021%5D%2C%20%5B-23.49683952%2C%20-46.72497164%5D%2C%20%5B-23.51343006%2C%20-46.41792881%5D%2C%20%5B-23.49899737%2C%20-46.43235429%5D%2C%20%5B-23.58354011%2C%20-46.54798029%5D%2C%20%5B-23.67654098%2C%20-46.6313391%5D%2C%20%5B-23.66781094%2C%20-46.49432201%5D%2C%20%5B-23.4856887%2C%20-46.72490738%5D%2C%20%5B-23.53048684%2C%20-46.90337773%5D%2C%20%5B-23.66115685%2C%20-46.80585606%5D%2C%20%5B-23.71286115%2C%20-46.78186771%5D%2C%20%5B-23.71286115%2C%20-46.78186771%5D%2C%20%5B-23.53490756%2C%20-46.8164808%5D%2C%20%5B-23.54246615%2C%20-46.63805551%5D%2C%20%5B-23.47103556%2C%20-46.72128418%5D%2C%20%5B-23.47103556%2C%20-46.72128418%5D%2C%20%5B-23.55275822%2C%20-46.6476569%5D%2C%20%5B-23.57810978%2C%20-46.58028781%5D%2C%20%5B-23.6148819%2C%20-46.50230325%5D%2C%20%5B-23.71186156%2C%20-46.77474352%5D%2C%20%5B-23.74070595%2C%20-46.6820291%5D%2C%20%5B-23.55277328%2C%20-46.63324628%5D%2C%20%5B-23.55212958%2C%20-46.65278976%5D%2C%20%5B-23.5184773%2C%20-46.78395627%5D%2C%20%5B-23.56361318%2C%20-46.78005829%5D%2C%20%5B-23.71286115%2C%20-46.78186771%5D%2C%20%5B-23.71286115%2C%20-46.78186771%5D%2C%20%5B-23.71286115%2C%20-46.78186771%5D%2C%20%5B-23.68260134%2C%20-46.68187555%5D%2C%20%5B-23.68260134%2C%20-46.68187555%5D%2C%20%5B-23.71286115%2C%20-46.78186771%5D%2C%20%5B-23.71286115%2C%20-46.78186771%5D%2C%20%5B-23.71286115%2C%20-46.78186771%5D%2C%20%5B-23.71286115%2C%20-46.78186771%5D%2C%20%5B-23.71286115%2C%20-46.78186771%5D%2C%20%5B-23.71286115%2C%20-46.78186771%5D%2C%20%5B-23.71286115%2C%20-46.78186771%5D%2C%20%5B-23.69316719%2C%20-46.58657137%5D%2C%20%5B-23.41777863%2C%20-46.57972753%5D%2C%20%5B-23.55386301%2C%20-46.78735556%5D%2C%20%5B-23.55386301%2C%20-46.78735556%5D%2C%20%5B-23.56753898%2C%20-46.5696395%5D%2C%20%5B-23.68260134%2C%20-46.68187555%5D%2C%20%5B-23.54146708%2C%20-46.64668081%5D%2C%20%5B-23.54146708%2C%20-46.64668081%5D%2C%20%5B-23.63382765%2C%20-46.77276505%5D%2C%20%5B-23.63413099%2C%20-46.47140618%5D%2C%20%5B-23.5489884%2C%20-46.58161783%5D%2C%20%5B-23.54334368%2C%20-46.72580796%5D%2C%20%5B-23.4736285%2C%20-46.72053201%5D%2C%20%5B-23.69351239%2C%20-46.44127655%5D%2C%20%5B-23.69351239%2C%20-46.44127655%5D%2C%20%5B-23.69351239%2C%20-46.44127655%5D%2C%20%5B-23.49319101%2C%20-46.49060746%5D%2C%20%5B-23.48790505%2C%20-46.71884644%5D%2C%20%5B-23.48790505%2C%20-46.71884644%5D%2C%20%5B-23.6219631%2C%20-46.64002243%5D%2C%20%5B-23.60932654%2C%20-46.5964787%5D%2C%20%5B-23.55030593%2C%20-46.65460824%5D%2C%20%5B-23.53843461%2C%20-46.60267274%5D%2C%20%5B-23.5736677%2C%20-46.64035564%5D%2C%20%5B-23.53610737%2C%20-46.45366175%5D%2C%20%5B-23.53610737%2C%20-46.45366175%5D%2C%20%5B-23.67261%2C%20-46.67592643%5D%2C%20%5B-23.55449224%2C%20-46.53281454%5D%2C%20%5B-23.55449224%2C%20-46.53281454%5D%2C%20%5B-23.53857215%2C%20-46.60366247%5D%2C%20%5B-23.53857215%2C%20-46.60366247%5D%2C%20%5B-23.53857215%2C%20-46.60366247%5D%2C%20%5B-23.6507123%2C%20-46.66437786%5D%2C%20%5B-23.71632912%2C%20-46.69328336%5D%2C%20%5B-23.63349077%2C%20-46.6926431%5D%2C%20%5B-23.71286115%2C%20-46.78186771%5D%2C%20%5B-23.57132985%2C%20-46.80320525%5D%2C%20%5B-23.71286115%2C%20-46.78186771%5D%2C%20%5B-23.54934861%2C%20-46.78156133%5D%2C%20%5B-23.49226474%2C%20-46.42889471%5D%2C%20%5B-23.40917639%2C%20-46.75244897%5D%2C%20%5B-23.58410999%2C%20-46.40901317%5D%2C%20%5B-23.47336715%2C%20-46.6902981%5D%2C%20%5B-23.53187488%2C%20-46.44679424%5D%2C%20%5B-23.53187488%2C%20-46.44679424%5D%2C%20%5B-23.58814501%2C%20-46.40609079%5D%2C%20%5B-23.58285819%2C%20-46.53550573%5D%2C%20%5B-23.59903657%2C%20-46.91872086%5D%2C%20%5B-23.59903657%2C%20-46.91872086%5D%2C%20%5B-23.4736285%2C%20-46.72053201%5D%2C%20%5B-23.43415569%2C%20-46.71975694%5D%2C%20%5B-23.60672572%2C%20-46.50753639%5D%2C%20%5B-23.54470018%2C%20-46.41660618%5D%2C%20%5B-23.59677111%2C%20-46.4564907%5D%2C%20%5B-23.49226474%2C%20-46.42889471%5D%2C%20%5B-23.69143769%2C%20-46.70998913%5D%2C%20%5B-23.69143769%2C%20-46.70998913%5D%2C%20%5B-23.69143769%2C%20-46.70998913%5D%2C%20%5B-23.5516102%2C%20-46.65709233%5D%2C%20%5B-23.82049504%2C%20-46.73588777%5D%2C%20%5B-23.47878143%2C%20-46.53717756%5D%2C%20%5B-23.53942348%2C%20-46.80105207%5D%2C%20%5B-23.61138286%2C%20-46.47535697%5D%2C%20%5B-23.55449224%2C%20-46.53281454%5D%2C%20%5B-23.5440107%2C%20-46.42189483%5D%2C%20%5B-23.5440107%2C%20-46.42189483%5D%2C%20%5B-23.54340093%2C%20-46.44364475%5D%2C%20%5B-23.67609908%2C%20-46.50115736%5D%2C%20%5B-23.71286115%2C%20-46.78186771%5D%2C%20%5B-23.52138771%2C%20-46.19598149%5D%2C%20%5B-23.67763077%2C%20-46.75758393%5D%2C%20%5B-23.71286115%2C%20-46.78186771%5D%2C%20%5B-23.43433129%2C%20-46.72860066%5D%2C%20%5B-23.43433129%2C%20-46.72860066%5D%2C%20%5B-23.43433129%2C%20-46.72860066%5D%2C%20%5B-23.43433129%2C%20-46.72860066%5D%2C%20%5B-23.54668459%2C%20-46.48455924%5D%2C%20%5B-23.56866157%2C%20-46.64559236%5D%2C%20%5B-23.55925672%2C%20-46.64527853%5D%2C%20%5B-23.55925672%2C%20-46.64527853%5D%2C%20%5B-23.57338631%2C%20-46.65309578%5D%2C%20%5B-23.66016552%2C%20-46.61751482%5D%2C%20%5B-23.67754205%2C%20-46.66864925%5D%2C%20%5B-23.71286115%2C%20-46.78186771%5D%2C%20%5B-23.71286115%2C%20-46.78186771%5D%2C%20%5B-23.48699086%2C%20-46.69286584%5D%2C%20%5B-23.492651%2C%20-46.69131279%5D%2C%20%5B-23.60757655%2C%20-46.57962283%5D%2C%20%5B-23.6761642%2C%20-46.46165852%5D%2C%20%5B-23.69575932%2C%20-46.6023432%5D%2C%20%5B-23.5365432%2C%20-46.42997894%5D%2C%20%5B-23.68450221%2C%20-46.6080117%5D%2C%20%5B-23.68450221%2C%20-46.6080117%5D%2C%20%5B-23.50911371%2C%20-46.14518644%5D%2C%20%5B-23.43363077%2C%20-46.27783818%5D%2C%20%5B-23.43363077%2C%20-46.27783818%5D%2C%20%5B-23.43363077%2C%20-46.27783818%5D%2C%20%5B-23.58222516%2C%20-46.73835298%5D%2C%20%5B-23.58222516%2C%20-46.73835298%5D%2C%20%5B-23.5126749%2C%20-46.41974494%5D%2C%20%5B-23.71286115%2C%20-46.78186771%5D%2C%20%5B-23.69213109%2C%20-46.66217298%5D%2C%20%5B-23.61425861%2C%20-46.60450308%5D%2C%20%5B-23.6457794%2C%20-46.53748947%5D%2C%20%5B-23.71286115%2C%20-46.78186771%5D%2C%20%5B-23.63614488%2C%20-46.6597667%5D%2C%20%5B-23.67726071%2C%20-46.66853253%5D%2C%20%5B-23.51524442%2C%20-46.69420203%5D%2C%20%5B-23.54219552%2C%20-46.57453284%5D%2C%20%5B-23.6732371%2C%20-46.48315654%5D%2C%20%5B-23.67854315%2C%20-46.55607297%5D%2C%20%5B-23.67117421%2C%20-46.57320461%5D%2C%20%5B-23.67117421%2C%20-46.57320461%5D%2C%20%5B-23.51206158%2C%20-46.19717759%5D%2C%20%5B-23.59223368%2C%20-46.40809279%5D%2C%20%5B-23.59223368%2C%20-46.40809279%5D%2C%20%5B-23.52838555%2C%20-46.77547389%5D%2C%20%5B-23.71286115%2C%20-46.78186771%5D%2C%20%5B-23.71286115%2C%20-46.78186771%5D%2C%20%5B-23.71286115%2C%20-46.78186771%5D%2C%20%5B-23.71286115%2C%20-46.78186771%5D%2C%20%5B-23.5585852%2C%20-46.63862071%5D%2C%20%5B-23.48124839%2C%20-46.41149355%5D%2C%20%5B-23.71286115%2C%20-46.78186771%5D%2C%20%5B-23.71286115%2C%20-46.78186771%5D%2C%20%5B-23.71286115%2C%20-46.78186771%5D%2C%20%5B-23.71286115%2C%20-46.78186771%5D%2C%20%5B-23.75186491%2C%20-46.81859162%5D%2C%20%5B-23.71856273%2C%20-46.67304754%5D%2C%20%5B-23.57022088%2C%20-46.54063395%5D%2C%20%5B-23.61209395%2C%20-46.72199981%5D%2C%20%5B-23.70584855%2C%20-46.6873546%5D%2C%20%5B-23.70584855%2C%20-46.6873546%5D%2C%20%5B-23.70584855%2C%20-46.6873546%5D%2C%20%5B-23.5019886%2C%20-46.70633107%5D%2C%20%5B-23.52054487%2C%20-46.57217432%5D%2C%20%5B-23.60984621%2C%20-46.48769882%5D%2C%20%5B-23.54398268%2C%20-46.4219843%5D%2C%20%5B-23.51922636%2C%20-46.70372361%5D%2C%20%5B-23.64800126%2C%20-46.64017886%5D%2C%20%5B-23.82049504%2C%20-46.73588777%5D%2C%20%5B-23.52628103%2C%20-46.40021323%5D%2C%20%5B-23.52628103%2C%20-46.40021323%5D%2C%20%5B-23.52628103%2C%20-46.40021323%5D%2C%20%5B-23.50610268%2C%20-46.75649891%5D%2C%20%5B-23.53891101%2C%20-46.64071851%5D%2C%20%5B-23.65922244%2C%20-46.65698261%5D%2C%20%5B-23.47103556%2C%20-46.72128418%5D%2C%20%5B-23.55275822%2C%20-46.6476569%5D%2C%20%5B-23.55886122%2C%20-46.28515183%5D%2C%20%5B-23.71286115%2C%20-46.78186771%5D%2C%20%5B-23.57132985%2C%20-46.80320525%5D%2C%20%5B-23.57132985%2C%20-46.80320525%5D%2C%20%5B-23.71286115%2C%20-46.78186771%5D%2C%20%5B-23.71286115%2C%20-46.78186771%5D%2C%20%5B-23.50019514%2C%20-46.77610618%5D%2C%20%5B-23.52157608%2C%20-46.89252138%5D%2C%20%5B-23.49226474%2C%20-46.42889471%5D%2C%20%5B-23.52802354%2C%20-46.77665093%5D%2C%20%5B-23.58020805%2C%20-46.86260938%5D%2C%20%5B-23.58020805%2C%20-46.86260938%5D%2C%20%5B-23.55096163%2C%20-46.78525221%5D%2C%20%5B-23.58157885%2C%20-46.54546321%5D%2C%20%5B-23.51843352%2C%20-46.38696836%5D%2C%20%5B-23.63892505%2C%20-46.48802215%5D%2C%20%5B-23.66610084%2C%20-46.61019639%5D%2C%20%5B-23.56466022%2C%20-46.33671531%5D%2C%20%5B-23.36464361%2C%20-46.61687495%5D%2C%20%5B-23.74329737%2C%20-46.80973868%5D%2C%20%5B-23.43495427%2C%20-46.28893296%5D%2C%20%5B-23.61425861%2C%20-46.60450308%5D%2C%20%5B-23.49830189%2C%20-46.31989533%5D%2C%20%5B-23.55275822%2C%20-46.6476569%5D%2C%20%5B-23.6148819%2C%20-46.50230325%5D%2C%20%5B-23.68914285%2C%20-46.50990715%5D%2C%20%5B-23.63572736%2C%20-46.47501499%5D%2C%20%5B-23.49226474%2C%20-46.42889471%5D%2C%20%5B-23.49226474%2C%20-46.42889471%5D%2C%20%5B-23.49226474%2C%20-46.42889471%5D%2C%20%5B-23.5516102%2C%20-46.65709233%5D%2C%20%5B-23.62165545%2C%20-46.62924871%5D%2C%20%5B-23.5735857%2C%20-46.64099064%5D%2C%20%5B-23.56296681%2C%20-46.51075652%5D%2C%20%5B-23.58611228%2C%20-46.75982057%5D%2C%20%5B-23.62521473%2C%20-46.61172177%5D%2C%20%5B-23.6902539%2C%20-46.69774167%5D%2C%20%5B-23.55096163%2C%20-46.78525221%5D%2C%20%5B-23.71286115%2C%20-46.78186771%5D%2C%20%5B-23.71286115%2C%20-46.78186771%5D%2C%20%5B-23.53647197%2C%20-46.42918845%5D%2C%20%5B-23.59714344%2C%20-46.5334817%5D%2C%20%5B-23.66462199%2C%20-46.56654158%5D%2C%20%5B-23.63597608%2C%20-46.57130939%5D%2C%20%5B-23.50023303%2C%20-46.7653815%5D%2C%20%5B-23.71286115%2C%20-46.78186771%5D%2C%20%5B-23.61978556%2C%20-46.70244372%5D%2C%20%5B-23.53570552%2C%20-46.57347535%5D%2C%20%5B-23.67609057%2C%20-46.75012315%5D%2C%20%5B-23.55412378%2C%20-46.50848223%5D%2C%20%5B-23.67754205%2C%20-46.66864925%5D%2C%20%5B-23.71286115%2C%20-46.78186771%5D%2C%20%5B-23.66500767%2C%20-46.6962731%5D%2C%20%5B-23.55170044%2C%20-46.44037685%5D%2C%20%5B-23.57219544%2C%20-46.33841647%5D%2C%20%5B-23.50212596%2C%20-46.62105833%5D%2C%20%5B-23.64593773%2C%20-46.812659%5D%2C%20%5B-23.39677523%2C%20-46.65369675%5D%2C%20%5B-23.39677523%2C%20-46.65369675%5D%2C%20%5B-23.5142687%2C%20-46.35361995%5D%2C%20%5B-23.55382712%2C%20-46.63522127%5D%2C%20%5B-23.52005437%2C%20-46.78100414%5D%2C%20%5B-23.5079591%2C%20-46.70690021%5D%2C%20%5B-23.51343006%2C%20-46.41792881%5D%2C%20%5B-23.63400173%2C%20-46.69433131%5D%2C%20%5B-23.6186355%2C%20-46.64315982%5D%2C%20%5B-23.56859664%2C%20-46.65588035%5D%2C%20%5B-23.51992494%2C%20-46.51398357%5D%2C%20%5B-23.58814501%2C%20-46.40609079%5D%2C%20%5B-23.58814501%2C%20-46.40609079%5D%2C%20%5B-23.66443087%2C%20-46.50926866%5D%2C%20%5B-23.66443087%2C%20-46.50926866%5D%2C%20%5B-23.68452556%2C%20-46.58563896%5D%2C%20%5B-23.53513505%2C%20-46.63349116%5D%2C%20%5B-23.5387812%2C%20-46.36874141%5D%2C%20%5B-23.59049079%2C%20-46.75375804%5D%2C%20%5B-23.61327924%2C%20-46.49179163%5D%2C%20%5B-23.71286115%2C%20-46.78186771%5D%2C%20%5B-23.71286115%2C%20-46.78186771%5D%2C%20%5B-23.73452602%2C%20-46.69323932%5D%2C%20%5B-23.71286115%2C%20-46.78186771%5D%2C%20%5B-23.59223368%2C%20-46.40809279%5D%2C%20%5B-23.52838555%2C%20-46.77547389%5D%2C%20%5B-23.45488784%2C%20-46.88594986%5D%2C%20%5B-23.71286115%2C%20-46.78186771%5D%2C%20%5B-23.51836148%2C%20-46.70330049%5D%2C%20%5B-23.51836148%2C%20-46.70330049%5D%2C%20%5B-23.51836148%2C%20-46.70330049%5D%2C%20%5B-23.71286115%2C%20-46.78186771%5D%2C%20%5B-23.71286115%2C%20-46.78186771%5D%2C%20%5B-23.45829224%2C%20-46.70040409%5D%2C%20%5B-23.71286115%2C%20-46.78186771%5D%2C%20%5B-23.53942348%2C%20-46.80105207%5D%2C%20%5B-23.60564291%2C%20-47.01643612%5D%2C%20%5B-23.52523186%2C%20-46.59371029%5D%2C%20%5B-23.65078044%2C%20-46.5401321%5D%2C%20%5B-23.44294257%2C%20-46.50776417%5D%2C%20%5B-23.42810822%2C%20-46.52767869%5D%2C%20%5B-23.50890429%2C%20-46.29737118%5D%2C%20%5B-23.50890429%2C%20-46.29737118%5D%2C%20%5B-23.63901026%2C%20-46.75949636%5D%2C%20%5B-23.47339362%2C%20-46.69028069%5D%2C%20%5B-23.47677692%2C%20-46.57993754%5D%2C%20%5B-23.71286115%2C%20-46.78186771%5D%2C%20%5B-23.68420213%2C%20-46.51474754%5D%2C%20%5B-23.64370675%2C%20-46.52144179%5D%2C%20%5B-23.4477794%2C%20-46.51944957%5D%2C%20%5B-23.46596082%2C%20-46.52496189%5D%2C%20%5B-23.71286115%2C%20-46.78186771%5D%2C%20%5B-23.71286115%2C%20-46.78186771%5D%2C%20%5B-23.71286115%2C%20-46.78186771%5D%2C%20%5B-23.71286115%2C%20-46.78186771%5D%2C%20%5B-23.71286115%2C%20-46.78186771%5D%2C%20%5B-23.64722769%2C%20-46.33605638%5D%2C%20%5B-23.50104983%2C%20-46.8190299%5D%2C%20%5B-23.71286115%2C%20-46.78186771%5D%2C%20%5B-23.71286115%2C%20-46.78186771%5D%2C%20%5B-23.50222603%2C%20-46.3035959%5D%2C%20%5B-23.55908027%2C%20-46.30070161%5D%2C%20%5B-23.46683812%2C%20-46.75128393%5D%2C%20%5B-23.46683812%2C%20-46.75128393%5D%2C%20%5B-23.46683812%2C%20-46.75128393%5D%2C%20%5B-23.54285713%2C%20-46.62693697%5D%2C%20%5B-23.54285713%2C%20-46.62693697%5D%2C%20%5B-23.67560267%2C%20-46.66471211%5D%2C%20%5B-23.62523719%2C%20-46.74302934%5D%2C%20%5B-23.72643661%2C%20-46.56156444%5D%2C%20%5B-23.53788795%2C%20-46.63704539%5D%2C%20%5B-23.40877095%2C%20-46.86964997%5D%2C%20%5B-23.40877095%2C%20-46.86964997%5D%2C%20%5B-23.52956651%2C%20-46.77385083%5D%2C%20%5B-23.51332713%2C%20-46.81399168%5D%2C%20%5B-23.71286115%2C%20-46.78186771%5D%2C%20%5B-23.54150621%2C%20-46.92238089%5D%2C%20%5B-23.58346153%2C%20-46.78977071%5D%2C%20%5B-23.58346153%2C%20-46.78977071%5D%2C%20%5B-23.63291723%2C%20-46.60422203%5D%2C%20%5B-23.58824117%2C%20-46.58984027%5D%2C%20%5B-23.53695749%2C%20-46.40470744%5D%2C%20%5B-23.61273663%2C%20-46.98830419%5D%2C%20%5B-23.61273663%2C%20-46.98830419%5D%2C%20%5B-23.57408014%2C%20-46.41518418%5D%2C%20%5B-23.57408014%2C%20-46.41518418%5D%2C%20%5B-23.71286115%2C%20-46.78186771%5D%2C%20%5B-23.71286115%2C%20-46.78186771%5D%2C%20%5B-23.55001423%2C%20-46.62957507%5D%2C%20%5B-23.55001423%2C%20-46.62957507%5D%2C%20%5B-23.72162639%2C%20-46.7628028%5D%2C%20%5B-23.72162639%2C%20-46.7628028%5D%2C%20%5B-23.67726071%2C%20-46.66853253%5D%2C%20%5B-23.4861385%2C%20-46.7559323%5D%2C%20%5B-23.6732371%2C%20-46.48315654%5D%2C%20%5B-23.73316415%2C%20-46.5402064%5D%2C%20%5B-23.73316415%2C%20-46.5402064%5D%2C%20%5B-23.73316415%2C%20-46.5402064%5D%2C%20%5B-23.54248221%2C%20-46.61707142%5D%2C%20%5B-23.44250647%2C%20-46.70653998%5D%2C%20%5B-23.50000765%2C%20-46.62069958%5D%2C%20%5B-23.65665936%2C%20-46.80150576%5D%2C%20%5B-23.46842496%2C%20-46.57390405%5D%2C%20%5B-23.58722919%2C%20-46.541549%5D%2C%20%5B-23.62932037%2C%20-46.5211891%5D%2C%20%5B-23.60426404%2C%20-46.57079204%5D%2C%20%5B-23.47103556%2C%20-46.72128418%5D%2C%20%5B-23.57071762%2C%20-46.70024722%5D%2C%20%5B-23.57810978%2C%20-46.58028781%5D%2C%20%5B-23.52116945%2C%20-46.54821445%5D%2C%20%5B-23.52116945%2C%20-46.54821445%5D%2C%20%5B-23.52116945%2C%20-46.54821445%5D%2C%20%5B-23.81721843%2C%20-46.70580343%5D%2C%20%5B-23.81721843%2C%20-46.70580343%5D%2C%20%5B-23.48152658%2C%20-46.67851055%5D%2C%20%5B-23.61105331%2C%20-46.60256919%5D%2C%20%5B-23.66033043%2C%20-46.65848075%5D%2C%20%5B-23.56797283%2C%20-46.5343896%5D%2C%20%5B-23.59490261%2C%20-46.4500557%5D%2C%20%5B-23.59490261%2C%20-46.4500557%5D%2C%20%5B-23.66967428%2C%20-46.74709688%5D%2C%20%5B-23.66967428%2C%20-46.74709688%5D%2C%20%5B-23.68435996%2C%20-46.63307561%5D%2C%20%5B-23.71186156%2C%20-46.77474352%5D%2C%20%5B-23.71186156%2C%20-46.77474352%5D%2C%20%5B-23.74070595%2C%20-46.6820291%5D%2C%20%5B-23.74070595%2C%20-46.6820291%5D%2C%20%5B-23.52095371%2C%20-46.6253548%5D%2C%20%5B-23.57951677%2C%20-46.5752493%5D%2C%20%5B-23.63572736%2C%20-46.47501499%5D%2C%20%5B-23.69316719%2C%20-46.58657137%5D%2C%20%5B-23.71286115%2C%20-46.78186771%5D%2C%20%5B-23.6124029%2C%20-46.48493244%5D%2C%20%5B-23.53857215%2C%20-46.60366247%5D%2C%20%5B-23.6507123%2C%20-46.66437786%5D%2C%20%5B-23.6507123%2C%20-46.66437786%5D%2C%20%5B-23.6507123%2C%20-46.66437786%5D%2C%20%5B-23.65591935%2C%20-46.66876123%5D%2C%20%5B-23.56990786%2C%20-46.56638962%5D%2C%20%5B-23.67854315%2C%20-46.55607297%5D%2C%20%5B-23.71286115%2C%20-46.78186771%5D%2C%20%5B-23.71286115%2C%20-46.78186771%5D%2C%20%5B-23.56551615%2C%20-46.59798844%5D%2C%20%5B-23.58683704%2C%20-46.5905543%5D%2C%20%5B-23.63071942%2C%20-46.50217558%5D%2C%20%5B-23.67048774%2C%20-46.61331461%5D%2C%20%5B-23.71858294%2C%20-46.61610621%5D%2C%20%5B-23.5211893%2C%20-46.82974136%5D%2C%20%5B-23.71286115%2C%20-46.78186771%5D%2C%20%5B-23.6526611%2C%20-46.43815154%5D%2C%20%5B-23.58656148%2C%20-46.67511392%5D%2C%20%5B-23.64260861%2C%20-46.61215009%5D%2C%20%5B-23.44929127%2C%20-46.57951946%5D%2C%20%5B-23.64620291%2C%20-46.68960243%5D%2C%20%5B-23.65591935%2C%20-46.66876123%5D%2C%20%5B-23.63349077%2C%20-46.6926431%5D%2C%20%5B-23.54494237%2C%20-46.48140807%5D%2C%20%5B-23.47934169%2C%20-46.695702%5D%2C%20%5B-23.47934169%2C%20-46.695702%5D%2C%20%5B-23.58285819%2C%20-46.53550573%5D%2C%20%5B-23.71834175%2C%20-46.58235931%5D%2C%20%5B-23.71834175%2C%20-46.58235931%5D%2C%20%5B-23.45136156%2C%20-46.51576445%5D%2C%20%5B-23.64593773%2C%20-46.812659%5D%2C%20%5B-23.55386301%2C%20-46.78735556%5D%2C%20%5B-23.41721123%2C%20-46.80110973%5D%2C%20%5B-23.57429127%2C%20-46.50614774%5D%2C%20%5B-23.54398268%2C%20-46.4219843%5D%2C%20%5B-23.4921198%2C%20-46.32372647%5D%2C%20%5B-23.46879581%2C%20-46.55300922%5D%2C%20%5B-23.59616863%2C%20-46.43631105%5D%2C%20%5B-23.71286115%2C%20-46.78186771%5D%2C%20%5B-23.71286115%2C%20-46.78186771%5D%2C%20%5B-23.39677523%2C%20-46.65369675%5D%2C%20%5B-23.5142687%2C%20-46.35361995%5D%2C%20%5B-23.56753898%2C%20-46.5696395%5D%2C%20%5B-23.58304161%2C%20-46.60681817%5D%2C%20%5B-23.77939723%2C%20-46.53109662%5D%2C%20%5B-23.44123134%2C%20-46.42232635%5D%2C%20%5B-23.48604668%2C%20-46.36517548%5D%2C%20%5B-23.48604668%2C%20-46.36517548%5D%2C%20%5B-23.61305003%2C%20-46.91592273%5D%2C%20%5B-23.49492291%2C%20-46.61595566%5D%2C%20%5B-23.51441935%2C%20-46.40766252%5D%2C%20%5B-23.71286115%2C%20-46.78186771%5D%2C%20%5B-23.71286115%2C%20-46.78186771%5D%2C%20%5B-23.71286115%2C%20-46.78186771%5D%2C%20%5B-23.59778439%2C%20-46.68821433%5D%2C%20%5B-23.53540097%2C%20-46.57486428%5D%2C%20%5B-23.53540097%2C%20-46.57486428%5D%2C%20%5B-23.71286115%2C%20-46.78186771%5D%2C%20%5B-23.53867801%2C%20-46.64961195%5D%2C%20%5B-23.64890396%2C%20-46.77188642%5D%2C%20%5B-23.46037342%2C%20-46.4709884%5D%2C%20%5B-23.61452753%2C%20-46.66871991%5D%2C%20%5B-23.52628103%2C%20-46.40021323%5D%2C%20%5B-23.52628103%2C%20-46.40021323%5D%2C%20%5B-23.52628103%2C%20-46.40021323%5D%2C%20%5B-23.48539749%2C%20-46.69619789%5D%2C%20%5B-23.48539749%2C%20-46.69619789%5D%2C%20%5B-23.49159843%2C%20-46.73147131%5D%2C%20%5B-23.62664571%2C%20-46.55514489%5D%2C%20%5B-23.53511113%2C%20-46.65024843%5D%2C%20%5B-23.40917639%2C%20-46.75244897%5D%2C%20%5B-23.56859664%2C%20-46.65588035%5D%2C%20%5B-23.47336715%2C%20-46.6902981%5D%2C%20%5B-23.51992494%2C%20-46.51398357%5D%2C%20%5B-23.51992494%2C%20-46.51398357%5D%2C%20%5B-23.66443087%2C%20-46.50926866%5D%2C%20%5B-23.56775279%2C%20-46.74680352%5D%2C%20%5B-23.67227666%2C%20-46.64514918%5D%2C%20%5B-23.5304422%2C%20-46.50592021%5D%2C%20%5B-23.5304422%2C%20-46.50592021%5D%2C%20%5B-23.68848695%2C%20-46.52218154%5D%2C%20%5B-23.62805054%2C%20-46.49911435%5D%2C%20%5B-23.4716542%2C%20-46.44073391%5D%2C%20%5B-23.71286115%2C%20-46.78186771%5D%2C%20%5B-23.43433129%2C%20-46.72860066%5D%2C%20%5B-23.59937506%2C%20-46.70867591%5D%2C%20%5B-23.47878143%2C%20-46.53717756%5D%2C%20%5B-23.47878143%2C%20-46.53717756%5D%2C%20%5B-23.55575023%2C%20-46.24803611%5D%2C%20%5B-23.54754397%2C%20-46.73657108%5D%2C%20%5B-23.45054393%2C%20-46.78939432%5D%2C%20%5B-23.45054393%2C%20-46.78939432%5D%2C%20%5B-23.45054393%2C%20-46.78939432%5D%2C%20%5B-23.45407318%2C%20-46.71198669%5D%2C%20%5B-23.52704882%2C%20-46.64811887%5D%2C%20%5B-23.52704882%2C%20-46.64811887%5D%2C%20%5B-23.64399744%2C%20-46.77961516%5D%2C%20%5B-23.67543771%2C%20-46.68587161%5D%2C%20%5B-23.67543771%2C%20-46.68587161%5D%2C%20%5B-23.72531155%2C%20-46.71687071%5D%2C%20%5B-23.50746533%2C%20-46.68938872%5D%2C%20%5B-23.54316139%2C%20-46.53925475%5D%2C%20%5B-23.50828205%2C%20-46.3725579%5D%2C%20%5B-23.51315556%2C%20-46.18166387%5D%2C%20%5B-23.58260559%2C%20-46.79500498%5D%2C%20%5B-23.36464361%2C%20-46.61687495%5D%2C%20%5B-23.74329737%2C%20-46.80973868%5D%2C%20%5B-23.65308075%2C%20-46.80793444%5D%2C%20%5B-23.46940138%2C%20-46.7526026%5D%2C%20%5B-23.43495427%2C%20-46.28893296%5D%2C%20%5B-23.54002243%2C%20-46.88657317%5D%2C%20%5B-23.55210705%2C%20-46.64764194%5D%2C%20%5B-23.72162639%2C%20-46.7628028%5D%2C%20%5B-23.59746885%2C%20-46.76853321%5D%2C%20%5B-23.54668459%2C%20-46.48455924%5D%2C%20%5B-23.60672572%2C%20-46.50753639%5D%2C%20%5B-23.56956722%2C%20-46.53369726%5D%2C%20%5B-23.68450221%2C%20-46.6080117%5D%2C%20%5B-23.4643953%2C%20-46.4678871%5D%2C%20%5B-23.50141573%2C%20-46.87140928%5D%2C%20%5B-23.49748607%2C%20-46.7229676%5D%2C%20%5B-23.71286115%2C%20-46.78186771%5D%2C%20%5B-23.52377195%2C%20-46.55785299%5D%2C%20%5B-23.56785649%2C%20-46.62183178%5D%2C%20%5B-23.50986309%2C%20-46.29385075%5D%2C%20%5B-23.55067043%2C%20-46.46849151%5D%2C%20%5B-23.6732371%2C%20-46.48315654%5D%2C%20%5B-23.6255172%2C%20-46.57038624%5D%2C%20%5B-23.46968598%2C%20-46.52476689%5D%2C%20%5B-23.75186491%2C%20-46.81859162%5D%2C%20%5B-23.59237419%2C%20-46.5975817%5D%2C%20%5B-23.64083036%2C%20-46.66425211%5D%2C%20%5B-23.56589203%2C%20-46.75200116%5D%2C%20%5B-23.52157644%2C%20-46.53508928%5D%2C%20%5B-23.71286115%2C%20-46.78186771%5D%2C%20%5B-23.71286115%2C%20-46.78186771%5D%2C%20%5B-23.64800126%2C%20-46.64017886%5D%2C%20%5B-23.82049504%2C%20-46.73588777%5D%2C%20%5B-23.55848723%2C%20-46.68741881%5D%2C%20%5B-23.58611228%2C%20-46.75982057%5D%2C%20%5B-23.58611228%2C%20-46.75982057%5D%2C%20%5B-23.58611228%2C%20-46.75982057%5D%2C%20%5B-23.62521473%2C%20-46.61172177%5D%2C%20%5B-23.4794135%2C%20-46.42773342%5D%2C%20%5B-23.68126972%2C%20-46.67223617%5D%2C%20%5B-23.71286115%2C%20-46.78186771%5D%2C%20%5B-23.53162926%2C%20-46.47036145%5D%2C%20%5B-23.57888558%2C%20-46.52211217%5D%2C%20%5B-23.70849014%2C%20-46.55157297%5D%2C%20%5B-23.65293119%2C%20-46.68857313%5D%2C%20%5B-23.56032922%2C%20-46.5842665%5D%2C%20%5B-23.67654098%2C%20-46.6313391%5D%2C%20%5B-23.72590581%2C%20-46.57476379%5D%2C%20%5B-23.54483223%2C%20-46.62633888%5D%2C%20%5B-23.54483223%2C%20-46.62633888%5D%2C%20%5B-23.62929119%2C%20-46.46421056%5D%2C%20%5B-23.62929119%2C%20-46.46421056%5D%2C%20%5B-23.67116812%2C%20-46.73900101%5D%2C%20%5B-23.52054487%2C%20-46.57217432%5D%2C%20%5B-23.54398268%2C%20-46.4219843%5D%2C%20%5B-23.54398268%2C%20-46.4219843%5D%2C%20%5B-23.51922636%2C%20-46.70372361%5D%2C%20%5B-23.60636363%2C%20-46.52202911%5D%2C%20%5B-23.60636363%2C%20-46.52202911%5D%2C%20%5B-23.69295974%2C%20-46.66536297%5D%2C%20%5B-23.71286115%2C%20-46.78186771%5D%2C%20%5B-23.58479675%2C%20-46.29779454%5D%2C%20%5B-23.71286115%2C%20-46.78186771%5D%2C%20%5B-23.70880619%2C%20-46.60030729%5D%2C%20%5B-23.71286115%2C%20-46.78186771%5D%2C%20%5B-23.71286115%2C%20-46.78186771%5D%2C%20%5B-23.72076749%2C%20-46.62030034%5D%2C%20%5B-23.49094373%2C%20-46.37223878%5D%2C%20%5B-23.5116923%2C%20-46.67306169%5D%2C%20%5B-23.66522039%2C%20-46.59605392%5D%2C%20%5B-23.68469904%2C%20-46.59499066%5D%2C%20%5B-23.45049311%2C%20-46.4741228%5D%2C%20%5B-23.45512773%2C%20-46.51588445%5D%2C%20%5B-23.53903948%2C%20-46.90142588%5D%2C%20%5B-23.58004926%2C%20-46.79822713%5D%2C%20%5B-23.71286115%2C%20-46.78186771%5D%2C%20%5B-23.71286115%2C%20-46.78186771%5D%2C%20%5B-23.6690074%2C%20-46.61813733%5D%2C%20%5B-23.53184192%2C%20-46.62623187%5D%2C%20%5B-23.55026929%2C%20-46.63185612%5D%2C%20%5B-23.55280106%2C%20-46.32538317%5D%2C%20%5B-23.71286115%2C%20-46.78186771%5D%2C%20%5B-23.57132985%2C%20-46.80320525%5D%2C%20%5B-23.54934861%2C%20-46.78156133%5D%2C%20%5B-23.54934861%2C%20-46.78156133%5D%2C%20%5B-23.50019514%2C%20-46.77610618%5D%2C%20%5B-23.65349125%2C%20-46.67008033%5D%2C%20%5B-23.53610737%2C%20-46.45366175%5D%2C%20%5B-23.53610737%2C%20-46.45366175%5D%2C%20%5B-23.50410627%2C%20-46.67271599%5D%2C%20%5B-23.55449224%2C%20-46.53281454%5D%2C%20%5B-23.54340093%2C%20-46.44364475%5D%2C%20%5B-23.67609908%2C%20-46.50115736%5D%2C%20%5B-23.60644545%2C%20-46.59369354%5D%2C%20%5B-23.65789154%2C%20-46.43677007%5D%2C%20%5B-23.65789154%2C%20-46.43677007%5D%2C%20%5B-23.46406665%2C%20-46.48821682%5D%2C%20%5B-23.53079023%2C%20-46.90237099%5D%2C%20%5B-23.67763077%2C%20-46.75758393%5D%2C%20%5B-23.65283442%2C%20-46.70613563%5D%2C%20%5B-23.52628103%2C%20-46.40021323%5D%2C%20%5B-23.52628103%2C%20-46.40021323%5D%2C%20%5B-23.52628103%2C%20-46.40021323%5D%2C%20%5B-23.52628103%2C%20-46.40021323%5D%2C%20%5B-23.52628103%2C%20-46.40021323%5D%2C%20%5B-23.52628103%2C%20-46.40021323%5D%2C%20%5B-23.50610268%2C%20-46.75649891%5D%2C%20%5B-23.58157885%2C%20-46.54546321%5D%2C%20%5B-23.51843352%2C%20-46.38696836%5D%2C%20%5B-23.63892505%2C%20-46.48802215%5D%2C%20%5B-23.45226083%2C%20-46.60480785%5D%2C%20%5B-23.69575522%2C%20-46.62427817%5D%2C%20%5B-23.69575522%2C%20-46.62427817%5D%2C%20%5B-23.66218831%2C%20-46.31160633%5D%2C%20%5B-23.71286115%2C%20-46.78186771%5D%2C%20%5B-23.49241929%2C%20-46.49965775%5D%2C%20%5B-23.63614488%2C%20-46.6597667%5D%2C%20%5B-23.66500767%2C%20-46.6962731%5D%2C%20%5B-23.492651%2C%20-46.69131279%5D%2C%20%5B-23.63194561%2C%20-46.33223426%5D%2C%20%5B-23.62007335%2C%20-46.78123039%5D%2C%20%5B-23.62007335%2C%20-46.78123039%5D%2C%20%5B-23.71286115%2C%20-46.78186771%5D%2C%20%5B-23.50890429%2C%20-46.29737118%5D%2C%20%5B-23.52829849%2C%20-46.77627492%5D%2C%20%5B-23.52078169%2C%20-46.65516421%5D%2C%20%5B-23.66631239%2C%20-46.71723548%5D%2C%20%5B-23.47339362%2C%20-46.69028069%5D%2C%20%5B-23.48591945%2C%20-46.38040926%5D%2C%20%5B-23.47677692%2C%20-46.57993754%5D%2C%20%5B-23.50222603%2C%20-46.3035959%5D%2C%20%5B-23.69691739%2C%20-46.55081074%5D%2C%20%5B-23.46940138%2C%20-46.7526026%5D%2C%20%5B-23.46940138%2C%20-46.7526026%5D%2C%20%5B-23.53292015%2C%20-46.56335896%5D%2C%20%5B-23.48375926%2C%20-46.49521552%5D%2C%20%5B-23.50517523%2C%20-46.43277598%5D%2C%20%5B-23.60890971%2C%20-46.52540829%5D%2C%20%5B-23.60890971%2C%20-46.52540829%5D%2C%20%5B-23.60890971%2C%20-46.52540829%5D%2C%20%5B-23.53055723%2C%20-46.50714127%5D%2C%20%5B-23.53055723%2C%20-46.50714127%5D%2C%20%5B-23.58049306%2C%20-46.55045539%5D%2C%20%5B-23.66196223%2C%20-46.75252419%5D%2C%20%5B-23.68420213%2C%20-46.51474754%5D%2C%20%5B-23.71286115%2C%20-46.78186771%5D%2C%20%5B-23.71286115%2C%20-46.78186771%5D%2C%20%5B-23.71286115%2C%20-46.78186771%5D%2C%20%5B-23.71286115%2C%20-46.78186771%5D%2C%20%5B-23.48124839%2C%20-46.41149355%5D%2C%20%5B-23.54814862%2C%20-46.8091457%5D%2C%20%5B-23.4477794%2C%20-46.51944957%5D%2C%20%5B-23.54150621%2C%20-46.92238089%5D%2C%20%5B-23.58346153%2C%20-46.78977071%5D%2C%20%5B-23.562249%2C%20-46.78280386%5D%2C%20%5B-23.562249%2C%20-46.78280386%5D%2C%20%5B-23.4729321%2C%20-46.46683918%5D%2C%20%5B-23.65922244%2C%20-46.65698261%5D%2C%20%5B-23.54489776%2C%20-46.6358576%5D%2C%20%5B-23.59714344%2C%20-46.5334817%5D%2C%20%5B-23.66462199%2C%20-46.56654158%5D%2C%20%5B-23.54953422%2C%20-46.63008811%5D%2C%20%5B-23.70400304%2C%20-46.60938506%5D%2C%20%5B-23.54287299%2C%20-46.25831553%5D%2C%20%5B-23.54287299%2C%20-46.25831553%5D%2C%20%5B-23.73316415%2C%20-46.5402064%5D%2C%20%5B-23.73316415%2C%20-46.5402064%5D%2C%20%5B-23.43299485%2C%20-46.71751386%5D%2C%20%5B-23.71286115%2C%20-46.78186771%5D%2C%20%5B-23.66789962%2C%20-46.67358474%5D%2C%20%5B-23.44570074%2C%20-46.74813102%5D%2C%20%5B-23.64310993%2C%20-46.6679099%5D%2C%20%5B-23.67150263%2C%20-46.56740409%5D%2C%20%5B-23.71326347%2C%20-46.41520727%5D%2C%20%5B-23.70202903%2C%20-46.61591274%5D%2C%20%5B-23.71286115%2C%20-46.78186771%5D%2C%20%5B-23.71286115%2C%20-46.78186771%5D%2C%20%5B-23.71286115%2C%20-46.78186771%5D%2C%20%5B-23.71286115%2C%20-46.78186771%5D%2C%20%5B-23.47103556%2C%20-46.72128418%5D%2C%20%5B-23.47103556%2C%20-46.72128418%5D%2C%20%5B-23.57071762%2C%20-46.70024722%5D%2C%20%5B-23.74070595%2C%20-46.6820291%5D%2C%20%5B-23.50778858%2C%20-46.6830621%5D%2C%20%5B-23.56715969%2C%20-46.58730911%5D%2C%20%5B-23.49447467%2C%20-46.43865692%5D%2C%20%5B-23.49447467%2C%20-46.43865692%5D%2C%20%5B-23.70202903%2C%20-46.61591274%5D%2C%20%5B-23.53683806%2C%20-46.18034888%5D%2C%20%5B-23.52111018%2C%20-46.85481461%5D%2C%20%5B-23.54248221%2C%20-46.61707142%5D%2C%20%5B-23.63335526%2C%20-46.6465901%5D%2C%20%5B-23.48678046%2C%20-46.4240922%5D%2C%20%5B-23.53790978%2C%20-46.73272795%5D%2C%20%5B-23.44951191%2C%20-46.37696382%5D%2C%20%5B-23.61298322%2C%20-46.76922077%5D%2C%20%5B-23.6814663%2C%20-46.58884277%5D%2C%20%5B-23.39677523%2C%20-46.65369675%5D%2C%20%5B-23.39677523%2C%20-46.65369675%5D%2C%20%5B-23.39677523%2C%20-46.65369675%5D%2C%20%5B-23.39677523%2C%20-46.65369675%5D%2C%20%5B-23.39677523%2C%20-46.65369675%5D%2C%20%5B-23.71286115%2C%20-46.78186771%5D%2C%20%5B-23.46683812%2C%20-46.75128393%5D%2C%20%5B-23.59573348%2C%20-46.41288198%5D%2C%20%5B-23.71535084%2C%20-46.7028907%5D%2C%20%5B-23.71535084%2C%20-46.7028907%5D%2C%20%5B-23.56146127%2C%20-46.92875873%5D%2C%20%5B-23.73452602%2C%20-46.69323932%5D%2C%20%5B-23.63901026%2C%20-46.75949636%5D%2C%20%5B-23.48591945%2C%20-46.38040926%5D%2C%20%5B-23.66280686%2C%20-46.55935908%5D%2C%20%5B-23.4729321%2C%20-46.46683918%5D%2C%20%5B-23.55094464%2C%20-46.36027219%5D%2C%20%5B-23.51641524%2C%20-46.36567054%5D%2C%20%5B-23.51719131%2C%20-46.17881166%5D%2C%20%5B-23.51719131%2C%20-46.17881166%5D%2C%20%5B-23.51719131%2C%20-46.17881166%5D%2C%20%5B-23.49492291%2C%20-46.61595566%5D%2C%20%5B-23.55382712%2C%20-46.63522127%5D%2C%20%5B-23.52214874%2C%20-46.61102416%5D%2C%20%5B-23.53511113%2C%20-46.65024843%5D%2C%20%5B-23.40917639%2C%20-46.75244897%5D%2C%20%5B-23.53622277%2C%20-46.28631586%5D%2C%20%5B-23.52111018%2C%20-46.85481461%5D%2C%20%5B-23.6814663%2C%20-46.58884277%5D%2C%20%5B-23.56739139%2C%20-46.63418238%5D%2C%20%5B-23.53728083%2C%20-46.65030141%5D%2C%20%5B-23.59647308%2C%20-46.53852429%5D%2C%20%5B-23.59647308%2C%20-46.53852429%5D%2C%20%5B-23.59647308%2C%20-46.53852429%5D%2C%20%5B-23.66246424%2C%20-46.73626926%5D%2C%20%5B-23.62255337%2C%20-46.46947487%5D%2C%20%5B-23.63192213%2C%20-46.53344481%5D%2C%20%5B-23.66523593%2C%20-46.58943177%5D%2C%20%5B-23.47793879%2C%20-46.88805884%5D%2C%20%5B-23.71286115%2C%20-46.78186771%5D%2C%20%5B-23.47336715%2C%20-46.6902981%5D%2C%20%5B-23.55575023%2C%20-46.24803611%5D%2C%20%5B-23.54002243%2C%20-46.88657317%5D%2C%20%5B-23.63291723%2C%20-46.60422203%5D%2C%20%5B-23.64800126%2C%20-46.64017886%5D%2C%20%5B-23.59356351%2C%20-46.63666678%5D%2C%20%5B-23.46683812%2C%20-46.75128393%5D%2C%20%5B-23.46683812%2C%20-46.75128393%5D%2C%20%5B-23.62523719%2C%20-46.74302934%5D%2C%20%5B-23.62255337%2C%20-46.46947487%5D%2C%20%5B-23.66523593%2C%20-46.58943177%5D%2C%20%5B-23.52956651%2C%20-46.77385083%5D%2C%20%5B-23.56931388%2C%20-46.54283405%5D%2C%20%5B-23.64944445%2C%20-46.65926129%5D%2C%20%5B-23.59816769%2C%20-46.44638705%5D%2C%20%5B-23.62411912%2C%20-46.46185832%5D%2C%20%5B-23.69763934%2C%20-46.62933685%5D%2C%20%5B-23.61928962%2C%20-46.63944369%5D%2C%20%5B-23.52956651%2C%20-46.77385083%5D%2C%20%5B-23.52956651%2C%20-46.77385083%5D%2C%20%5B-23.52956651%2C%20-46.77385083%5D%2C%20%5B-23.71286115%2C%20-46.78186771%5D%2C%20%5B-23.71286115%2C%20-46.78186771%5D%2C%20%5B-23.71286115%2C%20-46.78186771%5D%2C%20%5B-23.55210705%2C%20-46.64764194%5D%2C%20%5B-23.55925672%2C%20-46.64527853%5D%2C%20%5B-23.58621846%2C%20-46.6186999%5D%2C%20%5B-23.57338631%2C%20-46.65309578%5D%2C%20%5B-23.57338631%2C%20-46.65309578%5D%2C%20%5B-23.66359208%2C%20-46.66983148%5D%2C%20%5B-23.59778439%2C%20-46.68821433%5D%2C%20%5B-23.62016617%2C%20-46.66204566%5D%2C%20%5B-23.69824574%2C%20-46.64798653%5D%2C%20%5B-23.64836819%2C%20-46.64346799%5D%2C%20%5B-23.53540097%2C%20-46.57486428%5D%2C%20%5B-23.56775279%2C%20-46.74680352%5D%2C%20%5B-23.73455432%2C%20-46.78991693%5D%2C%20%5B-23.54510255%2C%20-46.46259914%5D%2C%20%5B-23.54510255%2C%20-46.46259914%5D%2C%20%5B-23.49846553%2C%20-46.70704301%5D%2C%20%5B-23.71286115%2C%20-46.78186771%5D%2C%20%5B-23.71286115%2C%20-46.78186771%5D%2C%20%5B-23.61273663%2C%20-46.98830419%5D%2C%20%5B-23.57408014%2C%20-46.41518418%5D%2C%20%5B-23.55454648%2C%20-46.43923619%5D%2C%20%5B-23.55454648%2C%20-46.43923619%5D%2C%20%5B-23.71286115%2C%20-46.78186771%5D%2C%20%5B-23.59282471%2C%20-46.80662548%5D%2C%20%5B-23.59841542%2C%20-46.53356372%5D%2C%20%5B-23.59841542%2C%20-46.53356372%5D%2C%20%5B-23.64299191%2C%20-46.73625336%5D%2C%20%5B-23.61327924%2C%20-46.49179163%5D%2C%20%5B-23.5843533%2C%20-46.58618498%5D%2C%20%5B-23.69171498%2C%20-46.44672809%5D%2C%20%5B-23.51206158%2C%20-46.19717759%5D%2C%20%5B-23.51206158%2C%20-46.19717759%5D%2C%20%5B-23.51206158%2C%20-46.19717759%5D%2C%20%5B-23.60982272%2C%20-46.92282707%5D%2C%20%5B-23.64299191%2C%20-46.73625336%5D%2C%20%5B-23.662849%2C%20-46.43108018%5D%2C%20%5B-23.44125453%2C%20-46.43969786%5D%2C%20%5B-23.71286115%2C%20-46.78186771%5D%2C%20%5B-23.63221563%2C%20-46.64607579%5D%2C%20%5B-23.57036678%2C%20-46.52981356%5D%2C%20%5B-23.58824117%2C%20-46.58984027%5D%2C%20%5B-23.56073987%2C%20-46.48243717%5D%2C%20%5B-23.56073987%2C%20-46.48243717%5D%2C%20%5B-23.48802591%2C%20-46.71981542%5D%2C%20%5B-23.56267532%2C%20-46.31161015%5D%2C%20%5B-23.54236339%2C%20-46.92428789%5D%2C%20%5B-23.54236339%2C%20-46.92428789%5D%2C%20%5B-23.5312874%2C%20-46.8562457%5D%2C%20%5B-23.59539884%2C%20-46.3412296%5D%2C%20%5B-23.71286115%2C%20-46.78186771%5D%2C%20%5B-23.52523186%2C%20-46.59371029%5D%2C%20%5B-23.5884851%2C%20-46.58911023%5D%2C%20%5B-23.5884851%2C%20-46.58911023%5D%2C%20%5B-23.67071772%2C%20-46.59118456%5D%2C%20%5B-23.44294257%2C%20-46.50776417%5D%2C%20%5B-23.66721402%2C%20-46.59240013%5D%2C%20%5B-23.57408014%2C%20-46.41518418%5D%2C%20%5B-23.57408014%2C%20-46.41518418%5D%2C%20%5B-23.52627849%2C%20-46.70765115%5D%2C%20%5B-23.58722919%2C%20-46.541549%5D%2C%20%5B-23.50531134%2C%20-46.3778265%5D%2C%20%5B-23.55454648%2C%20-46.43923619%5D%2C%20%5B-23.44388295%2C%20-46.32454043%5D%2C%20%5B-23.50104983%2C%20-46.8190299%5D%2C%20%5B-23.50104983%2C%20-46.8190299%5D%2C%20%5B-23.71286115%2C%20-46.78186771%5D%2C%20%5B-23.81721843%2C%20-46.70580343%5D%2C%20%5B-23.81721843%2C%20-46.70580343%5D%2C%20%5B-23.60098782%2C%20-46.60043308%5D%2C%20%5B-23.6449331%2C%20-46.64922964%5D%2C%20%5B-23.54483223%2C%20-46.62633888%5D%2C%20%5B-23.52133723%2C%20-46.8358467%5D%2C%20%5B-23.52377195%2C%20-46.55785299%5D%2C%20%5B-23.729292%2C%20-46.5514833%5D%2C%20%5B-23.67052353%2C%20-46.66004387%5D%2C%20%5B-23.55772995%2C%20-46.49303628%5D%2C%20%5B-23.55772995%2C%20-46.49303628%5D%2C%20%5B-23.52802354%2C%20-46.77665093%5D%2C%20%5B-23.5371176%2C%20-46.82559701%5D%2C%20%5B-23.45663011%2C%20-46.34969758%5D%2C%20%5B-23.71856273%2C%20-46.67304754%5D%2C%20%5B-23.63782291%2C%20-46.48830694%5D%2C%20%5B-23.63782291%2C%20-46.48830694%5D%2C%20%5B-23.78758028%2C%20-46.52655597%5D%2C%20%5B-23.72034844%2C%20-46.62474794%5D%2C%20%5B-23.81721843%2C%20-46.70580343%5D%2C%20%5B-23.71286115%2C%20-46.78186771%5D%2C%20%5B-23.66610183%2C%20-46.55943713%5D%2C%20%5B-23.48152658%2C%20-46.67851055%5D%2C%20%5B-23.54483223%2C%20-46.62633888%5D%2C%20%5B-23.54483223%2C%20-46.62633888%5D%2C%20%5B-23.5462892%2C%20-46.62265372%5D%2C%20%5B-23.5462892%2C%20-46.62265372%5D%2C%20%5B-23.61105331%2C%20-46.60256919%5D%2C%20%5B-23.67763686%2C%20-46.7671197%5D%2C%20%5B-23.56797283%2C%20-46.5343896%5D%2C%20%5B-23.56797283%2C%20-46.5343896%5D%2C%20%5B-23.56551615%2C%20-46.59798844%5D%2C%20%5B-23.50167016%2C%20-46.37303468%5D%2C%20%5B-23.66355558%2C%20-46.60514622%5D%2C%20%5B-23.52137476%2C%20-46.61086308%5D%2C%20%5B-23.52628103%2C%20-46.40021323%5D%2C%20%5B-23.59508927%2C%20-46.76543193%5D%2C%20%5B-23.59296968%2C%20-46.52437537%5D%2C%20%5B-23.51843352%2C%20-46.38696836%5D%2C%20%5B-23.63892505%2C%20-46.48802215%5D%2C%20%5B-23.70534722%2C%20-46.64317252%5D%2C%20%5B-23.66187956%2C%20-46.60510927%5D%2C%20%5B-23.52156135%2C%20-46.76971558%5D%2C%20%5B-23.49624074%2C%20-46.80751227%5D%2C%20%5B-23.66641435%2C%20-46.31373055%5D%2C%20%5B-23.5413219%2C%20-46.63426259%5D%2C%20%5B-23.70571751%2C%20-46.70058818%5D%2C%20%5B-23.54458228%2C%20-46.60023871%5D%2C%20%5B-23.54458228%2C%20-46.60023871%5D%2C%20%5B-23.54458228%2C%20-46.60023871%5D%2C%20%5B-23.53642769%2C%20-46.53445849%5D%2C%20%5B-23.67048774%2C%20-46.61331461%5D%2C%20%5B-23.69071369%2C%20-46.79799242%5D%2C%20%5B-23.5211893%2C%20-46.82974136%5D%2C%20%5B-23.71286115%2C%20-46.78186771%5D%2C%20%5B-23.71286115%2C%20-46.78186771%5D%2C%20%5B-23.56310527%2C%20-46.65461972%5D%2C%20%5B-23.49926499%2C%20-46.42592866%5D%2C%20%5B-23.49926499%2C%20-46.42592866%5D%2C%20%5B-23.49926499%2C%20-46.42592866%5D%2C%20%5B-23.60672572%2C%20-46.50753639%5D%2C%20%5B-23.60672572%2C%20-46.50753639%5D%2C%20%5B-23.68040642%2C%20-46.46470253%5D%2C%20%5B-23.67464512%2C%20-46.52000743%5D%2C%20%5B-23.65846648%2C%20-46.60484319%5D%2C%20%5B-23.74329737%2C%20-46.80973868%5D%2C%20%5B-23.46940138%2C%20-46.7526026%5D%2C%20%5B-23.4865164%2C%20-46.85943791%5D%2C%20%5B-23.71286115%2C%20-46.78186771%5D%2C%20%5B-23.71286115%2C%20-46.78186771%5D%2C%20%5B-23.51206158%2C%20-46.19717759%5D%2C%20%5B-23.71286115%2C%20-46.78186771%5D%2C%20%5B-23.71286115%2C%20-46.78186771%5D%2C%20%5B-23.53642769%2C%20-46.53445849%5D%2C%20%5B-23.48011943%2C%20-46.4094225%5D%2C%20%5B-23.48011943%2C%20-46.4094225%5D%2C%20%5B-23.48011943%2C%20-46.4094225%5D%2C%20%5B-23.62633398%2C%20-46.57611779%5D%2C%20%5B-23.69402455%2C%20-46.80204697%5D%2C%20%5B-23.54114951%2C%20-46.86121099%5D%2C%20%5B-23.48616638%2C%20-46.81335355%5D%2C%20%5B-23.46879581%2C%20-46.55300922%5D%2C%20%5B-23.5169184%2C%20-46.7258575%5D%2C%20%5B-23.65690575%2C%20-46.45312602%5D%2C%20%5B-23.50289121%2C%20-46.68380391%5D%2C%20%5B-23.50289121%2C%20-46.68380391%5D%2C%20%5B-23.61243905%2C%20-46.63903766%5D%2C%20%5B-23.61243905%2C%20-46.63903766%5D%2C%20%5B-23.64890396%2C%20-46.77188642%5D%2C%20%5B-23.49239439%2C%20-46.41551057%5D%2C%20%5B-23.49239439%2C%20-46.41551057%5D%2C%20%5B-23.44929127%2C%20-46.57951946%5D%2C%20%5B-23.59616863%2C%20-46.43631105%5D%2C%20%5B-23.64460089%2C%20-46.72746093%5D%2C%20%5B-23.54063014%2C%20-46.82283896%5D%2C%20%5B-23.71286115%2C%20-46.78186771%5D%2C%20%5B-23.71286115%2C%20-46.78186771%5D%2C%20%5B-23.60080739%2C%20-46.6747719%5D%2C%20%5B-23.71286115%2C%20-46.78186771%5D%2C%20%5B-23.63081939%2C%20-46.47015924%5D%2C%20%5B-23.67206687%2C%20-46.48624908%5D%2C%20%5B-23.71286115%2C%20-46.78186771%5D%2C%20%5B-23.66142984%2C%20-46.54074656%5D%2C%20%5B-23.6688365%2C%20-46.64532618%5D%2C%20%5B-23.58794211%2C%20-46.64301529%5D%2C%20%5B-23.72146615%2C%20-46.68891898%5D%2C%20%5B-23.73738934%2C%20-46.69517842%5D%2C%20%5B-23.6690074%2C%20-46.61813733%5D%2C%20%5B-23.57726476%2C%20-46.64088264%5D%2C%20%5B-23.48591945%2C%20-46.38040926%5D%2C%20%5B-23.71286115%2C%20-46.78186771%5D%2C%20%5B-23.58656148%2C%20-46.67511392%5D%2C%20%5B-23.61110336%2C%20-46.69822747%5D%2C%20%5B-23.6943401%2C%20-46.67527824%5D%2C%20%5B-23.6943401%2C%20-46.67527824%5D%2C%20%5B-23.6943401%2C%20-46.67527824%5D%2C%20%5B-23.68231519%2C%20-46.52957569%5D%2C%20%5B-23.68231519%2C%20-46.52957569%5D%2C%20%5B-23.68231519%2C%20-46.52957569%5D%2C%20%5B-23.70231382%2C%20-46.54355775%5D%2C%20%5B-23.70515201%2C%20-46.62297816%5D%2C%20%5B-23.55096163%2C%20-46.78525221%5D%2C%20%5B-23.60806711%2C%20-46.76020039%5D%2C%20%5B-23.54383825%2C%20-46.64711811%5D%2C%20%5B-23.70571751%2C%20-46.70058818%5D%2C%20%5B-23.68783772%2C%20-46.69759957%5D%2C%20%5B-23.68783772%2C%20-46.69759957%5D%2C%20%5B-23.52111018%2C%20-46.85481461%5D%2C%20%5B-23.51133334%2C%20-46.41617631%5D%2C%20%5B-23.54751753%2C%20-46.51160049%5D%2C%20%5B-23.50828205%2C%20-46.3725579%5D%2C%20%5B-23.50828205%2C%20-46.3725579%5D%2C%20%5B-23.57383445%2C%20-46.77701406%5D%2C%20%5B-23.57656289%2C%20-46.64500904%5D%2C%20%5B-23.65284626%2C%20-46.66895818%5D%2C%20%5B-23.38065092%2C%20-46.97225233%5D%2C%20%5B-23.71286115%2C%20-46.78186771%5D%2C%20%5B-23.71286115%2C%20-46.78186771%5D%2C%20%5B-23.71286115%2C%20-46.78186771%5D%2C%20%5B-23.71286115%2C%20-46.78186771%5D%2C%20%5B-23.65293119%2C%20-46.68857313%5D%2C%20%5B-23.66604927%2C%20-46.66077947%5D%2C%20%5B-23.56032922%2C%20-46.5842665%5D%2C%20%5B-23.46966185%2C%20-46.69070443%5D%2C%20%5B-23.65199819%2C%20-46.49057282%5D%2C%20%5B-23.71286115%2C%20-46.78186771%5D%2C%20%5B-23.71286115%2C%20-46.78186771%5D%2C%20%5B-23.56945905%2C%20-46.54161606%5D%2C%20%5B-23.54756975%2C%20-46.42501183%5D%2C%20%5B-23.72101517%2C%20-46.40524202%5D%2C%20%5B-23.72207128%2C%20-46.61822615%5D%2C%20%5B-23.48875665%2C%20-46.5539194%5D%2C%20%5B-23.48875665%2C%20-46.5539194%5D%2C%20%5B-23.64460089%2C%20-46.72746093%5D%2C%20%5B-23.57867055%2C%20-46.32757396%5D%2C%20%5B-23.448758%2C%20-46.73474976%5D%2C%20%5B-23.49474112%2C%20-46.5567709%5D%2C%20%5B-23.53622351%2C%20-46.28609804%5D%2C%20%5B-23.71286115%2C%20-46.78186771%5D%2C%20%5B-23.5116923%2C%20-46.67306169%5D%2C%20%5B-23.52843333%2C%20-46.85180754%5D%2C%20%5B-23.71286115%2C%20-46.78186771%5D%2C%20%5B-23.6688365%2C%20-46.64532618%5D%2C%20%5B-23.58794211%2C%20-46.64301529%5D%2C%20%5B-23.59877107%2C%20-46.72886884%5D%2C%20%5B-23.50392581%2C%20-46.61058936%5D%2C%20%5B-23.54316139%2C%20-46.53925475%5D%2C%20%5B-23.50828205%2C%20-46.3725579%5D%2C%20%5B-23.53136907%2C%20-46.53066013%5D%2C%20%5B-23.55067043%2C%20-46.46849151%5D%2C%20%5B-23.5508637%2C%20-46.64642453%5D%2C%20%5B-23.58752442%2C%20-46.64058607%5D%2C%20%5B-23.67560267%2C%20-46.66471211%5D%2C%20%5B-23.56146127%2C%20-46.92875873%5D%2C%20%5B-23.46271201%2C%20-46.69617618%5D%2C%20%5B-23.46271201%2C%20-46.69617618%5D%2C%20%5B-23.58945259%2C%20-46.54269043%5D%2C%20%5B-23.53788795%2C%20-46.63704539%5D%2C%20%5B-23.47823468%2C%20-46.42398545%5D%2C%20%5B-23.71286115%2C%20-46.78186771%5D%2C%20%5B-23.65926358%2C%20-46.66274406%5D%2C%20%5B-23.46576901%2C%20-46.67090225%5D%2C%20%5B-23.54372295%2C%20-46.734647%5D%2C%20%5B-23.61494933%2C%20-46.71486531%5D%2C%20%5B-23.61494933%2C%20-46.71486531%5D%2C%20%5B-23.51756481%2C%20-46.56773807%5D%2C%20%5B-23.53867801%2C%20-46.64961195%5D%2C%20%5B-23.68126972%2C%20-46.67223617%5D%2C%20%5B-23.53162926%2C%20-46.47036145%5D%2C%20%5B-23.53903948%2C%20-46.90142588%5D%2C%20%5B-23.45137598%2C%20-46.33534396%5D%2C%20%5B-23.73830888%2C%20-46.70029892%5D%2C%20%5B-23.53048684%2C%20-46.90337773%5D%2C%20%5B-23.53048684%2C%20-46.90337773%5D%2C%20%5B-23.71286115%2C%20-46.78186771%5D%2C%20%5B-23.71286115%2C%20-46.78186771%5D%2C%20%5B-23.71286115%2C%20-46.78186771%5D%2C%20%5B-23.57656289%2C%20-46.64500904%5D%2C%20%5B-23.57656289%2C%20-46.64500904%5D%2C%20%5B-23.69550185%2C%20-46.7952493%5D%2C%20%5B-23.69550185%2C%20-46.7952493%5D%2C%20%5B-23.56329772%2C%20-46.78880789%5D%2C%20%5B-23.52956651%2C%20-46.77385083%5D%2C%20%5B-23.63221563%2C%20-46.64607579%5D%2C%20%5B-23.63966127%2C%20-46.67137709%5D%2C%20%5B-23.59182117%2C%20-46.59797867%5D%2C%20%5B-23.71286115%2C%20-46.78186771%5D%2C%20%5B-23.67150263%2C%20-46.56740409%5D%2C%20%5B-23.53683806%2C%20-46.18034888%5D%2C%20%5B-23.52886504%2C%20-46.55899669%5D%2C%20%5B-23.62283195%2C%20-46.52416036%5D%2C%20%5B-23.61188164%2C%20-46.58087495%5D%2C%20%5B-23.49769871%2C%20-46.85388048%5D%2C%20%5B-23.60549417%2C%20-46.59490385%5D%2C%20%5B-23.60549417%2C%20-46.59490385%5D%2C%20%5B-23.69177851%2C%20-46.44859699%5D%2C%20%5B-23.71286115%2C%20-46.78186771%5D%2C%20%5B-23.64352587%2C%20-46.33966668%5D%2C%20%5B-23.58479675%2C%20-46.29779454%5D%2C%20%5B-23.69372593%2C%20-46.51379625%5D%2C%20%5B-23.58824117%2C%20-46.58984027%5D%2C%20%5B-23.71670014%2C%20-46.69750341%5D%2C%20%5B-23.61273663%2C%20-46.98830419%5D%2C%20%5B-23.46842496%2C%20-46.57390405%5D%2C%20%5B-23.53405765%2C%20-46.78330929%5D%2C%20%5B-23.44951191%2C%20-46.37696382%5D%2C%20%5B-23.6814663%2C%20-46.58884277%5D%2C%20%5B-23.54258761%2C%20-46.84915541%5D%2C%20%5B-23.53194863%2C%20-46.76285937%5D%2C%20%5B-23.69090179%2C%20-46.55842947%5D%2C%20%5B-23.69174742%2C%20-46.5028805%5D%2C%20%5B-23.69174742%2C%20-46.5028805%5D%2C%20%5B-23.55697761%2C%20-46.62747386%5D%2C%20%5B-23.55697761%2C%20-46.62747386%5D%2C%20%5B-23.58722919%2C%20-46.541549%5D%2C%20%5B-23.63782291%2C%20-46.48830694%5D%2C%20%5B-23.68245006%2C%20-46.5608958%5D%2C%20%5B-23.72034844%2C%20-46.62474794%5D%2C%20%5B-23.71586133%2C%20-46.84969994%5D%2C%20%5B-23.54246615%2C%20-46.63805551%5D%2C%20%5B-23.65349125%2C%20-46.67008033%5D%2C%20%5B-23.5736677%2C%20-46.64035564%5D%2C%20%5B-23.5736677%2C%20-46.64035564%5D%2C%20%5B-23.53610737%2C%20-46.45366175%5D%2C%20%5B-23.62072453%2C%20-46.67995258%5D%2C%20%5B-23.73239547%2C%20-46.79000615%5D%2C%20%5B-23.67261%2C%20-46.67592643%5D%2C%20%5B-23.61229235%2C%20-46.69546335%5D%2C%20%5B-23.45226083%2C%20-46.60480785%5D%2C%20%5B-23.45226083%2C%20-46.60480785%5D%2C%20%5B-23.77406156%2C%20-46.70526221%5D%2C%20%5B-23.52632036%2C%20-46.39998217%5D%2C%20%5B-23.53864414%2C%20-46.60421186%5D%2C%20%5B-23.60854684%2C%20-46.53171272%5D%2C%20%5B-23.53485599%2C%20-46.54342579%5D%2C%20%5B-23.53485599%2C%20-46.54342579%5D%2C%20%5B-23.54927951%2C%20-46.54666911%5D%2C%20%5B-23.67261%2C%20-46.67592643%5D%2C%20%5B-23.55449224%2C%20-46.53281454%5D%2C%20%5B-23.65789154%2C%20-46.43677007%5D%2C%20%5B-23.65789154%2C%20-46.43677007%5D%2C%20%5B-23.71286115%2C%20-46.78186771%5D%2C%20%5B-23.52138771%2C%20-46.19598149%5D%2C%20%5B-23.53079023%2C%20-46.90237099%5D%2C%20%5B-23.59694779%2C%20-46.39929798%5D%2C%20%5B-23.66522039%2C%20-46.59605392%5D%2C%20%5B-23.27649253%2C%20-46.74271864%5D%2C%20%5B-23.45049311%2C%20-46.4741228%5D%2C%20%5B-23.45512773%2C%20-46.51588445%5D%2C%20%5B-23.65578277%2C%20-46.5017306%5D%2C%20%5B-23.71286115%2C%20-46.78186771%5D%2C%20%5B-23.52230644%2C%20-46.43867266%5D%2C%20%5B-23.69835152%2C%20-46.50595162%5D%2C%20%5B-23.60757655%2C%20-46.57962283%5D%2C%20%5B-23.60098782%2C%20-46.60043308%5D%2C%20%5B-23.48152658%2C%20-46.67851055%5D%2C%20%5B-23.5462892%2C%20-46.62265372%5D%2C%20%5B-23.49367368%2C%20-46.40236319%5D%2C%20%5B-23.49367368%2C%20-46.40236319%5D%2C%20%5B-23.49367368%2C%20-46.40236319%5D%2C%20%5B-23.59490261%2C%20-46.4500557%5D%2C%20%5B-23.59490261%2C%20-46.4500557%5D%2C%20%5B-23.59490261%2C%20-46.4500557%5D%2C%20%5B-23.55223249%2C%20-46.44207124%5D%2C%20%5B-23.69575522%2C%20-46.62427817%5D%2C%20%5B-23.5202103%2C%20-46.77581889%5D%2C%20%5B-23.58004926%2C%20-46.79822713%5D%2C%20%5B-23.5189412%2C%20-46.83594169%5D%2C%20%5B-23.5189412%2C%20-46.83594169%5D%2C%20%5B-23.71286115%2C%20-46.78186771%5D%2C%20%5B-23.68920084%2C%20-46.61269576%5D%2C%20%5B-23.66093612%2C%20-46.6455045%5D%2C%20%5B-23.68794857%2C%20-46.59753962%5D%2C%20%5B-23.51610161%2C%20-46.18849618%5D%2C%20%5B-23.49846553%2C%20-46.70704301%5D%2C%20%5B-23.71286115%2C%20-46.78186771%5D%2C%20%5B-23.65140775%2C%20-46.44294446%5D%2C%20%5B-23.53452693%2C%20-46.64350961%5D%2C%20%5B-23.54939925%2C%20-46.63762441%5D%2C%20%5B-23.54612211%2C%20-46.89984263%5D%2C%20%5B-23.56431614%2C%20-46.41344989%5D%2C%20%5B-23.56431614%2C%20-46.41344989%5D%2C%20%5B-23.56551615%2C%20-46.59798844%5D%2C%20%5B-23.56551615%2C%20-46.59798844%5D%2C%20%5B-23.5982594%2C%20-46.43998506%5D%2C%20%5B-23.50167016%2C%20-46.37303468%5D%2C%20%5B-23.33416771%2C%20-46.72586298%5D%2C%20%5B-23.70270167%2C%20-46.51423105%5D%2C%20%5B-23.54323194%2C%20-46.63102858%5D%2C%20%5B-23.62969474%2C%20-46.68678397%5D%2C%20%5B-23.49525472%2C%20-46.40483637%5D%2C%20%5B-23.44570074%2C%20-46.74813102%5D%2C%20%5B-23.58771887%2C%20-46.598509%5D%2C%20%5B-23.71286115%2C%20-46.78186771%5D%2C%20%5B-23.53685991%2C%20-46.47514109%5D%2C%20%5B-23.5724445%2C%20-46.70495863%5D%2C%20%5B-23.5724445%2C%20-46.70495863%5D%2C%20%5B-23.55059194%2C%20-46.47873953%5D%2C%20%5B-23.78290205%2C%20-46.67933477%5D%2C%20%5B-23.65715875%2C%20-46.52369127%5D%2C%20%5B-23.60408945%2C%20-46.57048139%5D%2C%20%5B-23.66341927%2C%20-46.6092449%5D%2C%20%5B-23.44125453%2C%20-46.43969786%5D%2C%20%5B-23.56267532%2C%20-46.31161015%5D%2C%20%5B-23.56267532%2C%20-46.31161015%5D%2C%20%5B-23.53067729%2C%20-46.90349191%5D%2C%20%5B-23.44516745%2C%20-46.42381358%5D%2C%20%5B-23.51206158%2C%20-46.19717759%5D%2C%20%5B-23.4721941%2C%20-46.72491361%5D%2C%20%5B-23.47106754%2C%20-46.72230425%5D%2C%20%5B-23.48736623%2C%20-46.57885546%5D%2C%20%5B-23.5839328%2C%20-46.57626493%5D%2C%20%5B-23.67154213%2C%20-46.45883436%5D%2C%20%5B-23.46391696%2C%20-46.46744916%5D%2C%20%5B-23.55985882%2C%20-46.38196175%5D%2C%20%5B-23.55985882%2C%20-46.38196175%5D%2C%20%5B-23.52274966%2C%20-46.19775463%5D%2C%20%5B-23.5131914%2C%20-46.72696955%5D%2C%20%5B-23.52365232%2C%20-46.81839288%5D%2C%20%5B-23.59539884%2C%20-46.3412296%5D%2C%20%5B-23.48354421%2C%20-46.4678666%5D%2C%20%5B-23.71286115%2C%20-46.78186771%5D%2C%20%5B-23.71286115%2C%20-46.78186771%5D%2C%20%5B-23.55351806%2C%20-46.62789884%5D%2C%20%5B-23.61209395%2C%20-46.72199981%5D%2C%20%5B-23.52529564%2C%20-46.66421564%5D%2C%20%5B-23.60712584%2C%20-46.53150074%5D%2C%20%5B-23.60712584%2C%20-46.53150074%5D%2C%20%5B-23.64620291%2C%20-46.68960243%5D%2C%20%5B-23.64571307%2C%20-46.84342091%5D%2C%20%5B-23.42587239%2C%20-46.82436557%5D%2C%20%5B-23.42587239%2C%20-46.82436557%5D%2C%20%5B-23.52975555%2C%20-46.76534145%5D%2C%20%5B-23.71286115%2C%20-46.78186771%5D%2C%20%5B-23.71286115%2C%20-46.78186771%5D%2C%20%5B-23.71286115%2C%20-46.78186771%5D%2C%20%5B-23.57302388%2C%20-46.64018923%5D%2C%20%5B-23.57577825%2C%20-46.64306368%5D%2C%20%5B-23.43415569%2C%20-46.71975694%5D%2C%20%5B-23.57737352%2C%20-46.41073608%5D%2C%20%5B-23.56772954%2C%20-46.74281503%5D%2C%20%5B-23.71326347%2C%20-46.41520727%5D%2C%20%5B-23.53683806%2C%20-46.18034888%5D%2C%20%5B-23.71096035%2C%20-46.8492323%5D%2C%20%5B-23.52372661%2C%20-46.68539063%5D%2C%20%5B-23.52372661%2C%20-46.68539063%5D%2C%20%5B-23.52372661%2C%20-46.68539063%5D%2C%20%5B-23.79905115%2C%20-46.7100756%5D%2C%20%5B-23.48375926%2C%20-46.49521552%5D%2C%20%5B-23.64687094%2C%20-46.61386545%5D%2C%20%5B-23.54063014%2C%20-46.82283896%5D%2C%20%5B-23.54063014%2C%20-46.82283896%5D%2C%20%5B-23.71286115%2C%20-46.78186771%5D%2C%20%5B-23.71286115%2C%20-46.78186771%5D%2C%20%5B-23.71286115%2C%20-46.78186771%5D%2C%20%5B-23.6814663%2C%20-46.58884277%5D%2C%20%5B-23.71286115%2C%20-46.78186771%5D%2C%20%5B-23.55546876%2C%20-46.78646041%5D%2C%20%5B-23.56652998%2C%20-46.47457417%5D%2C%20%5B-23.66246424%2C%20-46.73626926%5D%2C%20%5B-23.71286115%2C%20-46.78186771%5D%2C%20%5B-23.71286115%2C%20-46.78186771%5D%2C%20%5B-23.71286115%2C%20-46.78186771%5D%2C%20%5B-23.52095371%2C%20-46.6253548%5D%2C%20%5B-23.61928962%2C%20-46.63944369%5D%2C%20%5B-23.5644826%2C%20-46.52369047%5D%2C%20%5B-23.59462062%2C%20-46.44415649%5D%2C%20%5B-23.66187956%2C%20-46.60510927%5D%2C%20%5B-23.52102439%2C%20-46.33345103%5D%2C%20%5B-23.48455257%2C%20-46.37686992%5D%2C%20%5B-23.5371176%2C%20-46.82559701%5D%2C%20%5B-23.55096163%2C%20-46.78525221%5D%2C%20%5B-23.73838239%2C%20-46.68463319%5D%2C%20%5B-23.54471653%2C%20-46.43537297%5D%2C%20%5B-23.32607164%2C%20-46.71208139%5D%2C%20%5B-23.59877107%2C%20-46.72886884%5D%2C%20%5B-23.51133334%2C%20-46.41617631%5D%2C%20%5B-23.51133334%2C%20-46.41617631%5D%2C%20%5B-23.61452753%2C%20-46.66871991%5D%2C%20%5B-23.50746533%2C%20-46.68938872%5D%2C%20%5B-23.4666052%2C%20-46.55621872%5D%2C%20%5B-23.49624074%2C%20-46.80751227%5D%2C%20%5B-23.44893893%2C%20-46.33815801%5D%2C%20%5B-23.57128956%2C%20-46.64430277%5D%2C%20%5B-23.57161304%2C%20-46.74282554%5D%2C%20%5B-23.55943399%2C%20-46.50298842%5D%2C%20%5B-23.53353769%2C%20-46.312363%5D%2C%20%5B-23.54249083%2C%20-46.77267388%5D%2C%20%5B-23.58689967%2C%20-46.76806969%5D%2C%20%5B-23.58088405%2C%20-46.55759971%5D%2C%20%5B-23.67162626%2C%20-46.64048536%5D%2C%20%5B-23.49823982%2C%20-46.42941268%5D%2C%20%5B-23.48011943%2C%20-46.4094225%5D%2C%20%5B-23.6791235%2C%20-46.57443089%5D%2C%20%5B-23.61928962%2C%20-46.63944369%5D%2C%20%5B-23.5387812%2C%20-46.36874141%5D%2C%20%5B-23.51839181%2C%20-46.58332152%5D%2C%20%5B-23.59049079%2C%20-46.75375804%5D%2C%20%5B-23.61327924%2C%20-46.49179163%5D%2C%20%5B-23.48316884%2C%20-46.67364297%5D%2C%20%5B-23.64867329%2C%20-46.60602016%5D%2C%20%5B-23.50104983%2C%20-46.8190299%5D%2C%20%5B-23.50104983%2C%20-46.8190299%5D%2C%20%5B-23.71286115%2C%20-46.78186771%5D%2C%20%5B-23.4856887%2C%20-46.72490738%5D%2C%20%5B-23.53597273%2C%20-46.63309561%5D%2C%20%5B-23.59003729%2C%20-46.61596667%5D%2C%20%5B-23.69244539%2C%20-46.58411192%5D%2C%20%5B-23.69402455%2C%20-46.80204697%5D%2C%20%5B-23.51662154%2C%20-46.78471879%5D%2C%20%5B-23.54114951%2C%20-46.86121099%5D%2C%20%5B-23.59138383%2C%20-46.29259024%5D%2C%20%5B-23.71286115%2C%20-46.78186771%5D%2C%20%5B-23.5131914%2C%20-46.72696955%5D%2C%20%5B-23.49846553%2C%20-46.70704301%5D%2C%20%5B-23.58344513%2C%20-46.5431251%5D%2C%20%5B-23.65439405%2C%20-46.65184154%5D%2C%20%5B-23.66084848%2C%20-46.66298994%5D%2C%20%5B-23.40428407%2C%20-46.76477996%5D%2C%20%5B-23.54471968%2C%20-46.40228632%5D%2C%20%5B-23.57383445%2C%20-46.77701406%5D%2C%20%5B-23.53136907%2C%20-46.53066013%5D%2C%20%5B-23.55067043%2C%20-46.46849151%5D%2C%20%5B-23.53978689%2C%20-46.62930092%5D%2C%20%5B-23.54383825%2C%20-46.64711811%5D%2C%20%5B-23.64166294%2C%20-46.64746675%5D%2C%20%5B-23.64247267%2C%20-46.78606036%5D%2C%20%5B-23.53688099%2C%20-46.64307573%5D%2C%20%5B-23.55172766%2C%20-46.49314562%5D%2C%20%5B-23.49372549%2C%20-46.46327707%5D%2C%20%5B-23.71286115%2C%20-46.78186771%5D%2C%20%5B-23.5079591%2C%20-46.70690021%5D%2C%20%5B-23.5079591%2C%20-46.70690021%5D%2C%20%5B-23.54938522%2C%20-46.63325723%5D%2C%20%5B-23.49899737%2C%20-46.43235429%5D%2C%20%5B-23.66182419%2C%20-46.60780557%5D%2C%20%5B-23.71286115%2C%20-46.78186771%5D%2C%20%5B-23.67207677%2C%20-46.62524054%5D%2C%20%5B-23.66658699%2C%20-46.46189948%5D%2C%20%5B-23.66705763%2C%20-46.61241459%5D%2C%20%5B-23.448758%2C%20-46.73474976%5D%2C%20%5B-23.52152922%2C%20-46.17391676%5D%2C%20%5B-23.66271751%2C%20-46.80398875%5D%2C%20%5B-23.54428547%2C%20-46.80124451%5D%2C%20%5B-23.66441651%2C%20-46.74599488%5D%2C%20%5B-23.56270684%2C%20-46.66717178%5D%2C%20%5B-23.71286115%2C%20-46.78186771%5D%2C%20%5B-23.71286115%2C%20-46.78186771%5D%2C%20%5B-23.63680756%2C%20-46.76918225%5D%2C%20%5B-23.53685991%2C%20-46.47514109%5D%2C%20%5B-23.53685991%2C%20-46.47514109%5D%2C%20%5B-23.66508433%2C%20-46.66056762%5D%2C%20%5B-23.6302542%2C%20-46.51289359%5D%2C%20%5B-23.67164584%2C%20-46.73456199%5D%2C%20%5B-23.6001112%2C%20-46.65893859%5D%2C%20%5B-23.6048371%2C%20-46.51026595%5D%2C%20%5B-23.6048371%2C%20-46.51026595%5D%2C%20%5B-23.69099383%2C%20-46.75169519%5D%2C%20%5B-23.53048684%2C%20-46.90337773%5D%2C%20%5B-23.53048684%2C%20-46.90337773%5D%2C%20%5B-23.50489295%2C%20-46.83244946%5D%2C%20%5B-23.52838555%2C%20-46.77547389%5D%2C%20%5B-23.71286115%2C%20-46.78186771%5D%2C%20%5B-23.71286115%2C%20-46.78186771%5D%2C%20%5B-23.71286115%2C%20-46.78186771%5D%2C%20%5B-23.71286115%2C%20-46.78186771%5D%2C%20%5B-23.56267532%2C%20-46.31161015%5D%2C%20%5B-23.47823468%2C%20-46.42398545%5D%2C%20%5B-23.71286115%2C%20-46.78186771%5D%2C%20%5B-23.6458069%2C%20-46.45084169%5D%2C%20%5B-23.71286115%2C%20-46.78186771%5D%2C%20%5B-23.66610183%2C%20-46.55943713%5D%2C%20%5B-23.66610183%2C%20-46.55943713%5D%2C%20%5B-23.60702288%2C%20-46.76258787%5D%2C%20%5B-23.49926499%2C%20-46.42592866%5D%2C%20%5B-23.49926499%2C%20-46.42592866%5D%2C%20%5B-23.69099383%2C%20-46.75169519%5D%2C%20%5B-23.52456097%2C%20-46.62547254%5D%2C%20%5B-23.56190573%2C%20-46.53569069%5D%2C%20%5B-23.56190573%2C%20-46.53569069%5D%2C%20%5B-23.58285819%2C%20-46.53550573%5D%2C%20%5B-23.58285819%2C%20-46.53550573%5D%2C%20%5B-23.65089114%2C%20-46.3336862%5D%2C%20%5B-23.68627%2C%20-46.6189689%5D%2C%20%5B-23.7464148%2C%20-46.79738156%5D%2C%20%5B-23.71286115%2C%20-46.78186771%5D%2C%20%5B-23.48354421%2C%20-46.4678666%5D%2C%20%5B-23.45829224%2C%20-46.70040409%5D%2C%20%5B-23.71286115%2C%20-46.78186771%5D%2C%20%5B-23.5454652%2C%20-46.63483231%5D%2C%20%5B-23.53857215%2C%20-46.60366247%5D%2C%20%5B-23.65284626%2C%20-46.66895818%5D%2C%20%5B-23.51774845%2C%20-46.58245104%5D%2C%20%5B-23.57429127%2C%20-46.50614774%5D%2C%20%5B-23.68040642%2C%20-46.46470253%5D%2C%20%5B-23.66091003%2C%20-46.65531253%5D%2C%20%5B-23.60737366%2C%20-46.5319076%5D%2C%20%5B-23.62283195%2C%20-46.52416036%5D%2C%20%5B-23.66755519%2C%20-46.44291735%5D%2C%20%5B-23.61188164%2C%20-46.58087495%5D%2C%20%5B-23.61188164%2C%20-46.58087495%5D%2C%20%5B-23.52780569%2C%20-46.66216712%5D%2C%20%5B-23.50173209%2C%20-46.53384176%5D%2C%20%5B-23.50173209%2C%20-46.53384176%5D%2C%20%5B-23.55772995%2C%20-46.49303628%5D%2C%20%5B-23.55772995%2C%20-46.49303628%5D%2C%20%5B-23.53857215%2C%20-46.60366247%5D%2C%20%5B-23.71632912%2C%20-46.69328336%5D%2C%20%5B-23.49532044%2C%20-46.74523643%5D%2C%20%5B-23.54494237%2C%20-46.48140807%5D%2C%20%5B-23.55540623%2C%20-46.75107831%5D%2C%20%5B-23.63709489%2C%20-46.82299885%5D%2C%20%5B-23.56857253%2C%20-46.79075571%5D%2C%20%5B-23.71286115%2C%20-46.78186771%5D%2C%20%5B-23.57737352%2C%20-46.41073608%5D%2C%20%5B-23.49548319%2C%20-46.6803388%5D%2C%20%5B-23.69829226%2C%20-46.62052603%5D%2C%20%5B-23.4856887%2C%20-46.72490738%5D%2C%20%5B-23.51774845%2C%20-46.58245104%5D%2C%20%5B-23.49202859%2C%20-46.44483324%5D%2C%20%5B-23.58966628%2C%20-46.51220059%5D%2C%20%5B-23.58966628%2C%20-46.51220059%5D%2C%20%5B-23.58966628%2C%20-46.51220059%5D%2C%20%5B-23.6588135%2C%20-46.59798789%5D%2C%20%5B-23.58004926%2C%20-46.79822713%5D%2C%20%5B-23.71286115%2C%20-46.78186771%5D%2C%20%5B-23.71286115%2C%20-46.78186771%5D%2C%20%5B-23.71286115%2C%20-46.78186771%5D%2C%20%5B-23.71286115%2C%20-46.78186771%5D%2C%20%5B-23.71286115%2C%20-46.78186771%5D%2C%20%5B-23.45829224%2C%20-46.70040409%5D%2C%20%5B-23.64799529%2C%20-46.4309036%5D%2C%20%5B-23.52802073%2C%20-46.19097074%5D%2C%20%5B-23.52054744%2C%20-46.74866462%5D%2C%20%5B-23.57045362%2C%20-46.63295233%5D%2C%20%5B-23.56227518%2C%20-46.57377428%5D%2C%20%5B-23.56227518%2C%20-46.57377428%5D%2C%20%5B-23.51971015%2C%20-46.65620796%5D%2C%20%5B-23.53262433%2C%20-46.48244147%5D%2C%20%5B-23.54814862%2C%20-46.8091457%5D%2C%20%5B-23.75546303%2C%20-46.80856292%5D%2C%20%5B-23.77406156%2C%20-46.70526221%5D%2C%20%5B-23.57241007%2C%20-46.56559788%5D%2C%20%5B-23.66627531%2C%20-46.65629022%5D%2C%20%5B-23.52156135%2C%20-46.76971558%5D%2C%20%5B-23.52156135%2C%20-46.76971558%5D%2C%20%5B-23.53414347%2C%20-46.83645581%5D%2C%20%5B-23.48861188%2C%20-46.71202005%5D%2C%20%5B-23.5049159%2C%20-46.7407096%5D%2C%20%5B-23.50872241%2C%20-46.65731534%5D%2C%20%5B-23.58235523%2C%20-46.50979253%5D%2C%20%5B-23.69853288%2C%20-46.59663271%5D%2C%20%5B-23.72652773%2C%20-46.57480994%5D%2C%20%5B-23.5454652%2C%20-46.63483231%5D%2C%20%5B-23.53857215%2C%20-46.60366247%5D%2C%20%5B-23.53857215%2C%20-46.60366247%5D%2C%20%5B-23.65591935%2C%20-46.66876123%5D%2C%20%5B-23.65591935%2C%20-46.66876123%5D%2C%20%5B-23.517135%2C%20-46.86726314%5D%2C%20%5B-23.49017725%2C%20-47.00105841%5D%2C%20%5B-23.71286115%2C%20-46.78186771%5D%2C%20%5B-23.71286115%2C%20-46.78186771%5D%2C%20%5B-23.71286115%2C%20-46.78186771%5D%2C%20%5B-23.51741949%2C%20-46.69920829%5D%2C%20%5B-23.53864414%2C%20-46.60421186%5D%2C%20%5B-23.53864414%2C%20-46.60421186%5D%2C%20%5B-23.55307562%2C%20-46.56758007%5D%2C%20%5B-23.49523591%2C%20-46.30691673%5D%2C%20%5B-23.58326785%2C%20-46.79367832%5D%2C%20%5B-23.57128956%2C%20-46.64430277%5D%2C%20%5B-23.57128956%2C%20-46.64430277%5D%2C%20%5B-23.58186536%2C%20-46.41532803%5D%2C%20%5B-23.68970991%2C%20-46.56957879%5D%2C%20%5B-23.55592269%2C%20-46.39173588%5D%2C%20%5B-23.62388971%2C%20-46.4754344%5D%2C%20%5B-23.58304161%2C%20-46.60681817%5D%2C%20%5B-23.48604668%2C%20-46.36517548%5D%2C%20%5B-23.59903657%2C%20-46.91872086%5D%2C%20%5B-23.645769%2C%20-46.69800553%5D%2C%20%5B-23.48710502%2C%20-46.41253279%5D%2C%20%5B-23.43433129%2C%20-46.72860066%5D%2C%20%5B-23.47934169%2C%20-46.695702%5D%2C%20%5B-23.58304161%2C%20-46.60681817%5D%2C%20%5B-23.48604668%2C%20-46.36517548%5D%2C%20%5B-23.53862304%2C%20-46.65182305%5D%2C%20%5B-23.53862304%2C%20-46.65182305%5D%2C%20%5B-23.43299485%2C%20-46.71751386%5D%2C%20%5B-23.71286115%2C%20-46.78186771%5D%2C%20%5B-23.69036669%2C%20-46.71323743%5D%2C%20%5B-23.65846052%2C%20-46.42943002%5D%2C%20%5B-23.65846052%2C%20-46.42943002%5D%2C%20%5B-23.46397681%2C%20-46.55289519%5D%2C%20%5B-23.54430479%2C%20-46.37477995%5D%2C%20%5B-23.71286115%2C%20-46.78186771%5D%2C%20%5B-23.51662154%2C%20-46.78471879%5D%2C%20%5B-23.43433129%2C%20-46.72860066%5D%2C%20%5B-23.60672572%2C%20-46.50753639%5D%2C%20%5B-23.68795196%2C%20-46.76787178%5D%2C%20%5B-23.50395341%2C%20-46.67387101%5D%2C%20%5B-23.50395341%2C%20-46.67387101%5D%2C%20%5B-23.69538671%2C%20-46.55300863%5D%2C%20%5B-23.59903657%2C%20-46.91872086%5D%2C%20%5B-23.59903657%2C%20-46.91872086%5D%2C%20%5B-23.71286115%2C%20-46.78186771%5D%2C%20%5B-23.50911371%2C%20-46.14518644%5D%2C%20%5B-23.50141573%2C%20-46.87140928%5D%2C%20%5B-23.49748607%2C%20-46.7229676%5D%2C%20%5B-23.49748607%2C%20-46.7229676%5D%2C%20%5B-23.55707841%2C%20-46.63304222%5D%2C%20%5B-23.56247932%2C%20-46.63886945%5D%2C%20%5B-23.5346014%2C%20-46.64516487%5D%2C%20%5B-23.43186579%2C%20-46.72042404%5D%2C%20%5B-23.67943198%2C%20-46.65586659%5D%2C%20%5B-23.67150263%2C%20-46.56740409%5D%2C%20%5B-23.67150263%2C%20-46.56740409%5D%2C%20%5B-23.37814456%2C%20-46.18636373%5D%2C%20%5B-23.61243905%2C%20-46.63903766%5D%2C%20%5B-23.54754397%2C%20-46.73657108%5D%2C%20%5B-23.48876939%2C%20-46.47816672%5D%2C%20%5B-23.45054393%2C%20-46.78939432%5D%2C%20%5B-23.45054393%2C%20-46.78939432%5D%2C%20%5B-23.64399744%2C%20-46.77961516%5D%2C%20%5B-23.72531155%2C%20-46.71687071%5D%2C%20%5B-23.72531155%2C%20-46.71687071%5D%2C%20%5B-23.48616638%2C%20-46.81335355%5D%2C%20%5B-23.71286115%2C%20-46.78186771%5D%2C%20%5B-23.71286115%2C%20-46.78186771%5D%2C%20%5B-23.53978689%2C%20-46.62930092%5D%2C%20%5B-23.53978689%2C%20-46.62930092%5D%2C%20%5B-23.583752%2C%20-46.6258423%5D%2C%20%5B-23.62328387%2C%20-46.6075742%5D%2C%20%5B-23.71286115%2C%20-46.78186771%5D%2C%20%5B-23.71286115%2C%20-46.78186771%5D%2C%20%5B-23.71286115%2C%20-46.78186771%5D%2C%20%5B-23.71286115%2C%20-46.78186771%5D%2C%20%5B-23.52054487%2C%20-46.57217432%5D%2C%20%5B-23.52054487%2C%20-46.57217432%5D%2C%20%5B-23.52054487%2C%20-46.57217432%5D%2C%20%5B-23.76349833%2C%20-46.70299214%5D%2C%20%5B-23.59089825%2C%20-46.52986993%5D%2C%20%5B-23.69835152%2C%20-46.50595162%5D%2C%20%5B-23.51009028%2C%20-46.83320627%5D%2C%20%5B-23.51009028%2C%20-46.83320627%5D%2C%20%5B-23.64523227%2C%20-46.44089055%5D%2C%20%5B-23.54230396%2C%20-46.63034177%5D%2C%20%5B-23.54230396%2C%20-46.63034177%5D%2C%20%5B-23.53862132%2C%20-46.70191866%5D%2C%20%5B-23.5036548%2C%20-46.45852488%5D%2C%20%5B-23.64166294%2C%20-46.64746675%5D%2C%20%5B-23.64166294%2C%20-46.64746675%5D%2C%20%5B-23.70571751%2C%20-46.70058818%5D%2C%20%5B-23.58421692%2C%20-46.67030406%5D%2C%20%5B-23.55172766%2C%20-46.49314562%5D%2C%20%5B-23.59882486%2C%20-46.51834832%5D%2C%20%5B-23.68783772%2C%20-46.69759957%5D%2C%20%5B-23.59282471%2C%20-46.80662548%5D%2C%20%5B-23.54668459%2C%20-46.48455924%5D%2C%20%5B-23.60672572%2C%20-46.50753639%5D%2C%20%5B-23.50395341%2C%20-46.67387101%5D%2C%20%5B-23.53452693%2C%20-46.64350961%5D%2C%20%5B-23.63384321%2C%20-46.64378676%5D%2C%20%5B-23.48781975%2C%20-46.47772334%5D%2C%20%5B-23.45174248%2C%20-46.69169042%5D%2C%20%5B-23.45174248%2C%20-46.69169042%5D%2C%20%5B-23.72531155%2C%20-46.71687071%5D%2C%20%5B-23.72531155%2C%20-46.71687071%5D%2C%20%5B-23.54911858%2C%20-46.50351019%5D%2C%20%5B-23.70231382%2C%20-46.54355775%5D%2C%20%5B-23.70515201%2C%20-46.62297816%5D%2C%20%5B-23.70515201%2C%20-46.62297816%5D%2C%20%5B-23.70795455%2C%20-46.60601039%5D%2C%20%5B-23.4596987%2C%20-46.52226474%5D%2C%20%5B-23.61298322%2C%20-46.76922077%5D%2C%20%5B-23.71286115%2C%20-46.78186771%5D%2C%20%5B-23.55546876%2C%20-46.78646041%5D%2C%20%5B-23.53728083%2C%20-46.65030141%5D%2C%20%5B-23.56652998%2C%20-46.47457417%5D%2C%20%5B-23.73455432%2C%20-46.78991693%5D%2C%20%5B-23.5590705%2C%20-46.58232091%5D%2C%20%5B-23.58736786%2C%20-46.4825334%5D%2C%20%5B-23.71910466%2C%20-46.62438032%5D%2C%20%5B-23.46391696%2C%20-46.46744916%5D%2C%20%5B-23.55985882%2C%20-46.38196175%5D%2C%20%5B-23.48806678%2C%20-46.36958169%5D%2C%20%5B-23.56956722%2C%20-46.53369726%5D%2C%20%5B-23.58287007%2C%20-46.56292397%5D%2C%20%5B-23.49748607%2C%20-46.7229676%5D%2C%20%5B-23.71286115%2C%20-46.78186771%5D%2C%20%5B-23.71286115%2C%20-46.78186771%5D%2C%20%5B-23.71286115%2C%20-46.78186771%5D%2C%20%5B-23.49474112%2C%20-46.5567709%5D%2C%20%5B-23.71286115%2C%20-46.78186771%5D%2C%20%5B-23.47823468%2C%20-46.42398545%5D%2C%20%5B-23.54510255%2C%20-46.46259914%5D%2C%20%5B-23.54510255%2C%20-46.46259914%5D%2C%20%5B-23.69835152%2C%20-46.50595162%5D%2C%20%5B-23.49534427%2C%20-46.81049829%5D%2C%20%5B-23.71286115%2C%20-46.78186771%5D%2C%20%5B-23.49817714%2C%20-46.22492479%5D%2C%20%5B-23.49817714%2C%20-46.22492479%5D%2C%20%5B-23.59061268%2C%20-46.82825658%5D%2C%20%5B-23.71286115%2C%20-46.78186771%5D%2C%20%5B-23.71286115%2C%20-46.78186771%5D%2C%20%5B-23.71286115%2C%20-46.78186771%5D%2C%20%5B-23.54336661%2C%20-46.44501929%5D%2C%20%5B-23.54336661%2C%20-46.44501929%5D%2C%20%5B-23.52330106%2C%20-46.48476416%5D%2C%20%5B-23.52925197%2C%20-46.56041576%5D%2C%20%5B-23.5414542%2C%20-46.60997906%5D%2C%20%5B-23.5414542%2C%20-46.60997906%5D%2C%20%5B-23.5414542%2C%20-46.60997906%5D%2C%20%5B-23.48634129%2C%20-46.50324793%5D%2C%20%5B-23.49652706%2C%20-46.70734456%5D%2C%20%5B-23.52518454%2C%20-46.74397742%5D%2C%20%5B-23.53513505%2C%20-46.63349116%5D%2C%20%5B-23.65911742%2C%20-46.66967622%5D%2C%20%5B-23.67651063%2C%20-46.68556409%5D%2C%20%5B-23.69440686%2C%20-46.76268269%5D%2C%20%5B-23.53652179%2C%20-46.6223353%5D%2C%20%5B-23.53652179%2C%20-46.6223353%5D%2C%20%5B-23.55943399%2C%20-46.50298842%5D%2C%20%5B-23.58354011%2C%20-46.54798029%5D%2C%20%5B-23.63375661%2C%20-46.7417866%5D%2C%20%5B-23.66604927%2C%20-46.66077947%5D%2C%20%5B-23.61047201%2C%20-46.70837245%5D%2C%20%5B-23.65199819%2C%20-46.49057282%5D%2C%20%5B-23.65199819%2C%20-46.49057282%5D%2C%20%5B-23.71286115%2C%20-46.78186771%5D%2C%20%5B-23.71286115%2C%20-46.78186771%5D%2C%20%5B-23.61799667%2C%20-46.61017036%5D%2C%20%5B-23.49114781%2C%20-46.44317855%5D%2C%20%5B-23.54372295%2C%20-46.734647%5D%2C%20%5B-23.66091003%2C%20-46.65531253%5D%2C%20%5B-23.49769871%2C%20-46.85388048%5D%2C%20%5B-23.54258761%2C%20-46.84915541%5D%2C%20%5B-23.71286115%2C%20-46.78186771%5D%2C%20%5B-23.71286115%2C%20-46.78186771%5D%2C%20%5B-23.52054487%2C%20-46.57217432%5D%2C%20%5B-23.60984621%2C%20-46.48769882%5D%2C%20%5B-23.6219631%2C%20-46.64002243%5D%2C%20%5B-23.76349833%2C%20-46.70299214%5D%2C%20%5B-23.76349833%2C%20-46.70299214%5D%2C%20%5B-23.60932654%2C%20-46.5964787%5D%2C%20%5B-23.57032604%2C%20-46.48112413%5D%2C%20%5B-23.73323544%2C%20-46.53898195%5D%2C%20%5B-23.73323544%2C%20-46.53898195%5D%2C%20%5B-23.45408947%2C%20-46.50893572%5D%2C%20%5B-23.54999016%2C%20-46.64620083%5D%2C%20%5B-23.66627531%2C%20-46.65629022%5D%2C%20%5B-23.57138972%2C%20-46.64431182%5D%2C%20%5B-23.52632036%2C%20-46.39998217%5D%2C%20%5B-23.45643789%2C%20-46.71844459%5D%2C%20%5B-23.59455717%2C%20-46.76467199%5D%2C%20%5B-23.69057317%2C%20-46.54215427%5D%2C%20%5B-23.71286115%2C%20-46.78186771%5D%2C%20%5B-23.57132985%2C%20-46.80320525%5D%2C%20%5B-23.54934861%2C%20-46.78156133%5D%2C%20%5B-23.68992016%2C%20-46.81705537%5D%2C%20%5B-23.53606949%2C%20-46.82654733%5D%2C%20%5B-23.53864414%2C%20-46.60421186%5D%2C%20%5B-23.54113321%2C%20-46.48568583%5D%2C%20%5B-23.66093612%2C%20-46.6455045%5D%2C%20%5B-23.54939925%2C%20-46.63762441%5D%2C%20%5B-23.59841542%2C%20-46.53356372%5D%2C%20%5B-23.60194557%2C%20-46.52616932%5D%2C%20%5B-23.60194557%2C%20-46.52616932%5D%2C%20%5B-23.64299191%2C%20-46.73625336%5D%2C%20%5B-23.64299191%2C%20-46.73625336%5D%2C%20%5B-23.78290205%2C%20-46.67933477%5D%2C%20%5B-23.78290205%2C%20-46.67933477%5D%2C%20%5B-23.60408945%2C%20-46.57048139%5D%2C%20%5B-23.50019514%2C%20-46.77610618%5D%2C%20%5B-23.58472835%2C%20-46.78106889%5D%2C%20%5B-23.5590705%2C%20-46.58232091%5D%2C%20%5B-23.69896859%2C%20-46.59800391%5D%2C%20%5B-23.71591174%2C%20-46.61274981%5D%2C%20%5B-23.48806678%2C%20-46.36958169%5D%2C%20%5B-23.53490756%2C%20-46.8164808%5D%2C%20%5B-23.58479675%2C%20-46.29779454%5D%2C%20%5B-23.54246615%2C%20-46.63805551%5D%2C%20%5B-23.55030593%2C%20-46.65460824%5D%2C%20%5B-23.72255624%2C%20-46.78543133%5D%2C%20%5B-23.72255624%2C%20-46.78543133%5D%2C%20%5B-23.53570552%2C%20-46.57347535%5D%2C%20%5B-23.4792951%2C%20-46.71220401%5D%2C%20%5B-23.59282471%2C%20-46.80662548%5D%2C%20%5B-23.67754205%2C%20-46.66864925%5D%2C%20%5B-23.56050308%2C%20-46.78227828%5D%2C%20%5B-23.7464148%2C%20-46.79738156%5D%2C%20%5B-23.5131914%2C%20-46.72696955%5D%2C%20%5B-23.5312874%2C%20-46.8562457%5D%2C%20%5B-23.45611635%2C%20-46.65621507%5D%2C%20%5B-23.71286115%2C%20-46.78186771%5D%2C%20%5B-23.71286115%2C%20-46.78186771%5D%2C%20%5B-23.71286115%2C%20-46.78186771%5D%2C%20%5B-23.59003729%2C%20-46.61596667%5D%2C%20%5B-23.64398179%2C%20-46.76742477%5D%2C%20%5B-23.62273687%2C%20-46.44675723%5D%2C%20%5B-23.58150209%2C%20-46.6388044%5D%2C%20%5B-23.59282471%2C%20-46.80662548%5D%2C%20%5B-23.59282471%2C%20-46.80662548%5D%2C%20%5B-23.49168562%2C%20-46.57453145%5D%2C%20%5B-23.67261%2C%20-46.67592643%5D%2C%20%5B-23.52065484%2C%20-46.70566478%5D%2C%20%5B-23.52274966%2C%20-46.19775463%5D%2C%20%5B-23.54336661%2C%20-46.44501929%5D%2C%20%5B-23.54336661%2C%20-46.44501929%5D%2C%20%5B-23.53513505%2C%20-46.63349116%5D%2C%20%5B-23.65911742%2C%20-46.66967622%5D%2C%20%5B-23.48375926%2C%20-46.49521552%5D%2C%20%5B-23.48375926%2C%20-46.49521552%5D%2C%20%5B-23.56553816%2C%20-46.66635257%5D%2C%20%5B-23.69829226%2C%20-46.62052603%5D%2C%20%5B-23.69829226%2C%20-46.62052603%5D%2C%20%5B-23.55170044%2C%20-46.44037685%5D%2C%20%5B-23.55170044%2C%20-46.44037685%5D%2C%20%5B-23.52838555%2C%20-46.77547389%5D%2C%20%5B-23.603784%2C%20-46.79204787%5D%2C%20%5B-23.75300318%2C%20-46.68865044%5D%2C%20%5B-23.68387896%2C%20-46.76095896%5D%2C%20%5B-23.71286115%2C%20-46.78186771%5D%2C%20%5B-23.71286115%2C%20-46.78186771%5D%2C%20%5B-23.71286115%2C%20-46.78186771%5D%2C%20%5B-23.65901516%2C%20-46.55990537%5D%2C%20%5B-23.55226027%2C%20-46.51099733%5D%2C%20%5B-23.64827439%2C%20-46.57907703%5D%2C%20%5B-23.64827439%2C%20-46.57907703%5D%2C%20%5B-23.68883391%2C%20-46.62582429%5D%2C%20%5B-23.71286115%2C%20-46.78186771%5D%2C%20%5B-23.65636594%2C%20-46.57363456%5D%2C%20%5B-23.4921198%2C%20-46.32372647%5D%2C%20%5B-23.53353769%2C%20-46.312363%5D%2C%20%5B-23.64603397%2C%20-46.80221251%5D%2C%20%5B-23.53606949%2C%20-46.82654733%5D%2C%20%5B-23.71286115%2C%20-46.78186771%5D%2C%20%5B-23.69370093%2C%20-46.60250462%5D%2C%20%5B-23.54323413%2C%20-46.62937204%5D%2C%20%5B-23.59003729%2C%20-46.61596667%5D%2C%20%5B-23.67207677%2C%20-46.62524054%5D%2C%20%5B-23.66658699%2C%20-46.46189948%5D%2C%20%5B-23.66658699%2C%20-46.46189948%5D%2C%20%5B-23.66658699%2C%20-46.46189948%5D%2C%20%5B-23.66658699%2C%20-46.46189948%5D%2C%20%5B-23.67614226%2C%20-46.45371506%5D%2C%20%5B-23.67614226%2C%20-46.45371506%5D%2C%20%5B-23.259806%2C%20-46.59006214%5D%2C%20%5B-23.53466968%2C%20-46.30930096%5D%2C%20%5B-23.55449224%2C%20-46.53281454%5D%2C%20%5B-23.60167297%2C%20-46.47402165%5D%2C%20%5B-23.52138771%2C%20-46.19598149%5D%2C%20%5B-23.67763077%2C%20-46.75758393%5D%2C%20%5B-23.67763077%2C%20-46.75758393%5D%2C%20%5B-23.53292015%2C%20-46.56335896%5D%2C%20%5B-23.57022088%2C%20-46.54063395%5D%2C%20%5B-23.50517523%2C%20-46.43277598%5D%2C%20%5B-23.45488784%2C%20-46.88594986%5D%2C%20%5B-23.71286115%2C%20-46.78186771%5D%2C%20%5B-23.71286115%2C%20-46.78186771%5D%2C%20%5B-23.71286115%2C%20-46.78186771%5D%2C%20%5B-23.48124839%2C%20-46.41149355%5D%2C%20%5B-23.48124839%2C%20-46.41149355%5D%2C%20%5B-23.54478303%2C%20-46.26308175%5D%2C%20%5B-23.54478303%2C%20-46.26308175%5D%2C%20%5B-23.52560433%2C%20-46.34425034%5D%2C%20%5B-23.53281942%2C%20-46.36179846%5D%2C%20%5B-23.6485767%2C%20-46.84754695%5D%2C%20%5B-23.54960502%2C%20-46.74794943%5D%2C%20%5B-23.53373112%2C%20-46.3926289%5D%2C%20%5B-23.67164584%2C%20-46.73456199%5D%2C%20%5B-23.7229239%2C%20-46.69157677%5D%2C%20%5B-23.76347845%2C%20-46.67435074%5D%2C%20%5B-23.62273687%2C%20-46.44675723%5D%2C%20%5B-23.50111818%2C%20-46.74208854%5D%2C%20%5B-23.75300318%2C%20-46.68865044%5D%2C%20%5B-23.65901516%2C%20-46.55990537%5D%2C%20%5B-23.67207677%2C%20-46.62524054%5D%2C%20%5B-23.66658699%2C%20-46.46189948%5D%2C%20%5B-23.66658699%2C%20-46.46189948%5D%2C%20%5B-23.59973309%2C%20-46.62683168%5D%2C%20%5B-23.59973309%2C%20-46.62683168%5D%2C%20%5B-23.54628927%2C%20-46.6142834%5D%2C%20%5B-23.6048371%2C%20-46.51026595%5D%2C%20%5B-23.56594802%2C%20-46.59408086%5D%2C%20%5B-23.56190573%2C%20-46.53569069%5D%2C%20%5B-23.58285819%2C%20-46.53550573%5D%2C%20%5B-23.4856887%2C%20-46.72490738%5D%2C%20%5B-23.50215534%2C%20-46.16293292%5D%2C%20%5B-23.71286115%2C%20-46.78186771%5D%2C%20%5B-23.65089114%2C%20-46.3336862%5D%2C%20%5B-23.65089114%2C%20-46.3336862%5D%2C%20%5B-23.46945189%2C%20-46.5203627%5D%2C%20%5B-23.71286115%2C%20-46.78186771%5D%2C%20%5B-23.60890971%2C%20-46.52540829%5D%2C%20%5B-23.58020805%2C%20-46.86260938%5D%2C%20%5B-23.5371176%2C%20-46.82559701%5D%2C%20%5B-23.71286115%2C%20-46.78186771%5D%2C%20%5B-23.71286115%2C%20-46.78186771%5D%2C%20%5B-23.58689967%2C%20-46.76806969%5D%2C%20%5B-23.58088405%2C%20-46.55759971%5D%2C%20%5B-23.67614226%2C%20-46.45371506%5D%2C%20%5B-23.53466968%2C%20-46.30930096%5D%2C%20%5B-23.68041274%2C%20-46.27180525%5D%2C%20%5B-23.68041274%2C%20-46.27180525%5D%2C%20%5B-23.7095705%2C%20-46.6997398%5D%2C%20%5B-23.42729424%2C%20-46.43647192%5D%2C%20%5B-23.57216439%2C%20-46.72527208%5D%2C%20%5B-23.58227592%2C%20-46.41449017%5D%2C%20%5B-23.51374313%2C%20-46.56495329%5D%2C%20%5B-23.69295974%2C%20-46.66536297%5D%2C%20%5B-23.65461497%2C%20-46.7068508%5D%2C%20%5B-23.57629334%2C%20-46.58727549%5D%2C%20%5B-23.71286115%2C%20-46.78186771%5D%2C%20%5B-23.71286115%2C%20-46.78186771%5D%2C%20%5B-23.71286115%2C%20-46.78186771%5D%2C%20%5B-23.60078432%2C%20-46.57701582%5D%2C%20%5B-23.64468709%2C%20-46.70043209%5D%2C%20%5B-23.48011943%2C%20-46.4094225%5D%2C%20%5B-23.48011943%2C%20-46.4094225%5D%2C%20%5B-23.69244539%2C%20-46.58411192%5D%2C%20%5B-23.33416771%2C%20-46.72586298%5D%2C%20%5B-23.46397681%2C%20-46.55289519%5D%2C%20%5B-23.5734879%2C%20-46.75679139%5D%2C%20%5B-23.49101352%2C%20-46.69466191%5D%2C%20%5B-23.53051809%2C%20-46.41669723%5D%2C%20%5B-23.53051809%2C%20-46.41669723%5D%2C%20%5B-23.58404729%2C%20-46.49210565%5D%2C%20%5B-23.44627965%2C%20-46.45715666%5D%2C%20%5B-23.63289772%2C%20-46.30554095%5D%2C%20%5B-23.49496025%2C%20-46.35841655%5D%2C%20%5B-23.51651632%2C%20-46.37261388%5D%2C%20%5B-23.53891101%2C%20-46.64071851%5D%2C%20%5B-23.65922244%2C%20-46.65698261%5D%2C%20%5B-23.65429538%2C%20-46.77422567%5D%2C%20%5B-23.57418479%2C%20-46.61552869%5D%2C%20%5B-23.84870102%2C%20-46.70118724%5D%2C%20%5B-23.84870102%2C%20-46.70118724%5D%2C%20%5B-23.71782913%2C%20-46.70116081%5D%2C%20%5B-23.54485451%2C%20-46.93244436%5D%2C%20%5B-23.71286115%2C%20-46.78186771%5D%2C%20%5B-23.48788062%2C%20-46.77332035%5D%2C%20%5B-23.5458481%2C%20-46.54360603%5D%2C%20%5B-23.60181856%2C%20-46.53768639%5D%2C%20%5B-23.60181856%2C%20-46.53768639%5D%2C%20%5B-23.71782913%2C%20-46.70116081%5D%2C%20%5B-23.57902182%2C%20-46.49644853%5D%2C%20%5B-23.5049159%2C%20-46.7407096%5D%2C%20%5B-23.5587867%2C%20-46.5366056%5D%2C%20%5B-23.69853288%2C%20-46.59663271%5D%2C%20%5B-23.54628927%2C%20-46.6142834%5D%2C%20%5B-23.54628927%2C%20-46.6142834%5D%2C%20%5B-23.6001112%2C%20-46.65893859%5D%2C%20%5B-23.60250366%2C%20-46.72735939%5D%2C%20%5B-23.65042416%2C%20-46.63893993%5D%2C%20%5B-23.73502261%2C%20-46.6958359%5D%2C%20%5B-23.48194556%2C%20-46.69217386%5D%2C%20%5B-23.53271428%2C%20-46.90084873%5D%2C%20%5B-23.53271428%2C%20-46.90084873%5D%2C%20%5B-23.53271428%2C%20-46.90084873%5D%2C%20%5B-23.71286115%2C%20-46.78186771%5D%2C%20%5B-23.48616638%2C%20-46.81335355%5D%2C%20%5B-23.48616638%2C%20-46.81335355%5D%2C%20%5B-23.48616638%2C%20-46.81335355%5D%2C%20%5B-23.48616638%2C%20-46.81335355%5D%2C%20%5B-23.48616638%2C%20-46.81335355%5D%2C%20%5B-23.47103556%2C%20-46.72128418%5D%2C%20%5B-23.47103556%2C%20-46.72128418%5D%2C%20%5B-23.47790982%2C%20-46.64501462%5D%2C%20%5B-23.55275822%2C%20-46.6476569%5D%2C%20%5B-23.55275822%2C%20-46.6476569%5D%2C%20%5B-23.74070595%2C%20-46.6820291%5D%2C%20%5B-23.49447467%2C%20-46.43865692%5D%2C%20%5B-23.69316719%2C%20-46.58657137%5D%2C%20%5B-23.71834175%2C%20-46.58235931%5D%2C%20%5B-23.65089114%2C%20-46.3336862%5D%2C%20%5B-23.65089114%2C%20-46.3336862%5D%2C%20%5B-23.46945189%2C%20-46.5203627%5D%2C%20%5B-23.75269298%2C%20-46.81896463%5D%2C%20%5B-23.5117474%2C%20-46.89921031%5D%2C%20%5B-23.73612292%2C%20-46.88231878%5D%2C%20%5B-23.49017725%2C%20-47.00105841%5D%2C%20%5B-23.71286115%2C%20-46.78186771%5D%2C%20%5B-23.71286115%2C%20-46.78186771%5D%2C%20%5B-23.71286115%2C%20-46.78186771%5D%2C%20%5B-23.57418479%2C%20-46.61552869%5D%2C%20%5B-23.53262433%2C%20-46.48244147%5D%2C%20%5B-23.57902182%2C%20-46.49644853%5D%2C%20%5B-23.57902182%2C%20-46.49644853%5D%2C%20%5B-23.57902182%2C%20-46.49644853%5D%2C%20%5B-23.48861188%2C%20-46.71202005%5D%2C%20%5B-23.583752%2C%20-46.6258423%5D%2C%20%5B-23.62328387%2C%20-46.6075742%5D%2C%20%5B-23.70571751%2C%20-46.70058818%5D%2C%20%5B-23.66938803%2C%20-46.60085451%5D%2C%20%5B-23.66938803%2C%20-46.60085451%5D%2C%20%5B-23.66938803%2C%20-46.60085451%5D%2C%20%5B-23.71286115%2C%20-46.78186771%5D%2C%20%5B-23.5079591%2C%20-46.70690021%5D%2C%20%5B-23.5079591%2C%20-46.70690021%5D%2C%20%5B-23.5079591%2C%20-46.70690021%5D%2C%20%5B-23.54756975%2C%20-46.42501183%5D%2C%20%5B-23.54756975%2C%20-46.42501183%5D%2C%20%5B-23.51343006%2C%20-46.41792881%5D%2C%20%5B-23.63400173%2C%20-46.69433131%5D%2C%20%5B-23.48899773%2C%20-46.36431038%5D%2C%20%5B-23.47750164%2C%20-46.71547694%5D%2C%20%5B-23.47750164%2C%20-46.71547694%5D%2C%20%5B-23.59071143%2C%20-46.54023988%5D%2C%20%5B-23.72528592%2C%20-46.57488498%5D%2C%20%5B-23.4778911%2C%20-46.68308373%5D%2C%20%5B-23.5587867%2C%20-46.5366056%5D%2C%20%5B-23.58235523%2C%20-46.50979253%5D%2C%20%5B-23.63942724%2C%20-46.56803147%5D%2C%20%5B-23.5142687%2C%20-46.35361995%5D%2C%20%5B-23.5142687%2C%20-46.35361995%5D%2C%20%5B-23.52005437%2C%20-46.78100414%5D%2C%20%5B-23.6186355%2C%20-46.64315982%5D%2C%20%5B-23.58410999%2C%20-46.40901317%5D%2C%20%5B-23.72401924%2C%20-46.76429544%5D%2C%20%5B-23.54458665%2C%20-46.64453537%5D%2C%20%5B-23.49474112%2C%20-46.5567709%5D%2C%20%5B-23.56270684%2C%20-46.66717178%5D%2C%20%5B-23.70401259%2C%20-46.60561409%5D%2C%20%5B-23.4341502%2C%20-46.56350784%5D%2C%20%5B-23.45224008%2C%20-46.47624065%5D%2C%20%5B-23.51006455%2C%20-46.37029826%5D%2C%20%5B-23.51006455%2C%20-46.37029826%5D%2C%20%5B-23.73002291%2C%20-46.7874467%5D%2C%20%5B-23.66519732%2C%20-46.33488743%5D%2C%20%5B-23.71286115%2C%20-46.78186771%5D%2C%20%5B-23.71286115%2C%20-46.78186771%5D%2C%20%5B-23.71286115%2C%20-46.78186771%5D%2C%20%5B-23.57801247%2C%20-46.55653035%5D%2C%20%5B-23.68014755%2C%20-46.78892856%5D%2C%20%5B-23.75862091%2C%20-46.66768516%5D%2C%20%5B-23.56896025%2C%20-46.75077527%5D%2C%20%5B-23.46489688%2C%20-46.51310334%5D%2C%20%5B-23.53942348%2C%20-46.80105207%5D%2C%20%5B-23.52571503%2C%20-46.6059593%5D%2C%20%5B-23.53348833%2C%20-46.6649831%5D%2C%20%5B-23.53348833%2C%20-46.6649831%5D%2C%20%5B-23.53272782%2C%20-46.6227857%5D%2C%20%5B-23.44288794%2C%20-46.79653543%5D%2C%20%5B-23.50332502%2C%20-46.8283027%5D%2C%20%5B-23.71286115%2C%20-46.78186771%5D%2C%20%5B-23.45829224%2C%20-46.70040409%5D%2C%20%5B-23.53857215%2C%20-46.60366247%5D%2C%20%5B-23.53857215%2C%20-46.60366247%5D%2C%20%5B-23.53857215%2C%20-46.60366247%5D%2C%20%5B-23.65591935%2C%20-46.66876123%5D%2C%20%5B-23.68867938%2C%20-46.61895915%5D%2C%20%5B-23.61799667%2C%20-46.61017036%5D%2C%20%5B-23.49114781%2C%20-46.44317855%5D%2C%20%5B-23.54372295%2C%20-46.734647%5D%2C%20%5B-23.66860639%2C%20-46.76212332%5D%2C%20%5B-23.54173711%2C%20-46.64764593%5D%2C%20%5B-23.57801247%2C%20-46.55653035%5D%2C%20%5B-23.41137759%2C%20-46.75334806%5D%2C%20%5B-23.67943198%2C%20-46.65586659%5D%2C%20%5B-23.67943198%2C%20-46.65586659%5D%2C%20%5B-23.56866157%2C%20-46.64559236%5D%2C%20%5B-23.61799667%2C%20-46.61017036%5D%2C%20%5B-23.55925672%2C%20-46.64527853%5D%2C%20%5B-23.69835152%2C%20-46.50595162%5D%2C%20%5B-23.69953852%2C%20-46.59408517%5D%2C%20%5B-23.69953852%2C%20-46.59408517%5D%2C%20%5B-23.53537511%2C%20-46.56211385%5D%2C%20%5B-23.53648454%2C%20-46.36528568%5D%2C%20%5B-23.51009028%2C%20-46.83320627%5D%2C%20%5B-23.51009028%2C%20-46.83320627%5D%2C%20%5B-23.59862745%2C%20-46.84201575%5D%2C%20%5B-23.60737366%2C%20-46.5319076%5D%2C%20%5B-23.60737366%2C%20-46.5319076%5D%2C%20%5B-23.49009839%2C%20-46.55306014%5D%2C%20%5B-23.54258761%2C%20-46.84915541%5D%2C%20%5B-23.54258761%2C%20-46.84915541%5D%2C%20%5B-23.53194863%2C%20-46.76285937%5D%2C%20%5B-23.59605824%2C%20-46.7895743%5D%2C%20%5B-23.63718611%2C%20-46.59370262%5D%2C%20%5B-23.63753738%2C%20-46.58068144%5D%2C%20%5B-23.5827041%2C%20-46.5659472%5D%2C%20%5B-23.59330872%2C%20-46.61018429%5D%2C%20%5B-23.72162639%2C%20-46.7628028%5D%2C%20%5B-23.72162639%2C%20-46.7628028%5D%2C%20%5B-23.72162639%2C%20-46.7628028%5D%2C%20%5B-23.4861385%2C%20-46.7559323%5D%2C%20%5B-23.4861385%2C%20-46.7559323%5D%2C%20%5B-23.49986738%2C%20-46.72399786%5D%2C%20%5B-23.69953852%2C%20-46.59408517%5D%2C%20%5B-23.44532127%2C%20-46.50592929%5D%2C%20%5B-23.71286115%2C%20-46.78186771%5D%2C%20%5B-23.71286115%2C%20-46.78186771%5D%2C%20%5B-23.67256576%2C%20-46.63099249%5D%2C%20%5B-23.64523227%2C%20-46.44089055%5D%2C%20%5B-23.47116434%2C%20-46.5575389%5D%2C%20%5B-23.71286115%2C%20-46.78186771%5D%2C%20%5B-23.29121488%2C%20-46.86630298%5D%2C%20%5B-23.56368503%2C%20-46.61931946%5D%2C%20%5B-23.77406156%2C%20-46.70526221%5D%2C%20%5B-23.77406156%2C%20-46.70526221%5D%2C%20%5B-23.59455717%2C%20-46.76467199%5D%2C%20%5B-23.41721123%2C%20-46.80110973%5D%2C%20%5B-23.55307562%2C%20-46.56758007%5D%2C%20%5B-23.71286115%2C%20-46.78186771%5D%2C%20%5B-23.67256576%2C%20-46.63099249%5D%2C%20%5B-23.58274513%2C%20-46.55028043%5D%2C%20%5B-23.6219631%2C%20-46.64002243%5D%2C%20%5B-23.65140775%2C%20-46.44294446%5D%2C%20%5B-23.53452693%2C%20-46.64350961%5D%2C%20%5B-23.65379809%2C%20-46.70689025%5D%2C%20%5B-23.63384321%2C%20-46.64378676%5D%2C%20%5B-23.54939925%2C%20-46.63762441%5D%2C%20%5B-23.48781975%2C%20-46.47772334%5D%2C%20%5B-23.54157147%2C%20-46.6408031%5D%2C%20%5B-23.64599424%2C%20-46.70978998%5D%2C%20%5B-23.58262505%2C%20-46.5647961%5D%2C%20%5B-23.57118308%2C%20-46.48277923%5D%2C%20%5B-23.66960155%2C%20-46.65709364%5D%2C%20%5B-23.57214091%2C%20-46.72453225%5D%2C%20%5B-23.57566146%2C%20-46.74087937%5D%2C%20%5B-23.67676377%2C%20-46.7130374%5D%2C%20%5B-23.48677545%2C%20-46.70291895%5D%2C%20%5B-23.69206856%2C%20-46.43941555%5D%2C%20%5B-23.67117421%2C%20-46.57320461%5D%2C%20%5B-23.51206158%2C%20-46.19717759%5D%2C%20%5B-23.75186491%2C%20-46.81859162%5D%2C%20%5B-23.57339042%2C%20-46.78087328%5D%2C%20%5B-23.57339042%2C%20-46.78087328%5D%2C%20%5B-23.5839328%2C%20-46.57626493%5D%2C%20%5B-23.49935459%2C%20-46.42884371%5D%2C%20%5B-23.69896859%2C%20-46.59800391%5D%2C%20%5B-23.67154213%2C%20-46.45883436%5D%2C%20%5B-23.67676377%2C%20-46.7130374%5D%2C%20%5B-23.48677545%2C%20-46.70291895%5D%2C%20%5B-23.48677545%2C%20-46.70291895%5D%2C%20%5B-23.69206856%2C%20-46.43941555%5D%2C%20%5B-23.64800126%2C%20-46.64017886%5D%2C%20%5B-23.52628103%2C%20-46.40021323%5D%2C%20%5B-23.52628103%2C%20-46.40021323%5D%2C%20%5B-23.52628103%2C%20-46.40021323%5D%2C%20%5B-23.52628103%2C%20-46.40021323%5D%2C%20%5B-23.48539749%2C%20-46.69619789%5D%2C%20%5B-23.59508927%2C%20-46.76543193%5D%2C%20%5B-23.59508927%2C%20-46.76543193%5D%2C%20%5B-23.4596987%2C%20-46.52226474%5D%2C%20%5B-23.53511804%2C%20-46.3153016%5D%2C%20%5B-23.49911784%2C%20-46.78798342%5D%2C%20%5B-23.71286115%2C%20-46.78186771%5D%2C%20%5B-23.71286115%2C%20-46.78186771%5D%2C%20%5B-23.71632912%2C%20-46.69328336%5D%2C%20%5B-23.55628027%2C%20-46.48459081%5D%2C%20%5B-23.55628027%2C%20-46.48459081%5D%2C%20%5B-23.63349077%2C%20-46.6926431%5D%2C%20%5B-23.49532044%2C%20-46.74523643%5D%2C%20%5B-23.47934169%2C%20-46.695702%5D%2C%20%5B-23.54323413%2C%20-46.62937204%5D%2C%20%5B-23.67609057%2C%20-46.75012315%5D%2C%20%5B-23.50914809%2C%20-46.68334869%5D%2C%20%5B-23.58917874%2C%20-46.33116516%5D%2C%20%5B-23.51107065%2C%20-46.293259%5D%2C%20%5B-23.51107065%2C%20-46.293259%5D%2C%20%5B-23.4625414%2C%20-46.46681694%5D%2C%20%5B-23.53511804%2C%20-46.3153016%5D%2C%20%5B-23.71286115%2C%20-46.78186771%5D%2C%20%5B-23.71286115%2C%20-46.78186771%5D%2C%20%5B-23.68820751%2C%20-46.62506357%5D%2C%20%5B-23.50177914%2C%20-46.4400152%5D%2C%20%5B-23.54500015%2C%20-46.64356972%5D%2C%20%5B-23.53223999%2C%20-46.61868948%5D%2C%20%5B-23.68642656%2C%20-46.79389825%5D%2C%20%5B-23.68642656%2C%20-46.79389825%5D%2C%20%5B-23.59514278%2C%20-46.57208363%5D%2C%20%5B-23.42587239%2C%20-46.82436557%5D%2C%20%5B-23.71286115%2C%20-46.78186771%5D%2C%20%5B-23.58304161%2C%20-46.60681817%5D%2C%20%5B-23.58304161%2C%20-46.60681817%5D%2C%20%5B-23.48604668%2C%20-46.36517548%5D%2C%20%5B-23.59903657%2C%20-46.91872086%5D%2C%20%5B-23.59903657%2C%20-46.91872086%5D%2C%20%5B-23.66016552%2C%20-46.61751482%5D%2C%20%5B-23.48699086%2C%20-46.69286584%5D%2C%20%5B-23.52518454%2C%20-46.74397742%5D%2C%20%5B-23.52518454%2C%20-46.74397742%5D%2C%20%5B-23.61864686%2C%20-46.57052133%5D%2C%20%5B-23.61864686%2C%20-46.57052133%5D%2C%20%5B-23.77956039%2C%20-46.82242485%5D%2C%20%5B-23.77956039%2C%20-46.82242485%5D%2C%20%5B-23.77956039%2C%20-46.82242485%5D%2C%20%5B-23.53513505%2C%20-46.63349116%5D%2C%20%5B-23.79905115%2C%20-46.7100756%5D%2C%20%5B-23.65911742%2C%20-46.66967622%5D%2C%20%5B-23.48375926%2C%20-46.49521552%5D%2C%20%5B-23.59903657%2C%20-46.91872086%5D%2C%20%5B-23.59903657%2C%20-46.91872086%5D%2C%20%5B-23.59903657%2C%20-46.91872086%5D%2C%20%5B-23.59903657%2C%20-46.91872086%5D%2C%20%5B-23.55311159%2C%20-46.63486544%5D%2C%20%5B-23.67291105%2C%20-46.64428653%5D%2C%20%5B-23.67291105%2C%20-46.64428653%5D%2C%20%5B-23.58131002%2C%20-46.58586311%5D%2C%20%5B-23.58131002%2C%20-46.58586311%5D%2C%20%5B-23.71286115%2C%20-46.78186771%5D%2C%20%5B-23.71286115%2C%20-46.78186771%5D%2C%20%5B-23.71286115%2C%20-46.78186771%5D%2C%20%5B-23.69783168%2C%20-46.51938009%5D%2C%20%5B-23.53891101%2C%20-46.64071851%5D%2C%20%5B-23.53652179%2C%20-46.6223353%5D%2C%20%5B-23.50809787%2C%20-46.68570338%5D%2C%20%5B-23.65636594%2C%20-46.57363456%5D%2C%20%5B-23.67571968%2C%20-46.62107395%5D%2C%20%5B-23.4921198%2C%20-46.32372647%5D%2C%20%5B-23.4921198%2C%20-46.32372647%5D%2C%20%5B-23.64603397%2C%20-46.80221251%5D%2C%20%5B-23.50597917%2C%20-46.70626559%5D%2C%20%5B-23.43433129%2C%20-46.72860066%5D%2C%20%5B-23.43433129%2C%20-46.72860066%5D%2C%20%5B-23.59282471%2C%20-46.80662548%5D%2C%20%5B-23.68795196%2C%20-46.76787178%5D%2C%20%5B-23.50395341%2C%20-46.67387101%5D%2C%20%5B-23.5539055%2C%20-46.67147251%5D%2C%20%5B-23.63194561%2C%20-46.33223426%5D%2C%20%5B-23.54500015%2C%20-46.64356972%5D%2C%20%5B-23.55189023%2C%20-46.63543574%5D%2C%20%5B-23.59514278%2C%20-46.57208363%5D%2C%20%5B-23.48634129%2C%20-46.50324793%5D%2C%20%5B-23.75945647%2C%20-46.71951815%5D%2C%20%5B-23.75945647%2C%20-46.71951815%5D%2C%20%5B-23.68735677%2C%20-46.66987176%5D%2C%20%5B-23.61037997%2C%20-46.46182215%5D%2C%20%5B-23.51957486%2C%20-46.38730999%5D%2C%20%5B-23.67968445%2C%20-46.49733311%5D%2C%20%5B-23.63217825%2C%20-46.58409139%5D%2C%20%5B-23.53597273%2C%20-46.63309561%5D%2C%20%5B-23.59003729%2C%20-46.61596667%5D%2C%20%5B-23.66084848%2C%20-46.66298994%5D%2C%20%5B-23.5365432%2C%20-46.42997894%5D%2C%20%5B-23.5365432%2C%20-46.42997894%5D%2C%20%5B-23.68450221%2C%20-46.6080117%5D%2C%20%5B-23.50911371%2C%20-46.14518644%5D%2C%20%5B-23.71286115%2C%20-46.78186771%5D%2C%20%5B-23.71286115%2C%20-46.78186771%5D%2C%20%5B-23.71286115%2C%20-46.78186771%5D%2C%20%5B-23.52518454%2C%20-46.74397742%5D%2C%20%5B-23.45153245%2C%20-46.57037499%5D%2C%20%5B-23.45153245%2C%20-46.57037499%5D%2C%20%5B-23.6390573%2C%20-46.50037818%5D%2C%20%5B-23.60760769%2C%20-46.57165207%5D%2C%20%5B-23.60760769%2C%20-46.57165207%5D%2C%20%5B-23.65331721%2C%20-46.70641397%5D%2C%20%5B-23.63424208%2C%20-46.75558598%5D%2C%20%5B-23.72367634%2C%20-46.68224433%5D%2C%20%5B-23.72367634%2C%20-46.68224433%5D%2C%20%5B-23.69052277%2C%20-46.66342679%5D%2C%20%5B-23.59738122%2C%20-46.40406849%5D%2C%20%5B-23.60883677%2C%20-46.52452903%5D%2C%20%5B-23.57967165%2C%20-46.5025361%5D%2C%20%5B-23.57967165%2C%20-46.5025361%5D%2C%20%5B-23.59542467%2C%20-46.74542201%5D%2C%20%5B-23.75300318%2C%20-46.68865044%5D%2C%20%5B-23.47276205%2C%20-46.69097077%5D%2C%20%5B-23.71286115%2C%20-46.78186771%5D%2C%20%5B-23.65901516%2C%20-46.55990537%5D%2C%20%5B-23.66658699%2C%20-46.46189948%5D%2C%20%5B-23.66658699%2C%20-46.46189948%5D%2C%20%5B-23.70566996%2C%20-46.55788619%5D%2C%20%5B-23.66991778%2C%20-46.57880501%5D%2C%20%5B-23.31600271%2C%20-46.58261125%5D%2C%20%5B-23.56294711%2C%20-46.79802909%5D%2C%20%5B-23.56294711%2C%20-46.79802909%5D%2C%20%5B-23.69418259%2C%20-46.55351285%5D%2C%20%5B-23.74785636%2C%20-46.57733118%5D%2C%20%5B-23.7975346%2C%20-46.58102081%5D%2C%20%5B-23.47017582%2C%20-46.39889021%5D%2C%20%5B-23.47017582%2C%20-46.39889021%5D%2C%20%5B-23.58157885%2C%20-46.54546321%5D%2C%20%5B-23.66705763%2C%20-46.61241459%5D%2C%20%5B-23.66705763%2C%20-46.61241459%5D%2C%20%5B-23.44844658%2C%20-46.5210697%5D%2C%20%5B-23.259806%2C%20-46.59006214%5D%2C%20%5B-23.64513785%2C%20-46.84537864%5D%2C%20%5B-23.68041274%2C%20-46.27180525%5D%2C%20%5B-23.56850125%2C%20-46.79062771%5D%2C%20%5B-23.71286115%2C%20-46.78186771%5D%2C%20%5B-23.70658086%2C%20-46.7004302%5D%2C%20%5B-23.6128579%2C%20-46.49393286%5D%2C%20%5B-23.71286115%2C%20-46.78186771%5D%2C%20%5B-23.60944655%2C%20-46.59640765%5D%2C%20%5B-23.48790505%2C%20-46.71884644%5D%2C%20%5B-23.61978556%2C%20-46.70244372%5D%2C%20%5B-23.53008594%2C%20-46.6519374%5D%2C%20%5B-23.54628927%2C%20-46.6142834%5D%2C%20%5B-23.55848723%2C%20-46.68741881%5D%2C%20%5B-23.56296681%2C%20-46.51075652%5D%2C%20%5B-23.65376545%2C%20-46.74121724%5D%2C%20%5B-23.65461497%2C%20-46.7068508%5D%2C%20%5B-23.6902539%2C%20-46.69774167%5D%2C%20%5B-23.53925535%2C%20-46.51951879%5D%2C%20%5B-23.53925535%2C%20-46.51951879%5D%2C%20%5B-23.63597608%2C%20-46.57130939%5D%2C%20%5B-23.52558875%2C%20-46.68177249%5D%2C%20%5B-23.63773263%2C%20-46.65974123%5D%2C%20%5B-23.63773263%2C%20-46.65974123%5D%2C%20%5B-23.63773263%2C%20-46.65974123%5D%2C%20%5B-23.50060041%2C%20-46.59026992%5D%2C%20%5B-23.60872867%2C%20-46.55285355%5D%2C%20%5B-23.60872867%2C%20-46.55285355%5D%2C%20%5B-23.49226474%2C%20-46.42889471%5D%2C%20%5B-23.49226474%2C%20-46.42889471%5D%2C%20%5B-23.49226474%2C%20-46.42889471%5D%2C%20%5B-23.71286115%2C%20-46.78186771%5D%2C%20%5B-23.71286115%2C%20-46.78186771%5D%2C%20%5B-23.71286115%2C%20-46.78186771%5D%2C%20%5B-23.71286115%2C%20-46.78186771%5D%2C%20%5B-23.71286115%2C%20-46.78186771%5D%2C%20%5B-23.64050153%2C%20-46.796568%5D%2C%20%5B-23.53394884%2C%20-46.6553552%5D%2C%20%5B-23.44328154%2C%20-46.75850339%5D%2C%20%5B-23.50177914%2C%20-46.4400152%5D%2C%20%5B-23.58404729%2C%20-46.49210565%5D%2C%20%5B-23.58150209%2C%20-46.6388044%5D%2C%20%5B-23.58150209%2C%20-46.6388044%5D%2C%20%5B-23.59282471%2C%20-46.80662548%5D%2C%20%5B-23.54323413%2C%20-46.62937204%5D%2C%20%5B-23.54323413%2C%20-46.62937204%5D%2C%20%5B-23.62165545%2C%20-46.62924871%5D%2C%20%5B-23.63346916%2C%20-46.76735151%5D%2C%20%5B-23.66705356%2C%20-46.65707865%5D%2C%20%5B-23.55412378%2C%20-46.50848223%5D%2C%20%5B-23.48867087%2C%20-46.71475273%5D%2C%20%5B-23.48867087%2C%20-46.71475273%5D%2C%20%5B-23.4792951%2C%20-46.71220401%5D%2C%20%5B-23.59282471%2C%20-46.80662548%5D%2C%20%5B-23.49496025%2C%20-46.35841655%5D%2C%20%5B-23.6446516%2C%20-46.84487651%5D%2C%20%5B-23.54485451%2C%20-46.93244436%5D%2C%20%5B-23.59498123%2C%20-46.84277277%5D%2C%20%5B-23.52829849%2C%20-46.77627492%5D%2C%20%5B-23.52798507%2C%20-46.55655543%5D%2C%20%5B-23.71286115%2C%20-46.78186771%5D%2C%20%5B-23.5749261%2C%20-46.55440913%5D%2C%20%5B-23.73452602%2C%20-46.69323932%5D%2C%20%5B-23.71286115%2C%20-46.78186771%5D%2C%20%5B-23.71286115%2C%20-46.78186771%5D%2C%20%5B-23.71286115%2C%20-46.78186771%5D%2C%20%5B-23.52071034%2C%20-46.47565008%5D%2C%20%5B-23.66500767%2C%20-46.6962731%5D%2C%20%5B-23.48699086%2C%20-46.69286584%5D%2C%20%5B-23.60757655%2C%20-46.57962283%5D%2C%20%5B-23.6761642%2C%20-46.46165852%5D%2C%20%5B-23.69575932%2C%20-46.6023432%5D%2C%20%5B-23.69575932%2C%20-46.6023432%5D%2C%20%5B-23.6337132%2C%20-46.50987498%5D%2C%20%5B-23.67121482%2C%20-46.58514317%5D%2C%20%5B-23.67121482%2C%20-46.58514317%5D%2C%20%5B-23.68498641%2C%20-46.62497872%5D%2C%20%5B-23.49702504%2C%20-46.29231205%5D%2C%20%5B-23.5539206%2C%20-46.36894795%5D%2C%20%5B-23.52798507%2C%20-46.55655543%5D%2C%20%5B-23.52798507%2C%20-46.55655543%5D%2C%20%5B-23.61614858%2C%20-46.63595997%5D%2C%20%5B-23.65225031%2C%20-46.63704265%5D%2C%20%5B-23.54307889%2C%20-46.67653533%5D%2C%20%5B-23.49123021%2C%20-46.44030432%5D%2C%20%5B-23.48733594%2C%20-46.68289546%5D%2C%20%5B-23.76742688%2C%20-46.68418521%5D%2C%20%5B-23.55226027%2C%20-46.51099733%5D%2C%20%5B-23.59738122%2C%20-46.40406849%5D%2C%20%5B-23.59738122%2C%20-46.40406849%5D%2C%20%5B-23.5771889%2C%20-46.6027319%5D%2C%20%5B-23.60883677%2C%20-46.52452903%5D%2C%20%5B-23.60883677%2C%20-46.52452903%5D%2C%20%5B-23.49254128%2C%20-46.57490729%5D%2C%20%5B-23.58439098%2C%20-46.63423345%5D%2C%20%5B-23.65042416%2C%20-46.63893993%5D%2C%20%5B-23.48194556%2C%20-46.69217386%5D%2C%20%5B-23.56594802%2C%20-46.59408086%5D%2C%20%5B-23.56190573%2C%20-46.53569069%5D%2C%20%5B-23.68627%2C%20-46.6189689%5D%2C%20%5B-23.66626367%2C%20-46.61098251%5D%2C%20%5B-23.72528592%2C%20-46.57488498%5D%2C%20%5B-23.70401259%2C%20-46.60561409%5D%2C%20%5B-23.70401259%2C%20-46.60561409%5D%2C%20%5B-23.66298619%2C%20-46.60657838%5D%2C%20%5B-23.73579969%2C%20-46.58826992%5D%2C%20%5B-23.45224008%2C%20-46.47624065%5D%2C%20%5B-23.45224008%2C%20-46.47624065%5D%2C%20%5B-23.45224008%2C%20-46.47624065%5D%2C%20%5B-23.62351298%2C%20-46.47727091%5D%2C%20%5B-23.54769291%2C%20-46.6219741%5D%2C%20%5B-23.54769291%2C%20-46.6219741%5D%2C%20%5B-23.69939247%2C%20-46.55198277%5D%2C%20%5B-23.49406009%2C%20-46.55259062%5D%2C%20%5B-23.47644028%2C%20-46.69099691%5D%2C%20%5B-23.57967165%2C%20-46.5025361%5D%2C%20%5B-23.69418259%2C%20-46.55351285%5D%2C%20%5B-23.7975346%2C%20-46.58102081%5D%2C%20%5B-23.7975346%2C%20-46.58102081%5D%2C%20%5B-23.5117474%2C%20-46.89921031%5D%2C%20%5B-23.5117474%2C%20-46.89921031%5D%2C%20%5B-23.66631239%2C%20-46.71723548%5D%2C%20%5B-23.47339362%2C%20-46.69028069%5D%2C%20%5B-23.47677692%2C%20-46.57993754%5D%2C%20%5B-23.47677692%2C%20-46.57993754%5D%2C%20%5B-23.73002291%2C%20-46.7874467%5D%2C%20%5B-23.53597103%2C%20-46.76343996%5D%2C%20%5B-23.53597103%2C%20-46.76343996%5D%2C%20%5B-23.48732883%2C%20-46.88289995%5D%2C%20%5B-23.57045362%2C%20-46.63295233%5D%2C%20%5B-23.56227518%2C%20-46.57377428%5D%2C%20%5B-23.57902182%2C%20-46.49644853%5D%2C%20%5B-23.57902182%2C%20-46.49644853%5D%2C%20%5B-23.61574985%2C%20-46.50042096%5D%2C%20%5B-23.4778911%2C%20-46.68308373%5D%2C%20%5B-23.51643212%2C%20-46.3667782%5D%2C%20%5B-23.68622868%2C%20-46.75127018%5D%2C%20%5B-23.59278877%2C%20-46.76704004%5D%2C%20%5B-23.45738234%2C%20-46.68197223%5D%2C%20%5B-23.59097936%2C%20-46.64890152%5D%2C%20%5B-23.51956843%2C%20-46.75589%5D%2C%20%5B-23.53622277%2C%20-46.28631586%5D%2C%20%5B-23.68745003%2C%20-47.02096687%5D%2C%20%5B-23.5427316%2C%20-45.9909844%5D%2C%20%5B-23.52838555%2C%20-46.77547389%5D%2C%20%5B-23.52157608%2C%20-46.89252138%5D%2C%20%5B-23.52157608%2C%20-46.89252138%5D%2C%20%5B-23.52157608%2C%20-46.89252138%5D%2C%20%5B-23.52157608%2C%20-46.89252138%5D%2C%20%5B-23.71286115%2C%20-46.78186771%5D%2C%20%5B-23.71286115%2C%20-46.78186771%5D%2C%20%5B-23.71286115%2C%20-46.78186771%5D%2C%20%5B-23.52560433%2C%20-46.34425034%5D%2C%20%5B-23.6485767%2C%20-46.84754695%5D%2C%20%5B-23.6485767%2C%20-46.84754695%5D%2C%20%5B-23.49945696%2C%20-46.32332948%5D%2C%20%5B-23.54960502%2C%20-46.74794943%5D%2C%20%5B-23.55906915%2C%20-46.67285065%5D%2C%20%5B-23.71286115%2C%20-46.78186771%5D%2C%20%5B-23.52412094%2C%20-46.63186553%5D%2C%20%5B-23.65922244%2C%20-46.65698261%5D%2C%20%5B-23.65429538%2C%20-46.77422567%5D%2C%20%5B-23.53348833%2C%20-46.6649831%5D%2C%20%5B-23.53272782%2C%20-46.6227857%5D%2C%20%5B-23.65621709%2C%20-46.76256862%5D%2C%20%5B-23.68930743%2C%20-46.63755444%5D%2C%20%5B-23.5587867%2C%20-46.5366056%5D%2C%20%5B-23.58235523%2C%20-46.50979253%5D%2C%20%5B-23.62389593%2C%20-46.55077855%5D%2C%20%5B-23.517135%2C%20-46.86726314%5D%2C%20%5B-23.49017725%2C%20-47.00105841%5D%2C%20%5B-23.45724833%2C%20-46.68398238%5D%2C%20%5B-23.59153228%2C%20-46.54046704%5D%2C%20%5B-23.50610268%2C%20-46.75649891%5D%2C%20%5B-23.57730789%2C%20-46.70426141%5D%2C%20%5B-23.56882899%2C%20-46.75856858%5D%2C%20%5B-23.56803591%2C%20-46.75840108%5D%2C%20%5B-23.47103556%2C%20-46.72128418%5D%2C%20%5B-23.57071762%2C%20-46.70024722%5D%2C%20%5B-23.55275822%2C%20-46.6476569%5D%2C%20%5B-23.74070595%2C%20-46.6820291%5D%2C%20%5B-23.68930743%2C%20-46.63755444%5D%2C%20%5B-23.71286115%2C%20-46.78186771%5D%2C%20%5B-23.5827041%2C%20-46.5659472%5D%2C%20%5B-23.5827041%2C%20-46.5659472%5D%2C%20%5B-23.5269005%2C%20-46.17832593%5D%2C%20%5B-23.59356351%2C%20-46.63666678%5D%2C%20%5B-23.59356351%2C%20-46.63666678%5D%2C%20%5B-23.5508637%2C%20-46.64642453%5D%2C%20%5B-23.71286115%2C%20-46.78186771%5D%2C%20%5B-23.51836148%2C%20-46.70330049%5D%2C%20%5B-23.52558875%2C%20-46.68177249%5D%2C%20%5B-23.66681788%2C%20-46.56255987%5D%2C%20%5B-23.68907513%2C%20-46.56924357%5D%2C%20%5B-23.69494436%2C%20-46.28785332%5D%2C%20%5B-23.65429538%2C%20-46.77422567%5D%2C%20%5B-23.47103556%2C%20-46.72128418%5D%2C%20%5B-23.47103556%2C%20-46.72128418%5D%2C%20%5B-23.47790982%2C%20-46.64501462%5D%2C%20%5B-23.68435996%2C%20-46.63307561%5D%2C%20%5B-23.49447467%2C%20-46.43865692%5D%2C%20%5B-23.29121488%2C%20-46.86630298%5D%2C%20%5B-23.58262505%2C%20-46.5647961%5D%2C%20%5B-23.56867%2C%20-46.54316928%5D%2C%20%5B-23.59573348%2C%20-46.41288198%5D%2C%20%5B-23.71535084%2C%20-46.7028907%5D%2C%20%5B-23.54048224%2C%20-46.43219387%5D%2C%20%5B-23.54048224%2C%20-46.43219387%5D%2C%20%5B-23.53394884%2C%20-46.6553552%5D%2C%20%5B-23.57216439%2C%20-46.72527208%5D%2C%20%5B-23.58227592%2C%20-46.41449017%5D%2C%20%5B-23.65962553%2C%20-46.75205882%5D%2C%20%5B-23.73974079%2C%20-46.7065183%5D%2C%20%5B-23.65576268%2C%20-46.71588364%5D%2C%20%5B-23.65576268%2C%20-46.71588364%5D%2C%20%5B-23.5851857%2C%20-46.74616267%5D%2C%20%5B-23.57118308%2C%20-46.48277923%5D%2C%20%5B-23.73801522%2C%20-46.69248765%5D%2C%20%5B-23.50914809%2C%20-46.68334869%5D%2C%20%5B-23.67509099%2C%20-46.50694978%5D%2C%20%5B-23.63277971%2C%20-46.49630057%5D%2C%20%5B-23.70426545%2C%20-46.59118651%5D%2C%20%5B-23.45125543%2C%20-46.46474984%5D%2C%20%5B-23.45159625%2C%20-46.51269345%5D%2C%20%5B-23.50778858%2C%20-46.6830621%5D%2C%20%5B-23.49447467%2C%20-46.43865692%5D%2C%20%5B-23.69316719%2C%20-46.58657137%5D%2C%20%5B-23.45136156%2C%20-46.51576445%5D%2C%20%5B-23.39677523%2C%20-46.65369675%5D%2C%20%5B-23.59554931%2C%20-46.54806037%5D%2C%20%5B-23.58404729%2C%20-46.49210565%5D%2C%20%5B-23.44627965%2C%20-46.45715666%5D%2C%20%5B-23.5131914%2C%20-46.72696955%5D%2C%20%5B-23.5458481%2C%20-46.54360603%5D%2C%20%5B-23.47529547%2C%20-46.55408964%5D%2C%20%5B-23.40877095%2C%20-46.86964997%5D%2C%20%5B-23.71286115%2C%20-46.78186771%5D%2C%20%5B-23.71286115%2C%20-46.78186771%5D%2C%20%5B-23.71286115%2C%20-46.78186771%5D%2C%20%5B-23.5346014%2C%20-46.64516487%5D%2C%20%5B-23.43186579%2C%20-46.72042404%5D%2C%20%5B-23.75862091%2C%20-46.66768516%5D%2C%20%5B-23.71286115%2C%20-46.78186771%5D%2C%20%5B-23.71286115%2C%20-46.78186771%5D%2C%20%5B-23.52005437%2C%20-46.78100414%5D%2C%20%5B-23.53511113%2C%20-46.65024843%5D%2C%20%5B-23.71780309%2C%20-46.84953791%5D%2C%20%5B-23.56291013%2C%20-46.78167127%5D%2C%20%5B-23.56291013%2C%20-46.78167127%5D%2C%20%5B-23.51107065%2C%20-46.293259%5D%2C%20%5B-23.44292817%2C%20-46.31443265%5D%2C%20%5B-23.44292817%2C%20-46.31443265%5D%2C%20%5B-23.62154386%2C%20-46.78360441%5D%2C%20%5B-23.57245315%2C%20-46.69002638%5D%2C%20%5B-23.57245315%2C%20-46.69002638%5D%2C%20%5B-23.66196858%2C%20-46.5441367%5D%2C%20%5B-23.63291723%2C%20-46.60422203%5D%2C%20%5B-23.48446754%2C%20-46.38502938%5D%2C%20%5B-23.61273663%2C%20-46.98830419%5D%2C%20%5B-23.56896025%2C%20-46.75077527%5D%2C%20%5B-23.59089825%2C%20-46.52986993%5D%2C%20%5B-23.53648454%2C%20-46.36528568%5D%2C%20%5B-23.51009028%2C%20-46.83320627%5D%2C%20%5B-23.60181856%2C%20-46.53768639%5D%2C%20%5B-23.54173108%2C%20-46.63681739%5D%2C%20%5B-23.58410999%2C%20-46.40901317%5D%2C%20%5B-23.47648661%2C%20-46.70495843%5D%2C%20%5B-23.47648661%2C%20-46.70495843%5D%2C%20%5B-23.66443087%2C%20-46.50926866%5D%2C%20%5B-23.55575023%2C%20-46.24803611%5D%2C%20%5B-23.60564291%2C%20-47.01643612%5D%2C%20%5B-23.59330872%2C%20-46.61018429%5D%2C%20%5B-23.48899773%2C%20-46.36431038%5D%2C%20%5B-23.59556898%2C%20-46.78415476%5D%2C%20%5B-23.54307889%2C%20-46.67653533%5D%2C%20%5B-23.59071143%2C%20-46.54023988%5D%2C%20%5B-23.62605098%2C%20-46.53688895%5D%2C%20%5B-23.62605098%2C%20-46.53688895%5D%2C%20%5B-23.58274513%2C%20-46.55028043%5D%2C%20%5B-23.5036548%2C%20-46.45852488%5D%2C%20%5B-23.66960155%2C%20-46.65709364%5D%2C%20%5B-23.57214091%2C%20-46.72453225%5D%2C%20%5B-23.50531134%2C%20-46.3778265%5D%2C%20%5B-23.50531134%2C%20-46.3778265%5D%2C%20%5B-23.62932037%2C%20-46.5211891%5D%2C%20%5B-23.62932037%2C%20-46.5211891%5D%2C%20%5B-23.60426404%2C%20-46.57079204%5D%2C%20%5B-23.46957694%2C%20-46.52653601%5D%2C%20%5B-23.47366596%2C%20-46.55934955%5D%2C%20%5B-23.73558357%2C%20-46.78118076%5D%2C%20%5B-23.73558357%2C%20-46.78118076%5D%2C%20%5B-23.55538239%2C%20-46.62774898%5D%2C%20%5B-23.55538239%2C%20-46.62774898%5D%2C%20%5B-23.50162943%2C%20-46.41232786%5D%2C%20%5B-23.57138972%2C%20-46.64431182%5D%2C%20%5B-23.57571114%2C%20-46.7463154%5D%2C%20%5B-23.50441443%2C%20-46.42227659%5D%2C%20%5B-23.6986242%2C%20-46.67294957%5D%2C%20%5B-23.55331215%2C%20-46.57178581%5D%2C%20%5B-23.72203689%2C%20-46.54953078%5D%2C%20%5B-23.57566146%2C%20-46.74087937%5D%2C%20%5B-23.71286115%2C%20-46.78186771%5D%2C%20%5B-23.70795455%2C%20-46.60601039%5D%2C%20%5B-23.4596987%2C%20-46.52226474%5D%2C%20%5B-23.60634256%2C%20-46.56915932%5D%2C%20%5B-23.5083858%2C%20-46.61558236%5D%2C%20%5B-23.49683051%2C%20-46.31780768%5D%2C%20%5B-23.71286115%2C%20-46.78186771%5D%2C%20%5B-23.5995229%2C%20-46.76573162%5D%2C%20%5B-23.55491536%2C%20-46.60624084%5D%2C%20%5B-23.55386301%2C%20-46.78735556%5D%2C%20%5B-23.71286115%2C%20-46.78186771%5D%2C%20%5B-23.71286115%2C%20-46.78186771%5D%2C%20%5B-23.5142687%2C%20-46.35361995%5D%2C%20%5B-23.66298619%2C%20-46.60657838%5D%2C%20%5B-23.4341502%2C%20-46.56350784%5D%2C%20%5B-23.66462641%2C%20-46.45086963%5D%2C%20%5B-23.63922013%2C%20-46.59284357%5D%2C%20%5B-23.57824722%2C%20-46.6362724%5D%2C%20%5B-23.57824722%2C%20-46.6362724%5D%2C%20%5B-23.59330872%2C%20-46.61018429%5D%2C%20%5B-23.70973624%2C%20-46.70030088%5D%2C%20%5B-23.70973624%2C%20-46.70030088%5D%2C%20%5B-23.59746885%2C%20-46.76853321%5D%2C%20%5B-23.49986738%2C%20-46.72399786%5D%2C%20%5B-23.81721843%2C%20-46.70580343%5D%2C%20%5B-23.71586133%2C%20-46.84969994%5D%2C%20%5B-23.48152658%2C%20-46.67851055%5D%2C%20%5B-23.54219552%2C%20-46.57453284%5D%2C%20%5B-23.6732371%2C%20-46.48315654%5D%2C%20%5B-23.67117421%2C%20-46.57320461%5D%2C%20%5B-23.69171498%2C%20-46.44672809%5D%2C%20%5B-23.46968598%2C%20-46.52476689%5D%2C%20%5B-23.71286115%2C%20-46.78186771%5D%2C%20%5B-23.75186491%2C%20-46.81859162%5D%2C%20%5B-23.75186491%2C%20-46.81859162%5D%2C%20%5B-23.64542523%2C%20-46.77055823%5D%2C%20%5B-23.68735677%2C%20-46.66987176%5D%2C%20%5B-23.58106758%2C%20-46.75421897%5D%5D%2C%0A%20%20%20%20%20%20%20%20%20%20%20%20%20%20%20%20%7B%22blur%22%3A%2015%2C%20%22maxZoom%22%3A%2018%2C%20%22minOpacity%22%3A%200.5%2C%20%22radius%22%3A%2025%7D%0A%20%20%20%20%20%20%20%20%20%20%20%20%29.addTo%28map_51013638e5ad444e8cfa9cd956b3eb77%29%3B%0A%20%20%20%20%20%20%20%20%0A%3C/script%3E onload=\"this.contentDocument.open();this.contentDocument.write(    decodeURIComponent(this.getAttribute('data-html')));this.contentDocument.close();\" allowfullscreen webkitallowfullscreen mozallowfullscreen></iframe></div></div>"
            ],
            "text/plain": [
              "<folium.folium.Map at 0x7fdd55894cc0>"
            ]
          },
          "metadata": {
            "tags": []
          },
          "execution_count": 106
        }
      ]
    },
    {
      "cell_type": "markdown",
      "metadata": {
        "id": "kYnqXH8vTF_u"
      },
      "source": [
        "# **4.1 salvar imagem e disponibizar via api**"
      ]
    },
    {
      "cell_type": "code",
      "metadata": {
        "id": "FOYMBz40TFkY"
      },
      "source": [
        "import os\r\n",
        "try:\r\n",
        "  os.mkdir('templates')\r\n",
        "except OSError:\r\n",
        "  print('pasta templates já está criada')\r\n",
        "  pass\r\n",
        "mapa.save('templates/image.html')"
      ],
      "execution_count": null,
      "outputs": []
    },
    {
      "cell_type": "code",
      "metadata": {
        "id": "KQ_ndV7pZBHP"
      },
      "source": [
        "!pip install flask-ngrok\r\n",
        "!pip install flask==0.12.2 "
      ],
      "execution_count": null,
      "outputs": []
    },
    {
      "cell_type": "markdown",
      "metadata": {
        "id": "uivh-yZbCDHy"
      },
      "source": [
        "# 4.1.1 **funções para retornar agruamentos e quantitativos**"
      ]
    },
    {
      "cell_type": "code",
      "metadata": {
        "colab": {
          "base_uri": "https://localhost:8080/"
        },
        "id": "bw70wvfiEb63",
        "outputId": "43a8bedf-d267-4674-e353-1052bf867658"
      },
      "source": [
        "print(vars(data['RUBRICA'].value_counts()))"
      ],
      "execution_count": 111,
      "outputs": [
        {
          "output_type": "stream",
          "text": [
            "{'_is_copy': None, '_mgr': SingleBlockManager\n",
            "Items: Index(['Roubo', 'Lesao corporal', 'Drogas', 'Furto', 'Furto qualificado',\n",
            "       'Lesao culposa por veiculo', 'Homicidio', 'Estupro de vulneravel',\n",
            "       'Homicidio qualificado', 'Estupro', 'Homicidio culposo por veiculo',\n",
            "       'Lesao corporal de natureza GRAVE', 'Lesao corporal seguida de morte',\n",
            "       'Homicidio culposo'],\n",
            "      dtype='object')\n",
            "IntBlock: 14 dtype: int64, '_item_cache': {}, '_attrs': {}, '_name': 'RUBRICA', '_index': Index(['Roubo', 'Lesao corporal', 'Drogas', 'Furto', 'Furto qualificado',\n",
            "       'Lesao culposa por veiculo', 'Homicidio', 'Estupro de vulneravel',\n",
            "       'Homicidio qualificado', 'Estupro', 'Homicidio culposo por veiculo',\n",
            "       'Lesao corporal de natureza GRAVE', 'Lesao corporal seguida de morte',\n",
            "       'Homicidio culposo'],\n",
            "      dtype='object')}\n"
          ],
          "name": "stdout"
        }
      ]
    },
    {
      "cell_type": "markdown",
      "metadata": {
        "id": "cnnoFx7hDBT3"
      },
      "source": [
        "## codigo 1"
      ]
    },
    {
      "cell_type": "code",
      "metadata": {
        "id": "C0k7dFXyCPLN"
      },
      "source": [
        "def quantidades_rubrica_por_cidade():\r\n",
        "  \r\n",
        "  for x in \r\n",
        "  valores = data['RUBRICA'].value_counts()\r\n",
        "  print(valores['Roubo'])"
      ],
      "execution_count": null,
      "outputs": []
    },
    {
      "cell_type": "markdown",
      "metadata": {
        "id": "aAFPv0SrDDhh"
      },
      "source": [
        "## codigo 2"
      ]
    },
    {
      "cell_type": "code",
      "metadata": {
        "colab": {
          "base_uri": "https://localhost:8080/",
          "height": 311
        },
        "id": "ec-Vf7R5DGK_",
        "outputId": "105e745a-da4f-4aad-bcf7-5ae8d3951fee"
      },
      "source": [
        "valores = data['RUBRICA'].value_counts()\r\n",
        "\r\n"
      ],
      "execution_count": 110,
      "outputs": [
        {
          "output_type": "error",
          "ename": "IndexError",
          "evalue": "ignored",
          "traceback": [
            "\u001b[0;31m---------------------------------------------------------------------------\u001b[0m",
            "\u001b[0;31mIndexError\u001b[0m                                Traceback (most recent call last)",
            "\u001b[0;32m<ipython-input-110-c1dc5a83e5f3>\u001b[0m in \u001b[0;36m<module>\u001b[0;34m()\u001b[0m\n\u001b[1;32m     15\u001b[0m \u001b[0;34m\u001b[0m\u001b[0m\n\u001b[1;32m     16\u001b[0m \u001b[0;34m\u001b[0m\u001b[0m\n\u001b[0;32m---> 17\u001b[0;31m \u001b[0mr\u001b[0m \u001b[0;34m=\u001b[0m \u001b[0mencontrar\u001b[0m\u001b[0;34m(\u001b[0m\u001b[0;34m'Roubo'\u001b[0m\u001b[0;34m)\u001b[0m\u001b[0;34m\u001b[0m\u001b[0;34m\u001b[0m\u001b[0m\n\u001b[0m",
            "\u001b[0;32m<ipython-input-110-c1dc5a83e5f3>\u001b[0m in \u001b[0;36mencontrar\u001b[0;34m(elemento)\u001b[0m\n\u001b[1;32m      7\u001b[0m     \u001b[0;32mfor\u001b[0m \u001b[0mi\u001b[0m \u001b[0;32min\u001b[0m \u001b[0mrange\u001b[0m \u001b[0;34m(\u001b[0m\u001b[0mlen\u001b[0m\u001b[0;34m(\u001b[0m\u001b[0mlista\u001b[0m\u001b[0;34m)\u001b[0m\u001b[0;34m)\u001b[0m\u001b[0;34m:\u001b[0m \u001b[0;31m# procurar em todas as listas internas\u001b[0m\u001b[0;34m\u001b[0m\u001b[0;34m\u001b[0m\u001b[0m\n\u001b[1;32m      8\u001b[0m         \u001b[0;32mfor\u001b[0m \u001b[0mj\u001b[0m \u001b[0;32min\u001b[0m \u001b[0mrange\u001b[0m \u001b[0;34m(\u001b[0m\u001b[0mi\u001b[0m\u001b[0;34m)\u001b[0m\u001b[0;34m:\u001b[0m \u001b[0;31m# procurar em todos os elementos nessa lista\u001b[0m\u001b[0;34m\u001b[0m\u001b[0;34m\u001b[0m\u001b[0m\n\u001b[0;32m----> 9\u001b[0;31m             \u001b[0;32mif\u001b[0m \u001b[0melemento\u001b[0m \u001b[0;32min\u001b[0m \u001b[0mlista\u001b[0m\u001b[0;34m[\u001b[0m\u001b[0mi\u001b[0m\u001b[0;34m]\u001b[0m\u001b[0;34m[\u001b[0m\u001b[0mj\u001b[0m\u001b[0;34m]\u001b[0m\u001b[0;34m:\u001b[0m \u001b[0;31m# se encontrarmos elemento ('ana')\u001b[0m\u001b[0;34m\u001b[0m\u001b[0;34m\u001b[0m\u001b[0m\n\u001b[0m\u001b[1;32m     10\u001b[0m                 \u001b[0mpos_i\u001b[0m \u001b[0;34m=\u001b[0m \u001b[0mi\u001b[0m \u001b[0;31m# guardamos o índice i\u001b[0m\u001b[0;34m\u001b[0m\u001b[0;34m\u001b[0m\u001b[0m\n\u001b[1;32m     11\u001b[0m                 \u001b[0mpos_j\u001b[0m \u001b[0;34m=\u001b[0m \u001b[0mj\u001b[0m \u001b[0;31m# e o índice j\u001b[0m\u001b[0;34m\u001b[0m\u001b[0;34m\u001b[0m\u001b[0m\n",
            "\u001b[0;31mIndexError\u001b[0m: invalid index to scalar variable."
          ]
        }
      ]
    },
    {
      "cell_type": "markdown",
      "metadata": {
        "id": "r11-e0r0BUNa"
      },
      "source": [
        "# 4.2 **rotas**"
      ]
    },
    {
      "cell_type": "code",
      "metadata": {
        "colab": {
          "base_uri": "https://localhost:8080/"
        },
        "id": "ZC-CiHgJhSpB",
        "outputId": "35b0c41e-7a73-496f-9a6b-91a27a68b98f"
      },
      "source": [
        "from flask import Flask, render_template\r\n",
        "from flask_ngrok import run_with_ngrok\r\n",
        "\r\n",
        "app = Flask(__name__)\r\n",
        "run_with_ngrok(app)  # Start ngrok when app is run\r\n",
        "\r\n",
        "@app.route(\"/\")\r\n",
        "def hello():\r\n",
        "    return \"hello\"\r\n",
        "\r\n",
        "@app.route(\"/mapa\")\r\n",
        "def mapa():\r\n",
        "  return render_template('image.html')\r\n",
        "\r\n",
        "@app.route(\"/cidades/perigosas\")\r\n",
        "def cidade_perigosas():\r\n",
        "  return '{\"1\":1000}'\r\n",
        "\r\n",
        "if __name__ == '__main__':\r\n",
        "    app.run()"
      ],
      "execution_count": 108,
      "outputs": [
        {
          "output_type": "stream",
          "text": [
            " * Serving Flask app \"__main__\" (lazy loading)\n",
            " * Environment: production\n",
            "\u001b[31m   WARNING: This is a development server. Do not use it in a production deployment.\u001b[0m\n",
            "\u001b[2m   Use a production WSGI server instead.\u001b[0m\n",
            " * Debug mode: off\n"
          ],
          "name": "stdout"
        },
        {
          "output_type": "stream",
          "text": [
            " * Running on http://127.0.0.1:5000/ (Press CTRL+C to quit)\n"
          ],
          "name": "stderr"
        },
        {
          "output_type": "stream",
          "text": [
            " * Running on http://b93246ce5fc5.ngrok.io\n",
            " * Traffic stats available on http://127.0.0.1:4040\n"
          ],
          "name": "stdout"
        },
        {
          "output_type": "stream",
          "text": [
            "127.0.0.1 - - [12/Jan/2021 23:55:38] \"\u001b[37mGET / HTTP/1.1\u001b[0m\" 200 -\n",
            "127.0.0.1 - - [12/Jan/2021 23:55:42] \"\u001b[33mGET /favicon.ico HTTP/1.1\u001b[0m\" 404 -\n",
            "127.0.0.1 - - [12/Jan/2021 23:55:50] \"\u001b[37mGET /cidades/perigosas HTTP/1.1\u001b[0m\" 200 -\n"
          ],
          "name": "stderr"
        }
      ]
    },
    {
      "cell_type": "markdown",
      "metadata": {
        "id": "sXyhLxMMzLN9"
      },
      "source": [
        "# **5. Preparando os dados para o modelo de predição**"
      ]
    },
    {
      "cell_type": "code",
      "metadata": {
        "id": "g-ubGjcmwB4i"
      },
      "source": [
        "le = preprocessing.LabelEncoder()\r\n",
        "le.fit(data['HORA_OCORRENCIA_BO'])\r\n",
        "data['HORA_OCORRENCIA_BO'] = le.transform(data['HORA_OCORRENCIA_BO'])"
      ],
      "execution_count": null,
      "outputs": []
    },
    {
      "cell_type": "code",
      "metadata": {
        "id": "KahPX9t4yoH4"
      },
      "source": [
        "le = preprocessing.LabelEncoder()\r\n",
        "le.fit(data['ID_DELEGACIA'])\r\n",
        "data['ID_DELEGACIA'] = le.transform(data['ID_DELEGACIA'])"
      ],
      "execution_count": null,
      "outputs": []
    },
    {
      "cell_type": "code",
      "metadata": {
        "id": "twJtcfltyomT"
      },
      "source": [
        "le = preprocessing.LabelEncoder()\r\n",
        "le.fit(data['CIDADE'])\r\n",
        "data['CIDADE'] = le.transform(data['CIDADE'])"
      ],
      "execution_count": null,
      "outputs": []
    },
    {
      "cell_type": "code",
      "metadata": {
        "id": "H0UnVp9fzWo2"
      },
      "source": [
        "le = preprocessing.LabelEncoder()\r\n",
        "le.fit(data['CONDUTA'])\r\n",
        "data['CONDUTA'] = le.transform(data['CONDUTA'])"
      ],
      "execution_count": null,
      "outputs": []
    },
    {
      "cell_type": "code",
      "metadata": {
        "id": "0hSDfAPrzj1n"
      },
      "source": [
        "le = preprocessing.LabelEncoder()\r\n",
        "le.fit(data['SEXO_PESSOA'])\r\n",
        "data['SEXO_PESSOA'] = le.transform(data['SEXO_PESSOA'])"
      ],
      "execution_count": null,
      "outputs": []
    },
    {
      "cell_type": "code",
      "metadata": {
        "id": "LDEl3awgzky1"
      },
      "source": [
        "le = preprocessing.LabelEncoder()\r\n",
        "le.fit(data['DESCR_PROFISSAO'])\r\n",
        "data['DESCR_PROFISSAO'] = le.transform(data['DESCR_PROFISSAO'])"
      ],
      "execution_count": null,
      "outputs": []
    },
    {
      "cell_type": "code",
      "metadata": {
        "id": "parqHI07zlUw"
      },
      "source": [
        "le = preprocessing.LabelEncoder()\r\n",
        "le.fit(data['RUBRICA'])\r\n",
        "data['RUBRICA'] = le.transform(data['RUBRICA'])"
      ],
      "execution_count": null,
      "outputs": []
    },
    {
      "cell_type": "markdown",
      "metadata": {
        "id": "MdabeWGW2cWG"
      },
      "source": [
        "#**5.1 Separando a variável alvo**"
      ]
    },
    {
      "cell_type": "code",
      "metadata": {
        "id": "i3l-SmCeZdr3"
      },
      "source": [
        "x = data[['HORA_OCORRENCIA_BO','ID_DELEGACIA','CIDADE','IDADE_PESSOA','CONDUTA','SEXO_PESSOA','DESCR_PROFISSAO']].copy()\r\n",
        "y = data[['CRIME']].copy()"
      ],
      "execution_count": null,
      "outputs": []
    },
    {
      "cell_type": "markdown",
      "metadata": {
        "id": "S8rZrWYt3NZl"
      },
      "source": [
        "#**5.2 Dividindo dados em teste e treinamento**"
      ]
    },
    {
      "cell_type": "code",
      "metadata": {
        "id": "TVDG-ZQr1_ya"
      },
      "source": [
        "x_train, x_test, y_train, y_test = train_test_split(x, y, test_size=0.33, random_state=3000)"
      ],
      "execution_count": null,
      "outputs": []
    },
    {
      "cell_type": "markdown",
      "metadata": {
        "id": "wVDYGO3j3Yus"
      },
      "source": [
        "#**5.3 Criando modelo de ML**"
      ]
    },
    {
      "cell_type": "code",
      "metadata": {
        "id": "zvHOjLQo2CSf"
      },
      "source": [
        "tipos_crimes_classifier = DecisionTreeClassifier(max_leaf_nodes=7000, random_state=1)\r\n",
        "tipos_crimes_classifier.fit(x_train, y_train)"
      ],
      "execution_count": null,
      "outputs": []
    },
    {
      "cell_type": "code",
      "metadata": {
        "id": "z6yTZkILjkry"
      },
      "source": [
        "print(tipos_crimes_classifier)"
      ],
      "execution_count": null,
      "outputs": []
    },
    {
      "cell_type": "markdown",
      "metadata": {
        "id": "yxelDTKk3fnO"
      },
      "source": [
        "#**6. Fazendo predição**"
      ]
    },
    {
      "cell_type": "code",
      "metadata": {
        "id": "sYhWxl1t2EWk"
      },
      "source": [
        "predictions = tipos_crimes_classifier.predict(x_test)\r\n",
        "print(predictions)"
      ],
      "execution_count": null,
      "outputs": []
    },
    {
      "cell_type": "markdown",
      "metadata": {
        "id": "u82xmTvq3v5Q"
      },
      "source": [
        "#**7. Testando acurácia**"
      ]
    },
    {
      "cell_type": "code",
      "metadata": {
        "id": "e5H_BaY92GQV"
      },
      "source": [
        "accuracy_score(y_true = y_test, y_pred = predictions)"
      ],
      "execution_count": null,
      "outputs": []
    }
  ]
}